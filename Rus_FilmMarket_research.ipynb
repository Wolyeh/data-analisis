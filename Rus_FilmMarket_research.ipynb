{
 "cells": [
  {
   "cell_type": "markdown",
   "metadata": {
    "id": "sIfNaMOxgFyK"
   },
   "source": [
    "## Исследование данных о российском кинопрокате\n",
    "\n"
   ]
  },
  {
   "cell_type": "markdown",
   "metadata": {},
   "source": [
    "Описание проекта:\n",
    "\n",
    "Иследование проводится с целью изучения рынка российского кинопроката. Особое внимание будет уделенно фильмам с поддержкой от государства. Будет изучен интерес зрителей к таким фильмам.\n",
    "\n",
    "Данные предоставленны порталом открытых данных Министерства культуры.\n",
    "\n",
    "В наборе начальных данных содержится два датафрейма в первом находится иформацию о прокатных удостоверениях, сборах и государственной поддержке фильмов, а также информацию с сайта КиноПоиск.\n",
    "Во втором хранится информация о кассовых сборах фильмов с определенными прокатными номерами."
   ]
  },
  {
   "cell_type": "markdown",
   "metadata": {
    "id": "3bSlkCsbgFyL",
    "tags": []
   },
   "source": [
    "### Шаг 1. Открытие файлов с данными и объедините их в один датафрейм. "
   ]
  },
  {
   "cell_type": "code",
   "execution_count": 1,
   "metadata": {
    "id": "dw87FlzMgFyM"
   },
   "outputs": [],
   "source": [
    "import pandas as pd\n",
    "import matplotlib.pyplot as plt\n",
    "\n",
    "pd.set_option('display.float_format', '{:,.2f}'.format)\n",
    "\n",
    "data1 = pd.read_csv('/datasets/mkrf_movies.csv')\n",
    "data2 = pd.read_csv('/datasets/mkrf_shows.csv')"
   ]
  },
  {
   "cell_type": "code",
   "execution_count": 2,
   "metadata": {
    "scrolled": true
   },
   "outputs": [
    {
     "name": "stdout",
     "output_type": "stream",
     "text": [
      "<class 'pandas.core.frame.DataFrame'>\n",
      "\n",
      "RangeIndex: 7486 entries, 0 to 7485\n",
      "\n",
      "Data columns (total 15 columns):\n",
      "\n",
      " #   Column                 Non-Null Count  Dtype  \n",
      "\n",
      "---  ------                 --------------  -----  \n",
      "\n",
      " 0   title                  7486 non-null   object \n",
      "\n",
      " 1   puNumber               7486 non-null   object \n",
      "\n",
      " 2   show_start_date        7486 non-null   object \n",
      "\n",
      " 3   type                   7486 non-null   object \n",
      "\n",
      " 4   film_studio            7468 non-null   object \n",
      "\n",
      " 5   production_country     7484 non-null   object \n",
      "\n",
      " 6   director               7477 non-null   object \n",
      "\n",
      " 7   producer               6918 non-null   object \n",
      "\n",
      " 8   age_restriction        7486 non-null   object \n",
      "\n",
      " 9   refundable_support     332 non-null    float64\n",
      "\n",
      " 10  nonrefundable_support  332 non-null    float64\n",
      "\n",
      " 11  budget                 332 non-null    float64\n",
      "\n",
      " 12  financing_source       332 non-null    object \n",
      "\n",
      " 13  ratings                6519 non-null   object \n",
      "\n",
      " 14  genres                 6510 non-null   object \n",
      "\n",
      "dtypes: float64(3), object(12)\n",
      "\n",
      "memory usage: 877.4+ KB\n"
     ]
    }
   ],
   "source": [
    "data1.info()\n"
   ]
  },
  {
   "cell_type": "code",
   "execution_count": 3,
   "metadata": {},
   "outputs": [
    {
     "data": {
      "text/html": [
       "<div>\n",
       "<style scoped>\n",
       "    .dataframe tbody tr th:only-of-type {\n",
       "        vertical-align: middle;\n",
       "    }\n",
       "\n",
       "    .dataframe tbody tr th {\n",
       "        vertical-align: top;\n",
       "    }\n",
       "\n",
       "    .dataframe thead th {\n",
       "        text-align: right;\n",
       "    }\n",
       "</style>\n",
       "<table border=\"1\" class=\"dataframe\">\n",
       "  <thead>\n",
       "    <tr style=\"text-align: right;\">\n",
       "      <th></th>\n",
       "      <th>title</th>\n",
       "      <th>puNumber</th>\n",
       "      <th>show_start_date</th>\n",
       "      <th>type</th>\n",
       "      <th>film_studio</th>\n",
       "      <th>production_country</th>\n",
       "      <th>director</th>\n",
       "      <th>producer</th>\n",
       "      <th>age_restriction</th>\n",
       "      <th>refundable_support</th>\n",
       "      <th>nonrefundable_support</th>\n",
       "      <th>budget</th>\n",
       "      <th>financing_source</th>\n",
       "      <th>ratings</th>\n",
       "      <th>genres</th>\n",
       "    </tr>\n",
       "  </thead>\n",
       "  <tbody>\n",
       "    <tr>\n",
       "      <th>0</th>\n",
       "      <td>Открытый простор</td>\n",
       "      <td>221048915</td>\n",
       "      <td>2015-11-27T12:00:00.000Z</td>\n",
       "      <td>Художественный</td>\n",
       "      <td>Тачстоун Пикчерз, Кобальт Пикчерз, Бикон Пикче...</td>\n",
       "      <td>США</td>\n",
       "      <td>Кевин Костнер</td>\n",
       "      <td>Дэвид Валдес, Кевин Костнер, Джейк Эбертс</td>\n",
       "      <td>«18+» - запрещено для детей</td>\n",
       "      <td>NaN</td>\n",
       "      <td>NaN</td>\n",
       "      <td>NaN</td>\n",
       "      <td>NaN</td>\n",
       "      <td>7.2</td>\n",
       "      <td>боевик,драма,мелодрама</td>\n",
       "    </tr>\n",
       "    <tr>\n",
       "      <th>1</th>\n",
       "      <td>Особо важное задание</td>\n",
       "      <td>111013716</td>\n",
       "      <td>2016-09-13T12:00:00.000Z</td>\n",
       "      <td>Художественный</td>\n",
       "      <td>Киностудия \"Мосфильм\"</td>\n",
       "      <td>СССР</td>\n",
       "      <td>Е.Матвеев</td>\n",
       "      <td>NaN</td>\n",
       "      <td>«6+» - для детей старше 6 лет</td>\n",
       "      <td>NaN</td>\n",
       "      <td>NaN</td>\n",
       "      <td>NaN</td>\n",
       "      <td>NaN</td>\n",
       "      <td>6.6</td>\n",
       "      <td>драма,военный</td>\n",
       "    </tr>\n",
       "    <tr>\n",
       "      <th>2</th>\n",
       "      <td>Особо опасен</td>\n",
       "      <td>221038416</td>\n",
       "      <td>2016-10-10T12:00:00.000Z</td>\n",
       "      <td>Художественный</td>\n",
       "      <td>Юниверсал Пикчерз, Кикстарт Продакшнз, Марк Пл...</td>\n",
       "      <td>США</td>\n",
       "      <td>Тимур Бекмамбетов</td>\n",
       "      <td>Джим Лемли, Джейсон Нетер, Марк Е.Платт, Яйн Смит</td>\n",
       "      <td>«18+» - запрещено для детей</td>\n",
       "      <td>NaN</td>\n",
       "      <td>NaN</td>\n",
       "      <td>NaN</td>\n",
       "      <td>NaN</td>\n",
       "      <td>6.8</td>\n",
       "      <td>фантастика,боевик,триллер</td>\n",
       "    </tr>\n",
       "    <tr>\n",
       "      <th>3</th>\n",
       "      <td>Особо опасен</td>\n",
       "      <td>221026916</td>\n",
       "      <td>2016-06-10T12:00:00.000Z</td>\n",
       "      <td>Художественный</td>\n",
       "      <td>Юниверсал Пикчерз, Кикстарт Продакшнз, Марк Пл...</td>\n",
       "      <td>США</td>\n",
       "      <td>Тимур Бекмамбетов</td>\n",
       "      <td>Джим Лемли, Джейсон Нетер, Марк Е.Платт, Яйн Смит</td>\n",
       "      <td>«18+» - запрещено для детей</td>\n",
       "      <td>NaN</td>\n",
       "      <td>NaN</td>\n",
       "      <td>NaN</td>\n",
       "      <td>NaN</td>\n",
       "      <td>6.8</td>\n",
       "      <td>фантастика,боевик,триллер</td>\n",
       "    </tr>\n",
       "    <tr>\n",
       "      <th>4</th>\n",
       "      <td>Особо опасен</td>\n",
       "      <td>221030815</td>\n",
       "      <td>2015-07-29T12:00:00.000Z</td>\n",
       "      <td>Художественный</td>\n",
       "      <td>Юниверсал Пикчерз, Кикстарт Продакшнз, Марк Пл...</td>\n",
       "      <td>США</td>\n",
       "      <td>Тимур Бекмамбетов</td>\n",
       "      <td>Джим Лемли, Джейсон Нетер, Марк Е.Платт, Яйн Смит</td>\n",
       "      <td>«18+» - запрещено для детей</td>\n",
       "      <td>NaN</td>\n",
       "      <td>NaN</td>\n",
       "      <td>NaN</td>\n",
       "      <td>NaN</td>\n",
       "      <td>6.8</td>\n",
       "      <td>фантастика,боевик,триллер</td>\n",
       "    </tr>\n",
       "  </tbody>\n",
       "</table>\n",
       "</div>"
      ],
      "text/plain": [
       "                  title   puNumber           show_start_date            type  \\\n",
       "0      Открытый простор  221048915  2015-11-27T12:00:00.000Z  Художественный   \n",
       "1  Особо важное задание  111013716  2016-09-13T12:00:00.000Z  Художественный   \n",
       "2          Особо опасен  221038416  2016-10-10T12:00:00.000Z  Художественный   \n",
       "3          Особо опасен  221026916  2016-06-10T12:00:00.000Z  Художественный   \n",
       "4          Особо опасен  221030815  2015-07-29T12:00:00.000Z  Художественный   \n",
       "\n",
       "                                         film_studio production_country  \\\n",
       "0  Тачстоун Пикчерз, Кобальт Пикчерз, Бикон Пикче...                США   \n",
       "1                              Киностудия \"Мосфильм\"               СССР   \n",
       "2  Юниверсал Пикчерз, Кикстарт Продакшнз, Марк Пл...                США   \n",
       "3  Юниверсал Пикчерз, Кикстарт Продакшнз, Марк Пл...                США   \n",
       "4  Юниверсал Пикчерз, Кикстарт Продакшнз, Марк Пл...                США   \n",
       "\n",
       "            director                                           producer  \\\n",
       "0      Кевин Костнер          Дэвид Валдес, Кевин Костнер, Джейк Эбертс   \n",
       "1          Е.Матвеев                                                NaN   \n",
       "2  Тимур Бекмамбетов  Джим Лемли, Джейсон Нетер, Марк Е.Платт, Яйн Смит   \n",
       "3  Тимур Бекмамбетов  Джим Лемли, Джейсон Нетер, Марк Е.Платт, Яйн Смит   \n",
       "4  Тимур Бекмамбетов  Джим Лемли, Джейсон Нетер, Марк Е.Платт, Яйн Смит   \n",
       "\n",
       "                 age_restriction  refundable_support  nonrefundable_support  \\\n",
       "0    «18+» - запрещено для детей                 NaN                    NaN   \n",
       "1  «6+» - для детей старше 6 лет                 NaN                    NaN   \n",
       "2    «18+» - запрещено для детей                 NaN                    NaN   \n",
       "3    «18+» - запрещено для детей                 NaN                    NaN   \n",
       "4    «18+» - запрещено для детей                 NaN                    NaN   \n",
       "\n",
       "   budget financing_source ratings                     genres  \n",
       "0     NaN              NaN     7.2     боевик,драма,мелодрама  \n",
       "1     NaN              NaN     6.6              драма,военный  \n",
       "2     NaN              NaN     6.8  фантастика,боевик,триллер  \n",
       "3     NaN              NaN     6.8  фантастика,боевик,триллер  \n",
       "4     NaN              NaN     6.8  фантастика,боевик,триллер  "
      ]
     },
     "execution_count": 3,
     "metadata": {},
     "output_type": "execute_result"
    }
   ],
   "source": [
    "data1.head()"
   ]
  },
  {
   "cell_type": "code",
   "execution_count": 4,
   "metadata": {},
   "outputs": [
    {
     "data": {
      "text/html": [
       "<div>\n",
       "<style scoped>\n",
       "    .dataframe tbody tr th:only-of-type {\n",
       "        vertical-align: middle;\n",
       "    }\n",
       "\n",
       "    .dataframe tbody tr th {\n",
       "        vertical-align: top;\n",
       "    }\n",
       "\n",
       "    .dataframe thead th {\n",
       "        text-align: right;\n",
       "    }\n",
       "</style>\n",
       "<table border=\"1\" class=\"dataframe\">\n",
       "  <thead>\n",
       "    <tr style=\"text-align: right;\">\n",
       "      <th></th>\n",
       "      <th>title</th>\n",
       "      <th>puNumber</th>\n",
       "      <th>show_start_date</th>\n",
       "      <th>type</th>\n",
       "      <th>film_studio</th>\n",
       "      <th>production_country</th>\n",
       "      <th>director</th>\n",
       "      <th>producer</th>\n",
       "      <th>age_restriction</th>\n",
       "      <th>refundable_support</th>\n",
       "      <th>nonrefundable_support</th>\n",
       "      <th>budget</th>\n",
       "      <th>financing_source</th>\n",
       "      <th>ratings</th>\n",
       "      <th>genres</th>\n",
       "    </tr>\n",
       "  </thead>\n",
       "  <tbody>\n",
       "    <tr>\n",
       "      <th>0</th>\n",
       "      <td>Открытый простор</td>\n",
       "      <td>221048915</td>\n",
       "      <td>2015-11-27T12:00:00.000Z</td>\n",
       "      <td>Художественный</td>\n",
       "      <td>Тачстоун Пикчерз, Кобальт Пикчерз, Бикон Пикче...</td>\n",
       "      <td>США</td>\n",
       "      <td>Кевин Костнер</td>\n",
       "      <td>Дэвид Валдес, Кевин Костнер, Джейк Эбертс</td>\n",
       "      <td>«18+» - запрещено для детей</td>\n",
       "      <td>NaN</td>\n",
       "      <td>NaN</td>\n",
       "      <td>NaN</td>\n",
       "      <td>NaN</td>\n",
       "      <td>7.2</td>\n",
       "      <td>боевик,драма,мелодрама</td>\n",
       "    </tr>\n",
       "    <tr>\n",
       "      <th>1</th>\n",
       "      <td>Особо важное задание</td>\n",
       "      <td>111013716</td>\n",
       "      <td>2016-09-13T12:00:00.000Z</td>\n",
       "      <td>Художественный</td>\n",
       "      <td>Киностудия \"Мосфильм\"</td>\n",
       "      <td>СССР</td>\n",
       "      <td>Е.Матвеев</td>\n",
       "      <td>NaN</td>\n",
       "      <td>«6+» - для детей старше 6 лет</td>\n",
       "      <td>NaN</td>\n",
       "      <td>NaN</td>\n",
       "      <td>NaN</td>\n",
       "      <td>NaN</td>\n",
       "      <td>6.6</td>\n",
       "      <td>драма,военный</td>\n",
       "    </tr>\n",
       "    <tr>\n",
       "      <th>2</th>\n",
       "      <td>Особо опасен</td>\n",
       "      <td>221038416</td>\n",
       "      <td>2016-10-10T12:00:00.000Z</td>\n",
       "      <td>Художественный</td>\n",
       "      <td>Юниверсал Пикчерз, Кикстарт Продакшнз, Марк Пл...</td>\n",
       "      <td>США</td>\n",
       "      <td>Тимур Бекмамбетов</td>\n",
       "      <td>Джим Лемли, Джейсон Нетер, Марк Е.Платт, Яйн Смит</td>\n",
       "      <td>«18+» - запрещено для детей</td>\n",
       "      <td>NaN</td>\n",
       "      <td>NaN</td>\n",
       "      <td>NaN</td>\n",
       "      <td>NaN</td>\n",
       "      <td>6.8</td>\n",
       "      <td>фантастика,боевик,триллер</td>\n",
       "    </tr>\n",
       "    <tr>\n",
       "      <th>3</th>\n",
       "      <td>Особо опасен</td>\n",
       "      <td>221026916</td>\n",
       "      <td>2016-06-10T12:00:00.000Z</td>\n",
       "      <td>Художественный</td>\n",
       "      <td>Юниверсал Пикчерз, Кикстарт Продакшнз, Марк Пл...</td>\n",
       "      <td>США</td>\n",
       "      <td>Тимур Бекмамбетов</td>\n",
       "      <td>Джим Лемли, Джейсон Нетер, Марк Е.Платт, Яйн Смит</td>\n",
       "      <td>«18+» - запрещено для детей</td>\n",
       "      <td>NaN</td>\n",
       "      <td>NaN</td>\n",
       "      <td>NaN</td>\n",
       "      <td>NaN</td>\n",
       "      <td>6.8</td>\n",
       "      <td>фантастика,боевик,триллер</td>\n",
       "    </tr>\n",
       "    <tr>\n",
       "      <th>4</th>\n",
       "      <td>Особо опасен</td>\n",
       "      <td>221030815</td>\n",
       "      <td>2015-07-29T12:00:00.000Z</td>\n",
       "      <td>Художественный</td>\n",
       "      <td>Юниверсал Пикчерз, Кикстарт Продакшнз, Марк Пл...</td>\n",
       "      <td>США</td>\n",
       "      <td>Тимур Бекмамбетов</td>\n",
       "      <td>Джим Лемли, Джейсон Нетер, Марк Е.Платт, Яйн Смит</td>\n",
       "      <td>«18+» - запрещено для детей</td>\n",
       "      <td>NaN</td>\n",
       "      <td>NaN</td>\n",
       "      <td>NaN</td>\n",
       "      <td>NaN</td>\n",
       "      <td>6.8</td>\n",
       "      <td>фантастика,боевик,триллер</td>\n",
       "    </tr>\n",
       "  </tbody>\n",
       "</table>\n",
       "</div>"
      ],
      "text/plain": [
       "                  title   puNumber           show_start_date            type  \\\n",
       "0      Открытый простор  221048915  2015-11-27T12:00:00.000Z  Художественный   \n",
       "1  Особо важное задание  111013716  2016-09-13T12:00:00.000Z  Художественный   \n",
       "2          Особо опасен  221038416  2016-10-10T12:00:00.000Z  Художественный   \n",
       "3          Особо опасен  221026916  2016-06-10T12:00:00.000Z  Художественный   \n",
       "4          Особо опасен  221030815  2015-07-29T12:00:00.000Z  Художественный   \n",
       "\n",
       "                                         film_studio production_country  \\\n",
       "0  Тачстоун Пикчерз, Кобальт Пикчерз, Бикон Пикче...                США   \n",
       "1                              Киностудия \"Мосфильм\"               СССР   \n",
       "2  Юниверсал Пикчерз, Кикстарт Продакшнз, Марк Пл...                США   \n",
       "3  Юниверсал Пикчерз, Кикстарт Продакшнз, Марк Пл...                США   \n",
       "4  Юниверсал Пикчерз, Кикстарт Продакшнз, Марк Пл...                США   \n",
       "\n",
       "            director                                           producer  \\\n",
       "0      Кевин Костнер          Дэвид Валдес, Кевин Костнер, Джейк Эбертс   \n",
       "1          Е.Матвеев                                                NaN   \n",
       "2  Тимур Бекмамбетов  Джим Лемли, Джейсон Нетер, Марк Е.Платт, Яйн Смит   \n",
       "3  Тимур Бекмамбетов  Джим Лемли, Джейсон Нетер, Марк Е.Платт, Яйн Смит   \n",
       "4  Тимур Бекмамбетов  Джим Лемли, Джейсон Нетер, Марк Е.Платт, Яйн Смит   \n",
       "\n",
       "                 age_restriction  refundable_support  nonrefundable_support  \\\n",
       "0    «18+» - запрещено для детей                 NaN                    NaN   \n",
       "1  «6+» - для детей старше 6 лет                 NaN                    NaN   \n",
       "2    «18+» - запрещено для детей                 NaN                    NaN   \n",
       "3    «18+» - запрещено для детей                 NaN                    NaN   \n",
       "4    «18+» - запрещено для детей                 NaN                    NaN   \n",
       "\n",
       "   budget financing_source ratings                     genres  \n",
       "0     NaN              NaN     7.2     боевик,драма,мелодрама  \n",
       "1     NaN              NaN     6.6              драма,военный  \n",
       "2     NaN              NaN     6.8  фантастика,боевик,триллер  \n",
       "3     NaN              NaN     6.8  фантастика,боевик,триллер  \n",
       "4     NaN              NaN     6.8  фантастика,боевик,триллер  "
      ]
     },
     "execution_count": 4,
     "metadata": {},
     "output_type": "execute_result"
    }
   ],
   "source": [
    "data1.head()"
   ]
  },
  {
   "cell_type": "code",
   "execution_count": 5,
   "metadata": {},
   "outputs": [
    {
     "name": "stdout",
     "output_type": "stream",
     "text": [
      "<class 'pandas.core.frame.DataFrame'>\n",
      "\n",
      "RangeIndex: 3158 entries, 0 to 3157\n",
      "\n",
      "Data columns (total 2 columns):\n",
      "\n",
      " #   Column      Non-Null Count  Dtype  \n",
      "\n",
      "---  ------      --------------  -----  \n",
      "\n",
      " 0   puNumber    3158 non-null   int64  \n",
      "\n",
      " 1   box_office  3158 non-null   float64\n",
      "\n",
      "dtypes: float64(1), int64(1)\n",
      "\n",
      "memory usage: 49.5 KB\n"
     ]
    }
   ],
   "source": [
    "data2.info()\n"
   ]
  },
  {
   "cell_type": "code",
   "execution_count": 6,
   "metadata": {},
   "outputs": [
    {
     "data": {
      "text/html": [
       "<div>\n",
       "<style scoped>\n",
       "    .dataframe tbody tr th:only-of-type {\n",
       "        vertical-align: middle;\n",
       "    }\n",
       "\n",
       "    .dataframe tbody tr th {\n",
       "        vertical-align: top;\n",
       "    }\n",
       "\n",
       "    .dataframe thead th {\n",
       "        text-align: right;\n",
       "    }\n",
       "</style>\n",
       "<table border=\"1\" class=\"dataframe\">\n",
       "  <thead>\n",
       "    <tr style=\"text-align: right;\">\n",
       "      <th></th>\n",
       "      <th>puNumber</th>\n",
       "      <th>box_office</th>\n",
       "    </tr>\n",
       "  </thead>\n",
       "  <tbody>\n",
       "    <tr>\n",
       "      <th>0</th>\n",
       "      <td>111000113</td>\n",
       "      <td>2,450.00</td>\n",
       "    </tr>\n",
       "    <tr>\n",
       "      <th>1</th>\n",
       "      <td>111000115</td>\n",
       "      <td>61,040.00</td>\n",
       "    </tr>\n",
       "    <tr>\n",
       "      <th>2</th>\n",
       "      <td>111000116</td>\n",
       "      <td>153,030,013.40</td>\n",
       "    </tr>\n",
       "    <tr>\n",
       "      <th>3</th>\n",
       "      <td>111000117</td>\n",
       "      <td>12,260,956.00</td>\n",
       "    </tr>\n",
       "    <tr>\n",
       "      <th>4</th>\n",
       "      <td>111000118</td>\n",
       "      <td>163,684,057.79</td>\n",
       "    </tr>\n",
       "  </tbody>\n",
       "</table>\n",
       "</div>"
      ],
      "text/plain": [
       "    puNumber     box_office\n",
       "0  111000113       2,450.00\n",
       "1  111000115      61,040.00\n",
       "2  111000116 153,030,013.40\n",
       "3  111000117  12,260,956.00\n",
       "4  111000118 163,684,057.79"
      ]
     },
     "execution_count": 6,
     "metadata": {},
     "output_type": "execute_result"
    }
   ],
   "source": [
    "data2.head()"
   ]
  },
  {
   "cell_type": "code",
   "execution_count": 7,
   "metadata": {},
   "outputs": [],
   "source": [
    "#data1['puNumber'] = data1['puNumber'].astype(\"int\")\n",
    "#выдает ошибку, встречено текстовое значение"
   ]
  },
  {
   "cell_type": "code",
   "execution_count": 8,
   "metadata": {
    "scrolled": true
   },
   "outputs": [
    {
     "data": {
      "text/html": [
       "<div>\n",
       "<style scoped>\n",
       "    .dataframe tbody tr th:only-of-type {\n",
       "        vertical-align: middle;\n",
       "    }\n",
       "\n",
       "    .dataframe tbody tr th {\n",
       "        vertical-align: top;\n",
       "    }\n",
       "\n",
       "    .dataframe thead th {\n",
       "        text-align: right;\n",
       "    }\n",
       "</style>\n",
       "<table border=\"1\" class=\"dataframe\">\n",
       "  <thead>\n",
       "    <tr style=\"text-align: right;\">\n",
       "      <th></th>\n",
       "      <th>title</th>\n",
       "      <th>puNumber</th>\n",
       "      <th>show_start_date</th>\n",
       "      <th>type</th>\n",
       "      <th>film_studio</th>\n",
       "      <th>production_country</th>\n",
       "      <th>director</th>\n",
       "      <th>producer</th>\n",
       "      <th>age_restriction</th>\n",
       "      <th>refundable_support</th>\n",
       "      <th>nonrefundable_support</th>\n",
       "      <th>budget</th>\n",
       "      <th>financing_source</th>\n",
       "      <th>ratings</th>\n",
       "      <th>genres</th>\n",
       "    </tr>\n",
       "  </thead>\n",
       "  <tbody>\n",
       "    <tr>\n",
       "      <th>1797</th>\n",
       "      <td>Курбан-роман. (История с жертвой)</td>\n",
       "      <td>нет</td>\n",
       "      <td>2014-05-15T12:00:00.000Z</td>\n",
       "      <td>Художественный</td>\n",
       "      <td>ФОНД \"ИННОВАЦИЯ\"</td>\n",
       "      <td>Россия</td>\n",
       "      <td>С.Юзеев</td>\n",
       "      <td>М.Галицкая</td>\n",
       "      <td>«12+» - для детей старше 12 лет</td>\n",
       "      <td>NaN</td>\n",
       "      <td>NaN</td>\n",
       "      <td>NaN</td>\n",
       "      <td>NaN</td>\n",
       "      <td>NaN</td>\n",
       "      <td>NaN</td>\n",
       "    </tr>\n",
       "  </tbody>\n",
       "</table>\n",
       "</div>"
      ],
      "text/plain": [
       "                                  title puNumber           show_start_date  \\\n",
       "1797  Курбан-роман. (История с жертвой)      нет  2014-05-15T12:00:00.000Z   \n",
       "\n",
       "                type       film_studio production_country director  \\\n",
       "1797  Художественный  ФОНД \"ИННОВАЦИЯ\"             Россия  С.Юзеев   \n",
       "\n",
       "        producer                  age_restriction  refundable_support  \\\n",
       "1797  М.Галицкая  «12+» - для детей старше 12 лет                 NaN   \n",
       "\n",
       "      nonrefundable_support  budget financing_source ratings genres  \n",
       "1797                    NaN     NaN              NaN     NaN    NaN  "
      ]
     },
     "execution_count": 8,
     "metadata": {},
     "output_type": "execute_result"
    }
   ],
   "source": [
    "data1.query('puNumber == \"нет\"')"
   ]
  },
  {
   "cell_type": "code",
   "execution_count": 9,
   "metadata": {},
   "outputs": [],
   "source": [
    "data1 = data1.query('puNumber != \"нет\"')"
   ]
  },
  {
   "cell_type": "markdown",
   "metadata": {},
   "source": [
    "\n",
    "Удаление записи без с значением \"нет\" в столбце puNumber первого датафрейма"
   ]
  },
  {
   "cell_type": "code",
   "execution_count": 10,
   "metadata": {},
   "outputs": [],
   "source": [
    "data1['puNumber'] = data1['puNumber'].astype(\"int\")"
   ]
  },
  {
   "cell_type": "code",
   "execution_count": 11,
   "metadata": {
    "scrolled": true
   },
   "outputs": [],
   "source": [
    "data = data1.merge(data2, on='puNumber', how='left')"
   ]
  },
  {
   "cell_type": "code",
   "execution_count": 12,
   "metadata": {},
   "outputs": [],
   "source": [
    "data = data.rename(columns={'puNumber' : 'pu_number'})"
   ]
  },
  {
   "cell_type": "code",
   "execution_count": 13,
   "metadata": {},
   "outputs": [
    {
     "name": "stdout",
     "output_type": "stream",
     "text": [
      "<class 'pandas.core.frame.DataFrame'>\n",
      "\n",
      "Int64Index: 7485 entries, 0 to 7484\n",
      "\n",
      "Data columns (total 16 columns):\n",
      "\n",
      " #   Column                 Non-Null Count  Dtype  \n",
      "\n",
      "---  ------                 --------------  -----  \n",
      "\n",
      " 0   title                  7485 non-null   object \n",
      "\n",
      " 1   pu_number              7485 non-null   int64  \n",
      "\n",
      " 2   show_start_date        7485 non-null   object \n",
      "\n",
      " 3   type                   7485 non-null   object \n",
      "\n",
      " 4   film_studio            7467 non-null   object \n",
      "\n",
      " 5   production_country     7483 non-null   object \n",
      "\n",
      " 6   director               7476 non-null   object \n",
      "\n",
      " 7   producer               6917 non-null   object \n",
      "\n",
      " 8   age_restriction        7485 non-null   object \n",
      "\n",
      " 9   refundable_support     332 non-null    float64\n",
      "\n",
      " 10  nonrefundable_support  332 non-null    float64\n",
      "\n",
      " 11  budget                 332 non-null    float64\n",
      "\n",
      " 12  financing_source       332 non-null    object \n",
      "\n",
      " 13  ratings                6519 non-null   object \n",
      "\n",
      " 14  genres                 6510 non-null   object \n",
      "\n",
      " 15  box_office             3158 non-null   float64\n",
      "\n",
      "dtypes: float64(4), int64(1), object(11)\n",
      "\n",
      "memory usage: 994.1+ KB\n",
      "\n",
      "None\n"
     ]
    }
   ],
   "source": [
    "print(data.info())"
   ]
  },
  {
   "cell_type": "markdown",
   "metadata": {},
   "source": [
    "Все 3158 значения из второго датафрейма были присвоенны соответствующим строчкам в первом."
   ]
  },
  {
   "cell_type": "markdown",
   "metadata": {
    "id": "KLDGpPG0gFyM"
   },
   "source": [
    "### Шаг 2. Предобработка данных"
   ]
  },
  {
   "cell_type": "markdown",
   "metadata": {
    "id": "ssWwKXsxgFyO"
   },
   "source": [
    "#### Шаг 2.1. Проверка типа данных"
   ]
  },
  {
   "cell_type": "code",
   "execution_count": 14,
   "metadata": {},
   "outputs": [
    {
     "data": {
      "text/plain": [
       "0      2015-11-27 12:00:00\n",
       "1      2016-09-13 12:00:00\n",
       "2      2016-10-10 12:00:00\n",
       "3      2016-06-10 12:00:00\n",
       "4      2015-07-29 12:00:00\n",
       "               ...        \n",
       "7480   2019-12-23 12:00:00\n",
       "7481   2019-12-24 12:00:00\n",
       "7482   2019-12-28 12:00:00\n",
       "7483   2019-12-30 12:00:00\n",
       "7484   2019-12-30 12:00:00\n",
       "Name: show_start_date, Length: 7485, dtype: datetime64[ns]"
      ]
     },
     "execution_count": 14,
     "metadata": {},
     "output_type": "execute_result"
    }
   ],
   "source": [
    "data['show_start_date'] = pd.to_datetime(data['show_start_date'], format = '%Y-%m-%d %H:%M')\n",
    "data['show_start_date'].dt.tz_localize(None)\n",
    "#Убрал временную зону"
   ]
  },
  {
   "cell_type": "code",
   "execution_count": 15,
   "metadata": {},
   "outputs": [
    {
     "name": "stdout",
     "output_type": "stream",
     "text": [
      "              title  pu_number           show_start_date            type  \\\n",
      "\n",
      "0  Открытый простор  221048915 2015-11-27 12:00:00+00:00  Художественный   \n",
      "\n",
      "\n",
      "\n",
      "                                         film_studio production_country  \\\n",
      "\n",
      "0  Тачстоун Пикчерз, Кобальт Пикчерз, Бикон Пикче...                США   \n",
      "\n",
      "\n",
      "\n",
      "        director                                   producer  \\\n",
      "\n",
      "0  Кевин Костнер  Дэвид Валдес, Кевин Костнер, Джейк Эбертс   \n",
      "\n",
      "\n",
      "\n",
      "               age_restriction  refundable_support  nonrefundable_support  \\\n",
      "\n",
      "0  «18+» - запрещено для детей                 NaN                    NaN   \n",
      "\n",
      "\n",
      "\n",
      "   budget financing_source ratings                  genres  box_office  \n",
      "\n",
      "0     NaN              NaN     7.2  боевик,драма,мелодрама         NaN  \n",
      "\n",
      "<class 'pandas.core.frame.DataFrame'>\n",
      "\n",
      "Int64Index: 7485 entries, 0 to 7484\n",
      "\n",
      "Data columns (total 16 columns):\n",
      "\n",
      " #   Column                 Non-Null Count  Dtype              \n",
      "\n",
      "---  ------                 --------------  -----              \n",
      "\n",
      " 0   title                  7485 non-null   object             \n",
      "\n",
      " 1   pu_number              7485 non-null   int64              \n",
      "\n",
      " 2   show_start_date        7485 non-null   datetime64[ns, UTC]\n",
      "\n",
      " 3   type                   7485 non-null   object             \n",
      "\n",
      " 4   film_studio            7467 non-null   object             \n",
      "\n",
      " 5   production_country     7483 non-null   object             \n",
      "\n",
      " 6   director               7476 non-null   object             \n",
      "\n",
      " 7   producer               6917 non-null   object             \n",
      "\n",
      " 8   age_restriction        7485 non-null   object             \n",
      "\n",
      " 9   refundable_support     332 non-null    float64            \n",
      "\n",
      " 10  nonrefundable_support  332 non-null    float64            \n",
      "\n",
      " 11  budget                 332 non-null    float64            \n",
      "\n",
      " 12  financing_source       332 non-null    object             \n",
      "\n",
      " 13  ratings                6519 non-null   object             \n",
      "\n",
      " 14  genres                 6510 non-null   object             \n",
      "\n",
      " 15  box_office             3158 non-null   float64            \n",
      "\n",
      "dtypes: datetime64[ns, UTC](1), float64(4), int64(1), object(10)\n",
      "\n",
      "memory usage: 994.1+ KB\n",
      "\n",
      "None\n"
     ]
    }
   ],
   "source": [
    "print(data.head(1))\n",
    "print(data.info())"
   ]
  },
  {
   "cell_type": "markdown",
   "metadata": {},
   "source": [
    "Преобразование 'show_start_date' в более читаемый вид"
   ]
  },
  {
   "cell_type": "code",
   "execution_count": 16,
   "metadata": {},
   "outputs": [
    {
     "data": {
      "text/plain": [
       "array(['7.2', '6.6', '6.8', '7.7', '8.3', '8.0', '7.8', '8.1', '7.1',\n",
       "       '6.0', '7.4', '5.8', '8.7', '6.3', '6.9', '5.0', '4.3', '7.3',\n",
       "       '7.0', '6.4', nan, '8.2', '7.5', '6.7', '7.9', '5.9', '6.2', '5.6',\n",
       "       '6.5', '2.4', '7.6', '6.1', '8.6', '8.5', '8.8', '5.5', '5.1',\n",
       "       '5.7', '5.4', '99%', '4.4', '4.5', '5.3', '4.1', '8.4', '2.6',\n",
       "       '3.8', '4.6', '4.8', '4.0', '3.0', '1.6', '4.2', '5.2', '4.7',\n",
       "       '4.9', '3.9', '2.7', '3.3', '2.9', '28%', '3.7', '1.4', '3.1',\n",
       "       '97%', '3.5', '3.2', '2.8', '1.5', '2.1', '2.5', '9.2', '3.4',\n",
       "       '1.1', '3.6', '83%', '64%', '91%', '94%', '62%', '79%', '90%',\n",
       "       '19%', '88%', '1.0', '89%', '1.3', '1.9', '1.8', '1.2', '1.7',\n",
       "       '9.0', '98%', '8.9', '9.1'], dtype=object)"
      ]
     },
     "execution_count": 16,
     "metadata": {},
     "output_type": "execute_result"
    }
   ],
   "source": [
    "data['ratings'].unique()"
   ]
  },
  {
   "cell_type": "code",
   "execution_count": 17,
   "metadata": {},
   "outputs": [],
   "source": [
    "data['ratings'] = data['ratings'].replace('%','', regex=True)"
   ]
  },
  {
   "cell_type": "code",
   "execution_count": 18,
   "metadata": {},
   "outputs": [
    {
     "data": {
      "text/plain": [
       "array(['7.2', '6.6', '6.8', '7.7', '8.3', '8.0', '7.8', '8.1', '7.1',\n",
       "       '6.0', '7.4', '5.8', '8.7', '6.3', '6.9', '5.0', '4.3', '7.3',\n",
       "       '7.0', '6.4', nan, '8.2', '7.5', '6.7', '7.9', '5.9', '6.2', '5.6',\n",
       "       '6.5', '2.4', '7.6', '6.1', '8.6', '8.5', '8.8', '5.5', '5.1',\n",
       "       '5.7', '5.4', '99', '4.4', '4.5', '5.3', '4.1', '8.4', '2.6',\n",
       "       '3.8', '4.6', '4.8', '4.0', '3.0', '1.6', '4.2', '5.2', '4.7',\n",
       "       '4.9', '3.9', '2.7', '3.3', '2.9', '28', '3.7', '1.4', '3.1', '97',\n",
       "       '3.5', '3.2', '2.8', '1.5', '2.1', '2.5', '9.2', '3.4', '1.1',\n",
       "       '3.6', '83', '64', '91', '94', '62', '79', '90', '19', '88', '1.0',\n",
       "       '89', '1.3', '1.9', '1.8', '1.2', '1.7', '9.0', '98', '8.9', '9.1'],\n",
       "      dtype=object)"
      ]
     },
     "execution_count": 18,
     "metadata": {},
     "output_type": "execute_result"
    }
   ],
   "source": [
    "data['ratings'].unique()"
   ]
  },
  {
   "cell_type": "code",
   "execution_count": 19,
   "metadata": {},
   "outputs": [],
   "source": [
    "data['ratings'] = data['ratings'].astype('float', errors='ignore')"
   ]
  },
  {
   "cell_type": "code",
   "execution_count": null,
   "metadata": {},
   "outputs": [],
   "source": [
    "data.loc[data['ratings']>10 , 'ratings'] = data['ratings']/10"
   ]
  },
  {
   "cell_type": "code",
   "execution_count": 21,
   "metadata": {},
   "outputs": [
    {
     "data": {
      "text/plain": [
       "array([7.2, 6.6, 6.8, 7.7, 8.3, 8. , 7.8, 8.1, 7.1, 6. , 7.4, 5.8, 8.7,\n",
       "       6.3, 6.9, 5. , 4.3, 7.3, 7. , 6.4, nan, 8.2, 7.5, 6.7, 7.9, 5.9,\n",
       "       6.2, 5.6, 6.5, 2.4, 7.6, 6.1, 8.6, 8.5, 8.8, 5.5, 5.1, 5.7, 5.4,\n",
       "       9.9, 4.4, 4.5, 5.3, 4.1, 8.4, 2.6, 3.8, 4.6, 4.8, 4. , 3. , 1.6,\n",
       "       4.2, 5.2, 4.7, 4.9, 3.9, 2.7, 3.3, 2.9, 2.8, 3.7, 1.4, 3.1, 9.7,\n",
       "       3.5, 3.2, 1.5, 2.1, 2.5, 9.2, 3.4, 1.1, 3.6, 9.1, 9.4, 9. , 1.9,\n",
       "       1. , 8.9, 1.3, 1.8, 1.2, 1.7, 9.8])"
      ]
     },
     "execution_count": 21,
     "metadata": {},
     "output_type": "execute_result"
    }
   ],
   "source": [
    "data['ratings'].unique()"
   ]
  },
  {
   "cell_type": "markdown",
   "metadata": {},
   "source": [
    "Преобразования типа данных рейтинга в float и\n",
    "    \n",
    "Замена всех процентных рейтингов в класический вид: оценка/10"
   ]
  },
  {
   "cell_type": "markdown",
   "metadata": {
    "id": "i0MOLbF-gFyP"
   },
   "source": [
    "#### Шаг 2.2. Изучение пропусков в датафрейме"
   ]
  },
  {
   "cell_type": "code",
   "execution_count": 23,
   "metadata": {},
   "outputs": [
    {
     "data": {
      "text/plain": [
       "7485"
      ]
     },
     "execution_count": 23,
     "metadata": {},
     "output_type": "execute_result"
    }
   ],
   "source": [
    "temp = data.copy() # создаем копию датасета до преобразования\n",
    "len(temp)"
   ]
  },
  {
   "cell_type": "code",
   "execution_count": 24,
   "metadata": {},
   "outputs": [
    {
     "name": "stdout",
     "output_type": "stream",
     "text": [
      "(7485, 16)\n",
      "\n",
      "title                       0\n",
      "\n",
      "pu_number                   0\n",
      "\n",
      "show_start_date             0\n",
      "\n",
      "type                        0\n",
      "\n",
      "film_studio                18\n",
      "\n",
      "production_country          2\n",
      "\n",
      "director                    9\n",
      "\n",
      "producer                  568\n",
      "\n",
      "age_restriction             0\n",
      "\n",
      "refundable_support       7153\n",
      "\n",
      "nonrefundable_support    7153\n",
      "\n",
      "budget                   7153\n",
      "\n",
      "financing_source         7153\n",
      "\n",
      "ratings                   966\n",
      "\n",
      "genres                    975\n",
      "\n",
      "box_office               4327\n",
      "\n",
      "dtype: int64\n"
     ]
    }
   ],
   "source": [
    "print(data.shape)\n",
    "print(data.isna().sum())"
   ]
  },
  {
   "cell_type": "code",
   "execution_count": 25,
   "metadata": {},
   "outputs": [],
   "source": [
    "data = data.dropna(subset = ['production_country'])"
   ]
  },
  {
   "cell_type": "code",
   "execution_count": 26,
   "metadata": {},
   "outputs": [],
   "source": [
    "data = data.dropna(subset = ['film_studio'])"
   ]
  },
  {
   "cell_type": "code",
   "execution_count": 27,
   "metadata": {},
   "outputs": [],
   "source": [
    "data = data.dropna(subset = ['director'])"
   ]
  },
  {
   "cell_type": "code",
   "execution_count": 29,
   "metadata": {},
   "outputs": [
    {
     "data": {
      "text/html": [
       "<div>\n",
       "<style scoped>\n",
       "    .dataframe tbody tr th:only-of-type {\n",
       "        vertical-align: middle;\n",
       "    }\n",
       "\n",
       "    .dataframe tbody tr th {\n",
       "        vertical-align: top;\n",
       "    }\n",
       "\n",
       "    .dataframe thead th {\n",
       "        text-align: right;\n",
       "    }\n",
       "</style>\n",
       "<table border=\"1\" class=\"dataframe\">\n",
       "  <thead>\n",
       "    <tr style=\"text-align: right;\">\n",
       "      <th></th>\n",
       "      <th>box_office</th>\n",
       "      <th>refundable_support</th>\n",
       "      <th>nonrefundable_support</th>\n",
       "      <th>ratings</th>\n",
       "    </tr>\n",
       "  </thead>\n",
       "  <tbody>\n",
       "    <tr>\n",
       "      <th>box_office</th>\n",
       "      <td>1.00</td>\n",
       "      <td>0.31</td>\n",
       "      <td>0.46</td>\n",
       "      <td>0.09</td>\n",
       "    </tr>\n",
       "    <tr>\n",
       "      <th>refundable_support</th>\n",
       "      <td>0.31</td>\n",
       "      <td>1.00</td>\n",
       "      <td>0.36</td>\n",
       "      <td>-0.00</td>\n",
       "    </tr>\n",
       "    <tr>\n",
       "      <th>nonrefundable_support</th>\n",
       "      <td>0.46</td>\n",
       "      <td>0.36</td>\n",
       "      <td>1.00</td>\n",
       "      <td>0.13</td>\n",
       "    </tr>\n",
       "    <tr>\n",
       "      <th>ratings</th>\n",
       "      <td>0.09</td>\n",
       "      <td>-0.00</td>\n",
       "      <td>0.13</td>\n",
       "      <td>1.00</td>\n",
       "    </tr>\n",
       "  </tbody>\n",
       "</table>\n",
       "</div>"
      ],
      "text/plain": [
       "                       box_office  refundable_support  nonrefundable_support  \\\n",
       "box_office                   1.00                0.31                   0.46   \n",
       "refundable_support           0.31                1.00                   0.36   \n",
       "nonrefundable_support        0.46                0.36                   1.00   \n",
       "ratings                      0.09               -0.00                   0.13   \n",
       "\n",
       "                       ratings  \n",
       "box_office                0.09  \n",
       "refundable_support       -0.00  \n",
       "nonrefundable_support     0.13  \n",
       "ratings                   1.00  "
      ]
     },
     "execution_count": 29,
     "metadata": {},
     "output_type": "execute_result"
    }
   ],
   "source": [
    "temp_corr_data = data[['box_office','refundable_support','nonrefundable_support','ratings']]\n",
    "temp_corr_data.corr()"
   ]
  },
  {
   "cell_type": "code",
   "execution_count": 30,
   "metadata": {},
   "outputs": [
    {
     "name": "stdout",
     "output_type": "stream",
     "text": [
      "7485 7458 0.36\n"
     ]
    }
   ],
   "source": [
    "a, b = len(temp), len(data)\n",
    "print(len(temp), len(data), round((a-b)/a*100, 2))"
   ]
  },
  {
   "cell_type": "markdown",
   "metadata": {},
   "source": [
    "В колонках film_studio, poduction_country и director пропусков очень мало, по этому их удаление не сильно отразится на общих данных.\n",
    "\n",
    "В колонках refundable_supports, nonrefundable_support, budget box_office пропусков слишком много и нормально заполнить их не получится\n",
    "\n",
    "ratings не имеет явной зависимости от других данных, заполнить оставшиеся пропуски не получится\n",
    "\n",
    "genres и financing_source это данные типа object их точно чем-то заполнить не выйдет"
   ]
  },
  {
   "cell_type": "markdown",
   "metadata": {
    "id": "4c6k1t9ygFyQ"
   },
   "source": [
    "#### Шаг 2.3. Изучение дубликатов в датафрейме"
   ]
  },
  {
   "cell_type": "code",
   "execution_count": 31,
   "metadata": {
    "scrolled": true
   },
   "outputs": [
    {
     "data": {
      "text/plain": [
       "0"
      ]
     },
     "execution_count": 31,
     "metadata": {},
     "output_type": "execute_result"
    }
   ],
   "source": [
    "data.duplicated().sum()"
   ]
  },
  {
   "cell_type": "markdown",
   "metadata": {},
   "source": [
    "Могут быть неявные дубликаты в столбцах film_studio, production_country, director producer из-за составных значений.\n",
    "\n",
    "Возможно дубликаты появятся если заменить все Ё на Е.\n"
   ]
  },
  {
   "cell_type": "code",
   "execution_count": 32,
   "metadata": {},
   "outputs": [],
   "source": [
    "data['title'] = data['title'].str.replace('ё','е')\n",
    "data['title'] = data['title'].str.replace('Ё','Е')\n",
    "data['type'] = data['type'].str.replace('ё','е')\n",
    "data['type'] = data['type'].str.replace('Ё','Е')\n",
    "data['film_studio'] = data['film_studio'].str.replace('ё','е')\n",
    "data['film_studio'] = data['film_studio'].str.replace('Ё','Е')\n",
    "data['production_country'] = data['production_country'].str.replace('ё','е')\n",
    "data['production_country'] = data['production_country'].str.replace('Ё','Е')\n",
    "data['director'] = data['director'].str.replace('ё','е')\n",
    "data['director'] = data['director'].str.replace('Ё','Е')\n",
    "data['producer'] = data['producer'].str.replace('ё','е')\n",
    "data['producer'] = data['producer'].str.replace('Ё','Е')\n",
    "data['age_restriction'] = data['age_restriction'].str.replace('ё','е')\n",
    "data['age_restriction'] = data['age_restriction'].str.replace('Ё','Е')\n",
    "data['genres'] = data['genres'].str.replace('ё','е')\n",
    "data['genres'] = data['genres'].str.replace('Ё','Е')"
   ]
  },
  {
   "cell_type": "code",
   "execution_count": 33,
   "metadata": {},
   "outputs": [
    {
     "data": {
      "text/plain": [
       "0"
      ]
     },
     "execution_count": 33,
     "metadata": {},
     "output_type": "execute_result"
    }
   ],
   "source": [
    "data.duplicated().sum()\n",
    "#дубликаты не появились"
   ]
  },
  {
   "cell_type": "code",
   "execution_count": 34,
   "metadata": {},
   "outputs": [
    {
     "data": {
      "text/html": [
       "<div>\n",
       "<style scoped>\n",
       "    .dataframe tbody tr th:only-of-type {\n",
       "        vertical-align: middle;\n",
       "    }\n",
       "\n",
       "    .dataframe tbody tr th {\n",
       "        vertical-align: top;\n",
       "    }\n",
       "\n",
       "    .dataframe thead th {\n",
       "        text-align: right;\n",
       "    }\n",
       "</style>\n",
       "<table border=\"1\" class=\"dataframe\">\n",
       "  <thead>\n",
       "    <tr style=\"text-align: right;\">\n",
       "      <th></th>\n",
       "      <th>title</th>\n",
       "      <th>pu_number</th>\n",
       "      <th>show_start_date</th>\n",
       "      <th>type</th>\n",
       "      <th>film_studio</th>\n",
       "      <th>production_country</th>\n",
       "      <th>director</th>\n",
       "      <th>producer</th>\n",
       "      <th>age_restriction</th>\n",
       "      <th>refundable_support</th>\n",
       "      <th>nonrefundable_support</th>\n",
       "      <th>budget</th>\n",
       "      <th>financing_source</th>\n",
       "      <th>ratings</th>\n",
       "      <th>genres</th>\n",
       "      <th>box_office</th>\n",
       "    </tr>\n",
       "  </thead>\n",
       "  <tbody>\n",
       "    <tr>\n",
       "      <th>3</th>\n",
       "      <td>Особо опасен</td>\n",
       "      <td>221026916</td>\n",
       "      <td>2016-06-10 12:00:00+00:00</td>\n",
       "      <td>Художественный</td>\n",
       "      <td>Юниверсал Пикчерз, Кикстарт Продакшнз, Марк Пл...</td>\n",
       "      <td>США</td>\n",
       "      <td>Тимур Бекмамбетов</td>\n",
       "      <td>Джим Лемли, Джейсон Нетер, Марк Е.Платт, Яйн Смит</td>\n",
       "      <td>«18+» - запрещено для детей</td>\n",
       "      <td>NaN</td>\n",
       "      <td>NaN</td>\n",
       "      <td>NaN</td>\n",
       "      <td>NaN</td>\n",
       "      <td>6.80</td>\n",
       "      <td>фантастика,боевик,триллер</td>\n",
       "      <td>NaN</td>\n",
       "    </tr>\n",
       "    <tr>\n",
       "      <th>4</th>\n",
       "      <td>Особо опасен</td>\n",
       "      <td>221030815</td>\n",
       "      <td>2015-07-29 12:00:00+00:00</td>\n",
       "      <td>Художественный</td>\n",
       "      <td>Юниверсал Пикчерз, Кикстарт Продакшнз, Марк Пл...</td>\n",
       "      <td>США</td>\n",
       "      <td>Тимур Бекмамбетов</td>\n",
       "      <td>Джим Лемли, Джейсон Нетер, Марк Е.Платт, Яйн Смит</td>\n",
       "      <td>«18+» - запрещено для детей</td>\n",
       "      <td>NaN</td>\n",
       "      <td>NaN</td>\n",
       "      <td>NaN</td>\n",
       "      <td>NaN</td>\n",
       "      <td>6.80</td>\n",
       "      <td>фантастика,боевик,триллер</td>\n",
       "      <td>NaN</td>\n",
       "    </tr>\n",
       "    <tr>\n",
       "      <th>41</th>\n",
       "      <td>Алекс и Эмма</td>\n",
       "      <td>221004616</td>\n",
       "      <td>2016-02-09 12:00:00+00:00</td>\n",
       "      <td>Художественный</td>\n",
       "      <td>Эскейп Артистс, Франчайз Пикчерз, Рейнер-Грэйс...</td>\n",
       "      <td>США</td>\n",
       "      <td>Роб Райнер</td>\n",
       "      <td>Тодд Блэк, Элан Грейсман, Джереми Левен, Роб Р...</td>\n",
       "      <td>«16+» - для детей старше 16 лет</td>\n",
       "      <td>NaN</td>\n",
       "      <td>NaN</td>\n",
       "      <td>NaN</td>\n",
       "      <td>NaN</td>\n",
       "      <td>6.40</td>\n",
       "      <td>мелодрама,комедия</td>\n",
       "      <td>NaN</td>\n",
       "    </tr>\n",
       "    <tr>\n",
       "      <th>110</th>\n",
       "      <td>Гарри Поттер и орден Феникса /По роману Дж.К.Р...</td>\n",
       "      <td>121026316</td>\n",
       "      <td>2016-09-23 12:00:00+00:00</td>\n",
       "      <td>Художественный</td>\n",
       "      <td>Уорнер Бразерс, Хэйдей Филмз</td>\n",
       "      <td>США - Великобритания</td>\n",
       "      <td>Дэвид Йетс</td>\n",
       "      <td>Дэйвид Баррон, Дэйвид Хейман</td>\n",
       "      <td>«16+» - для детей старше 16 лет</td>\n",
       "      <td>NaN</td>\n",
       "      <td>NaN</td>\n",
       "      <td>NaN</td>\n",
       "      <td>NaN</td>\n",
       "      <td>7.70</td>\n",
       "      <td>фэнтези,приключения,семейный</td>\n",
       "      <td>759,526.00</td>\n",
       "    </tr>\n",
       "    <tr>\n",
       "      <th>113</th>\n",
       "      <td>Гарри Поттер и узник Азкабана /По роману Дж.К....</td>\n",
       "      <td>121026116</td>\n",
       "      <td>2016-09-23 12:00:00+00:00</td>\n",
       "      <td>Художественный</td>\n",
       "      <td>Хэйдей Филмз, 1492 Пикчерз, Уорнер Бразерс</td>\n",
       "      <td>США</td>\n",
       "      <td>Альфонсо Куарон</td>\n",
       "      <td>Майкл Барната</td>\n",
       "      <td>«12+» - для детей старше 12 лет</td>\n",
       "      <td>NaN</td>\n",
       "      <td>NaN</td>\n",
       "      <td>NaN</td>\n",
       "      <td>NaN</td>\n",
       "      <td>8.20</td>\n",
       "      <td>фэнтези,приключения,семейный</td>\n",
       "      <td>1,125,302.00</td>\n",
       "    </tr>\n",
       "    <tr>\n",
       "      <th>...</th>\n",
       "      <td>...</td>\n",
       "      <td>...</td>\n",
       "      <td>...</td>\n",
       "      <td>...</td>\n",
       "      <td>...</td>\n",
       "      <td>...</td>\n",
       "      <td>...</td>\n",
       "      <td>...</td>\n",
       "      <td>...</td>\n",
       "      <td>...</td>\n",
       "      <td>...</td>\n",
       "      <td>...</td>\n",
       "      <td>...</td>\n",
       "      <td>...</td>\n",
       "      <td>...</td>\n",
       "      <td>...</td>\n",
       "    </tr>\n",
       "    <tr>\n",
       "      <th>7368</th>\n",
       "      <td>Невиновен</td>\n",
       "      <td>111019319</td>\n",
       "      <td>2019-11-07 12:00:00+00:00</td>\n",
       "      <td>Художественный</td>\n",
       "      <td>ООО \"Кавказфильм\"</td>\n",
       "      <td>Россия</td>\n",
       "      <td>А.Емкужев</td>\n",
       "      <td>А.Емкужев, А.Хуажева, ООО \"Корпорация Русская ...</td>\n",
       "      <td>«16+» - для детей старше 16 лет</td>\n",
       "      <td>NaN</td>\n",
       "      <td>NaN</td>\n",
       "      <td>NaN</td>\n",
       "      <td>NaN</td>\n",
       "      <td>7.50</td>\n",
       "      <td>триллер,детектив,криминал</td>\n",
       "      <td>NaN</td>\n",
       "    </tr>\n",
       "    <tr>\n",
       "      <th>7415</th>\n",
       "      <td>Отель \"Гранд Будапешт\"</td>\n",
       "      <td>121035119</td>\n",
       "      <td>2019-12-13 12:00:00+00:00</td>\n",
       "      <td>Художественный</td>\n",
       "      <td>Американ Эмпирикал, Индиан Пэинтбраш, Скотт Ру...</td>\n",
       "      <td>Германия, США</td>\n",
       "      <td>Уэс Андерсен</td>\n",
       "      <td>Уэс Андерсон, Джереми Доусон, Стивен Рейлс</td>\n",
       "      <td>«16+» - для детей старше 16 лет</td>\n",
       "      <td>NaN</td>\n",
       "      <td>NaN</td>\n",
       "      <td>NaN</td>\n",
       "      <td>NaN</td>\n",
       "      <td>7.90</td>\n",
       "      <td>комедия,приключения,детектив</td>\n",
       "      <td>NaN</td>\n",
       "    </tr>\n",
       "    <tr>\n",
       "      <th>7437</th>\n",
       "      <td>Зверь</td>\n",
       "      <td>121035919</td>\n",
       "      <td>2019-12-05 12:00:00+00:00</td>\n",
       "      <td>Художественный</td>\n",
       "      <td>Студио энд Нью</td>\n",
       "      <td>Южная Корея</td>\n",
       "      <td>Ли Джон-хо</td>\n",
       "      <td>Чан Ген-ик, Чон Джи-хун, Пэк Кен сук</td>\n",
       "      <td>«18+» - запрещено для детей</td>\n",
       "      <td>NaN</td>\n",
       "      <td>NaN</td>\n",
       "      <td>NaN</td>\n",
       "      <td>NaN</td>\n",
       "      <td>6.50</td>\n",
       "      <td>триллер,драма</td>\n",
       "      <td>175,003.51</td>\n",
       "    </tr>\n",
       "    <tr>\n",
       "      <th>7449</th>\n",
       "      <td>В тихом омуте</td>\n",
       "      <td>121036919</td>\n",
       "      <td>2019-12-09 12:00:00+00:00</td>\n",
       "      <td>Художественный</td>\n",
       "      <td>Хэд Гир Филмз, Крео Филмз, Локал Хироу, Метрол...</td>\n",
       "      <td>США</td>\n",
       "      <td>Адам Рэндолл</td>\n",
       "      <td>Мэтт Уолдек</td>\n",
       "      <td>«18+» - запрещено для детей</td>\n",
       "      <td>NaN</td>\n",
       "      <td>NaN</td>\n",
       "      <td>NaN</td>\n",
       "      <td>NaN</td>\n",
       "      <td>6.80</td>\n",
       "      <td>триллер,криминал,детектив</td>\n",
       "      <td>NaN</td>\n",
       "    </tr>\n",
       "    <tr>\n",
       "      <th>7473</th>\n",
       "      <td>Вторжение</td>\n",
       "      <td>111022519</td>\n",
       "      <td>2019-12-23 12:00:00+00:00</td>\n",
       "      <td>Художественный</td>\n",
       "      <td>ООО \"Арт Пикчерс Студия\", ООО \"Водород 2011\"</td>\n",
       "      <td>Россия</td>\n",
       "      <td>Ф.Бондарчук</td>\n",
       "      <td>Ф.Бондарчук, М.Врубель, А.Андрющенко, Д.Рудовский</td>\n",
       "      <td>«12+» - для детей старше 12 лет</td>\n",
       "      <td>100,000,000.00</td>\n",
       "      <td>400,000,000.00</td>\n",
       "      <td>944,000,000.00</td>\n",
       "      <td>Фонд кино</td>\n",
       "      <td>5.70</td>\n",
       "      <td>фантастика,боевик</td>\n",
       "      <td>NaN</td>\n",
       "    </tr>\n",
       "  </tbody>\n",
       "</table>\n",
       "<p>715 rows × 16 columns</p>\n",
       "</div>"
      ],
      "text/plain": [
       "                                                  title  pu_number  \\\n",
       "3                                          Особо опасен  221026916   \n",
       "4                                          Особо опасен  221030815   \n",
       "41                                         Алекс и Эмма  221004616   \n",
       "110   Гарри Поттер и орден Феникса /По роману Дж.К.Р...  121026316   \n",
       "113   Гарри Поттер и узник Азкабана /По роману Дж.К....  121026116   \n",
       "...                                                 ...        ...   \n",
       "7368                                          Невиновен  111019319   \n",
       "7415                             Отель \"Гранд Будапешт\"  121035119   \n",
       "7437                                              Зверь  121035919   \n",
       "7449                                      В тихом омуте  121036919   \n",
       "7473                                          Вторжение  111022519   \n",
       "\n",
       "               show_start_date             type  \\\n",
       "3    2016-06-10 12:00:00+00:00   Художественный   \n",
       "4    2015-07-29 12:00:00+00:00   Художественный   \n",
       "41   2016-02-09 12:00:00+00:00   Художественный   \n",
       "110  2016-09-23 12:00:00+00:00   Художественный   \n",
       "113  2016-09-23 12:00:00+00:00   Художественный   \n",
       "...                        ...              ...   \n",
       "7368 2019-11-07 12:00:00+00:00   Художественный   \n",
       "7415 2019-12-13 12:00:00+00:00   Художественный   \n",
       "7437 2019-12-05 12:00:00+00:00   Художественный   \n",
       "7449 2019-12-09 12:00:00+00:00   Художественный   \n",
       "7473 2019-12-23 12:00:00+00:00   Художественный   \n",
       "\n",
       "                                            film_studio    production_country  \\\n",
       "3     Юниверсал Пикчерз, Кикстарт Продакшнз, Марк Пл...                   США   \n",
       "4     Юниверсал Пикчерз, Кикстарт Продакшнз, Марк Пл...                   США   \n",
       "41    Эскейп Артистс, Франчайз Пикчерз, Рейнер-Грэйс...                   США   \n",
       "110                        Уорнер Бразерс, Хэйдей Филмз  США - Великобритания   \n",
       "113          Хэйдей Филмз, 1492 Пикчерз, Уорнер Бразерс                   США   \n",
       "...                                                 ...                   ...   \n",
       "7368                                  ООО \"Кавказфильм\"                Россия   \n",
       "7415  Американ Эмпирикал, Индиан Пэинтбраш, Скотт Ру...         Германия, США   \n",
       "7437                                     Студио энд Нью           Южная Корея   \n",
       "7449  Хэд Гир Филмз, Крео Филмз, Локал Хироу, Метрол...                   США   \n",
       "7473       ООО \"Арт Пикчерс Студия\", ООО \"Водород 2011\"                Россия   \n",
       "\n",
       "               director                                           producer  \\\n",
       "3     Тимур Бекмамбетов  Джим Лемли, Джейсон Нетер, Марк Е.Платт, Яйн Смит   \n",
       "4     Тимур Бекмамбетов  Джим Лемли, Джейсон Нетер, Марк Е.Платт, Яйн Смит   \n",
       "41           Роб Райнер  Тодд Блэк, Элан Грейсман, Джереми Левен, Роб Р...   \n",
       "110          Дэвид Йетс                       Дэйвид Баррон, Дэйвид Хейман   \n",
       "113     Альфонсо Куарон                                      Майкл Барната   \n",
       "...                 ...                                                ...   \n",
       "7368          А.Емкужев  А.Емкужев, А.Хуажева, ООО \"Корпорация Русская ...   \n",
       "7415       Уэс Андерсен         Уэс Андерсон, Джереми Доусон, Стивен Рейлс   \n",
       "7437         Ли Джон-хо               Чан Ген-ик, Чон Джи-хун, Пэк Кен сук   \n",
       "7449       Адам Рэндолл                                        Мэтт Уолдек   \n",
       "7473        Ф.Бондарчук  Ф.Бондарчук, М.Врубель, А.Андрющенко, Д.Рудовский   \n",
       "\n",
       "                      age_restriction  refundable_support  \\\n",
       "3         «18+» - запрещено для детей                 NaN   \n",
       "4         «18+» - запрещено для детей                 NaN   \n",
       "41    «16+» - для детей старше 16 лет                 NaN   \n",
       "110   «16+» - для детей старше 16 лет                 NaN   \n",
       "113   «12+» - для детей старше 12 лет                 NaN   \n",
       "...                               ...                 ...   \n",
       "7368  «16+» - для детей старше 16 лет                 NaN   \n",
       "7415  «16+» - для детей старше 16 лет                 NaN   \n",
       "7437      «18+» - запрещено для детей                 NaN   \n",
       "7449      «18+» - запрещено для детей                 NaN   \n",
       "7473  «12+» - для детей старше 12 лет      100,000,000.00   \n",
       "\n",
       "      nonrefundable_support         budget financing_source  ratings  \\\n",
       "3                       NaN            NaN              NaN     6.80   \n",
       "4                       NaN            NaN              NaN     6.80   \n",
       "41                      NaN            NaN              NaN     6.40   \n",
       "110                     NaN            NaN              NaN     7.70   \n",
       "113                     NaN            NaN              NaN     8.20   \n",
       "...                     ...            ...              ...      ...   \n",
       "7368                    NaN            NaN              NaN     7.50   \n",
       "7415                    NaN            NaN              NaN     7.90   \n",
       "7437                    NaN            NaN              NaN     6.50   \n",
       "7449                    NaN            NaN              NaN     6.80   \n",
       "7473         400,000,000.00 944,000,000.00        Фонд кино     5.70   \n",
       "\n",
       "                            genres   box_office  \n",
       "3        фантастика,боевик,триллер          NaN  \n",
       "4        фантастика,боевик,триллер          NaN  \n",
       "41               мелодрама,комедия          NaN  \n",
       "110   фэнтези,приключения,семейный   759,526.00  \n",
       "113   фэнтези,приключения,семейный 1,125,302.00  \n",
       "...                            ...          ...  \n",
       "7368     триллер,детектив,криминал          NaN  \n",
       "7415  комедия,приключения,детектив          NaN  \n",
       "7437                 триллер,драма   175,003.51  \n",
       "7449     триллер,криминал,детектив          NaN  \n",
       "7473             фантастика,боевик          NaN  \n",
       "\n",
       "[715 rows x 16 columns]"
      ]
     },
     "metadata": {},
     "output_type": "display_data"
    }
   ],
   "source": [
    "display(data[data['title'].duplicated()])"
   ]
  },
  {
   "cell_type": "code",
   "execution_count": 35,
   "metadata": {},
   "outputs": [
    {
     "data": {
      "text/html": [
       "<div>\n",
       "<style scoped>\n",
       "    .dataframe tbody tr th:only-of-type {\n",
       "        vertical-align: middle;\n",
       "    }\n",
       "\n",
       "    .dataframe tbody tr th {\n",
       "        vertical-align: top;\n",
       "    }\n",
       "\n",
       "    .dataframe thead th {\n",
       "        text-align: right;\n",
       "    }\n",
       "</style>\n",
       "<table border=\"1\" class=\"dataframe\">\n",
       "  <thead>\n",
       "    <tr style=\"text-align: right;\">\n",
       "      <th></th>\n",
       "      <th>title</th>\n",
       "      <th>pu_number</th>\n",
       "      <th>show_start_date</th>\n",
       "      <th>type</th>\n",
       "      <th>film_studio</th>\n",
       "      <th>production_country</th>\n",
       "      <th>director</th>\n",
       "      <th>producer</th>\n",
       "      <th>age_restriction</th>\n",
       "      <th>refundable_support</th>\n",
       "      <th>nonrefundable_support</th>\n",
       "      <th>budget</th>\n",
       "      <th>financing_source</th>\n",
       "      <th>ratings</th>\n",
       "      <th>genres</th>\n",
       "      <th>box_office</th>\n",
       "    </tr>\n",
       "  </thead>\n",
       "  <tbody>\n",
       "    <tr>\n",
       "      <th>4638</th>\n",
       "      <td>Иоанна - женщина на папском престоле /По роман...</td>\n",
       "      <td>221154310</td>\n",
       "      <td>2010-12-17 12:00:00+00:00</td>\n",
       "      <td>Художественный</td>\n",
       "      <td>Константин Фильм, А Эр Ди Дегето Фильм, Дюне ...</td>\n",
       "      <td>Германия - Великобритания - Италия - Испания</td>\n",
       "      <td>Зенке Вортманн</td>\n",
       "      <td>Оливер Бербен, Дорис Д.Хайнце, Фарук Элтан</td>\n",
       "      <td>«16+» - для детей старше 16 лет</td>\n",
       "      <td>NaN</td>\n",
       "      <td>NaN</td>\n",
       "      <td>NaN</td>\n",
       "      <td>NaN</td>\n",
       "      <td>7.60</td>\n",
       "      <td>драма,мелодрама,история</td>\n",
       "      <td>NaN</td>\n",
       "    </tr>\n",
       "    <tr>\n",
       "      <th>5067</th>\n",
       "      <td>Анализируй то!</td>\n",
       "      <td>221054410</td>\n",
       "      <td>2010-05-25 12:00:00+00:00</td>\n",
       "      <td>Художественный</td>\n",
       "      <td>Уорнер Бразерс, Виллидж Роадшоу Пикчерз, Эн-Пи...</td>\n",
       "      <td>США</td>\n",
       "      <td>Гарольд Реймис</td>\n",
       "      <td>Джейн Розенталь, Паул Уэйнстейн</td>\n",
       "      <td>«12+» - для детей старше 12 лет</td>\n",
       "      <td>NaN</td>\n",
       "      <td>NaN</td>\n",
       "      <td>NaN</td>\n",
       "      <td>NaN</td>\n",
       "      <td>6.80</td>\n",
       "      <td>комедия,криминал</td>\n",
       "      <td>NaN</td>\n",
       "    </tr>\n",
       "  </tbody>\n",
       "</table>\n",
       "</div>"
      ],
      "text/plain": [
       "                                                  title  pu_number  \\\n",
       "4638  Иоанна - женщина на папском престоле /По роман...  221154310   \n",
       "5067                                     Анализируй то!  221054410   \n",
       "\n",
       "               show_start_date            type  \\\n",
       "4638 2010-12-17 12:00:00+00:00  Художественный   \n",
       "5067 2010-05-25 12:00:00+00:00  Художественный   \n",
       "\n",
       "                                            film_studio  \\\n",
       "4638   Константин Фильм, А Эр Ди Дегето Фильм, Дюне ...   \n",
       "5067  Уорнер Бразерс, Виллидж Роадшоу Пикчерз, Эн-Пи...   \n",
       "\n",
       "                                production_country        director  \\\n",
       "4638  Германия - Великобритания - Италия - Испания  Зенке Вортманн   \n",
       "5067                                           США  Гарольд Реймис   \n",
       "\n",
       "                                        producer  \\\n",
       "4638  Оливер Бербен, Дорис Д.Хайнце, Фарук Элтан   \n",
       "5067             Джейн Розенталь, Паул Уэйнстейн   \n",
       "\n",
       "                      age_restriction  refundable_support  \\\n",
       "4638  «16+» - для детей старше 16 лет                 NaN   \n",
       "5067  «12+» - для детей старше 12 лет                 NaN   \n",
       "\n",
       "      nonrefundable_support  budget financing_source  ratings  \\\n",
       "4638                    NaN     NaN              NaN     7.60   \n",
       "5067                    NaN     NaN              NaN     6.80   \n",
       "\n",
       "                       genres  box_office  \n",
       "4638  драма,мелодрама,история         NaN  \n",
       "5067         комедия,криминал         NaN  "
      ]
     },
     "metadata": {},
     "output_type": "display_data"
    }
   ],
   "source": [
    "display(data[data['pu_number'].duplicated()])"
   ]
  },
  {
   "cell_type": "code",
   "execution_count": 36,
   "metadata": {
    "scrolled": true
   },
   "outputs": [
    {
     "data": {
      "text/html": [
       "<div>\n",
       "<style scoped>\n",
       "    .dataframe tbody tr th:only-of-type {\n",
       "        vertical-align: middle;\n",
       "    }\n",
       "\n",
       "    .dataframe tbody tr th {\n",
       "        vertical-align: top;\n",
       "    }\n",
       "\n",
       "    .dataframe thead th {\n",
       "        text-align: right;\n",
       "    }\n",
       "</style>\n",
       "<table border=\"1\" class=\"dataframe\">\n",
       "  <thead>\n",
       "    <tr style=\"text-align: right;\">\n",
       "      <th></th>\n",
       "      <th>title</th>\n",
       "      <th>pu_number</th>\n",
       "      <th>show_start_date</th>\n",
       "      <th>type</th>\n",
       "      <th>film_studio</th>\n",
       "      <th>production_country</th>\n",
       "      <th>director</th>\n",
       "      <th>producer</th>\n",
       "      <th>age_restriction</th>\n",
       "      <th>refundable_support</th>\n",
       "      <th>nonrefundable_support</th>\n",
       "      <th>budget</th>\n",
       "      <th>financing_source</th>\n",
       "      <th>ratings</th>\n",
       "      <th>genres</th>\n",
       "      <th>box_office</th>\n",
       "    </tr>\n",
       "  </thead>\n",
       "  <tbody>\n",
       "    <tr>\n",
       "      <th>4638</th>\n",
       "      <td>Иоанна - женщина на папском престоле /По роман...</td>\n",
       "      <td>221154310</td>\n",
       "      <td>2010-12-17 12:00:00+00:00</td>\n",
       "      <td>Художественный</td>\n",
       "      <td>Константин Фильм, А Эр Ди Дегето Фильм, Дюне ...</td>\n",
       "      <td>Германия - Великобритания - Италия - Испания</td>\n",
       "      <td>Зенке Вортманн</td>\n",
       "      <td>Оливер Бербен, Дорис Д.Хайнце, Фарук Элтан</td>\n",
       "      <td>«16+» - для детей старше 16 лет</td>\n",
       "      <td>NaN</td>\n",
       "      <td>NaN</td>\n",
       "      <td>NaN</td>\n",
       "      <td>NaN</td>\n",
       "      <td>7.60</td>\n",
       "      <td>драма,мелодрама,история</td>\n",
       "      <td>NaN</td>\n",
       "    </tr>\n",
       "  </tbody>\n",
       "</table>\n",
       "</div>"
      ],
      "text/plain": [
       "                                                  title  pu_number  \\\n",
       "4638  Иоанна - женщина на папском престоле /По роман...  221154310   \n",
       "\n",
       "               show_start_date            type  \\\n",
       "4638 2010-12-17 12:00:00+00:00  Художественный   \n",
       "\n",
       "                                            film_studio  \\\n",
       "4638   Константин Фильм, А Эр Ди Дегето Фильм, Дюне ...   \n",
       "\n",
       "                                production_country        director  \\\n",
       "4638  Германия - Великобритания - Италия - Испания  Зенке Вортманн   \n",
       "\n",
       "                                        producer  \\\n",
       "4638  Оливер Бербен, Дорис Д.Хайнце, Фарук Элтан   \n",
       "\n",
       "                      age_restriction  refundable_support  \\\n",
       "4638  «16+» - для детей старше 16 лет                 NaN   \n",
       "\n",
       "      nonrefundable_support  budget financing_source  ratings  \\\n",
       "4638                    NaN     NaN              NaN     7.60   \n",
       "\n",
       "                       genres  box_office  \n",
       "4638  драма,мелодрама,история         NaN  "
      ]
     },
     "metadata": {},
     "output_type": "display_data"
    }
   ],
   "source": [
    "display(data[(data['title'].duplicated()) & (data['pu_number'].duplicated())])"
   ]
  },
  {
   "cell_type": "code",
   "execution_count": 37,
   "metadata": {
    "scrolled": true
   },
   "outputs": [
    {
     "data": {
      "text/html": [
       "<div>\n",
       "<style scoped>\n",
       "    .dataframe tbody tr th:only-of-type {\n",
       "        vertical-align: middle;\n",
       "    }\n",
       "\n",
       "    .dataframe tbody tr th {\n",
       "        vertical-align: top;\n",
       "    }\n",
       "\n",
       "    .dataframe thead th {\n",
       "        text-align: right;\n",
       "    }\n",
       "</style>\n",
       "<table border=\"1\" class=\"dataframe\">\n",
       "  <thead>\n",
       "    <tr style=\"text-align: right;\">\n",
       "      <th></th>\n",
       "      <th>title</th>\n",
       "      <th>pu_number</th>\n",
       "      <th>show_start_date</th>\n",
       "      <th>type</th>\n",
       "      <th>film_studio</th>\n",
       "      <th>production_country</th>\n",
       "      <th>director</th>\n",
       "      <th>producer</th>\n",
       "      <th>age_restriction</th>\n",
       "      <th>refundable_support</th>\n",
       "      <th>nonrefundable_support</th>\n",
       "      <th>budget</th>\n",
       "      <th>financing_source</th>\n",
       "      <th>ratings</th>\n",
       "      <th>genres</th>\n",
       "      <th>box_office</th>\n",
       "    </tr>\n",
       "  </thead>\n",
       "  <tbody>\n",
       "    <tr>\n",
       "      <th>4637</th>\n",
       "      <td>Как жениться и остаться холостым</td>\n",
       "      <td>221154310</td>\n",
       "      <td>2010-12-17 12:00:00+00:00</td>\n",
       "      <td>Художественный</td>\n",
       "      <td>Ше Вам, Скрипт Ассосье, Тэ Фэ 1 Фильм Продюксь...</td>\n",
       "      <td>Франция</td>\n",
       "      <td>Эрик Лартиго</td>\n",
       "      <td>Амандин Било, Алан Шаба</td>\n",
       "      <td>«16+» - для детей старше 16 лет</td>\n",
       "      <td>NaN</td>\n",
       "      <td>NaN</td>\n",
       "      <td>NaN</td>\n",
       "      <td>NaN</td>\n",
       "      <td>7.00</td>\n",
       "      <td>мелодрама,комедия</td>\n",
       "      <td>NaN</td>\n",
       "    </tr>\n",
       "    <tr>\n",
       "      <th>4638</th>\n",
       "      <td>Иоанна - женщина на папском престоле /По роман...</td>\n",
       "      <td>221154310</td>\n",
       "      <td>2010-12-17 12:00:00+00:00</td>\n",
       "      <td>Художественный</td>\n",
       "      <td>Константин Фильм, А Эр Ди Дегето Фильм, Дюне ...</td>\n",
       "      <td>Германия - Великобритания - Италия - Испания</td>\n",
       "      <td>Зенке Вортманн</td>\n",
       "      <td>Оливер Бербен, Дорис Д.Хайнце, Фарук Элтан</td>\n",
       "      <td>«16+» - для детей старше 16 лет</td>\n",
       "      <td>NaN</td>\n",
       "      <td>NaN</td>\n",
       "      <td>NaN</td>\n",
       "      <td>NaN</td>\n",
       "      <td>7.60</td>\n",
       "      <td>драма,мелодрама,история</td>\n",
       "      <td>NaN</td>\n",
       "    </tr>\n",
       "  </tbody>\n",
       "</table>\n",
       "</div>"
      ],
      "text/plain": [
       "                                                  title  pu_number  \\\n",
       "4637                   Как жениться и остаться холостым  221154310   \n",
       "4638  Иоанна - женщина на папском престоле /По роман...  221154310   \n",
       "\n",
       "               show_start_date            type  \\\n",
       "4637 2010-12-17 12:00:00+00:00  Художественный   \n",
       "4638 2010-12-17 12:00:00+00:00  Художественный   \n",
       "\n",
       "                                            film_studio  \\\n",
       "4637  Ше Вам, Скрипт Ассосье, Тэ Фэ 1 Фильм Продюксь...   \n",
       "4638   Константин Фильм, А Эр Ди Дегето Фильм, Дюне ...   \n",
       "\n",
       "                                production_country        director  \\\n",
       "4637                                       Франция    Эрик Лартиго   \n",
       "4638  Германия - Великобритания - Италия - Испания  Зенке Вортманн   \n",
       "\n",
       "                                        producer  \\\n",
       "4637                     Амандин Било, Алан Шаба   \n",
       "4638  Оливер Бербен, Дорис Д.Хайнце, Фарук Элтан   \n",
       "\n",
       "                      age_restriction  refundable_support  \\\n",
       "4637  «16+» - для детей старше 16 лет                 NaN   \n",
       "4638  «16+» - для детей старше 16 лет                 NaN   \n",
       "\n",
       "      nonrefundable_support  budget financing_source  ratings  \\\n",
       "4637                    NaN     NaN              NaN     7.00   \n",
       "4638                    NaN     NaN              NaN     7.60   \n",
       "\n",
       "                       genres  box_office  \n",
       "4637        мелодрама,комедия         NaN  \n",
       "4638  драма,мелодрама,история         NaN  "
      ]
     },
     "metadata": {},
     "output_type": "display_data"
    }
   ],
   "source": [
    "display(data[(data['pu_number']== 221154310)])"
   ]
  },
  {
   "cell_type": "markdown",
   "metadata": {},
   "source": [
    "\n",
    "Есть повторения как и в названиях так и в номерах прокатного удостоверения.\n",
    "    \n",
    "Такого, чтобы и название и код проката совпадали нет\n",
    "   \n"
   ]
  },
  {
   "cell_type": "markdown",
   "metadata": {
    "id": "52fOPrEBgFyQ"
   },
   "source": [
    "#### Шаг 2.4. Изучение категориальных значений"
   ]
  },
  {
   "cell_type": "code",
   "execution_count": 38,
   "metadata": {
    "scrolled": true
   },
   "outputs": [
    {
     "name": "stdout",
     "output_type": "stream",
     "text": [
      "Министерство культуры               164\n",
      "\n",
      "Фонд кино                           146\n",
      "\n",
      "Министерство культуры, Фонд кино     22\n",
      "\n",
      "Name: financing_source, dtype: int64\n"
     ]
    }
   ],
   "source": [
    "print(data['financing_source'].value_counts())"
   ]
  },
  {
   "cell_type": "code",
   "execution_count": 39,
   "metadata": {
    "scrolled": true
   },
   "outputs": [
    {
     "name": "stdout",
     "output_type": "stream",
     "text": [
      "США                                              2171\n",
      "\n",
      "Россия                                           1801\n",
      "\n",
      "СССР                                              347\n",
      "\n",
      "Франция                                           301\n",
      "\n",
      "Великобритания                                    253\n",
      "\n",
      "                                                 ... \n",
      "\n",
      "Россия, Грузия, Хорватия, Испания                   1\n",
      "\n",
      "США, Великобритания, Ирландия, Люксембург           1\n",
      "\n",
      "США - Гонконг                                       1\n",
      "\n",
      "Дания - Германия                                    1\n",
      "\n",
      "Канада - Франция - США - ОАЭ - Великобритания       1\n",
      "\n",
      "Name: production_country, Length: 950, dtype: int64\n"
     ]
    }
   ],
   "source": [
    "print(data['production_country'].value_counts())"
   ]
  },
  {
   "cell_type": "code",
   "execution_count": 40,
   "metadata": {},
   "outputs": [],
   "source": [
    "data['production_country'] = data['production_country'].str.replace(', ',',')\n",
    "data['production_country'] = data['production_country'].str.replace(' , ',',')\n",
    "data['production_country'] = data['production_country'].str.replace('-',',')\n",
    "data['production_country'] = data['production_country'].str.replace(' ,',',')"
   ]
  },
  {
   "cell_type": "code",
   "execution_count": 41,
   "metadata": {},
   "outputs": [
    {
     "name": "stdout",
     "output_type": "stream",
     "text": [
      "США                            2171\n",
      "\n",
      "Россия                         1801\n",
      "\n",
      "СССР                            347\n",
      "\n",
      "Франция                         301\n",
      "\n",
      "Великобритания                  253\n",
      "\n",
      "                               ... \n",
      "\n",
      "СССР,Монголия                     1\n",
      "\n",
      "Парагвай                          1\n",
      "\n",
      "Мексика, Франция                  1\n",
      "\n",
      "Сербия, Великобритания, США       1\n",
      "\n",
      "Германия,Франция,США              1\n",
      "\n",
      "Name: production_country, Length: 920, dtype: int64\n"
     ]
    }
   ],
   "source": [
    "print(data['production_country'].value_counts())"
   ]
  },
  {
   "cell_type": "code",
   "execution_count": 42,
   "metadata": {},
   "outputs": [
    {
     "name": "stdout",
     "output_type": "stream",
     "text": [
      "920\n"
     ]
    }
   ],
   "source": [
    "print(len(data['production_country'].unique()))"
   ]
  },
  {
   "cell_type": "code",
   "execution_count": 43,
   "metadata": {},
   "outputs": [
    {
     "name": "stdout",
     "output_type": "stream",
     "text": [
      "['боевик,драма,мелодрама' 'драма,военный' 'фантастика,боевик,триллер'\n",
      "\n",
      " 'драма' 'мелодрама,комедия' 'мюзикл,мелодрама,комедия' 'комедия,криминал'\n",
      "\n",
      " 'боевик,триллер,детектив' 'боевик,драма,приключения' 'драма,спорт'\n",
      "\n",
      " 'триллер,драма,мелодрама' 'комедия,мелодрама' 'драма,мелодрама,комедия'\n",
      "\n",
      " 'драма,мелодрама' 'драма,история' 'драма,мелодрама,семейный'\n",
      "\n",
      " 'комедия,мелодрама,криминал' 'комедия' 'боевик,драма,криминал'\n",
      "\n",
      " 'драма,комедия' 'ужасы,фантастика,комедия'\n",
      "\n",
      " 'мультфильм,короткометражка,мелодрама' 'драма,криминал'\n",
      "\n",
      " 'мультфильм,фантастика,фэнтези' 'триллер,драма,криминал'\n",
      "\n",
      " 'драма,мелодрама,биография' 'драма,комедия,военный'\n",
      "\n",
      " 'фантастика,драма,детектив' 'мюзикл,семейный' nan\n",
      "\n",
      " 'военный,приключения,драма' 'документальный,драма'\n",
      "\n",
      " 'драма,биография,история' 'боевик,триллер,драма' 'фэнтези,боевик'\n",
      "\n",
      " 'боевик,комедия,криминал' 'мюзикл,комедия,детский'\n",
      "\n",
      " 'комедия,мелодрама,драма' 'мультфильм,фэнтези,комедия' 'комедия,история'\n",
      "\n",
      " 'мелодрама' 'драма,биография,музыка' 'фэнтези,драма,мелодрама'\n",
      "\n",
      " 'триллер,военный' 'драма,мелодрама,военный' 'мюзикл,драма,мелодрама'\n",
      "\n",
      " 'мюзикл,комедия' 'мультфильм,приключения,семейный' 'ужасы,триллер'\n",
      "\n",
      " 'боевик,драма,военный' 'драма,боевик' 'мультфильм,драма,комедия'\n",
      "\n",
      " 'триллер,криминал' 'военный,биография,драма' 'комедия,семейный' 'военный'\n",
      "\n",
      " 'драма,семейный,биография' 'фэнтези,приключения,семейный'\n",
      "\n",
      " 'драма,криминал,биография' 'ужасы,триллер,детектив'\n",
      "\n",
      " 'боевик,история,драма' 'ужасы,триллер,драма' 'драма,криминал,спорт'\n",
      "\n",
      " 'документальный,короткометражка' 'триллер,драма'\n",
      "\n",
      " 'криминал,детектив,приключения' 'драма,комедия,криминал'\n",
      "\n",
      " 'драма,комедия,вестерн' 'драма,мелодрама,детектив' 'мелодрама,биография'\n",
      "\n",
      " 'фэнтези,мелодрама,драма' 'драма,мелодрама,история'\n",
      "\n",
      " 'комедия,приключения,история' 'приключения' 'драма,семейный'\n",
      "\n",
      " 'криминал,детектив' 'мультфильм,короткометражка,ужасы'\n",
      "\n",
      " 'фантастика,триллер,драма' 'фэнтези,мелодрама,комедия' 'драма,биография'\n",
      "\n",
      " 'комедия,криминал,история' 'триллер,драма,детектив'\n",
      "\n",
      " 'фантастика,комедия,приключения' 'фэнтези,семейный'\n",
      "\n",
      " 'ужасы,фантастика,боевик' 'мелодрама,криминал'\n",
      "\n",
      " 'комедия,приключения,мелодрама' 'боевик,триллер,приключения'\n",
      "\n",
      " 'боевик,приключения' 'боевик,триллер,криминал'\n",
      "\n",
      " 'документальный,военный,история' 'драма,музыка' 'боевик,драма'\n",
      "\n",
      " 'приключения,боевик' 'драма,военный,биография'\n",
      "\n",
      " 'триллер,драма,приключения' 'аниме,мультфильм,фэнтези'\n",
      "\n",
      " 'триллер,детектив,драма' 'боевик,триллер,мелодрама' 'боевик,история'\n",
      "\n",
      " 'приключения,история' 'драма,комедия,приключения'\n",
      "\n",
      " 'фэнтези,комедия,приключения' 'драма,вестерн' 'документальный,музыка'\n",
      "\n",
      " 'мелодрама,драма' 'триллер,криминал,детектив' 'ужасы'\n",
      "\n",
      " 'боевик,комедия,приключения' 'мультфильм,фэнтези,боевик'\n",
      "\n",
      " 'боевик,фэнтези,драма' 'фэнтези,драма' 'фэнтези,боевик,комедия'\n",
      "\n",
      " 'приключения,детский,комедия' 'документальный' 'боевик,триллер,комедия'\n",
      "\n",
      " 'мелодрама,комедия,криминал' 'драма,детектив' 'мюзикл,ужасы,триллер'\n",
      "\n",
      " 'детектив,триллер,ужасы' 'ужасы,фэнтези' 'ужасы,фэнтези,триллер'\n",
      "\n",
      " 'мультфильм,драма' 'ужасы,боевик,фантастика' 'боевик' 'фантастика,боевик'\n",
      "\n",
      " 'мелодрама,комедия,приключения' 'триллер,детектив'\n",
      "\n",
      " 'мюзикл,мелодрама,фэнтези' 'криминал' 'триллер,комедия,криминал'\n",
      "\n",
      " 'боевик,приключения,триллер' 'триллер,драма,военный'\n",
      "\n",
      " 'комедия,семейный,музыка' 'комедия,фантастика,мелодрама'\n",
      "\n",
      " 'фантастика,триллер,криминал' 'комедия,драма' 'боевик,военный'\n",
      "\n",
      " 'ужасы,фантастика,триллер' 'фантастика,драма,мелодрама'\n",
      "\n",
      " 'фэнтези,драма,детектив' 'боевик,триллер' 'боевик,драма,история'\n",
      "\n",
      " 'мультфильм,мюзикл,фэнтези' 'для взрослых,драма,мелодрама'\n",
      "\n",
      " 'мультфильм,боевик,детектив' 'фантастика,мелодрама,боевик'\n",
      "\n",
      " 'ужасы,фантастика,детектив' 'фантастика,боевик,приключения'\n",
      "\n",
      " 'мелодрама,комедия,спорт' 'комедия,боевик,приключения'\n",
      "\n",
      " 'документальный,приключения' 'мультфильм,короткометражка,детский'\n",
      "\n",
      " 'комедия,приключения' 'ужасы,драма' 'ужасы,фэнтези,боевик'\n",
      "\n",
      " 'мультфильм,фэнтези,детский' 'мюзикл,боевик,драма'\n",
      "\n",
      " 'семейный,комедия,драма' 'концерт,музыка' 'фэнтези,боевик,драма'\n",
      "\n",
      " 'драма,комедия,музыка' 'фантастика,фэнтези,боевик'\n",
      "\n",
      " 'фэнтези,комедия,семейный' 'фэнтези,драма,комедия'\n",
      "\n",
      " 'мультфильм,мюзикл,драма' 'триллер' 'боевик,криминал,триллер'\n",
      "\n",
      " 'мультфильм,приключения,драма' 'мелодрама,музыка'\n",
      "\n",
      " 'документальный,музыка,концерт' 'мультфильм,семейный'\n",
      "\n",
      " 'мультфильм,комедия,приключения' 'мультфильм,комедия,семейный'\n",
      "\n",
      " 'фантастика,драма' 'фэнтези,боевик,приключения' 'мультфильм,приключения'\n",
      "\n",
      " 'драма,военный,история' 'история' 'драма,приключения,военный'\n",
      "\n",
      " 'документальный,короткометражка,семейный' 'мелодрама,история,триллер'\n",
      "\n",
      " 'ужасы,детектив' 'мюзикл,комедия,приключения' 'драма,спорт,биография'\n",
      "\n",
      " 'фантастика,боевик,комедия' 'фантастика,приключения,детектив'\n",
      "\n",
      " 'короткометражка,драма,военный' 'драма,мультфильм' 'приключения,семейный'\n",
      "\n",
      " 'детектив' 'триллер,приключения' 'аниме,мультфильм,боевик'\n",
      "\n",
      " 'драма,комедия,биография' 'драма,комедия,спорт'\n",
      "\n",
      " 'боевик,мелодрама,комедия' 'семейный,комедия' 'фэнтези,боевик,триллер'\n",
      "\n",
      " 'документальный,фэнтези,семейный' 'фантастика,фэнтези,драма'\n",
      "\n",
      " 'ужасы,комедия,фэнтези' 'документальный,биография,музыка'\n",
      "\n",
      " 'фантастика,боевик,фэнтези' 'ужасы,боевик,триллер'\n",
      "\n",
      " 'комедия,криминал,семейный' 'приключения,драма' 'криминал,драма,триллер'\n",
      "\n",
      " 'драма,детектив,криминал' 'фэнтези,приключения,комедия' 'комедия,спорт'\n",
      "\n",
      " 'мюзикл,фэнтези,мелодрама' 'мультфильм,фэнтези,приключения'\n",
      "\n",
      " 'фантастика,фэнтези,приключения' 'фэнтези' 'фэнтези,приключения,боевик'\n",
      "\n",
      " 'фантастика,боевик,драма' 'криминал,драма' 'криминал,триллер,драма'\n",
      "\n",
      " 'драма,мелодрама,приключения' 'детский,комедия' 'фантастика,драма,боевик'\n",
      "\n",
      " 'мультфильм,семейный,фэнтези' 'концерт,музыка,документальный'\n",
      "\n",
      " 'ужасы,комедия,приключения' 'драма,мелодрама,криминал'\n",
      "\n",
      " 'ужасы,фантастика,фэнтези' 'боевик,комедия'\n",
      "\n",
      " 'мультфильм,фантастика,комедия' 'триллер,ужасы'\n",
      "\n",
      " 'мультфильм,мюзикл,комедия' 'мелодрама,фэнтези,триллер'\n",
      "\n",
      " 'детский,приключения,комедия' 'комедия,детектив'\n",
      "\n",
      " 'аниме,мультфильм,мелодрама' 'документальный,драма,семейный'\n",
      "\n",
      " 'документальный,биография,история' 'военный,боевик,драма' 'ужасы,комедия'\n",
      "\n",
      " 'комедия,приключения,семейный' 'приключения,биография,история'\n",
      "\n",
      " 'детский,приключения,семейный' 'спорт,драма,биография'\n",
      "\n",
      " 'аниме,мультфильм,ужасы' 'фантастика,боевик,криминал' 'мюзикл,драма'\n",
      "\n",
      " 'драма,криминал,детектив' 'аниме,мультфильм,драма'\n",
      "\n",
      " 'драма,триллер,приключения' 'триллер,криминал,драма'\n",
      "\n",
      " 'фэнтези,комедия,драма' 'мультфильм,комедия' 'драма,комедия,история'\n",
      "\n",
      " 'комедия,биография,история' 'мультфильм,фантастика,приключения'\n",
      "\n",
      " 'аниме,мультфильм,фантастика' 'мультфильм,фэнтези,семейный'\n",
      "\n",
      " 'мультфильм,боевик,комедия' 'комедия,криминал,спорт'\n",
      "\n",
      " 'документальный,мюзикл' 'мелодрама,комедия,музыка' 'биография'\n",
      "\n",
      " 'триллер,криминал,комедия' 'фантастика,драма,комедия'\n",
      "\n",
      " 'комедия,драма,мелодрама' 'фантастика,приключения,боевик'\n",
      "\n",
      " 'мультфильм,фэнтези,драма' 'триллер,комедия'\n",
      "\n",
      " 'драма,приключения,биография' 'фантастика,комедия'\n",
      "\n",
      " 'мелодрама,драма,комедия' 'боевик,криминал' 'драма,криминал,боевик'\n",
      "\n",
      " 'мультфильм,мюзикл,детский' 'драма,фэнтези' 'документальный,семейный'\n",
      "\n",
      " 'фэнтези,драма,приключения' 'ужасы,комедия,фантастика'\n",
      "\n",
      " 'драма,мелодрама,музыка' 'фэнтези,драма,семейный'\n",
      "\n",
      " 'триллер,мелодрама,драма' 'вестерн,боевик,драма'\n",
      "\n",
      " 'мультфильм,короткометражка,комедия' 'триллер,драма,история'\n",
      "\n",
      " 'ужасы,фантастика' 'ужасы,мелодрама,комедия' 'фэнтези,приключения'\n",
      "\n",
      " 'фантастика,триллер' 'ужасы,боевик,фэнтези' 'мультфильм,комедия,детский'\n",
      "\n",
      " 'триллер,драма,биография' 'мультфильм,ужасы,фэнтези'\n",
      "\n",
      " 'мультфильм,ужасы,фантастика' 'ужасы,боевик,комедия'\n",
      "\n",
      " 'драма,биография,спорт' 'мультфильм' 'мелодрама,комедия,драма'\n",
      "\n",
      " 'приключения,фантастика,семейный' 'комедия,криминал,детектив'\n",
      "\n",
      " 'ужасы,триллер,комедия' 'криминал,комедия,триллер'\n",
      "\n",
      " 'семейный,приключения,комедия' 'мультфильм,драма,приключения'\n",
      "\n",
      " 'ужасы,драма,детектив' 'драма,приключения,фэнтези'\n",
      "\n",
      " 'фантастика,мультфильм,драма' 'драма,триллер,детектив'\n",
      "\n",
      " 'драма,история,музыка' 'детский' 'триллер,боевик,криминал'\n",
      "\n",
      " 'драма,фантастика' 'комедия,драма,семейный' 'боевик,драма,комедия'\n",
      "\n",
      " 'комедия,ужасы' 'драма,фантастика,триллер' 'фантастика,драма,триллер'\n",
      "\n",
      " 'история,спорт,драма' 'документальный,биография' 'биография,история'\n",
      "\n",
      " 'спорт,драма' 'боевик,фэнтези' 'мультфильм,фэнтези'\n",
      "\n",
      " 'документальный,комедия,история' 'криминал,комедия,боевик'\n",
      "\n",
      " 'фэнтези,приключения,драма' 'музыка,концерт' 'триллер,драма,боевик'\n",
      "\n",
      " 'комедия,криминал,боевик' 'комедия,фантастика,боевик'\n",
      "\n",
      " 'вестерн,приключения,боевик' 'аниме,мультфильм,комедия'\n",
      "\n",
      " 'детектив,криминал,триллер' 'мультфильм,комедия,криминал'\n",
      "\n",
      " 'комедия,приключения,детектив' 'мелодрама,фантастика,драма'\n",
      "\n",
      " 'драма,комедия,семейный' 'приключения,фантастика'\n",
      "\n",
      " 'триллер,детектив,ужасы' 'комедия,приключения,фэнтези'\n",
      "\n",
      " 'фэнтези,триллер,драма' 'мелодрама,приключения,боевик'\n",
      "\n",
      " 'детектив,триллер,криминал' 'фэнтези,семейный,мелодрама' 'военный,драма'\n",
      "\n",
      " 'документальный,приключения,семейный' 'криминал,комедия,драма'\n",
      "\n",
      " 'комедия,фантастика' 'история,биография,драма' 'мелодрама,драма,музыка'\n",
      "\n",
      " 'боевик,мелодрама' 'комедия,криминал,триллер' 'детектив,триллер,боевик'\n",
      "\n",
      " 'комедия,боевик,криминал' 'комедия,вестерн' 'детский,мелодрама,семейный'\n",
      "\n",
      " 'короткометражка,мультфильм' 'комедия,фэнтези' 'фантастика,драма,ужасы'\n",
      "\n",
      " 'триллер,драма,ужасы' 'драма,фэнтези,история'\n",
      "\n",
      " 'комедия,драма,короткометражка' 'фэнтези,триллер,приключения' 'семейный'\n",
      "\n",
      " 'комедия,криминал,драма' 'комедия,фэнтези,ужасы'\n",
      "\n",
      " 'короткометражка,комедия,криминал' 'фантастика' 'триллер,ужасы,драма'\n",
      "\n",
      " 'мелодрама,драма,фэнтези' 'фантастика,приключения,драма'\n",
      "\n",
      " 'боевик,детектив' 'военный,драма,боевик' 'комедия,мелодрама,фэнтези'\n",
      "\n",
      " 'вестерн,криминал,триллер' 'драма,история,триллер'\n",
      "\n",
      " 'мультфильм,фантастика,боевик' 'детектив,драма,криминал'\n",
      "\n",
      " 'приключения,история,драма' 'мультфильм,семейный,детский'\n",
      "\n",
      " 'биография,драма,история' 'триллер,криминал,боевик' 'история,мелодрама'\n",
      "\n",
      " 'приключения,детский' 'музыка,приключения,концерт'\n",
      "\n",
      " 'военный,драма,комедия' 'фэнтези,боевик,военный'\n",
      "\n",
      " 'фантастика,детектив,боевик' 'мультфильм,фэнтези,история'\n",
      "\n",
      " 'биография,мелодрама,драма' 'документальный,биография,спорт'\n",
      "\n",
      " 'фантастика,комедия,детектив' 'музыка,концерт,документальный'\n",
      "\n",
      " 'триллер,боевик,приключения' 'триллер,драма,комедия' 'детектив,криминал'\n",
      "\n",
      " 'мультфильм,приключения,фэнтези' 'мелодрама,приключения' 'комедия,музыка'\n",
      "\n",
      " 'мелодрама,комедия,ужасы' 'драма,криминал,приключения'\n",
      "\n",
      " 'приключения,детектив,мелодрама' 'драма,криминал,фантастика'\n",
      "\n",
      " 'фэнтези,драма,биография' 'детектив,фантастика,криминал'\n",
      "\n",
      " 'триллер,драма,фантастика' 'ужасы,комедия,боевик' 'мелодрама,история'\n",
      "\n",
      " 'триллер,боевик' 'фильм-нуар,триллер,детектив'\n",
      "\n",
      " 'комедия,криминал,приключения' 'ужасы,триллер,мелодрама'\n",
      "\n",
      " 'военный,драма,история' 'драма,спорт,история'\n",
      "\n",
      " 'документальный,драма,история' 'триллер,мелодрама,детектив'\n",
      "\n",
      " 'детский,семейный' 'мюзикл,семейный,драма' 'биография,военный,драма'\n",
      "\n",
      " 'мультфильм,детский' 'боевик,криминал,драма' 'детектив,фэнтези,триллер'\n",
      "\n",
      " 'драма,боевик,приключения' 'драма,мелодрама,фэнтези'\n",
      "\n",
      " 'детектив,история,драма' 'фэнтези,боевик,ужасы' 'ужасы,фэнтези,мелодрама'\n",
      "\n",
      " 'ужасы,приключения' 'боевик,фантастика' 'ужасы,мелодрама,детектив'\n",
      "\n",
      " 'фантастика,триллер,приключения' 'боевик,приключения,история'\n",
      "\n",
      " 'приключения,боевик,триллер' 'детектив,ужасы,криминал' 'семейный,фэнтези'\n",
      "\n",
      " 'мюзикл,мелодрама' 'драма,военный,приключения'\n",
      "\n",
      " 'фантастика,драма,приключения' 'приключения,семейный,драма'\n",
      "\n",
      " 'история,драма,боевик' 'мультфильм,приключения,комедия'\n",
      "\n",
      " 'криминал,драма,комедия' 'ужасы,комедия,драма'\n",
      "\n",
      " 'комедия,семейный,приключения' 'мюзикл,фэнтези,драма'\n",
      "\n",
      " 'драма,вестерн,боевик' 'фантастика,триллер,детектив'\n",
      "\n",
      " 'драма,история,детектив' 'короткометражка,биография'\n",
      "\n",
      " 'мультфильм,приключения,фантастика' 'комедия,триллер'\n",
      "\n",
      " 'мультфильм,приключения,детектив' 'драма,триллер'\n",
      "\n",
      " 'ужасы,триллер,криминал' 'документальный,криминал,военный'\n",
      "\n",
      " 'ужасы,фэнтези,драма' 'фэнтези,комедия' 'ужасы,фэнтези,комедия'\n",
      "\n",
      " 'комедия,музыка,драма' 'мультфильм,приключения,военный'\n",
      "\n",
      " 'мюзикл,фэнтези,комедия' 'боевик,фантастика,приключения'\n",
      "\n",
      " 'триллер,ужасы,криминал' 'ужасы,фантастика,драма'\n",
      "\n",
      " 'фантастика,приключения,семейный' 'короткометражка,музыка'\n",
      "\n",
      " 'мелодрама,детектив,комедия' 'документальный,триллер,биография'\n",
      "\n",
      " 'боевик,фантастика,триллер' 'спорт,драма,комедия'\n",
      "\n",
      " 'фэнтези,мелодрама,приключения' 'триллер,детектив,криминал'\n",
      "\n",
      " 'короткометражка,мелодрама' 'мультфильм,семейный,спорт'\n",
      "\n",
      " 'комедия,фэнтези,мелодрама' 'драма,спорт,комедия'\n",
      "\n",
      " 'история,драма,мелодрама' 'драма,боевик,криминал' 'драма,комедия,триллер'\n",
      "\n",
      " 'аниме,мультфильм' 'документальный,ужасы' 'мультфильм,короткометражка'\n",
      "\n",
      " 'драма,история,военный' 'мультфильм,короткометражка,фэнтези'\n",
      "\n",
      " 'комедия,военный,музыка' 'биография,история,драма'\n",
      "\n",
      " 'ужасы,драма,мелодрама' 'драма,комедия,детектив'\n",
      "\n",
      " 'комедия,семейный,фантастика' 'мультфильм,семейный,комедия'\n",
      "\n",
      " 'история,детектив' 'приключения,мелодрама,детектив'\n",
      "\n",
      " 'мюзикл,комедия,мелодрама' 'драма,фантастика,ужасы'\n",
      "\n",
      " 'мультфильм,ужасы,комедия' 'для взрослых,драма,комедия'\n",
      "\n",
      " 'ужасы,комедия,музыка' 'комедия,история,драма'\n",
      "\n",
      " 'семейный,детектив,детский' 'короткометражка,драма'\n",
      "\n",
      " 'документальный,новости,драма' 'триллер,мелодрама' 'ужасы,драма,вестерн'\n",
      "\n",
      " 'мюзикл,фэнтези,семейный' 'вестерн,драма,триллер'\n",
      "\n",
      " 'приключения,вестерн,боевик' 'семейный,комедия,музыка'\n",
      "\n",
      " 'боевик,драма,вестерн' 'ужасы,драма,триллер' 'фантастика,мелодрама'\n",
      "\n",
      " 'комедия,криминал,биография' 'семейный,мультфильм,комедия'\n",
      "\n",
      " 'комедия,драма,криминал' 'фантастика,боевик,военный'\n",
      "\n",
      " 'приключения,биография,драма' 'приключения,триллер,биография'\n",
      "\n",
      " 'криминал,боевик,триллер' 'боевик,вестерн,приключения' 'история,драма'\n",
      "\n",
      " 'фантастика,фэнтези,комедия' 'мультфильм,детский,комедия'\n",
      "\n",
      " 'мелодрама,комедия,триллер' 'документальный,боевик,приключения'\n",
      "\n",
      " 'драма,приключения' 'мелодрама,военный,драма' 'триллер,фэнтези'\n",
      "\n",
      " 'драма,триллер,биография' 'фэнтези,боевик,семейный'\n",
      "\n",
      " 'фантастика,триллер,комедия' 'документальный,фэнтези'\n",
      "\n",
      " 'комедия,мультфильм,фантастика' 'криминал,биография,комедия'\n",
      "\n",
      " 'биография,спорт,драма' 'приключения,военный' 'мультфильм,семейный,драма'\n",
      "\n",
      " 'документальный,фэнтези,драма' 'комедия,боевик,фантастика'\n",
      "\n",
      " 'семейный,приключения,военный' 'триллер,ужасы,детектив' 'короткометражка'\n",
      "\n",
      " 'мелодрама,триллер,история' 'документальный,история'\n",
      "\n",
      " 'мультфильм,приключения,детский' 'драма,комедия,мультфильм'\n",
      "\n",
      " 'военный,детектив' 'семейный,приключения,документальный'\n",
      "\n",
      " 'детский,фэнтези' 'документальный,комедия' 'комедия,биография'\n",
      "\n",
      " 'криминал,комедия' 'спорт,мелодрама,криминал' 'фантастика,комедия,боевик'\n",
      "\n",
      " 'боевик,приключения,детектив' 'детектив,триллер,драма'\n",
      "\n",
      " 'документальный,фантастика' 'мелодрама,комедия,семейный'\n",
      "\n",
      " 'мультфильм,мелодрама,комедия' 'драма,спорт,семейный'\n",
      "\n",
      " 'фантастика,мелодрама,фэнтези' 'мюзикл,комедия,музыка'\n",
      "\n",
      " 'фантастика,триллер,мелодрама' 'приключения,комедия,фэнтези'\n",
      "\n",
      " 'фэнтези,боевик,детектив' 'фэнтези,боевик,мелодрама' 'комедия,военный'\n",
      "\n",
      " 'драма,спорт,боевик' 'мультфильм,боевик,триллер' 'мелодрама,семейный'\n",
      "\n",
      " 'фантастика,боевик,детектив' 'драма,приключения,история'\n",
      "\n",
      " 'документальный,драма,музыка' 'фантастика,триллер,боевик'\n",
      "\n",
      " 'фэнтези,боевик,вестерн' 'драма,комедия,мелодрама'\n",
      "\n",
      " 'ужасы,фэнтези,приключения' 'триллер,фэнтези,драма'\n",
      "\n",
      " 'мультфильм,мюзикл,мелодрама' 'ужасы,триллер,фантастика'\n",
      "\n",
      " 'триллер,мелодрама,комедия' 'ужасы,комедия,семейный'\n",
      "\n",
      " 'комедия,приключения,музыка' 'документальный,комедия,криминал'\n",
      "\n",
      " 'мелодрама,детектив' 'детский,приключения,фантастика'\n",
      "\n",
      " 'короткометражка,боевик,драма' 'боевик,комедия,семейный'\n",
      "\n",
      " 'фантастика,боевик,мелодрама' 'фэнтези,триллер,мелодрама'\n",
      "\n",
      " 'драма,детектив,история' 'боевик,криминал,детектив'\n",
      "\n",
      " 'мультфильм,фэнтези,мелодрама' 'мелодрама,драма,боевик'\n",
      "\n",
      " 'драма,вестерн,приключения' 'драма,приключения,мелодрама'\n",
      "\n",
      " 'фэнтези,боевик,криминал' 'фантастика,комедия,семейный'\n",
      "\n",
      " 'детский,фэнтези,приключения' 'ужасы,боевик'\n",
      "\n",
      " 'фантастика,мелодрама,комедия' 'семейный,спорт,боевик'\n",
      "\n",
      " 'триллер,биография,драма' 'ужасы,драма,комедия'\n",
      "\n",
      " 'мультфильм,фэнтези,триллер' 'мюзикл' 'боевик,спорт,драма'\n",
      "\n",
      " 'комедия,приключения,вестерн' 'документальный,ужасы,боевик'\n",
      "\n",
      " 'фантастика,боевик,семейный' 'военный,история' 'ужасы,боевик,криминал'\n",
      "\n",
      " 'детектив,триллер' 'драма,семейный,комедия' 'драма,детектив,приключения'\n",
      "\n",
      " 'драма,криминал,история' 'приключения,триллер' 'боевик,драма,биография'\n",
      "\n",
      " 'драма,приключения,триллер' 'комедия,фэнтези,приключения'\n",
      "\n",
      " 'фантастика,боевик,ужасы' 'драма,комедия,фантастика'\n",
      "\n",
      " 'детектив,криминал,драма' 'боевик,триллер,фэнтези'\n",
      "\n",
      " 'приключения,детектив,семейный' 'ужасы,комедия,криминал'\n",
      "\n",
      " 'мультфильм,биография,драма' 'история,боевик,фэнтези'\n",
      "\n",
      " 'детектив,криминал,боевик' 'приключения,фэнтези'\n",
      "\n",
      " 'комедия,приключения,спорт' 'драма,биография,мюзикл'\n",
      "\n",
      " 'комедия,семейный,фэнтези' 'детектив,драма,триллер'\n",
      "\n",
      " 'боевик,приключения,семейный' 'биография,спорт,комедия'\n",
      "\n",
      " 'фантастика,приключения,военный' 'документальный,драма,биография'\n",
      "\n",
      " 'детектив,приключения,драма' 'аниме,мультфильм,приключения'\n",
      "\n",
      " 'семейный,приключения' 'ужасы,фэнтези,детектив' 'семейный,документальный'\n",
      "\n",
      " 'драма,приключения,семейный' 'приключения,история,военный'\n",
      "\n",
      " 'фэнтези,мелодрама' 'фэнтези,триллер,детектив'\n",
      "\n",
      " 'документальный,спорт,биография' 'комедия,триллер,драма' 'драма,ужасы'\n",
      "\n",
      " 'биография,музыка,драма' 'фэнтези,ужасы' 'детектив,мелодрама,фэнтези'\n",
      "\n",
      " 'боевик,военный,история' 'биография,драма,криминал'\n",
      "\n",
      " 'триллер,мелодрама,криминал' 'семейный,мелодрама' 'биография,драма'\n",
      "\n",
      " 'военный,история,драма' 'фантастика,детектив,фэнтези'\n",
      "\n",
      " 'детектив,приключения,триллер' 'фантастика,приключения'\n",
      "\n",
      " 'мультфильм,короткометражка,мюзикл' 'мультфильм,детский,семейный'\n",
      "\n",
      " 'документальный,драма,комедия' 'комедия,приключения,криминал'\n",
      "\n",
      " 'документальный,семейный,музыка' 'мелодрама,музыка,драма'\n",
      "\n",
      " 'детектив,фантастика,триллер' 'драма,мелодрама,триллер'\n",
      "\n",
      " 'биография,драма,военный' 'приключения,фантастика,драма'\n",
      "\n",
      " 'детектив,фильм-нуар,комедия' 'документальный,спорт'\n",
      "\n",
      " 'триллер,фантастика,драма' 'биография,документальный'\n",
      "\n",
      " 'ужасы,фантастика,мелодрама' 'детектив,комедия'\n",
      "\n",
      " 'история,биография,военный' 'криминал,мелодрама' 'драма,криминал,вестерн'\n",
      "\n",
      " 'мелодрама,семейный,приключения' 'триллер,ужасы,мелодрама'\n",
      "\n",
      " 'фэнтези,драма,фильм-нуар' 'детектив,мелодрама' 'комедия,драма,биография'\n",
      "\n",
      " 'драма,военный,боевик' 'драма,комедия,ужасы' 'фантастика,драма,криминал'\n",
      "\n",
      " 'документальный,музыка,биография' 'мультфильм,боевик,приключения'\n",
      "\n",
      " 'мультфильм,мелодрама,драма' 'боевик,военный,драма'\n",
      "\n",
      " 'фэнтези,семейный,приключения' 'детский,мультфильм,приключения'\n",
      "\n",
      " 'семейный,фэнтези,комедия' 'фэнтези,ужасы,триллер'\n",
      "\n",
      " 'ужасы,триллер,приключения' 'драма,боевик,история'\n",
      "\n",
      " 'фэнтези,комедия,детектив' 'история,приключения'\n",
      "\n",
      " 'аниме,мультфильм,короткометражка' 'драма,военный,триллер'\n",
      "\n",
      " 'биография,криминал,триллер' 'фантастика,фэнтези,детектив'\n",
      "\n",
      " 'вестерн,биография,драма' 'биография,музыка,мюзикл'\n",
      "\n",
      " 'драма,история,биография' 'приключения,драма,фантастика'\n",
      "\n",
      " 'комедия,фэнтези,криминал' 'биография,спорт,история'\n",
      "\n",
      " 'драма,криминал,семейный' 'детектив,боевик,история'\n",
      "\n",
      " 'ужасы,комедия,детектив' 'триллер,приключения,драма'\n",
      "\n",
      " 'фэнтези,комедия,криминал' 'триллер,криминал,приключения'\n",
      "\n",
      " 'комедия,детектив,приключения' 'фэнтези,драма,ужасы'\n",
      "\n",
      " 'ужасы,драма,военный' 'реальное ТВ' 'аниме,мультфильм,детектив'\n",
      "\n",
      " 'приключения,фэнтези,семейный' 'драма,биография,комедия'\n",
      "\n",
      " 'триллер,комедия,ужасы' 'музыка,мелодрама,фэнтези' 'мультфильм,история'\n",
      "\n",
      " 'мультфильм,комедия,фантастика' 'биография,криминал,драма'\n",
      "\n",
      " 'комедия,мелодрама,фантастика' 'криминал,боевик,комедия'\n",
      "\n",
      " 'история,криминал' 'детектив,комедия,драма' 'триллер,фантастика,боевик'\n",
      "\n",
      " 'криминал,боевик' 'комедия,драма,военный' 'драма,триллер,криминал'\n",
      "\n",
      " 'мультфильм,мелодрама,приключения' 'фантастика,фэнтези,триллер'\n",
      "\n",
      " 'короткометражка,драма,триллер' 'военный,боевик,история'\n",
      "\n",
      " 'боевик,драма,триллер' 'документальный,военный,драма'\n",
      "\n",
      " 'драма,криминал,фильм-нуар' 'мультфильм,детский,приключения'\n",
      "\n",
      " 'мелодрама,история,драма']\n"
     ]
    }
   ],
   "source": [
    "print(data['genres'].unique())"
   ]
  },
  {
   "cell_type": "code",
   "execution_count": 44,
   "metadata": {
    "scrolled": true
   },
   "outputs": [
    {
     "name": "stdout",
     "output_type": "stream",
     "text": [
      "742\n"
     ]
    }
   ],
   "source": [
    "print(len(data['genres'].unique()))"
   ]
  },
  {
   "cell_type": "code",
   "execution_count": 45,
   "metadata": {},
   "outputs": [],
   "source": [
    "data['genres'] = data['genres'].str.replace(' ',',')"
   ]
  },
  {
   "cell_type": "code",
   "execution_count": 46,
   "metadata": {},
   "outputs": [
    {
     "name": "stdout",
     "output_type": "stream",
     "text": [
      "['боевик,драма,мелодрама' 'драма,военный' 'фантастика,боевик,триллер'\n",
      "\n",
      " 'драма' 'мелодрама,комедия' 'мюзикл,мелодрама,комедия' 'комедия,криминал'\n",
      "\n",
      " 'боевик,триллер,детектив' 'боевик,драма,приключения' 'драма,спорт'\n",
      "\n",
      " 'триллер,драма,мелодрама' 'комедия,мелодрама' 'драма,мелодрама,комедия'\n",
      "\n",
      " 'драма,мелодрама' 'драма,история' 'драма,мелодрама,семейный'\n",
      "\n",
      " 'комедия,мелодрама,криминал' 'комедия' 'боевик,драма,криминал'\n",
      "\n",
      " 'драма,комедия' 'ужасы,фантастика,комедия'\n",
      "\n",
      " 'мультфильм,короткометражка,мелодрама' 'драма,криминал'\n",
      "\n",
      " 'мультфильм,фантастика,фэнтези' 'триллер,драма,криминал'\n",
      "\n",
      " 'драма,мелодрама,биография' 'драма,комедия,военный'\n",
      "\n",
      " 'фантастика,драма,детектив' 'мюзикл,семейный' nan\n",
      "\n",
      " 'военный,приключения,драма' 'документальный,драма'\n",
      "\n",
      " 'драма,биография,история' 'боевик,триллер,драма' 'фэнтези,боевик'\n",
      "\n",
      " 'боевик,комедия,криминал' 'мюзикл,комедия,детский'\n",
      "\n",
      " 'комедия,мелодрама,драма' 'мультфильм,фэнтези,комедия' 'комедия,история'\n",
      "\n",
      " 'мелодрама' 'драма,биография,музыка' 'фэнтези,драма,мелодрама'\n",
      "\n",
      " 'триллер,военный' 'драма,мелодрама,военный' 'мюзикл,драма,мелодрама'\n",
      "\n",
      " 'мюзикл,комедия' 'мультфильм,приключения,семейный' 'ужасы,триллер'\n",
      "\n",
      " 'боевик,драма,военный' 'драма,боевик' 'мультфильм,драма,комедия'\n",
      "\n",
      " 'триллер,криминал' 'военный,биография,драма' 'комедия,семейный' 'военный'\n",
      "\n",
      " 'драма,семейный,биография' 'фэнтези,приключения,семейный'\n",
      "\n",
      " 'драма,криминал,биография' 'ужасы,триллер,детектив'\n",
      "\n",
      " 'боевик,история,драма' 'ужасы,триллер,драма' 'драма,криминал,спорт'\n",
      "\n",
      " 'документальный,короткометражка' 'триллер,драма'\n",
      "\n",
      " 'криминал,детектив,приключения' 'драма,комедия,криминал'\n",
      "\n",
      " 'драма,комедия,вестерн' 'драма,мелодрама,детектив' 'мелодрама,биография'\n",
      "\n",
      " 'фэнтези,мелодрама,драма' 'драма,мелодрама,история'\n",
      "\n",
      " 'комедия,приключения,история' 'приключения' 'драма,семейный'\n",
      "\n",
      " 'криминал,детектив' 'мультфильм,короткометражка,ужасы'\n",
      "\n",
      " 'фантастика,триллер,драма' 'фэнтези,мелодрама,комедия' 'драма,биография'\n",
      "\n",
      " 'комедия,криминал,история' 'триллер,драма,детектив'\n",
      "\n",
      " 'фантастика,комедия,приключения' 'фэнтези,семейный'\n",
      "\n",
      " 'ужасы,фантастика,боевик' 'мелодрама,криминал'\n",
      "\n",
      " 'комедия,приключения,мелодрама' 'боевик,триллер,приключения'\n",
      "\n",
      " 'боевик,приключения' 'боевик,триллер,криминал'\n",
      "\n",
      " 'документальный,военный,история' 'драма,музыка' 'боевик,драма'\n",
      "\n",
      " 'приключения,боевик' 'драма,военный,биография'\n",
      "\n",
      " 'триллер,драма,приключения' 'аниме,мультфильм,фэнтези'\n",
      "\n",
      " 'триллер,детектив,драма' 'боевик,триллер,мелодрама' 'боевик,история'\n",
      "\n",
      " 'приключения,история' 'драма,комедия,приключения'\n",
      "\n",
      " 'фэнтези,комедия,приключения' 'драма,вестерн' 'документальный,музыка'\n",
      "\n",
      " 'мелодрама,драма' 'триллер,криминал,детектив' 'ужасы'\n",
      "\n",
      " 'боевик,комедия,приключения' 'мультфильм,фэнтези,боевик'\n",
      "\n",
      " 'боевик,фэнтези,драма' 'фэнтези,драма' 'фэнтези,боевик,комедия'\n",
      "\n",
      " 'приключения,детский,комедия' 'документальный' 'боевик,триллер,комедия'\n",
      "\n",
      " 'мелодрама,комедия,криминал' 'драма,детектив' 'мюзикл,ужасы,триллер'\n",
      "\n",
      " 'детектив,триллер,ужасы' 'ужасы,фэнтези' 'ужасы,фэнтези,триллер'\n",
      "\n",
      " 'мультфильм,драма' 'ужасы,боевик,фантастика' 'боевик' 'фантастика,боевик'\n",
      "\n",
      " 'мелодрама,комедия,приключения' 'триллер,детектив'\n",
      "\n",
      " 'мюзикл,мелодрама,фэнтези' 'криминал' 'триллер,комедия,криминал'\n",
      "\n",
      " 'боевик,приключения,триллер' 'триллер,драма,военный'\n",
      "\n",
      " 'комедия,семейный,музыка' 'комедия,фантастика,мелодрама'\n",
      "\n",
      " 'фантастика,триллер,криминал' 'комедия,драма' 'боевик,военный'\n",
      "\n",
      " 'ужасы,фантастика,триллер' 'фантастика,драма,мелодрама'\n",
      "\n",
      " 'фэнтези,драма,детектив' 'боевик,триллер' 'боевик,драма,история'\n",
      "\n",
      " 'мультфильм,мюзикл,фэнтези' 'для,взрослых,драма,мелодрама'\n",
      "\n",
      " 'мультфильм,боевик,детектив' 'фантастика,мелодрама,боевик'\n",
      "\n",
      " 'ужасы,фантастика,детектив' 'фантастика,боевик,приключения'\n",
      "\n",
      " 'мелодрама,комедия,спорт' 'комедия,боевик,приключения'\n",
      "\n",
      " 'документальный,приключения' 'мультфильм,короткометражка,детский'\n",
      "\n",
      " 'комедия,приключения' 'ужасы,драма' 'ужасы,фэнтези,боевик'\n",
      "\n",
      " 'мультфильм,фэнтези,детский' 'мюзикл,боевик,драма'\n",
      "\n",
      " 'семейный,комедия,драма' 'концерт,музыка' 'фэнтези,боевик,драма'\n",
      "\n",
      " 'драма,комедия,музыка' 'фантастика,фэнтези,боевик'\n",
      "\n",
      " 'фэнтези,комедия,семейный' 'фэнтези,драма,комедия'\n",
      "\n",
      " 'мультфильм,мюзикл,драма' 'триллер' 'боевик,криминал,триллер'\n",
      "\n",
      " 'мультфильм,приключения,драма' 'мелодрама,музыка'\n",
      "\n",
      " 'документальный,музыка,концерт' 'мультфильм,семейный'\n",
      "\n",
      " 'мультфильм,комедия,приключения' 'мультфильм,комедия,семейный'\n",
      "\n",
      " 'фантастика,драма' 'фэнтези,боевик,приключения' 'мультфильм,приключения'\n",
      "\n",
      " 'драма,военный,история' 'история' 'драма,приключения,военный'\n",
      "\n",
      " 'документальный,короткометражка,семейный' 'мелодрама,история,триллер'\n",
      "\n",
      " 'ужасы,детектив' 'мюзикл,комедия,приключения' 'драма,спорт,биография'\n",
      "\n",
      " 'фантастика,боевик,комедия' 'фантастика,приключения,детектив'\n",
      "\n",
      " 'короткометражка,драма,военный' 'драма,мультфильм' 'приключения,семейный'\n",
      "\n",
      " 'детектив' 'триллер,приключения' 'аниме,мультфильм,боевик'\n",
      "\n",
      " 'драма,комедия,биография' 'драма,комедия,спорт'\n",
      "\n",
      " 'боевик,мелодрама,комедия' 'семейный,комедия' 'фэнтези,боевик,триллер'\n",
      "\n",
      " 'документальный,фэнтези,семейный' 'фантастика,фэнтези,драма'\n",
      "\n",
      " 'ужасы,комедия,фэнтези' 'документальный,биография,музыка'\n",
      "\n",
      " 'фантастика,боевик,фэнтези' 'ужасы,боевик,триллер'\n",
      "\n",
      " 'комедия,криминал,семейный' 'приключения,драма' 'криминал,драма,триллер'\n",
      "\n",
      " 'драма,детектив,криминал' 'фэнтези,приключения,комедия' 'комедия,спорт'\n",
      "\n",
      " 'мюзикл,фэнтези,мелодрама' 'мультфильм,фэнтези,приключения'\n",
      "\n",
      " 'фантастика,фэнтези,приключения' 'фэнтези' 'фэнтези,приключения,боевик'\n",
      "\n",
      " 'фантастика,боевик,драма' 'криминал,драма' 'криминал,триллер,драма'\n",
      "\n",
      " 'драма,мелодрама,приключения' 'детский,комедия' 'фантастика,драма,боевик'\n",
      "\n",
      " 'мультфильм,семейный,фэнтези' 'концерт,музыка,документальный'\n",
      "\n",
      " 'ужасы,комедия,приключения' 'драма,мелодрама,криминал'\n",
      "\n",
      " 'ужасы,фантастика,фэнтези' 'боевик,комедия'\n",
      "\n",
      " 'мультфильм,фантастика,комедия' 'триллер,ужасы'\n",
      "\n",
      " 'мультфильм,мюзикл,комедия' 'мелодрама,фэнтези,триллер'\n",
      "\n",
      " 'детский,приключения,комедия' 'комедия,детектив'\n",
      "\n",
      " 'аниме,мультфильм,мелодрама' 'документальный,драма,семейный'\n",
      "\n",
      " 'документальный,биография,история' 'военный,боевик,драма' 'ужасы,комедия'\n",
      "\n",
      " 'комедия,приключения,семейный' 'приключения,биография,история'\n",
      "\n",
      " 'детский,приключения,семейный' 'спорт,драма,биография'\n",
      "\n",
      " 'аниме,мультфильм,ужасы' 'фантастика,боевик,криминал' 'мюзикл,драма'\n",
      "\n",
      " 'драма,криминал,детектив' 'аниме,мультфильм,драма'\n",
      "\n",
      " 'драма,триллер,приключения' 'триллер,криминал,драма'\n",
      "\n",
      " 'фэнтези,комедия,драма' 'мультфильм,комедия' 'драма,комедия,история'\n",
      "\n",
      " 'комедия,биография,история' 'мультфильм,фантастика,приключения'\n",
      "\n",
      " 'аниме,мультфильм,фантастика' 'мультфильм,фэнтези,семейный'\n",
      "\n",
      " 'мультфильм,боевик,комедия' 'комедия,криминал,спорт'\n",
      "\n",
      " 'документальный,мюзикл' 'мелодрама,комедия,музыка' 'биография'\n",
      "\n",
      " 'триллер,криминал,комедия' 'фантастика,драма,комедия'\n",
      "\n",
      " 'комедия,драма,мелодрама' 'фантастика,приключения,боевик'\n",
      "\n",
      " 'мультфильм,фэнтези,драма' 'триллер,комедия'\n",
      "\n",
      " 'драма,приключения,биография' 'фантастика,комедия'\n",
      "\n",
      " 'мелодрама,драма,комедия' 'боевик,криминал' 'драма,криминал,боевик'\n",
      "\n",
      " 'мультфильм,мюзикл,детский' 'драма,фэнтези' 'документальный,семейный'\n",
      "\n",
      " 'фэнтези,драма,приключения' 'ужасы,комедия,фантастика'\n",
      "\n",
      " 'драма,мелодрама,музыка' 'фэнтези,драма,семейный'\n",
      "\n",
      " 'триллер,мелодрама,драма' 'вестерн,боевик,драма'\n",
      "\n",
      " 'мультфильм,короткометражка,комедия' 'триллер,драма,история'\n",
      "\n",
      " 'ужасы,фантастика' 'ужасы,мелодрама,комедия' 'фэнтези,приключения'\n",
      "\n",
      " 'фантастика,триллер' 'ужасы,боевик,фэнтези' 'мультфильм,комедия,детский'\n",
      "\n",
      " 'триллер,драма,биография' 'мультфильм,ужасы,фэнтези'\n",
      "\n",
      " 'мультфильм,ужасы,фантастика' 'ужасы,боевик,комедия'\n",
      "\n",
      " 'драма,биография,спорт' 'мультфильм' 'мелодрама,комедия,драма'\n",
      "\n",
      " 'приключения,фантастика,семейный' 'комедия,криминал,детектив'\n",
      "\n",
      " 'ужасы,триллер,комедия' 'криминал,комедия,триллер'\n",
      "\n",
      " 'семейный,приключения,комедия' 'мультфильм,драма,приключения'\n",
      "\n",
      " 'ужасы,драма,детектив' 'драма,приключения,фэнтези'\n",
      "\n",
      " 'фантастика,мультфильм,драма' 'драма,триллер,детектив'\n",
      "\n",
      " 'драма,история,музыка' 'детский' 'триллер,боевик,криминал'\n",
      "\n",
      " 'драма,фантастика' 'комедия,драма,семейный' 'боевик,драма,комедия'\n",
      "\n",
      " 'комедия,ужасы' 'драма,фантастика,триллер' 'фантастика,драма,триллер'\n",
      "\n",
      " 'история,спорт,драма' 'документальный,биография' 'биография,история'\n",
      "\n",
      " 'спорт,драма' 'боевик,фэнтези' 'мультфильм,фэнтези'\n",
      "\n",
      " 'документальный,комедия,история' 'криминал,комедия,боевик'\n",
      "\n",
      " 'фэнтези,приключения,драма' 'музыка,концерт' 'триллер,драма,боевик'\n",
      "\n",
      " 'комедия,криминал,боевик' 'комедия,фантастика,боевик'\n",
      "\n",
      " 'вестерн,приключения,боевик' 'аниме,мультфильм,комедия'\n",
      "\n",
      " 'детектив,криминал,триллер' 'мультфильм,комедия,криминал'\n",
      "\n",
      " 'комедия,приключения,детектив' 'мелодрама,фантастика,драма'\n",
      "\n",
      " 'драма,комедия,семейный' 'приключения,фантастика'\n",
      "\n",
      " 'триллер,детектив,ужасы' 'комедия,приключения,фэнтези'\n",
      "\n",
      " 'фэнтези,триллер,драма' 'мелодрама,приключения,боевик'\n",
      "\n",
      " 'детектив,триллер,криминал' 'фэнтези,семейный,мелодрама' 'военный,драма'\n",
      "\n",
      " 'документальный,приключения,семейный' 'криминал,комедия,драма'\n",
      "\n",
      " 'комедия,фантастика' 'история,биография,драма' 'мелодрама,драма,музыка'\n",
      "\n",
      " 'боевик,мелодрама' 'комедия,криминал,триллер' 'детектив,триллер,боевик'\n",
      "\n",
      " 'комедия,боевик,криминал' 'комедия,вестерн' 'детский,мелодрама,семейный'\n",
      "\n",
      " 'короткометражка,мультфильм' 'комедия,фэнтези' 'фантастика,драма,ужасы'\n",
      "\n",
      " 'триллер,драма,ужасы' 'драма,фэнтези,история'\n",
      "\n",
      " 'комедия,драма,короткометражка' 'фэнтези,триллер,приключения' 'семейный'\n",
      "\n",
      " 'комедия,криминал,драма' 'комедия,фэнтези,ужасы'\n",
      "\n",
      " 'короткометражка,комедия,криминал' 'фантастика' 'триллер,ужасы,драма'\n",
      "\n",
      " 'мелодрама,драма,фэнтези' 'фантастика,приключения,драма'\n",
      "\n",
      " 'боевик,детектив' 'военный,драма,боевик' 'комедия,мелодрама,фэнтези'\n",
      "\n",
      " 'вестерн,криминал,триллер' 'драма,история,триллер'\n",
      "\n",
      " 'мультфильм,фантастика,боевик' 'детектив,драма,криминал'\n",
      "\n",
      " 'приключения,история,драма' 'мультфильм,семейный,детский'\n",
      "\n",
      " 'биография,драма,история' 'триллер,криминал,боевик' 'история,мелодрама'\n",
      "\n",
      " 'приключения,детский' 'музыка,приключения,концерт'\n",
      "\n",
      " 'военный,драма,комедия' 'фэнтези,боевик,военный'\n",
      "\n",
      " 'фантастика,детектив,боевик' 'мультфильм,фэнтези,история'\n",
      "\n",
      " 'биография,мелодрама,драма' 'документальный,биография,спорт'\n",
      "\n",
      " 'фантастика,комедия,детектив' 'музыка,концерт,документальный'\n",
      "\n",
      " 'триллер,боевик,приключения' 'триллер,драма,комедия' 'детектив,криминал'\n",
      "\n",
      " 'мультфильм,приключения,фэнтези' 'мелодрама,приключения' 'комедия,музыка'\n",
      "\n",
      " 'мелодрама,комедия,ужасы' 'драма,криминал,приключения'\n",
      "\n",
      " 'приключения,детектив,мелодрама' 'драма,криминал,фантастика'\n",
      "\n",
      " 'фэнтези,драма,биография' 'детектив,фантастика,криминал'\n",
      "\n",
      " 'триллер,драма,фантастика' 'ужасы,комедия,боевик' 'мелодрама,история'\n",
      "\n",
      " 'триллер,боевик' 'фильм-нуар,триллер,детектив'\n",
      "\n",
      " 'комедия,криминал,приключения' 'ужасы,триллер,мелодрама'\n",
      "\n",
      " 'военный,драма,история' 'драма,спорт,история'\n",
      "\n",
      " 'документальный,драма,история' 'триллер,мелодрама,детектив'\n",
      "\n",
      " 'детский,семейный' 'мюзикл,семейный,драма' 'биография,военный,драма'\n",
      "\n",
      " 'мультфильм,детский' 'боевик,криминал,драма' 'детектив,фэнтези,триллер'\n",
      "\n",
      " 'драма,боевик,приключения' 'драма,мелодрама,фэнтези'\n",
      "\n",
      " 'детектив,история,драма' 'фэнтези,боевик,ужасы' 'ужасы,фэнтези,мелодрама'\n",
      "\n",
      " 'ужасы,приключения' 'боевик,фантастика' 'ужасы,мелодрама,детектив'\n",
      "\n",
      " 'фантастика,триллер,приключения' 'боевик,приключения,история'\n",
      "\n",
      " 'приключения,боевик,триллер' 'детектив,ужасы,криминал' 'семейный,фэнтези'\n",
      "\n",
      " 'мюзикл,мелодрама' 'драма,военный,приключения'\n",
      "\n",
      " 'фантастика,драма,приключения' 'приключения,семейный,драма'\n",
      "\n",
      " 'история,драма,боевик' 'мультфильм,приключения,комедия'\n",
      "\n",
      " 'криминал,драма,комедия' 'ужасы,комедия,драма'\n",
      "\n",
      " 'комедия,семейный,приключения' 'мюзикл,фэнтези,драма'\n",
      "\n",
      " 'драма,вестерн,боевик' 'фантастика,триллер,детектив'\n",
      "\n",
      " 'драма,история,детектив' 'короткометражка,биография'\n",
      "\n",
      " 'мультфильм,приключения,фантастика' 'комедия,триллер'\n",
      "\n",
      " 'мультфильм,приключения,детектив' 'драма,триллер'\n",
      "\n",
      " 'ужасы,триллер,криминал' 'документальный,криминал,военный'\n",
      "\n",
      " 'ужасы,фэнтези,драма' 'фэнтези,комедия' 'ужасы,фэнтези,комедия'\n",
      "\n",
      " 'комедия,музыка,драма' 'мультфильм,приключения,военный'\n",
      "\n",
      " 'мюзикл,фэнтези,комедия' 'боевик,фантастика,приключения'\n",
      "\n",
      " 'триллер,ужасы,криминал' 'ужасы,фантастика,драма'\n",
      "\n",
      " 'фантастика,приключения,семейный' 'короткометражка,музыка'\n",
      "\n",
      " 'мелодрама,детектив,комедия' 'документальный,триллер,биография'\n",
      "\n",
      " 'боевик,фантастика,триллер' 'спорт,драма,комедия'\n",
      "\n",
      " 'фэнтези,мелодрама,приключения' 'триллер,детектив,криминал'\n",
      "\n",
      " 'короткометражка,мелодрама' 'мультфильм,семейный,спорт'\n",
      "\n",
      " 'комедия,фэнтези,мелодрама' 'драма,спорт,комедия'\n",
      "\n",
      " 'история,драма,мелодрама' 'драма,боевик,криминал' 'драма,комедия,триллер'\n",
      "\n",
      " 'аниме,мультфильм' 'документальный,ужасы' 'мультфильм,короткометражка'\n",
      "\n",
      " 'драма,история,военный' 'мультфильм,короткометражка,фэнтези'\n",
      "\n",
      " 'комедия,военный,музыка' 'биография,история,драма'\n",
      "\n",
      " 'ужасы,драма,мелодрама' 'драма,комедия,детектив'\n",
      "\n",
      " 'комедия,семейный,фантастика' 'мультфильм,семейный,комедия'\n",
      "\n",
      " 'история,детектив' 'приключения,мелодрама,детектив'\n",
      "\n",
      " 'мюзикл,комедия,мелодрама' 'драма,фантастика,ужасы'\n",
      "\n",
      " 'мультфильм,ужасы,комедия' 'для,взрослых,драма,комедия'\n",
      "\n",
      " 'ужасы,комедия,музыка' 'комедия,история,драма'\n",
      "\n",
      " 'семейный,детектив,детский' 'короткометражка,драма'\n",
      "\n",
      " 'документальный,новости,драма' 'триллер,мелодрама' 'ужасы,драма,вестерн'\n",
      "\n",
      " 'мюзикл,фэнтези,семейный' 'вестерн,драма,триллер'\n",
      "\n",
      " 'приключения,вестерн,боевик' 'семейный,комедия,музыка'\n",
      "\n",
      " 'боевик,драма,вестерн' 'ужасы,драма,триллер' 'фантастика,мелодрама'\n",
      "\n",
      " 'комедия,криминал,биография' 'семейный,мультфильм,комедия'\n",
      "\n",
      " 'комедия,драма,криминал' 'фантастика,боевик,военный'\n",
      "\n",
      " 'приключения,биография,драма' 'приключения,триллер,биография'\n",
      "\n",
      " 'криминал,боевик,триллер' 'боевик,вестерн,приключения' 'история,драма'\n",
      "\n",
      " 'фантастика,фэнтези,комедия' 'мультфильм,детский,комедия'\n",
      "\n",
      " 'мелодрама,комедия,триллер' 'документальный,боевик,приключения'\n",
      "\n",
      " 'драма,приключения' 'мелодрама,военный,драма' 'триллер,фэнтези'\n",
      "\n",
      " 'драма,триллер,биография' 'фэнтези,боевик,семейный'\n",
      "\n",
      " 'фантастика,триллер,комедия' 'документальный,фэнтези'\n",
      "\n",
      " 'комедия,мультфильм,фантастика' 'криминал,биография,комедия'\n",
      "\n",
      " 'биография,спорт,драма' 'приключения,военный' 'мультфильм,семейный,драма'\n",
      "\n",
      " 'документальный,фэнтези,драма' 'комедия,боевик,фантастика'\n",
      "\n",
      " 'семейный,приключения,военный' 'триллер,ужасы,детектив' 'короткометражка'\n",
      "\n",
      " 'мелодрама,триллер,история' 'документальный,история'\n",
      "\n",
      " 'мультфильм,приключения,детский' 'драма,комедия,мультфильм'\n",
      "\n",
      " 'военный,детектив' 'семейный,приключения,документальный'\n",
      "\n",
      " 'детский,фэнтези' 'документальный,комедия' 'комедия,биография'\n",
      "\n",
      " 'криминал,комедия' 'спорт,мелодрама,криминал' 'фантастика,комедия,боевик'\n",
      "\n",
      " 'боевик,приключения,детектив' 'детектив,триллер,драма'\n",
      "\n",
      " 'документальный,фантастика' 'мелодрама,комедия,семейный'\n",
      "\n",
      " 'мультфильм,мелодрама,комедия' 'драма,спорт,семейный'\n",
      "\n",
      " 'фантастика,мелодрама,фэнтези' 'мюзикл,комедия,музыка'\n",
      "\n",
      " 'фантастика,триллер,мелодрама' 'приключения,комедия,фэнтези'\n",
      "\n",
      " 'фэнтези,боевик,детектив' 'фэнтези,боевик,мелодрама' 'комедия,военный'\n",
      "\n",
      " 'драма,спорт,боевик' 'мультфильм,боевик,триллер' 'мелодрама,семейный'\n",
      "\n",
      " 'фантастика,боевик,детектив' 'драма,приключения,история'\n",
      "\n",
      " 'документальный,драма,музыка' 'фантастика,триллер,боевик'\n",
      "\n",
      " 'фэнтези,боевик,вестерн' 'драма,комедия,мелодрама'\n",
      "\n",
      " 'ужасы,фэнтези,приключения' 'триллер,фэнтези,драма'\n",
      "\n",
      " 'мультфильм,мюзикл,мелодрама' 'ужасы,триллер,фантастика'\n",
      "\n",
      " 'триллер,мелодрама,комедия' 'ужасы,комедия,семейный'\n",
      "\n",
      " 'комедия,приключения,музыка' 'документальный,комедия,криминал'\n",
      "\n",
      " 'мелодрама,детектив' 'детский,приключения,фантастика'\n",
      "\n",
      " 'короткометражка,боевик,драма' 'боевик,комедия,семейный'\n",
      "\n",
      " 'фантастика,боевик,мелодрама' 'фэнтези,триллер,мелодрама'\n",
      "\n",
      " 'драма,детектив,история' 'боевик,криминал,детектив'\n",
      "\n",
      " 'мультфильм,фэнтези,мелодрама' 'мелодрама,драма,боевик'\n",
      "\n",
      " 'драма,вестерн,приключения' 'драма,приключения,мелодрама'\n",
      "\n",
      " 'фэнтези,боевик,криминал' 'фантастика,комедия,семейный'\n",
      "\n",
      " 'детский,фэнтези,приключения' 'ужасы,боевик'\n",
      "\n",
      " 'фантастика,мелодрама,комедия' 'семейный,спорт,боевик'\n",
      "\n",
      " 'триллер,биография,драма' 'ужасы,драма,комедия'\n",
      "\n",
      " 'мультфильм,фэнтези,триллер' 'мюзикл' 'боевик,спорт,драма'\n",
      "\n",
      " 'комедия,приключения,вестерн' 'документальный,ужасы,боевик'\n",
      "\n",
      " 'фантастика,боевик,семейный' 'военный,история' 'ужасы,боевик,криминал'\n",
      "\n",
      " 'детектив,триллер' 'драма,семейный,комедия' 'драма,детектив,приключения'\n",
      "\n",
      " 'драма,криминал,история' 'приключения,триллер' 'боевик,драма,биография'\n",
      "\n",
      " 'драма,приключения,триллер' 'комедия,фэнтези,приключения'\n",
      "\n",
      " 'фантастика,боевик,ужасы' 'драма,комедия,фантастика'\n",
      "\n",
      " 'детектив,криминал,драма' 'боевик,триллер,фэнтези'\n",
      "\n",
      " 'приключения,детектив,семейный' 'ужасы,комедия,криминал'\n",
      "\n",
      " 'мультфильм,биография,драма' 'история,боевик,фэнтези'\n",
      "\n",
      " 'детектив,криминал,боевик' 'приключения,фэнтези'\n",
      "\n",
      " 'комедия,приключения,спорт' 'драма,биография,мюзикл'\n",
      "\n",
      " 'комедия,семейный,фэнтези' 'детектив,драма,триллер'\n",
      "\n",
      " 'боевик,приключения,семейный' 'биография,спорт,комедия'\n",
      "\n",
      " 'фантастика,приключения,военный' 'документальный,драма,биография'\n",
      "\n",
      " 'детектив,приключения,драма' 'аниме,мультфильм,приключения'\n",
      "\n",
      " 'семейный,приключения' 'ужасы,фэнтези,детектив' 'семейный,документальный'\n",
      "\n",
      " 'драма,приключения,семейный' 'приключения,история,военный'\n",
      "\n",
      " 'фэнтези,мелодрама' 'фэнтези,триллер,детектив'\n",
      "\n",
      " 'документальный,спорт,биография' 'комедия,триллер,драма' 'драма,ужасы'\n",
      "\n",
      " 'биография,музыка,драма' 'фэнтези,ужасы' 'детектив,мелодрама,фэнтези'\n",
      "\n",
      " 'боевик,военный,история' 'биография,драма,криминал'\n",
      "\n",
      " 'триллер,мелодрама,криминал' 'семейный,мелодрама' 'биография,драма'\n",
      "\n",
      " 'военный,история,драма' 'фантастика,детектив,фэнтези'\n",
      "\n",
      " 'детектив,приключения,триллер' 'фантастика,приключения'\n",
      "\n",
      " 'мультфильм,короткометражка,мюзикл' 'мультфильм,детский,семейный'\n",
      "\n",
      " 'документальный,драма,комедия' 'комедия,приключения,криминал'\n",
      "\n",
      " 'документальный,семейный,музыка' 'мелодрама,музыка,драма'\n",
      "\n",
      " 'детектив,фантастика,триллер' 'драма,мелодрама,триллер'\n",
      "\n",
      " 'биография,драма,военный' 'приключения,фантастика,драма'\n",
      "\n",
      " 'детектив,фильм-нуар,комедия' 'документальный,спорт'\n",
      "\n",
      " 'триллер,фантастика,драма' 'биография,документальный'\n",
      "\n",
      " 'ужасы,фантастика,мелодрама' 'детектив,комедия'\n",
      "\n",
      " 'история,биография,военный' 'криминал,мелодрама' 'драма,криминал,вестерн'\n",
      "\n",
      " 'мелодрама,семейный,приключения' 'триллер,ужасы,мелодрама'\n",
      "\n",
      " 'фэнтези,драма,фильм-нуар' 'детектив,мелодрама' 'комедия,драма,биография'\n",
      "\n",
      " 'драма,военный,боевик' 'драма,комедия,ужасы' 'фантастика,драма,криминал'\n",
      "\n",
      " 'документальный,музыка,биография' 'мультфильм,боевик,приключения'\n",
      "\n",
      " 'мультфильм,мелодрама,драма' 'боевик,военный,драма'\n",
      "\n",
      " 'фэнтези,семейный,приключения' 'детский,мультфильм,приключения'\n",
      "\n",
      " 'семейный,фэнтези,комедия' 'фэнтези,ужасы,триллер'\n",
      "\n",
      " 'ужасы,триллер,приключения' 'драма,боевик,история'\n",
      "\n",
      " 'фэнтези,комедия,детектив' 'история,приключения'\n",
      "\n",
      " 'аниме,мультфильм,короткометражка' 'драма,военный,триллер'\n",
      "\n",
      " 'биография,криминал,триллер' 'фантастика,фэнтези,детектив'\n",
      "\n",
      " 'вестерн,биография,драма' 'биография,музыка,мюзикл'\n",
      "\n",
      " 'драма,история,биография' 'приключения,драма,фантастика'\n",
      "\n",
      " 'комедия,фэнтези,криминал' 'биография,спорт,история'\n",
      "\n",
      " 'драма,криминал,семейный' 'детектив,боевик,история'\n",
      "\n",
      " 'ужасы,комедия,детектив' 'триллер,приключения,драма'\n",
      "\n",
      " 'фэнтези,комедия,криминал' 'триллер,криминал,приключения'\n",
      "\n",
      " 'комедия,детектив,приключения' 'фэнтези,драма,ужасы'\n",
      "\n",
      " 'ужасы,драма,военный' 'реальное,ТВ' 'аниме,мультфильм,детектив'\n",
      "\n",
      " 'приключения,фэнтези,семейный' 'драма,биография,комедия'\n",
      "\n",
      " 'триллер,комедия,ужасы' 'музыка,мелодрама,фэнтези' 'мультфильм,история'\n",
      "\n",
      " 'мультфильм,комедия,фантастика' 'биография,криминал,драма'\n",
      "\n",
      " 'комедия,мелодрама,фантастика' 'криминал,боевик,комедия'\n",
      "\n",
      " 'история,криминал' 'детектив,комедия,драма' 'триллер,фантастика,боевик'\n",
      "\n",
      " 'криминал,боевик' 'комедия,драма,военный' 'драма,триллер,криминал'\n",
      "\n",
      " 'мультфильм,мелодрама,приключения' 'фантастика,фэнтези,триллер'\n",
      "\n",
      " 'короткометражка,драма,триллер' 'военный,боевик,история'\n",
      "\n",
      " 'боевик,драма,триллер' 'документальный,военный,драма'\n",
      "\n",
      " 'драма,криминал,фильм-нуар' 'мультфильм,детский,приключения'\n",
      "\n",
      " 'мелодрама,история,драма']\n"
     ]
    }
   ],
   "source": [
    "print(data['genres'].unique())"
   ]
  },
  {
   "cell_type": "code",
   "execution_count": 47,
   "metadata": {},
   "outputs": [
    {
     "name": "stdout",
     "output_type": "stream",
     "text": [
      "['Тачстоун Пикчерз, Кобальт Пикчерз, Бикон Пикчерз, Тиг Продакшнз'\n",
      "\n",
      " 'Киностудия \"Мосфильм\"'\n",
      "\n",
      " 'Юниверсал Пикчерз, Кикстарт Продакшнз, Марк Платт Продакшнз, Рилейтивити Медиа, Спайгласс Интертейнмент, Стилкин Филмз, Топ Кау Продакшнз'\n",
      "\n",
      " ...\n",
      "\n",
      " 'Дэниел Гродник Продакшнз, Вандерфилм Медиа Корпорэйшн, Импринт Интертейнмент, Вор Хорс Интертейнмент, Пимиента '\n",
      "\n",
      " 'Никелодеон Анимейшн Студиос, Спин Мастер'\n",
      "\n",
      " 'Анимаккорд Лтд., ООО Студия \"АНИМАККОРД\"']\n",
      "\n",
      "5483\n"
     ]
    }
   ],
   "source": [
    "print(data['film_studio'].unique())\n",
    "print(len(data['film_studio'].unique()))"
   ]
  },
  {
   "cell_type": "code",
   "execution_count": 48,
   "metadata": {},
   "outputs": [
    {
     "name": "stdout",
     "output_type": "stream",
     "text": [
      "['Дэвид Валдес, Кевин Костнер, Джейк Эбертс' nan\n",
      "\n",
      " 'Джим Лемли, Джейсон Нетер, Марк Е.Платт, Яйн Смит' ...\n",
      "\n",
      " 'Поппи Бегум, Ник Пойнц'\n",
      "\n",
      " 'Джефф Боулер, Дэниэл Гродник, Луильо Руис, Брэт Саксон, Кирк Шоу'\n",
      "\n",
      " 'Дженнифер Додж']\n",
      "\n",
      "5327\n"
     ]
    }
   ],
   "source": [
    "print(data['producer'].unique())\n",
    "print(len(data['producer'].unique()))"
   ]
  },
  {
   "cell_type": "code",
   "execution_count": 49,
   "metadata": {
    "scrolled": true
   },
   "outputs": [
    {
     "name": "stdout",
     "output_type": "stream",
     "text": [
      "['Кевин Костнер' 'Е.Матвеев' 'Тимур Бекмамбетов' ... 'Ник Пауэлл'\n",
      "\n",
      " 'А.Беляев' 'И.Трусов']\n",
      "\n",
      "4782\n"
     ]
    }
   ],
   "source": [
    "print(data['director'].unique())\n",
    "print(len(data['director'].unique()))"
   ]
  },
  {
   "cell_type": "code",
   "execution_count": 50,
   "metadata": {
    "scrolled": true
   },
   "outputs": [
    {
     "name": "stdout",
     "output_type": "stream",
     "text": [
      "['«18+» - запрещено для детей' '«6+» - для детей старше 6 лет'\n",
      "\n",
      " '«12+» - для детей старше 12 лет' '«16+» - для детей старше 16 лет'\n",
      "\n",
      " '«0+» - для любой зрительской аудитории']\n"
     ]
    }
   ],
   "source": [
    "print(data['age_restriction'].unique())"
   ]
  },
  {
   "cell_type": "code",
   "execution_count": 51,
   "metadata": {},
   "outputs": [
    {
     "name": "stdout",
     "output_type": "stream",
     "text": [
      "['Открытый простор' 'Особо важное задание' 'Особо опасен' ...\n",
      "\n",
      " 'Щенячий патруль: Скорей спешим на помощь!'\n",
      "\n",
      " 'Машины песенки. Серия \"Испанские мотивы\"'\n",
      "\n",
      " 'Машины песенки. Серия \"Когда цветут кактусы\"']\n"
     ]
    }
   ],
   "source": [
    "print(data['title'].unique())                  "
   ]
  },
  {
   "cell_type": "markdown",
   "metadata": {},
   "source": [
    "\n",
    "Значения в столбцах: 'production_country', 'genres', 'film_studio', 'director', 'producer'\n",
    "\n",
    "    \n",
    "Содержат слишком много комбинаций одних и тех же значений\n",
    "    \n",
    "Работать с такими данными будет неудобно"
   ]
  },
  {
   "cell_type": "code",
   "execution_count": 52,
   "metadata": {
    "id": "PnXKIVdFgFyR"
   },
   "outputs": [
    {
     "data": {
      "text/plain": [
       "array(['Художественный', 'Анимационный', 'Прочие', 'Документальный',\n",
       "       'Научно-популярный', ' Художественный', ' Анимационный',\n",
       "       'Музыкально-развлекательный'], dtype=object)"
      ]
     },
     "execution_count": 52,
     "metadata": {},
     "output_type": "execute_result"
    }
   ],
   "source": [
    "data['type'].unique()\n",
    "#' Анимационный'\n",
    "#' Художественный'"
   ]
  },
  {
   "cell_type": "code",
   "execution_count": 53,
   "metadata": {},
   "outputs": [],
   "source": [
    "data['type'] = data['type'].str.strip()\n",
    "data['production_country'] = data['production_country'].str.strip()\n",
    "data['financing_source'] = data['financing_source'].str.strip()\n",
    "data['genres'] = data['genres'].str.strip()\n",
    "data['director'] = data['director'].str.strip()\n",
    "data['producer'] = data['producer'].str.strip()"
   ]
  },
  {
   "cell_type": "code",
   "execution_count": 54,
   "metadata": {
    "scrolled": true
   },
   "outputs": [
    {
     "data": {
      "text/plain": [
       "array(['Художественный', 'Анимационный', 'Прочие', 'Документальный',\n",
       "       'Научно-популярный', 'Музыкально-развлекательный'], dtype=object)"
      ]
     },
     "execution_count": 54,
     "metadata": {},
     "output_type": "execute_result"
    }
   ],
   "source": [
    "data['type'].unique()"
   ]
  },
  {
   "cell_type": "markdown",
   "metadata": {},
   "source": [
    "Замена дубликатов в типе фильма и удаление лишних пробелов во всех объектных столбцах"
   ]
  },
  {
   "cell_type": "code",
   "execution_count": 55,
   "metadata": {},
   "outputs": [
    {
     "name": "stdout",
     "output_type": "stream",
     "text": [
      "['', '2019', 'CША', 'Австралия', 'Австрия', 'Азербайджан', 'Албания', 'Англия', 'Аргентина', 'Армения', 'Афганистан', 'Багамские острова', 'Бангладеш', 'Бахрейн', 'Беларусь', 'Белоруссия', 'Бельгия', 'Бенльгия', 'Болгария', 'Босния', 'Босния и Герцеговина', 'Бразилия', 'ВНР', 'Великобритания', 'Венгрия', 'Венесуэла', 'Вьетнам', 'ГДР', 'Гаити', 'Германия', 'Германя', 'Герцеговина', 'Голландия', 'Гонконг', 'Греция', 'Грузия', 'Дания', 'Западный Берлин', 'Израиль', 'Изриль', 'Индия', 'Индонезия', 'Иран', 'Ирландия', 'Исландия', 'Испания', 'Италия', 'К;анада', 'КНР', 'Казахстан', 'Каймановы острова', 'Камбоджа', 'Канада', 'Катар', 'Кения', 'Кипр', 'Киргизия', 'Китай', 'Княжество Андорра', 'Колумбия', 'Корея', 'Куба', 'Ланка', 'Латвия', 'Ливан', 'Литва', 'Люксембург', 'Македония', 'Малайзия', 'Мальта', 'Мексика', 'Монако', 'Монголия', 'Н.Зеландия', 'Непал', 'Нидерланды', 'Новая Зеландия', 'Норвегия', 'Норвения', 'ОАЭ', 'Объединенные Арабские Эмираты', 'ПНР', 'Пакистан', 'Палестина', 'Панама', 'Парагвай', 'Перу', 'Польша', 'Порртугалия', 'Португалия', 'Пуэрто', 'Пуэрто Рико', 'Республика Армения', 'Республика Беларусь', 'Республика Казахстан', 'Республика Кипр', 'Республика Корея', 'Республика Узбекистан', 'Рико', 'Россия', 'Румыния', 'СССР', 'США', 'СЩА', 'Сенегал', 'Сербия', 'Сингапур', 'Словакия', 'Словения', 'Сша', 'Таджикистан', 'Таиланд', 'Тайвань', 'Турция', 'Уганда', 'Украина', 'Уругвай', 'ФРГ', 'Финляндия', 'Франция', 'Фрация', 'Хорватия', 'ЧССР', 'Черногория', 'Чехия', 'Чехословакия', 'Чешская Республика', 'Чили', 'Швейцария', 'Швеция', 'Шри', 'Эквадор', 'Эстония', 'Ю.Корея', 'ЮАР', 'Южная Корея', 'Япония']\n"
     ]
    }
   ],
   "source": [
    "tempdf = data['production_country']\n",
    "tempvar = []\n",
    "tempvar2 = []\n",
    "for i in tempdf:\n",
    "    name = i.split(',')\n",
    "    for j in range(len(name)):\n",
    "        if name[j] not in tempvar:\n",
    "            tempvar.append(name[j])\n",
    "#режет строчки по запятой и сохраняет уникальные значения в tempvar\n",
    "i = 0\n",
    "for j in tempvar:\n",
    "    tempvar[i] = j.strip()\n",
    "    i+=1\n",
    "#Удаляет лишние пробелы в значениях\n",
    "for i in tempvar:\n",
    "    if i not in tempvar2:\n",
    "            tempvar2.append(i)   \n",
    "#удаляет дубликаты\n",
    "print(sorted(tempvar2))\n",
    "#В списке есть названия с опечатками, дата и пустая строка"
   ]
  },
  {
   "cell_type": "code",
   "execution_count": 56,
   "metadata": {},
   "outputs": [
    {
     "name": "stderr",
     "output_type": "stream",
     "text": [
      "/tmp/ipykernel_214/1635882692.py:13: FutureWarning: The default value of regex will change from True to False in a future version.\n",
      "\n",
      "  data['production_country'] = data['production_country'].str.replace('Ю.Корея','Южная Корея')\n",
      "\n",
      "/tmp/ipykernel_214/1635882692.py:26: FutureWarning: The default value of regex will change from True to False in a future version.\n",
      "\n",
      "  data['production_country'] = data['production_country'].str.replace('Н.Зеландия','Новая Зеландия')\n"
     ]
    }
   ],
   "source": [
    "data['production_country'] = data['production_country'].str.replace('Белоруссия','Беларусь')\n",
    "data['production_country'] = data['production_country'].str.replace('Республика Беларусь','Беларусь')\n",
    "data['production_country'] = data['production_country'].str.replace('Бенльгия','Бельгия')\n",
    "data['production_country'] = data['production_country'].str.replace(' Испания','Испания')\n",
    "data['production_country'] = data['production_country'].str.replace('Изриль','Израиль')\n",
    "data['production_country'] = data['production_country'].str.replace('СЩА','США')\n",
    "data['production_country'] = data['production_country'].str.replace('США ','США')\n",
    "data['production_country'] = data['production_country'].str.replace('CША','США')\n",
    "data['production_country'] = data['production_country'].str.replace('Сша','США')\n",
    "data['production_country'] = data['production_country'].str.replace('К;анада','Канада')\n",
    "data['production_country'] = data['production_country'].str.replace('Шри','Шри-Ланка')\n",
    "data['production_country'] = data['production_country'].str.replace('Ланка','Шри-Ланка')\n",
    "data['production_country'] = data['production_country'].str.replace('Ю.Корея','Южная Корея')\n",
    "data['production_country'] = data['production_country'].str.replace('Фрация','Франция')\n",
    "data['production_country'] = data['production_country'].str.replace('Франция ','Франция')\n",
    "data['production_country'] = data['production_country'].str.replace('Республика Казахстан','Казахстан' )\n",
    "data['production_country'] = data['production_country'].str.replace('Республика Кипр','Кипр')\n",
    "data['production_country'] = data['production_country'].str.replace('Республика Армения','Армения')\n",
    "data['production_country'] = data['production_country'].str.replace('Пуэрто Рико','Пуэрто')\n",
    "data['production_country'] = data['production_country'].str.replace('Рико','Пуэрто')\n",
    "data['production_country'] = data['production_country'].str.replace('Пуэрто','Пуэрто Рико')\n",
    "data['production_country'] = data['production_country'].str.replace('Босния и Герцеговина','Босния')\n",
    "data['production_country'] = data['production_country'].str.replace('Герцеговина','Босния')\n",
    "data['production_country'] = data['production_country'].str.replace('Босния','Босния и Герцеговина')\n",
    "data['production_country'] = data['production_country'].str.replace('Германя','Германия')\n",
    "data['production_country'] = data['production_country'].str.replace('Н.Зеландия','Новая Зеландия')\n",
    "data['production_country'] = data['production_country'].str.replace('Норвения','Норвегия')\n",
    "data['production_country'] = data['production_country'].str.replace('ОАЭ','Объединенные Арабские Эмираты' )\n",
    "data['production_country'] = data['production_country'].str.replace('Порртугалия','Португалия')\n",
    "data['production_country'] = data['production_country'].str.replace('Республика Корея','Корея')\n",
    "data['production_country'] = data['production_country'].str.replace('Республика Узбекистан','Узбекистан')\n",
    "data['production_country'] = data['production_country'].str.replace('Чешская Республика','Чехия')\n",
    "#Западный берлин оставил, можно заменить на германию"
   ]
  },
  {
   "cell_type": "markdown",
   "metadata": {},
   "source": [
    "Просмотрев список, нашел повторяющиеся значения, заменил на одно\n",
    "    \n",
    "Можно воспользоватся поиском по странице в браузерной версии"
   ]
  },
  {
   "cell_type": "code",
   "execution_count": 57,
   "metadata": {},
   "outputs": [
    {
     "name": "stdout",
     "output_type": "stream",
     "text": [
      "['Жанр не заполнен', 'ТВ', 'аниме', 'биография', 'боевик', 'вестерн', 'взрослых', 'военный', 'детектив', 'детский', 'для', 'документальный', 'драма', 'история', 'комедия', 'концерт', 'короткометражка', 'криминал', 'мелодрама', 'музыка', 'мультфильм', 'мюзикл', 'новости', 'приключения', 'реальное', 'семейный', 'спорт', 'триллер', 'ужасы', 'фантастика', 'фильм-нуар', 'фэнтези']\n"
     ]
    }
   ],
   "source": [
    "#делаю то же самоя для жанров\n",
    "tempdf2 = data['genres']\n",
    "tempdf2 = tempdf2.fillna('Жанр не заполнен')\n",
    "#Присутствие пустых значений не дает проверить столбец на неявные дубликаты, пока что заполним их\n",
    "#фразой \"Жанр не заполнен\"\n",
    "tempvar2 = []\n",
    "\n",
    "for i in tempdf2:\n",
    "    if i is not None:\n",
    "        name = i.split(',')\n",
    "        for j in range(len(name)):\n",
    "            if name[j] not in tempvar2:\n",
    "                tempvar2.append(name[j])\n",
    "#режет строчки по запятой и сохраняет уникальные значения в tempvar\n",
    "i = 0\n",
    "for j in tempvar2:\n",
    "    tempvar2[i] = j.strip()\n",
    "    i+=1\n",
    "#Удаляет лишние пробелы в значениях\n",
    "for i in tempvar2:\n",
    "    if i not in tempvar2:\n",
    "            tempvar2.append(i)   \n",
    "#удаляет дубликаты\n",
    "print(sorted(tempvar2))"
   ]
  },
  {
   "cell_type": "markdown",
   "metadata": {},
   "source": [
    "В жарнах дубликатов нет"
   ]
  },
  {
   "cell_type": "code",
   "execution_count": 58,
   "metadata": {},
   "outputs": [
    {
     "name": "stdout",
     "output_type": "stream",
     "text": [
      "['', 'А', 'А Андрющенко', 'А. Евсеев (псевдоним - Хант)', 'А. Калюжный', 'А. Кутерье', 'А.А.Эшпай', 'А.Аббасов', 'А.Абидова (псевдоним Аниса Сабири)', 'А.Аболс', 'А.Аболс', 'А.Аверьянова', 'А.Агаджанян', 'А.Адилханян', 'А.Адраникян', 'А.Аксененко', 'А.Алексеев', 'А.Алексиади', 'А.Алов', 'А.Аманшаев', 'А.Амбросьев', 'А.Амиров', 'А.Ананикян', 'А.Андрианов', 'А.Андризани', 'А.Анненский', 'А.Аравин', 'А.Арпеньтеньер', 'А.Артамонова', 'А.Арутюнов', 'А.Арутюнян', 'А.Атанесян', 'А.Бадоев', 'А.Бадягина', 'А.Бажанов', 'А.Балабанов', 'А.Балахонов', 'А.Бальчев', 'А.Баранов', 'А.Баранов', 'А.Бардани', 'А.Бариларо', 'А.Баршак', 'А.Баршак', 'А.Барщевский', 'А.Барыкин', 'А.Басаев', 'А.Басов', 'А.Бахурин', 'А.Безрук', 'А.Безрукова (псевдоним - Анна Матисон)', 'А.Беляев', 'А.Беляев', 'А.Берденников', 'А.Бзаров', 'А.Бильжо', 'А.Бильжо', 'А.Бобров', 'А.Бобровский', 'А.Бобровский', 'А.Богатырев', 'А.Богатырев', 'А.Богданов', 'А.Богуславский', 'А.Бойков', 'А.Борисова', 'А.Борисова и др.', 'А.Борматов', 'А.Боровикова', 'А.Бородянский', 'А.Борщева (псевдоним - Анастасия Шахватова)', 'А.Буравский', 'А.Бурунова', 'А.Бурцев', 'А.Бушнев', 'А.Вакулов (А.Кульбицкий)', 'А.Вартанов', 'А.Васильев', 'А.Васин', 'А.Васин', 'А.Вейль', 'А.Велединский', 'А.Велемицин', 'А.Верещагин', 'А.Верещагин', 'А.Веселов', 'А.Виткин', 'А.Войтинский', 'А.Войтинский', 'А.Волгин', 'А.Волгин', 'А.Волков', 'А.Габриелян', 'А.Гаврилов', 'А.Галат', 'А.Галиаскаров', 'А.Галибин', 'А.Геворгян', 'А.Герасимов', 'А.Герман', 'А.Гогленкова', 'А.Голуб', 'А.Голубовский', 'А.Гончуков', 'А.Горбунов', 'А.Гордон', 'А.Горовацкий', 'А.Горчилин', 'А.Грабарь', 'А.Грачев', 'А.Грибков', 'А.Григорян', 'А.Грицаенко', 'А.Гришаков', 'А.Гутман', 'А.Давыдова', 'А.Дамиан', 'А.Дамскер', 'А.Даниэльсен', 'А.Демин', 'А.Демин', 'А.Денисова', 'А.Дерошер', 'А.Джазоян', 'А.Джунковский', 'А.Диксон', 'А.Домогаров', 'А.Домогаров (младший)', 'А.Драницына', 'А.Дудоров', 'А.Духонина', 'А.Дьяков', 'А.Егоров', 'А.Емкужев', 'А.Ефимова', 'А.Ефремова', 'А.Жакулина', 'А.Жасина', 'А.Жидков', 'А.Журавлева', 'А.Зайцев', 'А.Зайцев и др.', 'А.Залдастанов', 'А.Замыслов', 'А.Занин', 'А.Зархи', 'А.Захаров', 'А.Званцова', 'А.Звягинцев', 'А.Зеленков', 'А.Зеленков', 'А.Зельдович', 'А.Зенкович', 'А.Зингерман', 'А.Злобин', 'А.Зозуля', 'А.Золотарев', 'А.Золотухин', 'А.Ибрагимов', 'А.Иванов', 'А.Игнатов', 'А.Игудин', 'А.Ильин', 'А.Ильин', 'А.Исрафилова', 'А.Истратов', 'А.Кавун', 'А.Кавун', 'А.Кагадеев', 'А.Кадыкова', 'А.Калин', 'А.Калинкин', 'А.Камачо', 'А.Кананович', 'А.Капур', 'А.Кардона', 'А.Карелин', 'А.Карелина', 'А.Карпиловский', 'А.Карпиловский', 'А.Карпыков', 'А.Касаткин', 'А.Касаткин', 'А.Каторженко', 'А.Каурых', 'А.Кещян', 'А.Кещян', 'А.Кибкало', 'А.Килин', 'А.Ким', 'А.Ким', 'А.Кириенко', 'А.Кириллов', 'А.Китайцев', 'А.Коваленко', 'А.Ковтун', 'А.Козлов', 'А.Колмогоров', 'А.Коломеец', 'А.Коломеец', 'А.Колпин', 'А.Колпин', 'А.Колчина', 'А.Кольцатый', 'А.Колядин', 'А.Коновальцева (псевдоним Ангелина Подорожная)', 'А.Кончаловский', 'А.Кордон', 'А.Королев', 'А.Коручеков', 'А.Коршунов', 'А.Корытко', 'А.Костандакес', 'А.Костогарова', 'А.Котеночкин', 'А.Котт', 'А.Котт', 'А.Кравчук', 'А.Красильщиков', 'А.Красовский', 'А.Кретова', 'А.Круглов', 'А.Кузина', 'А.Кузина', 'А.Кузмин-Тарасов', 'А.Кузнецова', 'А.Кузьминов', 'А.Кузьминых', 'А.Куликов', 'А.Кулямин', 'А.Курганская', 'А.Ладынин', 'А.Ладынин', 'А.Лейт-Роджерс', 'А.Линич', 'А.Лобанов', 'А.Луканев', 'А.Лукин', 'А.Лукичев', 'А.Лукьянчиков', 'А.Лунгин', 'А.Лунгин', 'А.Магомедов', 'А.Мадзарис', 'А.Майовер', 'А.Малюков', 'А.Малюков', 'А.Мамедов', 'А.Манасарова', 'А.Манзуров', 'А.Манцарис', 'А.Мармонтов', 'А.Марсакова', 'А.Марутян', 'А.Марутян', 'А.Маслов', 'А.Матисон', 'А.Мачерет', 'А.Мегердичев', 'А.Мегердичев', 'А.Меликян', 'А.Мельник', 'А.Мигачев', 'А.Мизгирев', 'А.Миндадзе', 'А.Миронов', 'А.Миронов', 'А.Миронов и др.', 'А.Митешин', 'А.Митта', 'А.Митта', 'А.Михайлов', 'А.Михалков', 'А.Михалков', 'А.Михалков (псевдоним А.Кончаловский)', 'А.Михалков-Кончаловский', 'А.Мкртчян', 'А.Молочник', 'А.Молочников', 'А.Мурадов', 'А.Муратов', 'А.Муратов', 'А.Мычко', 'А.Мышкин', 'А.Наумов', 'А.Невский', 'А.Незлобин', 'А.Никифоров', 'А.Новиков (псевдоним - Александр Новиков-Янгинов)', 'А.Новоселов', 'А.Нужный', 'А.Нужный', 'А.Оганесян', 'А.Ойя', 'А.Ольков', 'А.Осипова', 'А.Остапенко', 'А.Панкратов', 'А.Панкратов', 'А.Панкратов-Черный', 'А.Пармас', 'А.Пармас', 'А.Пархоменко', 'А.Першин', 'А.Першин', 'А.Першин (Ж.Крыжовников)', 'А.Першин (псевдоним Ж.Крыжовников)', 'А.Першин (псевдоним Ж.Крыжовников)', 'А.Петрас', 'А.Петров', 'А.Петрова', 'А.Петрова', 'А.Петровская', 'А.Петрухин', 'А.Петрухин', 'А.Пиманов', 'А.Пинхасов', 'А.Писаркин', 'А.Пичужин', 'А.Поженский', 'А.Поздняков', 'А.Поличук', 'А.Полунина', 'А.Попова', 'А.Попогребский', 'А.Почивалов', 'А.Праздников', 'А.Проскура', 'А.Протоковило', 'А.Прошкин', 'А.Прошкин', 'А.Птушко', 'А.Пурер (Галин)', 'А.Пуустусмаа', 'А.Разенков', 'А.Расторгуев', 'А.Рис', \"А.Рожнова (псевдоним Александра Р'ЮЖ)\", 'А.Розенберг', 'А.Розов', 'А.Романец', 'А.Романова и др.', 'А.Ронберг', 'А.Роом', 'А.Рубецкой', 'А.Рубецкой', 'А.Рубинштейн', 'А.Рубинштейн', 'А.Рудницкая', 'А.Руже', 'А.Русланова', 'А.Русланова (псевдоним - Саша Франк)', 'А.Рыбаков', 'А.Рыбников', 'А.Сазонов', 'А.Салтыков', 'А.Сальянов', 'А.Самойлов', 'А.Самойлова', 'А.Самохвалов', 'А.Сахаров', 'А.Сахелашвили', 'А.Сашнева', 'А.Свирский', 'А.Сеитаблаев', 'А.Селиверстов', 'А.Серый', 'А.Сиверс', 'А.Сидоров', 'А.Силкин', 'А.Сильвестров', 'А.Сильвестров', 'А.Симакова', 'А.Симакова', 'А.Симонов', 'А.Сиренко', 'А.Смирнов', 'А.Смирнов', 'А.Смирнова', 'А.Смирнова', 'А.Смитс', 'А.Соболевский', 'А.Созонов', 'А.Соколов', 'А.Соколов', 'А.Соколов и др.', 'А.Соколов-Дворников (псевдоним - Алексей Соколов)', 'А.Соколова', 'А.Соколюк', 'А.Сокуров', 'А.Соснов', 'А.Стемпковский', 'А.Столбов', 'А.Столпер', 'А.Стреляная', 'А.Стриженов', 'А.Строев', 'А.Судиловский', 'А.Сурикова', 'А.Сурин', 'А.Сутормин', 'А.Сухарев', 'А.Сэмбон', 'А.Тарковский', 'А.Ташков', 'А.Тельнов', 'А.Темников', 'А.Тимофеева', 'А.Титов', 'А.Толкалин и др.', 'А.Толстобров', 'А.Томашевский', 'А.Тонен', 'А.Турчанинов', 'А.Тутышкин', 'А.Усаков', 'А.Учитель', 'А.Файнциммер', 'А.Федоров', 'А.Федорченко', 'А.Федосеенко (псевдоним Ангелина Никонова)', 'А.Федотов', 'А.Фенченко', 'А.Филиппова', 'А.Фролов', 'А.Фролов', 'А.Х.Песонен', 'А.Хаакана', 'А.Халискиас', 'А.Хамраев', 'А.Хант', 'А.Хатулик', 'А.Хачатурян', 'А.Хачатурян', 'А.Хван', 'А.Хвостов', 'А.Хмельницкая', 'А.Хмельницкая', 'А.Храмцов', 'А.Хржановский', 'А.Цацуев', 'А.Цварт', 'А.Цицилин', 'А.Цыренжапов', 'А.Цыренов', 'А.Чеботарева', 'А.Чеканов', 'А.Чернакова', 'А.Чернова', 'А.Черногоров и др.', 'А.Черномазов (А.Нужный)', 'А.Черномазов (псевдоним Алексей Нужный)', 'А.Черняев', 'А.Чижиков', 'А.Чижиков', 'А.Чижикова (псевдоним А.Воронина)', 'А.Чукарев', 'А.Чупов', 'А.Шабаров', 'А.Шабаров', 'А.Шавкеро', 'А.Шадрина', 'А.Шадров', 'А.Шальопа', 'А.Шархун', 'А.Шейн', 'А.Шелехов (псевдоним Александр Шелл)', 'А.Шемес', 'А.Шемятовский', 'А.Шульев', 'А.Шустикова', 'А.Щеглов', 'А.Щеглов и др.', 'А.Щербинин', 'А.Щербович-Вечер', 'А.Энгель', 'А.Эфрос', 'А.Эфрос', 'А.Эшпай', 'А.Южаков', 'А.Юлиано', 'А.Юмагулов', 'А.Юрчиков', 'А.Ягубец', 'А.Якимчук', 'А.Яхнис', 'А.фон Боррис', 'Аарон Вудли', 'Аарон Дем', 'Аарон Зельцер', 'Аарон Кауфман', 'Аарон Кешалес', 'Аарон Мурхед', 'Аарон Силман', 'Аарон Соркин', 'Аасне Ваа Грейброкк', 'Аббадо Даниэле', 'Аббас Киаростами', 'Абделатиф Кешиш', 'Абделлатиф Кешиш', 'Абе Форсайт', 'Абель Феррара', 'Ава ДюВерней', 'Агнес Мерле', 'Агнешка Войтович-Восло', 'Агустин Диас Янес', 'Адам Б.Стейн', 'Адам Вингард', 'Адам Вингард', 'Адам Вингард', 'Адам Гираш', 'Адам Грин', 'Адам Иджипт Мортимер', 'Адам Кук', 'Адам Леон', 'Адам МакКей', 'Адам Макдональд', 'Адам Пенни', 'Адам Робител', 'Адам Рэндолл', 'Адам Смит', 'Адам Шенкман', 'Адам Шиндлер', 'Адина Истрате', 'Адриан Биньес', 'Адриан Грюнберг', 'Адриан Молина', 'Азиз Джиндани', 'Азиф Кападиа', 'Азия Ардженто', 'Айан Бонхот', 'Айбек Дайырбеков', 'Айван Райтман', 'Айвен Райтман', 'Айзек Флорентайн', 'Айк Кбеян', 'Айке Грамс', 'Айрис Заки', 'Айрон Блейз', 'Акан Сатаев', 'Аки Каурисмяки', 'Акива Голдсман', 'Акива Шаффер', 'Акош Барноцкий', 'Аку Лоухимис', 'Алан Линдсэй', 'Алан Пол', 'Алан Тейлор', 'Алан Тэйлор', 'Алан Холли', 'Алберт Хьюз', 'Алекс Ван Вармердам', 'Алекс Гибни', 'Алекс Грегори', 'Алекс Замм', 'Алекс Колл', 'Алекс Коллс', 'Алекс Куртцман', 'Алекс Олье', 'Алекс Оррель', 'Алекс Оруэлл', 'Алекс Пастор', 'Алекс Пройас', 'Алекс Стадерманн', 'Алекс Стадерманн', 'Алекс Уинклер', 'Алекс ван Вармердам', 'Алекс де ла Иглесиа', 'Александр Абатуров', 'Александр Ажа', 'Александр Алешечкин', 'Александр Астье', 'Александр Бах', 'Александр Бустильо', 'Александр Высоковский', 'Александр Дулерайн', 'Александр Клименко', 'Александр Кортес', 'Александр Коффре', 'Александр Ланка', 'Александр Мермаз', 'Александр Потехин', 'Александр Пэйн', 'Александр Сокуров', 'Александра Кулак', 'Алексей Козлов', 'Алексис Михалик', 'Ален Вулф', 'Ален Рене', 'Ален Шаба', 'Алесандр Эбоян', 'Алессандро Капитани', 'Алессандро Карлони', 'Алессандро Сиани', 'Алессандро Сьяни', 'Алехандро Агрести', 'Алехандро Аменабар', 'Алехандро Бругес', 'Алехандро Гонсалес Иньярриту', 'Алехандро Хидальго', 'Алехандро Ходоровский', 'Али Аббаси', 'Али Замади Ахади', 'Али Самади Ахади', 'Алик Моухибян', 'Алис Винокур', 'Алиса Хазанова', 'Алистер Грирсон', 'Алистер Сиддонс', 'Аличе Рорвахер', 'Алла Ковган', 'Аллан Голдстайн', 'Аллен Колтер', 'Альбер Дюпонтель', 'Альберт Майзелс', 'Альберт Хьюз', 'Альберто Мар', 'Альберто Родригез', 'Альберто Родригес', 'Альфонсо Гомес-Рехон', 'Альфонсо Куарон', 'Альфредо Монтеро', 'Альфредо Содергит', 'Амалия Несби Фика', 'Аманда Шарп', 'Аманда Штерс', 'Амат Эскаланте', 'Амат Эскаланте', 'Амели Равалек', 'Амели ван Элбт', 'Амир Надери', 'Амит Рой', 'Ана Урушадзе', 'Ананд Таккер', 'Анастасия Дыро', 'Анатолий Иванов', 'Ангус МакЛэйн', 'Андерс Вальтер Хансен', 'Андерс Уолтер', 'Анджей Бартковяк', 'Анджей Якимовский', 'Анджелина Джоли', 'Анджелп Беттис', 'Андре Овредал', 'Андре Сингер', 'Андре Тешине', 'Андреа Андерман', 'Андреа Арнольд', 'Андреа Блок', 'Андреа Брет', 'Андреа Ди Стефано', 'Андреас Дрезен', 'Андреас Прохазка', 'Андрей Беляев', 'Андрей Гринько', 'Андрей Кончаловский', 'Андрей Тарковский', 'Андрей Шохан', 'Андрей Щербан', 'Андрес Баиз', 'Андрес Кутерье', 'Андрес Мускетти', 'Андрес Пуустусмаа', 'Андрэ Шефер', 'Анжела Робинсон', 'Аниш Чаганти', 'Анн Фонтейн', 'Анн Фонтен', 'Анна Аревшатян', 'Анна Боден', 'Анна Ван Дер Хайне', 'Анна Гуэвара Росе', 'Анна Негри', 'Анна Соловьева', 'Анна София Сильверстейн', 'Анна Ферстер', 'Аннабель Арден', 'Анне Севитски', 'Анно Зауль', 'Антон Азаров', 'Антон Корбайн', 'Антон Корбейн', 'Антони Кордье', 'Антонин Бодри', 'Антонио Исордиа', 'Антонио Капуано', 'Антонио Негрет', 'Антонио Падован', 'Антти Хейкки Персонен', 'Антуан Бардо-Жаке', 'Антуан Блоссье', 'Антуан Томас', 'Антуан Фукуа', 'Антун Крингс', 'Анубав Синха', 'Анхель Алонсо', 'Анхель Грация', 'Аньес Варда', 'Аньес Обадья', 'Апичатпонг Вирасетакул', 'Ара Пайая', 'Арам Раппапорт', 'Ари Астер', 'Ари Сендел', 'Ари Фольман', 'Ариэль Вромен', 'Ариэль Зейтун', 'Ариэль Шульман', 'Аркадий Коган', 'Арман Марутян', 'Армандо Ианнуччи', 'Арни Линдер Нэсс', 'Арно Бурон', 'Арно Деплешен', 'Арно Ларье', 'Арно Лемор', 'Арнольд Гискин', 'Артем Лукичев', 'Артем Лукичев', 'Артур Бензакен', 'Артур Делер', 'Артюс де Пенгерн', 'Асаф Бернштейн', 'Асгар Фархади', 'Асгер Лет', 'Аскар Бисембин', 'Аскар Узабаев', 'Атом Эгоян', 'Атом Эгоян', 'Аудни Аусгейрссон', 'Аун Хое Го', 'Афонсо Пойарт', 'Ахеро Манас', 'Ахмед Сонмез', 'Аюму Ватанабэ', 'Б. Бум', 'Б. Тондер', 'Б.Акопов', 'Б.Бабочкин', 'Б.Бадриев', 'Б.Бакурадзе', 'Б.Барнет', 'Б.Барнет', 'Б.Батуллин', 'Б.Бушмелев', 'Б.Волчек', 'Б.Грачевский', 'Б.Гуц', 'Б.Доржиев', 'Б.Доржиев', 'Б.Дробязко', 'Б.Дышенов', 'Б.Жамьянгийн', 'Б.Иванов', 'Б.Казаков', 'Б.Клеари', 'Б.Куломзин', 'Б.Лихтенштерн', 'Б.Магнотье', 'Б.Мамлин', 'Б.Метальников', 'Б.Плимптон', 'Б.Равенских', 'Б.Ростов', 'Б.Рэес', 'Б.Саузкомби', 'Б.Терекбаев', 'Б.Токарев', 'Б.Токарев', 'Б.Уладаев', 'Б.Халил', 'Б.Хлебников', 'Б.Хлебников', 'Б.Худойназаров', 'Б.Цыбиков', 'Б.Цыренов', 'Б.Чертков', 'Б.Шоу', 'Б.Юсупов', 'Б.Яшин', 'Бабак Наджафи', 'Баз Лурман', 'Байрон Ховард', 'Балазс Патаки', 'Бальтазар Кормакур', 'Бальтасар Кормакур', 'Баран Бо Одар', 'Барбара Топсе-Ротенборг', 'Барбе', 'Барбет Шредер', 'Барри Дженкинс', 'Барри Джин Мерфи', 'Барри Зонненфельд', 'Барри Ким', 'Барри Кук', 'Барри Левинсон', 'Барт Фрейндлих', 'Бартлетт Шер', 'Бастер Китон', 'Беатрис Санчес', 'Бен Аффлек', 'Бен Блейн', 'Бен Бранд', 'Бен Бренд', 'Бен Гез', 'Бен Глюк', 'Бен Грегор', 'Бен Зайтлин', 'Бен Луин', 'Бен Нотт', 'Бен Стассен', 'Бен Стассен', 'Бен Стиллер', 'Бен Стэйссен', 'Бен Сэфди', 'Бен Тимлетт', 'Бен Томас', 'Бен Уитли', 'Бен Элтон', 'Бен Эстон', 'Бен Янгер', 'Бенедикт Эндрюс', 'Бенедикт Эрлингссон', 'Бенжамен Реннер', 'Бенжамин Гуэди', 'Бенжамин Роше', 'Бени Бернардт', 'Бени Бернхардт', 'Бенисио Дель Торо', 'Беннетт Миллер', 'Бенсон Ли', 'Бент-Йорген Перлмутт', 'Бенуа Делепин', 'Бенуа Делепин', 'Бенуа Жако', 'Бенуа Филиппон', 'Бенуа де Клер', 'Бенуа де Клерк', 'Беньямин Хайзенберг', 'Беппе де Томази', 'Бернард Роуз', 'Бернардо Бертолуччи', 'Берни Маттинсон', 'Бернхард Каммель', 'Берр Стирс', 'Бертран Банелло', 'Бертран Блие', 'Бертран Бонелло', 'Бертран Тавернье', 'Бетти Томас', 'Бетти Тэнг', 'Бету Брант', 'Бибо Бержерон', 'Бигас Луна', 'Билл Беннетт', 'Билл Джирхарт', 'Билл Джонс', 'Билл Кондон', 'Билл Оливер', 'Билл Плимптон', 'Билл Плимптон', 'Билл Плимтон', 'Билл Спирс', 'Билл Холдермэн', 'Билле Аугуст', 'Билли Боб Торнтон', 'Билли Ройз', 'Билли Рэй', 'Бинг Лю', 'Биргер Ларсен', 'Биргитте Стэмозе', 'Бландин Ленуар', 'Блэр Эриксон', 'Бо Дзенга', 'Боаз Якин', 'Боб Персичетти', 'Боб Питерсон', 'Боб Фишер', 'Боб Фриз', 'Бобби Фаррелли', 'Бобкэт Голдтуэйт', 'Бобо Берманс', 'Бора Дагтекин', 'Боривой Земан', 'Борис Альинович', 'Брайан А.Миллер', 'Брайан Бакли', 'Брайан Вудс', 'Брайан Гудман', 'Брайан Де Пальма', 'Брайан ДеКьюбелис', 'Брайан Кирк', 'Брайан Клагман', 'Брайан Лардж', 'Брайан Ли', 'Брайан О.Мэлли', 'Брайан Персиваль', 'Брайан Пойсер', 'Брайан Сингер', 'Брайан Смрз', 'Брайан Тейлор', 'Брайан Томсон', 'Брайан Фи', 'Брайан Фогель', 'Брайан Хелгеленд', 'Брайан Хенсон', 'Брайан Хориути', 'Браян Левант', 'Брек Айзнер', 'Брек Эйзнер', 'Брек Эйснер', 'Бренда Чапмен', 'Бретт Ратнер', 'Бретт Рэтнер', 'Бретт Рэтнер', 'Бретт Симмонс', 'Бронвин Деннисон', 'Бронвин Деннисон', 'Бруно Халлин', 'Бруно Шиш', 'Брэд Андерсон', 'Брэд Берд', 'Брэд Льюис', 'Брэд Пейтон', 'Брэд Силберлинг', 'Брэд Фурман', 'Брэдли Кинг', 'Брэдли Купер', 'Брэдли Паркер', 'Брэйден Кинг', 'Брэйди Корбет', 'Брэндон Кристенсен', 'Брюно Дюмон', 'Брюно Подалидес', 'Брюно Роми', 'Брюс Бересфорд', 'Брюс Робинсон', 'Брюс Тьерри Чунг', 'Брюс Э.Эванс', 'Бьерн Рунге', 'Бьерн Стейн', 'Бьорн Стейн', 'Бэз Лурман', 'Бэн Палмер', 'Бэнкси', 'Бэрри Кук', 'В. Мавония-Койка', 'В.Абдрашитов', 'В.Абдрашитов', 'В.Азаров', 'В.Азеев', 'В.Азеев', 'В.Акобян', 'В.Алеников', 'В.Алферов', 'В.Аравин', 'В.Арясов', 'В.Байрамгулов', 'В.Барбэ', 'В.Бархатов', 'В.Басов', 'В.Бедошвили', 'В.Бедошвили', 'В.Бедошвили и др.', 'В.Бек', 'В.Белов', 'В.Битоков', 'В.Бортко', 'В.Бродский', 'В.Вакуленко', 'В.Валиуллин', 'В.Виноградов', 'В.Войтецкий', 'В.Волгин при участии А.Ягубец', 'В.Воля', 'В.Воробьев', 'В.Воробьев', 'В.Воронцов', 'В.Вохминцев', 'В.Гай Германика', 'В.Галкина', 'В.Георгиев', 'В.Герасимов', 'В.Гинзбург', 'В.Глаголева', 'В.Глухушин', 'В.Гришин (псевдоним - Влад Гришин)', 'В.Гулуев', 'В.Демент', 'В.Дербенев', 'В.Донсков', 'В.Дубровицкий', 'В.Дьяченко', 'В.Елина', 'В.Есинов', 'В.Ефремов', 'В.Журавлев', 'В.Зайкин', 'В.Захаров', 'В.Златопольский', 'В.Ивакин', 'В.Иванов', 'В.Ивановская', 'В.Игнатьев', 'В.Каминский', 'В.Канцель', 'В.Каплуновский', 'В.Карабанов', 'В.Карнавалова', 'В.Карнелутти', 'В.Кашляев', 'В.Кильчевская', 'В.Кленин', 'В.Козлов', 'В.Копцев', 'В.Короленков', 'В.Котт', 'В.Котт', 'В.Краснопольский', 'В.Кремнев', 'В.Криштофович', 'В.Крючков', 'В.Кудряшов', 'В.Кузенков', 'В.Кузмина', 'В.Кузнецов', 'В.Кузовлев', 'В.Кушнирович (псевдоним В.Бенигсен)', 'В.Кущинский', 'В.Лавров', 'В.Лагунов', 'В.Лакисов', 'В.Лаптев', 'В.Лисневский', 'В.Лисневский', 'В.Локтионов', 'В.Лонской', 'В.Лопач', 'В.Макарихин', 'В.Максаков', 'В.Марин', 'В.Мариничев', 'В.Марков', 'В.Марченко', 'В.Медведев', 'В.Мельников', 'В.Меньков', 'В.Меньшов', 'В.Мережко', 'В.Минорский', 'В.Мирзоев', 'В.Мистюков', 'В.Моргенштерн', 'В.Москаленко', 'В.Мухаметзянов', 'В.Мухаметзянов', 'В.Мякишева', 'В.Назаров', 'В.Наумов', 'В.Немоляев', 'В.Непевный', 'В.Николаев', 'В.Николаев', 'В.Новиков', 'В.Овчинников', 'В.Огородников', 'В.Олькович', 'В.Ордынский', 'В.Орел', 'В.Орехов', 'В.Павлов', 'В.Павлович', 'В.Пальмьери', 'В.Панжев', 'В.Панжев', 'В.Панжев и др.', 'В.Панков', 'В.Пендраковский', 'В.Перельман', 'В.Перельман', 'В.Перов', 'В.Петров', 'В.Плотников', 'В.Плучек', 'В.Пономарев', 'В.Пономарев', 'В.Потапов', 'В.Потемкин', 'В.Приходько', 'В.Пронин', 'В.Пудовкин', 'В.Ракша', 'В.Рейнгеверц', 'В.Ровенский', 'В.Ровенский', 'В.Рощин', 'В.Рудак', 'В.Саков', 'В.Салтыков', 'В.Санду', 'В.Семаков', 'В.Семеновых', 'В.Сериков', 'В.Сигарев', 'В.Сидоренко', 'В.Скуйбин', 'В.Смолина', 'В.Соколовский', 'В.Сорокин', 'В.Сотсков', 'В.Спирин', 'В.Сторожева', 'В.Сторожева', 'В.Стотер', 'В.Стрельченко', 'В.Сунцов', 'В.Суслин', 'В.Татарский', 'В.Тертышный', 'В.Тимощенко', 'В.Титов', 'В.Тодоровский', 'В.Толкачиков', 'В.Торопчин', 'В.Торопчин', 'В.Тумаев', 'В.Угличин', 'В.Усков', 'В.Фанасютина', 'В.Фатьянов', 'В.Фатьянов', 'В.Федоров', 'В.Фекленко', 'В.Фурманов', 'В.Харченко', 'В.Харьков', 'В.Хотиненко', 'В.Хохлов', 'В.Чеа', 'В.Чеботарев', 'В.Чигинский', 'В.Чичайкин', 'В.Чубриков', 'В.Шамиров', 'В.Шамшурин', 'В.Шевельков', 'В.Шепелев', 'В.Шепелев', 'В.Штерянов при участии Е.Немых', 'В.Шукшин', 'В.Щегольков', 'В.Эйснер', 'В.Юркус', 'В.Яковлев', 'В.Янковский', 'Ваагн Хачатрян', 'Ваге Саян', 'Вадим Перельман', 'Вадих Эль Хайек', 'Валентино Пиконе', 'Валери Донзелли', 'Валери Фэрис', 'Валерио Аттаназио', 'Валерио Аттаназио', 'Валерио Мьели', 'Валерия Бруни-Тедески', 'Валерия Гай Германика', 'Валерия Паризи', 'Ван Реко', 'Ван Сылинь', 'Ванесса Фильо', 'Вано Бурдули', 'Вари Ом', 'Вахтанги Хубутия', 'Вейн Тонли', 'Венсан Патар', 'Вернер Херцог', 'Виджай Кришна Ачария', 'Вик Армстронг', 'Викрам Батт', 'Виктор Гарсия', 'Виктор Косаковский', 'Виктор Левин', 'Виктор Сальва', 'Виктор Сейнт Макари', 'Виктор Флеминг', 'Виктория Дженсон', 'Вильгельм Домке-Шульц', 'Вильям Де Витал', 'Вильям Эсхерст', 'Вим Вендерс', 'Вим Вендерс', 'Винко Брешан', \"Винсент Д'Онофрио\", 'Винсент Кестелут', 'Винсент Паронно', 'Винсент Патерсон', 'Винсент Чжоу', 'Винченцо Натали', 'Виола Байер', 'Виталий Манский', 'Витторио Тавиани', 'Вич Каосаянанда', 'Виченте Аморим', 'Вишес Бразерс', 'Вл.Китт', 'Владимир Дрга', 'Владимир Прудкин', 'Владимир Тагик', 'Владимир Чеботарев', 'Владислав Байрамгулов', 'Владислав Байрамгулов', 'Владислав Пасиковский', 'Войячек', 'Вольфганг Гроос', 'Вольфганг Лауэнштайн', 'Вольфганг Петерсен', 'Вольфганг Петерсон', 'Вон Стайн', 'Вонг Кар Вай', 'Вонг Чинг По', 'Вонг Юнфей', 'Вонджа Ли', 'Вуди Аллен', 'Вэй Кеунг Лау', 'Вэйшали Синха', 'Вячеслав Алешечкин', 'Г.Александров', 'Г.Бардин', 'Г.Бежанов', 'Г.Болдугеров', 'Г.Гитис', 'Г.Гитис', 'Г.Голубева', 'Г.Данелия', 'Г.Данелия', 'Г.Добрыгин', 'Г.Добрыгин', 'Г.Долматовская', 'Г.Дульян', 'Г.Дюкарев', 'Г.Евтушенко', 'Г.Егиазаров', 'Г.Жихаревич', 'Г.Заозерский', 'Г.Игнатов', 'Г.Ильин', 'Г.Калинина', 'Г.Киракосян', 'Г.Коломийцев', 'Г.Константинопольский', 'Г.Кузнецов', 'Г.Курлаев', 'Г.Курлаев', 'Г.Курлаев и др.', 'Г.Куценко (Ю.Куценко)', 'Г.Малков', 'Г.Мелконян', 'Г.Мендеш', 'Г.Менкяров', 'Г.Михалков', 'Г.Мыльников', 'Г.Натансон', 'Г.Натансон', 'Г.Ндириту', 'Г.Негашев', 'Г.Нуриманов', 'Г.Омарова', 'Г.Орлов', 'Г.Осорио', 'Г.Островский', 'Г.Панфилов', 'Г.Параджанов', 'Г.Параджанов', 'Г.Петросян', 'Г.Пирогова', 'Г.Полока', 'Г.Проценко', 'Г.Робертс', 'Г.Ром', 'Г.Рошаль', 'Г.С.Нардис', 'Г.Сальников', 'Г.Суханова', 'Г.Тесля-Герасимов', 'Г.Тис', 'Г.Хугхеш', 'Г.Чухрай', 'Г.Шенгелия', 'Г.Шервин', 'Г.Щерба', 'Г.Щукин', 'Г.Энгер', 'Г.Якубовский', 'Габе Ибаньес', 'Габи Амионе', 'Габриела Пихлер', 'Габриэла Черняк', 'Габриэле Муччино', 'Габриэль Жюльен-Лаферье', 'Габриэль Рива Паласио Алатристе', 'Гай Гвидо', 'Гай Кассье', 'Гай Меддин', 'Гай Наттив', 'Гай Ричи', 'Гай Риччи', 'Гай Ферланд', 'Гален Т.Чу', 'Галина Миклинова', 'Ганс Вайнгартнер', 'Ганс Петтер Моланд', 'Гапон', 'Гарет Эванс', 'Гарет Эванс', 'Гарет Эдвардс', 'Гари Виник', 'Гари Вонг', 'Гари Доберман', 'Гари Шор', 'Гари Шор', 'Гарольд Беккер', 'Гарольд Реймис', 'Гаррет Прайс', 'Гарри Клевен', 'Гарри Маршалл', 'Гарт Дженнингс', 'Гарт Дэвис', 'Гас Ван Сент', 'Гаспар Ноэ', 'Гаспар Ноэ', 'Гастон Дюпра', 'Гаэль Гарсия Берналь', 'Гаэль Денис', 'Гейб Ибаньес', 'Гейб Клингер', 'Гейб Польски', 'Гейбор Ксапо', 'Гейл Манкусо', 'Гейл Эвардс', 'Гейл Эдвардс', 'Гектор Эрнандес', 'Гела Баблуани', 'Геннадий Тартаковский', 'Генри Бедуэлл', 'Генри Бин', 'Генри Джейкобсон', 'Генри Джуст', 'Генри Селик', 'Генрик Рубен Генц', 'Георгий Варсимашвили', 'Георгий Орлов', 'Герард Квинто', 'Герард МакМюррей', 'Герберт фон Караян. Постановка  Жоржа Вакевича', 'Герин Хованнисян', 'Герман Васке', 'Гермина Хунтгебурт', 'Гийом Винсент', 'Гийом Гальенн', 'Гийом Кане', 'Гийом Медачевски', 'Гил Кинан', 'Гилберт Кинг', 'Гильермо Амоедо', 'Гильермо Арриага', 'Гильермо Арриага', 'Гильермо Иван', 'Гильермо дель Торо', 'Гиоргос Лантимос', 'Глен Кин', 'Гленио Бондер', 'Гленн Фикарра', 'Гленн Фикарра', 'Го Аун Хое', 'Говард Холл', 'Гонсало Лопес-Гальего', 'Гор Вербински', 'Гор Киракосян', 'Грант Спьютор', 'Грач Кешишян', 'Грачья Кешишян', 'Грег Гарт', 'Грег Кос', 'Грег МакГилливрэй', 'Грег МакЛин', 'Грег Маклеод', 'Грег Моттола', 'Грег Тирнан', 'Грег Тирнан', 'Грег Уайтели', 'Грег Хаккет', 'Грегг Бишоп', 'Грегг Хейл', 'Грегор Джордан', 'Грегори Джейкобс', 'Грегори Левассер', 'Грегори Плоткин', 'Грегори Хоблит', 'Грен Уэллс', 'Грета Гервиг', 'Гриффин Данн', 'Грэг Берланти', 'Грэг МакГиливрэй', 'Грэг МакГилливрэй', 'Грэг Мэнваринг', 'Грэг Штраус', 'Грэм Мерфи', 'Грэхэм Эннэйбл', 'Губерт Вайланд', 'Гун Пхансувон', 'Гунилла Валлин. Хореограф Матс Эк', 'Густаво Кова', 'Густаво Эрнандес', 'Гуэндалина Дзампаньи', 'Гэбриел Маскаро', 'Гэвин Вьесен', 'Гэвин Грейзер', \"Гэвин О'Коннор\", 'Гэвин Худ', 'Гэри Ван', 'Гэри Дэйвид Голдберг', 'Гэри МакКендри', 'Гэри Маршалл', 'Гэри Росс', 'Гэри Траусдейл', 'Гэри Трусдейл', 'Гэри Фледер', 'Гэрри Маршалл', 'Гюстав Керверн', 'Гюстав де Керверн', 'Гюстав де Керверн', 'Д. Абель', 'Д. Кларк', 'Д. Кэмерон', 'Д.Адар', 'Д.Алейников', 'Д.Алексеев', 'Д.Астрахан', 'Д.Баккер', 'Д.Балинова', 'Д.Банников', 'Д.Белоусов', 'Д.Боголепов', 'Д.Булгаков', 'Д.Булин', 'Д.Былинушкина', 'Д.Васильев', 'Д.Васильев', 'Д.Великовская', 'Д.Вершинин', 'Д.Власова', 'Д.Вологдин', 'Д.Вятич-Бережных', 'Д.Глазовский', 'Д.Глисон', 'Д.Грачев', 'Д.Григорьев', 'Д.Гринькин', 'Д.Гротелл', 'Д.Гусельников', 'Д.Давыдов', 'Д.Даниелян', 'Д.Дваджиев', 'Д.Демура', 'Д.Дж.Карузо', 'Д.Додсон', 'Д.Додсон', 'Д.Донахьюм', 'Д.Дунаев', 'Д.Дьяченко', 'Д.Дьяченко', 'Д.Дюжев', 'Д.Е.Брайант', 'Д.Елеонский', 'Д.Ефремович', 'Д.Ж.Карузо', 'Д.Зинченко', 'Д.Золототрубов', 'Д.Иванкова', 'Д.Иванов', 'Д.Изместьев', 'Д.Карро', 'Д.Киселев', 'Д.Киселев', 'Д.Козловский', 'Д.Колонтай', 'Д.Коробкин', 'Д.Кричли', 'Д.Кроссвэйт', 'Д.Крылов', 'Д.Крылова', 'Д.Кубасов', 'Д.Кудрявцев', 'Д.Кузнецов (псевдоним - Хаски)', 'Д.Кузьмин', 'Д.Курочка (псевдоним Денис Бродский)', 'Д.Лазарев', 'Д.Ларзильер', 'Д.Ласу', 'Д.М.Лоренц', 'Д.Маковцев и др.', 'Д.Мамулия', 'Д.Манджашутти', 'Д.Мастеров', 'Д.Мастромауро', 'Д.Месхиев', 'Д.Милейро', 'Д.Моисеев', 'Д.Моллер', 'Д.Найшуллер (псевдоним - Даша Чаруша)', 'Д.Наумов', 'Д.Нейдманд', 'Д.Никулин и др.', \"Д.О'Рейли\", 'Д.Оду', 'Д.Павлов', 'Д.Панченко', 'Д.Поволоцкий', 'Д.Прима', 'Д.Резванов', 'Д.Рейниш', 'Д.Родимин', 'Д.Рондот', 'Д.Рудаков', 'Д.Рэймерс', 'Д.Светозаров', 'Д.Семибратов', 'Д.Сергин', 'Д.Сергин', 'Д.Силяков', 'Д.Смит', 'Д.Сорокин', 'Д.Соскин', 'Д.Спинелли', 'Д.Степанов', 'Д.Стрижевский', 'Д.Суворов', 'Д.Сулейманов', 'Д.Сулейманов', 'Д.Таран', 'Д.Туприн', 'Д.Тюрин', 'Д.Уайт', 'Д.Ушаков', 'Д.Фадеев', 'Д.Файзиев', 'Д.Федоров', 'Д.Филюков', 'Д.Фини', 'Д.Фирсова', 'Д.Хананов', 'Д.Хартл', 'Д.Херцфельд', 'Д.Хесс', 'Д.Хилман', 'Д.Ходжсон', 'Д.Холл', 'Д.Цветков', 'Д.Цибаускайте (псевдоним - Дали Руст)', 'Д.Цыбулькин', 'Д.Червяцов', 'Д.Червяцов', 'Д.Чернов', 'Д.Шабаев', 'Д.Шабаев', 'Д.Шмидт', 'Д.Шмидт', 'Д.Штурманова', 'Д.Штурманова (псевдоним: Дуня Лисова)', 'Д.Шумакова', 'Д.Эверет', 'Д.Юзбашев', 'Давид Ало', 'Давид Алонсо', 'Давид Бисбано', 'Давид Гриеко', 'Давид Лево', 'Давид Манули', 'Давид Моро', 'Давид Пастор', 'Давид Сигел', 'Давид Феррарио', 'Давид Фонкинос', 'Давид Шарон', 'Давиде Феррарио', 'Даг Лайман', 'Даг Суитлэнд', 'Даизуке Цуцуми', 'Даина Пападаки', 'Дайна Рейд', 'Дамиан Шифрон', 'Дамон Гамо', 'Дана Браун', 'Данайя Паскуини', 'Дани Бон', 'Дани Леви', 'Дани де ла Орден', 'Даниель Отой', 'Данис Танович', 'Даниэл Аугусту', 'Даниэле Лукетти', 'Даниэле Пини; Франческа Бруни', 'Даниэль Альфредсон', 'Даниэль Бенмаур', 'Даниэль Бурман', 'Даниэль Кальпарсоро', 'Даниэль Львовски', 'Даниэль Рагуссис', 'Даниэль Робишо', 'Даниэль Санчес Аревало', 'Даниэль Фергюсон', 'Даниэль Штамм', 'Даниэль Эспиноса', 'Дания Пасквини', 'Данте Лам', 'Дара Братт', 'Дарен Линн Босман', 'Дарио Ардженто', 'Даррен Аронофски', 'Даррен Линн Баусмэн', 'Даррен Линн Боусман', 'Даррен Лион Бойсман', 'Даррин Линн Боусман', 'Дарья Жук', 'Дастин Гай Дэфа', 'Дастин Хоффман', 'Даэ Джонг', 'Дебора Андерсон', 'Дебра Граник', 'Дейв Филони', 'Дейвид Добкин', 'Дейвид МакНэлли', 'Дейвид Р.Эллис', 'Дейвид Тоухи', 'Деклан Доннеллан', 'Деклан Дэйл', 'Декстер Флетчер', 'Демиан Рунья', 'Ден Кларк', 'Ден Мазер', 'Дени Аркан', 'Дени Вильнев', 'Дени Деркур', 'Дени Криеф', 'Дени де ла Орден', 'Дениз Гамзе Эргювен', 'Дениз Ди Нови', 'Денис Червяцов', 'Денис Червяцов', 'Дениэл Эспиноза', 'Деннис Ботс', 'Деннис Виллануэве', 'Деннис Ганзель', 'Деннис Ганзель', 'Деннис Дуган', 'Деннис Уидмайер', 'Деннис Хоппер', 'Деннисон Рамальо', 'Деон Тейлор', 'Дерек Сиенфрэнс', 'Дерек Сьянфранс', 'Дермот Малруни', 'Деррик Борте', 'Дестин Креттон', 'Детлеф Бук', 'Дея Кулумбегашвили', 'Дж.П. Сниадецки', 'Дж.Т.Петти', 'Джадд Апатов', 'Джакомо Гатти', 'Джакомо Чимини', 'Джалиль Леспер', 'Джан Витторио Балди', 'Джанкарло Фонтана', 'Джанкарло дель Монако', 'Джанлука Ансанелли', 'Джанфранко Панноне', 'Джанфранко Рози', 'Джаред Хесс', 'Джаспер Уарри', 'Джастин Бальдони', 'Джастин Бенсон', 'Джастин Дек', 'Джастин Закэм', 'Джастин Курзель', 'Джастин Лин', 'Джастин МакМиллан', 'Джастин Пембертон', 'Джастин Стил', 'Джастин Типпинг', 'Джастин Франклин', 'Джастин Чадвик', 'Джафар Панахи', 'Джей Ананья', 'Джей Барушель', 'Джей Блейксон', 'Джей Джей Абрамс', 'Джей Дюплис', 'Джей Расселл', 'Джей Роач', 'Джей Роуч', 'Джей Си Чендор', 'Джей Чандрашекхар', 'Джейда Торун', 'Джейк Армстронг', 'Джейк Зимански', 'Джейк Касдан', 'Джейк Кэздан', 'Джейк Шрейер', 'Джейми Брэдшоу', 'Джеймс  МакТиг', 'Джеймс Айвори', 'Джеймс Бобин', 'Джеймс Ван', 'Джеймс Вон', 'Джеймс Вонг', 'Джеймс Ганн', 'Джеймс Ганн', 'Джеймс Грей', 'Джеймс Гриффитс', 'Джеймс Грэй', 'Джеймс Даффи', 'Джеймс ДеМонако', 'Джеймс Каллен Брэссак', 'Джеймс Камерон', 'Джеймс Кент', 'Джеймс Кокс', 'Джеймс Крамп', 'Джеймс Кэмерон', 'Джеймс Л.Брукс', 'Джеймс МакТиг', 'Джеймс МакТэйг', 'Джеймс Марш', 'Джеймс Моран', 'Джеймс Мэнголд', 'Джеймс Мэтер', 'Джеймс Нанн', 'Джеймс Напье Робертсон', 'Джеймс Окли', 'Джеймс Понсольдт', 'Джеймс Стюарт', 'Джеймс Тобэк', 'Джеймс Уоткинс', 'Джеймс Фоули', 'Джеймс Франко', 'Джеймс Хант', 'Джеймс Хат', 'Джейн Поллард', 'Джейсон Айзенер', 'Джейсон Айзнер', 'Джейсон Зада', 'Джейсон Кэбелл', 'Джейсон Момоа', 'Джейсон Мур', 'Джейсон Райтман', 'Джейсон Рейтман', 'Джейсон Ритмэн', 'Джейсон Рэйтман', 'Джейсон Стоун', 'Джейсон Тиссен', 'Джейсон Флеминг', 'Джейсон Фридберг', 'Джейсон Хитон', 'Джейсон Эпперсон', 'Джек Каздан', 'Джек Фрост', 'Джемейн Клемент', 'Джеми Линден', 'Дженнаро Нунцианте', 'Дженни Гейдж', 'Дженнифер Весткотт', 'Дженнифер Кент', 'Дженнифер Ли', 'Дженнифер Пидом', 'Дженнифер Уэстфелд', 'Дженнифер Финниган', 'Дженнифер Ю', 'Дженнифер Ю', 'Дженнифер Ю.Нельсон', 'Джеральд Рашинато', 'Джереми Вебб', 'Джереми Дайсон', 'Джереми Дегрусон', 'Джереми Деллер', 'Джереми Джонс', 'Джереми Левин', 'Джереми Люттер', 'Джерика Клилэнд', 'Джеримайя С.Чечик', 'Джером Сейбл', 'Джеспер Мюллер', 'Джесс Гордон', 'Джесси В.Джонсон', 'Джесси Джонсон', 'Джесси МакКормак', 'Джесси Нельсон', 'Джессика Хауснер', 'Джессика Хоуп Вудворт', 'Джеф Треймейн', 'Джефф Дюпре', 'Джефф Николс', 'Джефф Ньюитт', 'Джефф Ренфро', 'Джефф Симпсон', 'Джефф Томсич', 'Джефф Треймейн', 'Джефф Уодлоу', 'Джефф Цимбалист', 'Джефф Цимбалист', 'Джефф Чан', 'Джефф Чан', 'Джеффри Начманофф', 'Джеффри Флетчер', 'Джеффри Фридман', 'Джиджи Рокатти', 'Джил Кинан', 'Джили Долев', 'Джилл Калтон', 'Джим Гиллеспи', 'Джим Джармуш', 'Джим Микл', 'Джим Филд Смит', 'Джим Хоскин', 'Джим Шеридан', 'Джимми Хейуорд', 'Джина Ким', 'Джини Финли', 'Джионата Зарантонелло', 'Джо Берлингер', 'Джо Данте', 'Джо Джонстон', 'Джо Карнахан', 'Джо Корниш', 'Джо Линч', 'Джо Пенна', 'Джо Райт', 'Джо Руссо', 'Джо Руссо', 'Джо Сиракьюз', 'Джоан Чен', 'Джоан Шемла', 'Джоао Нуно Пинто', 'Джованни Веронези', 'Джованни Пискалья', 'Джованни Троило', 'Джоди Фостер', 'Джоди Хилл', 'Джозеко де Линарес', 'Джозеф Гордон-Левитт', 'Джозеф Кан', 'Джозеф Косински', 'Джозеф Рубен', 'Джозеф Рубин', 'Джозеф Седар', 'Джози Рурк', 'Джойл Бродли', 'Джон А.Дэйвис', 'Джон Айвэй', 'Джон Бруно', 'Джон Ву', 'Джон Г.Эвилдсен', 'Джон Гамбург', 'Джон Гулажер', 'Джон Дженкс', 'Джон Каздан', 'Джон Камерон Митчел', 'Джон Карни', 'Джон Карпентер', 'Джон Карс', 'Джон Кафка', 'Джон Керран', 'Джон Клацкевич', 'Джон Копли', 'Джон Красинский', 'Джон Краули', 'Джон Кэмерон Митчелл', 'Джон Лассетер', 'Джон Леннон', 'Джон Ли Хэнкок', 'Джон Лойд', 'Джон Лукас', 'Джон Льюсенхоп', 'Джон Льюссенхоп', 'Джон Лэндис', 'Джон М.Чу', 'Джон Майкл МакДона', 'Джон Майкл МакДонах', 'Джон МакИлдаф', 'Джон Маклин', 'Джон Маскер', 'Джон МкТиран', 'Джон Мур', 'Джон Мэдден', 'Джон Нгуйен', 'Джон Паско', 'Джон Патрик Шэнли', 'Джон Петруччи', 'Джон Пог', 'Джон Поликуин', 'Джон Р.Леонетти', 'Джон Райт', 'Джон Рекуа', 'Джон Рекуа', 'Джон Ридли', 'Джон С.Бейрд', 'Джон Симпсон', 'Джон Синглтон', 'Джон Сталберг', 'Джон Стивенсон', 'Джон Стоквелл', 'Джон Стокуэлл', 'Джон Тертелтауб', 'Джон Тертлтауб', 'Джон Туртурро', 'Джон Уайтселл', 'Джон Уоттс', 'Джон Уэллс', 'Джон Фавро', 'Джон Франкенхаймер', 'Джон Френсис Дейли', 'Джон Фрэнсис Дейли', 'Джон Фулджеймс', 'Джон Х.Уильямс', 'Джон Хаддлс', 'Джон Хайамс', 'Джон Харвитц', 'Джон Харрис', 'Джон Харрисон', 'Джон Хейман', 'Джон Херцфелд', 'Джон Хилкоут', 'Джон Хиллкоут', 'Джон Чу', 'Джон Шлезингер', 'Джон Эйч Ли', 'Джон Эрвин', 'Джон Эрик Даудл', 'Джон Эспинач', 'Джона Хилл', 'Джонатан Ауф Дер Хайди', 'Джонатан Бэйкер', 'Джонатан Гарфилкел', 'Джонатан Глейзер', 'Джонатан Голдстейн', 'Джонатан Голдстейн', 'Джонатан Дейтон', 'Джонатан Демме', 'Джонатан Дэйтон', 'Джонатан Инглиш', 'Джонатан Кент', 'Джонатан Кесселман', 'Джонатан Кинг', 'Джонатан Левин', 'Джонатан Либесман', 'Джонатан Макхью', 'Джонатан Миллер', 'Джонатан Милотт', 'Джонатан Мостоу', 'Джонатан Силвермен', 'Джонатан Теплицки', 'Джонатан Хейнслей', 'Джонатан Хопкинс', 'Джонатан Хопкинс', \"Джонни О'Райлли\", 'Джонни То', 'Джордан Вогг-Робертс', 'Джордан Вогт-Робертс', 'Джордан Дауни', 'Джордан Пил', 'Джордан Реннерт', 'Джордж А.Ромеро', 'Джордж Галло', 'Джордж Ихл', 'Джордж Клуни', 'Джордж Лукас', 'Джордж Миллер', 'Джордж Нолфи', 'Джордж Рэтлифф', 'Джордж С.Волф', 'Джордж С.Вульф', 'Джордж Тильман младший', 'Джорджия Уайсс', 'Джорджо Амато', 'Джослин Мурхаус', 'Джосс Уидон', 'Джофф Линдси', 'Джофф Мур', 'Джош Аппелбаум', 'Джош Бун', 'Джош Бэйкер', 'Джош Гордон', 'Джош Кули', 'Джош Лоусон', 'Джош Соскин', 'Джош Столберг', 'Джош Форбс', 'Джошуа Майкл Штерн', 'Джошуа Марстон', 'Джошуа Оппенхаймер', 'Джошуа Сэфди', 'Джошуа Транк', 'Джошуа Трэнк', 'Джоэл Коэн', 'Джоэл Коэн', 'Джоэл Потрикус', 'Джоэл Хопкинс', 'Джоэл Шумахер', 'Джоэл Эдгертон', 'Джудд Апатоу', 'Джуди Моррис', 'Джуеме Балогуеро', 'Джузеппе Доминго Романо', 'Джузеппе Моччиа', 'Джузеппе Стази', 'Джузеппе Торнаторе', 'Джули Бенасра', 'Джули Тэймор', 'Джули Энн Робинсон', 'Джулиан Джаррольд', 'Джулиан Джилби', 'Джулиан Розефельдт', 'Джулиан Фарино', 'Джулиан Шнабель', 'Джулиано Никколо Лигабуэ', 'Джулиано Рибейру Сальгаду', 'Джулиус Эйвери', 'Джулия Гумперт', 'Джулия Ли', 'Джулия Локтев', 'Джулия Тэймор', 'Джун Янг Йом', 'Джун-хо Бон', 'Джэймс Кэмерон', 'Джэми Кастнер', 'Джэфф Баэна', 'Ди Джей Карузо', 'Ди.Джи.Карузо', 'Дианна Грон', 'Дидерик Ван Ружен', 'Дидье Роже', 'Диего Виванко', 'Диего Каплан', 'Диего Ченетьемпо', 'Дик Каррутерс', 'Дик Маас', 'Димитри Логотетис', 'Дин ДеБлуа', 'Дин Деблуа', 'Дин Девлин', 'Дин Израэлайт', 'Дин Лян', 'Дин Паризо', 'Дин Саффрон', 'Дин Тейлор', 'Дин Хэмилтон', 'Дин Ши', 'Динг Лианг', 'Дитер Бернер', 'Дито Монтиель', 'Дм. Высоцкий', 'Дмитрий Гочгарян', 'Дмитрий Черняков', 'Доме Карукоски', 'Доминик Абель', 'Доминик Молль', 'Доминик Роше', 'Доминик Сена', 'Доминик Тьелль', 'Доминик Фарруджия', 'Доминик Шпритцендорфер', 'Дон МакКеллар', 'Дон Рус', 'Дон Харди', 'Дон Холл', 'Дональд Петри', 'Дональд Шебиб', 'Донато Карризи', 'Донован Марш', 'Донь Да Ке', 'Дорон Пас', 'Дорота Кобела', 'Дорота Кобеля', 'Дороти Себба', 'Доун Люббе', 'Дрейк Доремус', 'Дрейк Доримус', 'Дрор Мор', 'Дрю Бэрримор', 'Дрю Годдар', 'Дрю Годдард', 'Дрю Даудл', 'Дрю Дэйуолт', 'Дрю Пирс', 'Дрю Фелмэн', 'Дуг Эллин', 'Дуглас Амиокоски', 'Дуглас Арниокоски', 'Дуглас МакГрат', 'Дункан Джонс', 'Дункан МакНили', 'Дункан МакФарланд', 'Дункан Уорд', 'Дуэйн Адлер', 'Дэвид Аттенборо', 'Дэвид Аубурн', 'Дэвид Баррет', 'Дэвид Бикерстафф', 'Дэвид Боуэрс', 'Дэвид Брукнер', 'Дэвид Брукс', 'Дэвид Бэтти', 'Дэвид Вустер', 'Дэвид Гелб', 'Дэвид Гордон Грин', 'Дэвид Дитль', 'Дэвид Добкин', 'Дэвид Дуглас', 'Дэвид Зеллнер', 'Дэвид Йейтс', 'Дэвид Йетс', 'Дэвид Кепп', 'Дэвид Керр', 'Дэвид Кин', 'Дэвид Кларк', 'Дэвид Кларк', 'Дэвид Кроненберг', 'Дэвид Кэмпбэлл', 'Дэвид Ликли', 'Дэвид Линч', 'Дэвид Листер', 'Дэвид Литч', 'Дэвид Лоуэри', 'Дэвид МакВикар', 'Дэвид МакКензи', 'Дэвид МакНелли', 'Дэвид Маквикар', 'Дэвид Маккензи', 'Дэвид Маллет', 'Дэвид Махмуди', 'Дэвид Мерфи', 'Дэвид Миркин', 'Дэвид Мишо', 'Дэвид Моро', 'Дэвид Мур', 'Дэвид Нотт', \"Дэвид О'Расселл\", 'Дэвид О.Рассел', 'Дэвид О.Расселл', 'Дэвид Олден', 'Дэвид Палмер', 'Дэвид Пастор', 'Дэвид Посаментир', 'Дэвид Р.Эллис', 'Дэвид Рен', 'Дэвид Роберт Митчелл', 'Дэвид Рэймонд', 'Дэвид С.Гойер', 'Дэвид Силверман', 'Дэвид Сильверман', 'Дэвид Сильверман', 'Дэвид Слейд', 'Дэвид Слэйд', 'Дэвид Сорен', 'Дэвид Стрейтон', 'Дэвид Торрас', 'Дэвид Туи', 'Дэвид Уэнэм', 'Дэвид Ф. Сандберг', 'Дэвид Ф.Сэндберг', 'Дэвид Фейсс', 'Дэвид Финчер', 'Дэвид Фрейн', 'Дэвид Френкель', 'Дэвид Фрэнкел', 'Дэвид Хакл', 'Дэвид Холройд', 'Дэвид Хорн', 'Дэвид Хэйтер', 'Дэвид Цукер', 'Дэвид Шнейдер', 'Дэвид Эйр', 'Дэвид Юнг', 'Дэвид Яровецки', 'Дэвин ДиХэйвен', 'Дэйв Бортвик', 'Дэйв Грин', 'Дэйвид Р.Эллис', 'Дэйзи Джейкобс', 'Дэкс Шепард', 'Дэмиан Чапа', 'Дэмьен Шазелл', 'Дэн Бирс', 'Дэн Брэдли', 'Дэн Буш', 'Дэн Вэйфэн', 'Дэн Гилрой', 'Дэн Израэлит', 'Дэн Кван', 'Дэн Креч', 'Дэн Сан Пьер', 'Дэн Скэнлон', 'Дэн Трактенберг', 'Дэн Фогельман', 'Дэн Хогсон', 'Дэна Начман', 'Дэни Бун', 'Дэни Вильнев', 'Дэни Леви', 'Дэниел Альфредсон', 'Дэниел Барнц', 'Дэниэл Роби', 'Дэниэл Фаррандс', 'Дэниэл Фриделль', 'Дэниэл Шайнерт', 'Дэниэл Шехтер', 'Дэниэл Эспиноза', 'Дэниэль Монзон', 'Дэниэль Нетхейм', 'Дэниэль Стамм', 'Дэниэль Эспиноса', 'Дэнни Бойл', 'Дэнни Гордон', 'Дэнни ДеВито', 'Дэнни Кэннон', 'Дэнни Лернер', 'Дэнни Муни', 'Дэнни Пан', 'Дэнни Панг', 'Дэнни Стронг', 'Дэннис Барток', 'Дэннис Дуган', 'Дэннис Илиадис', 'Дэрил Вейн', 'Дяо Инань', 'Е. Махнутин (псевдоним - Евгений Юматов)', 'Е. Чернова', 'Е.Абраменко', 'Е.Абызов', 'Е.Абызов', 'Е.Аксенов', 'Е.Алексеев', 'Е.Анашкин', 'Е.Андриканис', 'Е.Антимоний', 'Е.Антимоний (псевдоним - Иван Курский)', 'Е.Астрецова', 'Е.Баранов', 'Е.Баранов', 'Е.Баранов.', 'Е.Барханов', 'Е.Бедарев', 'Е.Безбородов', 'Е.Белова', 'Е.Бим', 'Е.Болычева', 'Е.Борисова', 'Е.Борисова при участии В.Фатьянова', 'Е.Бродач', 'Е.Бронникова', 'Е.Бычкова', 'Е.Вещева', 'Е.Войтович', 'Е.Гинзбург', 'Е.Головин', 'Е.Грамматиков', 'Е.Грибов', 'Е.Гроховская', 'Е.Гусева', 'Е.Данченко', 'Е.Дворецкая (псевдоним - Елена Лобачева-Дворецкая)', 'Е.Дорофеева', 'Е.Дубкова', 'Е.Егоров', 'Е.Ермолина', 'Е.Живайкина', 'Е.Жигаева', 'Е.Жиркова', 'Е.Замалиев', 'Е.Захаров', 'Е.Звездаков', 'Е.Зильберштейн', 'Е.Карелов', 'Е.Кашинцева', 'Е.Киреева', 'Е.Клейнот (псевдоним Любовь Андреева)', 'Е.Климович', 'Е.Кожокин', 'Е.Константинова (псевдоним Алена Званцева)', 'Е.Кончаловский', 'Е.Копцева', 'Е.Королева', 'Е.Кравченко', 'Е.Кривцов', 'Е.Куркова', 'Е.Ланских', 'Е.Логунцова', 'Е.Матвеев', 'Е.Милых', 'Е.Миндадзе (псевдоним Катя Шагалова)', 'Е.Михайлова', 'Е.Михалков-Кончаловский', 'Е.Морозов', 'Е.Морозова', 'Е.Народицкая-Сташевская', 'Е.Невский', 'Е.Невский (псевдоним Е.Торрес)', 'Е.Нестерова', 'Е.Никитин', 'Е.Обермаер (псевдоним Е.Шапиро-Обермаер)', 'Е.Олейник', 'Е.Останина', 'Е.Паршина-Штайн (псевдоним Елена Штайн)', 'Е.Перволовичи', 'Е.Резников', 'Е.Рустембеков', 'Е.Савин', 'Е.Савина', 'Е.Савчук', 'Е.Салабай', 'Е.Салабай', 'Е.Салабай и др.', 'Е.Семенов', 'Е.Сергеев', 'Е.Серов', 'Е.Соколов', 'Е.Соколов', 'Е.Сокуров', 'Е.Соломина', 'Е.Стишова', 'Е.Стишова', 'Е.Сысоева (С.Лысенко)', 'Е.Сычев', 'Е.Татаров', 'Е.Ташков', 'Е.Телегина', 'Е.Телегина', 'Е.Тетерин', 'Е.Тирдатова', 'Е.Трапезникова', 'Е.Трусевич', 'Е.Тряпицына', 'Е.Туркова', 'Е.Устюгова', 'Е.Фадеев', 'Е.Филиппова', 'Е.Хазанова', 'Е.Хломова', 'Е.Храпкова', 'Е.Цымбал', 'Е.Цыплакова', 'Е.Чернова', 'Е.Чернова', 'Е.Чернова и др.', 'Е.Чичканов', 'Е.Чичканов', 'Е.Шабанова', 'Е.Шабанова  И.Пшонкин и др.', 'Е.Шелякин', 'Е.Шелякин', 'Е.Шереметьева', 'Е.Шиляева', 'Е.Шин', 'Е.Юликов', 'Е.Яцкина', 'Ева Ионеско', 'Евгений Голынкин', 'Евгений Дербез', 'Евгений Пашкевич', 'Ежи Сколимовский', 'Ежи Штур', 'Екатерина Еременко', 'Елена Аршакян', 'Елена Коссон Кизилова', 'Елена Тихонова', 'Елена Фетисова', 'Елкин Туйчиев', 'Ен Сан-хо', 'Ерлан Нурмухамбетов', 'Ж. Анноккии', 'Ж.Альберт', 'Ж.Бадмацыренов', 'Ж.Бекмамбетова', 'Ж.Дара', 'Ж.Журдан', 'Ж.Кати', 'Ж.Клинч', 'Ж.Крыжовников', 'Ж.Маршан', 'Ж.Патри', 'Ж.Робин', 'Ж.Романова', 'Ж.С.Берно', 'Ж.Солер', 'Ж.Халард', 'Ж.Хосмалин', 'Жак Дере', 'Жак Дуайон', 'Жак Клюгер', 'Жак Клюзо', 'Жак Одиар', 'Жак Перрен', 'Жак Уаниш', 'Жаклин Фармер', 'Жаклин Шеффер', 'Жако Ван Дормель', 'Жако ван Дормель', 'Жалиль Леспере', 'Жалмари Хеландер', 'Жамель Деббуз', 'Жан Боден', 'Жан Кристоф Дюссант', 'Жан Рабек', 'Жан Франсуа Рише', 'Жан-Батист Леонетти', 'Жан-Батист Пуйю', 'Жан-Жак Анно', 'Жан-Жак Мантелло', 'Жан-Кристоф Ли', 'Жан-Люк Годар', 'Жан-Мари Ларье', 'Жан-Мари Пуаре', 'Жан-Марк Барр', 'Жан-Марк Валле', 'Жан-Марк Валли', 'Жан-Марк Рудницкий', 'Жан-Поль Лилиенфельд', 'Жан-Поль Раппно', 'Жан-Пьер Амери', 'Жан-Пьер Дарденн', 'Жан-Пьер Жене', 'Жан-Стефан Брон', 'Жан-Стефан Совер', 'Жан-Франсуа Пуле', 'Жан-Франсуа Пуле', 'Жан-Франсуа Рише', 'Жанетт Перльман', 'Жанна Лабрюн', 'Жанна Эри', 'Жаргалсаихан Баатар', 'Жаума Кольет-Серра', 'Жауме Балагуэро', 'Жеральд Юсташ-Матье', 'Жеральдин Накаш', 'Жерар Кравчик', 'Жером Салль', 'Жером Энрико', 'Жилль Бурдо', 'Жиль Бурдо', 'Жиль Де Местр', 'Жиль Леллуш', 'Жиль Паке-Бреннер', 'Жильбер Дефло', 'Жоан Фонт', 'Жоанн Сфар', 'Жозе Антонио Негрет', 'Жозе Падилья', 'Жорж Мельес', 'Жослин ДеБоэр', 'Жослин Таун', 'Жофрей Энтховен', 'Жуанра Фернандез', 'Жюли Бертучелли', 'Жюли Дельпи', 'Жюльен Леклерк', 'Жюльен Лякомб', 'Жюльен Мори', 'Жюстин Трие', 'З.Аграненко', 'З.Болотаев', 'З.Гапиенко', 'З.Джиджилава', 'З.Трофимова', 'Зак Брафф', 'Зак Липовски', 'Зак Снайдер', 'Зак Уэдон', 'Зак Хилдитч', 'Закари Адлер', 'Зандор Йессе', 'Захари Донохью', 'Зенке Вортманн', 'Зигфрид', 'Зик Ерл', 'Зося (София) Родкевич', 'Зоя Ахтар', 'Зэк Снайдер', 'И Гэ', 'И.Анненский', 'И.Бабич', 'И.Басенко', 'И.Басенко (псевдоним - Ирина Бас)', 'И.Бахтина', 'И.Белов', 'И.Белостоцкий', 'И.Белостоцкий', 'И.Бессарабова', 'И.Блохина', 'И.Болотников', 'И.Вейштагин', 'И.Вилкова', 'И.Волкова', 'И.Волкова', 'И.Волосецкий', 'И.Волошин', 'И.Вырыпаев', 'И.Гостев', 'И.Дамаскин', 'И.Джендубаев', 'И.Джендубаев', 'И.Евланникова', 'И.Евланникова', 'И.Евланов', 'И.Евтеева', 'И.Ермолов', 'И.Ефремова', 'И.Зайцев', 'И.Замалиев (псевдоним Э.Бартенев)', 'И.Затевахин', 'И.Иванов', 'И.Каграманов', 'И.Каграманов', 'И.Казанков', 'И.Каленов', 'И.Калядин', 'И.Каргинова', 'И.Качалин', 'И.Квирикадзе', 'И.Киасашвили', 'И.Ковалев', 'И.Комладзе', 'И.Копылов', 'И.Кордзаия', 'И.Корнеев', 'И.Коробейников', 'И.Короткий', 'И.Котельников', 'И.Кранковски', 'И.Красников', 'И.Куликов', 'И.Кунилов', 'И.Лопез', 'И.Максимов', 'И.Максимов', 'И.Максимов и др.', 'И.Малкин', 'И.Малкин', 'И.Мардарь', 'И.Маслюков', 'И.Матвеев', 'И.Мережко', 'И.Найтшуллер', 'И.Оганесов', 'И.Осипов', 'И.Пелинский', 'И.Перекатов', 'И.Перин', 'И.Петухов', 'И.Пиат', 'И.Плечев', 'И.Пшонкин', 'И.Пшонкин', 'И.Пшонкин и др.', 'И.Пырьев', 'И.Пьятт', 'И.Рожков', 'И.Ромащенко', 'И.Савельев', 'И.Савченко', 'И.Сарахатунова', 'И.Сафаров', 'И.Северов', 'И.Селезнева', 'И.Семашко', 'И.Ситников', 'И.Сколков', 'И.Слабневич', 'И.Соловьев', 'И.Соловьева', 'И.Соснин', 'И.Стам', 'И.Стороженко', 'И.Таланкин', 'И.Таланкин', 'И.Твердовский', 'И.Тойонов', 'И.Триф', 'И.Трусов', 'И.Трусов', 'И.Туманян', 'И.Угольников', 'И.Учитель', 'И.Фаве', 'И.Фирсова', 'И.Фрэз', 'И.Хамраев и др.', 'И.Цветов (режиссер ч/б фильма - С.Тимошенко)', 'И.Цыганов', 'И.Черджиева', 'И.Черницкий', 'И.Чижиков', 'И.Чижиков', 'И.Шахназаров', 'И.Шерстобитов', 'И.Шурховецкий', 'И.Щербань', 'И.Ягафаров', 'Иван Атталь', 'Иван Атталь и др.', 'Иван Джерголет', 'Иван Кальберак', 'Игор Биддау', 'Игорь Тувери', 'Иджинио Страффи', 'Ижинио Страффи', 'Изабель Койшет', 'Изуру Нарушима', 'Илай Рот', 'Иления Политано', 'Илмар Рааг', 'Ильдико Эньеди', 'Илья Трусов', 'Илья Трусов', 'Илья Хржановский', 'Инджинио Страффи', 'Инжинио Страффи', 'Иоахим Реннинг', 'Ира Карпелан', 'Ирен С.Родригез', 'Исаак Гертсен', 'Исаак Федер', 'Исида Хироясу', 'Иссара Нади', 'Итан Коэн', 'Итан Коэн', 'Итэн Коэн', 'Й.Рутанен', 'Й.Тиро', 'Й.Тойвоньеми', 'Й.Тойвоньеми', 'Й.Эвер-Хадани', 'Йан Кларк', 'Йен Де Бонт', 'Йен Медоуз', 'Йен Софтли', 'Йен Фитцгиббон', 'Йеспер Гансландт', 'Йоав Пас', 'Йоаким Реннинг', 'Йоаким Роннинг', 'Йоаким Триер', 'Йоахим Лафосс', 'Йоахим Масаннек', 'Йоахим Роуннинг', 'Йоб Роггевен', 'Йоганнес Вайланд', 'Йозеф Руснак', 'Йоко Оно', 'Йонг Ю Ми', 'Йорген Лердам', 'Йорген Лет', 'Йоргос Лантимос', 'Йорис Опринс', 'Йорма Такконе', 'Йорханнес Вейланд', 'Йос Стеллинг', 'Йосихиро Комори', 'Йохан Нийенхейс', 'Йохан Стьярне Нильссон', 'Йоханнес Нюхольм', 'Йоханнес Робертс', 'Йошихиро Нишимура', 'Йуис Килес', 'Йэн Софтли', 'Йюст Раймерс', 'К. Шелепов', 'К.Ангелина', 'К.Б. Рафаэль', 'К.Балагов', 'К.Баркер', 'К.Барретт', 'К.Баскакова', 'К.Белевич', 'К.Белевич (псевдоним - Кирилл Астахов)', 'К.Бронзит', 'К.Бронзит', 'К.Буслов', 'К.Васильев', 'К.Васильев', 'К.Воинов', 'К.Геворкян', 'К.Герасимов', 'К.Гогленкова', 'К.Голубков', 'К.Гравенд', 'К.Грижевски', 'К.Дене', 'К.Дик', 'К.Дружинин', 'К.Кемниц', 'К.Коваленко', 'К.Козлов', 'К.Козлова', 'К.Кокорев', 'К.Колинз', 'К.Котельников', 'К.Кравченко', 'К.Красноперов', 'К.Кузин', 'К.Кутуев при участии М.Алиева', 'К.Кэхилл', 'К.Лавров', 'К.Ле Тефф', 'К.Лопушанский', 'К.Ляшенко', 'К.М.Сабер', 'К.Мазахери', 'К.Макаренков', 'К.Максимов', 'К.Малкин-Фам', 'К.Мейнел', 'К.Мирзоян', 'К.Михановский', 'К.Муратова', 'К.Мурзенко', 'К.О.Тул', 'К.Оганесян', 'К.Оганисян', 'К.Оганисян', 'К.Одегов', 'К.Папакуль', 'К.Плетнев', 'К.Плетнев', 'К.Поплавский', 'К.Попович', 'К.Ратушная', 'К.Рейнер', 'К.Роже', 'К.Россет', 'К.Рот', 'К.Румак', 'К.Сафина', 'К.Седухин', 'К.Серебренников', 'К.Серебряков', 'К.Смирнов', 'К.Соколов', 'К.Статский', 'К.Сухарьков', 'К.Телегина', 'К.Тимофеев', 'К.Тищенко', 'К.Трофимова', 'К.Тэйлхэдс', 'К.Феоктистов', 'К.Феоктистов', 'К.Хабенский', 'К.Хрестинин', 'К.Худяков', 'К.Чувикова', 'К.Шахназаров', 'К.Ше', 'К.Шипенко', 'К.Шпект', 'К.Юдин', 'Кааре Эндрюс', 'Кабир Кхан', 'Кад Мерад', 'Кадзуя Цурумаки', 'Казуаки Кирия', 'Кайжайр Акопян', 'Кайл Балда', 'Кайл Ньюман', 'Кайл Райдаут', 'Кали Коури', 'Каллен Брункер', 'Каллэн Брункер', 'Камаль Бансаль', 'Камиль Деламарр', 'Кан Евренол', 'Кан Чжэ Гю', 'Кандида Бреди', 'Карадог В. Джеймс', 'Каран Джохар', 'Карел Смычек', 'Карен Ли Хопкинс', 'Кари Джуусонен', 'Кари Юуусонен', 'Карим Дриди', 'Карин Кусама', 'Карин Пройя', 'Карин-Энн Андерсон', 'Карл Кох', 'Карл Кристиан Раабе', 'Карл Мендес', 'Карл Ринш', 'Карл Тордж', 'Карл-Йохан Вестрегард', 'Карла Лиа Монти', 'Карла фон Бенгтсон', 'Карлес Торренс', 'Карло Карлей', 'Карлос Гутиеррез Медрано', 'Карлос Каррера', 'Карлос Маркус-Марсет', 'Карлос Рейгадас', 'Карлос Саладна', 'Карлос Салдана', 'Карлос Саура', 'Карлус Диегос', 'Карстен Килерих', 'Каспар Мунк', 'Каспер Барфоэд', 'Каспер Хольтен', 'Катарина Оуэн', 'Катарина Шеде', 'Катерина Кароне', 'Катрин Корсини', 'Катрин Филип', 'Кацуси Сакураби', 'Квентин Дюпье', 'Квентин Рейно', 'Квентин Тарантино', 'Квентин Тарантино', 'Кевин Гетц', 'Кевин Гройтерт', 'Кевин Гротерт', 'Кевин Джонсон', 'Кевин Колш', 'Кевин Колш', 'Кевин Коннолли', 'Кевин Костнер', 'Кевин МакДональд', 'Кевин Манро', 'Кевин Мель', 'Кевин Монро', 'Кевин Мунро', 'Кевин О.Хара. Хореография Кристофера Уилдона', 'Кевин Рейнолдс', 'Кевин Смит', 'Кевин Смит', 'Кевин Танчароэн', 'Кевин Танчароэн', 'Кеер Ху', 'Кейси Аффлек', 'Кейси Патрик Тебо', 'Кейт Шортланд', 'Келли Эсбари', 'Келли Эсбери', 'Келли Эсберн', 'Кен Коупис', 'Кен Куопис', 'Кен Лоуч', 'Кен Скотт', 'Кен Сэнзел', 'Кеннет Брана', 'Кеннет Брэна', 'Кеннет Лонерган', 'Кенни Ортега', 'Кенни Янг', 'Кент Джонс', 'Керк Де Микко', 'Керн Конвайзер', 'Керн Секстон', 'Кертис Хэнсон', 'Кике Майло', 'Ким Ки Дук', 'Ким Ки-Дук', 'Ким Ки-дук', 'Ким Нгуйен', 'Ким Фаррант', 'Ким Чжи Ун', 'Ким Чжи Ун', 'Кимберли Пирс', 'Кимбл Рендалл', 'Кимо Стамбол', 'Кинен Айвори Уэйанс', 'Кира Муратова', 'Киран Дарси-Смит', 'Киран Фой', 'Кирати Нак-Интанон', 'Кирби Аткинс', 'Кирилл Михановский', 'Кирк Джонс', 'Кирк Уайз', 'Кирстен Шеридан', 'Кит Уорнер', 'Кит-Роуч', 'Кия Роуч-Тернер', 'Клайв Тонг', 'Клаудиа Майерс', 'Клаудио Джованнези', 'Клаудио Ноче', 'Клаудио Поли', 'Клаудио Уберти', 'Клаудио Фах', 'Клемен Трехаан-Лалан', 'Клер Дени', 'Клер МакКарти', 'Клинт Иствуд', 'Кловис Корнийяк', 'Клод Баррас', 'Клод Берри', 'Клод Лелуш', 'Клод Миллер', 'Клод Нуридзани', 'Клэй Кейтис', 'Клэй Холл', 'Клэр МакКарти', 'Кодзи Вакамацу', 'Кодзи Шираиши', 'Коди Кэмерон', 'Колин Треворроу', 'Колин Фей', 'Колин Штраус', 'Колм МакКарти', 'Компин Кемгумнирд', 'Конор Эллин', 'Конрад Вернон', 'Конрад Вернон', 'Корали Фарго', 'Корей Йен', 'Кори Пирсон', 'Корин Харди', 'Корнелиу Порумбойю', 'Корнель Мундруцо', 'Крейг Зобель', 'Крестен Вестбьерг Андерсен', 'Крис Бак', 'Крис Батлер', 'Крис Белл', 'Крис Блейн', 'Крис Вайц', 'Крис Горак', 'Крис Дженкинс', 'Крис Джеро', 'Крис Коламбус', 'Крис Лофинг', 'Крис Маккей', 'Крис Миллер', 'Крис Миллер', 'Крис Мул', 'Крис Нунан', 'Крис Пири', 'Крис Рено', 'Крис Рено', 'Крис Сандерс', 'Крис Сендерс', 'Крис Уильямс', 'Крис Уэдж', 'Крис Уэйтс', 'Крис Фишер', 'Крис Эддисон', 'Крисс Миллер', 'Кристиан Алварт', 'Кристиан Альварт', 'Кристиан Биодани', 'Кристиан Волькман', 'Кристиан Гьюдгэст', 'Кристиан Де Вита', 'Кристиан Диттер', 'Кристиан Дюгей', 'Кристиан Е. Кристиансен', 'Кристиан Е.Кристиансен', 'Кристиан Карион', 'Кристиан Клавье', 'Кристиан Ламб', 'Кристиан Левринг', 'Кристиан Матысек', 'Кристиан Молина', 'Кристиан Мунджиу', 'Кристиан Нойбаухер', 'Кристиан Петцольд', 'Кристиан Риверс', 'Кристиан Сесма', 'Кристиан Фрай', 'Кристиан Хаас', 'Кристиан Швохов', 'Кристиано Анания', 'Кристина Коминчини', 'Кристина Синн', 'Кристобаль Крузен', 'Кристоф Ган', 'Кристоф Лауэнштайн', 'Кристоф Лоурделет', 'Кристоф Оноре', 'Кристофер Б.Лэндон', 'Кристофер Б.Стоукс', 'Кристофер Боэ', 'Кристофер Калдвел', 'Кристофер Карр', 'Кристофер Карр. Хореография Мариуса Петипа. Постановка Моники Мейсон и Кристофера Ньютона по Нинетт де Валуа и Николаю Сергееву', 'Кристофер Лэндон', 'Кристофер МакКуори', 'Кристофер МакКуорри', 'Кристофер Миллер', 'Кристофер Моррис', 'Кристофер Нелиус', 'Кристофер Нельсон', 'Кристофер Нолан', 'Кристофер Сунь Лэп Ки', 'Кристофер Фитчетт', 'Кристоффер Нюхольм', 'Крэйг Гиллеспи', 'Крэйг Мэзин', 'Крэйг Уильям Макнейлл', 'Ксави Хименез', 'Ксавье Джанноли', 'Ксавье Джианолли', 'Ксавье Долан', 'Ксавье Жанс', 'Ксавье Легран', 'Куинн Лэшер', 'Кунихико Юяма', 'Курт Морган', 'Курт Мэттила', 'Курт Уиммер', 'Кшиштоф Занусси', 'Кьюнг Хо Ли', 'Кэй Кэннон', 'Кэйити Хара', 'Кэллан Брункер', 'Кэмерон Кроу', 'Кэндзи Камияма', 'Кэри Киркпатрик', 'Кэри Мернион', 'Кэри Фукунага', 'Кэт Кэндлер', 'Кэтлин Бельхер', 'Кэтрин Бигелоу', 'Кэтрин Бингелоу', 'Кэтрин Хардвик', 'Кэтрин Хардуик', 'Кюнг Хо Ли', 'Л. де Кон', 'Л.Агранович', 'Л.Аркадиас', 'Л.Арнштам', 'Л.Арчидиаконо', 'Л.Б.Хансен', 'Л.Биц', 'Л.Борисова', 'Л.Бочков', 'Л.Габриадзе', 'Л.Габриадзе', 'Л.Гайдай', 'Л.Гайдай', 'Л.Геращенко', 'Л.Гладунко', 'Л.Гладунко', 'Л.Горовец', 'Л.Гранд', 'Л.Гурченко', 'Л.Густаво Купер', 'Л.Ди Нола', 'Л.Дэвис', 'Л.Ефимов', 'Л.Индовина', 'Л.Искандерова', 'Л.Квинихидзе', 'Л.Коршик', 'Л.Круглов', 'Л.Кулагина', 'Л.Кулишов', 'Л.Лукетти', 'Л.Лысцов', 'Л.Марголин', 'Л.Марягин', 'Л.Носырев', 'Л.Попов', 'Л.Сааков', 'Л.Садилова', 'Л.Соломатина (Томилова)', 'Л.Стюарт', 'Л.Тейлор', 'Л.Трауберг', 'Л.Трофимова', 'Л.Уплэйн', 'Л.Усова', 'Л.Фирод', 'Л.Фоулер', 'Л.Хадсон', 'Л.Шалгачева', 'Л.Шепитько', 'Л.Шмельков', 'Л.Шмурьева (псевдоним Лика Алексеева)', 'Ладж Ли', 'Ладислас Шолла', 'Лаис Боданзки', 'Лайам Гэвин', \"Лайам О'Доннелл\", 'Лайонел Стекти', 'Лакарион Вайнайна', 'Лаки МакКи', 'Ламберто Санфелисе', 'Лана Вачовски', 'Ланс Дэйли', 'Ларри Вачовски', 'Ларри Чарльз', 'Ларс Клевберг', 'Ларс Фон Триер', 'Ларс фон Триер', 'Ласло Немеш', 'Лассе Халлстрем', 'Лассе Халльстрем', 'Лассе Халстром', 'Лассе Холлстрем', 'Лаура Моранте', 'Лаура Шредер', 'Леандер Хаусманн', 'Лев Прудкин', 'Леван Когуашвили', 'Лен Уайзман', 'Леннарт Рафф', 'Ленни Абрахамсон', 'Лео Брайдл', 'Лео Верьер', 'Лео Габриадзе', 'Лео Жанг', 'Лео Каракс', 'Леон Джусен', 'Леон Динг', 'Леоне Маруччи', 'Леонид Шмельков', 'Леонор Серай', 'Леопольдо Агиляр', 'Лес Мэйфилд', 'Леси Халлстрем', 'Лесли Хэдланд', 'Летиция Коломбани', 'Летиция Хорхе Ромеро', 'Лех Майевски', 'Ли Анкрич', 'Ли Даниэлс', 'Ли Джон-хо', 'Ли Дэниелс', 'Ли Кронин', 'Ли Лиань', 'Ли Сингму', 'Ли Стернтал', 'Ли Тамахори', 'Ли Толанд Кригер', 'Ли Ункрич', 'Ли Ункрич', 'Ли Уоннелл', 'Ли Чандон', 'Ли Чхан-дон', 'Лиз Гарбус', 'Лиза Аддарио', 'Лиза Азуэлос', 'Лиза Аскан', 'Лиза Джонсон', 'Лиза Иммордино Врилэнд', 'Лиза Лангсет', 'Лизе И.Осволл', 'Лила Авильес', 'Лим Пхиль Сон', 'Лин Одинг', 'Линн Рэмси', 'Линн Шелтон', 'Линси Стюарт', 'Линь Хуэйда', 'Лиэнн Пули', 'Лоне Шерфиг', 'Лора Пойтрас', 'Лоран Канте', 'Лоран Пелли', 'Лоран Тирар', 'Лоран Тюэль', 'Лоран Фироде', 'Лорен Скафария', 'Лоренс Кэздан', 'Лори Фельдман Сантоликвидо', 'Лорин Скафария', 'Лорна Такер', 'Лоррэйн Леви', 'Лотти Рейнигер', 'Лоун Шерфиг', 'Лоуренс Гутерман', 'Лоуренс Казанофф', 'Лоуренс Фаулер', 'Лоуренс Шер', 'Лу Жене', 'Лу Хаму-Лхад', 'Луи Валлекан', 'Луи Гаррель', 'Луи Летеррье', 'Луи Летерье', 'Луи Симон', 'Луиз А.Гиков', 'Луис Клиши', 'Луис Ортега', 'Луис Прието', 'Луиш Диого', 'Лука Виотто', 'Лука Гуаданьино', 'Лука Лучини', 'Лука Миньеро', 'Лука Ронкони', 'Лукас Бернард', 'Лукас Донт', 'Лукас Мудиссон', 'Лукас Фейгельфилд', 'Лукас Цяо', 'Лукино Висконти', 'Лулу Ванг', 'Лунг Ах', 'Лусия Аньелло', 'Лучано Лигабуэ', 'Лучио Пеллегрини', 'Льва Иванова по разработке Мариуса Петипа', 'Льва Иванова по разработке Мариуса Петипа в режиссуре Кристофера Карра', 'Людвиг Шаммасян', 'Люк Бессон', 'Люк Бонди', 'Люк Гринфилд', 'Люк Дарденн', 'Люк Джейден', 'Люк Жаке', 'Люк Крессуел', 'Люк Крэссуэл', 'Люк Лорентцен', 'Люк Скотт', 'Люка Бельво', 'Люси Уокер', 'Люсиль Адзиалилович', 'Люсия Гарибальди', 'Лян Сюань', 'М', 'М', 'М. Абрамов', 'М. Бальчюнас', 'М. Дансембург', 'М. Мышанский', 'М. Найт Шьямалан', 'М. ван Айертрик', 'М.Абдулкадыров', 'М.Агранович', 'М.Айрапетов', 'М.Алиев', 'М.Алина', 'М.Архипов', 'М.Бабенко', 'М.Бальчунас', 'М.Бальчунас (Вайсберг)', 'М.Бальчюнас', 'М.Бальчюнас (псевдоним М.Вайсберг)', 'М.Бальчюнас (псевдоним Марюс Вайсберг)', 'М.Барынин', 'М.Беспалый', 'М.Биасин', 'М.Бигоцкий', 'М.Бине', 'М.Бирюкова', 'М.Бланчес', 'М.Блаш', 'М.Богдасаров', 'М.Бэйкер', 'М.Вайсберг', 'М.Валто', 'М.Вартанян', 'М.Вартанян (псевдоним - Милана Федосеева)', 'М.Васюнов', 'М.Волков', 'М.Волчанская', 'М.Воробьева', 'М.Воронков', 'М.Воскобоев', 'М.Д..Хелфгот', 'М.Данкер', 'М.Дворянкин', 'М.Демаре', 'М.Демченко', 'М.Джусоев', 'М.Довженко', 'М.Доллер', 'М.Другой', 'М.Елкин', 'М.Елкин', 'М.Ершов', 'М.Железников', 'М.Жерневский', 'М.Жигалова-Озкан', 'М.Захариас', 'М.Зулоага', 'М.Зыков', 'М.И.Эпштайн', 'М.Ибрагимбеков', 'М.Игнатенко', 'М.Идов', 'М.Ильенко', 'М.Калатозов', 'М.Калик', 'М.Капля', 'М.Карри', 'М.Катушкин', 'М.Киреева', 'М.Кловатер', 'М.Козлов', 'М.Кондрикова', 'М.Конева', 'М.Коновальчук', 'М.Коростышевский', 'М.Костарев', 'М.Косырев-Нестеров', 'М.Котик', 'М.Кравченко', 'М.Кричман', 'М.Ксейбати', 'М.Кузнецова', 'М.Кузовенков', 'М.Куклина', 'М.Кукушкин', 'М.Кулагин', 'М.Кулунаков', 'М.Кумыков', 'М.Кунерт', 'М.Левитин мл.', 'М.Лиманский', 'М.Лихачева', 'М.Лой', 'М.Маханько', 'М.Медведь', 'М.Мерзликин', 'М.Местецкий', 'М.Местецкий', 'М.Мигунова', 'М.Микаэлян', 'М.Митник', 'М.Михайлова', 'М.Мкртчян', 'М.Мкртчян', 'М.Морсков', 'М.Мошкова', 'М.Найт Шьямалан', 'М.Немойтин', 'М.Нефедова', 'М.Нефедова', 'М.Новикова', 'М.Павлов', 'М.Пажек', 'М.Пандурски', 'М.Панфилов', 'М.Пелисиоли', 'М.Пийонель', 'М.Пилье', 'М.Плура', 'М.Полинский', 'М.Пухоль', 'М.Расходников', 'М.Рафаил', 'М.Риахи', 'М.Ричмонд', 'М.Ромм', 'М.Ромм', 'М.Рык', 'М.Рязанова', 'М.Саакян', 'М.Свешников', 'М.Свешников', 'М.Сегал', 'М.Сергеева', 'М.Ситер', 'М.Смирнов', 'М.Снежная', 'М.Солошенко', 'М.Солошенко', 'М.Соснина', 'М.Сулейманов', 'М.Сулейманов  и др.', 'М.Сулейманова', 'М.Сулейманова и др.', 'М.Туманишвили', 'М.Тумова', 'М.Угаров', 'М.Ульянов', 'М.Фадеев', 'М.Флипс', 'М.Фомина', 'М.Фонтан-РОсси', 'М.Хеске', 'М.Хлебородов', 'М.Ховенко', 'М.Хуциев', 'М.Черных', 'М.Чиаурели', 'М.Шалаева', 'М.Швейцер', 'М.Шевчук', 'М.Шольте', 'М.Эмануэлли', 'М.Энгламайр', 'М.Юсупов', 'М.Якубсон', 'М.Янчо', 'Ма Юань', 'Мабрук Эль Мекри', 'Магнус Мартенс', 'Маджид Маджиди', 'Мадонна', 'Мадс Маттисен', 'Майвенн Ле Беско', 'Майк Ган', 'Майк Гюнтер', 'Майк Кункель', 'Майк Леонард', 'Майк МакКой', 'Майк Митчел', 'Майк Митчелл', 'Майк Митчелл', 'Майк Ньюэлл', 'Майк Слии', 'Майк Термайер', 'Майк Уайт', 'Майк Фиггис', 'Майк Флэнеган', 'Майк ван Дим', 'Майкл Алмерейда', 'Майкл Аптед', 'Майкл Бартлетт', 'Майкл Бэй', 'Майкл Винник', 'Майкл Гантон', 'Майкл Гетц', 'Майкл Грандадж', 'Майкл Грейси', 'Майкл Гринспен', \"Майкл Д'Иса-Хоган\", 'Майкл Дауз', 'Майкл Даус', 'Майкл Дейвис', 'Майкл Дж.Бассетт', 'Майкл Дж.Сарна', 'Майкл Ди Джакомо', 'Майкл Догерти', 'Майкл Дэвид Пэйт', 'Майкл Кейтон-Джоунс', 'Майкл Крайтон', 'Майкл Кристофер', 'Майкл Куэста', 'Майкл Кэтлман', 'Майкл Кэтон-Джонс', 'Майкл Леннокс', 'Майкл Ли', 'Майкл Майер', 'Майкл Манн', 'Майкл Мелски', 'Майкл Митчелл', 'Майкл Мохан', 'Майкл Мур', 'Майкл Мэдсен', 'Майкл Мэнн', 'Майкл Нарлок', 'Майкл Ноер', 'Майкл Ньюэлл', 'Майкл Патрик Кинг', 'Майкл Пирс', 'Майкл Редфорд', 'Майкл С.Ойеда', 'Майкл Сакси', 'Майкл Спириг', 'Майкл Талли', 'Майкл Тиддес', 'Майкл Турмейр', 'Майкл Уинник', 'Майкл Уинтерботтом', 'Майкл Ури', 'Майкл Фиггис', 'Майкл Хоффман', 'Майкл Хэгнер', 'Майкл Цимбалист', 'Майкл Чавес', 'Майкл Чимино', 'Майкл Шварц', 'Майкл Энглер', 'Майкл Эптед', 'Майкл Эптид', 'Майкл и Питер Спайриг', 'Майя Кениг', 'Мак Картер', 'МакДжи', 'Макато Синкай', 'Макинов', 'Макото Синкай', 'Макс Джива', 'Макс Джозеф', 'Макс Кроу', 'Макс Ланг', 'Макс Мингелла', 'Макс Николс', 'Макс Сирый', 'Максим Арбугаев', 'Максим Говар', 'Максим Свешников', 'Малгожата Шумовска', 'Малик Бейдер', 'Малкольм Д.Ли', 'Малькольм Венвилль', 'Мамора Хосода', 'Мамору Хосода', 'Мани Хагиги', 'Маниш Джа', 'Маниш Шарма', 'Манодж Найт Шьямалан', 'Маноло Мунгуйя', 'Манс Бертас', 'Манс Марлинд', 'Манук Депоян', 'Мануэль Сисилия', 'Мануэль Х.Гарсиа', 'Мануэль ди Оливейра', 'Марен Аде', 'Маржан Сатрапи', 'Маржан Сатрапи', 'Мари Мадинье', 'Мари Мондж', 'Мари Ноэль', 'Мари Окада', 'Мари Перену', 'Мари-Кастиль Менсьон-Шаар', 'Мариам Клеман', 'Марианна Ченильо', 'Марианна Яровская', 'Мариано Кон', 'Мариано Кон', 'Мариека Уолш', 'Марике Блау', 'Марилу Берри', 'Марин Атлан', 'Марина Кунарова', 'Марина Сересески', 'Марина де Ван', 'Марио Ван Пиблз', 'Марио Мартоне', 'Марион Верну', 'Мария Лойтер', 'Мария Саакян', 'Мария Солее Тоньяцци', 'Мария Фридман', 'Мария де Медейрос', 'Марк А.З. Диппе', 'Марк Аткинс', 'Марк Бертон', 'Марк Веркерк', 'Марк Гилл', 'Марк Дакаскос', 'Марк Дэвис', 'Марк Дюплис', 'Марк Каллен', 'Марк Лампрелл', 'Марк Лоренс', 'Марк Лоуренс', 'Марк Льюис', 'Марк Майлод', 'Марк Манн', 'Марк Махон', 'Марк Невелдайн', 'Марк Никелсбург', 'Марк Осборн', 'Марк Пеллингтон', 'Марк Пеллингтон', 'Марк Романек', 'Марк Росман', 'Марк Ротемунд', 'Марк С. Уотерс', 'Марк С.Уотерс', 'Марк Силверштейн', 'Марк Стивен Джонсон', 'Марк Тондерай', 'Марк Уильямс', 'Марк Уотерс', 'Марк Уэбб', 'Марк Форстер', 'Марк Циммерманн', 'Марк Эндрюс', 'Марко Артуро Марелли', 'Марко Беллоккио', 'Марко Беллоккьо', 'Марко Бечис', 'Марко Вебер', 'Марко Кройцпайнтнер', 'Марко Пьянджиани', 'Марко Раффаини', 'Маркос Карневале', 'Маркус Вайнер', 'Маркус Вельтер', 'Маркус Винер', 'Маркус Винер', 'Маркус Голлер', 'Маркус Грейвз', 'Маркус Данстен', 'Маркус Дэнстон', 'Маркус Лехмусусс', 'Маркус Ниспел', 'Маркус Хаман', 'Марсал Форес', 'Марсель Сармиенто', 'Марта Герджи-Кесслер', 'Марта Холмс', 'Мартен Бурбулон', 'Мартен Прово', 'Мартин Брест', 'Мартин Брукс', 'Мартин Бурбулон', 'Мартин Валенте', 'Мартин Гиги', 'Мартин Гуггисберг', 'Мартин Кемпбелл', 'Мартин Клэпп', 'Мартин Кулховен', 'Мартин Кэмпбелл', 'Мартин Кэмпбэл', 'Мартин Ле Галль', 'Мартин МакДона', 'Мартин Миэ-Ренар', 'Мартин Оуэн', 'Мартин Скорсезе', 'Мартин Уильямс', 'Мартин Шрейер', 'Марчелло Ди Ното', 'Масанобу Хираока', 'Масахико Мурата', 'Масаюки', 'Масаюки', 'Масаюки Кодзима', 'Масаюки Отиай', 'Массимо Гаудиозо', 'Мат Кирби', 'Мат Уайткросс', 'Мати Диоп', 'Матиас Хене', 'Маттео Гарроне', 'Маттиас Олоф Эйх', 'Маттис ван Хейникен младший', 'Маттье Донк', 'Матье Амальрик', 'Матье Кассовиц', 'Матье Рэтхи', 'Матье Тури', 'Маурисио Де ла Орта', 'Махиро Маэда', 'Мачией Лиговски', 'Маша Халберстад', 'Мел Гибсон', 'Мелани Лоран', 'Мелисса Баттс', 'Месси Таджедин', 'Метин Хусейн', 'Миа Васиковска', 'Мигель А.Феррер', 'Мигель Анхель Вивас', 'Мигель Анхель Ламата', 'Мигель Артета', 'Мигель Гомеш', 'Мигель Ларрайа Валенсуела', 'Мигель Мартинез-Хоффре', 'Мигель Сапочник', 'Мик ван Дием', 'Мика Каурисмяки', 'Микаэл Саломон', 'Микаэл Хальфстрем', 'Микаэль Саломон', 'Микаэль Хальфстрем', 'Микаэль Херс', 'Микаэль Хофстрем', 'Микеланджело Фраммартино', 'Микеле Малли', 'Микеле Плачидо', 'Мики Плиз', 'Микинори Сакакибара', 'Миккель Бранде Сандемузе', 'Миккель Бренне Сандемусе', 'Миккель Мунк-Фальс', 'Миккель Нергор', 'Миклош Фелвидеки', 'Мила Онг-Твин', 'Милад Алами', 'Милорад Крстич', 'Милчо Манчевски', 'Мими Ледер', 'Минью Ли', 'Мира Наир', 'Миранда Джулай', 'Мираэ Мицуэ', 'Мирослав Слабошпицкий', 'Митали Гошал', 'Митци Пейроне', 'Митчелл Алтери', 'Михаль Брезис', 'Михаэль Дюдок де Вит', 'Михаэль Иен', 'Михаэль Ноер', 'Михаэль Р. Роскам', 'Михаэль Р.Роскам', 'Михаэль Ханеке', 'Мишель Гондри', 'Мишель Дэннер', 'Мишель Ларок', 'Мишель Леклерк', 'Мишель Таверна', 'Мишель Франко', 'Мишель Хазанавичус', 'Момчило Мрдакович', 'Мона Ашаш', 'Моника Дуго', 'Монс Монссон', 'Монс Морлинд', 'Морган Буш', 'Морган Кранц', 'Морган Невилл', 'Морган О.Нил', 'Морган Спарлок', 'Морис Бартелеми', 'Мортен Тильдум', 'Мохсен Махмальбаф', 'Мукунда Майкл Дьюил', 'Мумин Шакиров', 'Мэгги Кэри', 'Мэй аль-Тукхи', 'Мэнди Флетчер', 'Мэнс Мэрлинд', 'Мэрайке Блау', 'Мэри Хэррон', 'Мэрлин Агрело', 'Мэсси Таджедин', 'Мэт Аскем', 'Мэтт Аселтон', 'Мэтт Беттинелли-Ольпин', 'Мэтт Драммонд', 'Мэтт Орландо', 'Мэтт Пидмонт', 'Мэтт Ривз', 'Мэтт Росс', 'Мэтт Тирнаур', 'Мэтт Уэллс', 'Мэтт Хейнеман', 'Мэтт Чековски', 'Мэттью Барни', 'Мэттью Беттинелли', 'Мэттью Вон', 'Мэттью Диас', 'Мэттью М.Росс', 'Мэттью Миле', 'Мэттью Уорчас', 'Мэттью Эйкерс', 'Мэтью Аувро', 'Мэтью Вон', 'Мэтью Каллен', 'Мэтью Маскери', 'Мэтью Чэпмен', 'Н.Антонов', 'Н.Ардашников', 'Н.Арутюнова (псевдоним Н.Семашкевич)', 'Н.Барабаш', 'Н.Батраева', 'Н.Беляускене', 'Н.Беляускене', 'Н.Березовая', 'Н.Березовая', 'Н.Бисярина', 'Н.Бондарчук', 'Н.Брусенцев', 'Н.Бучнева', 'Н.Ведмицкая', 'Н.Венлок', 'Н.Веревкина', 'Н.Герман', 'Н.Гребенкина', 'Н.Грофпель', 'Н.Губенко', 'Н.Джорджадзе', 'Н.Досталь', 'Н.Досталь', 'Н.Дрейден', 'Н.Евстифеев', 'Н.Иванова', 'Н.Искандарова', 'Н.Карачкова', 'Н.Кеппенс', 'Н.Климчук', 'Н.Кудряшов', 'Н.Кудряшова', 'Н.Кудряшова', 'Н.Кузнецова', 'Н.Лебедев', 'Н.Лопато', 'Н.Лопато', 'Н.Лопато (псевдоним Нилова)', 'Н.Лурм', 'Н.Макарова', 'Н.Малыгина', 'Н.Мальгина', 'Н.Маханько', 'Н.Меркулова', 'Н.Меркулова', 'Н.Мещанинова', 'Н.Микрюкова', 'Н.Мирзоян', 'Н.Михалков', 'Н.Михалкова', 'Н.Михалкова-Кончаловская', 'Н.Михалкова-Кончаловская', 'Н.Москаленко', 'Н.Мубинов', 'Н.Назарова', 'Н.Назарова', 'Н.Наумова', 'Н.Орлов', 'Н.Очигава', 'Н.Першина', 'Н.Пиотровский', 'Н.Попова', 'Н.Раужин', 'Н.Репина', 'Н.Репина и др.', 'Н.Рысс', 'Н.Саврас', 'Н.Сайфуллаева', 'Н.Сайфуллаева', 'Н.Сергеева (псевдоним Н.Берег)', 'Н.Скуйбин', 'Н.Соколов', 'Н.Степанова при участии С.Иванова', 'Н.Сутырин', 'Н.Тайберг', 'Н.Тамаров', 'Н.Тамаров', 'Н.Трахтенберг', 'Н.Трахтенберг', 'Н.Углицких', 'Н.Урвачева', 'Н.Федченко', 'Н.Филан', 'Н.Фомин', 'Н.Форнер', 'Н.Фролова (псевдоним Камалов Ленар)', 'Н.Харина', 'Н.Хартанто', 'Н.Хлопецкая', 'Н.Хомерики', 'Н.Ченышева', 'Н.Чернышева', 'Н.Шмелев', 'Н.Щербаков', 'Н.Эген', 'Навот Папушадо', 'Надав Лапид', 'Надав Ширман', 'Надин Лабаки', 'Найджел Коул', 'Найл Джонсон', 'Найт Шьямалан', 'Нанетт Бурстайн', 'Нанни Моретти', 'Наоеси Сиотани', 'Нат Йосватананонт', 'Натали Галазка', 'Натали Совегран', 'Наталия Матео', 'Наталья Березовая', 'Наталья Березовская', 'Наталья Малыгина', 'Наталья Мальгина', 'Натан Грино', 'Натан Миллер', 'Начо Вигалондо', 'Начо Вигалондо', 'Наюки Томомацу', 'Неаса Хардиман', 'Нед Бенсон', 'Неи Базаире', 'Нейтан Зеллнер', 'Нельсон Шин', 'Нестор Саенц Кампос', 'Ниа Вардалос', 'Ник Брумфилд', 'Ник Кассаветис', 'Ник Мерфи', 'Ник Мур', 'Ник Ормерод', 'Ник Парк', 'Ник Парк', 'Ник Пауэлл', 'Ник Пойнц', 'Ник Рид', 'Ник Саймон', 'Ник Сандов', 'Ник Стрингер', 'Ник Фентон', 'Ник Харран', 'Ник Хэмм', 'Ники Каро', 'Николаз Лопез', 'Николай Арсель', 'Николай Ленхофф', 'Николай Фьюлси', 'Николас Бенаму', 'Николас Ванье', 'Николас Виндинг Рефн', 'Николас Джареки', 'Николас Лопес', 'Николас МакКарти', 'Николас МакКарти', 'Николас Менар', 'Николас Песке', 'Николас Столлер', 'Николаус Лейтнер', 'Николаус Ленхофф', 'Николь Гарсия', 'Николь Кэссел', 'Николя Бедос', 'Николя Ванье', 'Николя Кюш', 'Николя Милетич', 'Никхил Адвани', 'Нил Армфилд', 'Нил Бергер', 'Нил Бломкамп', 'Нил Бреннан', 'Нил Джордан', 'Нил Ла Бьют', 'Нил МакГрегор', 'Нил Маршалл', 'Нил Найтингейл', 'Нильс Арден Оплев', 'Нильс Болбринкер', 'Нильс Орден Оплев', 'Нильс Хедигер', 'Нима Нуризаде', 'Нимрод Антал', 'Нина Велс', 'Нина Вельс', 'Ниниан Доф', 'Нино Кристен', 'Ноа Баумбах', 'Ноам Мурро', 'Нора Эфрон', 'Норберт Хайткер', 'Норман Тамкиви', 'Ноэль Кларк', 'Ноэль Клири', 'Ноэль Клири и др.', 'Ноэми Саглио', 'Нурбек Эген', 'Нури Бильге Джейлан', 'Нэнси Майерс', 'Нэнси Мейерс', 'Нэнси Севард', 'Нэнси Севард', 'Нэш Эдгертон', 'О Семенова', 'О. Семенова', 'О.Аверкиева', 'О.Агейчев', 'О.Алиев', 'О.Арлаускайте (псевд.О.Арлаускас)', 'О.Арлаускас', 'О.Арнольд', 'О.Асадулин', 'О.Асадулин', 'О.Барковская', 'О.Белоусова', 'О.Беляева', 'О.Бондарев', 'О.Бондарев при участии В.Чеботарева', 'О.Бородина', 'О.Броневицкая', 'О.Бычкова', 'О.Бычкова', 'О.Высоцкая', 'О.Галин', 'О.Головина', 'О.Гончаренко', 'О.Городецкая', 'О.Денисов', 'О.Джураев', 'О.Дибцева', 'О.Дроздова', 'О.Зуева', 'О.И. Салонен', 'О.Каптур', 'О.Карас', 'О.Коронный', 'О.Кузовков', 'О.Кузовков', 'О.Ланд', 'О.Ларин', 'О.Лещинер', 'О.Лопато', 'О.Лопато-Джагацпанян', 'О.Массарыгин', 'О.Михеева', 'О.Морозова', 'О.Музалева и др.', 'О.Мусин', 'О.Нарлыев', 'О.Николаевский', 'О.Осипов', 'О.Парн', 'О.Погодин', 'О.Попова', 'О.Прендергаст', 'О.Ремизов', 'О.Семенова', 'О.Сенцов', 'О.Сивакова-Васина', 'О.Смольников', 'О.Степанцова', 'О.Степченко', 'О.Столповская', 'О.Субботина', 'О.Товма', 'О.Трофим', 'О.Ужинов', 'О.Ужинов', 'О.Ужинов и др.', 'О.Уильямс', 'О.Урушев', 'О.Фесенко', 'О.Фесенко', 'О.Филипенко', 'О.Фомин', 'О.Фомин', 'О.Харина', 'О.Холодова', 'О.Хружков', 'О.Червоняк', 'О.Чернова', 'О.Шепляков', 'О.Штром', 'Обри Паулл', 'Одед Биннун', 'Одри Дана', 'Окиура Хироюки', 'Оксид Пан', 'Оксид Панг', 'Ол Паркер', 'Ола Симмонсон', 'Олатунд Осунсанми', 'Олатунда Осунсанми', 'Оле Кристиан Мадсен', 'Олег Маламуж', 'Оливер Барру', 'Оливер Дэйли', 'Оливер Жан-Мари', 'Оливер Паркер', 'Оливер Стоун', 'Оливер Хиршбигель', 'Оливер Хорлайт', 'Оливер Цигенбальг', 'Оливия Кастербринг и др.', 'Оливия Неергаарлд-Холм', 'Оливье Ассайас', 'Оливье Ассаяс', 'Оливье Барру', 'Оливье Бару', 'Оливье Даан', 'Оливье Маршал', 'Оливье Маршаль', 'Оливье Массе-Депасс', 'Оливье Мегатон', 'Оливье Мейру', 'Оливье Моршаль', 'Оливье Накаш', 'Оливье Накаша', 'Ольга Львова', 'Онир', 'Орен Муверман', 'Орен Пели', 'Ориол Паоло', 'Оскар Сантос Гомес', 'Оскар Шарп', 'Остин Старк', 'Отар Иоселиани', 'Отто Батхерст', 'Оускар Йоунассон', 'Оуэн Харрис', 'Оуэн Эгертон', 'П. \"Хики\" Стручков', 'П.-Б.Марти', 'П.Анделл', 'П.Андреева', 'П.Антохин', 'П.Баеза', 'П.Бар', 'П.Бардин', 'П.Буслов', 'П.Воллрат', 'П.Гладилин', 'П.Джеремей', 'П.Дроздов', 'П.Духовской', 'П.Емелин', 'П.Жобер', 'П.Костомаров', 'П.Кутукина', 'П.Левченко', 'П.Ливолси', 'П.Лунгин', 'П.Масларов', 'П.Медведев', 'П.Минченок и др.', 'П.Мирзоев', 'П.Москвин', 'П.Олевский', 'П.Ольденбург', 'П.Осборн', 'П.Парн', 'П.Пархоменко', 'П.Пик', 'П.Руминов', 'П.Руминов', 'П.Санаев', 'П.Селин', 'П.Сеплярский', 'П.Сергацков', 'П.Сидоров', 'П.Скворцов', 'П.Смирнов', 'П.Солдатенков', 'П.Тодоровский', 'П.Фаттахутдинов', 'П.Фетисов', 'П.Фоменко', 'П.Хвалеев', 'П.Ходнев', 'П.Худяков', 'П.Чухрай', 'П.Эмерсон', 'Пабло Бергер', 'Пабло Ларкуэн', 'Пабло Ларраин', 'Пабло Ларрайн', 'Пабло Рохас Кастильо', 'Пабло Траперо', 'Пабло Троперо', 'Пабло Фендрик', 'Павел Павликовский', 'Пак Чжун Су', 'Пако Кабесас', 'Пако Каверо', 'Пако Леон', 'Пако Плаза', 'Пако Пласа', 'Памела Романовски', 'Панос Косматос', 'Паоло Вирдзи', 'Паоло Дженовезе', 'Паоло Соррентино', 'Паоло Тавиани', 'Парк Дже Ин', 'Паскаль Арнольд', 'Паскаль Бурдиак', 'Паскаль Бурдьо', 'Паскаль Вонг', 'Паскаль Ложье', 'Паскаль Пузаду', 'Паскаль Сид', 'Паскаль Шомей', 'Паскаль Шомель', 'Паскаль Эрольд', 'Паскаль-Алекс Винсент', 'Патрик Брайс', 'Патрик Имбер', 'Патрик Кассир', 'Патрик Люнг', 'Патрик Люссье', 'Патрик Милле', 'Патрик Осборн', 'Патрик Ротман', 'Патрик Сиверсен', 'Патрик Форсберг', 'Патрик Хорват', 'Патрик Хьюз', 'Патрик Эклунд', 'Патрис Леконт', 'Патрис Шеро', 'Патрисия Каас', 'Патрисия Уитли', 'Патрисия Фонт', 'Патриша Уитли', 'Патчанон Тумджира', 'Пау Балаге', 'Паула Ван Дер Уст', 'Пегги Холмс', 'Пеги Холмс', 'Педро Альмодовар', 'Педро Морелли', 'Пейтон Рид', 'Пер Флю', 'Пер Ханефьорд', 'Пернилла Фишер Кристенсен', 'Перри Лэнг', 'Петер Бросенс', 'Петер Зер', 'Петер Несс', 'Петер Торварт', 'Петер Флинт', 'Петер Штайн', 'Петра Жокса', 'Петра Лючков', 'Петра Хефер', 'Петрос Сильвестрос', 'Пипилотти Рист', 'Пит Вейрич', 'Пит Доктер', 'Пит Трэвис', 'Пит де Риккер', 'Питер Бауман', 'Питер Берг', 'Питер Биллингсли', 'Питер Богданович', 'Питер Веббер', 'Питер Веллингтон', 'Питер Гринуэй', 'Питер Джексон', 'Питер Додд', 'Питер Доктер', 'Питер Дьюкс', 'Питер Ландесман', 'Питер Лепениотис', 'Питер Лепениотис', 'Питер Лорд', 'Питер Луизи', 'Питер Морс', 'Питер Муллан', 'Питер Рамси', 'Питер Рэмси', 'Питер Сигал', 'Питер Соллетт', 'Питер Сон', 'Питер Спириг', 'Питер Стрикленд', 'Питер Стриклэнд', 'Питер Темплмен', 'Питер Тимм', 'Питер Уир', 'Питер Фаррелли', 'Питер Фаррелли', 'Питер Футт', 'Питер Хайамс', 'Питер Хайк', 'Питер Хаймс', 'Питер Хатчингс', 'Питер Хеджес', 'Питер Хоуитт', 'Питер Челсом', 'Питер Челсом', 'Питер Энтони', 'Питер Эттедги', 'Питоф', 'Пия Хелленталь', 'Пол Андерсон', 'Пол Браун', 'Пол Вайц', 'Пол Верховен', 'Пол Вонг', 'Пол Гринграсс', 'Пол Грингросс', 'Пол Дагдейл', 'Пол Дано', 'Пол Джей Болджер', 'Пол Дугдейл', 'Пол Кампф', 'Пол Карри', 'Пол Кинг', 'Пол МакГиган', 'Пол Плобергер', 'Пол Сен', 'Пол Солет', 'Пол Тиббит', 'Пол Том Андерсон', 'Пол Томас Андерсон', 'Пол У.С. Андерсон', 'Пол У.С.Андерсон', 'Пол Уиланд', 'Пол Фейг', 'Пол Фиг', 'Пол Хаггис', 'Пол Хайет', 'Пол Хантер', 'Пол Шаммасян', 'Пол Шредер', 'Поль Кабон', 'Пон Чжун-хо', 'Понгса Корнсри', 'Прапас Чолсаранонт', 'Присцилла Камерон', 'Пупи Авати', 'Путипонг Сайсрикаев', 'Пьер Алли', 'Пьер Амстудс Рох', 'Пьер Годо', 'Пьер Греко', 'Пьер Зандрович', 'Пьер Коффан', 'Пьер Коффин', 'Пьер Луиджи Пицци', 'Пьер Морель', 'Пьер Сальвадори', 'Пьер Соффин', 'Пьер Шоллер', 'Пьер-Франсуа Мартен-Лаваль', 'Пьетро Паролин', 'Пэдди Бретнэк', 'Пэдди Консидайн', 'Пэн Фэй', \"Пэт О'Коннор\", 'Пэт Холден', 'Пэтти Дженкинс', 'Р. Кериси', 'Р.Артемьев', 'Р.Артемьев (псев.С.Васильев)', 'Р.Асхаев', 'Р.Базерк', 'Р.Балаян', 'Р.Быков', 'Р.Быков', 'Р.Валлей', 'Р.Верещак', 'Р.Верещак', 'Р.Верещак и др.', 'Р.Вивье', 'Р.Волобуев', 'Р.Газизов', 'Р.Газизов', 'Р.Ганган', 'Р.Гарифуллин', 'Р.Гигинеишвили', 'Р.Гигинеишвили', 'Р.Гиматдинова', 'Р.Глурджидзе', 'Р.Д. Браунштейн', 'Р.Давлетьяров', 'Р.Джей.Катлер', 'Р.Еникеев', 'Р.Ершов', 'Р.Жигалов', 'Р.Ильясов', 'Р.Исмайлов', 'Р.Карапетян', 'Р.Каргаполов', 'Р.Каримов', 'Р.Кубаева', 'Р.Кузьмина', 'Р.Лиментани', 'Р.Литвинова', 'Р.Литвинова', 'Р.Люкер', 'Р.Магомадов', 'Р.Мосафир', 'Р.Мухомеджан', 'Р.Нахапетов', 'Р.Непомнящий', 'Р.Нестеренко', 'Р.Нугманов', 'Р.Орко', 'Р.Паушу', 'Р.Прыгунов', 'Р.Прыгунов', 'Р.Рашитов', 'Р.Рашитов', 'Р.Русенс', 'Р.Сабиров', 'Р.Салахутдинов', 'Р.Саульский', 'Р.Сафин', 'Р.Серри', 'Р.Синкевич', 'Р.Сорокин', 'Р.Тернер', 'Р.Тирион', 'Р.Тьюннард', 'Р.Фазлиев', 'Р.Фрунтов', 'Р.Фрунтов', 'Р.Хамдамов', 'Р.Хачмамук', 'Р.Хрущ', 'Р.Чумаков', 'Р.Шаляпин', 'Р.Шарафутдинов', 'Р.Шульман', 'Р.Янковский', 'Р.Ярославцев', 'Раджа Госнелл', 'Раджкумар Хирани', 'Раду Михайлеану', 'Райан Белгхарт', 'Райан Гослинг', 'Райан Джонсон', 'Райан Куглер', 'Райан Мерфи', 'Райан Флек', 'Райан Эслингер', 'Райнер Хольцемер', 'Райнхард Клоосс', 'Ракеш Омпракаш Мехра', 'Ральф Зиман', 'Ральф Файнс', 'Рамаа Мосли', 'Раман Хюи', 'Рамез Силян', 'Рамин Серри', 'Рас Леморо', 'Расмус А.Сивертсен', 'Рассел Кроу', 'Рассел Малкэй', 'Рассел Малкэхи', 'Рауль Гарсиа', 'Рауль Руис', 'Рафаэль Валь', 'Рафаэль Рибас', 'Рафаэль Фридман', 'Рафик Сарджанян', 'Рашид Бушареб', 'Ребекка Злотовски', 'Ребекка Золотовски', 'Ребекка Томас', 'Реджинальд Харкема', 'Режи Ройнсар', 'Режис Варнье', 'Реза Мемари', 'Реим Керичи', 'Рей Тинтори', 'Рейнир Лингдаль', 'Рейнхард Клоос', 'Рейчел Гриффитс', 'Рейчел Хардинг', 'Рейчел Хиронс', 'Реми Безансон', 'Реми Каяла', 'Реми Шайе', 'Рене Фере', 'Ренни Харлин', 'Рета Накано', 'Рето Салимбени', 'Ри Руссо-Янг', 'Риад Саттуф', 'Ридли Скотт', 'Рик Барнс', 'Рик Роман Во', 'Рикардо Арнаиз', 'Рикардо Рамон', 'Риккардо Милани', 'Ринат Газизов', 'Ринат Газизов', 'Рихард Клаус', 'Рич Мур', 'Рич Мур', 'Рич Рэгсдэйл', 'Ричард Айоади', 'Ричард Айоэйд', 'Ричард Доннер', 'Ричард Дэйл', 'Ричард Келли', 'Ричард Кертис', 'Ричард Ла Гравенес', 'Ричард ЛаГравенезе', 'Ричард ЛаГравенес', 'Ричард Линклейтер', 'Ричард Лонкрейн', 'Ричард Льюис', 'Ричард Манс', 'Ричард Финн', 'Ричард Шепард', 'Ричард Эйр', 'РичардЭйр', 'Ришар Бери', 'Роар Утхауг', 'Роар Ухтауг', 'Роб Гринберг', 'Роб Зомби', 'Роб Коэн', 'Роб Леттерман', 'Роб Маршалл', 'Роб Минкофф', 'Роб Райнер', 'Роб Ситч', 'Роб Хейдон', 'Роб Эпштейн', 'Робб Каллен', 'Роберт Б.Уайде', 'Роберт Будро', 'Роберт Ганнэвей', 'Роберт Гэннавэй', 'Роберт Дорнхельм', 'Роберт Земекис', 'Роберт Карлайл', 'Роберт Карсен', 'Роберт Кондо', 'Роберт Куртцман', 'Роберт Легато', 'Роберт Ленс', 'Роберт Лукетич', 'Роберт Олтман', 'Роберт Пульчини', 'Роберт Редфорд', 'Роберт Родригес', 'Роберт Родригес', 'Роберт Уилсон', 'Роберт Уокер', 'Роберт Хит', 'Роберт Швентке', 'Роберт Эггерс', 'Роберт Энрико', 'Роберто Снейдер', 'Робин Верет', 'Робин Кларк', 'Робин Обер', 'Робин Сип', 'Робин Суикорд', 'Род Лури', 'Роджер Аллерс', 'Роджер Дональдсон', 'Роджер Камб', 'Роджер Камбл', 'Роджер Мичелл', 'Роджер Мишелл', 'Роджер Оллерс', 'Роджер Росс Уильямс', 'Роджер Рот', 'Роджер Споттисвуд', 'Родни Ротман', 'Родни Эшер', 'Родольфо Рива Паласио Алатристе', 'Родриго Гарсия', 'Родриго Гарсия и др.', 'Родриго Кортес', 'Родриго Ортузар Линч', 'Розелин Бош', 'Рой Андерссон', 'Роксан Бенджамин', 'Роксана Бенжамин', 'Ролан Быков', 'Роланд Джоффе', 'Роланд Жоффе', 'Роланд Эммерих', 'Роландо Равелло', 'Роман Козич', 'Роман Коппола', 'Роман Мушегян', 'Роман Полански', 'Ромейн Леви', 'Ромен Гаврас', 'Рон Клементс', 'Рон Скальпелло', 'Рон Фрике', 'Рон Ховард', 'Рон Шелтон', 'Рон Юань', 'Роналдо Вуд Кармен', 'Ронан Чапалайн и Паскаль Вьонг; Фрэнсис Верзеймер; Джези Кулар и Даниэль Кюнт; Дидье Гросджин', 'Ронан Чапалэйн', 'Ронни Томпсон', 'Ронни Ю', 'Росс Венокур', 'Росс Кац', 'Росс МакГиббон', 'Росс МакГибон', 'Россон Маршалл Тербер', 'Росто', 'Рот Стромберг', 'Роусон Маршалл Тербер', 'Роуэн Жоффе', 'Роуэн Этейл', 'Рохер Гуаль', 'Рошди Зем', 'Роэль Рейн', 'Рубен Остлунд', 'Рубен Флейшер', 'Рубен Фляйшер', 'Рубен Эстлунд', 'Рудольф ван ден Берг', 'Руне и Эсбен Фискер', 'Руперт Виатт', 'Руперт Гулд', 'Руперт Сандерс', 'Руперт Уайатт', 'Русудан Чкония', 'Руфус Норрис', 'Рэдио Сайленс', 'Рэй Квинт', 'Рэй Манзарек', 'Рэйджа Госнелл', 'Рэймонд Де Фелитта', 'Рэйф Файнс', 'Рэндолл Коул', 'Рюхэй Китамура', 'С Чекалов', 'С. Дж. Кларксон', 'С. Крэйг Залер', 'С.Абрахамс', 'С.Азази', 'С.Айнутдинов', 'С.Аксенов', 'С.Алексеев', 'С.Алякимова', 'С.Амбросова', 'С.Андреасян', 'С.Андреасян', 'С.Андрианова', 'С.Антонов', 'С.Антонов', 'С.Арланов', 'С.Баскова', 'С.Бодров', 'С.Бодров-старший', 'С.Бондарчук', 'С.Борчуков', 'С.Бурнашев', 'С.Буров', 'С.Быченко', 'С.Васильев', 'С.Винокуров', 'С.Воробьев', 'С.Воронежский', 'С.Газаров', 'С.Ганночка', 'С.Гейнсборо', 'С.Гинзбург', 'С.Глезин', 'С.Говорухин', 'С.Гордеев', 'С.Горло', 'С.Горя', 'С.Григорьева', 'С.Грознов', 'С.Гуров', 'С.Данилина', 'С.Дара', 'С.Дахин', 'С.Дворцевой', 'С.Дебижев', 'С.Дружинина', 'С.Егерев', 'С.Ермоленко', 'С.Жигунов', 'С.Злотэску', 'С.Зморк', 'С.Иванов', 'С.Ивекович', 'С.Кальварский', 'С.Карандашов', 'С.Карпунина', 'С.Кирсанова', 'С.Колосов', 'С.Комаров', 'С.Комаров', 'С.Королева', 'С.Кравцова', 'С.Кравцова', 'С.Крайнев', 'С.Крэйг Залер', 'С.Крючков', 'С.Кулиш', 'С.Курченко', 'С.Ландо', 'С.Ливнев', 'С.Линцов', 'С.Линцов', 'С.Лобан', 'С.Лыгденов', 'С.Лэйр', 'С.Майоров', 'С.Макнейр', 'С.Матросова', 'С.Маховиков', 'С.Меринов', 'С.Милькина', 'С.Миляев', 'С.Мирошниченко', 'С.Митин', 'С.Мкртчян', 'С.Мокрицкий', 'С.Мокрицкий', 'С.Морозов', 'С.Морозов и др.', 'С.Назиров', 'С.Насенкова', 'С.Никоненко', 'С.Ольденбург-Свинцов', 'С.Осипьян', 'С.Осипьян', 'С.Охотин', 'С.Патэль', 'С.Пикалов', 'С.Поварницын', 'С.Подгаевский', 'С.Подивилов', 'С.Попов', 'С.Потапов', 'С.Потапов', 'С.Проскурина', 'С.Пускепалис', 'С.Пучинян', 'С.Раздорский', 'С.Рамз', 'С.Роден', 'С.Родкевич', 'С.Ромашкин', 'С.Росс', 'С.Ростоцкий', 'С.Рубенчик', 'С.Рутлин', 'С.С. Раджамули', 'С.Самошина', 'С.Самсонов', 'С.Саркисов', 'С.Сафонова', 'С.Сенцов', 'С.Серегин', 'С.Сильвертон', 'С.Снежкин', 'С.Снежкин', 'С.Соколов', 'С.Соловьев', 'С.Струсовский', 'С.Сунгатуллин', 'С.Сури', 'С.Тарасов', 'С.Ткачев', 'С.Токалов', 'С.Туманов', 'С.Тэйлор-Джонсон', 'С.Уваров', 'С.Урусевский', 'С.Ушаков', 'С.Ушаков', 'С.Филиппова', 'С.Хажироко', 'С.Харчевина (псевдоним - Светлана Крапивина)', 'С.Храмых', 'С.Чекалов', 'С.Черников', 'С.Черникова', 'С.Чэн', 'С.Шаглеева', 'С.Шанкар', 'С.Швыдкой', 'С.Щербин', 'С.Щербин', 'С.Щугарев', 'С.Эйзенштейн', 'С.Эйзенштейна', 'С.Юдаков', 'С.Юзеев', 'С.Юткевич', 'Са Ниа', 'Саверио Костанцо', 'Садык Шер-Нияз', 'Саймон Баррет', 'Саймон Верховен', 'Саймон Вест', 'Саймон Дж.Смит', 'Саймон Кертис', 'Саймон Кинберг', 'Саймон Стоун', 'Саймон Уинсер', 'Саймон Уэллс', 'Саймон Уэст', 'Саймон Хелберг', 'Саймон Эбауд', 'Сакет Чаудхари', 'Салли Поттер', 'Сальвадор Симо', 'Сальваторе Фикарра', 'Самир Реем', 'Самуэль Жуи', 'Самуэль Маоз', 'Сан Ли Джан', 'Сан-Су Хон', 'Санг-Хан Хо', 'Санди Патч', 'Сандра Неттельбек', 'Сантьяго Лимон', 'Сантьяго Табарнеро', 'Саньтяго Занно', 'Сара Адина', 'Сара Драйвер', 'Сара Коланджело', 'Сара Полли', 'Сара Смит', 'Сарик Андреасян', 'Сатоси Мики', 'Саулюс Друнга', 'Саша Джерваси', 'Свен Унтервальдт', 'Себастиан Гробер', 'Себастьян Джонс', 'Себастьян Лелио', 'Себастьян Марка', 'Себастьян Шиппер', 'Седрик Анже', 'Седрик Кан', 'Седрик Клапиш', 'Седрик Николя-Троян', 'Седрик Хименес', 'Селин Скьямма', 'Сельма Вилунен', 'Семен Туманов', 'Семенова О.А.', 'Сергей Бодров', 'Сергей Бондарчук', 'Сергей Гордеев', 'Сергей Лозница', 'Сергей Пикалов', 'Серджи Визкайно', 'Серджо Бассо', 'Серджо Делфино', 'Серджо Манфио', 'Серж Аведикян', 'Серж Бозон', 'Серикбол Утепбергенов', 'Серхио Х. Санчес', 'Сесар Алехандро Хаймес', 'Сесиль Телерман', 'Сеск Гай', 'Сет Гордон', 'Сет Гроссман', 'Сет МакФарлейн', 'Сет Роген', 'Си Чао', 'Сид Беннетт', 'Сиддхартх Ананд', 'Сиддхартх Малхотра', 'Сидней Поллак', 'Сидней Сибилиа', 'Сидни Люмет', 'Силвейн Уайт', 'Сильвен Уайт', 'Сильвен Шомэ', 'Сильвен Шоне', 'Сильвестр Сбилье', 'Сильвестр Сталлоне', 'Сильви Веред', 'Сильви Тестю', 'Сильвио Сольдини', 'Сильвэйн Уайт', 'Симен Альсвик', 'Симон Бартесаги', 'Симон Меза Сото', 'Симон Меса Сото', 'Симон Ферхоэвен', 'Симона Костова', 'Симоне Годано', 'Синг-Чунг Фу', 'Синдзи Арамаки', 'Синдзи Хигути', 'Синсуке Сато', 'Сирил Барбанкон', 'Сиско Васкес', 'Сиу-Тунг Чинг', 'Скандер Копти', 'Скатт Спир', 'Скот Армстронг', 'Скотт Бек', 'Скотт Во', 'Скотт Дерриксон', 'Скотт Калвер', 'Скотт Купер', 'Скотт МакГихи', 'Скотт Макфадьен', 'Скотт Манн', 'Скотт Мкр', 'Скотт Моужер', 'Скотт Мур', 'Скотт Спир', 'Скотт Стюарт', 'Скотт Уокер', 'Скотт Фрэнк', 'Скотт Хикс', 'Скотт Чарльз Стюарт', 'Скотт Чарльз Стюарт', 'Со Абади', 'Сон-Юн О', 'Соул Свиммер', 'Софи Бартез', 'Софи Дерасп', 'Софи Леллуш', 'Софи Такал', 'Софи Файнс', 'София Коппола', 'Спайк Джонз', 'Спайк Джонс', 'Спайк Ли', 'Спирос Статулопулос', 'Срджан Драгоевич', 'Стайлз Уайт', 'Стелла Меги', 'Стенли Туччи', 'Стефан Берман', 'Стефан Брауншвейг', 'Стефан Бризе', 'Стефан Зллиотт', 'Стефан Каз', 'Стефан Лангридж', 'Стефан Либерски', 'Стефан Лоу', 'Стефан Обье', 'Стефан Рибожад', 'Стефан Рузовицки', 'Стефан Фонкинос', 'Стефан Хенель', 'Стефан Херхейм', 'Стефан Шотт', 'Стефан Эллиотт', 'Стефани Ди джусто', 'Стефани Робели', 'Стефано Инчерти', 'Стефано Лоренци', 'Стефано Пода', 'Стефано Салвати', 'Стефано Соллима', 'Стефен Соммерс', 'Стив Баркер', 'Стив Бек', 'Стив Бенделэк', 'Стив Бокс', 'Стив Гебхардт', 'Стив Джонс', 'Стив Карр', 'Стив Карр', 'Стив Лихтаг', 'Стив Лотер', 'Стив МакКуин', 'Стив МакНиколас', 'Стив Мартино', 'Стив Одекерк', 'Стив Пинк', 'Стив Энтин', 'Стивен Брилл', 'Стивен Вутерлуд', 'Стивен Гейган', 'Стивен Гэган', 'Стивен Кантор', 'Стивен Кейпл-мл.', 'Стивен Кижак', 'Стивен Куэйл', 'Стивен Лангридж', 'Стивен Лоу', 'Стивен Лэнс', 'Стивен Найт', 'Стивен Номура Шибле', 'Стивен Пейдж', 'Стивен Р.Монро', 'Стивен С. ДеНайт', 'Стивен С. Миллер', 'Стивен С.Кампанелли', 'Стивен С.Миллер', 'Стивен Сильвер', 'Стивен Содерберг', 'Стивен Спилберг', 'Стивен Ст. Леджер', 'Стивен Фанг', 'Стивен Фрирз', 'Стивен Хопкинс', 'Стивен Чбоски', 'Стивен Шейнберг', 'Стивен Эллиот', 'Стобе Харью', 'Сторм Эшвуд', 'Стэйси Пассон', 'Стэйси Тайтл', 'Стэнли Кубрик', 'Стэнли Тун', 'Стэнли Юнг', 'Стюарт Бейард', 'Стюарт Битти', 'Стюарт Маундер', 'Стюарт Урбан', 'Стюарт Хендлер', 'Сузанна Фогель', 'Сун Юэфэн', 'Сьюзен Уолтер', 'Сэм Вуд', 'Сэм Гарбарски', 'Сэм Данн', 'Сэм Левинсон', 'Сэм Мендес', 'Сэм Рэйми', 'Сэм Тейлор Вуд', 'Сэм Тейлор-Джонсон', 'Сэм Фелл', 'Сэм Френч', 'Сэм Фридлендер', 'Сэмюэл Байер', 'Сэфи Неббу', 'Сюзанна Биер', 'Сюзанна Уайт', 'Сюнъити Есидзава', 'Сяолу Го', 'Т. вон Гюнтен', 'Т.Абрамова', 'Т.Аленикова', 'Т.Андрианова (псевд.Т.Вигель)', 'Т.Байбл', 'Т.Бекмамбетов', 'Т.Березанцева', 'Т.Березанцева', 'Т.Бочарова', 'Т.Воронецкая', 'Т.Вульфович', 'Т.Гулина', 'Т.Данн', 'Т.Джураев', 'Т.Дондурей', 'Т.Жалнин', 'Т.Зубова', 'Т.Ивашкина', 'Т.Игуменцева', 'Т.Игуменцева', 'Т.Игуменцева (псевдоним Татьяна Капитан)', 'Т.Ильина', 'Т.Ильина (псевдоним - Иван Непомнящий)', 'Т.Кеосаян', 'Т.Кисилева', 'Т.Корнев', 'Т.Корнев', 'Т.Корнеева', 'Т.Коув', 'Т.Лесурд', 'Т.Лукашевич', 'Т.Лукашевич', 'Т.М.Райвс', 'Т.Малова', 'Т.Мамедов', 'Т.Мекинс', 'Т.Мирошник', 'Т.Мошкова', 'Т.Новикова', 'Т.Обозова', 'Т.Полосина', 'Т.Розин', 'Т.Руссо', 'Т.Саакян', 'Т.Семенченко', 'Т.Сислей', 'Т.Сличенко', 'Т.Смитс', 'Т.Столбова', 'Т.Тания', 'Т.Таш-заде', 'Т.Ушев', 'Т.Федоровская', 'Т.Харкевич', 'Т.Цоцория', 'Т.Эверестова', 'Т.Эльрих', 'Т.Эсадзе', 'Тадеуш Страсбергер', 'Тадонг Пак', 'Тадонг Пак', 'Тае Йонг Ким', 'Таика Вайтити', 'Таити Исидатэ', 'Тайка Вайтити', 'Тайлер Джиллетт', 'Тайлер Макинтайр', 'Тайлер Нильсен', 'Такао Окамура', 'Такаси Миике', 'Такахиро Омори', 'Такаши Миике', 'Такаши Ямадзаки', 'Такаши Ямазаки', 'Такеши Китано', 'Такуя Игараси', 'Такэси Коикэ', 'Талкон Хамзави', 'Тана Шембори', 'Танигути Горо', 'Таня Уэкслер', 'Тара Пирния', 'Тарек Будали', 'Тарсем Сингх', 'Тарсем Синх', 'Татьяна Данильянц', 'Теа Шеррок', 'Тед Гейган', 'Тед Мелфи', 'Тедди Чан', 'Тейлор Хекфорд', 'Тейлор Шеридан', 'Тейт Тейлор', 'Телия Петраки', 'Тенисон Бардуэлл', 'Тео Ангелопулос', 'Тео Пирри', 'Теренс Дэвис', 'Терренс Малик', 'Терри Джонс', 'Терри Джордж', 'Терри Звигоф', 'Терри Майлз', 'Ти Вест', 'Тиан Сяо Пенг', 'Тибо Дуран', 'Тизиано Манчини', 'Тизнано Манчини', 'Тиль Новак', 'Тиль Швайгер', 'Тиль Швайгер', 'Тим Бартон', 'Тим Бертон', 'Тим Джонсон', 'Тим Диасон', 'Тим Дисней', 'Тим Кокс', 'Тим Миллер', 'Тим Молтби', 'Тим Стори', 'Тим Фельбаум', 'Тим Хилл', 'Тим Элбери', 'Тим ван Даммен', 'Тимати Рекарт', 'Тимо Вуоренсола', 'Тимо Тьяджанто', 'Тимоти Вудворд младший', 'Тимур Бекмамбетов', 'Тинатаин Каджришвили', 'Тоа Фрейзер', 'Тоби Бауманн', 'Тоби Генкель', 'Тоби Генкель', 'Тоби Уилкинс', 'Тобиас Вебер', 'Тобиас Линдхольм', 'Тод \"Кип\" Уильямс', 'Тод Уильямс', 'Тод Фреденталь', 'Тодд Вилдерман', 'Тодд Джонс', 'Тодд Дуглас Миллер', 'Тодд Линкольн', 'Тодд Линкольн', 'Тодд Луисо', 'Тодд Солондз', 'Тодд Филд', 'Тодд Филлипс', 'Тодд Хейнс', 'Том Ван Авермат', 'Том Вольф', 'Том Вон', 'Том Гормикэн', 'Том Грин', 'Том Дей', 'Том Денуччи', 'Том Ди Чилло', 'Том Донахью', 'Том Дэй', 'Том Коркоран', 'Том Лу', 'Том МакГрат', 'Том МакГрат', 'Том МакКарти', 'Том Моррис', \"Том О'Дэлл\", 'Том Тыквер', 'Том Тыквер', 'Том Форд', 'Том Харпер', 'Том Хупер', 'Том Хэнкс', 'Том Эдмундс', 'Том Элкинс', 'Томас Альфредсон', 'Томас Арслан', 'Томас Бальмес', 'Томас Безуча', 'Томас Боденштайн', 'Томас Борч-Нельсен', 'Томас Винтерберг', 'Томас Граскур', 'Томас Джейн', 'Томас Забо', 'Томас Лукас', 'Томас Сабо', 'Томас Тильш', 'Томас Штубер', 'Томас Ян', 'Томаш Лунак', 'Томаш Сас', 'Томек Дуки', 'Томм Мур', 'Томми Виркола', \"Томми О'Хавер\", \"Томми О'Хэйвер\", 'Томохиро Кавамура', 'Тони Билл', 'Тони Бэнкфорт', 'Тони Гилрой', 'Тони Кинг', 'Тони Кэй', 'Тони Леондис', 'Тони Лойзер', 'Тони Майерс', 'Тони МакНамара', 'Тони Маршал', 'Тони Пауэр', 'Тони Скотт', 'Тони Тэнг', 'Тони Уэст', 'Тор Бренн', 'Тордбьорн Кристоферссен', 'Торилл Коув', 'Торстен Клай', 'Торстен Кюнстлер', 'Торун Лиан', 'Тосиюки Кубоока', 'Тоуб Хупер', 'Тошикадзу Нагаэ', 'Тошия Шиохара', 'Трак Бренсс', 'Тревор Нанн', 'Тревор Уолл', 'Трей Эдвард Шульц', 'Трейвис Клафф', 'Трент Купер', 'Тристан Паттерсон', 'Тристан Сегуэла', 'Триш Си', 'Триша Гам', 'Трой Миллер', 'Трой Никси', 'Трэвис Заривны', 'Трэвис Найт', 'Трэвис Райс', 'Тува Новотны', 'Туроп Ван Орман', 'Тьерри Гиллиам', 'Тьерри Донар', 'Тьерри Рагоберт', 'Тьерри Фремо', 'Тэйлор Хэкфорд', 'Тэнгай Дейрейн', 'У.Бош', 'У.Грайнер', 'У.Киндрик', 'Уберто Пазолини', 'Уве Болл', 'Уве Хайдесшоттеи', 'Уве Хайдшеттер', 'Уилл Верник', 'Уилл Глак', 'Уилл Кэнон', 'Уилл Спек', 'Уилл Финн', 'Уильям Батлер', 'Уильям Бейкер', 'Уильям Брент Белл', 'Уильям Брент Бэлл', 'Уильям Дикерсон', 'Уильям Кауфман', 'Уильям Кентридж', 'Уильям Монахэн', 'Уильям Олдройд', 'Уильям Фридкин', 'Уильям Юбэнк', 'Уит Стиллман', 'Уле Борнедаль', 'Ули Эдель', 'Ульрика Бандейра', 'Ульрих Зайдль', 'Ульрих Зейдл', 'Уолли Пфистер', 'Уолт Бекер', 'Уолт Беккер', 'Уолт Дорн', 'Уолтер Саллес', 'Уолтер Турнье', 'Уолтер Хилл', 'Уорвик Торнтон', 'Уоррен Коулмэн', 'Уош Уэстмоленд', 'Урсула Макфарлейн', 'Уте фон Мюнхов-Поль', 'Уте фон Мюнхов-Поль', 'Уэйн Крамер', 'Уэйн Робертс', 'Уэс Андерсен', 'Уэс Андерсон', 'Уэс Болл', 'Уэс Крейвен', 'Уэсс Болл', 'Уэсс Крэйвен', 'Ф', 'Ф. Гордон', 'Ф.-Ф.Морен-Варгас', 'Ф.Абрютин', 'Ф.Абрютин', 'Ф.Ало', 'Ф.Бондарчук', 'Ф.Брак', 'Ф.Браух', 'Ф.Гари Грэй', 'Ф.Гарсиа-Руис', 'Ф.Гэри Грей', 'Ф.Дион', 'Ф.Дмитриев', 'Ф.Дмитриев', 'Ф.Дэвис', 'Ф.Золоева', 'Ф.Ибрагимбеков', 'Ф.Ибрагимбеков', 'Ф.Коршунов', 'Ф.Коршунов при участии П.Мирзоева', 'Ф.Коста', 'Ф.Котларски', 'Ф.Кривошеев', 'Ф.Махмутов (псевдоним Фанис Камал)', 'Ф.Петрухин', 'Ф.Попов', 'Ф.Фархшатова', 'Ф.Хавьер Гутьеррес', 'Ф.Шабанов', 'Фабио Бонифаччи', 'Фабрис Лаффонт', 'Фабрис Эбуе', 'Фанг Лей', 'Фанни Ардан', 'Фань Лисинь', 'Фарад Сафиниа', 'Фарид Гумбатов', 'Фархат Шарипов', 'Фатих Акин', 'Феде Алварес', 'Феде Альварес', 'Федерико Тицци', 'Федерико Тьеззи', 'Федерико Феллини', 'Феи Сяоган', 'Феликс Ван Грунинген', 'Феликс Ип', 'Феликс Фуксштайнер', 'Феликс Энрике Алкала', 'Феликс ван Гронинген', 'Фенар Ахмад', 'Фергал Рейли', 'Ферзан Оспетек', 'Фернанаду Майреллиш', 'Фернандо Гонзалез Молина', 'Фернандо Леон Де Араноа', 'Фернандо Малдонадо', 'Фернандо Мейреллиш', 'Фернандо Молина', 'Фернандо Труэба', 'Фернандо Труэбо', 'Фернандо Эймбке', 'Фернанду Мейрелльеш', 'Фил Горн', 'Фил Грабски', 'Фил Джонстон', 'Фил Лорд', 'Фил Олден Робинсон', 'Фил Трэйл', 'Филип Эйнштейн Липски', 'Филипп Амио', 'Филипп Аппиетто', 'Филипп Беллимар', 'Филипп Волкен', 'Филипп Гаррель', 'Филипп Лашо', 'Филипп Лашо', 'Филипп Леллуш', 'Филипп Нойс', 'Филипп Фалардо', 'Филипп Шатель', 'Филипп Штельцл', 'Филипп Штельцль', 'Филипп Эйнштейн Липски', 'Филипп де Шоврон', 'Филиппе Мартинес', 'Филлида Ллойд', 'Филлип Джей Рот', 'Филлип Нойс', 'Финн Тейлор', 'Фиона Гордон', 'Фишер Стивенс', 'Флавио Р.Тамбеллини', 'Флоран Сири', 'Флориан Галленбергер', 'Флориан Дэвид Фитц', 'Флориан Хенкель фон Доннерсмарк', 'Фолькер Шлендорф', 'Франк Гастамбид', 'Франк Гастамбиде', 'Франк Дюбоск', 'Франк Манкузо', 'Франк Халфун', 'Франк Хоф', 'Франко Дзеффирелли', 'Франко Кастеллано', 'Франсиз Нильсен', 'Франсис Нильсен', 'Франсуа Бриссон', 'Франсуа Дезанья', 'Франсуа Дюпейрон', 'Франсуа Озон', 'Франсуа Россильон', 'Франсуа Ханнс', 'Франциска Бух', 'Франческа Замбелло', 'Франческо Инверницци', 'Франческо Миччикэ', 'Франческо Мунци', 'Франческо Синкуемани', 'Франческо Фаласки', 'Франческо Эспозито', 'Фред Вульф', 'Фред Кавайе', 'Фред Кавайе', 'Фред Скеписи', 'Фредди Рекенхаус', 'Фредерик Бегбедер', 'Фредерик Берт', 'Фредерик Бонд', 'Фредерик Жарден', 'Фредерик Обуртин', 'Фредерик Пакстон', 'Фредерик Фонтейн', 'Фредерик Ченг', 'Фредерико Моччиа', 'Фредерико Пинто', 'Френк Соломон', 'Френсис Лоуренс', 'Френсис Форд Коппола', 'Фридерик Ченг', 'Фридерик Ченг', 'Фридрих Боэм', 'Фридрих Шлайх', 'Фрэнк Дарабонт', 'Фрэнк Корачи', 'Фрэнк Мерле', 'Фрэнк Миллер', 'Фрэнк Оз', 'Фрэнсис Лоуренс', 'Фрэнсис Форд Коппола', 'Фузаль Булифа', 'Фульвио Резулио', 'Фуюан Лиу', 'Фуюань Лью', 'Фуюань Лю', 'Фэн Сяоган', 'Х.Бакаев', 'Х.Г.Пене', 'Х.Дюмулайн', 'Х.М.Фазели', 'Х.Нарлиев', 'Х.О.Рамос', 'Х.Стойчев', 'Х.Фариас', 'Х.Хименес', 'Х.Эмануэлли', 'ХЭрольд Рэмис', 'Хава Эссуман', 'Хавьер Палю', 'Хади Мохамадян', 'Хади Хаджэйг', 'Хайме Колье-Серра', 'Хайфа Аль-Мансур', 'Хак Ботко', 'Халлвар Витзо', 'Халлвард Браэин', 'Хани Абу-Ассад', 'Ханнес Холм', 'Ханс Петтер Муланд', 'Хань Янь', 'Харальд Зиперманн', 'Хармони Корин', 'Харольд Бэккер', 'Харольд Цварт', 'Харука Фудзита', 'Хатем Храиче', 'Хаум Коллет-Серра', 'Хауме Балагеро', 'Хауме Коллет-Серра', 'Хауме Кольет-Серра', 'Хаяо Миядзаки', 'Хаято Датэ', 'Хезер Ленц', 'Хейден Шлоссберг', 'Хелен Жиро', 'Хендрик Хандлегтен', 'Хеннинг Карлсен', 'Хеннинг Кастен', 'Хермини Хунтгебурх', 'Хершел Фабер', 'Хесус Гарсес Ламберт', 'Хи Зили', 'Хи-чан Ра', 'Хидео Наката', 'Хидэаки Анно', 'Хидэки Ито', 'Хирокадзу Корэ-Эда', 'Хирокадзу Корээда', 'Хиромаса Енэбаяси', 'Хиромаса Йонебаяши', 'Хироюки Имаиси', 'Хлинюр Палмасон', 'Хоаким Роннинг', 'Хоакин Льямас', 'Хоакин Ористрелл', 'Хоао Пекенао', 'Ховард Халл', 'Ховард Холл', 'Хойт Йетман', 'Холли Мейерс-Шайер', 'Хольгер Таппе', 'Хольгер Таппи', 'Хольгер Фрик', 'Хоми Аджаниа', 'Хон Сан Су', 'Хонгки Ли', 'Хорхе Гутьеррес', 'Хорхе С.Дорадо', 'Хорхе Тересо', 'Хорхе Торрегросса', 'Хосе Майа', 'Хуан Антонио Байона', 'Хуан Вера', 'Хуан Диего Соланас', 'Хуан Карлос Манеглиа', 'Хуан Карлос Медина', 'Хуан Карлос Табио', 'Хуан Пабло Поланко', 'Хуан Таратуто', 'Хуан Хосе Кампанелла', 'Хуан Янь', 'Хулио Медем', 'Хулио Медем', 'Хулио Сото Гурпиде', 'Хью Велчман', 'Хью Лори', 'Хью Родс', 'Хьюберт Вейланд', 'Хьюберт Вейланд', 'Хьюго Желен', 'Хэмиш Гамильтон', 'Хэтти Далтон', 'Цзоу И', 'Цзянь Мин Хуанг', 'Цуй Харк', 'Цунэо Кобаяси', 'Цутому Мидзусима', 'Цутому Ханабуса', 'Ч.Ч.Ким', 'Чад Стахелски', 'Чак Пауэрс', 'Чак Рассел', 'Чальз Е.Бастьен', 'Чан Ань Хунг', 'Чан Гуанси', 'Чан Хун', 'Чания Баттон', 'Чарли Бин', 'Чарльз Е.Бастьен', 'Чарльз Мартин', 'Чарльз Мартин Смит', 'Чарльз Покел', 'Чарльз Роберт Карнер', 'Чарльз Чаплин', 'Чарльз Шайер', 'Чжан Имоу', 'Чжан Чунь', 'Чжеки Чан', 'Чжен Линьна', 'Чонг Ти Чуа', 'Чуан Лу', 'Чхан Ук Пак', 'Чхан-Ук Пак', 'Чхве Гук-хи', 'Ш.Б.Линдхольм', 'Шана Фест', 'Шарль Немес', 'Шарль Оливье-Мишо', 'Шеймус Мерфи', 'Шейн Аткинсон', 'Шейн Блэк', 'Шейн Салерно', 'Шейн Эткинсон', 'Шелдон Уилсон', 'Шелли Шеной', 'Шем Биттерман', 'Шенг Динг', 'Шери Фольксон', 'Шерон Магуайр', 'Шимми Маркус', 'Шинтаро Шимосава', 'Шон Андерс', 'Шон Андрес', 'Шон Бирн', 'Шон Бэйкер', 'Шон Гэррити', 'Шон Дуркин', 'Шон Кристенсен', 'Шон Ку', 'Шон Леви', 'Шон МакКормак', 'Шон МакНамара', \"Шон Патрик О'Рейли\", 'Шон Патрик О.Рейли', 'Шон Эллис', 'Шрирам Рагхаван', 'Штефан Кромер', 'Шуджит Сиркар', 'Шунсуке Тада', 'Шэнь Юй', 'Шэри Спрингер Берман', 'Шэрон Магуайр', 'Ырыс Окенова', 'Э.Абалов', 'Э.Арутюнов', 'Э.Архангельская', 'Э.Архангельская', 'Э.Балье', 'Э.Барсегян', 'Э.Бей', 'Э.Бордуков', 'Э.Бостан', 'Э.Бочаров', 'Э.Веливис', 'Э.Габидуллин', 'Э.Гаврилов', 'Э.Гаврилов', 'Э.Гущин', 'Э.Давлетшина', 'Э.Жолнин', 'Э.Змойро', 'Э.Калемар', 'Э.Кеосаян', 'Э.Климов', 'Э.Коэтс', 'Э.Креси', 'Э.Лотяну', 'Э.Лоурич', 'Э.Люст', 'Э.Манжеева', 'Э.Маргетсон', 'Э.Мецгер', 'Э.Моргетсон', 'Э.Назаров', 'Э.Нелидова', 'Э.Никогосян', 'Э.Никогосян (псевдоним А.Конст)', 'Э.Оганесян', 'Э.Парри', 'Э.Пискатор', 'Э.Радзюкевич', 'Э.Романс', 'Э.Рязанов', 'Э.Рязанов', 'Э.Савельева', 'Э.Салаватов', 'Э.Салаватов', 'Э.Суни и др.', 'Э.Тухарели', 'Э.Хафнор', 'Э.Ходжикян', 'Э.Шенгелая', 'Э.Шуб', 'Э.Эйнхорн', 'Эбби Кон', 'Эван Голдберг', 'Эван Трэмал', 'Эген Уулу Нурбек', 'Эд Гасс-Донелли', 'Эдвард Нортон', 'Эдвард Цвик', 'Эдгар Райт', 'Эдуард Баэр', 'Эдуард Делюк', 'Эдуард Кортес', 'Эдуард Риу', 'Эдуардо Санчес', 'Эдуардо Санчес', 'Эдуардо Шульдт', 'Эдуардо Шульдт', 'Эйприл Маллен', 'Эйтор Далия', 'Эктор Бабенко', 'Эл Гиддингс', 'Элай Рот', 'Элайджа Байнум', 'Элайджа Дреннер', 'Элайджа Мошински', 'Элен Жиро', 'Элен Катте', 'Эли Важеман', 'Эли Крэйг', 'Элиа Сулейман', 'Элиз Дюран', 'Элизабет Бэнкс', 'Элизабет Бэнкс', 'Элинор Коппола', 'Элиотт Лестер', 'Элис Вэддингтон', 'Элис Тротон', 'Элисон Клэймен', 'Элисон Рейд', 'Элке Гроэн', 'Элла Лемхаген', 'Эллен Хьюз', 'Эллиот Лестер', 'Эллори Элкайем', 'Эмануэле Имбуччи', 'Эмануэле Криалезе', 'Эми Канаан Манн', 'Эмили Атеф', 'Эмили Янг', 'Эмилио Бельмонте Молина', 'Эмилио Портес', 'Эмилио Саги', 'Эмиль Лотяну', 'Эмир Кустурица', 'Эмма Данте', 'Эмма Тамми', 'Эммануэль Амон', 'Эммануэль Берко', 'Эммануэль Жилибер', 'Эммануэль Муре', 'Эмманюэль Берко', 'Энг Ли', 'Энди Биатт', 'Энди Вачовски', 'Энди Годдар', 'Энди Мартин', 'Энди Миттон', 'Энди Мускетти', 'Энди Найман', 'Энди Серкис', 'Энди Теннант', 'Энди Тэннант', 'Энди Фикман', 'Энди Фикмен', 'Энди де Эммони', 'Эндрю Адамсон', 'Эндрю Боулер', 'Эндрю Дейвис', 'Эндрю Десмонд', 'Эндрю Доминик', 'Эндрю Дэвис', 'Эндрю Лоэр', 'Эндрю Лу', 'Эндрю Морахан', 'Эндрю Морган', 'Эндрю Никкол', \"Эндрю О'Коннор\", 'Эндрю Раймер', 'Эндрю Росси', 'Эндрю С.Эрин', 'Эндрю Стентон', 'Эндрю Стентон', 'Эндрю Стэнтон', 'Эндрю Трауки', 'Эндрю Уайт', 'Эндрю Флеминг', 'Эндрю Хэй', 'Эндрю Эдамсон', 'Эндрю Эрвин', 'Энн Флетчер', 'Энн Эмон', 'Энрике Гато', 'Энрике Гато', 'Энрико Кастильоне', 'Энтони Бирн', 'Энтони Браун', 'Энтони Бэлл', 'Энтони Дж.Коэн', 'Энтони ДиБласи', 'Энтони Леондис', 'Энтони Марас', 'Энтони Марсиано', 'Энтони Мингелла', 'Энтони Пауэр', 'Энтони Руссо', 'Энтони Руссо', 'Энтони Сильверстон', 'Энтони Скотт Бернс', 'Энтони Стакки', 'Энтони Фукуа', \"Энцо Д'Алло\", 'Эрве Мимран', 'Эрдал Сейлан', 'Эрен Криви', 'Эри Сандел', 'Эриель Шульман', 'Эрик Барбье', 'Эрик Беснард', 'Эрик Бревиг', 'Эрик Валетт', 'Эрик Валетте', 'Эрик Ван Лой', 'Эрик Геновеси', 'Эрик Гуильон', 'Эрик Д.Хауэлл', 'Эрик Дарнелл', 'Эрик Зонка', 'Эрик Инглэнд', 'Эрик Киссак', 'Эрик Лавэн', 'Эрик Лартиго', 'Эрик Ле Рош', 'Эрик Рошан', 'Эрик Саммер', 'Эрик Толедано', 'Эрик Тости', 'Эрик Уорин', 'Эрик Шмит', 'Эриксон Кор', 'Эрни Барабараш', 'Эсбен Тофт Якобсен', 'Эспен Сандберг', 'Эспен Сандберг', 'Эстебан Креспо', 'Эстеве Солер', 'Эцио Греджо', 'Эш Браннон', 'Эшли Пейдж', 'Эшли Чейни', 'Ю', 'Ю Сун-Донг', 'Ю.Ардашев', 'Ю.Ауг', 'Ю.Афанасьев', 'Ю.Бахшиев', 'Ю.Белюсева', 'Ю.Бердников', 'Ю.Бердников', 'Ю.Бобкова', 'Ю.Бондарев', 'Ю.Ботоев', 'Ю.Быков', 'Ю.Быков', 'Ю.Васильев', 'Ю.Вышинский', 'Ю.Горбачевская', 'Ю.Грымов', 'Ю.Гусман', 'Ю.Даниялов', 'Ю.Ершова', 'Ю.Жан', 'Ю.Забурьянный (псевдоним Жора Фероренко)', 'Ю.Зайцев', 'Ю.Захарова', 'Ю.Казачков', 'Ю.Калинина', 'Ю.Кара', 'Ю.Карасик', 'Ю.Королев (псевдоним Ю.Стааль)', 'Ю.Кошкина', 'Ю.Кулаков', 'Ю.Курочка', 'Ю.Кушнерев', 'Ю.Лейдерман', 'Ю.Мазурова', 'Ю.Малюгин', 'Ю.Мамин', 'Ю.Матросова', 'Ю.Машукова', 'Ю.Мерзляков', 'Ю.Миронова', 'Ю.Мороз', 'Ю.Морская', 'Ю.Озеров', 'Ю.Перкуль', 'Ю.Попович', 'Ю.Пронин', 'Ю.Разыков', 'Ю.Райзман', 'Ю.Райзман', 'Ю.Рогозин', 'Ю.Рыбакова', 'Ю.Сапонова', 'Ю.Сизов', 'Ю.Солнцева', 'Ю.Суходольский', 'Ю.Сысоев', 'Ю.Фетинг', 'Ю.Чулюкин', 'Ю.Шамилов', 'Ю.Шиллер', 'Юго Желен', 'Юкка-Пекка Валькеапяя', 'Юлиан Радльмайер', 'Юн-сок Чхве', 'Юнг Куюн Парк', 'Юрген Лердам', 'Юрген Лердам', 'Юфенг Сонг', 'Юхо Куосманен', 'Юхэй Сакураги', 'Юэн МакГрегор', 'Юэнь Ву-Пин', 'Я.Варлашкина', 'Я.Войтова', 'Я.Куйперс', 'Я.Лапшин', 'Я.Лебедев', 'Я.Мочалов', 'Я.Поляруш', 'Я.Русенс', 'Я.Серсар', 'Я.Трофимова', 'Я.Чеважевский', 'Якоб Розенберг', 'Якоб Шух', 'Якуб Вронски', 'Ялмари Хеландер', 'Ян Бергер', 'Ян Гэ', 'Ян Ингленд', 'Ян Форсис', 'Ян Хафт', 'Янгци Ши', 'Яне Магнуссон', 'Янн Деманж', 'Яннике Систад Якобсен', 'Яннис Смарагдис', 'Янус Мец Педерсен', 'Януш Жомболай', 'Ярон Шани', 'Ярослав Губченко', 'Ярроу Чейни', 'Ясухиро Есиура', 'Яш Чопра', 'при участии Т.Бутикашвили', 'сорежиссер Марк Франкетти', 'хореограф Кеннет Макмиллан', 'хореограф Матс Эк', 'хореография Василия Вайнонена. Андреас Морелл', 'хореография Джорджа Баланчина', 'хореография Карлоса Акосты по Мариусу Петипа', 'хореография Кеннета МакМиллана', 'хореография Кристофера Уилдона', 'хореография Мариуса Петипа', 'хореография Мариуса Петипа в редакции Наталии Макаровой', 'хореография Мэтью Борна', 'хореография Питера Райта', 'хореография Пьера Лакотта по Филиппу Тальони', 'хореография Рудольфа Нуреева по Мариусу Петипа', 'хореография Фредерика Аштона', 'хореография Фредерика Эштона']\n"
     ]
    }
   ],
   "source": [
    "#делаю то же самоя для жанров\n",
    "tempdf3 = data['director']\n",
    "tempdf3 = tempdf3.fillna('Режиссера нет')\n",
    "#Присутствие пустых значений не дает проверить столбец на неявные дубликаты, пока что заполним их\n",
    "#фразой \"Режиссера нет\"\n",
    "tempvar3 = []\n",
    "\n",
    "for i in tempdf3:\n",
    "    if i is not None:\n",
    "        name = i.split(',')\n",
    "        for j in range(len(name)):\n",
    "            if name[j] not in tempvar3:\n",
    "                tempvar3.append(name[j])\n",
    "#режет строчки по запятой и сохраняет уникальные значения в tempvar\n",
    "i = 0\n",
    "for j in tempvar3:\n",
    "    tempvar3[i] = j.strip()\n",
    "    i+=1\n",
    "#Удаляет лишние пробелы в значениях\n",
    "for i in tempvar3:\n",
    "    if i not in tempvar3:\n",
    "            tempvar3.append(i)   \n",
    "#удаляет дубликаты\n",
    "print(sorted(tempvar3))\n"
   ]
  },
  {
   "cell_type": "markdown",
   "metadata": {},
   "source": [
    "Предположим что каждое новое значение это новый режисер\n",
    "\n",
    "Так же поступим с продюсерами"
   ]
  },
  {
   "cell_type": "markdown",
   "metadata": {
    "id": "XFSN5lrEgFyR"
   },
   "source": [
    "#### Шаг 2.5. Проверка количественные значения"
   ]
  },
  {
   "cell_type": "markdown",
   "metadata": {
    "id": "YbzClBxagFyS"
   },
   "source": [
    "Бюджет строится из возвращаеммых и невозвращаеммых средств, логично будет проверить связь между этими столбцами"
   ]
  },
  {
   "cell_type": "code",
   "execution_count": 59,
   "metadata": {},
   "outputs": [
    {
     "name": "stdout",
     "output_type": "stream",
     "text": [
      "<class 'pandas.core.frame.DataFrame'>\n",
      "\n",
      "Int64Index: 7458 entries, 0 to 7484\n",
      "\n",
      "Data columns (total 16 columns):\n",
      "\n",
      " #   Column                 Non-Null Count  Dtype              \n",
      "\n",
      "---  ------                 --------------  -----              \n",
      "\n",
      " 0   title                  7458 non-null   object             \n",
      "\n",
      " 1   pu_number              7458 non-null   int64              \n",
      "\n",
      " 2   show_start_date        7458 non-null   datetime64[ns, UTC]\n",
      "\n",
      " 3   type                   7458 non-null   object             \n",
      "\n",
      " 4   film_studio            7458 non-null   object             \n",
      "\n",
      " 5   production_country     7458 non-null   object             \n",
      "\n",
      " 6   director               7458 non-null   object             \n",
      "\n",
      " 7   producer               6894 non-null   object             \n",
      "\n",
      " 8   age_restriction        7458 non-null   object             \n",
      "\n",
      " 9   refundable_support     332 non-null    float64            \n",
      "\n",
      " 10  nonrefundable_support  332 non-null    float64            \n",
      "\n",
      " 11  budget                 332 non-null    float64            \n",
      "\n",
      " 12  financing_source       332 non-null    object             \n",
      "\n",
      " 13  ratings                6511 non-null   float64            \n",
      "\n",
      " 14  genres                 6502 non-null   object             \n",
      "\n",
      " 15  box_office             3155 non-null   float64            \n",
      "\n",
      "dtypes: datetime64[ns, UTC](1), float64(5), int64(1), object(9)\n",
      "\n",
      "memory usage: 990.5+ KB\n"
     ]
    }
   ],
   "source": [
    "data.info()"
   ]
  },
  {
   "cell_type": "code",
   "execution_count": 60,
   "metadata": {},
   "outputs": [
    {
     "data": {
      "text/html": [
       "<div>\n",
       "<style scoped>\n",
       "    .dataframe tbody tr th:only-of-type {\n",
       "        vertical-align: middle;\n",
       "    }\n",
       "\n",
       "    .dataframe tbody tr th {\n",
       "        vertical-align: top;\n",
       "    }\n",
       "\n",
       "    .dataframe thead th {\n",
       "        text-align: right;\n",
       "    }\n",
       "</style>\n",
       "<table border=\"1\" class=\"dataframe\">\n",
       "  <thead>\n",
       "    <tr style=\"text-align: right;\">\n",
       "      <th></th>\n",
       "      <th>pu_number</th>\n",
       "      <th>refundable_support</th>\n",
       "      <th>nonrefundable_support</th>\n",
       "      <th>budget</th>\n",
       "      <th>ratings</th>\n",
       "      <th>box_office</th>\n",
       "    </tr>\n",
       "  </thead>\n",
       "  <tbody>\n",
       "    <tr>\n",
       "      <th>count</th>\n",
       "      <td>7,458.00</td>\n",
       "      <td>332.00</td>\n",
       "      <td>332.00</td>\n",
       "      <td>332.00</td>\n",
       "      <td>6,511.00</td>\n",
       "      <td>3,155.00</td>\n",
       "    </tr>\n",
       "    <tr>\n",
       "      <th>mean</th>\n",
       "      <td>135,214,429.91</td>\n",
       "      <td>11,864,457.83</td>\n",
       "      <td>48,980,988.89</td>\n",
       "      <td>127,229,716.68</td>\n",
       "      <td>6.49</td>\n",
       "      <td>76,551,328.80</td>\n",
       "    </tr>\n",
       "    <tr>\n",
       "      <th>std</th>\n",
       "      <td>38,359,046.05</td>\n",
       "      <td>24,916,555.26</td>\n",
       "      <td>59,980,117.92</td>\n",
       "      <td>188,588,333.12</td>\n",
       "      <td>1.11</td>\n",
       "      <td>240,455,853.44</td>\n",
       "    </tr>\n",
       "    <tr>\n",
       "      <th>min</th>\n",
       "      <td>1,811,096.00</td>\n",
       "      <td>0.00</td>\n",
       "      <td>0.00</td>\n",
       "      <td>0.00</td>\n",
       "      <td>1.00</td>\n",
       "      <td>0.00</td>\n",
       "    </tr>\n",
       "    <tr>\n",
       "      <th>25%</th>\n",
       "      <td>113,000,117.25</td>\n",
       "      <td>0.00</td>\n",
       "      <td>25,000,000.00</td>\n",
       "      <td>42,000,000.00</td>\n",
       "      <td>5.90</td>\n",
       "      <td>87,090.50</td>\n",
       "    </tr>\n",
       "    <tr>\n",
       "      <th>50%</th>\n",
       "      <td>121,015,514.50</td>\n",
       "      <td>0.00</td>\n",
       "      <td>30,000,000.00</td>\n",
       "      <td>68,649,916.00</td>\n",
       "      <td>6.60</td>\n",
       "      <td>2,338,049.90</td>\n",
       "    </tr>\n",
       "    <tr>\n",
       "      <th>75%</th>\n",
       "      <td>124,003,288.75</td>\n",
       "      <td>15,000,000.00</td>\n",
       "      <td>40,375,000.00</td>\n",
       "      <td>141,985,319.50</td>\n",
       "      <td>7.20</td>\n",
       "      <td>23,995,460.84</td>\n",
       "    </tr>\n",
       "    <tr>\n",
       "      <th>max</th>\n",
       "      <td>231,001,111.00</td>\n",
       "      <td>180,000,000.00</td>\n",
       "      <td>400,000,000.00</td>\n",
       "      <td>2,305,074,303.00</td>\n",
       "      <td>9.90</td>\n",
       "      <td>3,073,568,690.79</td>\n",
       "    </tr>\n",
       "  </tbody>\n",
       "</table>\n",
       "</div>"
      ],
      "text/plain": [
       "           pu_number  refundable_support  nonrefundable_support  \\\n",
       "count       7,458.00              332.00                 332.00   \n",
       "mean  135,214,429.91       11,864,457.83          48,980,988.89   \n",
       "std    38,359,046.05       24,916,555.26          59,980,117.92   \n",
       "min     1,811,096.00                0.00                   0.00   \n",
       "25%   113,000,117.25                0.00          25,000,000.00   \n",
       "50%   121,015,514.50                0.00          30,000,000.00   \n",
       "75%   124,003,288.75       15,000,000.00          40,375,000.00   \n",
       "max   231,001,111.00      180,000,000.00         400,000,000.00   \n",
       "\n",
       "                budget  ratings       box_office  \n",
       "count           332.00 6,511.00         3,155.00  \n",
       "mean    127,229,716.68     6.49    76,551,328.80  \n",
       "std     188,588,333.12     1.11   240,455,853.44  \n",
       "min               0.00     1.00             0.00  \n",
       "25%      42,000,000.00     5.90        87,090.50  \n",
       "50%      68,649,916.00     6.60     2,338,049.90  \n",
       "75%     141,985,319.50     7.20    23,995,460.84  \n",
       "max   2,305,074,303.00     9.90 3,073,568,690.79  "
      ]
     },
     "execution_count": 60,
     "metadata": {},
     "output_type": "execute_result"
    }
   ],
   "source": [
    "data.describe()"
   ]
  },
  {
   "cell_type": "code",
   "execution_count": 61,
   "metadata": {},
   "outputs": [
    {
     "data": {
      "text/plain": [
       "111"
      ]
     },
     "execution_count": 61,
     "metadata": {},
     "output_type": "execute_result"
    }
   ],
   "source": [
    "len(data.query('refundable_support != 0 and budget.isna() == False'))"
   ]
  },
  {
   "cell_type": "code",
   "execution_count": 62,
   "metadata": {},
   "outputs": [
    {
     "data": {
      "text/plain": [
       "323"
      ]
     },
     "execution_count": 62,
     "metadata": {},
     "output_type": "execute_result"
    }
   ],
   "source": [
    "len(data.query('nonrefundable_support != 0 and budget.isna() == False'))"
   ]
  },
  {
   "cell_type": "code",
   "execution_count": 63,
   "metadata": {},
   "outputs": [
    {
     "data": {
      "text/plain": [
       "323"
      ]
     },
     "execution_count": 63,
     "metadata": {},
     "output_type": "execute_result"
    }
   ],
   "source": [
    "len(data.query('nonrefundable_support != 0 and budget.isna() == False and nonrefundable_support != 0'))"
   ]
  },
  {
   "cell_type": "code",
   "execution_count": 64,
   "metadata": {},
   "outputs": [
    {
     "data": {
      "text/plain": [
       "332"
      ]
     },
     "execution_count": 64,
     "metadata": {},
     "output_type": "execute_result"
    }
   ],
   "source": [
    "len(data.query('nonrefundable_support.isna() == False and nonrefundable_support.isna() == False'))\n",
    "#если заполнена одна поддержка то вторая тоже"
   ]
  },
  {
   "cell_type": "code",
   "execution_count": 65,
   "metadata": {
    "scrolled": true
   },
   "outputs": [
    {
     "data": {
      "text/html": [
       "<div>\n",
       "<style scoped>\n",
       "    .dataframe tbody tr th:only-of-type {\n",
       "        vertical-align: middle;\n",
       "    }\n",
       "\n",
       "    .dataframe tbody tr th {\n",
       "        vertical-align: top;\n",
       "    }\n",
       "\n",
       "    .dataframe thead th {\n",
       "        text-align: right;\n",
       "    }\n",
       "</style>\n",
       "<table border=\"1\" class=\"dataframe\">\n",
       "  <thead>\n",
       "    <tr style=\"text-align: right;\">\n",
       "      <th></th>\n",
       "      <th>title</th>\n",
       "      <th>pu_number</th>\n",
       "      <th>show_start_date</th>\n",
       "      <th>type</th>\n",
       "      <th>film_studio</th>\n",
       "      <th>production_country</th>\n",
       "      <th>director</th>\n",
       "      <th>producer</th>\n",
       "      <th>age_restriction</th>\n",
       "      <th>refundable_support</th>\n",
       "      <th>nonrefundable_support</th>\n",
       "      <th>budget</th>\n",
       "      <th>financing_source</th>\n",
       "      <th>ratings</th>\n",
       "      <th>genres</th>\n",
       "      <th>box_office</th>\n",
       "    </tr>\n",
       "  </thead>\n",
       "  <tbody>\n",
       "    <tr>\n",
       "      <th>2052</th>\n",
       "      <td>14+</td>\n",
       "      <td>111023614</td>\n",
       "      <td>2014-12-19 12:00:00+00:00</td>\n",
       "      <td>Художественный</td>\n",
       "      <td>ООО Киностудия  \"Сентябрь\"</td>\n",
       "      <td>Россия</td>\n",
       "      <td>А.Зайцев</td>\n",
       "      <td>О.Гранина, А.Зайцев</td>\n",
       "      <td>«16+» - для детей старше 16 лет</td>\n",
       "      <td>0.00</td>\n",
       "      <td>23,000,000.00</td>\n",
       "      <td>0.00</td>\n",
       "      <td>Министерство культуры, Фонд кино</td>\n",
       "      <td>6.60</td>\n",
       "      <td>мелодрама</td>\n",
       "      <td>10,234,016.10</td>\n",
       "    </tr>\n",
       "    <tr>\n",
       "      <th>2057</th>\n",
       "      <td>Дуxless 2</td>\n",
       "      <td>111000415</td>\n",
       "      <td>2015-01-26 12:00:00+00:00</td>\n",
       "      <td>Художественный</td>\n",
       "      <td>ООО \"Киностудия \"Слово\", ООО \"Арт Пикчерс Студия\"</td>\n",
       "      <td>Россия</td>\n",
       "      <td>Р.Прыгунов</td>\n",
       "      <td>П.Ануров, Ф.Бондарчук, Д.Рудовский</td>\n",
       "      <td>«16+» - для детей старше 16 лет</td>\n",
       "      <td>0.00</td>\n",
       "      <td>75,000,000.00</td>\n",
       "      <td>0.00</td>\n",
       "      <td>Фонд кино</td>\n",
       "      <td>6.60</td>\n",
       "      <td>драма</td>\n",
       "      <td>446,163,511.00</td>\n",
       "    </tr>\n",
       "    <tr>\n",
       "      <th>2471</th>\n",
       "      <td>Воин (2015)</td>\n",
       "      <td>111017315</td>\n",
       "      <td>2015-09-28 12:00:00+00:00</td>\n",
       "      <td>Художественный</td>\n",
       "      <td>ООО \"Форпост Продакшн\", ООО \"Арт Пикчерс Студия\"</td>\n",
       "      <td>Россия</td>\n",
       "      <td>А.Андрианов</td>\n",
       "      <td>ООО \"Арт Пикчерс Студия\"</td>\n",
       "      <td>«12+» - для детей старше 12 лет</td>\n",
       "      <td>10,000,000.00</td>\n",
       "      <td>70,000,000.00</td>\n",
       "      <td>0.00</td>\n",
       "      <td>Фонд кино</td>\n",
       "      <td>7.80</td>\n",
       "      <td>боевик,драма,криминал</td>\n",
       "      <td>196,572,438.40</td>\n",
       "    </tr>\n",
       "    <tr>\n",
       "      <th>2531</th>\n",
       "      <td>Бармен.</td>\n",
       "      <td>111009615</td>\n",
       "      <td>2015-05-26 12:00:00+00:00</td>\n",
       "      <td>Художественный</td>\n",
       "      <td>АО \"ВайТ Медиа\", ООО \"Арт Пикчерс Студия\"</td>\n",
       "      <td>Россия</td>\n",
       "      <td>Д.Штурманова</td>\n",
       "      <td>Т.Вайнштейн</td>\n",
       "      <td>«16+» - для детей старше 16 лет</td>\n",
       "      <td>20,000,000.00</td>\n",
       "      <td>0.00</td>\n",
       "      <td>0.00</td>\n",
       "      <td>Фонд кино</td>\n",
       "      <td>6.20</td>\n",
       "      <td>комедия,фэнтези</td>\n",
       "      <td>67,418,974.80</td>\n",
       "    </tr>\n",
       "    <tr>\n",
       "      <th>2614</th>\n",
       "      <td>Савва. Сердце воина</td>\n",
       "      <td>114001715</td>\n",
       "      <td>2015-07-21 12:00:00+00:00</td>\n",
       "      <td>Анимационный</td>\n",
       "      <td>ООО \"Глюкоза Продакшн\", ООО \"Арт Пикчерс Студия\"</td>\n",
       "      <td>Россия</td>\n",
       "      <td>М.Фадеев</td>\n",
       "      <td>А.Чистяков</td>\n",
       "      <td>«6+» - для детей старше 6 лет</td>\n",
       "      <td>60,000,000.00</td>\n",
       "      <td>100,000,000.00</td>\n",
       "      <td>0.00</td>\n",
       "      <td>Фонд кино</td>\n",
       "      <td>4.60</td>\n",
       "      <td>мультфильм,приключения,фэнтези</td>\n",
       "      <td>184,487,551.40</td>\n",
       "    </tr>\n",
       "    <tr>\n",
       "      <th>2683</th>\n",
       "      <td>Тряпичный союз</td>\n",
       "      <td>111010215</td>\n",
       "      <td>2015-06-08 12:00:00+00:00</td>\n",
       "      <td>Художественный</td>\n",
       "      <td>ООО \"Кинокомпания \"КОКТЕБЕЛЬ\"</td>\n",
       "      <td>Россия</td>\n",
       "      <td>М.Местецкий</td>\n",
       "      <td>Р.Борисевич, А.Кушаев</td>\n",
       "      <td>«18+» - запрещено для детей</td>\n",
       "      <td>0.00</td>\n",
       "      <td>59,000,000.00</td>\n",
       "      <td>0.00</td>\n",
       "      <td>Фонд кино</td>\n",
       "      <td>6.30</td>\n",
       "      <td>комедия,драма</td>\n",
       "      <td>1,957,738.51</td>\n",
       "    </tr>\n",
       "    <tr>\n",
       "      <th>2787</th>\n",
       "      <td>Срочно выйду замуж</td>\n",
       "      <td>111017115</td>\n",
       "      <td>2015-09-30 12:00:00+00:00</td>\n",
       "      <td>Художественный</td>\n",
       "      <td>АО \"ВайТ Медиа\", ООО \"Арт Пикчерс Студия\"</td>\n",
       "      <td>Россия</td>\n",
       "      <td>С Чекалов</td>\n",
       "      <td>Ф.Бондарчук, Т.Вайнштейн, Д.Рудовский</td>\n",
       "      <td>«16+» - для детей старше 16 лет</td>\n",
       "      <td>0.00</td>\n",
       "      <td>35,000,000.00</td>\n",
       "      <td>0.00</td>\n",
       "      <td>Фонд кино</td>\n",
       "      <td>5.10</td>\n",
       "      <td>комедия,мелодрама</td>\n",
       "      <td>72,937,783.20</td>\n",
       "    </tr>\n",
       "    <tr>\n",
       "      <th>2873</th>\n",
       "      <td>Помню - не помню!</td>\n",
       "      <td>111004916</td>\n",
       "      <td>2016-03-01 12:00:00+00:00</td>\n",
       "      <td>Художественный</td>\n",
       "      <td>ООО \"КиноФирма\"</td>\n",
       "      <td>Россия</td>\n",
       "      <td>В.Ровенский</td>\n",
       "      <td>ООО \"КиноФирма\"</td>\n",
       "      <td>«12+» - для детей старше 12 лет</td>\n",
       "      <td>0.00</td>\n",
       "      <td>6,000,000.00</td>\n",
       "      <td>0.00</td>\n",
       "      <td>Министерство культуры</td>\n",
       "      <td>4.30</td>\n",
       "      <td>комедия</td>\n",
       "      <td>15,362,931.43</td>\n",
       "    </tr>\n",
       "    <tr>\n",
       "      <th>3046</th>\n",
       "      <td>Любовь с ограничениями</td>\n",
       "      <td>111008216</td>\n",
       "      <td>2016-04-29 12:00:00+00:00</td>\n",
       "      <td>Художественный</td>\n",
       "      <td>АО \"ВайТ Медиа\", ООО \"Арт Пикчерс Студия\"</td>\n",
       "      <td>Россия</td>\n",
       "      <td>Д.Тюрин</td>\n",
       "      <td>Ф.Бондарчук, Т.Вайнштейн, Д.Рудовский</td>\n",
       "      <td>«16+» - для детей старше 16 лет</td>\n",
       "      <td>19,000,000.00</td>\n",
       "      <td>51,000,000.00</td>\n",
       "      <td>0.00</td>\n",
       "      <td>Фонд кино</td>\n",
       "      <td>6.30</td>\n",
       "      <td>комедия,мелодрама</td>\n",
       "      <td>70,299,052.00</td>\n",
       "    </tr>\n",
       "    <tr>\n",
       "      <th>3564</th>\n",
       "      <td>Притяжение (2016)</td>\n",
       "      <td>111018116</td>\n",
       "      <td>2016-12-16 12:00:00+00:00</td>\n",
       "      <td>Художественный</td>\n",
       "      <td>ООО \"Водород 2011\",  ООО \"Арт Пикчерс Студия\"</td>\n",
       "      <td>Россия</td>\n",
       "      <td>Ф.Бондарчук</td>\n",
       "      <td>ООО \"Арт Пикчерс Студия\"</td>\n",
       "      <td>«12+» - для детей старше 12 лет</td>\n",
       "      <td>0.00</td>\n",
       "      <td>250,000,000.00</td>\n",
       "      <td>0.00</td>\n",
       "      <td>Фонд кино</td>\n",
       "      <td>5.60</td>\n",
       "      <td>фантастика</td>\n",
       "      <td>1,038,321,489.00</td>\n",
       "    </tr>\n",
       "    <tr>\n",
       "      <th>3674</th>\n",
       "      <td>Чудо-юдо</td>\n",
       "      <td>114001817</td>\n",
       "      <td>2017-06-27 12:00:00+00:00</td>\n",
       "      <td>Анимационный</td>\n",
       "      <td>ООО \"КиноФирма\"</td>\n",
       "      <td>Россия</td>\n",
       "      <td>А.Лукичев</td>\n",
       "      <td>ООО \"КиноФирма\"</td>\n",
       "      <td>«6+» - для детей старше 6 лет</td>\n",
       "      <td>20,000,000.00</td>\n",
       "      <td>20,000,000.00</td>\n",
       "      <td>0.00</td>\n",
       "      <td>Фонд кино</td>\n",
       "      <td>5.20</td>\n",
       "      <td>мультфильм,фэнтези,семейный</td>\n",
       "      <td>55,108,014.76</td>\n",
       "    </tr>\n",
       "    <tr>\n",
       "      <th>3738</th>\n",
       "      <td>Мифы</td>\n",
       "      <td>111004317</td>\n",
       "      <td>2017-06-07 12:00:00+00:00</td>\n",
       "      <td>Художественный</td>\n",
       "      <td>ООО \"ХАЙПФИЛМ\", ООО \"Арт Пикчерс Студия\"</td>\n",
       "      <td>Россия</td>\n",
       "      <td>А.Молочников</td>\n",
       "      <td>Ф.Бондарчук, Д.Рудовский, И.Стюарт, М.Османн, ...</td>\n",
       "      <td>«16+» - для детей старше 16 лет</td>\n",
       "      <td>25,000,000.00</td>\n",
       "      <td>20,000,000.00</td>\n",
       "      <td>0.00</td>\n",
       "      <td>Фонд кино</td>\n",
       "      <td>4.80</td>\n",
       "      <td>комедия</td>\n",
       "      <td>50,451,949.00</td>\n",
       "    </tr>\n",
       "    <tr>\n",
       "      <th>5672</th>\n",
       "      <td>Селфи</td>\n",
       "      <td>111012117</td>\n",
       "      <td>2018-02-01 12:00:00+00:00</td>\n",
       "      <td>Художественный</td>\n",
       "      <td>ООО \"Киностудия \"Слово\", ООО \"Арт Пикчерс Студия\"</td>\n",
       "      <td>Россия</td>\n",
       "      <td>Н.Хомерики</td>\n",
       "      <td>П.Ануров, Ф.Бондарчук, Д.Рудовский</td>\n",
       "      <td>«16+» - для детей старше 16 лет</td>\n",
       "      <td>20,000,000.00</td>\n",
       "      <td>40,000,000.00</td>\n",
       "      <td>0.00</td>\n",
       "      <td>Фонд кино</td>\n",
       "      <td>5.80</td>\n",
       "      <td>триллер,драма</td>\n",
       "      <td>225,196,400.03</td>\n",
       "    </tr>\n",
       "    <tr>\n",
       "      <th>5805</th>\n",
       "      <td>Два хвоста</td>\n",
       "      <td>114001018</td>\n",
       "      <td>2018-05-31 12:00:00+00:00</td>\n",
       "      <td>Анимационный</td>\n",
       "      <td>ООО \"ЛИЦЕНЗИОННЫЕ БРЕНДЫ\"</td>\n",
       "      <td>Россия</td>\n",
       "      <td>В.Ровенский, Н.Лопато, В.Азеев</td>\n",
       "      <td>ООО \"ЛИЦЕНЗИОННЫЕ БРЕНДЫ\"</td>\n",
       "      <td>«6+» - для детей старше 6 лет</td>\n",
       "      <td>10,000,000.00</td>\n",
       "      <td>60,000,000.00</td>\n",
       "      <td>0.00</td>\n",
       "      <td>Фонд кино</td>\n",
       "      <td>5.00</td>\n",
       "      <td>мультфильм,детский</td>\n",
       "      <td>106,514,301.03</td>\n",
       "    </tr>\n",
       "    <tr>\n",
       "      <th>6007</th>\n",
       "      <td>Принцесса и дракон</td>\n",
       "      <td>114003018</td>\n",
       "      <td>2018-08-23 12:00:00+00:00</td>\n",
       "      <td>Анимационный</td>\n",
       "      <td>ООО \"ЛИЦЕНЗИОННЫЕ БРЕНДЫ\"</td>\n",
       "      <td>Россия</td>\n",
       "      <td>М.Нефедова</td>\n",
       "      <td>ООО \"ЛИЦЕНЗИОННЫЕ БРЕНДЫ\"</td>\n",
       "      <td>«6+» - для детей старше 6 лет</td>\n",
       "      <td>40,000,000.00</td>\n",
       "      <td>40,000,000.00</td>\n",
       "      <td>0.00</td>\n",
       "      <td>Фонд кино</td>\n",
       "      <td>5.20</td>\n",
       "      <td>мультфильм,фэнтези,детский</td>\n",
       "      <td>83,366,328.66</td>\n",
       "    </tr>\n",
       "    <tr>\n",
       "      <th>6322</th>\n",
       "      <td>Баба Яга</td>\n",
       "      <td>114006518</td>\n",
       "      <td>2018-11-08 12:00:00+00:00</td>\n",
       "      <td>Анимационный</td>\n",
       "      <td>ООО \"Арт Пикчерс Студия\"</td>\n",
       "      <td>Россия</td>\n",
       "      <td>В.Саков</td>\n",
       "      <td>ООО \"Арт Пикчерс Студия\", ООО \"КРИЭЙТИВ АНИМЭЙ...</td>\n",
       "      <td>«6+» - для детей старше 6 лет</td>\n",
       "      <td>0.00</td>\n",
       "      <td>138,969,465.00</td>\n",
       "      <td>0.00</td>\n",
       "      <td>Фонд кино</td>\n",
       "      <td>NaN</td>\n",
       "      <td>NaN</td>\n",
       "      <td>1,334,699.40</td>\n",
       "    </tr>\n",
       "    <tr>\n",
       "      <th>6822</th>\n",
       "      <td>Большое путешествие</td>\n",
       "      <td>114002419</td>\n",
       "      <td>2019-04-20 12:00:00+00:00</td>\n",
       "      <td>Анимационный</td>\n",
       "      <td>ООО \"ЛИЦЕНЗИОННЫЕ БРЕНДЫ\"</td>\n",
       "      <td>Россия</td>\n",
       "      <td>Н.Лопато, В.Ровенский</td>\n",
       "      <td>ООО \"ЛИЦЕНЗИОННЫЕ БРЕНДЫ\"</td>\n",
       "      <td>«6+» - для детей старше 6 лет</td>\n",
       "      <td>60,000,000.00</td>\n",
       "      <td>120,000,000.00</td>\n",
       "      <td>0.00</td>\n",
       "      <td>Фонд кино</td>\n",
       "      <td>6.20</td>\n",
       "      <td>мультфильм,комедия,приключения</td>\n",
       "      <td>147,606,826.51</td>\n",
       "    </tr>\n",
       "  </tbody>\n",
       "</table>\n",
       "</div>"
      ],
      "text/plain": [
       "                       title  pu_number           show_start_date  \\\n",
       "2052                     14+  111023614 2014-12-19 12:00:00+00:00   \n",
       "2057               Дуxless 2  111000415 2015-01-26 12:00:00+00:00   \n",
       "2471             Воин (2015)  111017315 2015-09-28 12:00:00+00:00   \n",
       "2531                 Бармен.  111009615 2015-05-26 12:00:00+00:00   \n",
       "2614     Савва. Сердце воина  114001715 2015-07-21 12:00:00+00:00   \n",
       "2683          Тряпичный союз  111010215 2015-06-08 12:00:00+00:00   \n",
       "2787      Срочно выйду замуж  111017115 2015-09-30 12:00:00+00:00   \n",
       "2873       Помню - не помню!  111004916 2016-03-01 12:00:00+00:00   \n",
       "3046  Любовь с ограничениями  111008216 2016-04-29 12:00:00+00:00   \n",
       "3564       Притяжение (2016)  111018116 2016-12-16 12:00:00+00:00   \n",
       "3674                Чудо-юдо  114001817 2017-06-27 12:00:00+00:00   \n",
       "3738                    Мифы  111004317 2017-06-07 12:00:00+00:00   \n",
       "5672                   Селфи  111012117 2018-02-01 12:00:00+00:00   \n",
       "5805              Два хвоста  114001018 2018-05-31 12:00:00+00:00   \n",
       "6007      Принцесса и дракон  114003018 2018-08-23 12:00:00+00:00   \n",
       "6322                Баба Яга  114006518 2018-11-08 12:00:00+00:00   \n",
       "6822     Большое путешествие  114002419 2019-04-20 12:00:00+00:00   \n",
       "\n",
       "                type                                        film_studio  \\\n",
       "2052  Художественный                         ООО Киностудия  \"Сентябрь\"   \n",
       "2057  Художественный  ООО \"Киностудия \"Слово\", ООО \"Арт Пикчерс Студия\"   \n",
       "2471  Художественный   ООО \"Форпост Продакшн\", ООО \"Арт Пикчерс Студия\"   \n",
       "2531  Художественный          АО \"ВайТ Медиа\", ООО \"Арт Пикчерс Студия\"   \n",
       "2614    Анимационный   ООО \"Глюкоза Продакшн\", ООО \"Арт Пикчерс Студия\"   \n",
       "2683  Художественный                      ООО \"Кинокомпания \"КОКТЕБЕЛЬ\"   \n",
       "2787  Художественный          АО \"ВайТ Медиа\", ООО \"Арт Пикчерс Студия\"   \n",
       "2873  Художественный                                    ООО \"КиноФирма\"   \n",
       "3046  Художественный          АО \"ВайТ Медиа\", ООО \"Арт Пикчерс Студия\"   \n",
       "3564  Художественный      ООО \"Водород 2011\",  ООО \"Арт Пикчерс Студия\"   \n",
       "3674    Анимационный                                    ООО \"КиноФирма\"   \n",
       "3738  Художественный           ООО \"ХАЙПФИЛМ\", ООО \"Арт Пикчерс Студия\"   \n",
       "5672  Художественный  ООО \"Киностудия \"Слово\", ООО \"Арт Пикчерс Студия\"   \n",
       "5805    Анимационный                          ООО \"ЛИЦЕНЗИОННЫЕ БРЕНДЫ\"   \n",
       "6007    Анимационный                          ООО \"ЛИЦЕНЗИОННЫЕ БРЕНДЫ\"   \n",
       "6322    Анимационный                           ООО \"Арт Пикчерс Студия\"   \n",
       "6822    Анимационный                          ООО \"ЛИЦЕНЗИОННЫЕ БРЕНДЫ\"   \n",
       "\n",
       "     production_country                        director  \\\n",
       "2052             Россия                        А.Зайцев   \n",
       "2057             Россия                      Р.Прыгунов   \n",
       "2471             Россия                     А.Андрианов   \n",
       "2531             Россия                    Д.Штурманова   \n",
       "2614             Россия                        М.Фадеев   \n",
       "2683             Россия                     М.Местецкий   \n",
       "2787             Россия                       С Чекалов   \n",
       "2873             Россия                     В.Ровенский   \n",
       "3046             Россия                         Д.Тюрин   \n",
       "3564             Россия                     Ф.Бондарчук   \n",
       "3674             Россия                       А.Лукичев   \n",
       "3738             Россия                    А.Молочников   \n",
       "5672             Россия                      Н.Хомерики   \n",
       "5805             Россия  В.Ровенский, Н.Лопато, В.Азеев   \n",
       "6007             Россия                      М.Нефедова   \n",
       "6322             Россия                         В.Саков   \n",
       "6822             Россия           Н.Лопато, В.Ровенский   \n",
       "\n",
       "                                               producer  \\\n",
       "2052                                О.Гранина, А.Зайцев   \n",
       "2057                 П.Ануров, Ф.Бондарчук, Д.Рудовский   \n",
       "2471                           ООО \"Арт Пикчерс Студия\"   \n",
       "2531                                        Т.Вайнштейн   \n",
       "2614                                         А.Чистяков   \n",
       "2683                              Р.Борисевич, А.Кушаев   \n",
       "2787              Ф.Бондарчук, Т.Вайнштейн, Д.Рудовский   \n",
       "2873                                    ООО \"КиноФирма\"   \n",
       "3046              Ф.Бондарчук, Т.Вайнштейн, Д.Рудовский   \n",
       "3564                           ООО \"Арт Пикчерс Студия\"   \n",
       "3674                                    ООО \"КиноФирма\"   \n",
       "3738  Ф.Бондарчук, Д.Рудовский, И.Стюарт, М.Османн, ...   \n",
       "5672                 П.Ануров, Ф.Бондарчук, Д.Рудовский   \n",
       "5805                          ООО \"ЛИЦЕНЗИОННЫЕ БРЕНДЫ\"   \n",
       "6007                          ООО \"ЛИЦЕНЗИОННЫЕ БРЕНДЫ\"   \n",
       "6322  ООО \"Арт Пикчерс Студия\", ООО \"КРИЭЙТИВ АНИМЭЙ...   \n",
       "6822                          ООО \"ЛИЦЕНЗИОННЫЕ БРЕНДЫ\"   \n",
       "\n",
       "                      age_restriction  refundable_support  \\\n",
       "2052  «16+» - для детей старше 16 лет                0.00   \n",
       "2057  «16+» - для детей старше 16 лет                0.00   \n",
       "2471  «12+» - для детей старше 12 лет       10,000,000.00   \n",
       "2531  «16+» - для детей старше 16 лет       20,000,000.00   \n",
       "2614    «6+» - для детей старше 6 лет       60,000,000.00   \n",
       "2683      «18+» - запрещено для детей                0.00   \n",
       "2787  «16+» - для детей старше 16 лет                0.00   \n",
       "2873  «12+» - для детей старше 12 лет                0.00   \n",
       "3046  «16+» - для детей старше 16 лет       19,000,000.00   \n",
       "3564  «12+» - для детей старше 12 лет                0.00   \n",
       "3674    «6+» - для детей старше 6 лет       20,000,000.00   \n",
       "3738  «16+» - для детей старше 16 лет       25,000,000.00   \n",
       "5672  «16+» - для детей старше 16 лет       20,000,000.00   \n",
       "5805    «6+» - для детей старше 6 лет       10,000,000.00   \n",
       "6007    «6+» - для детей старше 6 лет       40,000,000.00   \n",
       "6322    «6+» - для детей старше 6 лет                0.00   \n",
       "6822    «6+» - для детей старше 6 лет       60,000,000.00   \n",
       "\n",
       "      nonrefundable_support  budget                  financing_source  \\\n",
       "2052          23,000,000.00    0.00  Министерство культуры, Фонд кино   \n",
       "2057          75,000,000.00    0.00                         Фонд кино   \n",
       "2471          70,000,000.00    0.00                         Фонд кино   \n",
       "2531                   0.00    0.00                         Фонд кино   \n",
       "2614         100,000,000.00    0.00                         Фонд кино   \n",
       "2683          59,000,000.00    0.00                         Фонд кино   \n",
       "2787          35,000,000.00    0.00                         Фонд кино   \n",
       "2873           6,000,000.00    0.00             Министерство культуры   \n",
       "3046          51,000,000.00    0.00                         Фонд кино   \n",
       "3564         250,000,000.00    0.00                         Фонд кино   \n",
       "3674          20,000,000.00    0.00                         Фонд кино   \n",
       "3738          20,000,000.00    0.00                         Фонд кино   \n",
       "5672          40,000,000.00    0.00                         Фонд кино   \n",
       "5805          60,000,000.00    0.00                         Фонд кино   \n",
       "6007          40,000,000.00    0.00                         Фонд кино   \n",
       "6322         138,969,465.00    0.00                         Фонд кино   \n",
       "6822         120,000,000.00    0.00                         Фонд кино   \n",
       "\n",
       "      ratings                          genres       box_office  \n",
       "2052     6.60                       мелодрама    10,234,016.10  \n",
       "2057     6.60                           драма   446,163,511.00  \n",
       "2471     7.80           боевик,драма,криминал   196,572,438.40  \n",
       "2531     6.20                 комедия,фэнтези    67,418,974.80  \n",
       "2614     4.60  мультфильм,приключения,фэнтези   184,487,551.40  \n",
       "2683     6.30                   комедия,драма     1,957,738.51  \n",
       "2787     5.10               комедия,мелодрама    72,937,783.20  \n",
       "2873     4.30                         комедия    15,362,931.43  \n",
       "3046     6.30               комедия,мелодрама    70,299,052.00  \n",
       "3564     5.60                      фантастика 1,038,321,489.00  \n",
       "3674     5.20     мультфильм,фэнтези,семейный    55,108,014.76  \n",
       "3738     4.80                         комедия    50,451,949.00  \n",
       "5672     5.80                   триллер,драма   225,196,400.03  \n",
       "5805     5.00              мультфильм,детский   106,514,301.03  \n",
       "6007     5.20      мультфильм,фэнтези,детский    83,366,328.66  \n",
       "6322      NaN                             NaN     1,334,699.40  \n",
       "6822     6.20  мультфильм,комедия,приключения   147,606,826.51  "
      ]
     },
     "execution_count": 65,
     "metadata": {},
     "output_type": "execute_result"
    }
   ],
   "source": [
    "data.query('nonrefundable_support + refundable_support > budget')"
   ]
  },
  {
   "cell_type": "code",
   "execution_count": 66,
   "metadata": {
    "scrolled": true
   },
   "outputs": [
    {
     "data": {
      "text/html": [
       "<div>\n",
       "<style scoped>\n",
       "    .dataframe tbody tr th:only-of-type {\n",
       "        vertical-align: middle;\n",
       "    }\n",
       "\n",
       "    .dataframe tbody tr th {\n",
       "        vertical-align: top;\n",
       "    }\n",
       "\n",
       "    .dataframe thead th {\n",
       "        text-align: right;\n",
       "    }\n",
       "</style>\n",
       "<table border=\"1\" class=\"dataframe\">\n",
       "  <thead>\n",
       "    <tr style=\"text-align: right;\">\n",
       "      <th></th>\n",
       "      <th>title</th>\n",
       "      <th>pu_number</th>\n",
       "      <th>show_start_date</th>\n",
       "      <th>type</th>\n",
       "      <th>film_studio</th>\n",
       "      <th>production_country</th>\n",
       "      <th>director</th>\n",
       "      <th>producer</th>\n",
       "      <th>age_restriction</th>\n",
       "      <th>refundable_support</th>\n",
       "      <th>nonrefundable_support</th>\n",
       "      <th>budget</th>\n",
       "      <th>financing_source</th>\n",
       "      <th>ratings</th>\n",
       "      <th>genres</th>\n",
       "      <th>box_office</th>\n",
       "    </tr>\n",
       "  </thead>\n",
       "  <tbody>\n",
       "  </tbody>\n",
       "</table>\n",
       "</div>"
      ],
      "text/plain": [
       "Empty DataFrame\n",
       "Columns: [title, pu_number, show_start_date, type, film_studio, production_country, director, producer, age_restriction, refundable_support, nonrefundable_support, budget, financing_source, ratings, genres, box_office]\n",
       "Index: []"
      ]
     },
     "execution_count": 66,
     "metadata": {},
     "output_type": "execute_result"
    }
   ],
   "source": [
    "data.query('nonrefundable_support + refundable_support > budget and budget >0')"
   ]
  },
  {
   "cell_type": "markdown",
   "metadata": {},
   "source": [
    "Есть строки с нулевым бюджетом и ненулевой поддержкой"
   ]
  },
  {
   "cell_type": "code",
   "execution_count": 67,
   "metadata": {},
   "outputs": [],
   "source": [
    "def fillbudget(qwe):\n",
    "    if qwe['budget'] == 0:\n",
    "        return qwe['refundable_support'] + qwe['nonrefundable_support']\n",
    "    return qwe['budget']\n",
    "\n",
    "data['budget'] = data.apply(fillbudget, axis = 1)\n",
    "#Заполняет нулевые значения бюджета суммой поддержок"
   ]
  },
  {
   "cell_type": "code",
   "execution_count": 68,
   "metadata": {
    "scrolled": true
   },
   "outputs": [
    {
     "data": {
      "text/html": [
       "<div>\n",
       "<style scoped>\n",
       "    .dataframe tbody tr th:only-of-type {\n",
       "        vertical-align: middle;\n",
       "    }\n",
       "\n",
       "    .dataframe tbody tr th {\n",
       "        vertical-align: top;\n",
       "    }\n",
       "\n",
       "    .dataframe thead th {\n",
       "        text-align: right;\n",
       "    }\n",
       "</style>\n",
       "<table border=\"1\" class=\"dataframe\">\n",
       "  <thead>\n",
       "    <tr style=\"text-align: right;\">\n",
       "      <th></th>\n",
       "      <th>title</th>\n",
       "      <th>pu_number</th>\n",
       "      <th>show_start_date</th>\n",
       "      <th>type</th>\n",
       "      <th>film_studio</th>\n",
       "      <th>production_country</th>\n",
       "      <th>director</th>\n",
       "      <th>producer</th>\n",
       "      <th>age_restriction</th>\n",
       "      <th>refundable_support</th>\n",
       "      <th>nonrefundable_support</th>\n",
       "      <th>budget</th>\n",
       "      <th>financing_source</th>\n",
       "      <th>ratings</th>\n",
       "      <th>genres</th>\n",
       "      <th>box_office</th>\n",
       "    </tr>\n",
       "  </thead>\n",
       "  <tbody>\n",
       "  </tbody>\n",
       "</table>\n",
       "</div>"
      ],
      "text/plain": [
       "Empty DataFrame\n",
       "Columns: [title, pu_number, show_start_date, type, film_studio, production_country, director, producer, age_restriction, refundable_support, nonrefundable_support, budget, financing_source, ratings, genres, box_office]\n",
       "Index: []"
      ]
     },
     "execution_count": 68,
     "metadata": {},
     "output_type": "execute_result"
    }
   ],
   "source": [
    "data.query('nonrefundable_support + refundable_support > budget')"
   ]
  },
  {
   "cell_type": "code",
   "execution_count": 69,
   "metadata": {
    "scrolled": true
   },
   "outputs": [
    {
     "data": {
      "text/html": [
       "<div>\n",
       "<style scoped>\n",
       "    .dataframe tbody tr th:only-of-type {\n",
       "        vertical-align: middle;\n",
       "    }\n",
       "\n",
       "    .dataframe tbody tr th {\n",
       "        vertical-align: top;\n",
       "    }\n",
       "\n",
       "    .dataframe thead th {\n",
       "        text-align: right;\n",
       "    }\n",
       "</style>\n",
       "<table border=\"1\" class=\"dataframe\">\n",
       "  <thead>\n",
       "    <tr style=\"text-align: right;\">\n",
       "      <th></th>\n",
       "      <th>title</th>\n",
       "      <th>pu_number</th>\n",
       "      <th>show_start_date</th>\n",
       "      <th>type</th>\n",
       "      <th>film_studio</th>\n",
       "      <th>production_country</th>\n",
       "      <th>director</th>\n",
       "      <th>producer</th>\n",
       "      <th>age_restriction</th>\n",
       "      <th>refundable_support</th>\n",
       "      <th>nonrefundable_support</th>\n",
       "      <th>budget</th>\n",
       "      <th>financing_source</th>\n",
       "      <th>ratings</th>\n",
       "      <th>genres</th>\n",
       "      <th>box_office</th>\n",
       "    </tr>\n",
       "  </thead>\n",
       "  <tbody>\n",
       "  </tbody>\n",
       "</table>\n",
       "</div>"
      ],
      "text/plain": [
       "Empty DataFrame\n",
       "Columns: [title, pu_number, show_start_date, type, film_studio, production_country, director, producer, age_restriction, refundable_support, nonrefundable_support, budget, financing_source, ratings, genres, box_office]\n",
       "Index: []"
      ]
     },
     "execution_count": 69,
     "metadata": {},
     "output_type": "execute_result"
    }
   ],
   "source": [
    "data.query('ratings > 10 or ratings < 0')"
   ]
  },
  {
   "cell_type": "code",
   "execution_count": 70,
   "metadata": {},
   "outputs": [
    {
     "data": {
      "text/html": [
       "<div>\n",
       "<style scoped>\n",
       "    .dataframe tbody tr th:only-of-type {\n",
       "        vertical-align: middle;\n",
       "    }\n",
       "\n",
       "    .dataframe tbody tr th {\n",
       "        vertical-align: top;\n",
       "    }\n",
       "\n",
       "    .dataframe thead th {\n",
       "        text-align: right;\n",
       "    }\n",
       "</style>\n",
       "<table border=\"1\" class=\"dataframe\">\n",
       "  <thead>\n",
       "    <tr style=\"text-align: right;\">\n",
       "      <th></th>\n",
       "      <th>title</th>\n",
       "      <th>pu_number</th>\n",
       "      <th>show_start_date</th>\n",
       "      <th>type</th>\n",
       "      <th>film_studio</th>\n",
       "      <th>production_country</th>\n",
       "      <th>director</th>\n",
       "      <th>producer</th>\n",
       "      <th>age_restriction</th>\n",
       "      <th>refundable_support</th>\n",
       "      <th>nonrefundable_support</th>\n",
       "      <th>budget</th>\n",
       "      <th>financing_source</th>\n",
       "      <th>ratings</th>\n",
       "      <th>genres</th>\n",
       "      <th>box_office</th>\n",
       "    </tr>\n",
       "  </thead>\n",
       "  <tbody>\n",
       "  </tbody>\n",
       "</table>\n",
       "</div>"
      ],
      "text/plain": [
       "Empty DataFrame\n",
       "Columns: [title, pu_number, show_start_date, type, film_studio, production_country, director, producer, age_restriction, refundable_support, nonrefundable_support, budget, financing_source, ratings, genres, box_office]\n",
       "Index: []"
      ]
     },
     "execution_count": 70,
     "metadata": {},
     "output_type": "execute_result"
    }
   ],
   "source": [
    "data.query('box_office < 0')"
   ]
  },
  {
   "cell_type": "code",
   "execution_count": 71,
   "metadata": {},
   "outputs": [
    {
     "data": {
      "text/plain": [
       "3073568690.79"
      ]
     },
     "execution_count": 71,
     "metadata": {},
     "output_type": "execute_result"
    }
   ],
   "source": [
    "data['box_office'].max()"
   ]
  },
  {
   "cell_type": "code",
   "execution_count": 72,
   "metadata": {
    "scrolled": true
   },
   "outputs": [
    {
     "data": {
      "text/html": [
       "<div>\n",
       "<style scoped>\n",
       "    .dataframe tbody tr th:only-of-type {\n",
       "        vertical-align: middle;\n",
       "    }\n",
       "\n",
       "    .dataframe tbody tr th {\n",
       "        vertical-align: top;\n",
       "    }\n",
       "\n",
       "    .dataframe thead th {\n",
       "        text-align: right;\n",
       "    }\n",
       "</style>\n",
       "<table border=\"1\" class=\"dataframe\">\n",
       "  <thead>\n",
       "    <tr style=\"text-align: right;\">\n",
       "      <th></th>\n",
       "      <th>title</th>\n",
       "      <th>pu_number</th>\n",
       "      <th>show_start_date</th>\n",
       "      <th>type</th>\n",
       "      <th>film_studio</th>\n",
       "      <th>production_country</th>\n",
       "      <th>director</th>\n",
       "      <th>producer</th>\n",
       "      <th>age_restriction</th>\n",
       "      <th>refundable_support</th>\n",
       "      <th>nonrefundable_support</th>\n",
       "      <th>budget</th>\n",
       "      <th>financing_source</th>\n",
       "      <th>ratings</th>\n",
       "      <th>genres</th>\n",
       "      <th>box_office</th>\n",
       "    </tr>\n",
       "  </thead>\n",
       "  <tbody>\n",
       "    <tr>\n",
       "      <th>7455</th>\n",
       "      <td>Холоп</td>\n",
       "      <td>111021719</td>\n",
       "      <td>2019-12-19 12:00:00+00:00</td>\n",
       "      <td>Художественный</td>\n",
       "      <td>ООО \"МЕМ-МЕДИА\" по заказу АО \"ВБД Груп\"</td>\n",
       "      <td>Россия</td>\n",
       "      <td>К.Шипенко</td>\n",
       "      <td>Э.Илоян, Д.Жалинский, В.Дусмухаметов, Т.Бадзие...</td>\n",
       "      <td>«12+» - для детей старше 12 лет</td>\n",
       "      <td>25,000,000.00</td>\n",
       "      <td>35,000,000.00</td>\n",
       "      <td>160,000,000.00</td>\n",
       "      <td>Фонд кино</td>\n",
       "      <td>6.80</td>\n",
       "      <td>комедия</td>\n",
       "      <td>3,073,568,690.79</td>\n",
       "    </tr>\n",
       "    <tr>\n",
       "      <th>5652</th>\n",
       "      <td>Движение вверх</td>\n",
       "      <td>111011817</td>\n",
       "      <td>2017-12-21 12:00:00+00:00</td>\n",
       "      <td>Художественный</td>\n",
       "      <td>ООО \"Студия \"ТРИТЭ\" Никиты Михалкова\"</td>\n",
       "      <td>Россия</td>\n",
       "      <td>А.Мегердичев</td>\n",
       "      <td>Л.Верещагин, А.Златопольский, Н.Михалков, ООО ...</td>\n",
       "      <td>«6+» - для детей старше 6 лет</td>\n",
       "      <td>0.00</td>\n",
       "      <td>400,000,000.00</td>\n",
       "      <td>590,192,191.00</td>\n",
       "      <td>Фонд кино</td>\n",
       "      <td>7.50</td>\n",
       "      <td>спорт,драма</td>\n",
       "      <td>2,779,686,144.00</td>\n",
       "    </tr>\n",
       "    <tr>\n",
       "      <th>6819</th>\n",
       "      <td>Мстители: Финал</td>\n",
       "      <td>121005519</td>\n",
       "      <td>2019-04-29 12:00:00+00:00</td>\n",
       "      <td>Художественный</td>\n",
       "      <td>Марвел Студиос</td>\n",
       "      <td>США</td>\n",
       "      <td>Джо Руссо, Энтони Руссо</td>\n",
       "      <td>Кевин Фейги</td>\n",
       "      <td>«16+» - для детей старше 16 лет</td>\n",
       "      <td>NaN</td>\n",
       "      <td>NaN</td>\n",
       "      <td>NaN</td>\n",
       "      <td>NaN</td>\n",
       "      <td>7.60</td>\n",
       "      <td>фантастика,боевик,драма</td>\n",
       "      <td>2,576,613,776.83</td>\n",
       "    </tr>\n",
       "    <tr>\n",
       "      <th>6548</th>\n",
       "      <td>Т-34</td>\n",
       "      <td>111024918</td>\n",
       "      <td>2018-12-21 12:00:00+00:00</td>\n",
       "      <td>Художественный</td>\n",
       "      <td>ООО \"Кинокомпания МАРС-фильм\" по заказу ООО \"М...</td>\n",
       "      <td>Россия</td>\n",
       "      <td>А.Сидоров</td>\n",
       "      <td>А.Златопольский, Р.Дишдишян, Л.Блаватник, Н.Яр...</td>\n",
       "      <td>«12+» - для детей старше 12 лет</td>\n",
       "      <td>60,000,000.00</td>\n",
       "      <td>120,000,000.00</td>\n",
       "      <td>563,784,717.00</td>\n",
       "      <td>Фонд кино</td>\n",
       "      <td>6.50</td>\n",
       "      <td>драма,военный,боевик</td>\n",
       "      <td>2,271,754,004.52</td>\n",
       "    </tr>\n",
       "    <tr>\n",
       "      <th>3487</th>\n",
       "      <td>Пираты Карибского моря: Мертвецы не рассказыва...</td>\n",
       "      <td>121009217</td>\n",
       "      <td>2017-05-17 12:00:00+00:00</td>\n",
       "      <td>Художественный</td>\n",
       "      <td>Джерри Брукхаймер Филмз, Уолт Дисней Пикчерз, ...</td>\n",
       "      <td>США</td>\n",
       "      <td>Йоаким Реннинг, Эспен Сандберг</td>\n",
       "      <td>Джерри Брукхаймер</td>\n",
       "      <td>«16+» - для детей старше 16 лет</td>\n",
       "      <td>NaN</td>\n",
       "      <td>NaN</td>\n",
       "      <td>NaN</td>\n",
       "      <td>NaN</td>\n",
       "      <td>6.60</td>\n",
       "      <td>фэнтези,боевик,комедия</td>\n",
       "      <td>2,118,396,119.00</td>\n",
       "    </tr>\n",
       "    <tr>\n",
       "      <th>...</th>\n",
       "      <td>...</td>\n",
       "      <td>...</td>\n",
       "      <td>...</td>\n",
       "      <td>...</td>\n",
       "      <td>...</td>\n",
       "      <td>...</td>\n",
       "      <td>...</td>\n",
       "      <td>...</td>\n",
       "      <td>...</td>\n",
       "      <td>...</td>\n",
       "      <td>...</td>\n",
       "      <td>...</td>\n",
       "      <td>...</td>\n",
       "      <td>...</td>\n",
       "      <td>...</td>\n",
       "      <td>...</td>\n",
       "    </tr>\n",
       "    <tr>\n",
       "      <th>7480</th>\n",
       "      <td>Сад художника: Американский импрессионизм</td>\n",
       "      <td>126008019</td>\n",
       "      <td>2019-12-23 12:00:00+00:00</td>\n",
       "      <td>Прочие</td>\n",
       "      <td>Севен Артс Продакшнз</td>\n",
       "      <td>Великобритания</td>\n",
       "      <td>Фил Грабски</td>\n",
       "      <td>Фил Грабски</td>\n",
       "      <td>«12+» - для детей старше 12 лет</td>\n",
       "      <td>NaN</td>\n",
       "      <td>NaN</td>\n",
       "      <td>NaN</td>\n",
       "      <td>NaN</td>\n",
       "      <td>NaN</td>\n",
       "      <td>NaN</td>\n",
       "      <td>NaN</td>\n",
       "    </tr>\n",
       "    <tr>\n",
       "      <th>7481</th>\n",
       "      <td>Звериная ярость</td>\n",
       "      <td>121037819</td>\n",
       "      <td>2019-12-24 12:00:00+00:00</td>\n",
       "      <td>Художественный</td>\n",
       "      <td>Дэниел Гродник Продакшнз, Вандерфилм Медиа Кор...</td>\n",
       "      <td>США</td>\n",
       "      <td>Ник Пауэлл</td>\n",
       "      <td>Джефф Боулер, Дэниэл Гродник, Луильо Руис, Брэ...</td>\n",
       "      <td>«16+» - для детей старше 16 лет</td>\n",
       "      <td>NaN</td>\n",
       "      <td>NaN</td>\n",
       "      <td>NaN</td>\n",
       "      <td>NaN</td>\n",
       "      <td>5.40</td>\n",
       "      <td>боевик,триллер</td>\n",
       "      <td>NaN</td>\n",
       "    </tr>\n",
       "    <tr>\n",
       "      <th>7482</th>\n",
       "      <td>Щенячий патруль: Скорей спешим на помощь!</td>\n",
       "      <td>124010819</td>\n",
       "      <td>2019-12-28 12:00:00+00:00</td>\n",
       "      <td>Художественный</td>\n",
       "      <td>Никелодеон Анимейшн Студиос, Спин Мастер</td>\n",
       "      <td>США, Канада</td>\n",
       "      <td>Чарльз Е.Бастьен</td>\n",
       "      <td>Дженнифер Додж</td>\n",
       "      <td>«0+» - для любой зрительской аудитории</td>\n",
       "      <td>NaN</td>\n",
       "      <td>NaN</td>\n",
       "      <td>NaN</td>\n",
       "      <td>NaN</td>\n",
       "      <td>NaN</td>\n",
       "      <td>NaN</td>\n",
       "      <td>NaN</td>\n",
       "    </tr>\n",
       "    <tr>\n",
       "      <th>7483</th>\n",
       "      <td>Машины песенки. Серия \"Испанские мотивы\"</td>\n",
       "      <td>124010619</td>\n",
       "      <td>2019-12-30 12:00:00+00:00</td>\n",
       "      <td>Анимационный</td>\n",
       "      <td>Анимаккорд Лтд., ООО Студия \"АНИМАККОРД\"</td>\n",
       "      <td>Кипр,Россия</td>\n",
       "      <td>А.Беляев</td>\n",
       "      <td>Д.Ловейко</td>\n",
       "      <td>«0+» - для любой зрительской аудитории</td>\n",
       "      <td>NaN</td>\n",
       "      <td>NaN</td>\n",
       "      <td>NaN</td>\n",
       "      <td>NaN</td>\n",
       "      <td>NaN</td>\n",
       "      <td>NaN</td>\n",
       "      <td>NaN</td>\n",
       "    </tr>\n",
       "    <tr>\n",
       "      <th>7484</th>\n",
       "      <td>Машины песенки. Серия \"Когда цветут кактусы\"</td>\n",
       "      <td>124010719</td>\n",
       "      <td>2019-12-30 12:00:00+00:00</td>\n",
       "      <td>Анимационный</td>\n",
       "      <td>Анимаккорд Лтд., ООО Студия \"АНИМАККОРД\"</td>\n",
       "      <td>Кипр,Россия</td>\n",
       "      <td>И.Трусов</td>\n",
       "      <td>Д.Ловейко</td>\n",
       "      <td>«0+» - для любой зрительской аудитории</td>\n",
       "      <td>NaN</td>\n",
       "      <td>NaN</td>\n",
       "      <td>NaN</td>\n",
       "      <td>NaN</td>\n",
       "      <td>6.30</td>\n",
       "      <td>комедия,вестерн</td>\n",
       "      <td>NaN</td>\n",
       "    </tr>\n",
       "  </tbody>\n",
       "</table>\n",
       "<p>7458 rows × 16 columns</p>\n",
       "</div>"
      ],
      "text/plain": [
       "                                                  title  pu_number  \\\n",
       "7455                                              Холоп  111021719   \n",
       "5652                                     Движение вверх  111011817   \n",
       "6819                                    Мстители: Финал  121005519   \n",
       "6548                                               Т-34  111024918   \n",
       "3487  Пираты Карибского моря: Мертвецы не рассказыва...  121009217   \n",
       "...                                                 ...        ...   \n",
       "7480          Сад художника: Американский импрессионизм  126008019   \n",
       "7481                                    Звериная ярость  121037819   \n",
       "7482          Щенячий патруль: Скорей спешим на помощь!  124010819   \n",
       "7483           Машины песенки. Серия \"Испанские мотивы\"  124010619   \n",
       "7484       Машины песенки. Серия \"Когда цветут кактусы\"  124010719   \n",
       "\n",
       "               show_start_date            type  \\\n",
       "7455 2019-12-19 12:00:00+00:00  Художественный   \n",
       "5652 2017-12-21 12:00:00+00:00  Художественный   \n",
       "6819 2019-04-29 12:00:00+00:00  Художественный   \n",
       "6548 2018-12-21 12:00:00+00:00  Художественный   \n",
       "3487 2017-05-17 12:00:00+00:00  Художественный   \n",
       "...                        ...             ...   \n",
       "7480 2019-12-23 12:00:00+00:00          Прочие   \n",
       "7481 2019-12-24 12:00:00+00:00  Художественный   \n",
       "7482 2019-12-28 12:00:00+00:00  Художественный   \n",
       "7483 2019-12-30 12:00:00+00:00    Анимационный   \n",
       "7484 2019-12-30 12:00:00+00:00    Анимационный   \n",
       "\n",
       "                                            film_studio production_country  \\\n",
       "7455            ООО \"МЕМ-МЕДИА\" по заказу АО \"ВБД Груп\"             Россия   \n",
       "5652              ООО \"Студия \"ТРИТЭ\" Никиты Михалкова\"             Россия   \n",
       "6819                                     Марвел Студиос                США   \n",
       "6548  ООО \"Кинокомпания МАРС-фильм\" по заказу ООО \"М...             Россия   \n",
       "3487  Джерри Брукхаймер Филмз, Уолт Дисней Пикчерз, ...                США   \n",
       "...                                                 ...                ...   \n",
       "7480                               Севен Артс Продакшнз     Великобритания   \n",
       "7481  Дэниел Гродник Продакшнз, Вандерфилм Медиа Кор...                США   \n",
       "7482           Никелодеон Анимейшн Студиос, Спин Мастер        США, Канада   \n",
       "7483           Анимаккорд Лтд., ООО Студия \"АНИМАККОРД\"        Кипр,Россия   \n",
       "7484           Анимаккорд Лтд., ООО Студия \"АНИМАККОРД\"        Кипр,Россия   \n",
       "\n",
       "                            director  \\\n",
       "7455                       К.Шипенко   \n",
       "5652                    А.Мегердичев   \n",
       "6819         Джо Руссо, Энтони Руссо   \n",
       "6548                       А.Сидоров   \n",
       "3487  Йоаким Реннинг, Эспен Сандберг   \n",
       "...                              ...   \n",
       "7480                     Фил Грабски   \n",
       "7481                      Ник Пауэлл   \n",
       "7482                Чарльз Е.Бастьен   \n",
       "7483                        А.Беляев   \n",
       "7484                        И.Трусов   \n",
       "\n",
       "                                               producer  \\\n",
       "7455  Э.Илоян, Д.Жалинский, В.Дусмухаметов, Т.Бадзие...   \n",
       "5652  Л.Верещагин, А.Златопольский, Н.Михалков, ООО ...   \n",
       "6819                                        Кевин Фейги   \n",
       "6548  А.Златопольский, Р.Дишдишян, Л.Блаватник, Н.Яр...   \n",
       "3487                                  Джерри Брукхаймер   \n",
       "...                                                 ...   \n",
       "7480                                        Фил Грабски   \n",
       "7481  Джефф Боулер, Дэниэл Гродник, Луильо Руис, Брэ...   \n",
       "7482                                     Дженнифер Додж   \n",
       "7483                                          Д.Ловейко   \n",
       "7484                                          Д.Ловейко   \n",
       "\n",
       "                             age_restriction  refundable_support  \\\n",
       "7455         «12+» - для детей старше 12 лет       25,000,000.00   \n",
       "5652           «6+» - для детей старше 6 лет                0.00   \n",
       "6819         «16+» - для детей старше 16 лет                 NaN   \n",
       "6548         «12+» - для детей старше 12 лет       60,000,000.00   \n",
       "3487         «16+» - для детей старше 16 лет                 NaN   \n",
       "...                                      ...                 ...   \n",
       "7480         «12+» - для детей старше 12 лет                 NaN   \n",
       "7481         «16+» - для детей старше 16 лет                 NaN   \n",
       "7482  «0+» - для любой зрительской аудитории                 NaN   \n",
       "7483  «0+» - для любой зрительской аудитории                 NaN   \n",
       "7484  «0+» - для любой зрительской аудитории                 NaN   \n",
       "\n",
       "      nonrefundable_support         budget financing_source  ratings  \\\n",
       "7455          35,000,000.00 160,000,000.00        Фонд кино     6.80   \n",
       "5652         400,000,000.00 590,192,191.00        Фонд кино     7.50   \n",
       "6819                    NaN            NaN              NaN     7.60   \n",
       "6548         120,000,000.00 563,784,717.00        Фонд кино     6.50   \n",
       "3487                    NaN            NaN              NaN     6.60   \n",
       "...                     ...            ...              ...      ...   \n",
       "7480                    NaN            NaN              NaN      NaN   \n",
       "7481                    NaN            NaN              NaN     5.40   \n",
       "7482                    NaN            NaN              NaN      NaN   \n",
       "7483                    NaN            NaN              NaN      NaN   \n",
       "7484                    NaN            NaN              NaN     6.30   \n",
       "\n",
       "                       genres       box_office  \n",
       "7455                  комедия 3,073,568,690.79  \n",
       "5652              спорт,драма 2,779,686,144.00  \n",
       "6819  фантастика,боевик,драма 2,576,613,776.83  \n",
       "6548     драма,военный,боевик 2,271,754,004.52  \n",
       "3487   фэнтези,боевик,комедия 2,118,396,119.00  \n",
       "...                       ...              ...  \n",
       "7480                      NaN              NaN  \n",
       "7481           боевик,триллер              NaN  \n",
       "7482                      NaN              NaN  \n",
       "7483                      NaN              NaN  \n",
       "7484          комедия,вестерн              NaN  \n",
       "\n",
       "[7458 rows x 16 columns]"
      ]
     },
     "execution_count": 72,
     "metadata": {},
     "output_type": "execute_result"
    }
   ],
   "source": [
    "data.sort_values(by = 'box_office',ascending = False)"
   ]
  },
  {
   "cell_type": "code",
   "execution_count": 73,
   "metadata": {},
   "outputs": [
    {
     "data": {
      "text/html": [
       "<div>\n",
       "<style scoped>\n",
       "    .dataframe tbody tr th:only-of-type {\n",
       "        vertical-align: middle;\n",
       "    }\n",
       "\n",
       "    .dataframe tbody tr th {\n",
       "        vertical-align: top;\n",
       "    }\n",
       "\n",
       "    .dataframe thead th {\n",
       "        text-align: right;\n",
       "    }\n",
       "</style>\n",
       "<table border=\"1\" class=\"dataframe\">\n",
       "  <thead>\n",
       "    <tr style=\"text-align: right;\">\n",
       "      <th></th>\n",
       "      <th>title</th>\n",
       "      <th>pu_number</th>\n",
       "      <th>show_start_date</th>\n",
       "      <th>type</th>\n",
       "      <th>film_studio</th>\n",
       "      <th>production_country</th>\n",
       "      <th>director</th>\n",
       "      <th>producer</th>\n",
       "      <th>age_restriction</th>\n",
       "      <th>refundable_support</th>\n",
       "      <th>nonrefundable_support</th>\n",
       "      <th>budget</th>\n",
       "      <th>financing_source</th>\n",
       "      <th>ratings</th>\n",
       "      <th>genres</th>\n",
       "      <th>box_office</th>\n",
       "    </tr>\n",
       "  </thead>\n",
       "  <tbody>\n",
       "    <tr>\n",
       "      <th>1126</th>\n",
       "      <td>Марафон</td>\n",
       "      <td>111006712</td>\n",
       "      <td>2012-12-18 12:00:00+00:00</td>\n",
       "      <td>Художественный</td>\n",
       "      <td>ООО \"Синема Арт Студио\"</td>\n",
       "      <td>Россия</td>\n",
       "      <td>К.Оганесян</td>\n",
       "      <td>К.Оганесян</td>\n",
       "      <td>«16+» - для детей старше 16 лет</td>\n",
       "      <td>NaN</td>\n",
       "      <td>NaN</td>\n",
       "      <td>NaN</td>\n",
       "      <td>NaN</td>\n",
       "      <td>5.50</td>\n",
       "      <td>комедия,мелодрама</td>\n",
       "      <td>0.00</td>\n",
       "    </tr>\n",
       "    <tr>\n",
       "      <th>1387</th>\n",
       "      <td>Экзамен для двоих /По роману Джин Ханфф Корелитц/</td>\n",
       "      <td>121014613</td>\n",
       "      <td>2013-06-11 12:00:00+00:00</td>\n",
       "      <td>Художественный</td>\n",
       "      <td>Депф оф Филд</td>\n",
       "      <td>США</td>\n",
       "      <td>Пол Вайц</td>\n",
       "      <td>Пол Вайц, Керри Кохански, Эндрю Миано</td>\n",
       "      <td>«12+» - для детей старше 12 лет</td>\n",
       "      <td>NaN</td>\n",
       "      <td>NaN</td>\n",
       "      <td>NaN</td>\n",
       "      <td>NaN</td>\n",
       "      <td>5.80</td>\n",
       "      <td>мелодрама,комедия,драма</td>\n",
       "      <td>0.00</td>\n",
       "    </tr>\n",
       "    <tr>\n",
       "      <th>237</th>\n",
       "      <td>Подранки</td>\n",
       "      <td>111007613</td>\n",
       "      <td>2013-10-18 12:00:00+00:00</td>\n",
       "      <td>Художественный</td>\n",
       "      <td>Киностудия \"Мосфильм\"</td>\n",
       "      <td>СССР</td>\n",
       "      <td>Н.Губенко</td>\n",
       "      <td>NaN</td>\n",
       "      <td>«12+» - для детей старше 12 лет</td>\n",
       "      <td>NaN</td>\n",
       "      <td>NaN</td>\n",
       "      <td>NaN</td>\n",
       "      <td>NaN</td>\n",
       "      <td>8.20</td>\n",
       "      <td>драма</td>\n",
       "      <td>0.00</td>\n",
       "    </tr>\n",
       "    <tr>\n",
       "      <th>2125</th>\n",
       "      <td>Поездка к матери</td>\n",
       "      <td>111002015</td>\n",
       "      <td>2015-03-02 12:00:00+00:00</td>\n",
       "      <td>Художественный</td>\n",
       "      <td>ЗАО \"Киностудия \"М\"-Фильм\"</td>\n",
       "      <td>Россия</td>\n",
       "      <td>М.Косырев-Нестеров</td>\n",
       "      <td>М.Косырев-Нестеров</td>\n",
       "      <td>«16+» - для детей старше 16 лет</td>\n",
       "      <td>NaN</td>\n",
       "      <td>NaN</td>\n",
       "      <td>NaN</td>\n",
       "      <td>NaN</td>\n",
       "      <td>9.10</td>\n",
       "      <td>драма,семейный</td>\n",
       "      <td>0.00</td>\n",
       "    </tr>\n",
       "    <tr>\n",
       "      <th>2036</th>\n",
       "      <td>Кино про Алексеева</td>\n",
       "      <td>111007114</td>\n",
       "      <td>2014-07-18 12:00:00+00:00</td>\n",
       "      <td>Художественный</td>\n",
       "      <td>ООО \"Кинокомпания \"Новые люди\"</td>\n",
       "      <td>Россия</td>\n",
       "      <td>М.Сегал</td>\n",
       "      <td>Н.Мокрицкая</td>\n",
       "      <td>«12+» - для детей старше 12 лет</td>\n",
       "      <td>NaN</td>\n",
       "      <td>NaN</td>\n",
       "      <td>NaN</td>\n",
       "      <td>NaN</td>\n",
       "      <td>6.90</td>\n",
       "      <td>драма</td>\n",
       "      <td>0.00</td>\n",
       "    </tr>\n",
       "    <tr>\n",
       "      <th>...</th>\n",
       "      <td>...</td>\n",
       "      <td>...</td>\n",
       "      <td>...</td>\n",
       "      <td>...</td>\n",
       "      <td>...</td>\n",
       "      <td>...</td>\n",
       "      <td>...</td>\n",
       "      <td>...</td>\n",
       "      <td>...</td>\n",
       "      <td>...</td>\n",
       "      <td>...</td>\n",
       "      <td>...</td>\n",
       "      <td>...</td>\n",
       "      <td>...</td>\n",
       "      <td>...</td>\n",
       "      <td>...</td>\n",
       "    </tr>\n",
       "    <tr>\n",
       "      <th>7480</th>\n",
       "      <td>Сад художника: Американский импрессионизм</td>\n",
       "      <td>126008019</td>\n",
       "      <td>2019-12-23 12:00:00+00:00</td>\n",
       "      <td>Прочие</td>\n",
       "      <td>Севен Артс Продакшнз</td>\n",
       "      <td>Великобритания</td>\n",
       "      <td>Фил Грабски</td>\n",
       "      <td>Фил Грабски</td>\n",
       "      <td>«12+» - для детей старше 12 лет</td>\n",
       "      <td>NaN</td>\n",
       "      <td>NaN</td>\n",
       "      <td>NaN</td>\n",
       "      <td>NaN</td>\n",
       "      <td>NaN</td>\n",
       "      <td>NaN</td>\n",
       "      <td>NaN</td>\n",
       "    </tr>\n",
       "    <tr>\n",
       "      <th>7481</th>\n",
       "      <td>Звериная ярость</td>\n",
       "      <td>121037819</td>\n",
       "      <td>2019-12-24 12:00:00+00:00</td>\n",
       "      <td>Художественный</td>\n",
       "      <td>Дэниел Гродник Продакшнз, Вандерфилм Медиа Кор...</td>\n",
       "      <td>США</td>\n",
       "      <td>Ник Пауэлл</td>\n",
       "      <td>Джефф Боулер, Дэниэл Гродник, Луильо Руис, Брэ...</td>\n",
       "      <td>«16+» - для детей старше 16 лет</td>\n",
       "      <td>NaN</td>\n",
       "      <td>NaN</td>\n",
       "      <td>NaN</td>\n",
       "      <td>NaN</td>\n",
       "      <td>5.40</td>\n",
       "      <td>боевик,триллер</td>\n",
       "      <td>NaN</td>\n",
       "    </tr>\n",
       "    <tr>\n",
       "      <th>7482</th>\n",
       "      <td>Щенячий патруль: Скорей спешим на помощь!</td>\n",
       "      <td>124010819</td>\n",
       "      <td>2019-12-28 12:00:00+00:00</td>\n",
       "      <td>Художественный</td>\n",
       "      <td>Никелодеон Анимейшн Студиос, Спин Мастер</td>\n",
       "      <td>США, Канада</td>\n",
       "      <td>Чарльз Е.Бастьен</td>\n",
       "      <td>Дженнифер Додж</td>\n",
       "      <td>«0+» - для любой зрительской аудитории</td>\n",
       "      <td>NaN</td>\n",
       "      <td>NaN</td>\n",
       "      <td>NaN</td>\n",
       "      <td>NaN</td>\n",
       "      <td>NaN</td>\n",
       "      <td>NaN</td>\n",
       "      <td>NaN</td>\n",
       "    </tr>\n",
       "    <tr>\n",
       "      <th>7483</th>\n",
       "      <td>Машины песенки. Серия \"Испанские мотивы\"</td>\n",
       "      <td>124010619</td>\n",
       "      <td>2019-12-30 12:00:00+00:00</td>\n",
       "      <td>Анимационный</td>\n",
       "      <td>Анимаккорд Лтд., ООО Студия \"АНИМАККОРД\"</td>\n",
       "      <td>Кипр,Россия</td>\n",
       "      <td>А.Беляев</td>\n",
       "      <td>Д.Ловейко</td>\n",
       "      <td>«0+» - для любой зрительской аудитории</td>\n",
       "      <td>NaN</td>\n",
       "      <td>NaN</td>\n",
       "      <td>NaN</td>\n",
       "      <td>NaN</td>\n",
       "      <td>NaN</td>\n",
       "      <td>NaN</td>\n",
       "      <td>NaN</td>\n",
       "    </tr>\n",
       "    <tr>\n",
       "      <th>7484</th>\n",
       "      <td>Машины песенки. Серия \"Когда цветут кактусы\"</td>\n",
       "      <td>124010719</td>\n",
       "      <td>2019-12-30 12:00:00+00:00</td>\n",
       "      <td>Анимационный</td>\n",
       "      <td>Анимаккорд Лтд., ООО Студия \"АНИМАККОРД\"</td>\n",
       "      <td>Кипр,Россия</td>\n",
       "      <td>И.Трусов</td>\n",
       "      <td>Д.Ловейко</td>\n",
       "      <td>«0+» - для любой зрительской аудитории</td>\n",
       "      <td>NaN</td>\n",
       "      <td>NaN</td>\n",
       "      <td>NaN</td>\n",
       "      <td>NaN</td>\n",
       "      <td>6.30</td>\n",
       "      <td>комедия,вестерн</td>\n",
       "      <td>NaN</td>\n",
       "    </tr>\n",
       "  </tbody>\n",
       "</table>\n",
       "<p>7458 rows × 16 columns</p>\n",
       "</div>"
      ],
      "text/plain": [
       "                                                  title  pu_number  \\\n",
       "1126                                            Марафон  111006712   \n",
       "1387  Экзамен для двоих /По роману Джин Ханфф Корелитц/  121014613   \n",
       "237                                            Подранки  111007613   \n",
       "2125                                   Поездка к матери  111002015   \n",
       "2036                                 Кино про Алексеева  111007114   \n",
       "...                                                 ...        ...   \n",
       "7480          Сад художника: Американский импрессионизм  126008019   \n",
       "7481                                    Звериная ярость  121037819   \n",
       "7482          Щенячий патруль: Скорей спешим на помощь!  124010819   \n",
       "7483           Машины песенки. Серия \"Испанские мотивы\"  124010619   \n",
       "7484       Машины песенки. Серия \"Когда цветут кактусы\"  124010719   \n",
       "\n",
       "               show_start_date            type  \\\n",
       "1126 2012-12-18 12:00:00+00:00  Художественный   \n",
       "1387 2013-06-11 12:00:00+00:00  Художественный   \n",
       "237  2013-10-18 12:00:00+00:00  Художественный   \n",
       "2125 2015-03-02 12:00:00+00:00  Художественный   \n",
       "2036 2014-07-18 12:00:00+00:00  Художественный   \n",
       "...                        ...             ...   \n",
       "7480 2019-12-23 12:00:00+00:00          Прочие   \n",
       "7481 2019-12-24 12:00:00+00:00  Художественный   \n",
       "7482 2019-12-28 12:00:00+00:00  Художественный   \n",
       "7483 2019-12-30 12:00:00+00:00    Анимационный   \n",
       "7484 2019-12-30 12:00:00+00:00    Анимационный   \n",
       "\n",
       "                                            film_studio production_country  \\\n",
       "1126                            ООО \"Синема Арт Студио\"             Россия   \n",
       "1387                                       Депф оф Филд                США   \n",
       "237                               Киностудия \"Мосфильм\"               СССР   \n",
       "2125                         ЗАО \"Киностудия \"М\"-Фильм\"             Россия   \n",
       "2036                     ООО \"Кинокомпания \"Новые люди\"             Россия   \n",
       "...                                                 ...                ...   \n",
       "7480                               Севен Артс Продакшнз     Великобритания   \n",
       "7481  Дэниел Гродник Продакшнз, Вандерфилм Медиа Кор...                США   \n",
       "7482           Никелодеон Анимейшн Студиос, Спин Мастер        США, Канада   \n",
       "7483           Анимаккорд Лтд., ООО Студия \"АНИМАККОРД\"        Кипр,Россия   \n",
       "7484           Анимаккорд Лтд., ООО Студия \"АНИМАККОРД\"        Кипр,Россия   \n",
       "\n",
       "                director                                           producer  \\\n",
       "1126          К.Оганесян                                         К.Оганесян   \n",
       "1387            Пол Вайц              Пол Вайц, Керри Кохански, Эндрю Миано   \n",
       "237            Н.Губенко                                                NaN   \n",
       "2125  М.Косырев-Нестеров                                 М.Косырев-Нестеров   \n",
       "2036             М.Сегал                                        Н.Мокрицкая   \n",
       "...                  ...                                                ...   \n",
       "7480         Фил Грабски                                        Фил Грабски   \n",
       "7481          Ник Пауэлл  Джефф Боулер, Дэниэл Гродник, Луильо Руис, Брэ...   \n",
       "7482    Чарльз Е.Бастьен                                     Дженнифер Додж   \n",
       "7483            А.Беляев                                          Д.Ловейко   \n",
       "7484            И.Трусов                                          Д.Ловейко   \n",
       "\n",
       "                             age_restriction  refundable_support  \\\n",
       "1126         «16+» - для детей старше 16 лет                 NaN   \n",
       "1387         «12+» - для детей старше 12 лет                 NaN   \n",
       "237          «12+» - для детей старше 12 лет                 NaN   \n",
       "2125         «16+» - для детей старше 16 лет                 NaN   \n",
       "2036         «12+» - для детей старше 12 лет                 NaN   \n",
       "...                                      ...                 ...   \n",
       "7480         «12+» - для детей старше 12 лет                 NaN   \n",
       "7481         «16+» - для детей старше 16 лет                 NaN   \n",
       "7482  «0+» - для любой зрительской аудитории                 NaN   \n",
       "7483  «0+» - для любой зрительской аудитории                 NaN   \n",
       "7484  «0+» - для любой зрительской аудитории                 NaN   \n",
       "\n",
       "      nonrefundable_support  budget financing_source  ratings  \\\n",
       "1126                    NaN     NaN              NaN     5.50   \n",
       "1387                    NaN     NaN              NaN     5.80   \n",
       "237                     NaN     NaN              NaN     8.20   \n",
       "2125                    NaN     NaN              NaN     9.10   \n",
       "2036                    NaN     NaN              NaN     6.90   \n",
       "...                     ...     ...              ...      ...   \n",
       "7480                    NaN     NaN              NaN      NaN   \n",
       "7481                    NaN     NaN              NaN     5.40   \n",
       "7482                    NaN     NaN              NaN      NaN   \n",
       "7483                    NaN     NaN              NaN      NaN   \n",
       "7484                    NaN     NaN              NaN     6.30   \n",
       "\n",
       "                       genres  box_office  \n",
       "1126        комедия,мелодрама        0.00  \n",
       "1387  мелодрама,комедия,драма        0.00  \n",
       "237                     драма        0.00  \n",
       "2125           драма,семейный        0.00  \n",
       "2036                    драма        0.00  \n",
       "...                       ...         ...  \n",
       "7480                      NaN         NaN  \n",
       "7481           боевик,триллер         NaN  \n",
       "7482                      NaN         NaN  \n",
       "7483                      NaN         NaN  \n",
       "7484          комедия,вестерн         NaN  \n",
       "\n",
       "[7458 rows x 16 columns]"
      ]
     },
     "execution_count": 73,
     "metadata": {},
     "output_type": "execute_result"
    }
   ],
   "source": [
    "data.sort_values(by = 'box_office')"
   ]
  },
  {
   "cell_type": "markdown",
   "metadata": {},
   "source": [
    "столбец ratings был обработан на шаге 1.2 \n",
    "\n",
    "В столбце box_office странных значений нет, нули можно объяснить тем что фильм не показывался в кино"
   ]
  },
  {
   "cell_type": "markdown",
   "metadata": {
    "id": "Eu6oWp2CgFyS"
   },
   "source": [
    "#### Шаг 2.6. Добавление новых столбцов\n",
    "\n",
    "\n",
    "\n"
   ]
  },
  {
   "cell_type": "code",
   "execution_count": 74,
   "metadata": {
    "id": "LSbRZKbMgFyU"
   },
   "outputs": [],
   "source": [
    "data['year'] = pd.DatetimeIndex(data['show_start_date']).year"
   ]
  },
  {
   "cell_type": "code",
   "execution_count": 75,
   "metadata": {},
   "outputs": [],
   "source": [
    "def get_0_value(abv):\n",
    "    return abv[0]\n",
    "data['lead_director'] = data['director'].astype(str).str.split(',')\n",
    "data['lead_director'] = data['lead_director'].apply(get_0_value)\n",
    "data['genre_main'] = data['genres'].astype(str).str.split(',')\n",
    "data['genre_main'] = data['genre_main'].apply(get_0_value)"
   ]
  },
  {
   "cell_type": "markdown",
   "metadata": {},
   "source": [
    "Добавил два столбца: с главным режисерем и жанром фильма "
   ]
  },
  {
   "cell_type": "code",
   "execution_count": 76,
   "metadata": {},
   "outputs": [],
   "source": [
    "data['percent_from_all'] = (data['refundable_support'] + data['nonrefundable_support']) / data['budget'] "
   ]
  },
  {
   "cell_type": "code",
   "execution_count": 77,
   "metadata": {
    "scrolled": true
   },
   "outputs": [
    {
     "data": {
      "text/html": [
       "<div>\n",
       "<style scoped>\n",
       "    .dataframe tbody tr th:only-of-type {\n",
       "        vertical-align: middle;\n",
       "    }\n",
       "\n",
       "    .dataframe tbody tr th {\n",
       "        vertical-align: top;\n",
       "    }\n",
       "\n",
       "    .dataframe thead th {\n",
       "        text-align: right;\n",
       "    }\n",
       "</style>\n",
       "<table border=\"1\" class=\"dataframe\">\n",
       "  <thead>\n",
       "    <tr style=\"text-align: right;\">\n",
       "      <th></th>\n",
       "      <th>title</th>\n",
       "      <th>pu_number</th>\n",
       "      <th>show_start_date</th>\n",
       "      <th>type</th>\n",
       "      <th>film_studio</th>\n",
       "      <th>production_country</th>\n",
       "      <th>director</th>\n",
       "      <th>producer</th>\n",
       "      <th>age_restriction</th>\n",
       "      <th>refundable_support</th>\n",
       "      <th>nonrefundable_support</th>\n",
       "      <th>budget</th>\n",
       "      <th>financing_source</th>\n",
       "      <th>ratings</th>\n",
       "      <th>genres</th>\n",
       "      <th>box_office</th>\n",
       "      <th>year</th>\n",
       "      <th>lead_director</th>\n",
       "      <th>genre_main</th>\n",
       "      <th>percent_from_all</th>\n",
       "    </tr>\n",
       "  </thead>\n",
       "  <tbody>\n",
       "    <tr>\n",
       "      <th>0</th>\n",
       "      <td>Открытый простор</td>\n",
       "      <td>221048915</td>\n",
       "      <td>2015-11-27 12:00:00+00:00</td>\n",
       "      <td>Художественный</td>\n",
       "      <td>Тачстоун Пикчерз, Кобальт Пикчерз, Бикон Пикче...</td>\n",
       "      <td>США</td>\n",
       "      <td>Кевин Костнер</td>\n",
       "      <td>Дэвид Валдес, Кевин Костнер, Джейк Эбертс</td>\n",
       "      <td>«18+» - запрещено для детей</td>\n",
       "      <td>NaN</td>\n",
       "      <td>NaN</td>\n",
       "      <td>NaN</td>\n",
       "      <td>NaN</td>\n",
       "      <td>7.20</td>\n",
       "      <td>боевик,драма,мелодрама</td>\n",
       "      <td>NaN</td>\n",
       "      <td>2015</td>\n",
       "      <td>Кевин Костнер</td>\n",
       "      <td>боевик</td>\n",
       "      <td>NaN</td>\n",
       "    </tr>\n",
       "    <tr>\n",
       "      <th>1</th>\n",
       "      <td>Особо важное задание</td>\n",
       "      <td>111013716</td>\n",
       "      <td>2016-09-13 12:00:00+00:00</td>\n",
       "      <td>Художественный</td>\n",
       "      <td>Киностудия \"Мосфильм\"</td>\n",
       "      <td>СССР</td>\n",
       "      <td>Е.Матвеев</td>\n",
       "      <td>NaN</td>\n",
       "      <td>«6+» - для детей старше 6 лет</td>\n",
       "      <td>NaN</td>\n",
       "      <td>NaN</td>\n",
       "      <td>NaN</td>\n",
       "      <td>NaN</td>\n",
       "      <td>6.60</td>\n",
       "      <td>драма,военный</td>\n",
       "      <td>NaN</td>\n",
       "      <td>2016</td>\n",
       "      <td>Е.Матвеев</td>\n",
       "      <td>драма</td>\n",
       "      <td>NaN</td>\n",
       "    </tr>\n",
       "    <tr>\n",
       "      <th>2</th>\n",
       "      <td>Особо опасен</td>\n",
       "      <td>221038416</td>\n",
       "      <td>2016-10-10 12:00:00+00:00</td>\n",
       "      <td>Художественный</td>\n",
       "      <td>Юниверсал Пикчерз, Кикстарт Продакшнз, Марк Пл...</td>\n",
       "      <td>США</td>\n",
       "      <td>Тимур Бекмамбетов</td>\n",
       "      <td>Джим Лемли, Джейсон Нетер, Марк Е.Платт, Яйн Смит</td>\n",
       "      <td>«18+» - запрещено для детей</td>\n",
       "      <td>NaN</td>\n",
       "      <td>NaN</td>\n",
       "      <td>NaN</td>\n",
       "      <td>NaN</td>\n",
       "      <td>6.80</td>\n",
       "      <td>фантастика,боевик,триллер</td>\n",
       "      <td>NaN</td>\n",
       "      <td>2016</td>\n",
       "      <td>Тимур Бекмамбетов</td>\n",
       "      <td>фантастика</td>\n",
       "      <td>NaN</td>\n",
       "    </tr>\n",
       "    <tr>\n",
       "      <th>3</th>\n",
       "      <td>Особо опасен</td>\n",
       "      <td>221026916</td>\n",
       "      <td>2016-06-10 12:00:00+00:00</td>\n",
       "      <td>Художественный</td>\n",
       "      <td>Юниверсал Пикчерз, Кикстарт Продакшнз, Марк Пл...</td>\n",
       "      <td>США</td>\n",
       "      <td>Тимур Бекмамбетов</td>\n",
       "      <td>Джим Лемли, Джейсон Нетер, Марк Е.Платт, Яйн Смит</td>\n",
       "      <td>«18+» - запрещено для детей</td>\n",
       "      <td>NaN</td>\n",
       "      <td>NaN</td>\n",
       "      <td>NaN</td>\n",
       "      <td>NaN</td>\n",
       "      <td>6.80</td>\n",
       "      <td>фантастика,боевик,триллер</td>\n",
       "      <td>NaN</td>\n",
       "      <td>2016</td>\n",
       "      <td>Тимур Бекмамбетов</td>\n",
       "      <td>фантастика</td>\n",
       "      <td>NaN</td>\n",
       "    </tr>\n",
       "    <tr>\n",
       "      <th>4</th>\n",
       "      <td>Особо опасен</td>\n",
       "      <td>221030815</td>\n",
       "      <td>2015-07-29 12:00:00+00:00</td>\n",
       "      <td>Художественный</td>\n",
       "      <td>Юниверсал Пикчерз, Кикстарт Продакшнз, Марк Пл...</td>\n",
       "      <td>США</td>\n",
       "      <td>Тимур Бекмамбетов</td>\n",
       "      <td>Джим Лемли, Джейсон Нетер, Марк Е.Платт, Яйн Смит</td>\n",
       "      <td>«18+» - запрещено для детей</td>\n",
       "      <td>NaN</td>\n",
       "      <td>NaN</td>\n",
       "      <td>NaN</td>\n",
       "      <td>NaN</td>\n",
       "      <td>6.80</td>\n",
       "      <td>фантастика,боевик,триллер</td>\n",
       "      <td>NaN</td>\n",
       "      <td>2015</td>\n",
       "      <td>Тимур Бекмамбетов</td>\n",
       "      <td>фантастика</td>\n",
       "      <td>NaN</td>\n",
       "    </tr>\n",
       "  </tbody>\n",
       "</table>\n",
       "</div>"
      ],
      "text/plain": [
       "                  title  pu_number           show_start_date            type  \\\n",
       "0      Открытый простор  221048915 2015-11-27 12:00:00+00:00  Художественный   \n",
       "1  Особо важное задание  111013716 2016-09-13 12:00:00+00:00  Художественный   \n",
       "2          Особо опасен  221038416 2016-10-10 12:00:00+00:00  Художественный   \n",
       "3          Особо опасен  221026916 2016-06-10 12:00:00+00:00  Художественный   \n",
       "4          Особо опасен  221030815 2015-07-29 12:00:00+00:00  Художественный   \n",
       "\n",
       "                                         film_studio production_country  \\\n",
       "0  Тачстоун Пикчерз, Кобальт Пикчерз, Бикон Пикче...                США   \n",
       "1                              Киностудия \"Мосфильм\"               СССР   \n",
       "2  Юниверсал Пикчерз, Кикстарт Продакшнз, Марк Пл...                США   \n",
       "3  Юниверсал Пикчерз, Кикстарт Продакшнз, Марк Пл...                США   \n",
       "4  Юниверсал Пикчерз, Кикстарт Продакшнз, Марк Пл...                США   \n",
       "\n",
       "            director                                           producer  \\\n",
       "0      Кевин Костнер          Дэвид Валдес, Кевин Костнер, Джейк Эбертс   \n",
       "1          Е.Матвеев                                                NaN   \n",
       "2  Тимур Бекмамбетов  Джим Лемли, Джейсон Нетер, Марк Е.Платт, Яйн Смит   \n",
       "3  Тимур Бекмамбетов  Джим Лемли, Джейсон Нетер, Марк Е.Платт, Яйн Смит   \n",
       "4  Тимур Бекмамбетов  Джим Лемли, Джейсон Нетер, Марк Е.Платт, Яйн Смит   \n",
       "\n",
       "                 age_restriction  refundable_support  nonrefundable_support  \\\n",
       "0    «18+» - запрещено для детей                 NaN                    NaN   \n",
       "1  «6+» - для детей старше 6 лет                 NaN                    NaN   \n",
       "2    «18+» - запрещено для детей                 NaN                    NaN   \n",
       "3    «18+» - запрещено для детей                 NaN                    NaN   \n",
       "4    «18+» - запрещено для детей                 NaN                    NaN   \n",
       "\n",
       "   budget financing_source  ratings                     genres  box_office  \\\n",
       "0     NaN              NaN     7.20     боевик,драма,мелодрама         NaN   \n",
       "1     NaN              NaN     6.60              драма,военный         NaN   \n",
       "2     NaN              NaN     6.80  фантастика,боевик,триллер         NaN   \n",
       "3     NaN              NaN     6.80  фантастика,боевик,триллер         NaN   \n",
       "4     NaN              NaN     6.80  фантастика,боевик,триллер         NaN   \n",
       "\n",
       "   year      lead_director  genre_main  percent_from_all  \n",
       "0  2015      Кевин Костнер      боевик               NaN  \n",
       "1  2016          Е.Матвеев       драма               NaN  \n",
       "2  2016  Тимур Бекмамбетов  фантастика               NaN  \n",
       "3  2016  Тимур Бекмамбетов  фантастика               NaN  \n",
       "4  2015  Тимур Бекмамбетов  фантастика               NaN  "
      ]
     },
     "execution_count": 77,
     "metadata": {},
     "output_type": "execute_result"
    }
   ],
   "source": [
    "data.head()"
   ]
  },
  {
   "cell_type": "markdown",
   "metadata": {},
   "source": [
    "В ходе этого шага были удалены строки с пропущенными значениями из столбцов film_studio, production_country, director.\n",
    "\n",
    "Обработанны неявные дубликаты в столбцах genres, production_country\n",
    "\n",
    "Так же удаленны ненужные пробелы в столбцах genres, production_country, type."
   ]
  },
  {
   "cell_type": "code",
   "execution_count": 78,
   "metadata": {},
   "outputs": [
    {
     "name": "stdout",
     "output_type": "stream",
     "text": [
      "7485 7458 0.36\n"
     ]
    }
   ],
   "source": [
    "a, b = len(temp), len(data)\n",
    "print(len(temp), len(data), round((a-b)/a*100, 2))"
   ]
  },
  {
   "cell_type": "markdown",
   "metadata": {
    "id": "6t4EukPLgFyV"
   },
   "source": [
    "### Шаг 3. Исследовательский анализ данных\n"
   ]
  },
  {
   "cell_type": "code",
   "execution_count": 79,
   "metadata": {},
   "outputs": [
    {
     "name": "stdout",
     "output_type": "stream",
     "text": [
      "0.42303566639849827\n"
     ]
    }
   ],
   "source": [
    "print(data.box_office.count() / len(data))\n",
    "#процент записей у которых есть информация о выходе в прокат"
   ]
  },
  {
   "cell_type": "code",
   "execution_count": 80,
   "metadata": {},
   "outputs": [
    {
     "name": "stdout",
     "output_type": "stream",
     "text": [
      "   year  count  percent\n",
      "\n",
      "0  2010    105    10.71\n",
      "\n",
      "1  2011    109    17.58\n",
      "\n",
      "2  2012    127    21.45\n",
      "\n",
      "3  2013    184    29.25\n",
      "\n",
      "4  2014    279    34.66\n",
      "\n",
      "5  2015    465    65.96\n",
      "\n",
      "6  2016    525    64.26\n",
      "\n",
      "7  2017    357    70.69\n",
      "\n",
      "8  2018    474    53.92\n",
      "\n",
      "9  2019    530    57.24\n"
     ]
    }
   ],
   "source": [
    "data['temp'] = 1 * (data['box_office'].isna() == False) * 100\n",
    "year_box = data.groupby('year')['box_office'].count().reset_index()\n",
    "year_box_percent = data.groupby('year')['temp'].mean().reset_index()\n",
    "year_box_all = year_box.merge(year_box_percent, on = 'year')\n",
    "year_box_all.rename(columns={'box_office' : 'count', 'temp':'percent'}, inplace=True)\n",
    "print(year_box_all)\n",
    "#Кол-во и процент фильмов(от общего числа по году) с информацией о прокате по годам"
   ]
  },
  {
   "cell_type": "code",
   "execution_count": 81,
   "metadata": {},
   "outputs": [
    {
     "data": {
      "image/png": "[encoded data removed]",
      "text/plain": [
       "<Figure size 432x288 with 1 Axes>"
      ]
     },
     "metadata": {
      "needs_background": "light"
     },
     "output_type": "display_data"
    }
   ],
   "source": [
    "plott = data.groupby('year')['title'].count().plot(kind = 'bar',title = \"Кол-во фильмов по годам\")\n",
    "plott.set_xlabel(\"Гож\")\n",
    "plott.set_ylabel(\"Кол-во фильмов\")\n",
    "plt.show()"
   ]
  },
  {
   "cell_type": "code",
   "execution_count": 82,
   "metadata": {},
   "outputs": [
    {
     "data": {
      "image/png": "[encoded data removed]",
      "text/plain": [
       "<Figure size 432x288 with 1 Axes>"
      ]
     },
     "metadata": {
      "needs_background": "light"
     },
     "output_type": "display_data"
    }
   ],
   "source": [
    "year_box_all.plot.bar(x = 'year', y = 'count')\n",
    "plt.title('Кол-во фильмов выпущенных в прокат по годам')\n",
    "plt.xlabel('Год')\n",
    "plt.ylabel('Кол-во фильмов выпущенных в прокат')\n",
    "plt.show()"
   ]
  },
  {
   "cell_type": "markdown",
   "metadata": {},
   "source": [
    "Больше всего выпущенно фильмов в прокат было в 2016 и 2019 год, меньше всего в 2010 и 2011\n",
    "    \n",
    "Общее кол-во выпущенных фильмов по этим годам примерно равно"
   ]
  },
  {
   "cell_type": "code",
   "execution_count": 84,
   "metadata": {
    "id": "tfEhofYvgFyX"
   },
   "outputs": [
    {
     "name": "stdout",
     "output_type": "stream",
     "text": [
      "   year               sum\n",
      "\n",
      "0  2010      2,428,654.00\n",
      "\n",
      "1  2011     14,102,765.00\n",
      "\n",
      "2  2012      6,911,073.00\n",
      "\n",
      "3  2013     29,799,706.20\n",
      "\n",
      "4  2014  7,444,951,859.20\n",
      "\n",
      "5  2015 39,497,365,196.40\n",
      "\n",
      "6  2016 47,866,105,214.91\n",
      "\n",
      "7  2017 48,563,707,217.51\n",
      "\n",
      "8  2018 49,668,361,909.32\n",
      "\n",
      "9  2019 48,425,708,779.59\n"
     ]
    }
   ],
   "source": [
    "gain = data.groupby('year')['box_office'].agg(['sum']).reset_index()\n",
    "print(gain)"
   ]
  },
  {
   "cell_type": "code",
   "execution_count": 85,
   "metadata": {},
   "outputs": [
    {
     "data": {
      "image/png": "[encoded data removed]",
      "text/plain": [
       "<Figure size 432x288 with 1 Axes>"
      ]
     },
     "metadata": {
      "needs_background": "light"
     },
     "output_type": "display_data"
    }
   ],
   "source": [
    "gain.plot.bar(x = 'year', y = 'sum')\n",
    "plt.title('Кассовые сборы по годам')\n",
    "plt.xlabel('Год')\n",
    "plt.ylabel('Сумма кассовых сборов')\n",
    "plt.show()"
   ]
  },
  {
   "cell_type": "markdown",
   "metadata": {},
   "source": [
    "До 2014 года сборы не учитывались или релаьно были равны нулю,\n",
    "\n",
    "не считая значений до 2014 года минимум находится в 2014 году, а максимум в 2018"
   ]
  },
  {
   "cell_type": "code",
   "execution_count": 86,
   "metadata": {
    "id": "jmp-rgg9gFyY"
   },
   "outputs": [
    {
     "data": {
      "text/html": [
       "<div>\n",
       "<style scoped>\n",
       "    .dataframe tbody tr th:only-of-type {\n",
       "        vertical-align: middle;\n",
       "    }\n",
       "\n",
       "    .dataframe tbody tr th {\n",
       "        vertical-align: top;\n",
       "    }\n",
       "\n",
       "    .dataframe thead th {\n",
       "        text-align: right;\n",
       "    }\n",
       "</style>\n",
       "<table border=\"1\" class=\"dataframe\">\n",
       "  <thead>\n",
       "    <tr style=\"text-align: right;\">\n",
       "      <th></th>\n",
       "      <th>mean</th>\n",
       "      <th>median</th>\n",
       "    </tr>\n",
       "    <tr>\n",
       "      <th>year</th>\n",
       "      <th></th>\n",
       "      <th></th>\n",
       "    </tr>\n",
       "  </thead>\n",
       "  <tbody>\n",
       "    <tr>\n",
       "      <th>2010</th>\n",
       "      <td>23,130.04</td>\n",
       "      <td>1,700.00</td>\n",
       "    </tr>\n",
       "    <tr>\n",
       "      <th>2011</th>\n",
       "      <td>129,383.17</td>\n",
       "      <td>3,000.00</td>\n",
       "    </tr>\n",
       "    <tr>\n",
       "      <th>2012</th>\n",
       "      <td>54,417.90</td>\n",
       "      <td>5,560.00</td>\n",
       "    </tr>\n",
       "    <tr>\n",
       "      <th>2013</th>\n",
       "      <td>161,954.92</td>\n",
       "      <td>3,522.50</td>\n",
       "    </tr>\n",
       "    <tr>\n",
       "      <th>2014</th>\n",
       "      <td>26,684,415.27</td>\n",
       "      <td>18,160.00</td>\n",
       "    </tr>\n",
       "    <tr>\n",
       "      <th>2015</th>\n",
       "      <td>84,940,570.31</td>\n",
       "      <td>4,920,933.00</td>\n",
       "    </tr>\n",
       "    <tr>\n",
       "      <th>2016</th>\n",
       "      <td>91,173,533.74</td>\n",
       "      <td>3,915,041.02</td>\n",
       "    </tr>\n",
       "    <tr>\n",
       "      <th>2017</th>\n",
       "      <td>136,032,793.33</td>\n",
       "      <td>9,968,340.00</td>\n",
       "    </tr>\n",
       "    <tr>\n",
       "      <th>2018</th>\n",
       "      <td>104,785,573.65</td>\n",
       "      <td>8,911,533.94</td>\n",
       "    </tr>\n",
       "    <tr>\n",
       "      <th>2019</th>\n",
       "      <td>91,369,261.85</td>\n",
       "      <td>4,627,798.34</td>\n",
       "    </tr>\n",
       "  </tbody>\n",
       "</table>\n",
       "</div>"
      ],
      "text/plain": [
       "               mean       median\n",
       "year                            \n",
       "2010      23,130.04     1,700.00\n",
       "2011     129,383.17     3,000.00\n",
       "2012      54,417.90     5,560.00\n",
       "2013     161,954.92     3,522.50\n",
       "2014  26,684,415.27    18,160.00\n",
       "2015  84,940,570.31 4,920,933.00\n",
       "2016  91,173,533.74 3,915,041.02\n",
       "2017 136,032,793.33 9,968,340.00\n",
       "2018 104,785,573.65 8,911,533.94\n",
       "2019  91,369,261.85 4,627,798.34"
      ]
     },
     "metadata": {},
     "output_type": "display_data"
    }
   ],
   "source": [
    "meeaan = data.groupby('year')['box_office'].agg(['mean', 'median'])\n",
    "display(meeaan)"
   ]
  },
  {
   "cell_type": "code",
   "execution_count": 88,
   "metadata": {
    "scrolled": true
   },
   "outputs": [
    {
     "data": {
      "image/png": "[encoded data removed]",
      "text/plain": [
       "<Figure size 432x288 with 1 Axes>"
      ]
     },
     "metadata": {
      "needs_background": "light"
     },
     "output_type": "display_data"
    }
   ],
   "source": [
    "meeaan.plot.bar()\n",
    "plt.title('Медиана и среднее значение сборов за каждый год')\n",
    "plt.xlabel('Год')\n",
    "plt.ylabel('Кассовые сборы')\n",
    "plt.show()"
   ]
  },
  {
   "cell_type": "markdown",
   "metadata": {},
   "source": [
    "Из года в год медианна значительно меньше среднего значения, Скорее всего это связано с тем, что производство полнометражных фильмов гораздо дороже чем производство серий из сериалов(они тоже хронятя в фрейме)"
   ]
  },
  {
   "cell_type": "code",
   "execution_count": 89,
   "metadata": {
    "id": "jsSbEqfjgFya"
   },
   "outputs": [
    {
     "name": "stdout",
     "output_type": "stream",
     "text": [
      "age_restriction  «0+» - для любой зрительской аудитории  \\\n",
      "\n",
      "year                                                      \n",
      "\n",
      "2015                                       9,719,348.16   \n",
      "\n",
      "2016                                       3,750,858.04   \n",
      "\n",
      "2017                                      76,532,976.67   \n",
      "\n",
      "2018                                       6,489,800.42   \n",
      "\n",
      "2019                                       5,915,355.61   \n",
      "\n",
      "\n",
      "\n",
      "age_restriction  «12+» - для детей старше 12 лет  \\\n",
      "\n",
      "year                                               \n",
      "\n",
      "2015                              186,521,671.35   \n",
      "\n",
      "2016                              148,834,713.71   \n",
      "\n",
      "2017                              191,498,235.63   \n",
      "\n",
      "2018                              216,170,461.15   \n",
      "\n",
      "2019                              149,178,809.10   \n",
      "\n",
      "\n",
      "\n",
      "age_restriction  «16+» - для детей старше 16 лет  «18+» - запрещено для детей  \\\n",
      "\n",
      "year                                                                            \n",
      "\n",
      "2015                               67,667,386.13                41,153,851.27   \n",
      "\n",
      "2016                               91,563,453.53                44,992,912.71   \n",
      "\n",
      "2017                              154,917,709.92                65,656,432.52   \n",
      "\n",
      "2018                              105,792,322.74                48,939,025.15   \n",
      "\n",
      "2019                               71,648,421.26                55,310,362.31   \n",
      "\n",
      "\n",
      "\n",
      "age_restriction  «6+» - для детей старше 6 лет  \n",
      "\n",
      "year                                            \n",
      "\n",
      "2015                            164,184,893.80  \n",
      "\n",
      "2016                            172,187,800.12  \n",
      "\n",
      "2017                            268,580,936.57  \n",
      "\n",
      "2018                            148,602,567.99  \n",
      "\n",
      "2019                            158,673,440.13  \n"
     ]
    }
   ],
   "source": [
    "temp_year_df = data.query('2014 < year < 2020')\n",
    "\n",
    "age_box_year = temp_year_df.pivot_table(columns = 'age_restriction', values = 'box_office', index = 'year')\n",
    "print(age_box_year)"
   ]
  },
  {
   "cell_type": "code",
   "execution_count": 90,
   "metadata": {},
   "outputs": [
    {
     "data": {
      "image/png": "[encoded data removed]",
      "text/plain": [
       "<Figure size 720x720 with 1 Axes>"
      ]
     },
     "metadata": {
      "needs_background": "light"
     },
     "output_type": "display_data"
    }
   ],
   "source": [
    "age_box_year.plot.bar(figsize = (10,10))\n",
    "plt.title('Самые прибыльные возрастные категрии по годам')\n",
    "plt.xlabel('Год')\n",
    "plt.ylabel('Кассовые сборы')\n",
    "plt.legend(title = 'Ограничения по возрасту')\n",
    "plt.show()"
   ]
  },
  {
   "cell_type": "code",
   "execution_count": 95,
   "metadata": {},
   "outputs": [
    {
     "data": {
      "image/png": "[encoded data removed]",
      "text/plain": [
       "<Figure size 576x576 with 1 Axes>"
      ]
     },
     "metadata": {
      "needs_background": "light"
     },
     "output_type": "display_data"
    }
   ],
   "source": [
    "import seaborn as sns\n",
    "temp = data.copy()\n",
    "# для удобства укоротим названия категорий\n",
    "def get_first_value(s, sep = ','):  # Функция для выбора первого элемента из перечисления\n",
    "    value_lst = s.split(sep=sep)\n",
    "    return value_lst[0]\n",
    "\n",
    "temp['age_restriction'] = temp['age_restriction'].apply(lambda x: get_first_value(x, sep='-'))\n",
    "# сохраним маску для среза по годам\n",
    "year_mask = (temp['year'] >= 2015) & (temp['year'] <= 2019)\n",
    "\n",
    "plt.figure(figsize=(8, 8))\n",
    "(sns.boxplot(data = temp.loc[year_mask], y = 'box_office', x='age_restriction', showfliers=False, showmeans=True)\n",
    "    .set(title = 'Кассовые сборы в зависимости от возрастной категории', \n",
    "         xlabel = 'Возрастные категории', ylabel = 'Кассовый сбор'))\n",
    "plt.text(0, 3.2e8,'Треугольник показывает среднее значение')\n",
    "plt.show()"
   ]
  },
  {
   "cell_type": "markdown",
   "metadata": {},
   "source": [
    "Каждый год самыми популярными возврастными категориями были 12+ и 6+\n",
    "\n",
    "Самой менее популярной категорией является группа фильсов 0+"
   ]
  },
  {
   "cell_type": "markdown",
   "metadata": {
    "id": "l_Kg6Ku4gFya"
   },
   "source": [
    "### Шаг 4. Исследование фильмов, которые получили государственную поддержку"
   ]
  },
  {
   "cell_type": "code",
   "execution_count": 91,
   "metadata": {
    "id": "W9QKpjUdgFyb"
   },
   "outputs": [
    {
     "data": {
      "image/png": "[encoded data removed]",
      "text/plain": [
       "<Figure size 720x720 with 1 Axes>"
      ]
     },
     "metadata": {
      "needs_background": "light"
     },
     "output_type": "display_data"
    }
   ],
   "source": [
    "data_gos_podd = data.query('refundable_support.isna() == False' and 'nonrefundable_support.isna() == False')\n",
    "age_gos_podd_year = data_gos_podd.pivot_table(columns = 'age_restriction', values = 'box_office', index = 'year')\n",
    "age_gos_podd_year.plot.bar(figsize = (10,10))\n",
    "plt.title('Самые прибыльные возрастные категрии по годам с гос. поддержкой')\n",
    "plt.xlabel('Год')\n",
    "plt.ylabel('Кассовые сборы')\n",
    "plt.legend(title = 'Ограничения по возрасту')\n",
    "plt.show()"
   ]
  },
  {
   "cell_type": "markdown",
   "metadata": {},
   "source": [
    "   \n",
    "В 2017 году был хит 6+ с гос поддержкой\n",
    "    \n",
    "Самые неокупаемые фильмы с гос поддержкой - фильмы категории 18+\n",
    "    \n",
    "В 2013 гос поддержку получили фильмы только категории 12+"
   ]
  },
  {
   "cell_type": "code",
   "execution_count": 92,
   "metadata": {},
   "outputs": [
    {
     "data": {
      "image/png": "[encoded data removed]",
      "text/plain": [
       "<Figure size 360x360 with 1 Axes>"
      ]
     },
     "metadata": {
      "needs_background": "light"
     },
     "output_type": "display_data"
    }
   ],
   "source": [
    "data_gos_podd.groupby('year')['ratings'].agg(['mean','median']).plot(style = '-', figsize = (5, 5), grid = True)\n",
    "plt.title('Медианна и среднее значение рейтингов фильмов с гос.поддержкой')\n",
    "plt.xlabel('Год')\n",
    "plt.ylabel('Рейтинг')\n",
    "plt.legend(title = 'Медиана и ср. значение')\n",
    "plt.show()"
   ]
  },
  {
   "cell_type": "code",
   "execution_count": 93,
   "metadata": {},
   "outputs": [
    {
     "data": {
      "image/png": "[encoded data removed]",
      "text/plain": [
       "<Figure size 360x360 with 1 Axes>"
      ]
     },
     "metadata": {
      "needs_background": "light"
     },
     "output_type": "display_data"
    }
   ],
   "source": [
    "data_gos_podd.groupby('year')['ratings'].agg(['max','min']).plot(style = '-', figsize = (5, 5), grid = True)\n",
    "plt.title('Максимальный и минимальный рейтинг фильмов с гос. поддержкой')\n",
    "plt.xlabel('Год')\n",
    "plt.ylabel('Рейтинг')\n",
    "plt.legend(title = 'Максимум и минимум')\n",
    "plt.show()"
   ]
  },
  {
   "cell_type": "markdown",
   "metadata": {},
   "source": [
    "\n",
    "2016 год был самым провальными для фильмов с поддержкой\n"
   ]
  },
  {
   "cell_type": "code",
   "execution_count": 94,
   "metadata": {},
   "outputs": [
    {
     "name": "stderr",
     "output_type": "stream",
     "text": [
      "/tmp/ipykernel_214/3047680284.py:1: SettingWithCopyWarning: \n",
      "\n",
      "A value is trying to be set on a copy of a slice from a DataFrame.\n",
      "\n",
      "Try using .loc[row_indexer,col_indexer] = value instead\n",
      "\n",
      "\n",
      "\n",
      "See the caveats in the documentation: https://pandas.pydata.org/pandas-docs/stable/user_guide/indexing.html#returning-a-view-versus-a-copy\n",
      "\n",
      "  data_gos_podd['sum_support'] = data_gos_podd['refundable_support'] + data_gos_podd['nonrefundable_support']\n"
     ]
    },
    {
     "data": {
      "image/png": "[encoded data removed]",
      "text/plain": [
       "<Figure size 720x720 with 1 Axes>"
      ]
     },
     "metadata": {
      "needs_background": "light"
     },
     "output_type": "display_data"
    }
   ],
   "source": [
    "data_gos_podd['sum_support'] = data_gos_podd['refundable_support'] + data_gos_podd['nonrefundable_support']\n",
    "data_gos_podd.groupby('year')['sum_support'].agg(['sum']).plot(style = '-', figsize = (10, 10), grid = True)\n",
    "plt.title('Кол-во выделяемых средств на кинопроизводство')\n",
    "plt.xlabel('Год')\n",
    "plt.ylabel('Кол-во денег')\n",
    "plt.show()"
   ]
  },
  {
   "cell_type": "markdown",
   "metadata": {},
   "source": [
    "\n",
    "Общая сумма гос поддержки имеет тенденцию роста; почти с каждым годом выделяют больше денег\n"
   ]
  },
  {
   "cell_type": "markdown",
   "metadata": {
    "id": "V2gYwMcPgFyd"
   },
   "source": [
    "### Шаг 5. Вывод"
   ]
  },
  {
   "cell_type": "markdown",
   "metadata": {
    "id": "AYRg3dzXgFye"
   },
   "source": [
    "\n",
    "В данных было очень много ошибок и пропусков большинство удалось исправить и заполнить\n",
    "    \n",
    "Были добавленны новые столбцы: год выпуска фильма и процент гос поддержки от бюджета\n",
    "    \n",
    "Кол-во выделяемых гос поддержкой средств имеет тенденцию расти, однако кол-во фильмов получивших гос поддержку крайне мало по сравнению с общим числом\n",
    "    \n",
    "Средний рейтинг фильмов с гос поддержкой упал ниже 6.4 и до сих пор не поднялся. Фильмы с таким средним рейтингом трудно назвать хорошими.\n",
    "    \n",
    "Самой прибыльной аудиторией фильмов с гос поддержкой можно назвать лиц старше 12 лет. В 2017 году вышел фильм-хит для аудитории 6+\n",
    "    \n",
    "Болише чем половина фильмов находящихся в изчаемом списке не была выпущенна в прокат, в последние годы кол-во фильмов выпущенных в прокат значительно увеличилось\n"
   ]
  }
 ],
 "metadata": {
  "ExecuteTimeLog": [
   {
    "duration": 537,
    "start_time": "2021-07-07T10:12:08.634Z"
   },
   {
    "duration": 206,
    "start_time": "2021-07-07T10:12:30.191Z"
   },
   {
    "duration": 227,
    "start_time": "2021-07-07T10:12:33.078Z"
   },
   {
    "duration": 153,
    "start_time": "2021-07-07T10:13:42.146Z"
   },
   {
    "duration": 233,
    "start_time": "2021-07-07T10:30:09.252Z"
   },
   {
    "duration": 19,
    "start_time": "2021-07-07T10:30:15.577Z"
   },
   {
    "duration": 18,
    "start_time": "2021-07-07T10:30:57.348Z"
   },
   {
    "duration": 19,
    "start_time": "2021-07-07T10:31:17.452Z"
   },
   {
    "duration": 21,
    "start_time": "2021-07-07T10:31:32.227Z"
   },
   {
    "duration": 27,
    "start_time": "2021-07-07T10:32:06.588Z"
   },
   {
    "duration": 23,
    "start_time": "2021-07-07T10:32:43.645Z"
   },
   {
    "duration": 24,
    "start_time": "2021-07-07T10:33:06.948Z"
   },
   {
    "duration": 7,
    "start_time": "2021-07-07T10:33:28.558Z"
   },
   {
    "duration": 23,
    "start_time": "2021-07-07T10:33:43.761Z"
   },
   {
    "duration": 28,
    "start_time": "2021-07-07T10:34:13.466Z"
   },
   {
    "duration": 23,
    "start_time": "2021-07-07T10:35:56.187Z"
   },
   {
    "duration": 6,
    "start_time": "2021-07-07T10:36:48.182Z"
   },
   {
    "duration": 14,
    "start_time": "2021-07-07T10:37:49.641Z"
   },
   {
    "duration": 6,
    "start_time": "2021-07-07T10:38:06.694Z"
   },
   {
    "duration": 6,
    "start_time": "2021-07-07T10:38:13.493Z"
   },
   {
    "duration": 19,
    "start_time": "2021-07-07T10:38:44.056Z"
   },
   {
    "duration": 186,
    "start_time": "2021-07-07T10:48:35.618Z"
   },
   {
    "duration": 24,
    "start_time": "2021-07-07T10:48:51.498Z"
   },
   {
    "duration": 20,
    "start_time": "2021-07-07T10:48:59.415Z"
   },
   {
    "duration": 20,
    "start_time": "2021-07-07T10:53:02.195Z"
   },
   {
    "duration": 188,
    "start_time": "2021-07-07T10:54:40.486Z"
   },
   {
    "duration": 115,
    "start_time": "2021-07-07T10:54:52.552Z"
   },
   {
    "duration": 214,
    "start_time": "2021-07-07T10:54:56.354Z"
   },
   {
    "duration": 47,
    "start_time": "2021-07-07T10:54:58.282Z"
   },
   {
    "duration": 217,
    "start_time": "2021-07-07T10:59:16.075Z"
   },
   {
    "duration": 51,
    "start_time": "2021-07-07T10:59:16.243Z"
   },
   {
    "duration": 578,
    "start_time": "2021-07-07T10:59:18.774Z"
   },
   {
    "duration": 161,
    "start_time": "2021-07-07T10:59:21.238Z"
   },
   {
    "duration": 59,
    "start_time": "2021-07-07T10:59:21.453Z"
   },
   {
    "duration": 3,
    "start_time": "2021-07-07T11:02:10.786Z"
   },
   {
    "duration": 13,
    "start_time": "2021-07-07T11:07:07.722Z"
   },
   {
    "duration": 26,
    "start_time": "2021-07-07T11:07:17.958Z"
   },
   {
    "duration": 22,
    "start_time": "2021-07-07T11:08:17.939Z"
   },
   {
    "duration": 212,
    "start_time": "2021-07-07T11:08:19.665Z"
   },
   {
    "duration": 21,
    "start_time": "2021-07-07T11:08:29.945Z"
   },
   {
    "duration": 31,
    "start_time": "2021-07-07T11:08:38.899Z"
   },
   {
    "duration": 23,
    "start_time": "2021-07-07T11:08:54.527Z"
   },
   {
    "duration": 8,
    "start_time": "2021-07-07T11:18:55.974Z"
   },
   {
    "duration": 7,
    "start_time": "2021-07-07T11:19:03.639Z"
   },
   {
    "duration": 7,
    "start_time": "2021-07-07T11:19:06.444Z"
   },
   {
    "duration": 578,
    "start_time": "2021-07-07T12:09:59.576Z"
   },
   {
    "duration": 195,
    "start_time": "2021-07-07T12:10:00.156Z"
   },
   {
    "duration": 115,
    "start_time": "2021-07-07T12:10:00.353Z"
   },
   {
    "duration": 3,
    "start_time": "2021-07-07T12:10:00.470Z"
   },
   {
    "duration": 32,
    "start_time": "2021-07-07T12:10:00.474Z"
   },
   {
    "duration": 23,
    "start_time": "2021-07-07T12:10:00.508Z"
   },
   {
    "duration": 19,
    "start_time": "2021-07-07T12:10:00.533Z"
   },
   {
    "duration": 44,
    "start_time": "2021-07-07T12:10:00.553Z"
   },
   {
    "duration": 7,
    "start_time": "2021-07-07T12:10:00.600Z"
   },
   {
    "duration": 7,
    "start_time": "2021-07-07T12:19:45.761Z"
   },
   {
    "duration": 21,
    "start_time": "2021-07-07T12:21:35.482Z"
   },
   {
    "duration": 21,
    "start_time": "2021-07-07T12:29:23.569Z"
   },
   {
    "duration": 525,
    "start_time": "2021-07-07T12:29:44.542Z"
   },
   {
    "duration": 214,
    "start_time": "2021-07-07T12:29:45.069Z"
   },
   {
    "duration": 92,
    "start_time": "2021-07-07T12:29:45.285Z"
   },
   {
    "duration": 3,
    "start_time": "2021-07-07T12:29:45.379Z"
   },
   {
    "duration": 28,
    "start_time": "2021-07-07T12:29:45.384Z"
   },
   {
    "duration": 23,
    "start_time": "2021-07-07T12:29:45.413Z"
   },
   {
    "duration": 21,
    "start_time": "2021-07-07T12:29:45.437Z"
   },
   {
    "duration": 41,
    "start_time": "2021-07-07T12:29:45.460Z"
   },
   {
    "duration": 7,
    "start_time": "2021-07-07T12:29:45.502Z"
   },
   {
    "duration": 20,
    "start_time": "2021-07-07T12:29:45.511Z"
   },
   {
    "duration": 12,
    "start_time": "2021-07-07T12:34:02.800Z"
   },
   {
    "duration": 7,
    "start_time": "2021-07-07T12:35:10.479Z"
   },
   {
    "duration": 8,
    "start_time": "2021-07-07T12:35:22.440Z"
   },
   {
    "duration": 6,
    "start_time": "2021-07-07T12:35:35.649Z"
   },
   {
    "duration": 6,
    "start_time": "2021-07-07T12:35:43.107Z"
   },
   {
    "duration": 22,
    "start_time": "2021-07-07T12:38:03.029Z"
   },
   {
    "duration": 10,
    "start_time": "2021-07-07T12:38:06.592Z"
   },
   {
    "duration": 563,
    "start_time": "2021-07-07T12:38:46.493Z"
   },
   {
    "duration": 265,
    "start_time": "2021-07-07T12:38:47.058Z"
   },
   {
    "duration": 94,
    "start_time": "2021-07-07T12:38:47.325Z"
   },
   {
    "duration": 3,
    "start_time": "2021-07-07T12:38:47.422Z"
   },
   {
    "duration": 30,
    "start_time": "2021-07-07T12:38:47.427Z"
   },
   {
    "duration": 16,
    "start_time": "2021-07-07T12:38:53.305Z"
   },
   {
    "duration": 10,
    "start_time": "2021-07-07T12:38:53.499Z"
   },
   {
    "duration": 8,
    "start_time": "2021-07-07T12:39:48.161Z"
   },
   {
    "duration": 27,
    "start_time": "2021-07-07T12:41:17.629Z"
   },
   {
    "duration": 17,
    "start_time": "2021-07-07T12:41:17.867Z"
   },
   {
    "duration": 21,
    "start_time": "2021-07-07T12:41:19.310Z"
   },
   {
    "duration": 7,
    "start_time": "2021-07-07T12:41:19.544Z"
   },
   {
    "duration": 20,
    "start_time": "2021-07-07T12:41:20.504Z"
   },
   {
    "duration": 554,
    "start_time": "2021-07-07T12:56:23.696Z"
   },
   {
    "duration": 200,
    "start_time": "2021-07-07T12:56:25.234Z"
   },
   {
    "duration": 119,
    "start_time": "2021-07-07T12:56:25.480Z"
   },
   {
    "duration": 4,
    "start_time": "2021-07-07T12:56:25.762Z"
   },
   {
    "duration": 26,
    "start_time": "2021-07-07T12:56:27.172Z"
   },
   {
    "duration": 12,
    "start_time": "2021-07-07T12:56:29.051Z"
   },
   {
    "duration": 10,
    "start_time": "2021-07-07T12:56:29.291Z"
   },
   {
    "duration": 8,
    "start_time": "2021-07-07T12:56:29.623Z"
   },
   {
    "duration": 28,
    "start_time": "2021-07-07T12:56:32.137Z"
   },
   {
    "duration": 19,
    "start_time": "2021-07-07T12:56:39.785Z"
   },
   {
    "duration": 20,
    "start_time": "2021-07-07T12:56:44.297Z"
   },
   {
    "duration": 7,
    "start_time": "2021-07-07T12:56:45.392Z"
   },
   {
    "duration": 23,
    "start_time": "2021-07-07T12:56:46.615Z"
   },
   {
    "duration": 4,
    "start_time": "2021-07-07T12:57:06.625Z"
   },
   {
    "duration": 32,
    "start_time": "2021-07-07T12:57:36.690Z"
   },
   {
    "duration": 18,
    "start_time": "2021-07-07T12:58:00.149Z"
   },
   {
    "duration": 15,
    "start_time": "2021-07-07T12:59:16.793Z"
   },
   {
    "duration": 7,
    "start_time": "2021-07-07T13:19:22.624Z"
   },
   {
    "duration": 6,
    "start_time": "2021-07-07T14:17:33.527Z"
   },
   {
    "duration": 9,
    "start_time": "2021-07-07T14:17:48.409Z"
   },
   {
    "duration": 8,
    "start_time": "2021-07-07T14:20:13.060Z"
   },
   {
    "duration": 8,
    "start_time": "2021-07-07T14:20:37.957Z"
   },
   {
    "duration": 8,
    "start_time": "2021-07-07T14:20:47.470Z"
   },
   {
    "duration": 9,
    "start_time": "2021-07-07T14:20:54.503Z"
   },
   {
    "duration": 10,
    "start_time": "2021-07-07T14:28:57.763Z"
   },
   {
    "duration": 3,
    "start_time": "2021-07-07T14:30:23.377Z"
   },
   {
    "duration": 3,
    "start_time": "2021-07-07T14:30:36.489Z"
   },
   {
    "duration": 103,
    "start_time": "2021-07-07T14:30:52.351Z"
   },
   {
    "duration": 8,
    "start_time": "2021-07-07T14:30:54.763Z"
   },
   {
    "duration": 8,
    "start_time": "2021-07-07T14:31:29.301Z"
   },
   {
    "duration": 13,
    "start_time": "2021-07-07T14:31:44.516Z"
   },
   {
    "duration": 7,
    "start_time": "2021-07-07T14:33:10.972Z"
   },
   {
    "duration": 11,
    "start_time": "2021-07-07T14:33:27.780Z"
   },
   {
    "duration": 8,
    "start_time": "2021-07-07T14:34:44.588Z"
   },
   {
    "duration": 57,
    "start_time": "2021-07-07T14:35:59.042Z"
   },
   {
    "duration": 3,
    "start_time": "2021-07-07T14:36:28.168Z"
   },
   {
    "duration": 5,
    "start_time": "2021-07-07T14:36:46.254Z"
   },
   {
    "duration": 4,
    "start_time": "2021-07-07T14:36:52.714Z"
   },
   {
    "duration": 3,
    "start_time": "2021-07-07T14:36:56.612Z"
   },
   {
    "duration": 4,
    "start_time": "2021-07-07T14:36:57.049Z"
   },
   {
    "duration": 3,
    "start_time": "2021-07-07T14:39:21.214Z"
   },
   {
    "duration": 7,
    "start_time": "2021-07-07T14:39:52.406Z"
   },
   {
    "duration": 11,
    "start_time": "2021-07-07T14:39:58.576Z"
   },
   {
    "duration": 9,
    "start_time": "2021-07-07T14:40:26.301Z"
   },
   {
    "duration": 10,
    "start_time": "2021-07-07T14:40:31.704Z"
   },
   {
    "duration": 11,
    "start_time": "2021-07-07T14:40:36.249Z"
   },
   {
    "duration": 10,
    "start_time": "2021-07-07T14:40:39.783Z"
   },
   {
    "duration": 9,
    "start_time": "2021-07-07T14:40:48.558Z"
   },
   {
    "duration": 10,
    "start_time": "2021-07-07T14:40:57.143Z"
   },
   {
    "duration": 9,
    "start_time": "2021-07-07T14:41:06.074Z"
   },
   {
    "duration": 4324,
    "start_time": "2021-07-07T14:41:22.004Z"
   },
   {
    "duration": 11,
    "start_time": "2021-07-07T14:41:33.392Z"
   },
   {
    "duration": 9,
    "start_time": "2021-07-07T14:41:39.288Z"
   },
   {
    "duration": 569,
    "start_time": "2021-07-07T14:42:14.387Z"
   },
   {
    "duration": 197,
    "start_time": "2021-07-07T14:42:14.959Z"
   },
   {
    "duration": 84,
    "start_time": "2021-07-07T14:42:16.052Z"
   },
   {
    "duration": 4,
    "start_time": "2021-07-07T14:42:16.900Z"
   },
   {
    "duration": 27,
    "start_time": "2021-07-07T14:42:19.898Z"
   },
   {
    "duration": 12,
    "start_time": "2021-07-07T14:42:21.577Z"
   },
   {
    "duration": 9,
    "start_time": "2021-07-07T14:42:21.813Z"
   },
   {
    "duration": 9,
    "start_time": "2021-07-07T14:42:22.569Z"
   },
   {
    "duration": 29,
    "start_time": "2021-07-07T14:42:25.837Z"
   },
   {
    "duration": 20,
    "start_time": "2021-07-07T14:42:27.003Z"
   },
   {
    "duration": 21,
    "start_time": "2021-07-07T14:42:28.767Z"
   },
   {
    "duration": 7,
    "start_time": "2021-07-07T14:42:29.838Z"
   },
   {
    "duration": 4,
    "start_time": "2021-07-07T14:43:25.493Z"
   },
   {
    "duration": 7,
    "start_time": "2021-07-07T14:43:26.573Z"
   },
   {
    "duration": 10,
    "start_time": "2021-07-07T14:43:31.639Z"
   },
   {
    "duration": 9,
    "start_time": "2021-07-07T14:43:32.046Z"
   },
   {
    "duration": 10,
    "start_time": "2021-07-07T14:43:33.301Z"
   },
   {
    "duration": 12,
    "start_time": "2021-07-07T14:43:33.658Z"
   },
   {
    "duration": 8,
    "start_time": "2021-07-07T14:43:34.552Z"
   },
   {
    "duration": 9,
    "start_time": "2021-07-07T14:43:35.058Z"
   },
   {
    "duration": 12,
    "start_time": "2021-07-07T14:43:35.914Z"
   },
   {
    "duration": 17,
    "start_time": "2021-07-07T14:45:34.368Z"
   },
   {
    "duration": 512,
    "start_time": "2021-07-07T14:51:58.236Z"
   },
   {
    "duration": 223,
    "start_time": "2021-07-07T14:51:58.750Z"
   },
   {
    "duration": 93,
    "start_time": "2021-07-07T14:51:58.977Z"
   },
   {
    "duration": 4,
    "start_time": "2021-07-07T14:51:59.071Z"
   },
   {
    "duration": 37,
    "start_time": "2021-07-07T14:51:59.077Z"
   },
   {
    "duration": 18,
    "start_time": "2021-07-07T14:51:59.116Z"
   },
   {
    "duration": 10,
    "start_time": "2021-07-07T14:51:59.137Z"
   },
   {
    "duration": 8,
    "start_time": "2021-07-07T14:51:59.149Z"
   },
   {
    "duration": 54,
    "start_time": "2021-07-07T14:51:59.158Z"
   },
   {
    "duration": 18,
    "start_time": "2021-07-07T14:51:59.213Z"
   },
   {
    "duration": 22,
    "start_time": "2021-07-07T14:51:59.232Z"
   },
   {
    "duration": 36,
    "start_time": "2021-07-07T14:51:59.255Z"
   },
   {
    "duration": 7,
    "start_time": "2021-07-07T14:51:59.293Z"
   },
   {
    "duration": 10,
    "start_time": "2021-07-07T14:51:59.302Z"
   },
   {
    "duration": 9,
    "start_time": "2021-07-07T14:51:59.313Z"
   },
   {
    "duration": 11,
    "start_time": "2021-07-07T14:51:59.324Z"
   },
   {
    "duration": 8,
    "start_time": "2021-07-07T14:51:59.337Z"
   },
   {
    "duration": 46,
    "start_time": "2021-07-07T14:51:59.347Z"
   },
   {
    "duration": 22,
    "start_time": "2021-07-07T14:51:59.395Z"
   },
   {
    "duration": 24,
    "start_time": "2021-07-07T14:57:32.911Z"
   },
   {
    "duration": 7,
    "start_time": "2021-07-07T14:58:22.070Z"
   },
   {
    "duration": 4,
    "start_time": "2021-07-07T14:59:11.239Z"
   },
   {
    "duration": 25,
    "start_time": "2021-07-07T15:07:22.208Z"
   },
   {
    "duration": 16,
    "start_time": "2021-07-07T15:08:25.560Z"
   },
   {
    "duration": 15,
    "start_time": "2021-07-07T15:08:40.647Z"
   },
   {
    "duration": 14,
    "start_time": "2021-07-07T15:08:46.669Z"
   },
   {
    "duration": 533,
    "start_time": "2021-07-07T15:18:07.440Z"
   },
   {
    "duration": 173,
    "start_time": "2021-07-07T15:18:07.974Z"
   },
   {
    "duration": 84,
    "start_time": "2021-07-07T15:18:08.149Z"
   },
   {
    "duration": 3,
    "start_time": "2021-07-07T15:18:08.235Z"
   },
   {
    "duration": 30,
    "start_time": "2021-07-07T15:18:08.240Z"
   },
   {
    "duration": 22,
    "start_time": "2021-07-07T15:18:08.272Z"
   },
   {
    "duration": 11,
    "start_time": "2021-07-07T15:18:08.295Z"
   },
   {
    "duration": 11,
    "start_time": "2021-07-07T15:18:08.309Z"
   },
   {
    "duration": 40,
    "start_time": "2021-07-07T15:18:08.322Z"
   },
   {
    "duration": 42,
    "start_time": "2021-07-07T15:18:08.364Z"
   },
   {
    "duration": 22,
    "start_time": "2021-07-07T15:18:08.408Z"
   },
   {
    "duration": 5,
    "start_time": "2021-07-07T15:18:08.432Z"
   },
   {
    "duration": 13,
    "start_time": "2021-07-07T15:18:08.439Z"
   },
   {
    "duration": 9,
    "start_time": "2021-07-07T15:18:08.454Z"
   },
   {
    "duration": 32,
    "start_time": "2021-07-07T15:18:08.465Z"
   },
   {
    "duration": 10,
    "start_time": "2021-07-07T15:18:08.501Z"
   },
   {
    "duration": 7,
    "start_time": "2021-07-07T15:18:08.513Z"
   },
   {
    "duration": 11,
    "start_time": "2021-07-07T15:18:08.521Z"
   },
   {
    "duration": 17,
    "start_time": "2021-07-07T15:18:08.534Z"
   },
   {
    "duration": 44,
    "start_time": "2021-07-07T15:18:08.553Z"
   },
   {
    "duration": 22,
    "start_time": "2021-07-07T15:18:08.599Z"
   },
   {
    "duration": 61,
    "start_time": "2021-07-07T15:18:08.622Z"
   },
   {
    "duration": 7,
    "start_time": "2021-07-07T15:18:39.457Z"
   },
   {
    "duration": 5,
    "start_time": "2021-07-07T16:05:17.020Z"
   },
   {
    "duration": 5,
    "start_time": "2021-07-07T16:51:28.794Z"
   },
   {
    "duration": 546,
    "start_time": "2021-07-07T16:52:26.306Z"
   },
   {
    "duration": 203,
    "start_time": "2021-07-07T16:52:27.523Z"
   },
   {
    "duration": 85,
    "start_time": "2021-07-07T16:52:27.736Z"
   },
   {
    "duration": 4,
    "start_time": "2021-07-07T16:52:27.899Z"
   },
   {
    "duration": 25,
    "start_time": "2021-07-07T16:52:28.674Z"
   },
   {
    "duration": 8,
    "start_time": "2021-07-07T16:52:32.956Z"
   },
   {
    "duration": 18,
    "start_time": "2021-07-07T16:52:35.616Z"
   },
   {
    "duration": 6,
    "start_time": "2021-07-07T16:52:36.913Z"
   },
   {
    "duration": 11,
    "start_time": "2021-07-07T16:52:40.258Z"
   },
   {
    "duration": 10,
    "start_time": "2021-07-07T16:52:46.251Z"
   },
   {
    "duration": 8,
    "start_time": "2021-07-07T16:52:47.182Z"
   },
   {
    "duration": 27,
    "start_time": "2021-07-07T16:53:20.391Z"
   },
   {
    "duration": 20,
    "start_time": "2021-07-07T16:53:22.022Z"
   },
   {
    "duration": 23,
    "start_time": "2021-07-07T16:53:23.690Z"
   },
   {
    "duration": 8,
    "start_time": "2021-07-07T16:53:24.261Z"
   },
   {
    "duration": 4,
    "start_time": "2021-07-07T16:53:38.733Z"
   },
   {
    "duration": 7,
    "start_time": "2021-07-07T16:53:40.445Z"
   },
   {
    "duration": 11,
    "start_time": "2021-07-07T16:53:41.348Z"
   },
   {
    "duration": 13,
    "start_time": "2021-07-07T16:53:45.250Z"
   },
   {
    "duration": 12,
    "start_time": "2021-07-07T16:53:45.467Z"
   },
   {
    "duration": 4,
    "start_time": "2021-07-07T16:55:32.704Z"
   },
   {
    "duration": 12,
    "start_time": "2021-07-07T16:55:49.012Z"
   },
   {
    "duration": 18,
    "start_time": "2021-07-07T16:55:49.547Z"
   },
   {
    "duration": 611,
    "start_time": "2021-07-07T16:58:35.156Z"
   },
   {
    "duration": 200,
    "start_time": "2021-07-07T16:58:35.770Z"
   },
   {
    "duration": 86,
    "start_time": "2021-07-07T16:58:35.972Z"
   },
   {
    "duration": 3,
    "start_time": "2021-07-07T16:58:36.060Z"
   },
   {
    "duration": 27,
    "start_time": "2021-07-07T16:58:36.065Z"
   },
   {
    "duration": 8,
    "start_time": "2021-07-07T16:58:36.094Z"
   },
   {
    "duration": 17,
    "start_time": "2021-07-07T16:58:36.103Z"
   },
   {
    "duration": 5,
    "start_time": "2021-07-07T16:58:36.123Z"
   },
   {
    "duration": 11,
    "start_time": "2021-07-07T16:58:36.130Z"
   },
   {
    "duration": 7,
    "start_time": "2021-07-07T16:58:36.143Z"
   },
   {
    "duration": 37,
    "start_time": "2021-07-07T16:58:36.152Z"
   },
   {
    "duration": 27,
    "start_time": "2021-07-07T16:58:36.191Z"
   },
   {
    "duration": 19,
    "start_time": "2021-07-07T16:58:36.219Z"
   },
   {
    "duration": 49,
    "start_time": "2021-07-07T16:58:36.240Z"
   },
   {
    "duration": 6,
    "start_time": "2021-07-07T16:58:36.291Z"
   },
   {
    "duration": 3,
    "start_time": "2021-07-07T16:58:36.299Z"
   },
   {
    "duration": 13,
    "start_time": "2021-07-07T16:58:36.304Z"
   },
   {
    "duration": 10,
    "start_time": "2021-07-07T16:58:36.319Z"
   },
   {
    "duration": 10,
    "start_time": "2021-07-07T16:58:36.331Z"
   },
   {
    "duration": 44,
    "start_time": "2021-07-07T16:58:36.343Z"
   },
   {
    "duration": 4,
    "start_time": "2021-07-07T16:58:36.388Z"
   },
   {
    "duration": 13,
    "start_time": "2021-07-07T16:58:36.394Z"
   },
   {
    "duration": 16,
    "start_time": "2021-07-07T16:58:36.410Z"
   },
   {
    "duration": 8,
    "start_time": "2021-07-07T17:02:31.629Z"
   },
   {
    "duration": 8,
    "start_time": "2021-07-07T17:02:34.308Z"
   },
   {
    "duration": 6,
    "start_time": "2021-07-07T17:05:13.483Z"
   },
   {
    "duration": 17,
    "start_time": "2021-07-07T17:05:20.606Z"
   },
   {
    "duration": 7,
    "start_time": "2021-07-07T17:05:34.638Z"
   },
   {
    "duration": 3,
    "start_time": "2021-07-07T17:06:31.883Z"
   },
   {
    "duration": 570,
    "start_time": "2021-07-07T17:06:37.165Z"
   },
   {
    "duration": 174,
    "start_time": "2021-07-07T17:06:37.737Z"
   },
   {
    "duration": 47,
    "start_time": "2021-07-07T17:06:37.913Z"
   },
   {
    "duration": 3,
    "start_time": "2021-07-07T17:06:37.962Z"
   },
   {
    "duration": 27,
    "start_time": "2021-07-07T17:06:37.967Z"
   },
   {
    "duration": 7,
    "start_time": "2021-07-07T17:06:37.996Z"
   },
   {
    "duration": 16,
    "start_time": "2021-07-07T17:06:38.005Z"
   },
   {
    "duration": 6,
    "start_time": "2021-07-07T17:06:38.024Z"
   },
   {
    "duration": 12,
    "start_time": "2021-07-07T17:06:38.031Z"
   },
   {
    "duration": 41,
    "start_time": "2021-07-07T17:06:38.045Z"
   },
   {
    "duration": 8,
    "start_time": "2021-07-07T17:06:38.088Z"
   },
   {
    "duration": 26,
    "start_time": "2021-07-07T17:06:38.098Z"
   },
   {
    "duration": 17,
    "start_time": "2021-07-07T17:06:38.126Z"
   },
   {
    "duration": 43,
    "start_time": "2021-07-07T17:06:38.144Z"
   },
   {
    "duration": 6,
    "start_time": "2021-07-07T17:06:38.188Z"
   },
   {
    "duration": 5,
    "start_time": "2021-07-07T17:06:38.195Z"
   },
   {
    "duration": 9,
    "start_time": "2021-07-07T17:06:38.201Z"
   },
   {
    "duration": 12,
    "start_time": "2021-07-07T17:06:38.212Z"
   },
   {
    "duration": 11,
    "start_time": "2021-07-07T17:06:38.226Z"
   },
   {
    "duration": 47,
    "start_time": "2021-07-07T17:06:38.239Z"
   },
   {
    "duration": 4,
    "start_time": "2021-07-07T17:06:38.288Z"
   },
   {
    "duration": 13,
    "start_time": "2021-07-07T17:06:38.293Z"
   },
   {
    "duration": 5,
    "start_time": "2021-07-07T17:06:38.309Z"
   },
   {
    "duration": 18,
    "start_time": "2021-07-07T17:06:38.325Z"
   },
   {
    "duration": 20,
    "start_time": "2021-07-07T17:07:02.805Z"
   },
   {
    "duration": 19,
    "start_time": "2021-07-07T17:07:08.527Z"
   },
   {
    "duration": 19,
    "start_time": "2021-07-07T17:07:12.758Z"
   },
   {
    "duration": 22,
    "start_time": "2021-07-07T17:07:17.497Z"
   },
   {
    "duration": 19,
    "start_time": "2021-07-07T17:07:19.645Z"
   },
   {
    "duration": 10,
    "start_time": "2021-07-07T17:07:34.239Z"
   },
   {
    "duration": 17,
    "start_time": "2021-07-07T17:07:54.144Z"
   },
   {
    "duration": 14,
    "start_time": "2021-07-07T17:08:14.357Z"
   },
   {
    "duration": 616,
    "start_time": "2021-07-07T17:08:45.254Z"
   },
   {
    "duration": 178,
    "start_time": "2021-07-07T17:08:45.872Z"
   },
   {
    "duration": 60,
    "start_time": "2021-07-07T17:08:46.054Z"
   },
   {
    "duration": 3,
    "start_time": "2021-07-07T17:08:46.116Z"
   },
   {
    "duration": 26,
    "start_time": "2021-07-07T17:08:46.121Z"
   },
   {
    "duration": 7,
    "start_time": "2021-07-07T17:08:46.149Z"
   },
   {
    "duration": 17,
    "start_time": "2021-07-07T17:08:46.158Z"
   },
   {
    "duration": 14,
    "start_time": "2021-07-07T17:08:46.176Z"
   },
   {
    "duration": 17,
    "start_time": "2021-07-07T17:08:46.193Z"
   },
   {
    "duration": 9,
    "start_time": "2021-07-07T17:08:46.211Z"
   },
   {
    "duration": 21,
    "start_time": "2021-07-07T17:08:46.221Z"
   },
   {
    "duration": 49,
    "start_time": "2021-07-07T17:08:46.244Z"
   },
   {
    "duration": 24,
    "start_time": "2021-07-07T17:08:46.295Z"
   },
   {
    "duration": 22,
    "start_time": "2021-07-07T17:08:46.321Z"
   },
   {
    "duration": 6,
    "start_time": "2021-07-07T17:08:46.345Z"
   },
   {
    "duration": 5,
    "start_time": "2021-07-07T17:08:46.353Z"
   },
   {
    "duration": 13,
    "start_time": "2021-07-07T17:08:46.386Z"
   },
   {
    "duration": 12,
    "start_time": "2021-07-07T17:08:46.402Z"
   },
   {
    "duration": 10,
    "start_time": "2021-07-07T17:08:46.415Z"
   },
   {
    "duration": 7,
    "start_time": "2021-07-07T17:08:46.427Z"
   },
   {
    "duration": 8,
    "start_time": "2021-07-07T17:08:46.435Z"
   },
   {
    "duration": 68,
    "start_time": "2021-07-07T17:08:46.446Z"
   },
   {
    "duration": 13,
    "start_time": "2021-07-07T17:08:46.516Z"
   },
   {
    "duration": 78,
    "start_time": "2021-07-07T17:08:46.530Z"
   },
   {
    "duration": 40,
    "start_time": "2021-07-07T17:09:08.185Z"
   },
   {
    "duration": 16,
    "start_time": "2021-07-07T17:09:19.324Z"
   },
   {
    "duration": 21,
    "start_time": "2021-07-07T17:09:23.290Z"
   },
   {
    "duration": 13,
    "start_time": "2021-07-07T17:09:54.812Z"
   },
   {
    "duration": 13,
    "start_time": "2021-07-07T17:10:02.039Z"
   },
   {
    "duration": 10,
    "start_time": "2021-07-07T17:10:29.632Z"
   },
   {
    "duration": 13,
    "start_time": "2021-07-07T17:10:52.372Z"
   },
   {
    "duration": 13,
    "start_time": "2021-07-07T17:11:17.270Z"
   },
   {
    "duration": 13,
    "start_time": "2021-07-07T17:14:59.284Z"
   },
   {
    "duration": 547,
    "start_time": "2021-07-07T17:18:52.403Z"
   },
   {
    "duration": 163,
    "start_time": "2021-07-07T17:18:52.952Z"
   },
   {
    "duration": 44,
    "start_time": "2021-07-07T17:18:53.117Z"
   },
   {
    "duration": 3,
    "start_time": "2021-07-07T17:18:53.162Z"
   },
   {
    "duration": 26,
    "start_time": "2021-07-07T17:18:53.167Z"
   },
   {
    "duration": 6,
    "start_time": "2021-07-07T17:18:53.195Z"
   },
   {
    "duration": 15,
    "start_time": "2021-07-07T17:18:53.203Z"
   },
   {
    "duration": 5,
    "start_time": "2021-07-07T17:18:53.220Z"
   },
   {
    "duration": 11,
    "start_time": "2021-07-07T17:18:53.228Z"
   },
   {
    "duration": 9,
    "start_time": "2021-07-07T17:18:53.241Z"
   },
   {
    "duration": 41,
    "start_time": "2021-07-07T17:18:53.252Z"
   },
   {
    "duration": 33,
    "start_time": "2021-07-07T17:18:53.295Z"
   },
   {
    "duration": 19,
    "start_time": "2021-07-07T17:18:53.330Z"
   },
   {
    "duration": 49,
    "start_time": "2021-07-07T17:18:53.350Z"
   },
   {
    "duration": 5,
    "start_time": "2021-07-07T17:18:53.401Z"
   },
   {
    "duration": 5,
    "start_time": "2021-07-07T17:18:53.408Z"
   },
   {
    "duration": 11,
    "start_time": "2021-07-07T17:18:53.414Z"
   },
   {
    "duration": 9,
    "start_time": "2021-07-07T17:18:53.427Z"
   },
   {
    "duration": 10,
    "start_time": "2021-07-07T17:18:53.437Z"
   },
   {
    "duration": 39,
    "start_time": "2021-07-07T17:18:53.448Z"
   },
   {
    "duration": 26,
    "start_time": "2021-07-07T17:18:55.799Z"
   },
   {
    "duration": 598,
    "start_time": "2021-07-07T17:20:17.862Z"
   },
   {
    "duration": 161,
    "start_time": "2021-07-07T17:20:18.462Z"
   },
   {
    "duration": 45,
    "start_time": "2021-07-07T17:20:18.626Z"
   },
   {
    "duration": 4,
    "start_time": "2021-07-07T17:20:18.673Z"
   },
   {
    "duration": 38,
    "start_time": "2021-07-07T17:20:26.877Z"
   },
   {
    "duration": 7,
    "start_time": "2021-07-07T17:20:37.405Z"
   },
   {
    "duration": 19,
    "start_time": "2021-07-07T17:20:51.534Z"
   },
   {
    "duration": 5,
    "start_time": "2021-07-07T17:20:57.228Z"
   },
   {
    "duration": 7,
    "start_time": "2021-07-07T17:21:08.235Z"
   },
   {
    "duration": 19,
    "start_time": "2021-07-07T17:21:42.158Z"
   },
   {
    "duration": 14,
    "start_time": "2021-07-07T17:21:50.225Z"
   },
   {
    "duration": 22,
    "start_time": "2021-07-07T17:22:54.104Z"
   },
   {
    "duration": 5,
    "start_time": "2021-07-07T17:22:56.371Z"
   },
   {
    "duration": 14,
    "start_time": "2021-07-07T17:22:58.316Z"
   },
   {
    "duration": 5,
    "start_time": "2021-07-07T17:22:58.493Z"
   },
   {
    "duration": 35,
    "start_time": "2021-07-07T17:22:59.666Z"
   },
   {
    "duration": 6,
    "start_time": "2021-07-07T17:23:02.410Z"
   },
   {
    "duration": 611,
    "start_time": "2021-07-07T17:24:59.664Z"
   },
   {
    "duration": 178,
    "start_time": "2021-07-07T17:25:01.945Z"
   },
   {
    "duration": 47,
    "start_time": "2021-07-07T17:25:02.125Z"
   },
   {
    "duration": 2,
    "start_time": "2021-07-07T17:25:07.903Z"
   },
   {
    "duration": 254,
    "start_time": "2021-07-07T17:25:08.232Z"
   },
   {
    "duration": 182,
    "start_time": "2021-07-07T17:25:08.671Z"
   },
   {
    "duration": 6,
    "start_time": "2021-07-07T17:25:13.104Z"
   },
   {
    "duration": 36,
    "start_time": "2021-07-07T17:25:13.662Z"
   },
   {
    "duration": 7,
    "start_time": "2021-07-07T17:25:14.528Z"
   },
   {
    "duration": 24,
    "start_time": "2021-07-07T17:25:27.982Z"
   },
   {
    "duration": 3,
    "start_time": "2021-07-07T17:25:48.982Z"
   },
   {
    "duration": 165,
    "start_time": "2021-07-07T17:25:48.987Z"
   },
   {
    "duration": 50,
    "start_time": "2021-07-07T17:25:49.154Z"
   },
   {
    "duration": 4,
    "start_time": "2021-07-07T17:25:49.206Z"
   },
   {
    "duration": 26,
    "start_time": "2021-07-07T17:25:49.212Z"
   },
   {
    "duration": 7,
    "start_time": "2021-07-07T17:25:49.240Z"
   },
   {
    "duration": 16,
    "start_time": "2021-07-07T17:25:49.249Z"
   },
   {
    "duration": 22,
    "start_time": "2021-07-07T17:25:49.266Z"
   },
   {
    "duration": 16,
    "start_time": "2021-07-07T17:25:49.291Z"
   },
   {
    "duration": 9,
    "start_time": "2021-07-07T17:25:49.309Z"
   },
   {
    "duration": 7,
    "start_time": "2021-07-07T17:25:49.319Z"
   },
   {
    "duration": 28,
    "start_time": "2021-07-07T17:25:49.328Z"
   },
   {
    "duration": 44,
    "start_time": "2021-07-07T17:25:49.357Z"
   },
   {
    "duration": 22,
    "start_time": "2021-07-07T17:25:49.403Z"
   },
   {
    "duration": 7,
    "start_time": "2021-07-07T17:25:49.427Z"
   },
   {
    "duration": 3,
    "start_time": "2021-07-07T17:25:49.436Z"
   },
   {
    "duration": 44,
    "start_time": "2021-07-07T17:25:49.441Z"
   },
   {
    "duration": 12,
    "start_time": "2021-07-07T17:25:49.488Z"
   },
   {
    "duration": 13,
    "start_time": "2021-07-07T17:25:49.502Z"
   },
   {
    "duration": 10,
    "start_time": "2021-07-07T17:25:49.516Z"
   },
   {
    "duration": 62,
    "start_time": "2021-07-07T17:25:49.527Z"
   },
   {
    "duration": 26,
    "start_time": "2021-07-07T17:26:51.809Z"
   },
   {
    "duration": 26,
    "start_time": "2021-07-07T17:26:55.759Z"
   },
   {
    "duration": 26,
    "start_time": "2021-07-07T17:27:04.501Z"
   },
   {
    "duration": 25,
    "start_time": "2021-07-07T17:28:24.859Z"
   },
   {
    "duration": 21,
    "start_time": "2021-07-07T17:28:55.250Z"
   },
   {
    "duration": 21,
    "start_time": "2021-07-07T17:28:58.885Z"
   },
   {
    "duration": 7,
    "start_time": "2021-07-07T17:45:40.972Z"
   },
   {
    "duration": 13,
    "start_time": "2021-07-07T17:45:42.529Z"
   },
   {
    "duration": 27,
    "start_time": "2021-07-07T17:45:51.026Z"
   },
   {
    "duration": 518,
    "start_time": "2021-07-07T17:46:15.532Z"
   },
   {
    "duration": 235,
    "start_time": "2021-07-07T17:46:16.053Z"
   },
   {
    "duration": 80,
    "start_time": "2021-07-07T17:46:16.292Z"
   },
   {
    "duration": 5,
    "start_time": "2021-07-07T17:46:16.373Z"
   },
   {
    "duration": 26,
    "start_time": "2021-07-07T17:46:16.380Z"
   },
   {
    "duration": 7,
    "start_time": "2021-07-07T17:46:16.408Z"
   },
   {
    "duration": 16,
    "start_time": "2021-07-07T17:46:16.418Z"
   },
   {
    "duration": 5,
    "start_time": "2021-07-07T17:46:16.436Z"
   },
   {
    "duration": 13,
    "start_time": "2021-07-07T17:46:16.442Z"
   },
   {
    "duration": 35,
    "start_time": "2021-07-07T17:46:16.456Z"
   },
   {
    "duration": 8,
    "start_time": "2021-07-07T17:46:16.493Z"
   },
   {
    "duration": 28,
    "start_time": "2021-07-07T17:46:16.502Z"
   },
   {
    "duration": 17,
    "start_time": "2021-07-07T17:46:16.532Z"
   },
   {
    "duration": 44,
    "start_time": "2021-07-07T17:46:16.551Z"
   },
   {
    "duration": 6,
    "start_time": "2021-07-07T17:46:16.597Z"
   },
   {
    "duration": 4,
    "start_time": "2021-07-07T17:46:16.605Z"
   },
   {
    "duration": 9,
    "start_time": "2021-07-07T17:46:16.610Z"
   },
   {
    "duration": 9,
    "start_time": "2021-07-07T17:46:16.621Z"
   },
   {
    "duration": 10,
    "start_time": "2021-07-07T17:46:16.632Z"
   },
   {
    "duration": 43,
    "start_time": "2021-07-07T17:46:16.644Z"
   },
   {
    "duration": 26,
    "start_time": "2021-07-07T17:46:16.689Z"
   },
   {
    "duration": 19,
    "start_time": "2021-07-07T17:46:16.718Z"
   },
   {
    "duration": 8,
    "start_time": "2021-07-07T17:46:16.738Z"
   },
   {
    "duration": 43,
    "start_time": "2021-07-07T17:46:16.747Z"
   },
   {
    "duration": 19,
    "start_time": "2021-07-07T17:46:16.791Z"
   },
   {
    "duration": 9,
    "start_time": "2021-07-07T17:46:16.812Z"
   },
   {
    "duration": 60,
    "start_time": "2021-07-07T17:46:16.822Z"
   },
   {
    "duration": -8,
    "start_time": "2021-07-07T17:46:16.892Z"
   },
   {
    "duration": 12,
    "start_time": "2021-07-07T17:48:47.707Z"
   },
   {
    "duration": 553,
    "start_time": "2021-07-07T18:10:09.350Z"
   },
   {
    "duration": 230,
    "start_time": "2021-07-07T18:10:09.905Z"
   },
   {
    "duration": 97,
    "start_time": "2021-07-07T18:10:10.137Z"
   },
   {
    "duration": 5,
    "start_time": "2021-07-07T18:10:10.236Z"
   },
   {
    "duration": 29,
    "start_time": "2021-07-07T18:10:10.242Z"
   },
   {
    "duration": 7,
    "start_time": "2021-07-07T18:10:10.272Z"
   },
   {
    "duration": 15,
    "start_time": "2021-07-07T18:10:10.281Z"
   },
   {
    "duration": 4,
    "start_time": "2021-07-07T18:10:10.299Z"
   },
   {
    "duration": 14,
    "start_time": "2021-07-07T18:10:10.305Z"
   },
   {
    "duration": 8,
    "start_time": "2021-07-07T18:10:10.321Z"
   },
   {
    "duration": 8,
    "start_time": "2021-07-07T18:10:10.331Z"
   },
   {
    "duration": 56,
    "start_time": "2021-07-07T18:10:10.341Z"
   },
   {
    "duration": 19,
    "start_time": "2021-07-07T18:10:10.399Z"
   },
   {
    "duration": 23,
    "start_time": "2021-07-07T18:10:10.419Z"
   },
   {
    "duration": 6,
    "start_time": "2021-07-07T18:10:10.444Z"
   },
   {
    "duration": 9,
    "start_time": "2021-07-07T18:10:10.451Z"
   },
   {
    "duration": 30,
    "start_time": "2021-07-07T18:10:10.462Z"
   },
   {
    "duration": 9,
    "start_time": "2021-07-07T18:10:10.494Z"
   },
   {
    "duration": 14,
    "start_time": "2021-07-07T18:10:10.505Z"
   },
   {
    "duration": 7,
    "start_time": "2021-07-07T18:10:10.521Z"
   },
   {
    "duration": 26,
    "start_time": "2021-07-07T18:10:10.530Z"
   },
   {
    "duration": 44,
    "start_time": "2021-07-07T18:10:10.558Z"
   },
   {
    "duration": 7,
    "start_time": "2021-07-07T18:10:10.605Z"
   },
   {
    "duration": 11,
    "start_time": "2021-07-07T18:10:10.614Z"
   },
   {
    "duration": 19,
    "start_time": "2021-07-07T18:10:10.626Z"
   },
   {
    "duration": 44,
    "start_time": "2021-07-07T18:10:10.646Z"
   },
   {
    "duration": 516,
    "start_time": "2021-07-07T18:14:00.826Z"
   },
   {
    "duration": 230,
    "start_time": "2021-07-07T18:14:01.344Z"
   },
   {
    "duration": 105,
    "start_time": "2021-07-07T18:14:01.576Z"
   },
   {
    "duration": 5,
    "start_time": "2021-07-07T18:14:01.683Z"
   },
   {
    "duration": 46,
    "start_time": "2021-07-07T18:14:01.690Z"
   },
   {
    "duration": 7,
    "start_time": "2021-07-07T18:14:01.738Z"
   },
   {
    "duration": 20,
    "start_time": "2021-07-07T18:14:01.747Z"
   },
   {
    "duration": 16,
    "start_time": "2021-07-07T18:14:01.769Z"
   },
   {
    "duration": 14,
    "start_time": "2021-07-07T18:14:01.787Z"
   },
   {
    "duration": 15,
    "start_time": "2021-07-07T18:14:01.803Z"
   },
   {
    "duration": 12,
    "start_time": "2021-07-07T18:14:01.820Z"
   },
   {
    "duration": 35,
    "start_time": "2021-07-07T18:14:01.833Z"
   },
   {
    "duration": 31,
    "start_time": "2021-07-07T18:14:01.869Z"
   },
   {
    "duration": 37,
    "start_time": "2021-07-07T18:14:01.902Z"
   },
   {
    "duration": 8,
    "start_time": "2021-07-07T18:14:01.942Z"
   },
   {
    "duration": 16,
    "start_time": "2021-07-07T18:14:01.952Z"
   },
   {
    "duration": 13,
    "start_time": "2021-07-07T18:14:01.970Z"
   },
   {
    "duration": 32,
    "start_time": "2021-07-07T18:14:01.985Z"
   },
   {
    "duration": 11,
    "start_time": "2021-07-07T18:14:02.019Z"
   },
   {
    "duration": 22,
    "start_time": "2021-07-07T18:14:02.031Z"
   },
   {
    "duration": 27,
    "start_time": "2021-07-07T18:14:02.055Z"
   },
   {
    "duration": 18,
    "start_time": "2021-07-07T18:14:02.084Z"
   },
   {
    "duration": 18,
    "start_time": "2021-07-07T18:14:02.106Z"
   },
   {
    "duration": 11,
    "start_time": "2021-07-07T18:14:02.126Z"
   },
   {
    "duration": 21,
    "start_time": "2021-07-07T18:14:02.138Z"
   },
   {
    "duration": 32,
    "start_time": "2021-07-07T18:14:02.161Z"
   },
   {
    "duration": 28,
    "start_time": "2021-07-07T18:14:44.295Z"
   },
   {
    "duration": 6,
    "start_time": "2021-07-07T18:15:05.834Z"
   },
   {
    "duration": 511,
    "start_time": "2021-07-07T18:15:41.541Z"
   },
   {
    "duration": 183,
    "start_time": "2021-07-07T18:15:42.054Z"
   },
   {
    "duration": 50,
    "start_time": "2021-07-07T18:15:42.239Z"
   },
   {
    "duration": 5,
    "start_time": "2021-07-07T18:15:42.291Z"
   },
   {
    "duration": 48,
    "start_time": "2021-07-07T18:15:42.297Z"
   },
   {
    "duration": 8,
    "start_time": "2021-07-07T18:15:42.346Z"
   },
   {
    "duration": 17,
    "start_time": "2021-07-07T18:15:42.356Z"
   },
   {
    "duration": 15,
    "start_time": "2021-07-07T18:15:42.375Z"
   },
   {
    "duration": 12,
    "start_time": "2021-07-07T18:15:42.392Z"
   },
   {
    "duration": 7,
    "start_time": "2021-07-07T18:15:42.406Z"
   },
   {
    "duration": 7,
    "start_time": "2021-07-07T18:15:42.415Z"
   },
   {
    "duration": 29,
    "start_time": "2021-07-07T18:15:42.423Z"
   },
   {
    "duration": 43,
    "start_time": "2021-07-07T18:15:42.453Z"
   },
   {
    "duration": 18,
    "start_time": "2021-07-07T18:15:42.497Z"
   },
   {
    "duration": 6,
    "start_time": "2021-07-07T18:15:42.516Z"
   },
   {
    "duration": 3,
    "start_time": "2021-07-07T18:15:42.523Z"
   },
   {
    "duration": 18,
    "start_time": "2021-07-07T18:15:42.528Z"
   },
   {
    "duration": 10,
    "start_time": "2021-07-07T18:15:42.547Z"
   },
   {
    "duration": 36,
    "start_time": "2021-07-07T18:15:42.559Z"
   },
   {
    "duration": 8,
    "start_time": "2021-07-07T18:15:42.597Z"
   },
   {
    "duration": 28,
    "start_time": "2021-07-07T18:15:42.606Z"
   },
   {
    "duration": 52,
    "start_time": "2021-07-07T18:15:42.635Z"
   },
   {
    "duration": 7,
    "start_time": "2021-07-07T18:15:42.690Z"
   },
   {
    "duration": 10,
    "start_time": "2021-07-07T18:15:42.699Z"
   },
   {
    "duration": 19,
    "start_time": "2021-07-07T18:15:42.711Z"
   },
   {
    "duration": 9,
    "start_time": "2021-07-07T18:15:42.732Z"
   },
   {
    "duration": 5,
    "start_time": "2021-07-07T18:15:42.743Z"
   },
   {
    "duration": 1450,
    "start_time": "2021-07-07T18:15:51.984Z"
   },
   {
    "duration": 161,
    "start_time": "2021-07-07T18:15:53.435Z"
   },
   {
    "duration": 124,
    "start_time": "2021-07-07T18:15:53.598Z"
   },
   {
    "duration": 5,
    "start_time": "2021-07-07T18:15:53.724Z"
   },
   {
    "duration": 34,
    "start_time": "2021-07-07T18:15:53.730Z"
   },
   {
    "duration": 7,
    "start_time": "2021-07-07T18:15:53.765Z"
   },
   {
    "duration": 15,
    "start_time": "2021-07-07T18:15:53.773Z"
   },
   {
    "duration": 5,
    "start_time": "2021-07-07T18:15:53.791Z"
   },
   {
    "duration": 19,
    "start_time": "2021-07-07T18:15:53.798Z"
   },
   {
    "duration": 9,
    "start_time": "2021-07-07T18:15:53.818Z"
   },
   {
    "duration": 19,
    "start_time": "2021-07-07T18:15:53.828Z"
   },
   {
    "duration": 27,
    "start_time": "2021-07-07T18:15:53.848Z"
   },
   {
    "duration": 16,
    "start_time": "2021-07-07T18:15:53.884Z"
   },
   {
    "duration": 29,
    "start_time": "2021-07-07T18:15:53.901Z"
   },
   {
    "duration": 5,
    "start_time": "2021-07-07T18:15:53.932Z"
   },
   {
    "duration": 15,
    "start_time": "2021-07-07T18:15:53.939Z"
   },
   {
    "duration": 13,
    "start_time": "2021-07-07T18:15:53.956Z"
   },
   {
    "duration": 20,
    "start_time": "2021-07-07T18:15:53.971Z"
   },
   {
    "duration": 14,
    "start_time": "2021-07-07T18:15:53.992Z"
   },
   {
    "duration": 9,
    "start_time": "2021-07-07T18:15:54.009Z"
   },
   {
    "duration": 28,
    "start_time": "2021-07-07T18:15:54.020Z"
   },
   {
    "duration": 50,
    "start_time": "2021-07-07T18:15:54.051Z"
   },
   {
    "duration": 8,
    "start_time": "2021-07-07T18:15:54.105Z"
   },
   {
    "duration": 11,
    "start_time": "2021-07-07T18:15:54.115Z"
   },
   {
    "duration": 20,
    "start_time": "2021-07-07T18:15:54.128Z"
   },
   {
    "duration": 13,
    "start_time": "2021-07-07T18:15:54.184Z"
   },
   {
    "duration": 7,
    "start_time": "2021-07-07T18:15:54.199Z"
   },
   {
    "duration": 7,
    "start_time": "2021-07-07T18:17:08.042Z"
   },
   {
    "duration": 8,
    "start_time": "2021-07-07T18:17:21.008Z"
   },
   {
    "duration": 7,
    "start_time": "2021-07-07T18:17:29.003Z"
   },
   {
    "duration": 8,
    "start_time": "2021-07-07T18:17:32.492Z"
   },
   {
    "duration": 9,
    "start_time": "2021-07-07T18:17:41.758Z"
   },
   {
    "duration": 255,
    "start_time": "2021-07-07T18:20:20.897Z"
   },
   {
    "duration": 173,
    "start_time": "2021-07-07T18:20:26.636Z"
   },
   {
    "duration": 7,
    "start_time": "2021-07-07T18:21:47.164Z"
   },
   {
    "duration": 254,
    "start_time": "2021-07-07T18:23:08.703Z"
   },
   {
    "duration": 21,
    "start_time": "2021-07-07T18:23:22.506Z"
   },
   {
    "duration": 315,
    "start_time": "2021-07-07T18:25:54.801Z"
   },
   {
    "duration": 34,
    "start_time": "2021-07-07T18:26:51.817Z"
   },
   {
    "duration": 327,
    "start_time": "2021-07-07T18:26:56.147Z"
   },
   {
    "duration": 342,
    "start_time": "2021-07-07T18:27:15.887Z"
   },
   {
    "duration": 302,
    "start_time": "2021-07-07T18:28:18.569Z"
   },
   {
    "duration": 226,
    "start_time": "2021-07-07T18:29:20.879Z"
   },
   {
    "duration": 207,
    "start_time": "2021-07-07T18:29:58.114Z"
   },
   {
    "duration": 140,
    "start_time": "2021-07-07T18:32:04.372Z"
   },
   {
    "duration": 158,
    "start_time": "2021-07-07T18:32:32.508Z"
   },
   {
    "duration": 145,
    "start_time": "2021-07-07T18:32:41.365Z"
   },
   {
    "duration": 132,
    "start_time": "2021-07-07T18:32:45.199Z"
   },
   {
    "duration": 11,
    "start_time": "2021-07-07T18:35:24.679Z"
   },
   {
    "duration": 268,
    "start_time": "2021-07-07T18:36:16.145Z"
   },
   {
    "duration": 227,
    "start_time": "2021-07-07T18:37:04.918Z"
   },
   {
    "duration": 3,
    "start_time": "2021-07-07T18:37:33.012Z"
   },
   {
    "duration": 671,
    "start_time": "2021-07-07T18:37:38.295Z"
   },
   {
    "duration": 54,
    "start_time": "2021-07-07T18:37:53.406Z"
   },
   {
    "duration": 631,
    "start_time": "2021-07-07T18:37:56.463Z"
   },
   {
    "duration": 19,
    "start_time": "2021-07-07T18:39:40.535Z"
   },
   {
    "duration": 20,
    "start_time": "2021-07-07T18:40:12.236Z"
   },
   {
    "duration": 633,
    "start_time": "2021-07-07T18:42:00.398Z"
   },
   {
    "duration": 218,
    "start_time": "2021-07-07T18:42:01.033Z"
   },
   {
    "duration": 49,
    "start_time": "2021-07-07T18:42:01.253Z"
   },
   {
    "duration": 5,
    "start_time": "2021-07-07T18:42:01.303Z"
   },
   {
    "duration": 27,
    "start_time": "2021-07-07T18:42:01.310Z"
   },
   {
    "duration": 8,
    "start_time": "2021-07-07T18:42:01.339Z"
   },
   {
    "duration": 20,
    "start_time": "2021-07-07T18:42:01.348Z"
   },
   {
    "duration": 6,
    "start_time": "2021-07-07T18:42:01.386Z"
   },
   {
    "duration": 16,
    "start_time": "2021-07-07T18:42:01.394Z"
   },
   {
    "duration": 9,
    "start_time": "2021-07-07T18:42:01.411Z"
   },
   {
    "duration": 11,
    "start_time": "2021-07-07T18:42:01.421Z"
   },
   {
    "duration": 31,
    "start_time": "2021-07-07T18:42:01.434Z"
   },
   {
    "duration": 18,
    "start_time": "2021-07-07T18:42:01.485Z"
   },
   {
    "duration": 23,
    "start_time": "2021-07-07T18:42:01.505Z"
   },
   {
    "duration": 6,
    "start_time": "2021-07-07T18:42:01.530Z"
   },
   {
    "duration": 10,
    "start_time": "2021-07-07T18:42:01.538Z"
   },
   {
    "duration": 13,
    "start_time": "2021-07-07T18:42:01.550Z"
   },
   {
    "duration": 24,
    "start_time": "2021-07-07T18:42:01.564Z"
   },
   {
    "duration": 20,
    "start_time": "2021-07-07T18:42:01.590Z"
   },
   {
    "duration": 8,
    "start_time": "2021-07-07T18:42:01.611Z"
   },
   {
    "duration": 31,
    "start_time": "2021-07-07T18:42:01.620Z"
   },
   {
    "duration": 39,
    "start_time": "2021-07-07T18:42:01.653Z"
   },
   {
    "duration": 8,
    "start_time": "2021-07-07T18:42:01.696Z"
   },
   {
    "duration": 13,
    "start_time": "2021-07-07T18:42:01.705Z"
   },
   {
    "duration": 20,
    "start_time": "2021-07-07T18:42:01.720Z"
   },
   {
    "duration": 12,
    "start_time": "2021-07-07T18:42:01.741Z"
   },
   {
    "duration": 35,
    "start_time": "2021-07-07T18:42:01.755Z"
   },
   {
    "duration": 14,
    "start_time": "2021-07-07T18:42:01.792Z"
   },
   {
    "duration": 188,
    "start_time": "2021-07-07T18:42:01.808Z"
   },
   {
    "duration": 19,
    "start_time": "2021-07-07T18:42:01.998Z"
   },
   {
    "duration": 175,
    "start_time": "2021-07-07T18:42:02.019Z"
   },
   {
    "duration": 134,
    "start_time": "2021-07-07T18:42:02.196Z"
   },
   {
    "duration": 10,
    "start_time": "2021-07-07T18:42:02.331Z"
   },
   {
    "duration": 19,
    "start_time": "2021-07-07T18:42:02.343Z"
   },
   {
    "duration": 628,
    "start_time": "2021-07-07T18:46:30.701Z"
   },
   {
    "duration": 183,
    "start_time": "2021-07-07T18:46:31.331Z"
   },
   {
    "duration": 48,
    "start_time": "2021-07-07T18:46:31.516Z"
   },
   {
    "duration": 5,
    "start_time": "2021-07-07T18:46:31.566Z"
   },
   {
    "duration": 28,
    "start_time": "2021-07-07T18:46:31.572Z"
   },
   {
    "duration": 8,
    "start_time": "2021-07-07T18:46:31.602Z"
   },
   {
    "duration": 19,
    "start_time": "2021-07-07T18:46:31.611Z"
   },
   {
    "duration": 6,
    "start_time": "2021-07-07T18:46:31.633Z"
   },
   {
    "duration": 17,
    "start_time": "2021-07-07T18:46:31.642Z"
   },
   {
    "duration": 10,
    "start_time": "2021-07-07T18:46:31.684Z"
   },
   {
    "duration": 9,
    "start_time": "2021-07-07T18:46:31.695Z"
   },
   {
    "duration": 28,
    "start_time": "2021-07-07T18:46:31.705Z"
   },
   {
    "duration": 18,
    "start_time": "2021-07-07T18:46:31.735Z"
   },
   {
    "duration": 48,
    "start_time": "2021-07-07T18:46:31.755Z"
   },
   {
    "duration": 6,
    "start_time": "2021-07-07T18:46:31.804Z"
   },
   {
    "duration": 4,
    "start_time": "2021-07-07T18:46:31.812Z"
   },
   {
    "duration": 9,
    "start_time": "2021-07-07T18:46:31.817Z"
   },
   {
    "duration": 10,
    "start_time": "2021-07-07T18:46:31.827Z"
   },
   {
    "duration": 12,
    "start_time": "2021-07-07T18:46:31.838Z"
   },
   {
    "duration": 39,
    "start_time": "2021-07-07T18:46:31.851Z"
   },
   {
    "duration": 24,
    "start_time": "2021-07-07T18:46:31.892Z"
   },
   {
    "duration": 15,
    "start_time": "2021-07-07T18:46:31.918Z"
   },
   {
    "duration": 7,
    "start_time": "2021-07-07T18:46:31.936Z"
   },
   {
    "duration": 8,
    "start_time": "2021-07-07T18:46:31.944Z"
   },
   {
    "duration": 19,
    "start_time": "2021-07-07T18:46:31.984Z"
   },
   {
    "duration": 10,
    "start_time": "2021-07-07T18:46:32.004Z"
   },
   {
    "duration": 5,
    "start_time": "2021-07-07T18:46:32.016Z"
   },
   {
    "duration": 9,
    "start_time": "2021-07-07T18:46:32.023Z"
   },
   {
    "duration": 199,
    "start_time": "2021-07-07T18:46:32.033Z"
   },
   {
    "duration": 19,
    "start_time": "2021-07-07T18:46:32.234Z"
   },
   {
    "duration": 159,
    "start_time": "2021-07-07T18:46:32.255Z"
   },
   {
    "duration": 134,
    "start_time": "2021-07-07T18:46:32.416Z"
   },
   {
    "duration": 10,
    "start_time": "2021-07-07T18:46:32.552Z"
   },
   {
    "duration": 34,
    "start_time": "2021-07-07T18:46:32.563Z"
   },
   {
    "duration": 1039,
    "start_time": "2021-07-08T08:41:09.419Z"
   },
   {
    "duration": 333,
    "start_time": "2021-07-08T08:41:10.459Z"
   },
   {
    "duration": 173,
    "start_time": "2021-07-08T08:41:10.794Z"
   },
   {
    "duration": 5,
    "start_time": "2021-07-08T08:41:10.968Z"
   },
   {
    "duration": 25,
    "start_time": "2021-07-08T08:41:10.975Z"
   },
   {
    "duration": 9,
    "start_time": "2021-07-08T08:41:11.002Z"
   },
   {
    "duration": 18,
    "start_time": "2021-07-08T08:41:11.013Z"
   },
   {
    "duration": 6,
    "start_time": "2021-07-08T08:41:11.033Z"
   },
   {
    "duration": 44,
    "start_time": "2021-07-08T08:41:11.042Z"
   },
   {
    "duration": 10,
    "start_time": "2021-07-08T08:41:11.088Z"
   },
   {
    "duration": 9,
    "start_time": "2021-07-08T08:41:11.100Z"
   },
   {
    "duration": 27,
    "start_time": "2021-07-08T08:41:11.111Z"
   },
   {
    "duration": 46,
    "start_time": "2021-07-08T08:41:11.140Z"
   },
   {
    "duration": 17,
    "start_time": "2021-07-08T08:41:11.187Z"
   },
   {
    "duration": 6,
    "start_time": "2021-07-08T08:41:11.206Z"
   },
   {
    "duration": 5,
    "start_time": "2021-07-08T08:41:11.213Z"
   },
   {
    "duration": 10,
    "start_time": "2021-07-08T08:41:11.219Z"
   },
   {
    "duration": 9,
    "start_time": "2021-07-08T08:41:11.230Z"
   },
   {
    "duration": 45,
    "start_time": "2021-07-08T08:41:11.241Z"
   },
   {
    "duration": 7,
    "start_time": "2021-07-08T08:41:11.287Z"
   },
   {
    "duration": 24,
    "start_time": "2021-07-08T08:41:11.296Z"
   },
   {
    "duration": 16,
    "start_time": "2021-07-08T08:41:11.322Z"
   },
   {
    "duration": 7,
    "start_time": "2021-07-08T08:41:11.341Z"
   },
   {
    "duration": 41,
    "start_time": "2021-07-08T08:41:11.349Z"
   },
   {
    "duration": 17,
    "start_time": "2021-07-08T08:41:11.391Z"
   },
   {
    "duration": 9,
    "start_time": "2021-07-08T08:41:11.410Z"
   },
   {
    "duration": 5,
    "start_time": "2021-07-08T08:41:11.421Z"
   },
   {
    "duration": 6,
    "start_time": "2021-07-08T08:41:11.428Z"
   },
   {
    "duration": 198,
    "start_time": "2021-07-08T08:41:11.435Z"
   },
   {
    "duration": 18,
    "start_time": "2021-07-08T08:41:11.635Z"
   },
   {
    "duration": 155,
    "start_time": "2021-07-08T08:41:11.655Z"
   },
   {
    "duration": 138,
    "start_time": "2021-07-08T08:41:11.811Z"
   },
   {
    "duration": 10,
    "start_time": "2021-07-08T08:41:11.950Z"
   },
   {
    "duration": 29,
    "start_time": "2021-07-08T08:41:11.961Z"
   },
   {
    "duration": 171,
    "start_time": "2021-07-08T08:47:44.522Z"
   },
   {
    "duration": 124,
    "start_time": "2021-07-08T08:47:46.872Z"
   },
   {
    "duration": 191,
    "start_time": "2021-07-08T08:47:58.148Z"
   },
   {
    "duration": 191,
    "start_time": "2021-07-08T08:48:07.412Z"
   },
   {
    "duration": 261,
    "start_time": "2021-07-08T08:48:10.385Z"
   },
   {
    "duration": 255,
    "start_time": "2021-07-08T08:48:14.494Z"
   },
   {
    "duration": 219,
    "start_time": "2021-07-08T08:48:22.752Z"
   },
   {
    "duration": 173,
    "start_time": "2021-07-08T08:49:06.395Z"
   },
   {
    "duration": 180,
    "start_time": "2021-07-08T08:49:21.011Z"
   },
   {
    "duration": 6,
    "start_time": "2021-07-08T08:50:31.697Z"
   },
   {
    "duration": 10,
    "start_time": "2021-07-08T08:50:47.394Z"
   },
   {
    "duration": 11,
    "start_time": "2021-07-08T08:53:49.332Z"
   },
   {
    "duration": 171,
    "start_time": "2021-07-08T08:54:28.408Z"
   },
   {
    "duration": 636,
    "start_time": "2021-07-08T09:02:48.385Z"
   },
   {
    "duration": 227,
    "start_time": "2021-07-08T09:02:49.023Z"
   },
   {
    "duration": 104,
    "start_time": "2021-07-08T09:02:49.252Z"
   },
   {
    "duration": 5,
    "start_time": "2021-07-08T09:02:49.358Z"
   },
   {
    "duration": 27,
    "start_time": "2021-07-08T09:02:49.365Z"
   },
   {
    "duration": 8,
    "start_time": "2021-07-08T09:02:49.394Z"
   },
   {
    "duration": 18,
    "start_time": "2021-07-08T09:02:49.404Z"
   },
   {
    "duration": 6,
    "start_time": "2021-07-08T09:02:49.424Z"
   },
   {
    "duration": 11,
    "start_time": "2021-07-08T09:02:49.433Z"
   },
   {
    "duration": 13,
    "start_time": "2021-07-08T09:02:49.485Z"
   },
   {
    "duration": 9,
    "start_time": "2021-07-08T09:02:49.500Z"
   },
   {
    "duration": 38,
    "start_time": "2021-07-08T09:02:49.511Z"
   },
   {
    "duration": 42,
    "start_time": "2021-07-08T09:02:49.551Z"
   },
   {
    "duration": 21,
    "start_time": "2021-07-08T09:02:49.594Z"
   },
   {
    "duration": 6,
    "start_time": "2021-07-08T09:02:49.616Z"
   },
   {
    "duration": 3,
    "start_time": "2021-07-08T09:02:49.623Z"
   },
   {
    "duration": 9,
    "start_time": "2021-07-08T09:02:49.628Z"
   },
   {
    "duration": 52,
    "start_time": "2021-07-08T09:02:49.638Z"
   },
   {
    "duration": 11,
    "start_time": "2021-07-08T09:02:49.692Z"
   },
   {
    "duration": 8,
    "start_time": "2021-07-08T09:02:49.704Z"
   },
   {
    "duration": 27,
    "start_time": "2021-07-08T09:02:49.713Z"
   },
   {
    "duration": 59,
    "start_time": "2021-07-08T09:02:49.741Z"
   },
   {
    "duration": 8,
    "start_time": "2021-07-08T09:02:49.803Z"
   },
   {
    "duration": 14,
    "start_time": "2021-07-08T09:02:49.813Z"
   },
   {
    "duration": 20,
    "start_time": "2021-07-08T09:02:49.829Z"
   },
   {
    "duration": 44,
    "start_time": "2021-07-08T09:02:49.851Z"
   },
   {
    "duration": 14,
    "start_time": "2021-07-08T09:02:49.896Z"
   },
   {
    "duration": 221,
    "start_time": "2021-07-08T09:02:49.912Z"
   },
   {
    "duration": 6,
    "start_time": "2021-07-08T09:02:50.134Z"
   },
   {
    "duration": 206,
    "start_time": "2021-07-08T09:02:50.142Z"
   },
   {
    "duration": 19,
    "start_time": "2021-07-08T09:02:50.350Z"
   },
   {
    "duration": 21,
    "start_time": "2021-07-08T09:02:50.370Z"
   },
   {
    "duration": 20,
    "start_time": "2021-07-08T09:02:50.393Z"
   },
   {
    "duration": 5,
    "start_time": "2021-07-08T09:02:50.414Z"
   },
   {
    "duration": 5,
    "start_time": "2021-07-08T09:03:34.173Z"
   },
   {
    "duration": 6,
    "start_time": "2021-07-08T09:04:49.062Z"
   },
   {
    "duration": 9,
    "start_time": "2021-07-08T09:04:50.118Z"
   },
   {
    "duration": 14,
    "start_time": "2021-07-08T09:04:58.512Z"
   },
   {
    "duration": 9,
    "start_time": "2021-07-08T09:05:10.988Z"
   },
   {
    "duration": 11,
    "start_time": "2021-07-08T09:05:11.743Z"
   },
   {
    "duration": 7,
    "start_time": "2021-07-08T09:05:25.677Z"
   },
   {
    "duration": 13,
    "start_time": "2021-07-08T09:05:47.189Z"
   },
   {
    "duration": 13,
    "start_time": "2021-07-08T09:05:54.755Z"
   },
   {
    "duration": 4,
    "start_time": "2021-07-08T09:06:29.189Z"
   },
   {
    "duration": 244,
    "start_time": "2021-07-08T09:06:29.195Z"
   },
   {
    "duration": 91,
    "start_time": "2021-07-08T09:06:29.441Z"
   },
   {
    "duration": 4,
    "start_time": "2021-07-08T09:06:29.534Z"
   },
   {
    "duration": 28,
    "start_time": "2021-07-08T09:06:29.540Z"
   },
   {
    "duration": 6,
    "start_time": "2021-07-08T09:06:29.570Z"
   },
   {
    "duration": 18,
    "start_time": "2021-07-08T09:06:29.578Z"
   },
   {
    "duration": 5,
    "start_time": "2021-07-08T09:06:29.597Z"
   },
   {
    "duration": 13,
    "start_time": "2021-07-08T09:06:29.605Z"
   },
   {
    "duration": 8,
    "start_time": "2021-07-08T09:06:29.620Z"
   },
   {
    "duration": 7,
    "start_time": "2021-07-08T09:06:29.630Z"
   },
   {
    "duration": 63,
    "start_time": "2021-07-08T09:06:29.639Z"
   },
   {
    "duration": 17,
    "start_time": "2021-07-08T09:06:29.704Z"
   },
   {
    "duration": 20,
    "start_time": "2021-07-08T09:06:29.723Z"
   },
   {
    "duration": 6,
    "start_time": "2021-07-08T09:06:29.745Z"
   },
   {
    "duration": 3,
    "start_time": "2021-07-08T09:06:29.752Z"
   },
   {
    "duration": 7,
    "start_time": "2021-07-08T09:06:29.785Z"
   },
   {
    "duration": 11,
    "start_time": "2021-07-08T09:06:29.794Z"
   },
   {
    "duration": 15,
    "start_time": "2021-07-08T09:06:29.807Z"
   },
   {
    "duration": 8,
    "start_time": "2021-07-08T09:06:29.823Z"
   },
   {
    "duration": 70,
    "start_time": "2021-07-08T09:06:29.832Z"
   },
   {
    "duration": 17,
    "start_time": "2021-07-08T09:06:29.903Z"
   },
   {
    "duration": 9,
    "start_time": "2021-07-08T09:06:29.921Z"
   },
   {
    "duration": 9,
    "start_time": "2021-07-08T09:06:29.932Z"
   },
   {
    "duration": 57,
    "start_time": "2021-07-08T09:06:29.942Z"
   },
   {
    "duration": 11,
    "start_time": "2021-07-08T09:06:30.001Z"
   },
   {
    "duration": 19,
    "start_time": "2021-07-08T09:06:30.016Z"
   },
   {
    "duration": 217,
    "start_time": "2021-07-08T09:06:30.037Z"
   },
   {
    "duration": 6,
    "start_time": "2021-07-08T09:06:30.255Z"
   },
   {
    "duration": 205,
    "start_time": "2021-07-08T09:06:30.263Z"
   },
   {
    "duration": 27,
    "start_time": "2021-07-08T09:06:30.470Z"
   },
   {
    "duration": 11,
    "start_time": "2021-07-08T09:06:30.500Z"
   },
   {
    "duration": 31,
    "start_time": "2021-07-08T09:06:30.513Z"
   },
   {
    "duration": 18,
    "start_time": "2021-07-08T09:06:30.546Z"
   },
   {
    "duration": 11,
    "start_time": "2021-07-08T09:06:30.566Z"
   },
   {
    "duration": 19,
    "start_time": "2021-07-08T09:06:30.579Z"
   },
   {
    "duration": 20,
    "start_time": "2021-07-08T09:06:49.466Z"
   },
   {
    "duration": 9,
    "start_time": "2021-07-08T09:06:51.994Z"
   },
   {
    "duration": 20,
    "start_time": "2021-07-08T09:06:52.273Z"
   },
   {
    "duration": 246,
    "start_time": "2021-07-08T09:10:21.272Z"
   },
   {
    "duration": 84,
    "start_time": "2021-07-08T09:10:21.436Z"
   },
   {
    "duration": 7,
    "start_time": "2021-07-08T09:10:37.608Z"
   },
   {
    "duration": 189,
    "start_time": "2021-07-08T09:10:38.573Z"
   },
   {
    "duration": 185,
    "start_time": "2021-07-08T09:10:53.181Z"
   },
   {
    "duration": 11,
    "start_time": "2021-07-08T09:10:59.549Z"
   },
   {
    "duration": 42,
    "start_time": "2021-07-08T09:10:59.709Z"
   },
   {
    "duration": 12,
    "start_time": "2021-07-08T09:11:02.857Z"
   },
   {
    "duration": 28,
    "start_time": "2021-07-08T09:11:10.062Z"
   },
   {
    "duration": 249,
    "start_time": "2021-07-08T09:11:37.388Z"
   },
   {
    "duration": 232,
    "start_time": "2021-07-08T09:11:49.485Z"
   },
   {
    "duration": 453,
    "start_time": "2021-07-08T09:12:01.546Z"
   },
   {
    "duration": 440,
    "start_time": "2021-07-08T09:12:12.347Z"
   },
   {
    "duration": 213,
    "start_time": "2021-07-08T09:13:32.196Z"
   },
   {
    "duration": 172,
    "start_time": "2021-07-08T09:14:07.400Z"
   },
   {
    "duration": 185,
    "start_time": "2021-07-08T09:14:14.905Z"
   },
   {
    "duration": 209,
    "start_time": "2021-07-08T09:14:40.109Z"
   },
   {
    "duration": 201,
    "start_time": "2021-07-08T09:14:54.506Z"
   },
   {
    "duration": 622,
    "start_time": "2021-07-08T09:18:14.497Z"
   },
   {
    "duration": 220,
    "start_time": "2021-07-08T09:18:15.121Z"
   },
   {
    "duration": 79,
    "start_time": "2021-07-08T09:18:15.343Z"
   },
   {
    "duration": 4,
    "start_time": "2021-07-08T09:18:15.425Z"
   },
   {
    "duration": 24,
    "start_time": "2021-07-08T09:18:15.431Z"
   },
   {
    "duration": 8,
    "start_time": "2021-07-08T09:18:15.457Z"
   },
   {
    "duration": 16,
    "start_time": "2021-07-08T09:18:15.466Z"
   },
   {
    "duration": 5,
    "start_time": "2021-07-08T09:18:15.484Z"
   },
   {
    "duration": 10,
    "start_time": "2021-07-08T09:18:15.493Z"
   },
   {
    "duration": 8,
    "start_time": "2021-07-08T09:18:15.504Z"
   },
   {
    "duration": 7,
    "start_time": "2021-07-08T09:18:15.513Z"
   },
   {
    "duration": 26,
    "start_time": "2021-07-08T09:18:15.522Z"
   },
   {
    "duration": 49,
    "start_time": "2021-07-08T09:18:15.550Z"
   },
   {
    "duration": 21,
    "start_time": "2021-07-08T09:18:15.601Z"
   },
   {
    "duration": 8,
    "start_time": "2021-07-08T09:18:15.624Z"
   },
   {
    "duration": 3,
    "start_time": "2021-07-08T09:18:15.634Z"
   },
   {
    "duration": 8,
    "start_time": "2021-07-08T09:18:15.639Z"
   },
   {
    "duration": 45,
    "start_time": "2021-07-08T09:18:15.649Z"
   },
   {
    "duration": 13,
    "start_time": "2021-07-08T09:18:15.696Z"
   },
   {
    "duration": 10,
    "start_time": "2021-07-08T09:18:15.711Z"
   },
   {
    "duration": 64,
    "start_time": "2021-07-08T09:18:15.722Z"
   },
   {
    "duration": 19,
    "start_time": "2021-07-08T09:18:15.788Z"
   },
   {
    "duration": 9,
    "start_time": "2021-07-08T09:18:15.809Z"
   },
   {
    "duration": 9,
    "start_time": "2021-07-08T09:18:15.820Z"
   },
   {
    "duration": 18,
    "start_time": "2021-07-08T09:18:15.831Z"
   },
   {
    "duration": 43,
    "start_time": "2021-07-08T09:18:15.851Z"
   },
   {
    "duration": 12,
    "start_time": "2021-07-08T09:18:15.897Z"
   },
   {
    "duration": 219,
    "start_time": "2021-07-08T09:18:15.911Z"
   },
   {
    "duration": 8,
    "start_time": "2021-07-08T09:18:16.132Z"
   },
   {
    "duration": 199,
    "start_time": "2021-07-08T09:18:16.141Z"
   },
   {
    "duration": 18,
    "start_time": "2021-07-08T09:18:16.341Z"
   },
   {
    "duration": 24,
    "start_time": "2021-07-08T09:18:16.361Z"
   },
   {
    "duration": 24,
    "start_time": "2021-07-08T09:18:16.387Z"
   },
   {
    "duration": 211,
    "start_time": "2021-07-08T09:18:16.413Z"
   },
   {
    "duration": 18,
    "start_time": "2021-07-08T09:18:16.626Z"
   },
   {
    "duration": 596,
    "start_time": "2021-07-08T10:06:33.623Z"
   },
   {
    "duration": 181,
    "start_time": "2021-07-08T10:06:34.221Z"
   },
   {
    "duration": 176,
    "start_time": "2021-07-08T10:06:34.635Z"
   },
   {
    "duration": 239,
    "start_time": "2021-07-08T10:06:55.572Z"
   },
   {
    "duration": 6,
    "start_time": "2021-07-08T10:06:57.687Z"
   },
   {
    "duration": 4,
    "start_time": "2021-07-08T10:07:03.956Z"
   },
   {
    "duration": 4,
    "start_time": "2021-07-08T10:07:10.376Z"
   },
   {
    "duration": 4,
    "start_time": "2021-07-08T10:17:19.889Z"
   },
   {
    "duration": 3,
    "start_time": "2021-07-08T10:19:19.407Z"
   },
   {
    "duration": 197,
    "start_time": "2021-07-08T10:19:19.412Z"
   },
   {
    "duration": 127,
    "start_time": "2021-07-08T10:19:19.611Z"
   },
   {
    "duration": 4,
    "start_time": "2021-07-08T10:19:19.740Z"
   },
   {
    "duration": 27,
    "start_time": "2021-07-08T10:19:19.746Z"
   },
   {
    "duration": 7,
    "start_time": "2021-07-08T10:19:19.775Z"
   },
   {
    "duration": 30,
    "start_time": "2021-07-08T10:19:19.784Z"
   },
   {
    "duration": 7,
    "start_time": "2021-07-08T10:19:19.817Z"
   },
   {
    "duration": 26,
    "start_time": "2021-07-08T10:19:19.826Z"
   },
   {
    "duration": 18,
    "start_time": "2021-07-08T10:19:19.854Z"
   },
   {
    "duration": 14,
    "start_time": "2021-07-08T10:19:19.874Z"
   },
   {
    "duration": 48,
    "start_time": "2021-07-08T10:19:19.890Z"
   },
   {
    "duration": 17,
    "start_time": "2021-07-08T10:19:19.940Z"
   },
   {
    "duration": 38,
    "start_time": "2021-07-08T10:19:19.959Z"
   },
   {
    "duration": 8,
    "start_time": "2021-07-08T10:19:19.999Z"
   },
   {
    "duration": 15,
    "start_time": "2021-07-08T10:19:20.009Z"
   },
   {
    "duration": 22,
    "start_time": "2021-07-08T10:19:20.026Z"
   },
   {
    "duration": 10,
    "start_time": "2021-07-08T10:19:20.050Z"
   },
   {
    "duration": 10,
    "start_time": "2021-07-08T10:19:20.062Z"
   },
   {
    "duration": 20,
    "start_time": "2021-07-08T10:19:20.073Z"
   },
   {
    "duration": 29,
    "start_time": "2021-07-08T10:19:20.095Z"
   },
   {
    "duration": 17,
    "start_time": "2021-07-08T10:19:20.126Z"
   },
   {
    "duration": 40,
    "start_time": "2021-07-08T10:19:20.146Z"
   },
   {
    "duration": 15,
    "start_time": "2021-07-08T10:19:20.189Z"
   },
   {
    "duration": 19,
    "start_time": "2021-07-08T10:19:20.206Z"
   },
   {
    "duration": 10,
    "start_time": "2021-07-08T10:19:20.226Z"
   },
   {
    "duration": 11,
    "start_time": "2021-07-08T10:19:20.238Z"
   },
   {
    "duration": 297,
    "start_time": "2021-07-08T10:19:20.250Z"
   },
   {
    "duration": 6,
    "start_time": "2021-07-08T10:19:20.549Z"
   },
   {
    "duration": 191,
    "start_time": "2021-07-08T10:19:20.557Z"
   },
   {
    "duration": 19,
    "start_time": "2021-07-08T10:19:20.750Z"
   },
   {
    "duration": 20,
    "start_time": "2021-07-08T10:19:20.771Z"
   },
   {
    "duration": 15,
    "start_time": "2021-07-08T10:19:20.793Z"
   },
   {
    "duration": 222,
    "start_time": "2021-07-08T10:19:20.809Z"
   },
   {
    "duration": 20,
    "start_time": "2021-07-08T10:19:21.033Z"
   },
   {
    "duration": 27,
    "start_time": "2021-07-08T10:45:04.055Z"
   },
   {
    "duration": 8,
    "start_time": "2021-07-08T10:45:08.478Z"
   },
   {
    "duration": 8,
    "start_time": "2021-07-08T10:45:31.982Z"
   },
   {
    "duration": 10,
    "start_time": "2021-07-08T10:46:01.221Z"
   },
   {
    "duration": 17,
    "start_time": "2021-07-08T10:46:40.011Z"
   },
   {
    "duration": 193,
    "start_time": "2021-07-08T10:48:19.471Z"
   },
   {
    "duration": 225,
    "start_time": "2021-07-08T10:49:26.480Z"
   },
   {
    "duration": 204,
    "start_time": "2021-07-08T10:49:59.992Z"
   },
   {
    "duration": 435,
    "start_time": "2021-07-08T10:50:06.779Z"
   },
   {
    "duration": 199,
    "start_time": "2021-07-08T10:50:14.891Z"
   },
   {
    "duration": 204,
    "start_time": "2021-07-08T10:50:18.501Z"
   },
   {
    "duration": 244,
    "start_time": "2021-07-08T10:50:23.359Z"
   },
   {
    "duration": 192,
    "start_time": "2021-07-08T10:50:29.135Z"
   },
   {
    "duration": 218,
    "start_time": "2021-07-08T10:50:33.092Z"
   },
   {
    "duration": 207,
    "start_time": "2021-07-08T10:52:45.381Z"
   },
   {
    "duration": 5,
    "start_time": "2021-07-08T10:53:34.641Z"
   },
   {
    "duration": 196,
    "start_time": "2021-07-08T10:53:41.478Z"
   },
   {
    "duration": 43,
    "start_time": "2021-07-08T10:53:50.335Z"
   },
   {
    "duration": 32,
    "start_time": "2021-07-08T10:53:55.294Z"
   },
   {
    "duration": 55,
    "start_time": "2021-07-08T10:54:09.675Z"
   },
   {
    "duration": 16,
    "start_time": "2021-07-08T10:54:12.260Z"
   },
   {
    "duration": 15,
    "start_time": "2021-07-08T10:54:49.150Z"
   },
   {
    "duration": 20,
    "start_time": "2021-07-08T10:56:07.596Z"
   },
   {
    "duration": 16,
    "start_time": "2021-07-08T10:58:26.276Z"
   },
   {
    "duration": 22,
    "start_time": "2021-07-08T10:59:00.486Z"
   },
   {
    "duration": 18,
    "start_time": "2021-07-08T11:02:09.653Z"
   },
   {
    "duration": 10,
    "start_time": "2021-07-08T11:03:44.331Z"
   },
   {
    "duration": 10,
    "start_time": "2021-07-08T11:03:54.055Z"
   },
   {
    "duration": 12,
    "start_time": "2021-07-08T11:04:41.967Z"
   },
   {
    "duration": 24,
    "start_time": "2021-07-08T11:07:30.732Z"
   },
   {
    "duration": 6,
    "start_time": "2021-07-08T11:07:37.364Z"
   },
   {
    "duration": 16,
    "start_time": "2021-07-08T11:08:01.819Z"
   },
   {
    "duration": 17,
    "start_time": "2021-07-08T11:09:47.488Z"
   },
   {
    "duration": 246,
    "start_time": "2021-07-08T11:10:00.830Z"
   },
   {
    "duration": 18,
    "start_time": "2021-07-08T11:13:55.195Z"
   },
   {
    "duration": 204,
    "start_time": "2021-07-08T11:14:04.951Z"
   },
   {
    "duration": 19,
    "start_time": "2021-07-08T11:15:10.613Z"
   },
   {
    "duration": 680,
    "start_time": "2021-07-08T11:16:25.793Z"
   },
   {
    "duration": 451,
    "start_time": "2021-07-08T11:16:40.313Z"
   },
   {
    "duration": 469,
    "start_time": "2021-07-08T11:17:21.286Z"
   },
   {
    "duration": 20,
    "start_time": "2021-07-08T11:19:12.554Z"
   },
   {
    "duration": 35,
    "start_time": "2021-07-08T11:20:05.484Z"
   },
   {
    "duration": 53,
    "start_time": "2021-07-08T11:21:40.050Z"
   },
   {
    "duration": 13,
    "start_time": "2021-07-08T11:22:26.059Z"
   },
   {
    "duration": 19,
    "start_time": "2021-07-08T11:22:47.419Z"
   },
   {
    "duration": 25,
    "start_time": "2021-07-08T11:23:19.958Z"
   },
   {
    "duration": 29,
    "start_time": "2021-07-08T11:23:25.415Z"
   },
   {
    "duration": 10,
    "start_time": "2021-07-08T11:24:45.138Z"
   },
   {
    "duration": 19,
    "start_time": "2021-07-08T11:24:54.498Z"
   },
   {
    "duration": 12,
    "start_time": "2021-07-08T11:25:32.225Z"
   },
   {
    "duration": 19,
    "start_time": "2021-07-08T11:25:37.092Z"
   },
   {
    "duration": 17,
    "start_time": "2021-07-08T11:25:58.116Z"
   },
   {
    "duration": 15,
    "start_time": "2021-07-08T11:26:02.258Z"
   },
   {
    "duration": 8,
    "start_time": "2021-07-08T11:26:59.682Z"
   },
   {
    "duration": 184,
    "start_time": "2021-07-08T11:27:21.894Z"
   },
   {
    "duration": 8,
    "start_time": "2021-07-08T11:27:23.824Z"
   },
   {
    "duration": 202,
    "start_time": "2021-07-08T11:27:23.962Z"
   },
   {
    "duration": 360,
    "start_time": "2021-07-08T11:28:33.215Z"
   },
   {
    "duration": 231,
    "start_time": "2021-07-08T11:32:05.542Z"
   },
   {
    "duration": 607,
    "start_time": "2021-07-08T11:36:27.854Z"
   },
   {
    "duration": 241,
    "start_time": "2021-07-08T11:36:28.463Z"
   },
   {
    "duration": 67,
    "start_time": "2021-07-08T11:36:28.709Z"
   },
   {
    "duration": 5,
    "start_time": "2021-07-08T11:36:28.778Z"
   },
   {
    "duration": 32,
    "start_time": "2021-07-08T11:36:28.784Z"
   },
   {
    "duration": 11,
    "start_time": "2021-07-08T11:36:28.819Z"
   },
   {
    "duration": 20,
    "start_time": "2021-07-08T11:36:28.834Z"
   },
   {
    "duration": 36,
    "start_time": "2021-07-08T11:36:28.857Z"
   },
   {
    "duration": 16,
    "start_time": "2021-07-08T11:36:28.895Z"
   },
   {
    "duration": 14,
    "start_time": "2021-07-08T11:36:28.913Z"
   },
   {
    "duration": 9,
    "start_time": "2021-07-08T11:36:28.930Z"
   },
   {
    "duration": 55,
    "start_time": "2021-07-08T11:36:28.941Z"
   },
   {
    "duration": 27,
    "start_time": "2021-07-08T11:36:28.999Z"
   },
   {
    "duration": 30,
    "start_time": "2021-07-08T11:36:29.028Z"
   },
   {
    "duration": 31,
    "start_time": "2021-07-08T11:36:29.060Z"
   },
   {
    "duration": 3,
    "start_time": "2021-07-08T11:36:29.093Z"
   },
   {
    "duration": 12,
    "start_time": "2021-07-08T11:36:29.099Z"
   },
   {
    "duration": 11,
    "start_time": "2021-07-08T11:36:29.112Z"
   },
   {
    "duration": 12,
    "start_time": "2021-07-08T11:36:29.125Z"
   },
   {
    "duration": 9,
    "start_time": "2021-07-08T11:36:29.139Z"
   },
   {
    "duration": 31,
    "start_time": "2021-07-08T11:36:29.191Z"
   },
   {
    "duration": 17,
    "start_time": "2021-07-08T11:36:29.226Z"
   },
   {
    "duration": 7,
    "start_time": "2021-07-08T11:36:29.245Z"
   },
   {
    "duration": 10,
    "start_time": "2021-07-08T11:36:29.254Z"
   },
   {
    "duration": 30,
    "start_time": "2021-07-08T11:36:29.292Z"
   },
   {
    "duration": 11,
    "start_time": "2021-07-08T11:36:29.324Z"
   },
   {
    "duration": 11,
    "start_time": "2021-07-08T11:36:29.337Z"
   },
   {
    "duration": 230,
    "start_time": "2021-07-08T11:36:29.349Z"
   },
   {
    "duration": 13,
    "start_time": "2021-07-08T11:36:29.588Z"
   },
   {
    "duration": 205,
    "start_time": "2021-07-08T11:36:29.603Z"
   },
   {
    "duration": 20,
    "start_time": "2021-07-08T11:36:29.810Z"
   },
   {
    "duration": 9,
    "start_time": "2021-07-08T11:36:29.832Z"
   },
   {
    "duration": 16,
    "start_time": "2021-07-08T11:36:29.843Z"
   },
   {
    "duration": 283,
    "start_time": "2021-07-08T11:36:29.861Z"
   },
   {
    "duration": 50,
    "start_time": "2021-07-08T11:36:30.146Z"
   },
   {
    "duration": 14,
    "start_time": "2021-07-08T11:36:30.198Z"
   },
   {
    "duration": 11,
    "start_time": "2021-07-08T11:36:30.214Z"
   },
   {
    "duration": 245,
    "start_time": "2021-07-08T11:36:30.227Z"
   },
   {
    "duration": 439,
    "start_time": "2021-07-08T11:36:30.474Z"
   },
   {
    "duration": 210,
    "start_time": "2021-07-08T11:36:30.915Z"
   },
   {
    "duration": 15,
    "start_time": "2021-07-08T11:36:31.127Z"
   },
   {
    "duration": 17,
    "start_time": "2021-07-08T11:38:20.451Z"
   },
   {
    "duration": 642,
    "start_time": "2021-07-08T11:46:17.881Z"
   },
   {
    "duration": 210,
    "start_time": "2021-07-08T11:46:18.525Z"
   },
   {
    "duration": 104,
    "start_time": "2021-07-08T11:46:18.741Z"
   },
   {
    "duration": 8,
    "start_time": "2021-07-08T11:46:18.847Z"
   },
   {
    "duration": 25,
    "start_time": "2021-07-08T11:46:18.857Z"
   },
   {
    "duration": 14,
    "start_time": "2021-07-08T11:46:18.884Z"
   },
   {
    "duration": 22,
    "start_time": "2021-07-08T11:46:18.900Z"
   },
   {
    "duration": 5,
    "start_time": "2021-07-08T11:46:18.924Z"
   },
   {
    "duration": 13,
    "start_time": "2021-07-08T11:46:18.931Z"
   },
   {
    "duration": 45,
    "start_time": "2021-07-08T11:46:18.946Z"
   },
   {
    "duration": 12,
    "start_time": "2021-07-08T11:46:18.993Z"
   },
   {
    "duration": 38,
    "start_time": "2021-07-08T11:46:19.006Z"
   },
   {
    "duration": 50,
    "start_time": "2021-07-08T11:46:19.046Z"
   },
   {
    "duration": 29,
    "start_time": "2021-07-08T11:46:19.099Z"
   },
   {
    "duration": 7,
    "start_time": "2021-07-08T11:46:19.130Z"
   },
   {
    "duration": 3,
    "start_time": "2021-07-08T11:46:19.139Z"
   },
   {
    "duration": 11,
    "start_time": "2021-07-08T11:46:19.144Z"
   },
   {
    "duration": 40,
    "start_time": "2021-07-08T11:46:19.157Z"
   },
   {
    "duration": 15,
    "start_time": "2021-07-08T11:46:19.199Z"
   },
   {
    "duration": 10,
    "start_time": "2021-07-08T11:46:19.217Z"
   },
   {
    "duration": 68,
    "start_time": "2021-07-08T11:46:19.230Z"
   },
   {
    "duration": 17,
    "start_time": "2021-07-08T11:46:19.301Z"
   },
   {
    "duration": 7,
    "start_time": "2021-07-08T11:46:19.321Z"
   },
   {
    "duration": 11,
    "start_time": "2021-07-08T11:46:19.330Z"
   },
   {
    "duration": 59,
    "start_time": "2021-07-08T11:46:19.343Z"
   },
   {
    "duration": 17,
    "start_time": "2021-07-08T11:46:19.405Z"
   },
   {
    "duration": 16,
    "start_time": "2021-07-08T11:46:19.424Z"
   },
   {
    "duration": 252,
    "start_time": "2021-07-08T11:46:19.443Z"
   },
   {
    "duration": 9,
    "start_time": "2021-07-08T11:46:19.697Z"
   },
   {
    "duration": 224,
    "start_time": "2021-07-08T11:46:19.708Z"
   },
   {
    "duration": 21,
    "start_time": "2021-07-08T11:46:19.934Z"
   },
   {
    "duration": 9,
    "start_time": "2021-07-08T11:46:19.956Z"
   },
   {
    "duration": 32,
    "start_time": "2021-07-08T11:46:19.967Z"
   },
   {
    "duration": 288,
    "start_time": "2021-07-08T11:46:20.004Z"
   },
   {
    "duration": 23,
    "start_time": "2021-07-08T11:46:20.300Z"
   },
   {
    "duration": 11,
    "start_time": "2021-07-08T11:46:20.325Z"
   },
   {
    "duration": 11,
    "start_time": "2021-07-08T11:46:20.339Z"
   },
   {
    "duration": 259,
    "start_time": "2021-07-08T11:46:20.352Z"
   },
   {
    "duration": 438,
    "start_time": "2021-07-08T11:46:20.613Z"
   },
   {
    "duration": 207,
    "start_time": "2021-07-08T11:46:21.054Z"
   },
   {
    "duration": 27,
    "start_time": "2021-07-08T11:46:21.262Z"
   },
   {
    "duration": 19,
    "start_time": "2021-07-08T11:46:21.291Z"
   },
   {
    "duration": 820,
    "start_time": "2021-07-08T11:49:01.655Z"
   },
   {
    "duration": 372,
    "start_time": "2021-07-08T11:49:02.478Z"
   },
   {
    "duration": 98,
    "start_time": "2021-07-08T11:49:02.853Z"
   },
   {
    "duration": 6,
    "start_time": "2021-07-08T11:49:02.953Z"
   },
   {
    "duration": 39,
    "start_time": "2021-07-08T11:49:02.960Z"
   },
   {
    "duration": 9,
    "start_time": "2021-07-08T11:49:03.003Z"
   },
   {
    "duration": 23,
    "start_time": "2021-07-08T11:49:03.014Z"
   },
   {
    "duration": 6,
    "start_time": "2021-07-08T11:49:03.041Z"
   },
   {
    "duration": 20,
    "start_time": "2021-07-08T11:49:03.049Z"
   },
   {
    "duration": 18,
    "start_time": "2021-07-08T11:49:03.084Z"
   },
   {
    "duration": 14,
    "start_time": "2021-07-08T11:49:03.104Z"
   },
   {
    "duration": 39,
    "start_time": "2021-07-08T11:49:03.119Z"
   },
   {
    "duration": 38,
    "start_time": "2021-07-08T11:49:03.160Z"
   },
   {
    "duration": 26,
    "start_time": "2021-07-08T11:49:03.200Z"
   },
   {
    "duration": 7,
    "start_time": "2021-07-08T11:49:03.227Z"
   },
   {
    "duration": 4,
    "start_time": "2021-07-08T11:49:03.236Z"
   },
   {
    "duration": 15,
    "start_time": "2021-07-08T11:49:03.243Z"
   },
   {
    "duration": 21,
    "start_time": "2021-07-08T11:49:03.285Z"
   },
   {
    "duration": 17,
    "start_time": "2021-07-08T11:49:03.309Z"
   },
   {
    "duration": 10,
    "start_time": "2021-07-08T11:49:03.328Z"
   },
   {
    "duration": 65,
    "start_time": "2021-07-08T11:49:03.340Z"
   },
   {
    "duration": 18,
    "start_time": "2021-07-08T11:49:03.407Z"
   },
   {
    "duration": 8,
    "start_time": "2021-07-08T11:49:03.428Z"
   },
   {
    "duration": 15,
    "start_time": "2021-07-08T11:49:03.438Z"
   },
   {
    "duration": 40,
    "start_time": "2021-07-08T11:49:03.455Z"
   },
   {
    "duration": 12,
    "start_time": "2021-07-08T11:49:03.497Z"
   },
   {
    "duration": 29,
    "start_time": "2021-07-08T11:49:03.511Z"
   },
   {
    "duration": 285,
    "start_time": "2021-07-08T11:49:03.542Z"
   },
   {
    "duration": 8,
    "start_time": "2021-07-08T11:49:03.829Z"
   },
   {
    "duration": 227,
    "start_time": "2021-07-08T11:49:03.838Z"
   },
   {
    "duration": 40,
    "start_time": "2021-07-08T11:49:04.066Z"
   },
   {
    "duration": 10,
    "start_time": "2021-07-08T11:49:04.108Z"
   },
   {
    "duration": 26,
    "start_time": "2021-07-08T11:49:04.121Z"
   },
   {
    "duration": 290,
    "start_time": "2021-07-08T11:49:04.149Z"
   },
   {
    "duration": 26,
    "start_time": "2021-07-08T11:49:04.441Z"
   },
   {
    "duration": 31,
    "start_time": "2021-07-08T11:49:04.470Z"
   },
   {
    "duration": 14,
    "start_time": "2021-07-08T11:49:04.503Z"
   },
   {
    "duration": 259,
    "start_time": "2021-07-08T11:49:04.521Z"
   },
   {
    "duration": 480,
    "start_time": "2021-07-08T11:49:04.782Z"
   },
   {
    "duration": 225,
    "start_time": "2021-07-08T11:49:05.264Z"
   },
   {
    "duration": 22,
    "start_time": "2021-07-08T11:49:05.491Z"
   },
   {
    "duration": 24,
    "start_time": "2021-07-08T11:49:05.515Z"
   },
   {
    "duration": 634,
    "start_time": "2021-07-08T11:52:24.960Z"
   },
   {
    "duration": 199,
    "start_time": "2021-07-08T11:52:25.599Z"
   },
   {
    "duration": 106,
    "start_time": "2021-07-08T11:52:25.803Z"
   },
   {
    "duration": 7,
    "start_time": "2021-07-08T11:52:25.911Z"
   },
   {
    "duration": 29,
    "start_time": "2021-07-08T11:52:25.920Z"
   },
   {
    "duration": 7,
    "start_time": "2021-07-08T11:52:25.951Z"
   },
   {
    "duration": 26,
    "start_time": "2021-07-08T11:52:25.961Z"
   },
   {
    "duration": 11,
    "start_time": "2021-07-08T11:52:25.990Z"
   },
   {
    "duration": 29,
    "start_time": "2021-07-08T11:52:26.005Z"
   },
   {
    "duration": 9,
    "start_time": "2021-07-08T11:52:26.036Z"
   },
   {
    "duration": 8,
    "start_time": "2021-07-08T11:52:26.047Z"
   },
   {
    "duration": 63,
    "start_time": "2021-07-08T11:52:26.057Z"
   },
   {
    "duration": 17,
    "start_time": "2021-07-08T11:52:26.122Z"
   },
   {
    "duration": 43,
    "start_time": "2021-07-08T11:52:26.142Z"
   },
   {
    "duration": 17,
    "start_time": "2021-07-08T11:52:26.187Z"
   },
   {
    "duration": 5,
    "start_time": "2021-07-08T11:52:26.206Z"
   },
   {
    "duration": 12,
    "start_time": "2021-07-08T11:52:26.212Z"
   },
   {
    "duration": 11,
    "start_time": "2021-07-08T11:52:26.226Z"
   },
   {
    "duration": 12,
    "start_time": "2021-07-08T11:52:26.238Z"
   },
   {
    "duration": 38,
    "start_time": "2021-07-08T11:52:26.252Z"
   },
   {
    "duration": 40,
    "start_time": "2021-07-08T11:52:26.292Z"
   },
   {
    "duration": 17,
    "start_time": "2021-07-08T11:52:26.336Z"
   },
   {
    "duration": 39,
    "start_time": "2021-07-08T11:52:26.355Z"
   },
   {
    "duration": 11,
    "start_time": "2021-07-08T11:52:26.395Z"
   },
   {
    "duration": 23,
    "start_time": "2021-07-08T11:52:26.408Z"
   },
   {
    "duration": 12,
    "start_time": "2021-07-08T11:52:26.432Z"
   },
   {
    "duration": 41,
    "start_time": "2021-07-08T11:52:26.446Z"
   },
   {
    "duration": 215,
    "start_time": "2021-07-08T11:52:26.493Z"
   },
   {
    "duration": 8,
    "start_time": "2021-07-08T11:52:26.710Z"
   },
   {
    "duration": 228,
    "start_time": "2021-07-08T11:52:26.720Z"
   },
   {
    "duration": 18,
    "start_time": "2021-07-08T11:52:26.950Z"
   },
   {
    "duration": 35,
    "start_time": "2021-07-08T11:52:26.969Z"
   },
   {
    "duration": 23,
    "start_time": "2021-07-08T11:52:27.006Z"
   },
   {
    "duration": 258,
    "start_time": "2021-07-08T11:52:27.030Z"
   },
   {
    "duration": 24,
    "start_time": "2021-07-08T11:52:27.290Z"
   },
   {
    "duration": 12,
    "start_time": "2021-07-08T11:52:27.316Z"
   },
   {
    "duration": 10,
    "start_time": "2021-07-08T11:52:27.329Z"
   },
   {
    "duration": 298,
    "start_time": "2021-07-08T11:52:27.341Z"
   },
   {
    "duration": 436,
    "start_time": "2021-07-08T11:52:27.641Z"
   },
   {
    "duration": 216,
    "start_time": "2021-07-08T11:52:28.079Z"
   },
   {
    "duration": 20,
    "start_time": "2021-07-08T11:52:28.297Z"
   },
   {
    "duration": 17,
    "start_time": "2021-07-08T11:52:28.319Z"
   },
   {
    "duration": 692,
    "start_time": "2023-04-23T20:23:01.608Z"
   },
   {
    "duration": 25,
    "start_time": "2023-04-23T20:23:03.355Z"
   },
   {
    "duration": 12,
    "start_time": "2023-04-23T20:23:11.479Z"
   },
   {
    "duration": 23,
    "start_time": "2023-04-23T20:46:22.536Z"
   },
   {
    "duration": 104,
    "start_time": "2023-04-23T20:48:22.793Z"
   },
   {
    "duration": 16,
    "start_time": "2023-04-23T20:48:35.767Z"
   },
   {
    "duration": 15,
    "start_time": "2023-04-23T20:48:46.170Z"
   },
   {
    "duration": 16,
    "start_time": "2023-04-23T20:49:08.260Z"
   },
   {
    "duration": 9,
    "start_time": "2023-04-23T20:51:30.920Z"
   },
   {
    "duration": 20,
    "start_time": "2023-04-23T20:51:35.400Z"
   },
   {
    "duration": 34,
    "start_time": "2023-04-23T20:51:38.110Z"
   },
   {
    "duration": 8,
    "start_time": "2023-04-23T20:53:03.276Z"
   },
   {
    "duration": 749,
    "start_time": "2023-04-23T20:53:08.626Z"
   },
   {
    "duration": 16,
    "start_time": "2023-04-23T20:53:24.299Z"
   },
   {
    "duration": 14,
    "start_time": "2023-04-23T20:53:27.664Z"
   },
   {
    "duration": 711,
    "start_time": "2023-04-23T20:53:29.255Z"
   },
   {
    "duration": 28,
    "start_time": "2023-04-23T20:53:57.095Z"
   },
   {
    "duration": 9,
    "start_time": "2023-04-23T20:54:13.801Z"
   },
   {
    "duration": 18,
    "start_time": "2023-04-23T20:55:53.799Z"
   },
   {
    "duration": 5,
    "start_time": "2023-04-23T20:56:07.550Z"
   },
   {
    "duration": 8,
    "start_time": "2023-04-23T20:56:57.233Z"
   },
   {
    "duration": 9,
    "start_time": "2023-04-23T20:57:22.437Z"
   },
   {
    "duration": 17,
    "start_time": "2023-04-23T20:57:25.617Z"
   },
   {
    "duration": 6,
    "start_time": "2023-04-23T20:57:41.136Z"
   },
   {
    "duration": 531,
    "start_time": "2023-04-23T21:01:43.441Z"
   },
   {
    "duration": 24,
    "start_time": "2023-04-23T21:01:43.974Z"
   },
   {
    "duration": 16,
    "start_time": "2023-04-23T21:01:44.000Z"
   },
   {
    "duration": 20,
    "start_time": "2023-04-23T21:01:44.018Z"
   },
   {
    "duration": 22,
    "start_time": "2023-04-23T21:01:44.040Z"
   },
   {
    "duration": 33,
    "start_time": "2023-04-23T21:01:44.064Z"
   },
   {
    "duration": 10,
    "start_time": "2023-04-23T21:01:44.099Z"
   },
   {
    "duration": 15,
    "start_time": "2023-04-23T21:01:44.111Z"
   },
   {
    "duration": 8,
    "start_time": "2023-04-23T21:02:24.951Z"
   },
   {
    "duration": 47,
    "start_time": "2023-04-23T21:03:22.286Z"
   },
   {
    "duration": 17,
    "start_time": "2023-04-23T21:03:30.964Z"
   },
   {
    "duration": 77,
    "start_time": "2023-04-23T21:04:53.823Z"
   },
   {
    "duration": 12,
    "start_time": "2023-04-23T21:05:10.020Z"
   },
   {
    "duration": 531,
    "start_time": "2023-04-23T21:05:14.014Z"
   },
   {
    "duration": 24,
    "start_time": "2023-04-23T21:05:14.547Z"
   },
   {
    "duration": 13,
    "start_time": "2023-04-23T21:05:14.573Z"
   },
   {
    "duration": 39,
    "start_time": "2023-04-23T21:05:14.587Z"
   },
   {
    "duration": 18,
    "start_time": "2023-04-23T21:05:14.628Z"
   },
   {
    "duration": 16,
    "start_time": "2023-04-23T21:05:14.648Z"
   },
   {
    "duration": 1018,
    "start_time": "2023-04-23T21:05:14.666Z"
   },
   {
    "duration": 0,
    "start_time": "2023-04-23T21:05:15.686Z"
   },
   {
    "duration": 0,
    "start_time": "2023-04-23T21:05:15.687Z"
   },
   {
    "duration": 18,
    "start_time": "2023-04-23T21:05:36.065Z"
   },
   {
    "duration": 6,
    "start_time": "2023-04-23T21:05:41.628Z"
   },
   {
    "duration": 8,
    "start_time": "2023-04-23T21:05:49.297Z"
   },
   {
    "duration": 18,
    "start_time": "2023-04-23T21:05:53.160Z"
   },
   {
    "duration": 13,
    "start_time": "2023-04-23T21:09:38.372Z"
   },
   {
    "duration": 7,
    "start_time": "2023-04-23T21:16:59.624Z"
   },
   {
    "duration": 5,
    "start_time": "2023-04-23T21:17:07.610Z"
   },
   {
    "duration": 43,
    "start_time": "2023-04-23T21:19:09.865Z"
   },
   {
    "duration": 5,
    "start_time": "2023-04-23T21:38:44.119Z"
   },
   {
    "duration": 5,
    "start_time": "2023-04-23T21:39:43.166Z"
   },
   {
    "duration": 5,
    "start_time": "2023-04-23T21:39:58.518Z"
   },
   {
    "duration": 4,
    "start_time": "2023-04-23T21:40:03.535Z"
   },
   {
    "duration": 6,
    "start_time": "2023-04-23T21:40:05.170Z"
   },
   {
    "duration": 4,
    "start_time": "2023-04-23T21:40:12.495Z"
   },
   {
    "duration": 5,
    "start_time": "2023-04-23T21:40:13.935Z"
   },
   {
    "duration": 4,
    "start_time": "2023-04-23T21:40:49.520Z"
   },
   {
    "duration": 566,
    "start_time": "2023-04-23T21:40:50.717Z"
   },
   {
    "duration": 11,
    "start_time": "2023-04-23T21:41:11.557Z"
   },
   {
    "duration": 576,
    "start_time": "2023-04-23T21:41:21.974Z"
   },
   {
    "duration": 24,
    "start_time": "2023-04-23T21:41:22.552Z"
   },
   {
    "duration": 13,
    "start_time": "2023-04-23T21:41:22.577Z"
   },
   {
    "duration": 13,
    "start_time": "2023-04-23T21:41:22.592Z"
   },
   {
    "duration": 20,
    "start_time": "2023-04-23T21:41:22.607Z"
   },
   {
    "duration": 16,
    "start_time": "2023-04-23T21:41:22.628Z"
   },
   {
    "duration": 5,
    "start_time": "2023-04-23T21:41:22.645Z"
   },
   {
    "duration": 35,
    "start_time": "2023-04-23T21:41:22.652Z"
   },
   {
    "duration": 10,
    "start_time": "2023-04-23T21:41:22.689Z"
   },
   {
    "duration": 5,
    "start_time": "2023-04-23T21:41:22.701Z"
   },
   {
    "duration": 20,
    "start_time": "2023-04-23T21:41:22.708Z"
   },
   {
    "duration": 5,
    "start_time": "2023-04-23T21:41:22.730Z"
   },
   {
    "duration": 10,
    "start_time": "2023-04-23T21:41:22.737Z"
   },
   {
    "duration": 6,
    "start_time": "2023-04-23T21:41:22.750Z"
   },
   {
    "duration": 32,
    "start_time": "2023-04-23T21:41:22.757Z"
   },
   {
    "duration": 10,
    "start_time": "2023-04-23T21:42:48.689Z"
   },
   {
    "duration": 5,
    "start_time": "2023-04-23T21:42:52.735Z"
   },
   {
    "duration": 11,
    "start_time": "2023-04-23T21:42:59.941Z"
   },
   {
    "duration": 7,
    "start_time": "2023-04-23T21:43:01.571Z"
   },
   {
    "duration": 569,
    "start_time": "2023-04-23T21:43:06.904Z"
   },
   {
    "duration": 24,
    "start_time": "2023-04-23T21:43:07.475Z"
   },
   {
    "duration": 14,
    "start_time": "2023-04-23T21:43:07.501Z"
   },
   {
    "duration": 20,
    "start_time": "2023-04-23T21:43:07.517Z"
   },
   {
    "duration": 18,
    "start_time": "2023-04-23T21:43:07.540Z"
   },
   {
    "duration": 32,
    "start_time": "2023-04-23T21:43:07.560Z"
   },
   {
    "duration": 7,
    "start_time": "2023-04-23T21:43:07.594Z"
   },
   {
    "duration": 18,
    "start_time": "2023-04-23T21:43:07.602Z"
   },
   {
    "duration": 15,
    "start_time": "2023-04-23T21:43:07.622Z"
   },
   {
    "duration": 14,
    "start_time": "2023-04-23T21:43:07.639Z"
   },
   {
    "duration": 36,
    "start_time": "2023-04-23T21:43:07.655Z"
   },
   {
    "duration": 5,
    "start_time": "2023-04-23T21:43:07.693Z"
   },
   {
    "duration": 8,
    "start_time": "2023-04-23T21:43:07.700Z"
   },
   {
    "duration": 5,
    "start_time": "2023-04-23T21:43:07.711Z"
   },
   {
    "duration": 10,
    "start_time": "2023-04-23T21:43:07.718Z"
   },
   {
    "duration": 82,
    "start_time": "2023-04-23T21:44:27.809Z"
   },
   {
    "duration": 8,
    "start_time": "2023-04-23T21:45:14.165Z"
   },
   {
    "duration": 17,
    "start_time": "2023-04-23T21:45:31.635Z"
   },
   {
    "duration": 7,
    "start_time": "2023-04-23T21:45:33.728Z"
   },
   {
    "duration": 18,
    "start_time": "2023-04-23T21:45:35.933Z"
   },
   {
    "duration": 581,
    "start_time": "2023-04-23T21:46:30.340Z"
   },
   {
    "duration": 25,
    "start_time": "2023-04-23T21:46:30.923Z"
   },
   {
    "duration": 35,
    "start_time": "2023-04-23T21:46:30.950Z"
   },
   {
    "duration": 34,
    "start_time": "2023-04-23T21:46:30.987Z"
   },
   {
    "duration": 90,
    "start_time": "2023-04-23T21:46:31.024Z"
   },
   {
    "duration": 59,
    "start_time": "2023-04-23T21:46:31.116Z"
   },
   {
    "duration": 55,
    "start_time": "2023-04-23T21:46:31.177Z"
   },
   {
    "duration": 44,
    "start_time": "2023-04-23T21:46:31.234Z"
   },
   {
    "duration": 75,
    "start_time": "2023-04-23T21:46:31.280Z"
   },
   {
    "duration": 48,
    "start_time": "2023-04-23T21:46:31.357Z"
   },
   {
    "duration": 55,
    "start_time": "2023-04-23T21:46:31.407Z"
   },
   {
    "duration": 39,
    "start_time": "2023-04-23T21:46:31.464Z"
   },
   {
    "duration": 120,
    "start_time": "2023-04-23T21:46:31.505Z"
   },
   {
    "duration": 0,
    "start_time": "2023-04-23T21:46:31.627Z"
   },
   {
    "duration": 0,
    "start_time": "2023-04-23T21:46:31.628Z"
   },
   {
    "duration": 0,
    "start_time": "2023-04-23T21:46:31.630Z"
   },
   {
    "duration": 4,
    "start_time": "2023-04-23T21:48:15.315Z"
   },
   {
    "duration": 3,
    "start_time": "2023-04-23T21:48:21.897Z"
   },
   {
    "duration": 5,
    "start_time": "2023-04-23T21:48:24.153Z"
   },
   {
    "duration": 5,
    "start_time": "2023-04-23T21:48:32.115Z"
   },
   {
    "duration": 70,
    "start_time": "2023-04-23T21:49:25.212Z"
   },
   {
    "duration": 54,
    "start_time": "2023-04-23T21:50:06.201Z"
   },
   {
    "duration": 5,
    "start_time": "2023-04-23T21:53:32.396Z"
   },
   {
    "duration": 4,
    "start_time": "2023-04-23T21:54:12.668Z"
   },
   {
    "duration": 4,
    "start_time": "2023-04-23T21:54:50.448Z"
   },
   {
    "duration": 5,
    "start_time": "2023-04-23T21:55:33.482Z"
   },
   {
    "duration": 4,
    "start_time": "2023-04-23T21:55:43.338Z"
   },
   {
    "duration": 6,
    "start_time": "2023-04-23T21:56:07.466Z"
   },
   {
    "duration": 5,
    "start_time": "2023-04-23T21:56:08.542Z"
   },
   {
    "duration": 3,
    "start_time": "2023-04-23T21:58:54.534Z"
   },
   {
    "duration": 5,
    "start_time": "2023-04-23T21:59:13.601Z"
   },
   {
    "duration": 5,
    "start_time": "2023-04-23T21:59:20.620Z"
   },
   {
    "duration": 5,
    "start_time": "2023-04-23T22:00:54.791Z"
   },
   {
    "duration": 5,
    "start_time": "2023-04-23T22:18:49.230Z"
   },
   {
    "duration": 5,
    "start_time": "2023-04-23T22:19:08.287Z"
   },
   {
    "duration": 88,
    "start_time": "2023-04-23T22:19:42.636Z"
   },
   {
    "duration": 5,
    "start_time": "2023-04-23T22:19:47.144Z"
   },
   {
    "duration": 4,
    "start_time": "2023-04-23T22:19:54.703Z"
   },
   {
    "duration": 6,
    "start_time": "2023-04-23T22:19:55.826Z"
   },
   {
    "duration": 4,
    "start_time": "2023-04-23T22:20:02.454Z"
   },
   {
    "duration": 4,
    "start_time": "2023-04-23T22:20:10.809Z"
   },
   {
    "duration": 46,
    "start_time": "2023-04-23T22:21:09.440Z"
   },
   {
    "duration": 769,
    "start_time": "2023-04-23T22:22:25.854Z"
   },
   {
    "duration": 6,
    "start_time": "2023-04-23T22:22:36.103Z"
   },
   {
    "duration": 7,
    "start_time": "2023-04-23T22:26:41.212Z"
   },
   {
    "duration": 7,
    "start_time": "2023-04-23T22:36:01.410Z"
   },
   {
    "duration": 6,
    "start_time": "2023-04-23T22:36:41.649Z"
   },
   {
    "duration": 6,
    "start_time": "2023-04-23T22:37:08.108Z"
   },
   {
    "duration": 8,
    "start_time": "2023-04-23T22:37:41.546Z"
   },
   {
    "duration": 4,
    "start_time": "2023-04-23T22:38:43.099Z"
   },
   {
    "duration": 5,
    "start_time": "2023-04-23T22:39:39.612Z"
   },
   {
    "duration": 5,
    "start_time": "2023-04-23T22:40:19.879Z"
   },
   {
    "duration": 5,
    "start_time": "2023-04-23T22:40:55.982Z"
   },
   {
    "duration": 47,
    "start_time": "2023-04-23T22:45:49.865Z"
   },
   {
    "duration": 5,
    "start_time": "2023-04-23T22:45:50.075Z"
   },
   {
    "duration": 51,
    "start_time": "2023-04-23T22:45:55.243Z"
   },
   {
    "duration": 10,
    "start_time": "2023-04-23T22:47:21.846Z"
   },
   {
    "duration": 10,
    "start_time": "2023-04-23T22:47:33.303Z"
   },
   {
    "duration": 8,
    "start_time": "2023-04-23T22:47:46.751Z"
   },
   {
    "duration": 6,
    "start_time": "2023-04-23T22:48:00.494Z"
   },
   {
    "duration": 6,
    "start_time": "2023-04-23T22:48:14.240Z"
   },
   {
    "duration": 8,
    "start_time": "2023-04-23T22:48:29.472Z"
   },
   {
    "duration": 4,
    "start_time": "2023-04-23T22:48:39.947Z"
   },
   {
    "duration": 5,
    "start_time": "2023-04-23T22:48:49.703Z"
   },
   {
    "duration": 8,
    "start_time": "2023-04-23T22:52:42.550Z"
   },
   {
    "duration": 770,
    "start_time": "2023-04-24T09:17:46.127Z"
   },
   {
    "duration": 20,
    "start_time": "2023-04-24T09:17:46.899Z"
   },
   {
    "duration": 11,
    "start_time": "2023-04-24T09:17:46.920Z"
   },
   {
    "duration": 73,
    "start_time": "2023-04-24T09:17:46.933Z"
   },
   {
    "duration": 0,
    "start_time": "2023-04-24T09:17:47.008Z"
   },
   {
    "duration": 0,
    "start_time": "2023-04-24T09:17:47.009Z"
   },
   {
    "duration": 0,
    "start_time": "2023-04-24T09:17:47.010Z"
   },
   {
    "duration": 0,
    "start_time": "2023-04-24T09:17:47.012Z"
   },
   {
    "duration": 0,
    "start_time": "2023-04-24T09:17:47.012Z"
   },
   {
    "duration": 0,
    "start_time": "2023-04-24T09:17:47.014Z"
   },
   {
    "duration": 0,
    "start_time": "2023-04-24T09:17:47.015Z"
   },
   {
    "duration": 0,
    "start_time": "2023-04-24T09:17:47.016Z"
   },
   {
    "duration": 0,
    "start_time": "2023-04-24T09:17:47.017Z"
   },
   {
    "duration": 0,
    "start_time": "2023-04-24T09:17:47.018Z"
   },
   {
    "duration": 0,
    "start_time": "2023-04-24T09:17:47.019Z"
   },
   {
    "duration": 0,
    "start_time": "2023-04-24T09:17:47.020Z"
   },
   {
    "duration": 0,
    "start_time": "2023-04-24T09:17:47.021Z"
   },
   {
    "duration": 0,
    "start_time": "2023-04-24T09:17:47.022Z"
   },
   {
    "duration": 0,
    "start_time": "2023-04-24T09:17:47.023Z"
   },
   {
    "duration": 0,
    "start_time": "2023-04-24T09:17:47.024Z"
   },
   {
    "duration": 0,
    "start_time": "2023-04-24T09:17:47.025Z"
   },
   {
    "duration": 0,
    "start_time": "2023-04-24T09:17:47.026Z"
   },
   {
    "duration": 0,
    "start_time": "2023-04-24T09:17:47.060Z"
   },
   {
    "duration": 0,
    "start_time": "2023-04-24T09:17:47.061Z"
   },
   {
    "duration": 0,
    "start_time": "2023-04-24T09:17:47.062Z"
   },
   {
    "duration": 0,
    "start_time": "2023-04-24T09:17:47.062Z"
   },
   {
    "duration": 0,
    "start_time": "2023-04-24T09:17:47.063Z"
   },
   {
    "duration": 0,
    "start_time": "2023-04-24T09:17:47.064Z"
   },
   {
    "duration": 0,
    "start_time": "2023-04-24T09:17:47.064Z"
   },
   {
    "duration": 0,
    "start_time": "2023-04-24T09:17:47.065Z"
   },
   {
    "duration": 0,
    "start_time": "2023-04-24T09:17:47.066Z"
   },
   {
    "duration": 0,
    "start_time": "2023-04-24T09:17:47.066Z"
   },
   {
    "duration": 0,
    "start_time": "2023-04-24T09:17:47.067Z"
   },
   {
    "duration": 0,
    "start_time": "2023-04-24T09:17:47.068Z"
   },
   {
    "duration": 13,
    "start_time": "2023-04-24T09:17:56.425Z"
   },
   {
    "duration": 16,
    "start_time": "2023-04-24T09:18:01.768Z"
   },
   {
    "duration": 7,
    "start_time": "2023-04-24T09:18:51.339Z"
   },
   {
    "duration": 8,
    "start_time": "2023-04-24T09:19:00.294Z"
   },
   {
    "duration": 5,
    "start_time": "2023-04-24T09:19:04.712Z"
   },
   {
    "duration": 17,
    "start_time": "2023-04-24T09:19:08.498Z"
   },
   {
    "duration": 14,
    "start_time": "2023-04-24T09:19:18.274Z"
   },
   {
    "duration": 6,
    "start_time": "2023-04-24T09:20:00.677Z"
   },
   {
    "duration": 6,
    "start_time": "2023-04-24T09:20:21.330Z"
   },
   {
    "duration": 45,
    "start_time": "2023-04-24T09:45:35.383Z"
   },
   {
    "duration": 500,
    "start_time": "2023-04-24T09:45:40.570Z"
   },
   {
    "duration": 19,
    "start_time": "2023-04-24T09:45:41.072Z"
   },
   {
    "duration": 10,
    "start_time": "2023-04-24T09:45:41.093Z"
   },
   {
    "duration": 6,
    "start_time": "2023-04-24T09:45:41.105Z"
   },
   {
    "duration": 22,
    "start_time": "2023-04-24T09:45:41.112Z"
   },
   {
    "duration": 6,
    "start_time": "2023-04-24T09:45:41.136Z"
   },
   {
    "duration": 12,
    "start_time": "2023-04-24T09:45:41.144Z"
   },
   {
    "duration": 18,
    "start_time": "2023-04-24T09:45:41.158Z"
   },
   {
    "duration": 3,
    "start_time": "2023-04-24T09:45:41.178Z"
   },
   {
    "duration": 65,
    "start_time": "2023-04-24T09:45:41.183Z"
   },
   {
    "duration": 4,
    "start_time": "2023-04-24T09:45:41.249Z"
   },
   {
    "duration": 17,
    "start_time": "2023-04-24T09:45:41.255Z"
   },
   {
    "duration": 15,
    "start_time": "2023-04-24T09:45:41.274Z"
   },
   {
    "duration": 4,
    "start_time": "2023-04-24T09:45:41.290Z"
   },
   {
    "duration": 6,
    "start_time": "2023-04-24T09:45:41.295Z"
   },
   {
    "duration": 5,
    "start_time": "2023-04-24T09:45:41.302Z"
   },
   {
    "duration": 10,
    "start_time": "2023-04-24T09:45:41.308Z"
   },
   {
    "duration": 5,
    "start_time": "2023-04-24T09:45:41.319Z"
   },
   {
    "duration": 15,
    "start_time": "2023-04-24T09:45:41.325Z"
   },
   {
    "duration": 5,
    "start_time": "2023-04-24T09:45:41.342Z"
   },
   {
    "duration": 5,
    "start_time": "2023-04-24T09:45:41.348Z"
   },
   {
    "duration": 7,
    "start_time": "2023-04-24T09:45:41.355Z"
   },
   {
    "duration": 9,
    "start_time": "2023-04-24T09:45:41.363Z"
   },
   {
    "duration": 9,
    "start_time": "2023-04-24T09:45:41.373Z"
   },
   {
    "duration": 13,
    "start_time": "2023-04-24T09:45:41.383Z"
   },
   {
    "duration": 5,
    "start_time": "2023-04-24T09:45:41.398Z"
   },
   {
    "duration": 7,
    "start_time": "2023-04-24T09:45:41.405Z"
   },
   {
    "duration": 9,
    "start_time": "2023-04-24T09:45:41.415Z"
   },
   {
    "duration": 8,
    "start_time": "2023-04-24T09:45:41.425Z"
   },
   {
    "duration": 24,
    "start_time": "2023-04-24T09:45:41.434Z"
   },
   {
    "duration": 5,
    "start_time": "2023-04-24T09:45:41.460Z"
   },
   {
    "duration": 9,
    "start_time": "2023-04-24T09:45:41.466Z"
   },
   {
    "duration": 8,
    "start_time": "2023-04-24T09:45:41.476Z"
   },
   {
    "duration": 6,
    "start_time": "2023-04-24T09:45:41.485Z"
   },
   {
    "duration": 17,
    "start_time": "2023-04-24T09:45:41.492Z"
   },
   {
    "duration": 10,
    "start_time": "2023-04-24T09:45:41.511Z"
   },
   {
    "duration": 5,
    "start_time": "2023-04-24T09:46:13.483Z"
   },
   {
    "duration": 515,
    "start_time": "2023-04-24T09:46:16.381Z"
   },
   {
    "duration": 20,
    "start_time": "2023-04-24T09:46:16.898Z"
   },
   {
    "duration": 11,
    "start_time": "2023-04-24T09:46:16.919Z"
   },
   {
    "duration": 14,
    "start_time": "2023-04-24T09:46:16.931Z"
   },
   {
    "duration": 28,
    "start_time": "2023-04-24T09:46:16.947Z"
   },
   {
    "duration": 9,
    "start_time": "2023-04-24T09:46:16.977Z"
   },
   {
    "duration": 7,
    "start_time": "2023-04-24T09:46:16.987Z"
   },
   {
    "duration": 21,
    "start_time": "2023-04-24T09:46:16.995Z"
   },
   {
    "duration": 3,
    "start_time": "2023-04-24T09:46:17.017Z"
   },
   {
    "duration": 13,
    "start_time": "2023-04-24T09:46:17.022Z"
   },
   {
    "duration": 20,
    "start_time": "2023-04-24T09:46:17.036Z"
   },
   {
    "duration": 11,
    "start_time": "2023-04-24T09:46:17.058Z"
   },
   {
    "duration": 7,
    "start_time": "2023-04-24T09:46:17.071Z"
   },
   {
    "duration": 9,
    "start_time": "2023-04-24T09:46:17.079Z"
   },
   {
    "duration": 34,
    "start_time": "2023-04-24T09:46:17.089Z"
   },
   {
    "duration": 5,
    "start_time": "2023-04-24T09:46:17.125Z"
   },
   {
    "duration": 12,
    "start_time": "2023-04-24T09:46:17.132Z"
   },
   {
    "duration": 9,
    "start_time": "2023-04-24T09:46:17.146Z"
   },
   {
    "duration": 5,
    "start_time": "2023-04-24T09:46:17.156Z"
   },
   {
    "duration": 27,
    "start_time": "2023-04-24T09:46:17.163Z"
   },
   {
    "duration": 21,
    "start_time": "2023-04-24T09:46:17.192Z"
   },
   {
    "duration": 40,
    "start_time": "2023-04-24T09:46:17.215Z"
   },
   {
    "duration": 19,
    "start_time": "2023-04-24T09:46:17.257Z"
   },
   {
    "duration": 38,
    "start_time": "2023-04-24T09:46:17.277Z"
   },
   {
    "duration": 15,
    "start_time": "2023-04-24T09:46:17.316Z"
   },
   {
    "duration": 7,
    "start_time": "2023-04-24T09:46:17.332Z"
   },
   {
    "duration": 11,
    "start_time": "2023-04-24T09:46:17.341Z"
   },
   {
    "duration": 8,
    "start_time": "2023-04-24T09:46:17.356Z"
   },
   {
    "duration": 7,
    "start_time": "2023-04-24T09:46:17.365Z"
   },
   {
    "duration": 9,
    "start_time": "2023-04-24T09:46:17.374Z"
   },
   {
    "duration": 6,
    "start_time": "2023-04-24T09:46:17.384Z"
   },
   {
    "duration": 8,
    "start_time": "2023-04-24T09:46:17.392Z"
   },
   {
    "duration": 14,
    "start_time": "2023-04-24T09:46:17.402Z"
   },
   {
    "duration": 9,
    "start_time": "2023-04-24T09:46:17.418Z"
   },
   {
    "duration": 28,
    "start_time": "2023-04-24T09:46:17.429Z"
   },
   {
    "duration": 7,
    "start_time": "2023-04-24T09:46:17.459Z"
   },
   {
    "duration": 51,
    "start_time": "2023-04-24T09:46:26.849Z"
   },
   {
    "duration": 477,
    "start_time": "2023-04-24T09:46:29.500Z"
   },
   {
    "duration": 22,
    "start_time": "2023-04-24T09:46:29.979Z"
   },
   {
    "duration": 12,
    "start_time": "2023-04-24T09:46:30.003Z"
   },
   {
    "duration": 372,
    "start_time": "2023-04-24T09:46:30.018Z"
   },
   {
    "duration": 0,
    "start_time": "2023-04-24T09:46:30.393Z"
   },
   {
    "duration": 0,
    "start_time": "2023-04-24T09:46:30.395Z"
   },
   {
    "duration": 0,
    "start_time": "2023-04-24T09:46:30.396Z"
   },
   {
    "duration": 0,
    "start_time": "2023-04-24T09:46:30.397Z"
   },
   {
    "duration": 0,
    "start_time": "2023-04-24T09:46:30.399Z"
   },
   {
    "duration": 0,
    "start_time": "2023-04-24T09:46:30.400Z"
   },
   {
    "duration": 0,
    "start_time": "2023-04-24T09:46:30.401Z"
   },
   {
    "duration": 0,
    "start_time": "2023-04-24T09:46:30.402Z"
   },
   {
    "duration": 0,
    "start_time": "2023-04-24T09:46:30.403Z"
   },
   {
    "duration": 0,
    "start_time": "2023-04-24T09:46:30.404Z"
   },
   {
    "duration": 0,
    "start_time": "2023-04-24T09:46:30.406Z"
   },
   {
    "duration": 0,
    "start_time": "2023-04-24T09:46:30.407Z"
   },
   {
    "duration": 0,
    "start_time": "2023-04-24T09:46:30.408Z"
   },
   {
    "duration": 0,
    "start_time": "2023-04-24T09:46:30.409Z"
   },
   {
    "duration": 0,
    "start_time": "2023-04-24T09:46:30.410Z"
   },
   {
    "duration": 0,
    "start_time": "2023-04-24T09:46:30.412Z"
   },
   {
    "duration": 0,
    "start_time": "2023-04-24T09:46:30.413Z"
   },
   {
    "duration": 0,
    "start_time": "2023-04-24T09:46:30.415Z"
   },
   {
    "duration": 0,
    "start_time": "2023-04-24T09:46:30.416Z"
   },
   {
    "duration": 0,
    "start_time": "2023-04-24T09:46:30.419Z"
   },
   {
    "duration": 0,
    "start_time": "2023-04-24T09:46:30.421Z"
   },
   {
    "duration": 0,
    "start_time": "2023-04-24T09:46:30.422Z"
   },
   {
    "duration": 0,
    "start_time": "2023-04-24T09:46:30.423Z"
   },
   {
    "duration": 0,
    "start_time": "2023-04-24T09:46:30.424Z"
   },
   {
    "duration": 0,
    "start_time": "2023-04-24T09:46:30.425Z"
   },
   {
    "duration": 0,
    "start_time": "2023-04-24T09:46:30.426Z"
   },
   {
    "duration": 0,
    "start_time": "2023-04-24T09:46:30.426Z"
   },
   {
    "duration": 0,
    "start_time": "2023-04-24T09:46:30.428Z"
   },
   {
    "duration": 0,
    "start_time": "2023-04-24T09:46:30.429Z"
   },
   {
    "duration": 0,
    "start_time": "2023-04-24T09:46:30.430Z"
   },
   {
    "duration": 0,
    "start_time": "2023-04-24T09:46:30.431Z"
   },
   {
    "duration": 0,
    "start_time": "2023-04-24T09:46:30.432Z"
   },
   {
    "duration": 2,
    "start_time": "2023-04-24T09:46:59.858Z"
   },
   {
    "duration": 21,
    "start_time": "2023-04-24T09:47:05.376Z"
   },
   {
    "duration": 6,
    "start_time": "2023-04-24T09:47:08.542Z"
   },
   {
    "duration": 5,
    "start_time": "2023-04-24T09:48:05.152Z"
   },
   {
    "duration": 13,
    "start_time": "2023-04-24T09:48:06.342Z"
   },
   {
    "duration": 562,
    "start_time": "2023-04-24T09:49:11.025Z"
   },
   {
    "duration": 25,
    "start_time": "2023-04-24T09:49:11.589Z"
   },
   {
    "duration": 20,
    "start_time": "2023-04-24T09:49:11.619Z"
   },
   {
    "duration": 10,
    "start_time": "2023-04-24T09:49:11.641Z"
   },
   {
    "duration": 31,
    "start_time": "2023-04-24T09:49:11.653Z"
   },
   {
    "duration": 8,
    "start_time": "2023-04-24T09:49:11.686Z"
   },
   {
    "duration": 6,
    "start_time": "2023-04-24T09:49:11.696Z"
   },
   {
    "duration": 14,
    "start_time": "2023-04-24T09:49:11.704Z"
   },
   {
    "duration": 2,
    "start_time": "2023-04-24T09:49:11.721Z"
   },
   {
    "duration": 15,
    "start_time": "2023-04-24T09:49:11.725Z"
   },
   {
    "duration": 5,
    "start_time": "2023-04-24T09:49:11.741Z"
   },
   {
    "duration": 10,
    "start_time": "2023-04-24T09:49:11.756Z"
   },
   {
    "duration": 8,
    "start_time": "2023-04-24T09:49:11.768Z"
   },
   {
    "duration": 8,
    "start_time": "2023-04-24T09:49:11.778Z"
   },
   {
    "duration": 8,
    "start_time": "2023-04-24T09:49:11.788Z"
   },
   {
    "duration": 6,
    "start_time": "2023-04-24T09:49:11.798Z"
   },
   {
    "duration": 7,
    "start_time": "2023-04-24T09:49:11.806Z"
   },
   {
    "duration": 9,
    "start_time": "2023-04-24T09:49:11.815Z"
   },
   {
    "duration": 5,
    "start_time": "2023-04-24T09:49:11.825Z"
   },
   {
    "duration": 26,
    "start_time": "2023-04-24T09:49:11.832Z"
   },
   {
    "duration": 6,
    "start_time": "2023-04-24T09:49:11.860Z"
   },
   {
    "duration": 13,
    "start_time": "2023-04-24T09:49:11.867Z"
   },
   {
    "duration": 5,
    "start_time": "2023-04-24T09:49:11.881Z"
   },
   {
    "duration": 8,
    "start_time": "2023-04-24T09:49:11.887Z"
   },
   {
    "duration": 10,
    "start_time": "2023-04-24T09:49:11.897Z"
   },
   {
    "duration": 17,
    "start_time": "2023-04-24T09:49:11.909Z"
   },
   {
    "duration": 5,
    "start_time": "2023-04-24T09:49:11.929Z"
   },
   {
    "duration": 24,
    "start_time": "2023-04-24T09:49:11.935Z"
   },
   {
    "duration": 9,
    "start_time": "2023-04-24T09:49:11.960Z"
   },
   {
    "duration": 15,
    "start_time": "2023-04-24T09:49:11.970Z"
   },
   {
    "duration": 7,
    "start_time": "2023-04-24T09:49:11.987Z"
   },
   {
    "duration": 9,
    "start_time": "2023-04-24T09:49:11.996Z"
   },
   {
    "duration": 6,
    "start_time": "2023-04-24T09:49:12.006Z"
   },
   {
    "duration": 6,
    "start_time": "2023-04-24T09:49:12.013Z"
   },
   {
    "duration": 21,
    "start_time": "2023-04-24T09:49:12.021Z"
   },
   {
    "duration": 6,
    "start_time": "2023-04-24T09:49:12.056Z"
   },
   {
    "duration": 21,
    "start_time": "2023-04-24T09:51:22.441Z"
   },
   {
    "duration": 43,
    "start_time": "2023-04-24T09:54:34.793Z"
   },
   {
    "duration": 23,
    "start_time": "2023-04-24T09:54:37.897Z"
   },
   {
    "duration": 10,
    "start_time": "2023-04-24T09:54:47.047Z"
   },
   {
    "duration": 22,
    "start_time": "2023-04-24T09:54:48.871Z"
   },
   {
    "duration": 74,
    "start_time": "2023-04-24T09:56:19.434Z"
   },
   {
    "duration": 2,
    "start_time": "2023-04-24T09:56:26.926Z"
   },
   {
    "duration": 57,
    "start_time": "2023-04-24T09:56:38.610Z"
   },
   {
    "duration": 8,
    "start_time": "2023-04-24T09:56:48.476Z"
   },
   {
    "duration": 14,
    "start_time": "2023-04-24T09:57:37.941Z"
   },
   {
    "duration": 513,
    "start_time": "2023-04-24T09:58:11.772Z"
   },
   {
    "duration": 21,
    "start_time": "2023-04-24T09:58:12.287Z"
   },
   {
    "duration": 12,
    "start_time": "2023-04-24T09:58:12.310Z"
   },
   {
    "duration": 12,
    "start_time": "2023-04-24T09:58:12.323Z"
   },
   {
    "duration": 28,
    "start_time": "2023-04-24T09:58:12.337Z"
   },
   {
    "duration": 7,
    "start_time": "2023-04-24T09:58:12.367Z"
   },
   {
    "duration": 6,
    "start_time": "2023-04-24T09:58:12.376Z"
   },
   {
    "duration": 13,
    "start_time": "2023-04-24T09:58:12.383Z"
   },
   {
    "duration": 3,
    "start_time": "2023-04-24T09:58:12.397Z"
   },
   {
    "duration": 4,
    "start_time": "2023-04-24T09:58:12.401Z"
   },
   {
    "duration": 95,
    "start_time": "2023-04-24T09:58:12.406Z"
   },
   {
    "duration": 0,
    "start_time": "2023-04-24T09:58:12.503Z"
   },
   {
    "duration": 0,
    "start_time": "2023-04-24T09:58:12.504Z"
   },
   {
    "duration": 0,
    "start_time": "2023-04-24T09:58:12.505Z"
   },
   {
    "duration": 0,
    "start_time": "2023-04-24T09:58:12.506Z"
   },
   {
    "duration": 0,
    "start_time": "2023-04-24T09:58:12.507Z"
   },
   {
    "duration": 0,
    "start_time": "2023-04-24T09:58:12.508Z"
   },
   {
    "duration": 1,
    "start_time": "2023-04-24T09:58:12.508Z"
   },
   {
    "duration": 0,
    "start_time": "2023-04-24T09:58:12.509Z"
   },
   {
    "duration": 0,
    "start_time": "2023-04-24T09:58:12.510Z"
   },
   {
    "duration": 0,
    "start_time": "2023-04-24T09:58:12.511Z"
   },
   {
    "duration": 0,
    "start_time": "2023-04-24T09:58:12.512Z"
   },
   {
    "duration": 0,
    "start_time": "2023-04-24T09:58:12.513Z"
   },
   {
    "duration": 0,
    "start_time": "2023-04-24T09:58:12.514Z"
   },
   {
    "duration": 0,
    "start_time": "2023-04-24T09:58:12.515Z"
   },
   {
    "duration": 0,
    "start_time": "2023-04-24T09:58:12.516Z"
   },
   {
    "duration": 0,
    "start_time": "2023-04-24T09:58:12.517Z"
   },
   {
    "duration": 0,
    "start_time": "2023-04-24T09:58:12.518Z"
   },
   {
    "duration": 0,
    "start_time": "2023-04-24T09:58:12.519Z"
   },
   {
    "duration": 0,
    "start_time": "2023-04-24T09:58:12.520Z"
   },
   {
    "duration": 0,
    "start_time": "2023-04-24T09:58:12.521Z"
   },
   {
    "duration": 0,
    "start_time": "2023-04-24T09:58:12.522Z"
   },
   {
    "duration": 0,
    "start_time": "2023-04-24T09:58:12.523Z"
   },
   {
    "duration": 0,
    "start_time": "2023-04-24T09:58:12.557Z"
   },
   {
    "duration": 0,
    "start_time": "2023-04-24T09:58:12.558Z"
   },
   {
    "duration": 0,
    "start_time": "2023-04-24T09:58:12.560Z"
   },
   {
    "duration": 0,
    "start_time": "2023-04-24T09:58:12.561Z"
   },
   {
    "duration": 0,
    "start_time": "2023-04-24T09:58:12.561Z"
   },
   {
    "duration": 8,
    "start_time": "2023-04-24T09:58:38.047Z"
   },
   {
    "duration": 9,
    "start_time": "2023-04-24T09:59:01.601Z"
   },
   {
    "duration": 570,
    "start_time": "2023-04-24T10:00:50.737Z"
   },
   {
    "duration": 20,
    "start_time": "2023-04-24T10:00:51.309Z"
   },
   {
    "duration": 25,
    "start_time": "2023-04-24T10:00:51.331Z"
   },
   {
    "duration": 18,
    "start_time": "2023-04-24T10:00:51.358Z"
   },
   {
    "duration": 42,
    "start_time": "2023-04-24T10:00:51.378Z"
   },
   {
    "duration": 9,
    "start_time": "2023-04-24T10:00:51.422Z"
   },
   {
    "duration": 29,
    "start_time": "2023-04-24T10:00:51.433Z"
   },
   {
    "duration": 35,
    "start_time": "2023-04-24T10:00:51.464Z"
   },
   {
    "duration": 8,
    "start_time": "2023-04-24T10:00:51.501Z"
   },
   {
    "duration": 17,
    "start_time": "2023-04-24T10:00:51.513Z"
   },
   {
    "duration": 11,
    "start_time": "2023-04-24T10:00:51.532Z"
   },
   {
    "duration": 16,
    "start_time": "2023-04-24T10:00:51.545Z"
   },
   {
    "duration": 25,
    "start_time": "2023-04-24T10:00:51.563Z"
   },
   {
    "duration": 23,
    "start_time": "2023-04-24T10:00:51.590Z"
   },
   {
    "duration": 30,
    "start_time": "2023-04-24T10:00:51.615Z"
   },
   {
    "duration": 21,
    "start_time": "2023-04-24T10:00:51.647Z"
   },
   {
    "duration": 30,
    "start_time": "2023-04-24T10:00:51.670Z"
   },
   {
    "duration": 10,
    "start_time": "2023-04-24T10:00:51.702Z"
   },
   {
    "duration": 42,
    "start_time": "2023-04-24T10:00:51.714Z"
   },
   {
    "duration": 4,
    "start_time": "2023-04-24T10:00:51.758Z"
   },
   {
    "duration": 25,
    "start_time": "2023-04-24T10:00:51.764Z"
   },
   {
    "duration": 24,
    "start_time": "2023-04-24T10:00:51.791Z"
   },
   {
    "duration": 13,
    "start_time": "2023-04-24T10:00:51.817Z"
   },
   {
    "duration": 27,
    "start_time": "2023-04-24T10:00:51.831Z"
   },
   {
    "duration": 21,
    "start_time": "2023-04-24T10:00:51.860Z"
   },
   {
    "duration": 21,
    "start_time": "2023-04-24T10:00:51.882Z"
   },
   {
    "duration": 37,
    "start_time": "2023-04-24T10:00:51.904Z"
   },
   {
    "duration": 19,
    "start_time": "2023-04-24T10:00:51.944Z"
   },
   {
    "duration": 11,
    "start_time": "2023-04-24T10:00:51.965Z"
   },
   {
    "duration": 28,
    "start_time": "2023-04-24T10:00:51.978Z"
   },
   {
    "duration": 30,
    "start_time": "2023-04-24T10:00:52.007Z"
   },
   {
    "duration": 8,
    "start_time": "2023-04-24T10:00:52.039Z"
   },
   {
    "duration": 12,
    "start_time": "2023-04-24T10:00:52.049Z"
   },
   {
    "duration": 14,
    "start_time": "2023-04-24T10:00:52.063Z"
   },
   {
    "duration": 30,
    "start_time": "2023-04-24T10:00:52.078Z"
   },
   {
    "duration": 5,
    "start_time": "2023-04-24T10:00:52.110Z"
   },
   {
    "duration": 17,
    "start_time": "2023-04-24T10:00:52.117Z"
   },
   {
    "duration": 15,
    "start_time": "2023-04-24T10:00:52.136Z"
   },
   {
    "duration": 40,
    "start_time": "2023-04-24T10:00:52.153Z"
   },
   {
    "duration": 789,
    "start_time": "2023-04-24T19:19:57.101Z"
   },
   {
    "duration": 22,
    "start_time": "2023-04-24T19:19:57.892Z"
   },
   {
    "duration": 12,
    "start_time": "2023-04-24T19:19:57.915Z"
   },
   {
    "duration": 4,
    "start_time": "2023-04-24T19:19:57.929Z"
   },
   {
    "duration": 25,
    "start_time": "2023-04-24T19:19:57.934Z"
   },
   {
    "duration": 21,
    "start_time": "2023-04-24T19:19:57.961Z"
   },
   {
    "duration": 8,
    "start_time": "2023-04-24T19:19:57.984Z"
   },
   {
    "duration": 24,
    "start_time": "2023-04-24T19:19:57.993Z"
   },
   {
    "duration": 11,
    "start_time": "2023-04-24T19:19:58.019Z"
   },
   {
    "duration": 3,
    "start_time": "2023-04-24T19:19:58.032Z"
   },
   {
    "duration": 9,
    "start_time": "2023-04-24T19:19:58.037Z"
   },
   {
    "duration": 2,
    "start_time": "2023-04-24T19:19:58.048Z"
   },
   {
    "duration": 8,
    "start_time": "2023-04-24T19:19:58.052Z"
   },
   {
    "duration": 9,
    "start_time": "2023-04-24T19:19:58.062Z"
   },
   {
    "duration": 19,
    "start_time": "2023-04-24T19:19:58.072Z"
   },
   {
    "duration": 5,
    "start_time": "2023-04-24T19:19:58.111Z"
   },
   {
    "duration": 6,
    "start_time": "2023-04-24T19:19:58.117Z"
   },
   {
    "duration": 10,
    "start_time": "2023-04-24T19:19:58.124Z"
   },
   {
    "duration": 9,
    "start_time": "2023-04-24T19:19:58.135Z"
   },
   {
    "duration": 27,
    "start_time": "2023-04-24T19:19:58.146Z"
   },
   {
    "duration": 5,
    "start_time": "2023-04-24T19:19:58.174Z"
   },
   {
    "duration": 31,
    "start_time": "2023-04-24T19:19:58.180Z"
   },
   {
    "duration": 4,
    "start_time": "2023-04-24T19:19:58.213Z"
   },
   {
    "duration": 13,
    "start_time": "2023-04-24T19:19:58.218Z"
   },
   {
    "duration": 10,
    "start_time": "2023-04-24T19:19:58.233Z"
   },
   {
    "duration": 7,
    "start_time": "2023-04-24T19:19:58.244Z"
   },
   {
    "duration": 4,
    "start_time": "2023-04-24T19:19:58.252Z"
   },
   {
    "duration": 7,
    "start_time": "2023-04-24T19:19:58.259Z"
   },
   {
    "duration": 14,
    "start_time": "2023-04-24T19:19:58.268Z"
   },
   {
    "duration": 7,
    "start_time": "2023-04-24T19:19:58.283Z"
   },
   {
    "duration": 6,
    "start_time": "2023-04-24T19:19:58.311Z"
   },
   {
    "duration": 8,
    "start_time": "2023-04-24T19:19:58.318Z"
   },
   {
    "duration": 10,
    "start_time": "2023-04-24T19:19:58.327Z"
   },
   {
    "duration": 8,
    "start_time": "2023-04-24T19:19:58.341Z"
   },
   {
    "duration": 7,
    "start_time": "2023-04-24T19:19:58.351Z"
   },
   {
    "duration": 13,
    "start_time": "2023-04-24T19:19:58.360Z"
   },
   {
    "duration": 5,
    "start_time": "2023-04-24T19:19:58.375Z"
   },
   {
    "duration": 31,
    "start_time": "2023-04-24T19:19:58.381Z"
   },
   {
    "duration": 17,
    "start_time": "2023-04-24T19:19:58.414Z"
   },
   {
    "duration": 9,
    "start_time": "2023-04-24T19:19:58.433Z"
   },
   {
    "duration": 11,
    "start_time": "2023-04-24T19:20:05.859Z"
   },
   {
    "duration": 48,
    "start_time": "2023-04-24T19:21:14.943Z"
   },
   {
    "duration": 9,
    "start_time": "2023-04-24T19:21:17.777Z"
   },
   {
    "duration": 21,
    "start_time": "2023-04-24T19:22:26.579Z"
   },
   {
    "duration": 66,
    "start_time": "2023-04-24T19:26:17.979Z"
   },
   {
    "duration": 6,
    "start_time": "2023-04-24T19:26:31.107Z"
   },
   {
    "duration": 21,
    "start_time": "2023-04-24T19:26:32.824Z"
   },
   {
    "duration": 10,
    "start_time": "2023-04-24T19:29:47.507Z"
   },
   {
    "duration": 568,
    "start_time": "2023-04-24T19:29:52.900Z"
   },
   {
    "duration": 24,
    "start_time": "2023-04-24T19:29:53.470Z"
   },
   {
    "duration": 13,
    "start_time": "2023-04-24T19:29:53.496Z"
   },
   {
    "duration": 7,
    "start_time": "2023-04-24T19:29:53.511Z"
   },
   {
    "duration": 36,
    "start_time": "2023-04-24T19:29:53.521Z"
   },
   {
    "duration": 9,
    "start_time": "2023-04-24T19:29:53.559Z"
   },
   {
    "duration": 6,
    "start_time": "2023-04-24T19:29:53.569Z"
   },
   {
    "duration": 15,
    "start_time": "2023-04-24T19:29:53.577Z"
   },
   {
    "duration": 4,
    "start_time": "2023-04-24T19:29:53.594Z"
   },
   {
    "duration": 11,
    "start_time": "2023-04-24T19:29:53.600Z"
   },
   {
    "duration": 14,
    "start_time": "2023-04-24T19:29:53.613Z"
   },
   {
    "duration": 2,
    "start_time": "2023-04-24T19:29:53.629Z"
   },
   {
    "duration": 26,
    "start_time": "2023-04-24T19:29:53.632Z"
   },
   {
    "duration": 7,
    "start_time": "2023-04-24T19:29:53.661Z"
   },
   {
    "duration": 11,
    "start_time": "2023-04-24T19:29:53.670Z"
   },
   {
    "duration": 29,
    "start_time": "2023-04-24T19:29:53.682Z"
   },
   {
    "duration": 9,
    "start_time": "2023-04-24T19:29:53.713Z"
   },
   {
    "duration": 19,
    "start_time": "2023-04-24T19:29:53.724Z"
   },
   {
    "duration": 18,
    "start_time": "2023-04-24T19:29:53.745Z"
   },
   {
    "duration": 31,
    "start_time": "2023-04-24T19:29:53.766Z"
   },
   {
    "duration": 4,
    "start_time": "2023-04-24T19:29:53.798Z"
   },
   {
    "duration": 24,
    "start_time": "2023-04-24T19:29:53.804Z"
   },
   {
    "duration": 5,
    "start_time": "2023-04-24T19:29:53.829Z"
   },
   {
    "duration": 9,
    "start_time": "2023-04-24T19:29:53.836Z"
   },
   {
    "duration": 17,
    "start_time": "2023-04-24T19:29:53.847Z"
   },
   {
    "duration": 14,
    "start_time": "2023-04-24T19:29:53.866Z"
   },
   {
    "duration": 5,
    "start_time": "2023-04-24T19:29:53.882Z"
   },
   {
    "duration": 12,
    "start_time": "2023-04-24T19:29:53.889Z"
   },
   {
    "duration": 10,
    "start_time": "2023-04-24T19:29:53.904Z"
   },
   {
    "duration": 12,
    "start_time": "2023-04-24T19:29:53.916Z"
   },
   {
    "duration": 10,
    "start_time": "2023-04-24T19:29:53.930Z"
   },
   {
    "duration": 21,
    "start_time": "2023-04-24T19:29:53.941Z"
   },
   {
    "duration": 9,
    "start_time": "2023-04-24T19:29:53.964Z"
   },
   {
    "duration": 10,
    "start_time": "2023-04-24T19:29:53.975Z"
   },
   {
    "duration": 7,
    "start_time": "2023-04-24T19:29:53.986Z"
   },
   {
    "duration": 6,
    "start_time": "2023-04-24T19:29:53.994Z"
   },
   {
    "duration": 4,
    "start_time": "2023-04-24T19:29:54.012Z"
   },
   {
    "duration": 6,
    "start_time": "2023-04-24T19:29:54.018Z"
   },
   {
    "duration": 8,
    "start_time": "2023-04-24T19:29:54.025Z"
   },
   {
    "duration": 7,
    "start_time": "2023-04-24T19:29:54.035Z"
   },
   {
    "duration": 49,
    "start_time": "2023-04-24T19:30:29.539Z"
   },
   {
    "duration": 2,
    "start_time": "2023-04-24T19:33:32.639Z"
   },
   {
    "duration": 9,
    "start_time": "2023-04-24T19:34:34.844Z"
   },
   {
    "duration": 542,
    "start_time": "2023-04-24T19:34:41.378Z"
   },
   {
    "duration": 23,
    "start_time": "2023-04-24T19:34:41.922Z"
   },
   {
    "duration": 11,
    "start_time": "2023-04-24T19:34:41.947Z"
   },
   {
    "duration": 11,
    "start_time": "2023-04-24T19:34:41.960Z"
   },
   {
    "duration": 23,
    "start_time": "2023-04-24T19:34:41.974Z"
   },
   {
    "duration": 17,
    "start_time": "2023-04-24T19:34:41.999Z"
   },
   {
    "duration": 10,
    "start_time": "2023-04-24T19:34:42.018Z"
   },
   {
    "duration": 12,
    "start_time": "2023-04-24T19:34:42.030Z"
   },
   {
    "duration": 4,
    "start_time": "2023-04-24T19:34:42.044Z"
   },
   {
    "duration": 5,
    "start_time": "2023-04-24T19:34:42.049Z"
   },
   {
    "duration": 14,
    "start_time": "2023-04-24T19:34:42.056Z"
   },
   {
    "duration": 46,
    "start_time": "2023-04-24T19:34:42.072Z"
   },
   {
    "duration": 4,
    "start_time": "2023-04-24T19:34:42.120Z"
   },
   {
    "duration": 11,
    "start_time": "2023-04-24T19:34:42.127Z"
   },
   {
    "duration": 9,
    "start_time": "2023-04-24T19:34:42.140Z"
   },
   {
    "duration": 5,
    "start_time": "2023-04-24T19:34:42.150Z"
   },
   {
    "duration": 17,
    "start_time": "2023-04-24T19:34:42.157Z"
   },
   {
    "duration": 8,
    "start_time": "2023-04-24T19:34:42.176Z"
   },
   {
    "duration": 4,
    "start_time": "2023-04-24T19:34:42.185Z"
   },
   {
    "duration": 28,
    "start_time": "2023-04-24T19:34:42.191Z"
   },
   {
    "duration": 8,
    "start_time": "2023-04-24T19:34:42.221Z"
   },
   {
    "duration": 5,
    "start_time": "2023-04-24T19:34:42.231Z"
   },
   {
    "duration": 10,
    "start_time": "2023-04-24T19:34:42.237Z"
   },
   {
    "duration": 12,
    "start_time": "2023-04-24T19:34:42.249Z"
   },
   {
    "duration": 4,
    "start_time": "2023-04-24T19:34:42.262Z"
   },
   {
    "duration": 8,
    "start_time": "2023-04-24T19:34:42.268Z"
   },
   {
    "duration": 12,
    "start_time": "2023-04-24T19:34:42.278Z"
   },
   {
    "duration": 22,
    "start_time": "2023-04-24T19:34:42.291Z"
   },
   {
    "duration": 5,
    "start_time": "2023-04-24T19:34:42.315Z"
   },
   {
    "duration": 11,
    "start_time": "2023-04-24T19:34:42.321Z"
   },
   {
    "duration": 9,
    "start_time": "2023-04-24T19:34:42.334Z"
   },
   {
    "duration": 10,
    "start_time": "2023-04-24T19:34:42.345Z"
   },
   {
    "duration": 15,
    "start_time": "2023-04-24T19:34:42.357Z"
   },
   {
    "duration": 10,
    "start_time": "2023-04-24T19:34:42.374Z"
   },
   {
    "duration": 31,
    "start_time": "2023-04-24T19:34:42.386Z"
   },
   {
    "duration": 16,
    "start_time": "2023-04-24T19:34:42.419Z"
   },
   {
    "duration": 13,
    "start_time": "2023-04-24T19:34:42.437Z"
   },
   {
    "duration": 6,
    "start_time": "2023-04-24T19:34:42.452Z"
   },
   {
    "duration": 5,
    "start_time": "2023-04-24T19:34:42.460Z"
   },
   {
    "duration": 9,
    "start_time": "2023-04-24T19:34:42.467Z"
   },
   {
    "duration": 10,
    "start_time": "2023-04-24T19:35:07.909Z"
   },
   {
    "duration": 13,
    "start_time": "2023-04-24T20:55:27.292Z"
   },
   {
    "duration": 4,
    "start_time": "2023-04-24T21:12:04.681Z"
   },
   {
    "duration": 70,
    "start_time": "2023-04-24T21:12:14.182Z"
   },
   {
    "duration": 8,
    "start_time": "2023-04-24T21:16:20.550Z"
   },
   {
    "duration": 7,
    "start_time": "2023-04-24T21:23:16.711Z"
   },
   {
    "duration": 28,
    "start_time": "2023-04-24T21:23:20.182Z"
   },
   {
    "duration": 9,
    "start_time": "2023-04-24T21:27:04.466Z"
   },
   {
    "duration": 11,
    "start_time": "2023-04-24T21:31:33.131Z"
   },
   {
    "duration": 15,
    "start_time": "2023-04-24T21:31:39.442Z"
   },
   {
    "duration": 73,
    "start_time": "2023-04-24T21:32:07.098Z"
   },
   {
    "duration": 4,
    "start_time": "2023-04-24T21:32:23.595Z"
   },
   {
    "duration": 73,
    "start_time": "2023-04-24T21:32:27.521Z"
   },
   {
    "duration": 7,
    "start_time": "2023-04-24T21:32:31.055Z"
   },
   {
    "duration": 72,
    "start_time": "2023-04-24T21:32:39.697Z"
   },
   {
    "duration": 7,
    "start_time": "2023-04-24T21:33:06.197Z"
   },
   {
    "duration": 28,
    "start_time": "2023-04-24T21:33:34.897Z"
   },
   {
    "duration": 49,
    "start_time": "2023-04-25T19:38:08.654Z"
   },
   {
    "duration": 750,
    "start_time": "2023-04-25T19:38:12.056Z"
   },
   {
    "duration": 19,
    "start_time": "2023-04-25T19:38:12.808Z"
   },
   {
    "duration": 10,
    "start_time": "2023-04-25T19:38:12.831Z"
   },
   {
    "duration": 3,
    "start_time": "2023-04-25T19:38:12.843Z"
   },
   {
    "duration": 22,
    "start_time": "2023-04-25T19:38:12.848Z"
   },
   {
    "duration": 6,
    "start_time": "2023-04-25T19:38:12.872Z"
   },
   {
    "duration": 5,
    "start_time": "2023-04-25T19:38:12.894Z"
   },
   {
    "duration": 12,
    "start_time": "2023-04-25T19:38:12.901Z"
   },
   {
    "duration": 4,
    "start_time": "2023-04-25T19:38:12.916Z"
   },
   {
    "duration": 3,
    "start_time": "2023-04-25T19:38:12.921Z"
   },
   {
    "duration": 18,
    "start_time": "2023-04-25T19:38:12.926Z"
   },
   {
    "duration": 16,
    "start_time": "2023-04-25T19:38:12.945Z"
   },
   {
    "duration": 4,
    "start_time": "2023-04-25T19:38:12.963Z"
   },
   {
    "duration": 32,
    "start_time": "2023-04-25T19:38:12.968Z"
   },
   {
    "duration": 5,
    "start_time": "2023-04-25T19:38:13.001Z"
   },
   {
    "duration": 7,
    "start_time": "2023-04-25T19:38:13.007Z"
   },
   {
    "duration": 7,
    "start_time": "2023-04-25T19:38:13.015Z"
   },
   {
    "duration": 10,
    "start_time": "2023-04-25T19:38:13.023Z"
   },
   {
    "duration": 7,
    "start_time": "2023-04-25T19:38:13.034Z"
   },
   {
    "duration": 9,
    "start_time": "2023-04-25T19:38:13.042Z"
   },
   {
    "duration": 7,
    "start_time": "2023-04-25T19:38:13.053Z"
   },
   {
    "duration": 5,
    "start_time": "2023-04-25T19:38:13.062Z"
   },
   {
    "duration": 3,
    "start_time": "2023-04-25T19:38:13.068Z"
   },
   {
    "duration": 21,
    "start_time": "2023-04-25T19:38:13.095Z"
   },
   {
    "duration": 3,
    "start_time": "2023-04-25T19:38:13.117Z"
   },
   {
    "duration": 6,
    "start_time": "2023-04-25T19:38:13.121Z"
   },
   {
    "duration": 3,
    "start_time": "2023-04-25T19:38:13.130Z"
   },
   {
    "duration": 8,
    "start_time": "2023-04-25T19:38:13.134Z"
   },
   {
    "duration": 5,
    "start_time": "2023-04-25T19:38:13.143Z"
   },
   {
    "duration": 10,
    "start_time": "2023-04-25T19:38:13.150Z"
   },
   {
    "duration": 4,
    "start_time": "2023-04-25T19:38:13.162Z"
   },
   {
    "duration": 12,
    "start_time": "2023-04-25T19:38:13.194Z"
   },
   {
    "duration": 5,
    "start_time": "2023-04-25T19:38:13.207Z"
   },
   {
    "duration": 6,
    "start_time": "2023-04-25T19:38:13.213Z"
   },
   {
    "duration": 5,
    "start_time": "2023-04-25T19:38:13.220Z"
   },
   {
    "duration": 7,
    "start_time": "2023-04-25T19:38:13.226Z"
   },
   {
    "duration": 4,
    "start_time": "2023-04-25T19:38:13.234Z"
   },
   {
    "duration": 7,
    "start_time": "2023-04-25T19:38:13.239Z"
   },
   {
    "duration": 25,
    "start_time": "2023-04-25T19:38:13.247Z"
   },
   {
    "duration": 21,
    "start_time": "2023-04-25T19:38:13.273Z"
   },
   {
    "duration": 16,
    "start_time": "2023-04-25T19:38:26.271Z"
   },
   {
    "duration": 82,
    "start_time": "2023-04-26T10:54:45.704Z"
   },
   {
    "duration": 44,
    "start_time": "2023-04-26T10:55:48.237Z"
   },
   {
    "duration": 784,
    "start_time": "2023-04-26T10:55:53.257Z"
   },
   {
    "duration": 22,
    "start_time": "2023-04-26T10:55:54.043Z"
   },
   {
    "duration": 13,
    "start_time": "2023-04-26T10:55:54.067Z"
   },
   {
    "duration": 7,
    "start_time": "2023-04-26T10:55:54.081Z"
   },
   {
    "duration": 29,
    "start_time": "2023-04-26T10:55:54.090Z"
   },
   {
    "duration": 7,
    "start_time": "2023-04-26T10:55:54.120Z"
   },
   {
    "duration": 15,
    "start_time": "2023-04-26T10:55:54.129Z"
   },
   {
    "duration": 14,
    "start_time": "2023-04-26T10:55:54.146Z"
   },
   {
    "duration": 5,
    "start_time": "2023-04-26T10:55:54.161Z"
   },
   {
    "duration": 23,
    "start_time": "2023-04-26T10:55:54.167Z"
   },
   {
    "duration": 24,
    "start_time": "2023-04-26T10:55:54.192Z"
   },
   {
    "duration": 32,
    "start_time": "2023-04-26T10:55:54.217Z"
   },
   {
    "duration": 7,
    "start_time": "2023-04-26T10:55:54.251Z"
   },
   {
    "duration": 11,
    "start_time": "2023-04-26T10:55:54.260Z"
   },
   {
    "duration": 17,
    "start_time": "2023-04-26T10:55:54.273Z"
   },
   {
    "duration": 8,
    "start_time": "2023-04-26T10:55:54.292Z"
   },
   {
    "duration": 9,
    "start_time": "2023-04-26T10:55:54.302Z"
   },
   {
    "duration": 8,
    "start_time": "2023-04-26T10:55:54.313Z"
   },
   {
    "duration": 11,
    "start_time": "2023-04-26T10:55:54.322Z"
   },
   {
    "duration": 11,
    "start_time": "2023-04-26T10:55:54.335Z"
   },
   {
    "duration": 9,
    "start_time": "2023-04-26T10:55:54.348Z"
   },
   {
    "duration": 7,
    "start_time": "2023-04-26T10:55:54.359Z"
   },
   {
    "duration": 25,
    "start_time": "2023-04-26T10:55:54.367Z"
   },
   {
    "duration": 36,
    "start_time": "2023-04-26T10:55:54.400Z"
   },
   {
    "duration": 10,
    "start_time": "2023-04-26T10:55:54.438Z"
   },
   {
    "duration": 9,
    "start_time": "2023-04-26T10:55:54.450Z"
   },
   {
    "duration": 9,
    "start_time": "2023-04-26T10:55:54.461Z"
   },
   {
    "duration": 19,
    "start_time": "2023-04-26T10:55:54.472Z"
   },
   {
    "duration": 112,
    "start_time": "2023-04-26T10:55:54.494Z"
   },
   {
    "duration": 0,
    "start_time": "2023-04-26T10:55:54.608Z"
   },
   {
    "duration": 0,
    "start_time": "2023-04-26T10:55:54.610Z"
   },
   {
    "duration": 0,
    "start_time": "2023-04-26T10:55:54.611Z"
   },
   {
    "duration": 0,
    "start_time": "2023-04-26T10:55:54.612Z"
   },
   {
    "duration": 0,
    "start_time": "2023-04-26T10:55:54.613Z"
   },
   {
    "duration": 0,
    "start_time": "2023-04-26T10:55:54.614Z"
   },
   {
    "duration": 0,
    "start_time": "2023-04-26T10:55:54.615Z"
   },
   {
    "duration": 0,
    "start_time": "2023-04-26T10:55:54.617Z"
   },
   {
    "duration": 0,
    "start_time": "2023-04-26T10:55:54.617Z"
   },
   {
    "duration": 0,
    "start_time": "2023-04-26T10:55:54.618Z"
   },
   {
    "duration": 0,
    "start_time": "2023-04-26T10:55:54.619Z"
   },
   {
    "duration": 0,
    "start_time": "2023-04-26T10:55:54.620Z"
   },
   {
    "duration": 0,
    "start_time": "2023-04-26T10:55:54.621Z"
   },
   {
    "duration": 0,
    "start_time": "2023-04-26T10:55:54.622Z"
   },
   {
    "duration": 49,
    "start_time": "2023-04-26T11:01:01.335Z"
   },
   {
    "duration": 504,
    "start_time": "2023-04-26T11:01:10.154Z"
   },
   {
    "duration": 20,
    "start_time": "2023-04-26T11:01:10.660Z"
   },
   {
    "duration": 12,
    "start_time": "2023-04-26T11:01:10.682Z"
   },
   {
    "duration": 7,
    "start_time": "2023-04-26T11:01:10.698Z"
   },
   {
    "duration": 21,
    "start_time": "2023-04-26T11:01:10.709Z"
   },
   {
    "duration": 8,
    "start_time": "2023-04-26T11:01:10.731Z"
   },
   {
    "duration": 11,
    "start_time": "2023-04-26T11:01:10.740Z"
   },
   {
    "duration": 13,
    "start_time": "2023-04-26T11:01:10.752Z"
   },
   {
    "duration": 26,
    "start_time": "2023-04-26T11:01:10.766Z"
   },
   {
    "duration": 5,
    "start_time": "2023-04-26T11:01:10.794Z"
   },
   {
    "duration": 16,
    "start_time": "2023-04-26T11:01:10.801Z"
   },
   {
    "duration": 20,
    "start_time": "2023-04-26T11:01:10.818Z"
   },
   {
    "duration": 8,
    "start_time": "2023-04-26T11:01:10.839Z"
   },
   {
    "duration": 23,
    "start_time": "2023-04-26T11:01:10.850Z"
   },
   {
    "duration": 22,
    "start_time": "2023-04-26T11:01:10.875Z"
   },
   {
    "duration": 8,
    "start_time": "2023-04-26T11:01:10.899Z"
   },
   {
    "duration": 10,
    "start_time": "2023-04-26T11:01:10.909Z"
   },
   {
    "duration": 6,
    "start_time": "2023-04-26T11:01:10.920Z"
   },
   {
    "duration": 11,
    "start_time": "2023-04-26T11:01:10.928Z"
   },
   {
    "duration": 14,
    "start_time": "2023-04-26T11:01:10.941Z"
   },
   {
    "duration": 9,
    "start_time": "2023-04-26T11:01:10.957Z"
   },
   {
    "duration": 7,
    "start_time": "2023-04-26T11:01:10.968Z"
   },
   {
    "duration": 21,
    "start_time": "2023-04-26T11:01:10.976Z"
   },
   {
    "duration": 21,
    "start_time": "2023-04-26T11:01:11.004Z"
   },
   {
    "duration": 66,
    "start_time": "2023-04-26T11:01:11.027Z"
   },
   {
    "duration": 26,
    "start_time": "2023-04-26T11:01:11.095Z"
   },
   {
    "duration": 5,
    "start_time": "2023-04-26T11:01:11.122Z"
   },
   {
    "duration": 14,
    "start_time": "2023-04-26T11:01:11.128Z"
   },
   {
    "duration": 40,
    "start_time": "2023-04-26T11:01:11.143Z"
   },
   {
    "duration": 90,
    "start_time": "2023-04-26T11:01:11.184Z"
   },
   {
    "duration": 0,
    "start_time": "2023-04-26T11:01:11.276Z"
   },
   {
    "duration": 0,
    "start_time": "2023-04-26T11:01:11.278Z"
   },
   {
    "duration": 0,
    "start_time": "2023-04-26T11:01:11.278Z"
   },
   {
    "duration": 0,
    "start_time": "2023-04-26T11:01:11.279Z"
   },
   {
    "duration": 0,
    "start_time": "2023-04-26T11:01:11.280Z"
   },
   {
    "duration": 0,
    "start_time": "2023-04-26T11:01:11.282Z"
   },
   {
    "duration": 0,
    "start_time": "2023-04-26T11:01:11.282Z"
   },
   {
    "duration": 0,
    "start_time": "2023-04-26T11:01:11.283Z"
   },
   {
    "duration": 0,
    "start_time": "2023-04-26T11:01:11.284Z"
   },
   {
    "duration": 0,
    "start_time": "2023-04-26T11:01:11.285Z"
   },
   {
    "duration": 0,
    "start_time": "2023-04-26T11:01:11.286Z"
   },
   {
    "duration": 0,
    "start_time": "2023-04-26T11:01:11.287Z"
   },
   {
    "duration": 0,
    "start_time": "2023-04-26T11:01:11.288Z"
   },
   {
    "duration": 0,
    "start_time": "2023-04-26T11:01:11.289Z"
   },
   {
    "duration": 19,
    "start_time": "2023-04-26T11:01:38.106Z"
   },
   {
    "duration": 75,
    "start_time": "2023-04-26T11:02:46.339Z"
   },
   {
    "duration": 16,
    "start_time": "2023-04-26T11:02:56.905Z"
   },
   {
    "duration": 15,
    "start_time": "2023-04-26T11:03:16.733Z"
   },
   {
    "duration": 12,
    "start_time": "2023-04-26T11:03:18.830Z"
   },
   {
    "duration": 13,
    "start_time": "2023-04-26T11:03:26.604Z"
   },
   {
    "duration": 9,
    "start_time": "2023-04-26T11:06:06.916Z"
   },
   {
    "duration": 8,
    "start_time": "2023-04-26T11:06:16.006Z"
   },
   {
    "duration": 19,
    "start_time": "2023-04-26T11:06:29.758Z"
   },
   {
    "duration": 1346,
    "start_time": "2023-04-26T11:07:13.678Z"
   },
   {
    "duration": 14,
    "start_time": "2023-04-26T11:08:07.767Z"
   },
   {
    "duration": 20,
    "start_time": "2023-04-26T11:08:42.036Z"
   },
   {
    "duration": 102,
    "start_time": "2023-04-26T11:09:48.843Z"
   },
   {
    "duration": 53,
    "start_time": "2023-04-26T11:09:52.713Z"
   },
   {
    "duration": 4,
    "start_time": "2023-04-26T11:09:54.678Z"
   },
   {
    "duration": 17,
    "start_time": "2023-04-26T11:10:02.735Z"
   },
   {
    "duration": 27,
    "start_time": "2023-04-26T11:10:33.230Z"
   },
   {
    "duration": 28,
    "start_time": "2023-04-26T11:11:30.455Z"
   },
   {
    "duration": 26,
    "start_time": "2023-04-26T11:11:32.931Z"
   },
   {
    "duration": 24,
    "start_time": "2023-04-26T11:45:08.217Z"
   },
   {
    "duration": 5,
    "start_time": "2023-04-26T11:46:47.240Z"
   },
   {
    "duration": 515,
    "start_time": "2023-04-26T11:46:55.862Z"
   },
   {
    "duration": 31,
    "start_time": "2023-04-26T11:46:56.379Z"
   },
   {
    "duration": 20,
    "start_time": "2023-04-26T11:46:56.412Z"
   },
   {
    "duration": 3,
    "start_time": "2023-04-26T11:46:56.436Z"
   },
   {
    "duration": 38,
    "start_time": "2023-04-26T11:46:56.441Z"
   },
   {
    "duration": 18,
    "start_time": "2023-04-26T11:46:56.481Z"
   },
   {
    "duration": 14,
    "start_time": "2023-04-26T11:46:56.501Z"
   },
   {
    "duration": 18,
    "start_time": "2023-04-26T11:46:56.518Z"
   },
   {
    "duration": 12,
    "start_time": "2023-04-26T11:46:56.538Z"
   },
   {
    "duration": 3,
    "start_time": "2023-04-26T11:46:56.554Z"
   },
   {
    "duration": 15,
    "start_time": "2023-04-26T11:46:56.558Z"
   },
   {
    "duration": 46,
    "start_time": "2023-04-26T11:46:56.575Z"
   },
   {
    "duration": 10,
    "start_time": "2023-04-26T11:46:56.623Z"
   },
   {
    "duration": 12,
    "start_time": "2023-04-26T11:46:56.635Z"
   },
   {
    "duration": 6,
    "start_time": "2023-04-26T11:46:56.649Z"
   },
   {
    "duration": 6,
    "start_time": "2023-04-26T11:46:56.657Z"
   },
   {
    "duration": 6,
    "start_time": "2023-04-26T11:46:56.665Z"
   },
   {
    "duration": 6,
    "start_time": "2023-04-26T11:46:56.672Z"
   },
   {
    "duration": 22,
    "start_time": "2023-04-26T11:46:56.679Z"
   },
   {
    "duration": 14,
    "start_time": "2023-04-26T11:46:56.706Z"
   },
   {
    "duration": 12,
    "start_time": "2023-04-26T11:46:56.722Z"
   },
   {
    "duration": 7,
    "start_time": "2023-04-26T11:46:56.737Z"
   },
   {
    "duration": 3,
    "start_time": "2023-04-26T11:46:56.745Z"
   },
   {
    "duration": 23,
    "start_time": "2023-04-26T11:46:56.750Z"
   },
   {
    "duration": 85,
    "start_time": "2023-04-26T11:46:56.774Z"
   },
   {
    "duration": 17,
    "start_time": "2023-04-26T11:46:56.860Z"
   },
   {
    "duration": 55,
    "start_time": "2023-04-26T11:46:56.879Z"
   },
   {
    "duration": 16,
    "start_time": "2023-04-26T11:46:56.938Z"
   },
   {
    "duration": 18,
    "start_time": "2023-04-26T11:46:56.955Z"
   },
   {
    "duration": 46,
    "start_time": "2023-04-26T11:46:56.975Z"
   },
   {
    "duration": 9,
    "start_time": "2023-04-26T11:46:57.023Z"
   },
   {
    "duration": 4,
    "start_time": "2023-04-26T11:46:57.033Z"
   },
   {
    "duration": 111,
    "start_time": "2023-04-26T11:46:57.039Z"
   },
   {
    "duration": 1,
    "start_time": "2023-04-26T11:46:57.151Z"
   },
   {
    "duration": 0,
    "start_time": "2023-04-26T11:46:57.153Z"
   },
   {
    "duration": 0,
    "start_time": "2023-04-26T11:46:57.154Z"
   },
   {
    "duration": 0,
    "start_time": "2023-04-26T11:46:57.155Z"
   },
   {
    "duration": 0,
    "start_time": "2023-04-26T11:46:57.156Z"
   },
   {
    "duration": 0,
    "start_time": "2023-04-26T11:46:57.157Z"
   },
   {
    "duration": 0,
    "start_time": "2023-04-26T11:46:57.158Z"
   },
   {
    "duration": 0,
    "start_time": "2023-04-26T11:46:57.159Z"
   },
   {
    "duration": 0,
    "start_time": "2023-04-26T11:46:57.161Z"
   },
   {
    "duration": 0,
    "start_time": "2023-04-26T11:46:57.162Z"
   },
   {
    "duration": 0,
    "start_time": "2023-04-26T11:46:57.162Z"
   },
   {
    "duration": 0,
    "start_time": "2023-04-26T11:46:57.163Z"
   },
   {
    "duration": 0,
    "start_time": "2023-04-26T11:46:57.164Z"
   },
   {
    "duration": 0,
    "start_time": "2023-04-26T11:46:57.165Z"
   },
   {
    "duration": 5,
    "start_time": "2023-04-26T11:47:36.557Z"
   },
   {
    "duration": 4,
    "start_time": "2023-04-26T11:47:56.980Z"
   },
   {
    "duration": 6,
    "start_time": "2023-04-26T11:48:24.578Z"
   },
   {
    "duration": 8,
    "start_time": "2023-04-26T11:49:08.344Z"
   },
   {
    "duration": 77,
    "start_time": "2023-04-26T11:49:14.245Z"
   },
   {
    "duration": 42,
    "start_time": "2023-04-26T11:49:30.893Z"
   },
   {
    "duration": 7,
    "start_time": "2023-04-26T11:49:39.174Z"
   },
   {
    "duration": 15,
    "start_time": "2023-04-26T11:50:39.533Z"
   },
   {
    "duration": 7,
    "start_time": "2023-04-26T11:50:42.550Z"
   },
   {
    "duration": 13,
    "start_time": "2023-04-26T11:50:52.119Z"
   },
   {
    "duration": 16,
    "start_time": "2023-04-26T11:51:02.050Z"
   },
   {
    "duration": 9,
    "start_time": "2023-04-26T11:51:02.810Z"
   },
   {
    "duration": 612,
    "start_time": "2023-04-26T11:51:06.978Z"
   },
   {
    "duration": 32,
    "start_time": "2023-04-26T11:51:07.601Z"
   },
   {
    "duration": 58,
    "start_time": "2023-04-26T11:51:07.635Z"
   },
   {
    "duration": 6,
    "start_time": "2023-04-26T11:51:07.695Z"
   },
   {
    "duration": 57,
    "start_time": "2023-04-26T11:51:07.706Z"
   },
   {
    "duration": 10,
    "start_time": "2023-04-26T11:51:07.765Z"
   },
   {
    "duration": 22,
    "start_time": "2023-04-26T11:51:07.777Z"
   },
   {
    "duration": 23,
    "start_time": "2023-04-26T11:51:07.804Z"
   },
   {
    "duration": 23,
    "start_time": "2023-04-26T11:51:07.829Z"
   },
   {
    "duration": 16,
    "start_time": "2023-04-26T11:51:07.854Z"
   },
   {
    "duration": 16,
    "start_time": "2023-04-26T11:51:07.871Z"
   },
   {
    "duration": 46,
    "start_time": "2023-04-26T11:51:07.889Z"
   },
   {
    "duration": 5,
    "start_time": "2023-04-26T11:51:07.937Z"
   },
   {
    "duration": 29,
    "start_time": "2023-04-26T11:51:07.945Z"
   },
   {
    "duration": 8,
    "start_time": "2023-04-26T11:51:07.976Z"
   },
   {
    "duration": 14,
    "start_time": "2023-04-26T11:51:07.986Z"
   },
   {
    "duration": 7,
    "start_time": "2023-04-26T11:51:08.003Z"
   },
   {
    "duration": 8,
    "start_time": "2023-04-26T11:51:08.013Z"
   },
   {
    "duration": 8,
    "start_time": "2023-04-26T11:51:08.023Z"
   },
   {
    "duration": 11,
    "start_time": "2023-04-26T11:51:08.034Z"
   },
   {
    "duration": 10,
    "start_time": "2023-04-26T11:51:08.047Z"
   },
   {
    "duration": 37,
    "start_time": "2023-04-26T11:51:08.058Z"
   },
   {
    "duration": 6,
    "start_time": "2023-04-26T11:51:08.097Z"
   },
   {
    "duration": 37,
    "start_time": "2023-04-26T11:51:08.105Z"
   },
   {
    "duration": 71,
    "start_time": "2023-04-26T11:51:08.144Z"
   },
   {
    "duration": 28,
    "start_time": "2023-04-26T11:51:08.217Z"
   },
   {
    "duration": 60,
    "start_time": "2023-04-26T11:51:08.247Z"
   },
   {
    "duration": 31,
    "start_time": "2023-04-26T11:51:08.309Z"
   },
   {
    "duration": 21,
    "start_time": "2023-04-26T11:51:08.342Z"
   },
   {
    "duration": 45,
    "start_time": "2023-04-26T11:51:08.365Z"
   },
   {
    "duration": 11,
    "start_time": "2023-04-26T11:51:08.412Z"
   },
   {
    "duration": 10,
    "start_time": "2023-04-26T11:51:08.425Z"
   },
   {
    "duration": 21,
    "start_time": "2023-04-26T11:51:08.437Z"
   },
   {
    "duration": 10,
    "start_time": "2023-04-26T11:51:08.460Z"
   },
   {
    "duration": 28,
    "start_time": "2023-04-26T11:51:08.472Z"
   },
   {
    "duration": 14,
    "start_time": "2023-04-26T11:51:08.502Z"
   },
   {
    "duration": 6,
    "start_time": "2023-04-26T11:51:08.518Z"
   },
   {
    "duration": 15,
    "start_time": "2023-04-26T11:51:08.526Z"
   },
   {
    "duration": 6,
    "start_time": "2023-04-26T11:51:08.543Z"
   },
   {
    "duration": 16,
    "start_time": "2023-04-26T11:51:08.551Z"
   },
   {
    "duration": 31,
    "start_time": "2023-04-26T11:51:08.571Z"
   },
   {
    "duration": 12,
    "start_time": "2023-04-26T11:51:08.604Z"
   },
   {
    "duration": 6,
    "start_time": "2023-04-26T11:51:08.617Z"
   },
   {
    "duration": 13,
    "start_time": "2023-04-26T11:51:08.626Z"
   },
   {
    "duration": 9,
    "start_time": "2023-04-26T11:51:08.640Z"
   },
   {
    "duration": 7,
    "start_time": "2023-04-26T11:51:08.651Z"
   },
   {
    "duration": 580,
    "start_time": "2023-04-26T11:51:52.954Z"
   },
   {
    "duration": 22,
    "start_time": "2023-04-26T11:51:53.536Z"
   },
   {
    "duration": 13,
    "start_time": "2023-04-26T11:51:53.560Z"
   },
   {
    "duration": 4,
    "start_time": "2023-04-26T11:51:53.574Z"
   },
   {
    "duration": 50,
    "start_time": "2023-04-26T11:51:53.580Z"
   },
   {
    "duration": 9,
    "start_time": "2023-04-26T11:51:53.636Z"
   },
   {
    "duration": 7,
    "start_time": "2023-04-26T11:51:53.647Z"
   },
   {
    "duration": 15,
    "start_time": "2023-04-26T11:51:53.655Z"
   },
   {
    "duration": 5,
    "start_time": "2023-04-26T11:51:53.671Z"
   },
   {
    "duration": 12,
    "start_time": "2023-04-26T11:51:53.677Z"
   },
   {
    "duration": 29,
    "start_time": "2023-04-26T11:51:53.703Z"
   },
   {
    "duration": 25,
    "start_time": "2023-04-26T11:51:53.734Z"
   },
   {
    "duration": 5,
    "start_time": "2023-04-26T11:51:53.761Z"
   },
   {
    "duration": 14,
    "start_time": "2023-04-26T11:51:53.769Z"
   },
   {
    "duration": 16,
    "start_time": "2023-04-26T11:51:53.785Z"
   },
   {
    "duration": 12,
    "start_time": "2023-04-26T11:51:53.803Z"
   },
   {
    "duration": 7,
    "start_time": "2023-04-26T11:51:53.817Z"
   },
   {
    "duration": 11,
    "start_time": "2023-04-26T11:51:53.828Z"
   },
   {
    "duration": 2,
    "start_time": "2023-04-26T11:51:53.841Z"
   },
   {
    "duration": 14,
    "start_time": "2023-04-26T11:51:53.845Z"
   },
   {
    "duration": 8,
    "start_time": "2023-04-26T11:51:53.861Z"
   },
   {
    "duration": 37,
    "start_time": "2023-04-26T11:51:53.871Z"
   },
   {
    "duration": 3,
    "start_time": "2023-04-26T11:51:53.917Z"
   },
   {
    "duration": 36,
    "start_time": "2023-04-26T11:51:53.927Z"
   },
   {
    "duration": 76,
    "start_time": "2023-04-26T11:51:53.965Z"
   },
   {
    "duration": 18,
    "start_time": "2023-04-26T11:51:54.043Z"
   },
   {
    "duration": 51,
    "start_time": "2023-04-26T11:51:54.063Z"
   },
   {
    "duration": 25,
    "start_time": "2023-04-26T11:51:54.116Z"
   },
   {
    "duration": 17,
    "start_time": "2023-04-26T11:51:54.143Z"
   },
   {
    "duration": 44,
    "start_time": "2023-04-26T11:51:54.161Z"
   },
   {
    "duration": 6,
    "start_time": "2023-04-26T11:51:54.207Z"
   },
   {
    "duration": 11,
    "start_time": "2023-04-26T11:51:54.214Z"
   },
   {
    "duration": 25,
    "start_time": "2023-04-26T11:51:54.227Z"
   },
   {
    "duration": 7,
    "start_time": "2023-04-26T11:51:54.254Z"
   },
   {
    "duration": 7,
    "start_time": "2023-04-26T11:51:54.263Z"
   },
   {
    "duration": 31,
    "start_time": "2023-04-26T11:51:54.272Z"
   },
   {
    "duration": 4,
    "start_time": "2023-04-26T11:51:54.307Z"
   },
   {
    "duration": 13,
    "start_time": "2023-04-26T11:51:54.313Z"
   },
   {
    "duration": 8,
    "start_time": "2023-04-26T11:51:54.327Z"
   },
   {
    "duration": 6,
    "start_time": "2023-04-26T11:51:54.339Z"
   },
   {
    "duration": 5,
    "start_time": "2023-04-26T11:51:54.348Z"
   },
   {
    "duration": 46,
    "start_time": "2023-04-26T11:51:54.354Z"
   },
   {
    "duration": 26,
    "start_time": "2023-04-26T11:51:54.405Z"
   },
   {
    "duration": 6,
    "start_time": "2023-04-26T11:51:54.434Z"
   },
   {
    "duration": 6,
    "start_time": "2023-04-26T11:51:54.442Z"
   },
   {
    "duration": 9,
    "start_time": "2023-04-26T11:51:54.450Z"
   },
   {
    "duration": 12,
    "start_time": "2023-04-26T13:17:51.814Z"
   },
   {
    "duration": 7,
    "start_time": "2023-04-26T13:21:38.965Z"
   },
   {
    "duration": 10,
    "start_time": "2023-04-26T13:21:52.849Z"
   },
   {
    "duration": 7,
    "start_time": "2023-04-26T13:21:54.779Z"
   },
   {
    "duration": 7,
    "start_time": "2023-04-26T13:22:07.017Z"
   },
   {
    "duration": 7,
    "start_time": "2023-04-26T13:22:09.340Z"
   },
   {
    "duration": 49,
    "start_time": "2023-04-27T18:43:28.515Z"
   },
   {
    "duration": 839,
    "start_time": "2023-04-27T18:43:34.699Z"
   },
   {
    "duration": 26,
    "start_time": "2023-04-27T18:43:35.540Z"
   },
   {
    "duration": 23,
    "start_time": "2023-04-27T18:43:35.568Z"
   },
   {
    "duration": 17,
    "start_time": "2023-04-27T18:43:35.593Z"
   },
   {
    "duration": 38,
    "start_time": "2023-04-27T18:43:35.613Z"
   },
   {
    "duration": 9,
    "start_time": "2023-04-27T18:43:35.652Z"
   },
   {
    "duration": 27,
    "start_time": "2023-04-27T18:43:35.662Z"
   },
   {
    "duration": 42,
    "start_time": "2023-04-27T18:43:35.691Z"
   },
   {
    "duration": 18,
    "start_time": "2023-04-27T18:43:35.735Z"
   },
   {
    "duration": 33,
    "start_time": "2023-04-27T18:43:35.755Z"
   },
   {
    "duration": 23,
    "start_time": "2023-04-27T18:43:35.789Z"
   },
   {
    "duration": 48,
    "start_time": "2023-04-27T18:43:35.813Z"
   },
   {
    "duration": 23,
    "start_time": "2023-04-27T18:43:35.863Z"
   },
   {
    "duration": 27,
    "start_time": "2023-04-27T18:43:35.888Z"
   },
   {
    "duration": 23,
    "start_time": "2023-04-27T18:43:35.917Z"
   },
   {
    "duration": 35,
    "start_time": "2023-04-27T18:43:35.942Z"
   },
   {
    "duration": 35,
    "start_time": "2023-04-27T18:43:35.978Z"
   },
   {
    "duration": 31,
    "start_time": "2023-04-27T18:43:36.015Z"
   },
   {
    "duration": 24,
    "start_time": "2023-04-27T18:43:36.048Z"
   },
   {
    "duration": 41,
    "start_time": "2023-04-27T18:43:36.073Z"
   },
   {
    "duration": 46,
    "start_time": "2023-04-27T18:43:36.116Z"
   },
   {
    "duration": 28,
    "start_time": "2023-04-27T18:43:36.164Z"
   },
   {
    "duration": 31,
    "start_time": "2023-04-27T18:43:36.193Z"
   },
   {
    "duration": 38,
    "start_time": "2023-04-27T18:43:36.226Z"
   },
   {
    "duration": 48,
    "start_time": "2023-04-27T18:43:36.266Z"
   },
   {
    "duration": 16,
    "start_time": "2023-04-27T18:43:36.316Z"
   },
   {
    "duration": 52,
    "start_time": "2023-04-27T18:43:36.333Z"
   },
   {
    "duration": 13,
    "start_time": "2023-04-27T18:43:36.387Z"
   },
   {
    "duration": 36,
    "start_time": "2023-04-27T18:43:36.402Z"
   },
   {
    "duration": 34,
    "start_time": "2023-04-27T18:43:36.440Z"
   },
   {
    "duration": 39,
    "start_time": "2023-04-27T18:43:36.475Z"
   },
   {
    "duration": 31,
    "start_time": "2023-04-27T18:43:36.515Z"
   },
   {
    "duration": 44,
    "start_time": "2023-04-27T18:43:36.547Z"
   },
   {
    "duration": 27,
    "start_time": "2023-04-27T18:43:36.593Z"
   },
   {
    "duration": 15,
    "start_time": "2023-04-27T18:43:36.622Z"
   },
   {
    "duration": 42,
    "start_time": "2023-04-27T18:43:36.639Z"
   },
   {
    "duration": 23,
    "start_time": "2023-04-27T18:43:36.682Z"
   },
   {
    "duration": 34,
    "start_time": "2023-04-27T18:43:36.707Z"
   },
   {
    "duration": 18,
    "start_time": "2023-04-27T18:43:36.743Z"
   },
   {
    "duration": 38,
    "start_time": "2023-04-27T18:43:36.763Z"
   },
   {
    "duration": 69,
    "start_time": "2023-04-27T18:43:36.805Z"
   },
   {
    "duration": 34,
    "start_time": "2023-04-27T18:43:36.876Z"
   },
   {
    "duration": 36,
    "start_time": "2023-04-27T18:43:36.912Z"
   },
   {
    "duration": 16,
    "start_time": "2023-04-27T18:43:36.950Z"
   },
   {
    "duration": 24,
    "start_time": "2023-04-27T18:43:36.968Z"
   },
   {
    "duration": 49,
    "start_time": "2023-04-27T18:43:36.994Z"
   },
   {
    "duration": 27,
    "start_time": "2023-04-27T18:43:37.044Z"
   },
   {
    "duration": 100,
    "start_time": "2023-04-27T18:43:37.073Z"
   },
   {
    "duration": 0,
    "start_time": "2023-04-27T18:43:37.175Z"
   },
   {
    "duration": 7,
    "start_time": "2023-04-27T18:43:50.819Z"
   },
   {
    "duration": 9,
    "start_time": "2023-04-27T18:44:39.041Z"
   },
   {
    "duration": 7,
    "start_time": "2023-04-27T18:45:17.665Z"
   },
   {
    "duration": 9,
    "start_time": "2023-04-27T19:11:00.497Z"
   },
   {
    "duration": 1398,
    "start_time": "2023-04-27T19:11:06.539Z"
   },
   {
    "duration": 12,
    "start_time": "2023-04-27T19:12:25.275Z"
   },
   {
    "duration": 1197,
    "start_time": "2023-04-27T19:12:31.739Z"
   },
   {
    "duration": 7,
    "start_time": "2023-04-27T19:13:48.948Z"
   },
   {
    "duration": 10,
    "start_time": "2023-04-27T19:13:54.797Z"
   },
   {
    "duration": 14,
    "start_time": "2023-04-27T19:14:16.384Z"
   },
   {
    "duration": 18,
    "start_time": "2023-04-27T19:14:36.023Z"
   },
   {
    "duration": 17,
    "start_time": "2023-04-27T19:14:52.279Z"
   },
   {
    "duration": 16,
    "start_time": "2023-04-27T19:16:51.100Z"
   },
   {
    "duration": 12,
    "start_time": "2023-04-27T19:19:56.515Z"
   },
   {
    "duration": 12,
    "start_time": "2023-04-27T19:20:08.801Z"
   },
   {
    "duration": 12,
    "start_time": "2023-04-27T19:20:17.217Z"
   },
   {
    "duration": 29,
    "start_time": "2023-04-27T19:21:24.876Z"
   },
   {
    "duration": 27,
    "start_time": "2023-04-27T19:21:35.334Z"
   },
   {
    "duration": 12,
    "start_time": "2023-04-27T19:21:56.401Z"
   },
   {
    "duration": 18,
    "start_time": "2023-04-27T19:22:39.170Z"
   },
   {
    "duration": 17,
    "start_time": "2023-04-27T19:29:17.589Z"
   },
   {
    "duration": 17,
    "start_time": "2023-04-27T19:29:23.483Z"
   },
   {
    "duration": 61,
    "start_time": "2023-04-27T19:31:11.759Z"
   },
   {
    "duration": 62,
    "start_time": "2023-04-27T19:31:43.677Z"
   },
   {
    "duration": 9,
    "start_time": "2023-04-27T19:33:08.815Z"
   },
   {
    "duration": 11,
    "start_time": "2023-04-27T19:33:46.791Z"
   },
   {
    "duration": 546,
    "start_time": "2023-04-27T19:33:58.398Z"
   },
   {
    "duration": 23,
    "start_time": "2023-04-27T19:33:58.946Z"
   },
   {
    "duration": 11,
    "start_time": "2023-04-27T19:33:58.971Z"
   },
   {
    "duration": 5,
    "start_time": "2023-04-27T19:33:58.984Z"
   },
   {
    "duration": 25,
    "start_time": "2023-04-27T19:33:58.992Z"
   },
   {
    "duration": 8,
    "start_time": "2023-04-27T19:33:59.019Z"
   },
   {
    "duration": 11,
    "start_time": "2023-04-27T19:33:59.028Z"
   },
   {
    "duration": 17,
    "start_time": "2023-04-27T19:33:59.040Z"
   },
   {
    "duration": 25,
    "start_time": "2023-04-27T19:33:59.059Z"
   },
   {
    "duration": 10,
    "start_time": "2023-04-27T19:33:59.086Z"
   },
   {
    "duration": 14,
    "start_time": "2023-04-27T19:33:59.097Z"
   },
   {
    "duration": 20,
    "start_time": "2023-04-27T19:33:59.114Z"
   },
   {
    "duration": 5,
    "start_time": "2023-04-27T19:33:59.135Z"
   },
   {
    "duration": 10,
    "start_time": "2023-04-27T19:33:59.144Z"
   },
   {
    "duration": 31,
    "start_time": "2023-04-27T19:33:59.156Z"
   },
   {
    "duration": 30,
    "start_time": "2023-04-27T19:33:59.189Z"
   },
   {
    "duration": 15,
    "start_time": "2023-04-27T19:33:59.221Z"
   },
   {
    "duration": 12,
    "start_time": "2023-04-27T19:33:59.237Z"
   },
   {
    "duration": 12,
    "start_time": "2023-04-27T19:33:59.250Z"
   },
   {
    "duration": 25,
    "start_time": "2023-04-27T19:33:59.264Z"
   },
   {
    "duration": 22,
    "start_time": "2023-04-27T19:33:59.291Z"
   },
   {
    "duration": 17,
    "start_time": "2023-04-27T19:33:59.315Z"
   },
   {
    "duration": 4,
    "start_time": "2023-04-27T19:33:59.334Z"
   },
   {
    "duration": 26,
    "start_time": "2023-04-27T19:33:59.340Z"
   },
   {
    "duration": 52,
    "start_time": "2023-04-27T19:33:59.368Z"
   },
   {
    "duration": 18,
    "start_time": "2023-04-27T19:33:59.422Z"
   },
   {
    "duration": 54,
    "start_time": "2023-04-27T19:33:59.442Z"
   },
   {
    "duration": 15,
    "start_time": "2023-04-27T19:33:59.498Z"
   },
   {
    "duration": 47,
    "start_time": "2023-04-27T19:33:59.515Z"
   },
   {
    "duration": 17,
    "start_time": "2023-04-27T19:33:59.563Z"
   },
   {
    "duration": 7,
    "start_time": "2023-04-27T19:33:59.582Z"
   },
   {
    "duration": 8,
    "start_time": "2023-04-27T19:33:59.592Z"
   },
   {
    "duration": 30,
    "start_time": "2023-04-27T19:33:59.602Z"
   },
   {
    "duration": 7,
    "start_time": "2023-04-27T19:33:59.634Z"
   },
   {
    "duration": 34,
    "start_time": "2023-04-27T19:33:59.643Z"
   },
   {
    "duration": 41,
    "start_time": "2023-04-27T19:33:59.679Z"
   },
   {
    "duration": 49,
    "start_time": "2023-04-27T19:33:59.722Z"
   },
   {
    "duration": 11,
    "start_time": "2023-04-27T19:33:59.773Z"
   },
   {
    "duration": 7,
    "start_time": "2023-04-27T19:33:59.786Z"
   },
   {
    "duration": 13,
    "start_time": "2023-04-27T19:33:59.795Z"
   },
   {
    "duration": 16,
    "start_time": "2023-04-27T19:33:59.813Z"
   },
   {
    "duration": 14,
    "start_time": "2023-04-27T19:33:59.831Z"
   },
   {
    "duration": 22,
    "start_time": "2023-04-27T19:33:59.847Z"
   },
   {
    "duration": 18,
    "start_time": "2023-04-27T19:33:59.879Z"
   },
   {
    "duration": 11,
    "start_time": "2023-04-27T19:33:59.899Z"
   },
   {
    "duration": 29,
    "start_time": "2023-04-27T19:33:59.912Z"
   },
   {
    "duration": 6,
    "start_time": "2023-04-27T19:33:59.943Z"
   },
   {
    "duration": 34,
    "start_time": "2023-04-27T19:33:59.951Z"
   },
   {
    "duration": 184,
    "start_time": "2023-04-27T19:33:59.987Z"
   },
   {
    "duration": 74,
    "start_time": "2023-04-27T19:34:00.172Z"
   },
   {
    "duration": 0,
    "start_time": "2023-04-27T19:34:00.247Z"
   },
   {
    "duration": 47,
    "start_time": "2023-04-27T19:34:47.880Z"
   },
   {
    "duration": 9,
    "start_time": "2023-04-27T19:35:00.154Z"
   },
   {
    "duration": 6,
    "start_time": "2023-04-27T19:35:51.331Z"
   },
   {
    "duration": 12,
    "start_time": "2023-04-27T19:36:37.209Z"
   },
   {
    "duration": 11,
    "start_time": "2023-04-27T19:43:31.748Z"
   },
   {
    "duration": 11,
    "start_time": "2023-04-27T19:44:20.611Z"
   },
   {
    "duration": 4,
    "start_time": "2023-04-27T19:46:31.456Z"
   },
   {
    "duration": 24,
    "start_time": "2023-04-27T19:46:36.341Z"
   },
   {
    "duration": 58,
    "start_time": "2023-04-27T19:46:58.910Z"
   },
   {
    "duration": 528,
    "start_time": "2023-04-27T19:47:15.090Z"
   },
   {
    "duration": 24,
    "start_time": "2023-04-27T19:47:15.620Z"
   },
   {
    "duration": 12,
    "start_time": "2023-04-27T19:47:15.645Z"
   },
   {
    "duration": 7,
    "start_time": "2023-04-27T19:47:15.659Z"
   },
   {
    "duration": 28,
    "start_time": "2023-04-27T19:47:15.668Z"
   },
   {
    "duration": 6,
    "start_time": "2023-04-27T19:47:15.700Z"
   },
   {
    "duration": 14,
    "start_time": "2023-04-27T19:47:15.708Z"
   },
   {
    "duration": 22,
    "start_time": "2023-04-27T19:47:15.724Z"
   },
   {
    "duration": 11,
    "start_time": "2023-04-27T19:47:15.748Z"
   },
   {
    "duration": 8,
    "start_time": "2023-04-27T19:47:15.761Z"
   },
   {
    "duration": 40,
    "start_time": "2023-04-27T19:47:15.771Z"
   },
   {
    "duration": 38,
    "start_time": "2023-04-27T19:47:15.813Z"
   },
   {
    "duration": 6,
    "start_time": "2023-04-27T19:47:15.853Z"
   },
   {
    "duration": 34,
    "start_time": "2023-04-27T19:47:15.860Z"
   },
   {
    "duration": 17,
    "start_time": "2023-04-27T19:47:15.900Z"
   },
   {
    "duration": 14,
    "start_time": "2023-04-27T19:47:15.919Z"
   },
   {
    "duration": 21,
    "start_time": "2023-04-27T19:47:15.935Z"
   },
   {
    "duration": 14,
    "start_time": "2023-04-27T19:47:15.958Z"
   },
   {
    "duration": 8,
    "start_time": "2023-04-27T19:47:15.973Z"
   },
   {
    "duration": 28,
    "start_time": "2023-04-27T19:47:15.982Z"
   },
   {
    "duration": 23,
    "start_time": "2023-04-27T19:47:16.011Z"
   },
   {
    "duration": 27,
    "start_time": "2023-04-27T19:47:16.036Z"
   },
   {
    "duration": 10,
    "start_time": "2023-04-27T19:47:16.064Z"
   },
   {
    "duration": 46,
    "start_time": "2023-04-27T19:47:16.076Z"
   },
   {
    "duration": 52,
    "start_time": "2023-04-27T19:47:16.123Z"
   },
   {
    "duration": 25,
    "start_time": "2023-04-27T19:47:16.176Z"
   },
   {
    "duration": 33,
    "start_time": "2023-04-27T19:47:16.203Z"
   },
   {
    "duration": 17,
    "start_time": "2023-04-27T19:47:16.239Z"
   },
   {
    "duration": 38,
    "start_time": "2023-04-27T19:47:16.258Z"
   },
   {
    "duration": 33,
    "start_time": "2023-04-27T19:47:16.298Z"
   },
   {
    "duration": 16,
    "start_time": "2023-04-27T19:47:16.332Z"
   },
   {
    "duration": 49,
    "start_time": "2023-04-27T19:47:16.350Z"
   },
   {
    "duration": 35,
    "start_time": "2023-04-27T19:47:16.401Z"
   },
   {
    "duration": 7,
    "start_time": "2023-04-27T19:47:16.438Z"
   },
   {
    "duration": 22,
    "start_time": "2023-04-27T19:47:16.446Z"
   },
   {
    "duration": 25,
    "start_time": "2023-04-27T19:47:16.470Z"
   },
   {
    "duration": 24,
    "start_time": "2023-04-27T19:47:16.497Z"
   },
   {
    "duration": 28,
    "start_time": "2023-04-27T19:47:16.523Z"
   },
   {
    "duration": 13,
    "start_time": "2023-04-27T19:47:16.553Z"
   },
   {
    "duration": 19,
    "start_time": "2023-04-27T19:47:16.568Z"
   },
   {
    "duration": 22,
    "start_time": "2023-04-27T19:47:16.590Z"
   },
   {
    "duration": 25,
    "start_time": "2023-04-27T19:47:16.614Z"
   },
   {
    "duration": 24,
    "start_time": "2023-04-27T19:47:16.640Z"
   },
   {
    "duration": 12,
    "start_time": "2023-04-27T19:47:16.666Z"
   },
   {
    "duration": 29,
    "start_time": "2023-04-27T19:47:16.679Z"
   },
   {
    "duration": 34,
    "start_time": "2023-04-27T19:47:16.710Z"
   },
   {
    "duration": 10,
    "start_time": "2023-04-27T19:47:16.746Z"
   },
   {
    "duration": 99,
    "start_time": "2023-04-27T19:47:16.757Z"
   },
   {
    "duration": 0,
    "start_time": "2023-04-27T19:47:16.858Z"
   },
   {
    "duration": 0,
    "start_time": "2023-04-27T19:47:16.859Z"
   },
   {
    "duration": 0,
    "start_time": "2023-04-27T19:47:16.860Z"
   },
   {
    "duration": 12,
    "start_time": "2023-04-27T19:47:58.821Z"
   },
   {
    "duration": 15,
    "start_time": "2023-04-27T19:48:16.441Z"
   },
   {
    "duration": 161,
    "start_time": "2023-04-27T19:51:59.256Z"
   },
   {
    "duration": 9,
    "start_time": "2023-04-27T19:52:05.938Z"
   },
   {
    "duration": 10,
    "start_time": "2023-04-27T19:53:53.334Z"
   },
   {
    "duration": 11,
    "start_time": "2023-04-27T21:05:28.037Z"
   },
   {
    "duration": 1249,
    "start_time": "2023-04-27T21:05:36.905Z"
   },
   {
    "duration": 10,
    "start_time": "2023-04-27T21:05:47.628Z"
   },
   {
    "duration": 11,
    "start_time": "2023-04-27T21:11:16.975Z"
   },
   {
    "duration": 9,
    "start_time": "2023-04-27T21:11:29.065Z"
   },
   {
    "duration": 11,
    "start_time": "2023-04-27T21:11:40.511Z"
   },
   {
    "duration": 9,
    "start_time": "2023-04-27T21:14:57.956Z"
   },
   {
    "duration": 22,
    "start_time": "2023-04-27T21:15:57.370Z"
   },
   {
    "duration": 15,
    "start_time": "2023-04-27T21:16:18.365Z"
   },
   {
    "duration": 63,
    "start_time": "2023-04-27T21:17:57.957Z"
   },
   {
    "duration": 25,
    "start_time": "2023-04-27T21:18:48.314Z"
   },
   {
    "duration": 19,
    "start_time": "2023-04-27T21:19:17.543Z"
   },
   {
    "duration": 560,
    "start_time": "2023-04-27T21:19:38.012Z"
   },
   {
    "duration": 31,
    "start_time": "2023-04-27T21:19:38.574Z"
   },
   {
    "duration": 43,
    "start_time": "2023-04-27T21:19:38.609Z"
   },
   {
    "duration": 22,
    "start_time": "2023-04-27T21:19:38.654Z"
   },
   {
    "duration": 65,
    "start_time": "2023-04-27T21:19:38.679Z"
   },
   {
    "duration": 19,
    "start_time": "2023-04-27T21:19:38.746Z"
   },
   {
    "duration": 57,
    "start_time": "2023-04-27T21:19:38.767Z"
   },
   {
    "duration": 32,
    "start_time": "2023-04-27T21:19:38.825Z"
   },
   {
    "duration": 57,
    "start_time": "2023-04-27T21:19:38.858Z"
   },
   {
    "duration": 8,
    "start_time": "2023-04-27T21:19:38.917Z"
   },
   {
    "duration": 17,
    "start_time": "2023-04-27T21:19:38.926Z"
   },
   {
    "duration": 23,
    "start_time": "2023-04-27T21:19:38.944Z"
   },
   {
    "duration": 8,
    "start_time": "2023-04-27T21:19:38.969Z"
   },
   {
    "duration": 44,
    "start_time": "2023-04-27T21:19:38.980Z"
   },
   {
    "duration": 15,
    "start_time": "2023-04-27T21:19:39.026Z"
   },
   {
    "duration": 8,
    "start_time": "2023-04-27T21:19:39.042Z"
   },
   {
    "duration": 16,
    "start_time": "2023-04-27T21:19:39.051Z"
   },
   {
    "duration": 14,
    "start_time": "2023-04-27T21:19:39.068Z"
   },
   {
    "duration": 34,
    "start_time": "2023-04-27T21:19:39.085Z"
   },
   {
    "duration": 12,
    "start_time": "2023-04-27T21:19:39.120Z"
   },
   {
    "duration": 9,
    "start_time": "2023-04-27T21:19:39.133Z"
   },
   {
    "duration": 7,
    "start_time": "2023-04-27T21:19:39.144Z"
   },
   {
    "duration": 7,
    "start_time": "2023-04-27T21:19:39.152Z"
   },
   {
    "duration": 33,
    "start_time": "2023-04-27T21:19:39.161Z"
   },
   {
    "duration": 59,
    "start_time": "2023-04-27T21:19:39.196Z"
   },
   {
    "duration": 18,
    "start_time": "2023-04-27T21:19:39.256Z"
   },
   {
    "duration": 36,
    "start_time": "2023-04-27T21:19:39.287Z"
   },
   {
    "duration": 15,
    "start_time": "2023-04-27T21:19:39.325Z"
   },
   {
    "duration": 18,
    "start_time": "2023-04-27T21:19:39.342Z"
   },
   {
    "duration": 31,
    "start_time": "2023-04-27T21:19:39.362Z"
   },
   {
    "duration": 39,
    "start_time": "2023-04-27T21:19:39.395Z"
   },
   {
    "duration": 13,
    "start_time": "2023-04-27T21:19:39.436Z"
   },
   {
    "duration": 24,
    "start_time": "2023-04-27T21:19:39.450Z"
   },
   {
    "duration": 5,
    "start_time": "2023-04-27T21:19:39.475Z"
   },
   {
    "duration": 17,
    "start_time": "2023-04-27T21:19:39.482Z"
   },
   {
    "duration": 24,
    "start_time": "2023-04-27T21:19:39.501Z"
   },
   {
    "duration": 10,
    "start_time": "2023-04-27T21:19:39.527Z"
   },
   {
    "duration": 9,
    "start_time": "2023-04-27T21:19:39.538Z"
   },
   {
    "duration": 8,
    "start_time": "2023-04-27T21:19:39.548Z"
   },
   {
    "duration": 12,
    "start_time": "2023-04-27T21:19:39.558Z"
   },
   {
    "duration": 6,
    "start_time": "2023-04-27T21:19:39.573Z"
   },
   {
    "duration": 42,
    "start_time": "2023-04-27T21:19:39.581Z"
   },
   {
    "duration": 6,
    "start_time": "2023-04-27T21:19:39.625Z"
   },
   {
    "duration": 15,
    "start_time": "2023-04-27T21:19:39.633Z"
   },
   {
    "duration": 9,
    "start_time": "2023-04-27T21:19:39.649Z"
   },
   {
    "duration": 35,
    "start_time": "2023-04-27T21:19:39.660Z"
   },
   {
    "duration": 9,
    "start_time": "2023-04-27T21:19:39.696Z"
   },
   {
    "duration": 37,
    "start_time": "2023-04-27T21:19:39.706Z"
   },
   {
    "duration": 192,
    "start_time": "2023-04-27T21:19:39.745Z"
   },
   {
    "duration": 80,
    "start_time": "2023-04-27T21:19:39.938Z"
   },
   {
    "duration": 0,
    "start_time": "2023-04-27T21:19:40.020Z"
   },
   {
    "duration": 0,
    "start_time": "2023-04-27T21:19:40.021Z"
   },
   {
    "duration": 572,
    "start_time": "2023-04-27T21:20:44.656Z"
   },
   {
    "duration": 52,
    "start_time": "2023-04-27T21:22:26.798Z"
   },
   {
    "duration": 566,
    "start_time": "2023-04-27T21:22:56.614Z"
   },
   {
    "duration": 29,
    "start_time": "2023-04-27T21:22:57.182Z"
   },
   {
    "duration": 12,
    "start_time": "2023-04-27T21:22:57.213Z"
   },
   {
    "duration": 7,
    "start_time": "2023-04-27T21:22:57.227Z"
   },
   {
    "duration": 25,
    "start_time": "2023-04-27T21:22:57.236Z"
   },
   {
    "duration": 7,
    "start_time": "2023-04-27T21:22:57.262Z"
   },
   {
    "duration": 14,
    "start_time": "2023-04-27T21:22:57.283Z"
   },
   {
    "duration": 18,
    "start_time": "2023-04-27T21:22:57.298Z"
   },
   {
    "duration": 4,
    "start_time": "2023-04-27T21:22:57.317Z"
   },
   {
    "duration": 7,
    "start_time": "2023-04-27T21:22:57.322Z"
   },
   {
    "duration": 13,
    "start_time": "2023-04-27T21:22:57.330Z"
   },
   {
    "duration": 19,
    "start_time": "2023-04-27T21:22:57.344Z"
   },
   {
    "duration": 24,
    "start_time": "2023-04-27T21:22:57.365Z"
   },
   {
    "duration": 18,
    "start_time": "2023-04-27T21:22:57.394Z"
   },
   {
    "duration": 7,
    "start_time": "2023-04-27T21:22:57.414Z"
   },
   {
    "duration": 6,
    "start_time": "2023-04-27T21:22:57.423Z"
   },
   {
    "duration": 6,
    "start_time": "2023-04-27T21:22:57.431Z"
   },
   {
    "duration": 7,
    "start_time": "2023-04-27T21:22:57.439Z"
   },
   {
    "duration": 6,
    "start_time": "2023-04-27T21:22:57.447Z"
   },
   {
    "duration": 41,
    "start_time": "2023-04-27T21:22:57.455Z"
   },
   {
    "duration": 17,
    "start_time": "2023-04-27T21:22:57.498Z"
   },
   {
    "duration": 9,
    "start_time": "2023-04-27T21:22:57.517Z"
   },
   {
    "duration": 5,
    "start_time": "2023-04-27T21:22:57.528Z"
   },
   {
    "duration": 56,
    "start_time": "2023-04-27T21:22:57.535Z"
   },
   {
    "duration": 67,
    "start_time": "2023-04-27T21:22:57.593Z"
   },
   {
    "duration": 35,
    "start_time": "2023-04-27T21:22:57.662Z"
   },
   {
    "duration": 32,
    "start_time": "2023-04-27T21:22:57.701Z"
   },
   {
    "duration": 16,
    "start_time": "2023-04-27T21:22:57.734Z"
   },
   {
    "duration": 22,
    "start_time": "2023-04-27T21:22:57.752Z"
   },
   {
    "duration": 30,
    "start_time": "2023-04-27T21:22:57.776Z"
   },
   {
    "duration": 18,
    "start_time": "2023-04-27T21:22:57.808Z"
   },
   {
    "duration": 9,
    "start_time": "2023-04-27T21:22:57.828Z"
   },
   {
    "duration": 34,
    "start_time": "2023-04-27T21:22:57.839Z"
   },
   {
    "duration": 14,
    "start_time": "2023-04-27T21:22:57.883Z"
   },
   {
    "duration": 10,
    "start_time": "2023-04-27T21:22:57.899Z"
   },
   {
    "duration": 11,
    "start_time": "2023-04-27T21:22:57.911Z"
   },
   {
    "duration": 9,
    "start_time": "2023-04-27T21:22:57.924Z"
   },
   {
    "duration": 9,
    "start_time": "2023-04-27T21:22:57.935Z"
   },
   {
    "duration": 10,
    "start_time": "2023-04-27T21:22:57.947Z"
   },
   {
    "duration": 27,
    "start_time": "2023-04-27T21:22:57.959Z"
   },
   {
    "duration": 9,
    "start_time": "2023-04-27T21:22:57.993Z"
   },
   {
    "duration": 10,
    "start_time": "2023-04-27T21:22:58.004Z"
   },
   {
    "duration": 5,
    "start_time": "2023-04-27T21:22:58.016Z"
   },
   {
    "duration": 8,
    "start_time": "2023-04-27T21:22:58.023Z"
   },
   {
    "duration": 7,
    "start_time": "2023-04-27T21:22:58.033Z"
   },
   {
    "duration": 58,
    "start_time": "2023-04-27T21:22:58.042Z"
   },
   {
    "duration": 5,
    "start_time": "2023-04-27T21:22:58.102Z"
   },
   {
    "duration": 19,
    "start_time": "2023-04-27T21:22:58.109Z"
   },
   {
    "duration": 169,
    "start_time": "2023-04-27T21:22:58.131Z"
   },
   {
    "duration": 13,
    "start_time": "2023-04-27T21:22:58.302Z"
   },
   {
    "duration": 90,
    "start_time": "2023-04-27T21:22:58.316Z"
   },
   {
    "duration": 0,
    "start_time": "2023-04-27T21:22:58.407Z"
   },
   {
    "duration": 9,
    "start_time": "2023-04-27T21:24:29.975Z"
   },
   {
    "duration": 10,
    "start_time": "2023-04-27T21:48:50.457Z"
   },
   {
    "duration": 8,
    "start_time": "2023-04-27T21:49:15.622Z"
   },
   {
    "duration": 6,
    "start_time": "2023-04-27T21:49:47.657Z"
   },
   {
    "duration": 20,
    "start_time": "2023-04-27T21:49:55.501Z"
   },
   {
    "duration": 9,
    "start_time": "2023-04-27T21:50:21.373Z"
   },
   {
    "duration": 12,
    "start_time": "2023-04-27T21:50:32.257Z"
   },
   {
    "duration": 10,
    "start_time": "2023-04-27T21:51:03.444Z"
   },
   {
    "duration": 16,
    "start_time": "2023-04-27T21:51:23.859Z"
   },
   {
    "duration": 23,
    "start_time": "2023-04-27T21:51:55.376Z"
   },
   {
    "duration": 12,
    "start_time": "2023-04-27T21:52:30.657Z"
   },
   {
    "duration": 13,
    "start_time": "2023-04-27T21:53:08.978Z"
   },
   {
    "duration": 6,
    "start_time": "2023-04-27T21:53:41.759Z"
   },
   {
    "duration": 26,
    "start_time": "2023-04-27T21:53:54.548Z"
   },
   {
    "duration": 9,
    "start_time": "2023-04-27T21:55:18.215Z"
   },
   {
    "duration": 12,
    "start_time": "2023-04-27T21:58:02.295Z"
   },
   {
    "duration": 26,
    "start_time": "2023-04-27T21:58:11.742Z"
   },
   {
    "duration": 21,
    "start_time": "2023-04-27T21:58:17.277Z"
   },
   {
    "duration": 49,
    "start_time": "2023-04-27T21:59:11.898Z"
   },
   {
    "duration": 71,
    "start_time": "2023-04-27T22:00:10.855Z"
   },
   {
    "duration": 92,
    "start_time": "2023-04-27T22:02:09.697Z"
   },
   {
    "duration": 86,
    "start_time": "2023-04-27T22:02:50.273Z"
   },
   {
    "duration": 11,
    "start_time": "2023-04-27T22:03:05.456Z"
   },
   {
    "duration": 16,
    "start_time": "2023-04-27T22:03:23.480Z"
   },
   {
    "duration": 9,
    "start_time": "2023-04-27T22:03:36.792Z"
   },
   {
    "duration": 4,
    "start_time": "2023-04-27T22:03:51.655Z"
   },
   {
    "duration": 528,
    "start_time": "2023-04-27T22:04:31.491Z"
   },
   {
    "duration": 27,
    "start_time": "2023-04-27T22:04:32.021Z"
   },
   {
    "duration": 44,
    "start_time": "2023-04-27T22:04:32.050Z"
   },
   {
    "duration": 27,
    "start_time": "2023-04-27T22:04:32.097Z"
   },
   {
    "duration": 50,
    "start_time": "2023-04-27T22:04:32.125Z"
   },
   {
    "duration": 10,
    "start_time": "2023-04-27T22:04:32.177Z"
   },
   {
    "duration": 27,
    "start_time": "2023-04-27T22:04:32.193Z"
   },
   {
    "duration": 25,
    "start_time": "2023-04-27T22:04:32.221Z"
   },
   {
    "duration": 33,
    "start_time": "2023-04-27T22:04:32.248Z"
   },
   {
    "duration": 35,
    "start_time": "2023-04-27T22:04:32.285Z"
   },
   {
    "duration": 48,
    "start_time": "2023-04-27T22:04:32.322Z"
   },
   {
    "duration": 50,
    "start_time": "2023-04-27T22:04:32.372Z"
   },
   {
    "duration": 29,
    "start_time": "2023-04-27T22:04:32.424Z"
   },
   {
    "duration": 77,
    "start_time": "2023-04-27T22:04:32.455Z"
   },
   {
    "duration": 29,
    "start_time": "2023-04-27T22:04:32.533Z"
   },
   {
    "duration": 30,
    "start_time": "2023-04-27T22:04:32.564Z"
   },
   {
    "duration": 44,
    "start_time": "2023-04-27T22:04:32.596Z"
   },
   {
    "duration": 20,
    "start_time": "2023-04-27T22:04:32.641Z"
   },
   {
    "duration": 83,
    "start_time": "2023-04-27T22:04:32.662Z"
   },
   {
    "duration": 27,
    "start_time": "2023-04-27T22:04:32.746Z"
   },
   {
    "duration": 99,
    "start_time": "2023-04-27T22:04:32.774Z"
   },
   {
    "duration": 22,
    "start_time": "2023-04-27T22:04:32.875Z"
   },
   {
    "duration": 16,
    "start_time": "2023-04-27T22:04:32.898Z"
   },
   {
    "duration": 63,
    "start_time": "2023-04-27T22:04:32.915Z"
   },
   {
    "duration": 58,
    "start_time": "2023-04-27T22:04:32.980Z"
   },
   {
    "duration": 17,
    "start_time": "2023-04-27T22:04:33.039Z"
   },
   {
    "duration": 60,
    "start_time": "2023-04-27T22:04:33.057Z"
   },
   {
    "duration": 43,
    "start_time": "2023-04-27T22:04:33.121Z"
   },
   {
    "duration": 45,
    "start_time": "2023-04-27T22:04:33.166Z"
   },
   {
    "duration": 30,
    "start_time": "2023-04-27T22:04:33.212Z"
   },
   {
    "duration": 20,
    "start_time": "2023-04-27T22:04:33.244Z"
   },
   {
    "duration": 42,
    "start_time": "2023-04-27T22:04:33.266Z"
   },
   {
    "duration": 42,
    "start_time": "2023-04-27T22:04:33.310Z"
   },
   {
    "duration": 26,
    "start_time": "2023-04-27T22:04:33.353Z"
   },
   {
    "duration": 36,
    "start_time": "2023-04-27T22:04:33.381Z"
   },
   {
    "duration": 21,
    "start_time": "2023-04-27T22:04:33.418Z"
   },
   {
    "duration": 42,
    "start_time": "2023-04-27T22:04:33.441Z"
   },
   {
    "duration": 32,
    "start_time": "2023-04-27T22:04:33.484Z"
   },
   {
    "duration": 34,
    "start_time": "2023-04-27T22:04:33.518Z"
   },
   {
    "duration": 49,
    "start_time": "2023-04-27T22:04:33.553Z"
   },
   {
    "duration": 19,
    "start_time": "2023-04-27T22:04:33.604Z"
   },
   {
    "duration": 23,
    "start_time": "2023-04-27T22:04:33.625Z"
   },
   {
    "duration": 49,
    "start_time": "2023-04-27T22:04:33.649Z"
   },
   {
    "duration": 32,
    "start_time": "2023-04-27T22:04:33.700Z"
   },
   {
    "duration": 26,
    "start_time": "2023-04-27T22:04:33.734Z"
   },
   {
    "duration": 42,
    "start_time": "2023-04-27T22:04:33.762Z"
   },
   {
    "duration": 45,
    "start_time": "2023-04-27T22:04:33.806Z"
   },
   {
    "duration": 53,
    "start_time": "2023-04-27T22:04:33.852Z"
   },
   {
    "duration": 197,
    "start_time": "2023-04-27T22:04:33.907Z"
   },
   {
    "duration": 12,
    "start_time": "2023-04-27T22:04:34.106Z"
   },
   {
    "duration": 499,
    "start_time": "2023-04-27T22:04:34.120Z"
   },
   {
    "duration": 14,
    "start_time": "2023-04-27T22:04:34.640Z"
   },
   {
    "duration": 41,
    "start_time": "2023-04-27T22:04:34.655Z"
   },
   {
    "duration": 59,
    "start_time": "2023-04-27T22:04:34.698Z"
   },
   {
    "duration": 70,
    "start_time": "2023-04-27T22:04:34.759Z"
   },
   {
    "duration": 37,
    "start_time": "2023-04-27T22:04:34.831Z"
   },
   {
    "duration": 54,
    "start_time": "2023-04-27T22:04:34.870Z"
   },
   {
    "duration": 34,
    "start_time": "2023-04-27T22:04:34.925Z"
   },
   {
    "duration": 138,
    "start_time": "2023-04-27T22:04:34.960Z"
   },
   {
    "duration": 12,
    "start_time": "2023-04-27T22:04:35.100Z"
   },
   {
    "duration": 1020,
    "start_time": "2023-04-27T22:04:35.113Z"
   },
   {
    "duration": 4,
    "start_time": "2023-04-27T22:04:45.414Z"
   },
   {
    "duration": 5,
    "start_time": "2023-04-27T22:05:33.097Z"
   },
   {
    "duration": 529,
    "start_time": "2023-04-27T22:05:46.403Z"
   },
   {
    "duration": 22,
    "start_time": "2023-04-27T22:05:46.934Z"
   },
   {
    "duration": 11,
    "start_time": "2023-04-27T22:05:46.957Z"
   },
   {
    "duration": 5,
    "start_time": "2023-04-27T22:05:46.970Z"
   },
   {
    "duration": 25,
    "start_time": "2023-04-27T22:05:46.976Z"
   },
   {
    "duration": 6,
    "start_time": "2023-04-27T22:05:47.003Z"
   },
   {
    "duration": 8,
    "start_time": "2023-04-27T22:05:47.011Z"
   },
   {
    "duration": 18,
    "start_time": "2023-04-27T22:05:47.021Z"
   },
   {
    "duration": 4,
    "start_time": "2023-04-27T22:05:47.041Z"
   },
   {
    "duration": 14,
    "start_time": "2023-04-27T22:05:47.048Z"
   },
   {
    "duration": 22,
    "start_time": "2023-04-27T22:05:47.063Z"
   },
   {
    "duration": 23,
    "start_time": "2023-04-27T22:05:47.087Z"
   },
   {
    "duration": 5,
    "start_time": "2023-04-27T22:05:47.112Z"
   },
   {
    "duration": 15,
    "start_time": "2023-04-27T22:05:47.119Z"
   },
   {
    "duration": 8,
    "start_time": "2023-04-27T22:05:47.135Z"
   },
   {
    "duration": 15,
    "start_time": "2023-04-27T22:05:47.144Z"
   },
   {
    "duration": 10,
    "start_time": "2023-04-27T22:05:47.161Z"
   },
   {
    "duration": 23,
    "start_time": "2023-04-27T22:05:47.172Z"
   },
   {
    "duration": 3,
    "start_time": "2023-04-27T22:05:47.197Z"
   },
   {
    "duration": 15,
    "start_time": "2023-04-27T22:05:47.202Z"
   },
   {
    "duration": 11,
    "start_time": "2023-04-27T22:05:47.218Z"
   },
   {
    "duration": 11,
    "start_time": "2023-04-27T22:05:47.231Z"
   },
   {
    "duration": 11,
    "start_time": "2023-04-27T22:05:47.243Z"
   },
   {
    "duration": 26,
    "start_time": "2023-04-27T22:05:47.256Z"
   },
   {
    "duration": 52,
    "start_time": "2023-04-27T22:05:47.292Z"
   },
   {
    "duration": 19,
    "start_time": "2023-04-27T22:05:47.345Z"
   },
   {
    "duration": 39,
    "start_time": "2023-04-27T22:05:47.366Z"
   },
   {
    "duration": 22,
    "start_time": "2023-04-27T22:05:47.408Z"
   },
   {
    "duration": 14,
    "start_time": "2023-04-27T22:05:47.431Z"
   },
   {
    "duration": 17,
    "start_time": "2023-04-27T22:05:47.447Z"
   },
   {
    "duration": 30,
    "start_time": "2023-04-27T22:05:47.465Z"
   },
   {
    "duration": 20,
    "start_time": "2023-04-27T22:05:47.498Z"
   },
   {
    "duration": 27,
    "start_time": "2023-04-27T22:05:47.520Z"
   },
   {
    "duration": 7,
    "start_time": "2023-04-27T22:05:47.548Z"
   },
   {
    "duration": 19,
    "start_time": "2023-04-27T22:05:47.556Z"
   },
   {
    "duration": 19,
    "start_time": "2023-04-27T22:05:47.576Z"
   },
   {
    "duration": 11,
    "start_time": "2023-04-27T22:05:47.598Z"
   },
   {
    "duration": 7,
    "start_time": "2023-04-27T22:05:47.611Z"
   },
   {
    "duration": 14,
    "start_time": "2023-04-27T22:05:47.620Z"
   },
   {
    "duration": 10,
    "start_time": "2023-04-27T22:05:47.636Z"
   },
   {
    "duration": 5,
    "start_time": "2023-04-27T22:05:47.647Z"
   },
   {
    "duration": 18,
    "start_time": "2023-04-27T22:05:47.653Z"
   },
   {
    "duration": 12,
    "start_time": "2023-04-27T22:05:47.674Z"
   },
   {
    "duration": 6,
    "start_time": "2023-04-27T22:05:47.688Z"
   },
   {
    "duration": 13,
    "start_time": "2023-04-27T22:05:47.698Z"
   },
   {
    "duration": 22,
    "start_time": "2023-04-27T22:05:47.713Z"
   },
   {
    "duration": 11,
    "start_time": "2023-04-27T22:05:47.737Z"
   },
   {
    "duration": 15,
    "start_time": "2023-04-27T22:05:47.749Z"
   },
   {
    "duration": 163,
    "start_time": "2023-04-27T22:05:47.765Z"
   },
   {
    "duration": 12,
    "start_time": "2023-04-27T22:05:47.930Z"
   },
   {
    "duration": 528,
    "start_time": "2023-04-27T22:05:47.944Z"
   },
   {
    "duration": 23,
    "start_time": "2023-04-27T22:05:48.473Z"
   },
   {
    "duration": 12,
    "start_time": "2023-04-27T22:05:48.498Z"
   },
   {
    "duration": 18,
    "start_time": "2023-04-27T22:05:48.512Z"
   },
   {
    "duration": 11,
    "start_time": "2023-04-27T22:05:48.532Z"
   },
   {
    "duration": 14,
    "start_time": "2023-04-27T22:05:48.544Z"
   },
   {
    "duration": 37,
    "start_time": "2023-04-27T22:05:48.560Z"
   },
   {
    "duration": 12,
    "start_time": "2023-04-27T22:05:48.598Z"
   },
   {
    "duration": 136,
    "start_time": "2023-04-27T22:05:48.611Z"
   },
   {
    "duration": 12,
    "start_time": "2023-04-27T22:05:48.748Z"
   },
   {
    "duration": 6,
    "start_time": "2023-04-27T22:05:48.762Z"
   },
   {
    "duration": 26,
    "start_time": "2023-04-27T22:05:48.769Z"
   },
   {
    "duration": 66,
    "start_time": "2023-04-27T22:14:09.296Z"
   },
   {
    "duration": 4,
    "start_time": "2023-04-27T22:14:19.465Z"
   },
   {
    "duration": 3,
    "start_time": "2023-04-27T22:14:49.335Z"
   },
   {
    "duration": 5,
    "start_time": "2023-04-27T22:18:04.297Z"
   },
   {
    "duration": 6,
    "start_time": "2023-04-27T22:18:40.774Z"
   },
   {
    "duration": 11,
    "start_time": "2023-04-27T22:19:41.834Z"
   },
   {
    "duration": 9,
    "start_time": "2023-04-27T22:39:22.414Z"
   },
   {
    "duration": 7,
    "start_time": "2023-04-27T22:40:25.815Z"
   },
   {
    "duration": 9,
    "start_time": "2023-04-27T22:40:33.054Z"
   },
   {
    "duration": 12,
    "start_time": "2023-04-27T22:40:48.377Z"
   },
   {
    "duration": 12,
    "start_time": "2023-04-27T22:40:53.806Z"
   },
   {
    "duration": 9,
    "start_time": "2023-04-27T22:41:10.014Z"
   },
   {
    "duration": 11,
    "start_time": "2023-04-27T22:42:01.014Z"
   },
   {
    "duration": 7,
    "start_time": "2023-04-27T22:43:16.694Z"
   },
   {
    "duration": 8,
    "start_time": "2023-04-27T22:45:33.174Z"
   },
   {
    "duration": 7,
    "start_time": "2023-04-27T22:45:41.614Z"
   },
   {
    "duration": 7,
    "start_time": "2023-04-27T22:46:07.037Z"
   },
   {
    "duration": 497,
    "start_time": "2023-04-27T22:48:02.621Z"
   },
   {
    "duration": 66,
    "start_time": "2023-04-27T22:48:34.878Z"
   },
   {
    "duration": 19,
    "start_time": "2023-04-27T22:48:42.783Z"
   },
   {
    "duration": 766,
    "start_time": "2023-04-27T22:48:47.694Z"
   },
   {
    "duration": 13,
    "start_time": "2023-04-27T22:49:16.174Z"
   },
   {
    "duration": 7,
    "start_time": "2023-04-27T22:54:26.934Z"
   },
   {
    "duration": 86,
    "start_time": "2023-04-27T22:58:12.019Z"
   },
   {
    "duration": 15,
    "start_time": "2023-04-27T22:58:20.301Z"
   },
   {
    "duration": 13,
    "start_time": "2023-04-27T22:59:38.428Z"
   },
   {
    "duration": 577,
    "start_time": "2023-04-27T22:59:49.803Z"
   },
   {
    "duration": 29,
    "start_time": "2023-04-27T22:59:50.383Z"
   },
   {
    "duration": 12,
    "start_time": "2023-04-27T22:59:50.413Z"
   },
   {
    "duration": 6,
    "start_time": "2023-04-27T22:59:50.427Z"
   },
   {
    "duration": 23,
    "start_time": "2023-04-27T22:59:50.435Z"
   },
   {
    "duration": 30,
    "start_time": "2023-04-27T22:59:50.459Z"
   },
   {
    "duration": 15,
    "start_time": "2023-04-27T22:59:50.492Z"
   },
   {
    "duration": 13,
    "start_time": "2023-04-27T22:59:50.508Z"
   },
   {
    "duration": 4,
    "start_time": "2023-04-27T22:59:50.522Z"
   },
   {
    "duration": 9,
    "start_time": "2023-04-27T22:59:50.527Z"
   },
   {
    "duration": 13,
    "start_time": "2023-04-27T22:59:50.538Z"
   },
   {
    "duration": 40,
    "start_time": "2023-04-27T22:59:50.552Z"
   },
   {
    "duration": 7,
    "start_time": "2023-04-27T22:59:50.594Z"
   },
   {
    "duration": 15,
    "start_time": "2023-04-27T22:59:50.604Z"
   },
   {
    "duration": 10,
    "start_time": "2023-04-27T22:59:50.621Z"
   },
   {
    "duration": 17,
    "start_time": "2023-04-27T22:59:50.632Z"
   },
   {
    "duration": 18,
    "start_time": "2023-04-27T22:59:50.651Z"
   },
   {
    "duration": 18,
    "start_time": "2023-04-27T22:59:50.671Z"
   },
   {
    "duration": 13,
    "start_time": "2023-04-27T22:59:50.691Z"
   },
   {
    "duration": 17,
    "start_time": "2023-04-27T22:59:50.705Z"
   },
   {
    "duration": 14,
    "start_time": "2023-04-27T22:59:50.724Z"
   },
   {
    "duration": 12,
    "start_time": "2023-04-27T22:59:50.739Z"
   },
   {
    "duration": 10,
    "start_time": "2023-04-27T22:59:50.753Z"
   },
   {
    "duration": 38,
    "start_time": "2023-04-27T22:59:50.765Z"
   },
   {
    "duration": 56,
    "start_time": "2023-04-27T22:59:50.805Z"
   },
   {
    "duration": 39,
    "start_time": "2023-04-27T22:59:50.863Z"
   },
   {
    "duration": 28,
    "start_time": "2023-04-27T22:59:50.904Z"
   },
   {
    "duration": 15,
    "start_time": "2023-04-27T22:59:50.934Z"
   },
   {
    "duration": 49,
    "start_time": "2023-04-27T22:59:50.950Z"
   },
   {
    "duration": 16,
    "start_time": "2023-04-27T22:59:51.001Z"
   },
   {
    "duration": 4,
    "start_time": "2023-04-27T22:59:51.019Z"
   },
   {
    "duration": 11,
    "start_time": "2023-04-27T22:59:51.024Z"
   },
   {
    "duration": 48,
    "start_time": "2023-04-27T22:59:51.036Z"
   },
   {
    "duration": 13,
    "start_time": "2023-04-27T22:59:51.087Z"
   },
   {
    "duration": 19,
    "start_time": "2023-04-27T22:59:51.101Z"
   },
   {
    "duration": 16,
    "start_time": "2023-04-27T22:59:51.122Z"
   },
   {
    "duration": 37,
    "start_time": "2023-04-27T22:59:51.139Z"
   },
   {
    "duration": 34,
    "start_time": "2023-04-27T22:59:51.177Z"
   },
   {
    "duration": 30,
    "start_time": "2023-04-27T22:59:51.213Z"
   },
   {
    "duration": 21,
    "start_time": "2023-04-27T22:59:51.245Z"
   },
   {
    "duration": 11,
    "start_time": "2023-04-27T22:59:51.270Z"
   },
   {
    "duration": 28,
    "start_time": "2023-04-27T22:59:51.283Z"
   },
   {
    "duration": 20,
    "start_time": "2023-04-27T22:59:51.312Z"
   },
   {
    "duration": 23,
    "start_time": "2023-04-27T22:59:51.333Z"
   },
   {
    "duration": 23,
    "start_time": "2023-04-27T22:59:51.358Z"
   },
   {
    "duration": 36,
    "start_time": "2023-04-27T22:59:51.384Z"
   },
   {
    "duration": 13,
    "start_time": "2023-04-27T22:59:51.422Z"
   },
   {
    "duration": 26,
    "start_time": "2023-04-27T22:59:51.436Z"
   },
   {
    "duration": 179,
    "start_time": "2023-04-27T22:59:51.464Z"
   },
   {
    "duration": 12,
    "start_time": "2023-04-27T22:59:51.645Z"
   },
   {
    "duration": 509,
    "start_time": "2023-04-27T22:59:51.659Z"
   },
   {
    "duration": 20,
    "start_time": "2023-04-27T22:59:52.170Z"
   },
   {
    "duration": 19,
    "start_time": "2023-04-27T22:59:52.195Z"
   },
   {
    "duration": 12,
    "start_time": "2023-04-27T22:59:52.216Z"
   },
   {
    "duration": 23,
    "start_time": "2023-04-27T22:59:52.230Z"
   },
   {
    "duration": 22,
    "start_time": "2023-04-27T22:59:52.254Z"
   },
   {
    "duration": 39,
    "start_time": "2023-04-27T22:59:52.278Z"
   },
   {
    "duration": 11,
    "start_time": "2023-04-27T22:59:52.319Z"
   },
   {
    "duration": 168,
    "start_time": "2023-04-27T22:59:52.332Z"
   },
   {
    "duration": 11,
    "start_time": "2023-04-27T22:59:52.502Z"
   },
   {
    "duration": 25,
    "start_time": "2023-04-27T22:59:52.515Z"
   },
   {
    "duration": 23,
    "start_time": "2023-04-27T22:59:52.541Z"
   },
   {
    "duration": 23,
    "start_time": "2023-04-27T22:59:52.565Z"
   },
   {
    "duration": 89,
    "start_time": "2023-04-27T22:59:52.591Z"
   },
   {
    "duration": 0,
    "start_time": "2023-04-27T22:59:52.682Z"
   },
   {
    "duration": 0,
    "start_time": "2023-04-27T22:59:52.683Z"
   },
   {
    "duration": 0,
    "start_time": "2023-04-27T22:59:52.685Z"
   },
   {
    "duration": 13,
    "start_time": "2023-04-27T23:00:37.045Z"
   },
   {
    "duration": 14,
    "start_time": "2023-04-27T23:01:45.063Z"
   },
   {
    "duration": 328,
    "start_time": "2023-04-27T23:02:22.134Z"
   },
   {
    "duration": 160,
    "start_time": "2023-04-27T23:02:29.695Z"
   },
   {
    "duration": 11,
    "start_time": "2023-04-27T23:06:20.157Z"
   },
   {
    "duration": 142,
    "start_time": "2023-04-27T23:06:45.296Z"
   },
   {
    "duration": 56,
    "start_time": "2023-04-27T23:08:24.655Z"
   },
   {
    "duration": 24,
    "start_time": "2023-04-27T23:17:23.015Z"
   },
   {
    "duration": 7,
    "start_time": "2023-04-27T23:18:46.623Z"
   },
   {
    "duration": 13,
    "start_time": "2023-04-27T23:18:57.103Z"
   },
   {
    "duration": 17,
    "start_time": "2023-04-27T23:19:07.575Z"
   },
   {
    "duration": 20,
    "start_time": "2023-04-27T23:19:21.975Z"
   },
   {
    "duration": 569,
    "start_time": "2023-04-27T23:19:29.565Z"
   },
   {
    "duration": 25,
    "start_time": "2023-04-27T23:19:30.136Z"
   },
   {
    "duration": 37,
    "start_time": "2023-04-27T23:19:30.163Z"
   },
   {
    "duration": 26,
    "start_time": "2023-04-27T23:19:30.202Z"
   },
   {
    "duration": 26,
    "start_time": "2023-04-27T23:19:30.230Z"
   },
   {
    "duration": 8,
    "start_time": "2023-04-27T23:19:30.258Z"
   },
   {
    "duration": 14,
    "start_time": "2023-04-27T23:19:30.268Z"
   },
   {
    "duration": 28,
    "start_time": "2023-04-27T23:19:30.285Z"
   },
   {
    "duration": 7,
    "start_time": "2023-04-27T23:19:30.315Z"
   },
   {
    "duration": 9,
    "start_time": "2023-04-27T23:19:30.325Z"
   },
   {
    "duration": 28,
    "start_time": "2023-04-27T23:19:30.336Z"
   },
   {
    "duration": 42,
    "start_time": "2023-04-27T23:19:30.366Z"
   },
   {
    "duration": 12,
    "start_time": "2023-04-27T23:19:30.410Z"
   },
   {
    "duration": 33,
    "start_time": "2023-04-27T23:19:30.423Z"
   },
   {
    "duration": 13,
    "start_time": "2023-04-27T23:19:30.457Z"
   },
   {
    "duration": 27,
    "start_time": "2023-04-27T23:19:30.472Z"
   },
   {
    "duration": 10,
    "start_time": "2023-04-27T23:19:30.501Z"
   },
   {
    "duration": 10,
    "start_time": "2023-04-27T23:19:30.512Z"
   },
   {
    "duration": 6,
    "start_time": "2023-04-27T23:19:30.523Z"
   },
   {
    "duration": 14,
    "start_time": "2023-04-27T23:19:30.530Z"
   },
   {
    "duration": 12,
    "start_time": "2023-04-27T23:19:30.545Z"
   },
   {
    "duration": 15,
    "start_time": "2023-04-27T23:19:30.558Z"
   },
   {
    "duration": 31,
    "start_time": "2023-04-27T23:19:30.575Z"
   },
   {
    "duration": 43,
    "start_time": "2023-04-27T23:19:30.608Z"
   },
   {
    "duration": 68,
    "start_time": "2023-04-27T23:19:30.653Z"
   },
   {
    "duration": 49,
    "start_time": "2023-04-27T23:19:30.723Z"
   },
   {
    "duration": 58,
    "start_time": "2023-04-27T23:19:30.774Z"
   },
   {
    "duration": 17,
    "start_time": "2023-04-27T23:19:30.836Z"
   },
   {
    "duration": 33,
    "start_time": "2023-04-27T23:19:30.854Z"
   },
   {
    "duration": 51,
    "start_time": "2023-04-27T23:19:30.890Z"
   },
   {
    "duration": 23,
    "start_time": "2023-04-27T23:19:30.942Z"
   },
   {
    "duration": 19,
    "start_time": "2023-04-27T23:19:30.967Z"
   },
   {
    "duration": 54,
    "start_time": "2023-04-27T23:19:30.988Z"
   },
   {
    "duration": 13,
    "start_time": "2023-04-27T23:19:31.043Z"
   },
   {
    "duration": 41,
    "start_time": "2023-04-27T23:19:31.057Z"
   },
   {
    "duration": 44,
    "start_time": "2023-04-27T23:19:31.099Z"
   },
   {
    "duration": 35,
    "start_time": "2023-04-27T23:19:31.145Z"
   },
   {
    "duration": 49,
    "start_time": "2023-04-27T23:19:31.181Z"
   },
   {
    "duration": 38,
    "start_time": "2023-04-27T23:19:31.231Z"
   },
   {
    "duration": 52,
    "start_time": "2023-04-27T23:19:31.271Z"
   },
   {
    "duration": 45,
    "start_time": "2023-04-27T23:19:31.325Z"
   },
   {
    "duration": 58,
    "start_time": "2023-04-27T23:19:31.371Z"
   },
   {
    "duration": 29,
    "start_time": "2023-04-27T23:19:31.430Z"
   },
   {
    "duration": 40,
    "start_time": "2023-04-27T23:19:31.461Z"
   },
   {
    "duration": 25,
    "start_time": "2023-04-27T23:19:31.503Z"
   },
   {
    "duration": 37,
    "start_time": "2023-04-27T23:19:31.529Z"
   },
   {
    "duration": 22,
    "start_time": "2023-04-27T23:19:31.567Z"
   },
   {
    "duration": 24,
    "start_time": "2023-04-27T23:19:31.591Z"
   },
   {
    "duration": 177,
    "start_time": "2023-04-27T23:19:31.617Z"
   },
   {
    "duration": 14,
    "start_time": "2023-04-27T23:19:31.797Z"
   },
   {
    "duration": 503,
    "start_time": "2023-04-27T23:19:31.813Z"
   },
   {
    "duration": 13,
    "start_time": "2023-04-27T23:19:32.318Z"
   },
   {
    "duration": 17,
    "start_time": "2023-04-27T23:19:32.332Z"
   },
   {
    "duration": 28,
    "start_time": "2023-04-27T23:19:32.350Z"
   },
   {
    "duration": 51,
    "start_time": "2023-04-27T23:19:32.379Z"
   },
   {
    "duration": 49,
    "start_time": "2023-04-27T23:19:32.432Z"
   },
   {
    "duration": 41,
    "start_time": "2023-04-27T23:19:32.482Z"
   },
   {
    "duration": 12,
    "start_time": "2023-04-27T23:19:32.525Z"
   },
   {
    "duration": 184,
    "start_time": "2023-04-27T23:19:32.538Z"
   },
   {
    "duration": 11,
    "start_time": "2023-04-27T23:19:32.724Z"
   },
   {
    "duration": 28,
    "start_time": "2023-04-27T23:19:32.737Z"
   },
   {
    "duration": 31,
    "start_time": "2023-04-27T23:19:32.767Z"
   },
   {
    "duration": 24,
    "start_time": "2023-04-27T23:19:32.800Z"
   },
   {
    "duration": 33,
    "start_time": "2023-04-27T23:19:32.825Z"
   },
   {
    "duration": 377,
    "start_time": "2023-04-27T23:19:32.860Z"
   },
   {
    "duration": 171,
    "start_time": "2023-04-27T23:19:33.239Z"
   },
   {
    "duration": 8,
    "start_time": "2023-04-27T23:19:33.412Z"
   },
   {
    "duration": 179,
    "start_time": "2023-04-27T23:19:33.421Z"
   },
   {
    "duration": 12,
    "start_time": "2023-04-27T23:19:33.602Z"
   },
   {
    "duration": 187,
    "start_time": "2023-04-27T23:20:48.574Z"
   },
   {
    "duration": 81,
    "start_time": "2023-04-27T23:20:54.098Z"
   },
   {
    "duration": 16,
    "start_time": "2023-04-27T23:21:01.598Z"
   },
   {
    "duration": 11,
    "start_time": "2023-04-27T23:21:54.938Z"
   },
   {
    "duration": 24,
    "start_time": "2023-04-27T23:23:11.455Z"
   },
   {
    "duration": 73,
    "start_time": "2023-04-27T23:23:41.947Z"
   },
   {
    "duration": 21,
    "start_time": "2023-04-27T23:23:50.358Z"
   },
   {
    "duration": 18,
    "start_time": "2023-04-27T23:25:03.819Z"
   },
   {
    "duration": 31,
    "start_time": "2023-04-27T23:27:50.375Z"
   },
   {
    "duration": 22,
    "start_time": "2023-04-27T23:27:56.106Z"
   },
   {
    "duration": 36,
    "start_time": "2023-04-27T23:28:03.692Z"
   },
   {
    "duration": 776,
    "start_time": "2023-04-27T23:29:37.935Z"
   },
   {
    "duration": 23,
    "start_time": "2023-04-27T23:30:32.842Z"
   },
   {
    "duration": 261,
    "start_time": "2023-04-27T23:31:09.735Z"
   },
   {
    "duration": 605,
    "start_time": "2023-04-27T23:31:25.957Z"
   },
   {
    "duration": 250,
    "start_time": "2023-04-27T23:31:35.783Z"
   },
   {
    "duration": 230,
    "start_time": "2023-04-27T23:32:42.446Z"
   },
   {
    "duration": 237,
    "start_time": "2023-04-27T23:32:52.966Z"
   },
   {
    "duration": 20,
    "start_time": "2023-04-27T23:34:48.736Z"
   },
   {
    "duration": 241,
    "start_time": "2023-04-27T23:35:41.175Z"
   },
   {
    "duration": 224,
    "start_time": "2023-04-27T23:35:51.215Z"
   },
   {
    "duration": 88,
    "start_time": "2023-04-27T23:37:33.255Z"
   },
   {
    "duration": 20,
    "start_time": "2023-04-27T23:41:52.962Z"
   },
   {
    "duration": 287,
    "start_time": "2023-04-27T23:43:01.096Z"
   },
   {
    "duration": 43,
    "start_time": "2023-04-27T23:44:39.216Z"
   },
   {
    "duration": 7,
    "start_time": "2023-04-28T00:07:14.102Z"
   },
   {
    "duration": 185,
    "start_time": "2023-04-28T00:07:22.713Z"
   },
   {
    "duration": 179,
    "start_time": "2023-04-28T00:08:13.797Z"
   },
   {
    "duration": 171,
    "start_time": "2023-04-28T00:08:39.059Z"
   },
   {
    "duration": 154,
    "start_time": "2023-04-28T00:08:51.405Z"
   },
   {
    "duration": 246,
    "start_time": "2023-04-28T00:08:59.559Z"
   },
   {
    "duration": 57,
    "start_time": "2023-04-28T00:09:40.401Z"
   },
   {
    "duration": 140,
    "start_time": "2023-04-28T00:11:24.282Z"
   },
   {
    "duration": 147,
    "start_time": "2023-04-28T00:15:21.202Z"
   },
   {
    "duration": 802,
    "start_time": "2023-04-28T10:53:36.894Z"
   },
   {
    "duration": 23,
    "start_time": "2023-04-28T10:53:37.698Z"
   },
   {
    "duration": 18,
    "start_time": "2023-04-28T10:53:37.722Z"
   },
   {
    "duration": 28,
    "start_time": "2023-04-28T10:53:37.742Z"
   },
   {
    "duration": 33,
    "start_time": "2023-04-28T10:53:37.772Z"
   },
   {
    "duration": 7,
    "start_time": "2023-04-28T10:53:37.807Z"
   },
   {
    "duration": 18,
    "start_time": "2023-04-28T10:53:37.816Z"
   },
   {
    "duration": 12,
    "start_time": "2023-04-28T10:53:37.836Z"
   },
   {
    "duration": 11,
    "start_time": "2023-04-28T10:53:37.850Z"
   },
   {
    "duration": 3,
    "start_time": "2023-04-28T10:53:37.862Z"
   },
   {
    "duration": 14,
    "start_time": "2023-04-28T10:53:37.866Z"
   },
   {
    "duration": 21,
    "start_time": "2023-04-28T10:53:37.890Z"
   },
   {
    "duration": 5,
    "start_time": "2023-04-28T10:53:37.913Z"
   },
   {
    "duration": 10,
    "start_time": "2023-04-28T10:53:37.922Z"
   },
   {
    "duration": 16,
    "start_time": "2023-04-28T10:53:37.934Z"
   },
   {
    "duration": 19,
    "start_time": "2023-04-28T10:53:37.951Z"
   },
   {
    "duration": 17,
    "start_time": "2023-04-28T10:53:37.972Z"
   },
   {
    "duration": 7,
    "start_time": "2023-04-28T10:53:37.991Z"
   },
   {
    "duration": 3,
    "start_time": "2023-04-28T10:53:38.000Z"
   },
   {
    "duration": 11,
    "start_time": "2023-04-28T10:53:38.004Z"
   },
   {
    "duration": 16,
    "start_time": "2023-04-28T10:53:38.017Z"
   },
   {
    "duration": 7,
    "start_time": "2023-04-28T10:53:38.034Z"
   },
   {
    "duration": 14,
    "start_time": "2023-04-28T10:53:38.043Z"
   },
   {
    "duration": 44,
    "start_time": "2023-04-28T10:53:38.058Z"
   },
   {
    "duration": 57,
    "start_time": "2023-04-28T10:53:38.103Z"
   },
   {
    "duration": 43,
    "start_time": "2023-04-28T10:53:38.162Z"
   },
   {
    "duration": 29,
    "start_time": "2023-04-28T10:53:38.206Z"
   },
   {
    "duration": 16,
    "start_time": "2023-04-28T10:53:38.237Z"
   },
   {
    "duration": 39,
    "start_time": "2023-04-28T10:53:38.254Z"
   },
   {
    "duration": 16,
    "start_time": "2023-04-28T10:53:38.295Z"
   },
   {
    "duration": 6,
    "start_time": "2023-04-28T10:53:38.313Z"
   },
   {
    "duration": 8,
    "start_time": "2023-04-28T10:53:38.320Z"
   },
   {
    "duration": 21,
    "start_time": "2023-04-28T10:53:38.329Z"
   },
   {
    "duration": 38,
    "start_time": "2023-04-28T10:53:38.352Z"
   },
   {
    "duration": 12,
    "start_time": "2023-04-28T10:53:38.393Z"
   },
   {
    "duration": 12,
    "start_time": "2023-04-28T10:53:38.407Z"
   },
   {
    "duration": 5,
    "start_time": "2023-04-28T10:53:38.420Z"
   },
   {
    "duration": 8,
    "start_time": "2023-04-28T10:53:38.426Z"
   },
   {
    "duration": 7,
    "start_time": "2023-04-28T10:53:38.436Z"
   },
   {
    "duration": 13,
    "start_time": "2023-04-28T10:53:38.444Z"
   },
   {
    "duration": 29,
    "start_time": "2023-04-28T10:53:38.461Z"
   },
   {
    "duration": 7,
    "start_time": "2023-04-28T10:53:38.492Z"
   },
   {
    "duration": 9,
    "start_time": "2023-04-28T10:53:38.501Z"
   },
   {
    "duration": 9,
    "start_time": "2023-04-28T10:53:38.511Z"
   },
   {
    "duration": 5,
    "start_time": "2023-04-28T10:53:38.522Z"
   },
   {
    "duration": 19,
    "start_time": "2023-04-28T10:53:38.528Z"
   },
   {
    "duration": 27,
    "start_time": "2023-04-28T10:53:38.549Z"
   },
   {
    "duration": 14,
    "start_time": "2023-04-28T10:53:38.588Z"
   },
   {
    "duration": 168,
    "start_time": "2023-04-28T10:53:38.603Z"
   },
   {
    "duration": 24,
    "start_time": "2023-04-28T10:53:38.773Z"
   },
   {
    "duration": 443,
    "start_time": "2023-04-28T10:53:38.798Z"
   },
   {
    "duration": 14,
    "start_time": "2023-04-28T10:53:39.243Z"
   },
   {
    "duration": 8,
    "start_time": "2023-04-28T10:53:39.259Z"
   },
   {
    "duration": 13,
    "start_time": "2023-04-28T10:53:39.269Z"
   },
   {
    "duration": 12,
    "start_time": "2023-04-28T10:53:39.289Z"
   },
   {
    "duration": 18,
    "start_time": "2023-04-28T10:53:39.302Z"
   },
   {
    "duration": 31,
    "start_time": "2023-04-28T10:53:39.321Z"
   },
   {
    "duration": 13,
    "start_time": "2023-04-28T10:53:39.354Z"
   },
   {
    "duration": 152,
    "start_time": "2023-04-28T10:53:39.369Z"
   },
   {
    "duration": 13,
    "start_time": "2023-04-28T10:53:39.522Z"
   },
   {
    "duration": 4,
    "start_time": "2023-04-28T10:53:39.537Z"
   },
   {
    "duration": 5,
    "start_time": "2023-04-28T10:53:39.542Z"
   },
   {
    "duration": 11,
    "start_time": "2023-04-28T10:53:39.549Z"
   },
   {
    "duration": 35,
    "start_time": "2023-04-28T10:53:39.562Z"
   },
   {
    "duration": 565,
    "start_time": "2023-04-28T10:53:39.599Z"
   },
   {
    "duration": 209,
    "start_time": "2023-04-28T10:53:40.166Z"
   },
   {
    "duration": 21,
    "start_time": "2023-04-28T10:53:40.377Z"
   },
   {
    "duration": 250,
    "start_time": "2023-04-28T10:53:40.400Z"
   },
   {
    "duration": 38,
    "start_time": "2023-04-28T10:53:40.652Z"
   },
   {
    "duration": 243,
    "start_time": "2023-04-28T10:53:40.692Z"
   },
   {
    "duration": 23,
    "start_time": "2023-04-28T10:53:40.937Z"
   },
   {
    "duration": 268,
    "start_time": "2023-04-28T10:53:40.962Z"
   },
   {
    "duration": 316,
    "start_time": "2023-04-28T10:53:41.232Z"
   },
   {
    "duration": 188,
    "start_time": "2023-04-28T10:53:41.550Z"
   },
   {
    "duration": 167,
    "start_time": "2023-04-28T10:53:41.739Z"
   },
   {
    "duration": 170,
    "start_time": "2023-04-28T10:53:41.908Z"
   },
   {
    "duration": 174,
    "start_time": "2023-04-28T10:53:42.080Z"
   },
   {
    "duration": 17,
    "start_time": "2023-04-28T10:58:59.284Z"
   },
   {
    "duration": 571,
    "start_time": "2023-04-28T10:59:19.256Z"
   },
   {
    "duration": 24,
    "start_time": "2023-04-28T10:59:19.830Z"
   },
   {
    "duration": 24,
    "start_time": "2023-04-28T10:59:19.855Z"
   },
   {
    "duration": 25,
    "start_time": "2023-04-28T10:59:19.880Z"
   },
   {
    "duration": 4,
    "start_time": "2023-04-28T10:59:19.908Z"
   },
   {
    "duration": 20,
    "start_time": "2023-04-28T10:59:19.914Z"
   },
   {
    "duration": 8,
    "start_time": "2023-04-28T10:59:19.936Z"
   },
   {
    "duration": 16,
    "start_time": "2023-04-28T10:59:19.946Z"
   },
   {
    "duration": 30,
    "start_time": "2023-04-28T10:59:19.965Z"
   },
   {
    "duration": 7,
    "start_time": "2023-04-28T10:59:19.997Z"
   },
   {
    "duration": 35,
    "start_time": "2023-04-28T10:59:20.006Z"
   },
   {
    "duration": 33,
    "start_time": "2023-04-28T10:59:20.043Z"
   },
   {
    "duration": 58,
    "start_time": "2023-04-28T10:59:20.078Z"
   },
   {
    "duration": 31,
    "start_time": "2023-04-28T10:59:20.139Z"
   },
   {
    "duration": 25,
    "start_time": "2023-04-28T10:59:20.172Z"
   },
   {
    "duration": 13,
    "start_time": "2023-04-28T10:59:20.198Z"
   },
   {
    "duration": 5,
    "start_time": "2023-04-28T10:59:20.213Z"
   },
   {
    "duration": 6,
    "start_time": "2023-04-28T10:59:20.219Z"
   },
   {
    "duration": 23,
    "start_time": "2023-04-28T10:59:20.227Z"
   },
   {
    "duration": 10,
    "start_time": "2023-04-28T10:59:20.252Z"
   },
   {
    "duration": 17,
    "start_time": "2023-04-28T10:59:20.265Z"
   },
   {
    "duration": 19,
    "start_time": "2023-04-28T10:59:20.284Z"
   },
   {
    "duration": 18,
    "start_time": "2023-04-28T10:59:20.305Z"
   },
   {
    "duration": 12,
    "start_time": "2023-04-28T10:59:20.325Z"
   },
   {
    "duration": 33,
    "start_time": "2023-04-28T10:59:20.339Z"
   },
   {
    "duration": 76,
    "start_time": "2023-04-28T10:59:20.374Z"
   },
   {
    "duration": 37,
    "start_time": "2023-04-28T10:59:20.453Z"
   },
   {
    "duration": 37,
    "start_time": "2023-04-28T10:59:20.492Z"
   },
   {
    "duration": 18,
    "start_time": "2023-04-28T10:59:20.532Z"
   },
   {
    "duration": 43,
    "start_time": "2023-04-28T10:59:20.552Z"
   },
   {
    "duration": 26,
    "start_time": "2023-04-28T10:59:20.597Z"
   },
   {
    "duration": 17,
    "start_time": "2023-04-28T10:59:20.625Z"
   },
   {
    "duration": 15,
    "start_time": "2023-04-28T10:59:20.644Z"
   },
   {
    "duration": 31,
    "start_time": "2023-04-28T10:59:20.661Z"
   },
   {
    "duration": 6,
    "start_time": "2023-04-28T10:59:20.694Z"
   },
   {
    "duration": 11,
    "start_time": "2023-04-28T10:59:20.702Z"
   },
   {
    "duration": 8,
    "start_time": "2023-04-28T10:59:20.715Z"
   },
   {
    "duration": 5,
    "start_time": "2023-04-28T10:59:20.725Z"
   },
   {
    "duration": 7,
    "start_time": "2023-04-28T10:59:20.732Z"
   },
   {
    "duration": 7,
    "start_time": "2023-04-28T10:59:20.741Z"
   },
   {
    "duration": 36,
    "start_time": "2023-04-28T10:59:20.753Z"
   },
   {
    "duration": 6,
    "start_time": "2023-04-28T10:59:20.791Z"
   },
   {
    "duration": 22,
    "start_time": "2023-04-28T10:59:20.798Z"
   },
   {
    "duration": 12,
    "start_time": "2023-04-28T10:59:20.821Z"
   },
   {
    "duration": 5,
    "start_time": "2023-04-28T10:59:20.835Z"
   },
   {
    "duration": 9,
    "start_time": "2023-04-28T10:59:20.842Z"
   },
   {
    "duration": 20,
    "start_time": "2023-04-28T10:59:20.852Z"
   },
   {
    "duration": 5,
    "start_time": "2023-04-28T10:59:20.889Z"
   },
   {
    "duration": 30,
    "start_time": "2023-04-28T10:59:20.896Z"
   },
   {
    "duration": 171,
    "start_time": "2023-04-28T10:59:20.928Z"
   },
   {
    "duration": 13,
    "start_time": "2023-04-28T10:59:21.101Z"
   },
   {
    "duration": 442,
    "start_time": "2023-04-28T10:59:21.115Z"
   },
   {
    "duration": 15,
    "start_time": "2023-04-28T10:59:21.559Z"
   },
   {
    "duration": 34,
    "start_time": "2023-04-28T10:59:21.576Z"
   },
   {
    "duration": 21,
    "start_time": "2023-04-28T10:59:21.611Z"
   },
   {
    "duration": 19,
    "start_time": "2023-04-28T10:59:21.634Z"
   },
   {
    "duration": 15,
    "start_time": "2023-04-28T10:59:21.657Z"
   },
   {
    "duration": 35,
    "start_time": "2023-04-28T10:59:21.674Z"
   },
   {
    "duration": 13,
    "start_time": "2023-04-28T10:59:21.710Z"
   },
   {
    "duration": 142,
    "start_time": "2023-04-28T10:59:21.725Z"
   },
   {
    "duration": 13,
    "start_time": "2023-04-28T10:59:21.869Z"
   },
   {
    "duration": 5,
    "start_time": "2023-04-28T10:59:21.890Z"
   },
   {
    "duration": 5,
    "start_time": "2023-04-28T10:59:21.897Z"
   },
   {
    "duration": 5,
    "start_time": "2023-04-28T10:59:21.903Z"
   },
   {
    "duration": 16,
    "start_time": "2023-04-28T10:59:21.909Z"
   },
   {
    "duration": 385,
    "start_time": "2023-04-28T10:59:21.926Z"
   },
   {
    "duration": 179,
    "start_time": "2023-04-28T10:59:22.313Z"
   },
   {
    "duration": 9,
    "start_time": "2023-04-28T10:59:22.494Z"
   },
   {
    "duration": 187,
    "start_time": "2023-04-28T10:59:22.505Z"
   },
   {
    "duration": 24,
    "start_time": "2023-04-28T10:59:22.694Z"
   },
   {
    "duration": 298,
    "start_time": "2023-04-28T10:59:22.720Z"
   },
   {
    "duration": 22,
    "start_time": "2023-04-28T10:59:23.020Z"
   },
   {
    "duration": 272,
    "start_time": "2023-04-28T10:59:23.044Z"
   },
   {
    "duration": 299,
    "start_time": "2023-04-28T10:59:23.318Z"
   },
   {
    "duration": 171,
    "start_time": "2023-04-28T10:59:23.620Z"
   },
   {
    "duration": 185,
    "start_time": "2023-04-28T10:59:23.793Z"
   },
   {
    "duration": 167,
    "start_time": "2023-04-28T10:59:23.980Z"
   },
   {
    "duration": 170,
    "start_time": "2023-04-28T10:59:24.149Z"
   },
   {
    "duration": 76,
    "start_time": "2023-04-28T11:10:03.505Z"
   },
   {
    "duration": 6,
    "start_time": "2023-04-28T11:10:10.127Z"
   },
   {
    "duration": 543,
    "start_time": "2023-04-28T11:10:20.724Z"
   },
   {
    "duration": 24,
    "start_time": "2023-04-28T11:10:21.269Z"
   },
   {
    "duration": 36,
    "start_time": "2023-04-28T11:10:21.295Z"
   },
   {
    "duration": 27,
    "start_time": "2023-04-28T11:10:21.333Z"
   },
   {
    "duration": 9,
    "start_time": "2023-04-28T11:10:21.362Z"
   },
   {
    "duration": 30,
    "start_time": "2023-04-28T11:10:21.372Z"
   },
   {
    "duration": 10,
    "start_time": "2023-04-28T11:10:21.404Z"
   },
   {
    "duration": 38,
    "start_time": "2023-04-28T11:10:21.416Z"
   },
   {
    "duration": 18,
    "start_time": "2023-04-28T11:10:21.455Z"
   },
   {
    "duration": 13,
    "start_time": "2023-04-28T11:10:21.475Z"
   },
   {
    "duration": 8,
    "start_time": "2023-04-28T11:10:21.501Z"
   },
   {
    "duration": 26,
    "start_time": "2023-04-28T11:10:21.511Z"
   },
   {
    "duration": 21,
    "start_time": "2023-04-28T11:10:21.539Z"
   },
   {
    "duration": 5,
    "start_time": "2023-04-28T11:10:21.565Z"
   },
   {
    "duration": 35,
    "start_time": "2023-04-28T11:10:21.572Z"
   },
   {
    "duration": 5,
    "start_time": "2023-04-28T11:10:21.609Z"
   },
   {
    "duration": 19,
    "start_time": "2023-04-28T11:10:21.616Z"
   },
   {
    "duration": 17,
    "start_time": "2023-04-28T11:10:21.637Z"
   },
   {
    "duration": 27,
    "start_time": "2023-04-28T11:10:21.656Z"
   },
   {
    "duration": 19,
    "start_time": "2023-04-28T11:10:21.685Z"
   },
   {
    "duration": 19,
    "start_time": "2023-04-28T11:10:21.706Z"
   },
   {
    "duration": 32,
    "start_time": "2023-04-28T11:10:21.727Z"
   },
   {
    "duration": 24,
    "start_time": "2023-04-28T11:10:21.761Z"
   },
   {
    "duration": 20,
    "start_time": "2023-04-28T11:10:21.786Z"
   },
   {
    "duration": 18,
    "start_time": "2023-04-28T11:10:21.808Z"
   },
   {
    "duration": 30,
    "start_time": "2023-04-28T11:10:21.828Z"
   },
   {
    "duration": 67,
    "start_time": "2023-04-28T11:10:21.860Z"
   },
   {
    "duration": 20,
    "start_time": "2023-04-28T11:10:21.929Z"
   },
   {
    "duration": 31,
    "start_time": "2023-04-28T11:10:21.951Z"
   },
   {
    "duration": 25,
    "start_time": "2023-04-28T11:10:21.988Z"
   },
   {
    "duration": 24,
    "start_time": "2023-04-28T11:10:22.014Z"
   },
   {
    "duration": 19,
    "start_time": "2023-04-28T11:10:22.040Z"
   },
   {
    "duration": 9,
    "start_time": "2023-04-28T11:10:22.061Z"
   },
   {
    "duration": 16,
    "start_time": "2023-04-28T11:10:22.089Z"
   },
   {
    "duration": 27,
    "start_time": "2023-04-28T11:10:22.107Z"
   },
   {
    "duration": 13,
    "start_time": "2023-04-28T11:10:22.135Z"
   },
   {
    "duration": 17,
    "start_time": "2023-04-28T11:10:22.150Z"
   },
   {
    "duration": 33,
    "start_time": "2023-04-28T11:10:22.169Z"
   },
   {
    "duration": 14,
    "start_time": "2023-04-28T11:10:22.205Z"
   },
   {
    "duration": 16,
    "start_time": "2023-04-28T11:10:22.221Z"
   },
   {
    "duration": 6,
    "start_time": "2023-04-28T11:10:22.242Z"
   },
   {
    "duration": 27,
    "start_time": "2023-04-28T11:10:22.251Z"
   },
   {
    "duration": 25,
    "start_time": "2023-04-28T11:10:22.280Z"
   },
   {
    "duration": 35,
    "start_time": "2023-04-28T11:10:22.307Z"
   },
   {
    "duration": 36,
    "start_time": "2023-04-28T11:10:22.344Z"
   },
   {
    "duration": 23,
    "start_time": "2023-04-28T11:10:22.382Z"
   },
   {
    "duration": 10,
    "start_time": "2023-04-28T11:10:22.407Z"
   },
   {
    "duration": 21,
    "start_time": "2023-04-28T11:10:22.418Z"
   },
   {
    "duration": 16,
    "start_time": "2023-04-28T11:10:22.442Z"
   },
   {
    "duration": 14,
    "start_time": "2023-04-28T11:10:22.460Z"
   },
   {
    "duration": 174,
    "start_time": "2023-04-28T11:10:22.476Z"
   },
   {
    "duration": 14,
    "start_time": "2023-04-28T11:10:22.652Z"
   },
   {
    "duration": 480,
    "start_time": "2023-04-28T11:10:22.669Z"
   },
   {
    "duration": 14,
    "start_time": "2023-04-28T11:10:23.151Z"
   },
   {
    "duration": 13,
    "start_time": "2023-04-28T11:10:23.167Z"
   },
   {
    "duration": 19,
    "start_time": "2023-04-28T11:10:23.181Z"
   },
   {
    "duration": 10,
    "start_time": "2023-04-28T11:10:23.203Z"
   },
   {
    "duration": 16,
    "start_time": "2023-04-28T11:10:23.215Z"
   },
   {
    "duration": 28,
    "start_time": "2023-04-28T11:10:23.233Z"
   },
   {
    "duration": 39,
    "start_time": "2023-04-28T11:10:23.263Z"
   },
   {
    "duration": 131,
    "start_time": "2023-04-28T11:10:23.303Z"
   },
   {
    "duration": 13,
    "start_time": "2023-04-28T11:10:23.436Z"
   },
   {
    "duration": 5,
    "start_time": "2023-04-28T11:10:23.451Z"
   },
   {
    "duration": 5,
    "start_time": "2023-04-28T11:10:23.458Z"
   },
   {
    "duration": 35,
    "start_time": "2023-04-28T11:10:23.465Z"
   },
   {
    "duration": 17,
    "start_time": "2023-04-28T11:10:23.503Z"
   },
   {
    "duration": 395,
    "start_time": "2023-04-28T11:10:23.521Z"
   },
   {
    "duration": 189,
    "start_time": "2023-04-28T11:10:23.918Z"
   },
   {
    "duration": 9,
    "start_time": "2023-04-28T11:10:24.109Z"
   },
   {
    "duration": 184,
    "start_time": "2023-04-28T11:10:24.119Z"
   },
   {
    "duration": 25,
    "start_time": "2023-04-28T11:10:24.305Z"
   },
   {
    "duration": 306,
    "start_time": "2023-04-28T11:10:24.332Z"
   },
   {
    "duration": 21,
    "start_time": "2023-04-28T11:10:24.640Z"
   },
   {
    "duration": 270,
    "start_time": "2023-04-28T11:10:24.663Z"
   },
   {
    "duration": 307,
    "start_time": "2023-04-28T11:10:24.935Z"
   },
   {
    "duration": 183,
    "start_time": "2023-04-28T11:10:25.244Z"
   },
   {
    "duration": 171,
    "start_time": "2023-04-28T11:10:25.429Z"
   },
   {
    "duration": 162,
    "start_time": "2023-04-28T11:10:25.603Z"
   },
   {
    "duration": 192,
    "start_time": "2023-04-28T11:10:25.767Z"
   },
   {
    "duration": 4,
    "start_time": "2023-04-28T11:11:35.676Z"
   },
   {
    "duration": 30,
    "start_time": "2023-04-28T12:10:36.104Z"
   },
   {
    "duration": 18,
    "start_time": "2023-04-28T12:11:04.582Z"
   },
   {
    "duration": 4,
    "start_time": "2023-04-28T12:17:04.426Z"
   },
   {
    "duration": 198,
    "start_time": "2023-04-28T12:37:11.988Z"
   },
   {
    "duration": 183,
    "start_time": "2023-04-28T12:37:20.912Z"
   },
   {
    "duration": 5,
    "start_time": "2023-04-28T13:03:02.015Z"
   },
   {
    "duration": 30,
    "start_time": "2023-04-28T13:03:19.073Z"
   },
   {
    "duration": 45,
    "start_time": "2023-04-28T22:13:44.438Z"
   },
   {
    "duration": 987,
    "start_time": "2023-04-28T22:13:48.721Z"
   },
   {
    "duration": 21,
    "start_time": "2023-04-28T22:13:49.710Z"
   },
   {
    "duration": 17,
    "start_time": "2023-04-28T22:13:49.732Z"
   },
   {
    "duration": 10,
    "start_time": "2023-04-28T22:13:49.751Z"
   },
   {
    "duration": 3,
    "start_time": "2023-04-28T22:13:49.762Z"
   },
   {
    "duration": 28,
    "start_time": "2023-04-28T22:13:49.767Z"
   },
   {
    "duration": 7,
    "start_time": "2023-04-28T22:13:49.796Z"
   },
   {
    "duration": 5,
    "start_time": "2023-04-28T22:13:49.804Z"
   },
   {
    "duration": 9,
    "start_time": "2023-04-28T22:13:49.810Z"
   },
   {
    "duration": 3,
    "start_time": "2023-04-28T22:13:49.821Z"
   },
   {
    "duration": 12,
    "start_time": "2023-04-28T22:13:49.826Z"
   },
   {
    "duration": 39,
    "start_time": "2023-04-28T22:13:49.839Z"
   },
   {
    "duration": 18,
    "start_time": "2023-04-28T22:13:49.880Z"
   },
   {
    "duration": 4,
    "start_time": "2023-04-28T22:13:49.900Z"
   },
   {
    "duration": 18,
    "start_time": "2023-04-28T22:13:49.906Z"
   },
   {
    "duration": 6,
    "start_time": "2023-04-28T22:13:49.926Z"
   },
   {
    "duration": 46,
    "start_time": "2023-04-28T22:13:49.933Z"
   },
   {
    "duration": 9,
    "start_time": "2023-04-28T22:13:49.980Z"
   },
   {
    "duration": 7,
    "start_time": "2023-04-28T22:13:49.990Z"
   },
   {
    "duration": 7,
    "start_time": "2023-04-28T22:13:49.998Z"
   },
   {
    "duration": 11,
    "start_time": "2023-04-28T22:13:50.006Z"
   },
   {
    "duration": 17,
    "start_time": "2023-04-28T22:13:50.018Z"
   },
   {
    "duration": 10,
    "start_time": "2023-04-28T22:13:50.036Z"
   },
   {
    "duration": 6,
    "start_time": "2023-04-28T22:13:50.047Z"
   },
   {
    "duration": 2,
    "start_time": "2023-04-28T22:13:50.054Z"
   },
   {
    "duration": 8,
    "start_time": "2023-04-28T22:13:50.057Z"
   },
   {
    "duration": 26,
    "start_time": "2023-04-28T22:13:50.066Z"
   },
   {
    "duration": 44,
    "start_time": "2023-04-28T22:13:50.095Z"
   },
   {
    "duration": 14,
    "start_time": "2023-04-28T22:13:50.141Z"
   },
   {
    "duration": 39,
    "start_time": "2023-04-28T22:13:50.156Z"
   },
   {
    "duration": 13,
    "start_time": "2023-04-28T22:13:50.197Z"
   },
   {
    "duration": 22,
    "start_time": "2023-04-28T22:13:50.211Z"
   },
   {
    "duration": 13,
    "start_time": "2023-04-28T22:13:50.234Z"
   },
   {
    "duration": 14,
    "start_time": "2023-04-28T22:13:50.248Z"
   },
   {
    "duration": 7,
    "start_time": "2023-04-28T22:13:50.263Z"
   },
   {
    "duration": 28,
    "start_time": "2023-04-28T22:13:50.271Z"
   },
   {
    "duration": 4,
    "start_time": "2023-04-28T22:13:50.300Z"
   },
   {
    "duration": 14,
    "start_time": "2023-04-28T22:13:50.306Z"
   },
   {
    "duration": 22,
    "start_time": "2023-04-28T22:13:50.321Z"
   },
   {
    "duration": 11,
    "start_time": "2023-04-28T22:13:50.345Z"
   },
   {
    "duration": 9,
    "start_time": "2023-04-28T22:13:50.358Z"
   },
   {
    "duration": 6,
    "start_time": "2023-04-28T22:13:50.369Z"
   },
   {
    "duration": 9,
    "start_time": "2023-04-28T22:13:50.376Z"
   },
   {
    "duration": 4,
    "start_time": "2023-04-28T22:13:50.387Z"
   },
   {
    "duration": 8,
    "start_time": "2023-04-28T22:13:50.392Z"
   },
   {
    "duration": 5,
    "start_time": "2023-04-28T22:13:50.401Z"
   },
   {
    "duration": 6,
    "start_time": "2023-04-28T22:13:50.407Z"
   },
   {
    "duration": 4,
    "start_time": "2023-04-28T22:13:50.414Z"
   },
   {
    "duration": 28,
    "start_time": "2023-04-28T22:13:50.419Z"
   },
   {
    "duration": 4,
    "start_time": "2023-04-28T22:13:50.448Z"
   },
   {
    "duration": 10,
    "start_time": "2023-04-28T22:13:50.453Z"
   },
   {
    "duration": 145,
    "start_time": "2023-04-28T22:13:50.465Z"
   },
   {
    "duration": 11,
    "start_time": "2023-04-28T22:13:50.611Z"
   },
   {
    "duration": 379,
    "start_time": "2023-04-28T22:13:50.624Z"
   },
   {
    "duration": 12,
    "start_time": "2023-04-28T22:13:51.005Z"
   },
   {
    "duration": 16,
    "start_time": "2023-04-28T22:13:51.018Z"
   },
   {
    "duration": 17,
    "start_time": "2023-04-28T22:13:51.036Z"
   },
   {
    "duration": 8,
    "start_time": "2023-04-28T22:13:51.054Z"
   },
   {
    "duration": 9,
    "start_time": "2023-04-28T22:13:51.064Z"
   },
   {
    "duration": 25,
    "start_time": "2023-04-28T22:13:51.074Z"
   },
   {
    "duration": 10,
    "start_time": "2023-04-28T22:13:51.100Z"
   },
   {
    "duration": 114,
    "start_time": "2023-04-28T22:13:51.111Z"
   },
   {
    "duration": 10,
    "start_time": "2023-04-28T22:13:51.226Z"
   },
   {
    "duration": 11,
    "start_time": "2023-04-28T22:13:51.237Z"
   },
   {
    "duration": 71,
    "start_time": "2023-04-28T22:13:51.249Z"
   },
   {
    "duration": 0,
    "start_time": "2023-04-28T22:13:51.321Z"
   },
   {
    "duration": 0,
    "start_time": "2023-04-28T22:13:51.322Z"
   },
   {
    "duration": 0,
    "start_time": "2023-04-28T22:13:51.323Z"
   },
   {
    "duration": 0,
    "start_time": "2023-04-28T22:13:51.324Z"
   },
   {
    "duration": 0,
    "start_time": "2023-04-28T22:13:51.325Z"
   },
   {
    "duration": 0,
    "start_time": "2023-04-28T22:13:51.326Z"
   },
   {
    "duration": 0,
    "start_time": "2023-04-28T22:13:51.327Z"
   },
   {
    "duration": 0,
    "start_time": "2023-04-28T22:13:51.328Z"
   },
   {
    "duration": 0,
    "start_time": "2023-04-28T22:13:51.329Z"
   },
   {
    "duration": 0,
    "start_time": "2023-04-28T22:13:51.330Z"
   },
   {
    "duration": 0,
    "start_time": "2023-04-28T22:13:51.331Z"
   },
   {
    "duration": 0,
    "start_time": "2023-04-28T22:13:51.332Z"
   },
   {
    "duration": 0,
    "start_time": "2023-04-28T22:13:51.333Z"
   },
   {
    "duration": 0,
    "start_time": "2023-04-28T22:13:51.334Z"
   },
   {
    "duration": 0,
    "start_time": "2023-04-28T22:13:51.335Z"
   },
   {
    "duration": 0,
    "start_time": "2023-04-28T22:13:51.337Z"
   },
   {
    "duration": 0,
    "start_time": "2023-04-28T22:13:51.337Z"
   },
   {
    "duration": 0,
    "start_time": "2023-04-28T22:13:51.339Z"
   },
   {
    "duration": 0,
    "start_time": "2023-04-28T22:13:51.340Z"
   },
   {
    "duration": 15,
    "start_time": "2023-04-28T22:19:15.541Z"
   },
   {
    "duration": 14,
    "start_time": "2023-04-28T22:20:44.148Z"
   },
   {
    "duration": 16,
    "start_time": "2023-04-28T22:23:24.708Z"
   },
   {
    "duration": 75,
    "start_time": "2023-04-28T22:24:57.402Z"
   },
   {
    "duration": 311,
    "start_time": "2023-04-28T22:31:12.663Z"
   },
   {
    "duration": 1121,
    "start_time": "2023-04-28T22:31:56.952Z"
   },
   {
    "duration": 7,
    "start_time": "2023-04-28T22:34:29.817Z"
   },
   {
    "duration": 78,
    "start_time": "2023-04-28T22:34:44.744Z"
   },
   {
    "duration": 17,
    "start_time": "2023-04-28T22:34:52.437Z"
   },
   {
    "duration": 306,
    "start_time": "2023-04-28T22:36:03.029Z"
   },
   {
    "duration": 463,
    "start_time": "2023-04-28T22:36:09.128Z"
   },
   {
    "duration": 18,
    "start_time": "2023-04-28T22:36:09.593Z"
   },
   {
    "duration": 18,
    "start_time": "2023-04-28T22:36:09.612Z"
   },
   {
    "duration": 12,
    "start_time": "2023-04-28T22:36:09.631Z"
   },
   {
    "duration": 5,
    "start_time": "2023-04-28T22:36:09.645Z"
   },
   {
    "duration": 15,
    "start_time": "2023-04-28T22:36:09.652Z"
   },
   {
    "duration": 26,
    "start_time": "2023-04-28T22:36:09.668Z"
   },
   {
    "duration": 4,
    "start_time": "2023-04-28T22:36:09.696Z"
   },
   {
    "duration": 13,
    "start_time": "2023-04-28T22:36:09.701Z"
   },
   {
    "duration": 4,
    "start_time": "2023-04-28T22:36:09.715Z"
   },
   {
    "duration": 3,
    "start_time": "2023-04-28T22:36:09.720Z"
   },
   {
    "duration": 13,
    "start_time": "2023-04-28T22:36:09.724Z"
   },
   {
    "duration": 17,
    "start_time": "2023-04-28T22:36:09.738Z"
   },
   {
    "duration": 4,
    "start_time": "2023-04-28T22:36:09.757Z"
   },
   {
    "duration": 35,
    "start_time": "2023-04-28T22:36:09.762Z"
   },
   {
    "duration": 22,
    "start_time": "2023-04-28T22:36:09.799Z"
   },
   {
    "duration": 4,
    "start_time": "2023-04-28T22:36:09.823Z"
   },
   {
    "duration": 11,
    "start_time": "2023-04-28T22:36:09.829Z"
   },
   {
    "duration": 13,
    "start_time": "2023-04-28T22:36:09.841Z"
   },
   {
    "duration": 20,
    "start_time": "2023-04-28T22:36:09.856Z"
   },
   {
    "duration": 19,
    "start_time": "2023-04-28T22:36:09.878Z"
   },
   {
    "duration": 20,
    "start_time": "2023-04-28T22:36:09.898Z"
   },
   {
    "duration": 8,
    "start_time": "2023-04-28T22:36:09.919Z"
   },
   {
    "duration": 5,
    "start_time": "2023-04-28T22:36:09.928Z"
   },
   {
    "duration": 2,
    "start_time": "2023-04-28T22:36:09.935Z"
   },
   {
    "duration": 4,
    "start_time": "2023-04-28T22:36:09.938Z"
   },
   {
    "duration": 20,
    "start_time": "2023-04-28T22:36:09.944Z"
   },
   {
    "duration": 65,
    "start_time": "2023-04-28T22:36:09.966Z"
   },
   {
    "duration": 17,
    "start_time": "2023-04-28T22:36:10.032Z"
   },
   {
    "duration": 23,
    "start_time": "2023-04-28T22:36:10.050Z"
   },
   {
    "duration": 32,
    "start_time": "2023-04-28T22:36:10.074Z"
   },
   {
    "duration": 32,
    "start_time": "2023-04-28T22:36:10.107Z"
   },
   {
    "duration": 26,
    "start_time": "2023-04-28T22:36:10.141Z"
   },
   {
    "duration": 7,
    "start_time": "2023-04-28T22:36:10.168Z"
   },
   {
    "duration": 10,
    "start_time": "2023-04-28T22:36:10.177Z"
   },
   {
    "duration": 25,
    "start_time": "2023-04-28T22:36:10.188Z"
   },
   {
    "duration": 5,
    "start_time": "2023-04-28T22:36:10.215Z"
   },
   {
    "duration": 4,
    "start_time": "2023-04-28T22:36:10.221Z"
   },
   {
    "duration": 10,
    "start_time": "2023-04-28T22:36:10.227Z"
   },
   {
    "duration": 10,
    "start_time": "2023-04-28T22:36:10.238Z"
   },
   {
    "duration": 14,
    "start_time": "2023-04-28T22:36:10.252Z"
   },
   {
    "duration": 23,
    "start_time": "2023-04-28T22:36:10.267Z"
   },
   {
    "duration": 11,
    "start_time": "2023-04-28T22:36:10.292Z"
   },
   {
    "duration": 18,
    "start_time": "2023-04-28T22:36:10.305Z"
   },
   {
    "duration": 10,
    "start_time": "2023-04-28T22:36:10.324Z"
   },
   {
    "duration": 10,
    "start_time": "2023-04-28T22:36:10.335Z"
   },
   {
    "duration": 6,
    "start_time": "2023-04-28T22:36:10.346Z"
   },
   {
    "duration": 5,
    "start_time": "2023-04-28T22:36:10.353Z"
   },
   {
    "duration": 15,
    "start_time": "2023-04-28T22:36:10.360Z"
   },
   {
    "duration": 8,
    "start_time": "2023-04-28T22:36:10.377Z"
   },
   {
    "duration": 15,
    "start_time": "2023-04-28T22:36:10.386Z"
   },
   {
    "duration": 122,
    "start_time": "2023-04-28T22:36:10.403Z"
   },
   {
    "duration": 11,
    "start_time": "2023-04-28T22:36:10.527Z"
   },
   {
    "duration": 383,
    "start_time": "2023-04-28T22:36:10.540Z"
   },
   {
    "duration": 12,
    "start_time": "2023-04-28T22:36:10.925Z"
   },
   {
    "duration": 8,
    "start_time": "2023-04-28T22:36:10.939Z"
   },
   {
    "duration": 9,
    "start_time": "2023-04-28T22:36:10.948Z"
   },
   {
    "duration": 9,
    "start_time": "2023-04-28T22:36:10.959Z"
   },
   {
    "duration": 9,
    "start_time": "2023-04-28T22:36:10.969Z"
   },
   {
    "duration": 31,
    "start_time": "2023-04-28T22:36:10.979Z"
   },
   {
    "duration": 10,
    "start_time": "2023-04-28T22:36:11.011Z"
   },
   {
    "duration": 117,
    "start_time": "2023-04-28T22:36:11.022Z"
   },
   {
    "duration": 10,
    "start_time": "2023-04-28T22:36:11.141Z"
   },
   {
    "duration": 4,
    "start_time": "2023-04-28T22:36:11.152Z"
   },
   {
    "duration": 342,
    "start_time": "2023-04-28T22:36:11.157Z"
   },
   {
    "duration": 0,
    "start_time": "2023-04-28T22:36:11.500Z"
   },
   {
    "duration": 0,
    "start_time": "2023-04-28T22:36:11.502Z"
   },
   {
    "duration": 0,
    "start_time": "2023-04-28T22:36:11.502Z"
   },
   {
    "duration": 0,
    "start_time": "2023-04-28T22:36:11.504Z"
   },
   {
    "duration": 0,
    "start_time": "2023-04-28T22:36:11.505Z"
   },
   {
    "duration": 0,
    "start_time": "2023-04-28T22:36:11.506Z"
   },
   {
    "duration": 0,
    "start_time": "2023-04-28T22:36:11.507Z"
   },
   {
    "duration": 0,
    "start_time": "2023-04-28T22:36:11.508Z"
   },
   {
    "duration": 0,
    "start_time": "2023-04-28T22:36:11.509Z"
   },
   {
    "duration": 0,
    "start_time": "2023-04-28T22:36:11.510Z"
   },
   {
    "duration": 0,
    "start_time": "2023-04-28T22:36:11.511Z"
   },
   {
    "duration": 0,
    "start_time": "2023-04-28T22:36:11.512Z"
   },
   {
    "duration": 1,
    "start_time": "2023-04-28T22:36:11.512Z"
   },
   {
    "duration": 0,
    "start_time": "2023-04-28T22:36:11.513Z"
   },
   {
    "duration": 0,
    "start_time": "2023-04-28T22:36:11.514Z"
   },
   {
    "duration": 0,
    "start_time": "2023-04-28T22:36:11.515Z"
   },
   {
    "duration": 0,
    "start_time": "2023-04-28T22:36:11.516Z"
   },
   {
    "duration": 0,
    "start_time": "2023-04-28T22:36:11.517Z"
   },
   {
    "duration": 0,
    "start_time": "2023-04-28T22:36:11.518Z"
   },
   {
    "duration": 303,
    "start_time": "2023-04-28T22:37:16.551Z"
   },
   {
    "duration": 342,
    "start_time": "2023-04-28T22:37:21.464Z"
   },
   {
    "duration": 492,
    "start_time": "2023-04-28T22:37:33.919Z"
   },
   {
    "duration": 20,
    "start_time": "2023-04-28T22:37:34.413Z"
   },
   {
    "duration": 32,
    "start_time": "2023-04-28T22:37:34.435Z"
   },
   {
    "duration": 11,
    "start_time": "2023-04-28T22:37:34.469Z"
   },
   {
    "duration": 2,
    "start_time": "2023-04-28T22:37:34.482Z"
   },
   {
    "duration": 15,
    "start_time": "2023-04-28T22:37:34.485Z"
   },
   {
    "duration": 7,
    "start_time": "2023-04-28T22:37:34.501Z"
   },
   {
    "duration": 9,
    "start_time": "2023-04-28T22:37:34.509Z"
   },
   {
    "duration": 17,
    "start_time": "2023-04-28T22:37:34.519Z"
   },
   {
    "duration": 3,
    "start_time": "2023-04-28T22:37:34.538Z"
   },
   {
    "duration": 10,
    "start_time": "2023-04-28T22:37:34.543Z"
   },
   {
    "duration": 15,
    "start_time": "2023-04-28T22:37:34.554Z"
   },
   {
    "duration": 16,
    "start_time": "2023-04-28T22:37:34.571Z"
   },
   {
    "duration": 4,
    "start_time": "2023-04-28T22:37:34.594Z"
   },
   {
    "duration": 9,
    "start_time": "2023-04-28T22:37:34.600Z"
   },
   {
    "duration": 6,
    "start_time": "2023-04-28T22:37:34.611Z"
   },
   {
    "duration": 18,
    "start_time": "2023-04-28T22:37:34.618Z"
   },
   {
    "duration": 13,
    "start_time": "2023-04-28T22:37:34.637Z"
   },
   {
    "duration": 15,
    "start_time": "2023-04-28T22:37:34.652Z"
   },
   {
    "duration": 9,
    "start_time": "2023-04-28T22:37:34.669Z"
   },
   {
    "duration": 7,
    "start_time": "2023-04-28T22:37:34.679Z"
   },
   {
    "duration": 13,
    "start_time": "2023-04-28T22:37:34.687Z"
   },
   {
    "duration": 9,
    "start_time": "2023-04-28T22:37:34.701Z"
   },
   {
    "duration": 5,
    "start_time": "2023-04-28T22:37:34.711Z"
   },
   {
    "duration": 20,
    "start_time": "2023-04-28T22:37:34.718Z"
   },
   {
    "duration": 10,
    "start_time": "2023-04-28T22:37:34.739Z"
   },
   {
    "duration": 25,
    "start_time": "2023-04-28T22:37:34.751Z"
   },
   {
    "duration": 48,
    "start_time": "2023-04-28T22:37:34.780Z"
   },
   {
    "duration": 15,
    "start_time": "2023-04-28T22:37:34.830Z"
   },
   {
    "duration": 23,
    "start_time": "2023-04-28T22:37:34.847Z"
   },
   {
    "duration": 35,
    "start_time": "2023-04-28T22:37:34.871Z"
   },
   {
    "duration": 16,
    "start_time": "2023-04-28T22:37:34.907Z"
   },
   {
    "duration": 24,
    "start_time": "2023-04-28T22:37:34.925Z"
   },
   {
    "duration": 5,
    "start_time": "2023-04-28T22:37:34.950Z"
   },
   {
    "duration": 9,
    "start_time": "2023-04-28T22:37:34.956Z"
   },
   {
    "duration": 27,
    "start_time": "2023-04-28T22:37:34.967Z"
   },
   {
    "duration": 5,
    "start_time": "2023-04-28T22:37:34.996Z"
   },
   {
    "duration": 27,
    "start_time": "2023-04-28T22:37:35.002Z"
   },
   {
    "duration": 12,
    "start_time": "2023-04-28T22:37:35.031Z"
   },
   {
    "duration": 15,
    "start_time": "2023-04-28T22:37:35.044Z"
   },
   {
    "duration": 16,
    "start_time": "2023-04-28T22:37:35.060Z"
   },
   {
    "duration": 41,
    "start_time": "2023-04-28T22:37:35.078Z"
   },
   {
    "duration": 35,
    "start_time": "2023-04-28T22:37:35.121Z"
   },
   {
    "duration": 5,
    "start_time": "2023-04-28T22:37:35.160Z"
   },
   {
    "duration": 13,
    "start_time": "2023-04-28T22:37:35.167Z"
   },
   {
    "duration": 5,
    "start_time": "2023-04-28T22:37:35.181Z"
   },
   {
    "duration": 5,
    "start_time": "2023-04-28T22:37:35.187Z"
   },
   {
    "duration": 9,
    "start_time": "2023-04-28T22:37:35.193Z"
   },
   {
    "duration": 20,
    "start_time": "2023-04-28T22:37:35.203Z"
   },
   {
    "duration": 6,
    "start_time": "2023-04-28T22:37:35.224Z"
   },
   {
    "duration": 16,
    "start_time": "2023-04-28T22:37:35.231Z"
   },
   {
    "duration": 153,
    "start_time": "2023-04-28T22:37:35.249Z"
   },
   {
    "duration": 14,
    "start_time": "2023-04-28T22:37:35.403Z"
   },
   {
    "duration": 393,
    "start_time": "2023-04-28T22:37:35.418Z"
   },
   {
    "duration": 12,
    "start_time": "2023-04-28T22:37:35.813Z"
   },
   {
    "duration": 39,
    "start_time": "2023-04-28T22:37:35.827Z"
   },
   {
    "duration": 22,
    "start_time": "2023-04-28T22:37:35.867Z"
   },
   {
    "duration": 13,
    "start_time": "2023-04-28T22:37:35.891Z"
   },
   {
    "duration": 8,
    "start_time": "2023-04-28T22:37:35.906Z"
   },
   {
    "duration": 24,
    "start_time": "2023-04-28T22:37:35.915Z"
   },
   {
    "duration": 16,
    "start_time": "2023-04-28T22:37:35.940Z"
   },
   {
    "duration": 120,
    "start_time": "2023-04-28T22:37:35.957Z"
   },
   {
    "duration": 10,
    "start_time": "2023-04-28T22:37:36.079Z"
   },
   {
    "duration": 28,
    "start_time": "2023-04-28T22:37:36.094Z"
   },
   {
    "duration": 353,
    "start_time": "2023-04-28T22:37:36.123Z"
   },
   {
    "duration": 0,
    "start_time": "2023-04-28T22:37:36.478Z"
   },
   {
    "duration": 0,
    "start_time": "2023-04-28T22:37:36.479Z"
   },
   {
    "duration": 0,
    "start_time": "2023-04-28T22:37:36.480Z"
   },
   {
    "duration": 0,
    "start_time": "2023-04-28T22:37:36.481Z"
   },
   {
    "duration": 0,
    "start_time": "2023-04-28T22:37:36.482Z"
   },
   {
    "duration": 0,
    "start_time": "2023-04-28T22:37:36.482Z"
   },
   {
    "duration": 0,
    "start_time": "2023-04-28T22:37:36.484Z"
   },
   {
    "duration": 0,
    "start_time": "2023-04-28T22:37:36.484Z"
   },
   {
    "duration": 0,
    "start_time": "2023-04-28T22:37:36.485Z"
   },
   {
    "duration": 0,
    "start_time": "2023-04-28T22:37:36.486Z"
   },
   {
    "duration": 0,
    "start_time": "2023-04-28T22:37:36.487Z"
   },
   {
    "duration": 0,
    "start_time": "2023-04-28T22:37:36.488Z"
   },
   {
    "duration": 0,
    "start_time": "2023-04-28T22:37:36.489Z"
   },
   {
    "duration": 0,
    "start_time": "2023-04-28T22:37:36.490Z"
   },
   {
    "duration": 0,
    "start_time": "2023-04-28T22:37:36.490Z"
   },
   {
    "duration": 0,
    "start_time": "2023-04-28T22:37:36.491Z"
   },
   {
    "duration": 0,
    "start_time": "2023-04-28T22:37:36.492Z"
   },
   {
    "duration": 0,
    "start_time": "2023-04-28T22:37:36.493Z"
   },
   {
    "duration": 0,
    "start_time": "2023-04-28T22:37:36.493Z"
   },
   {
    "duration": 7,
    "start_time": "2023-04-28T22:39:55.946Z"
   },
   {
    "duration": 348,
    "start_time": "2023-04-28T22:40:02.618Z"
   },
   {
    "duration": 10,
    "start_time": "2023-04-28T22:40:18.151Z"
   },
   {
    "duration": 21,
    "start_time": "2023-04-28T22:41:03.680Z"
   },
   {
    "duration": 20,
    "start_time": "2023-04-28T22:41:12.167Z"
   },
   {
    "duration": 14,
    "start_time": "2023-04-28T22:41:39.453Z"
   },
   {
    "duration": 477,
    "start_time": "2023-04-28T22:42:36.759Z"
   },
   {
    "duration": 18,
    "start_time": "2023-04-28T22:42:37.238Z"
   },
   {
    "duration": 17,
    "start_time": "2023-04-28T22:42:37.258Z"
   },
   {
    "duration": 37,
    "start_time": "2023-04-28T22:42:37.277Z"
   },
   {
    "duration": 17,
    "start_time": "2023-04-28T22:42:37.316Z"
   },
   {
    "duration": 15,
    "start_time": "2023-04-28T22:42:37.335Z"
   },
   {
    "duration": 7,
    "start_time": "2023-04-28T22:42:37.351Z"
   },
   {
    "duration": 28,
    "start_time": "2023-04-28T22:42:37.359Z"
   },
   {
    "duration": 28,
    "start_time": "2023-04-28T22:42:37.388Z"
   },
   {
    "duration": 12,
    "start_time": "2023-04-28T22:42:37.418Z"
   },
   {
    "duration": 11,
    "start_time": "2023-04-28T22:42:37.431Z"
   },
   {
    "duration": 16,
    "start_time": "2023-04-28T22:42:37.443Z"
   },
   {
    "duration": 28,
    "start_time": "2023-04-28T22:42:37.461Z"
   },
   {
    "duration": 6,
    "start_time": "2023-04-28T22:42:37.492Z"
   },
   {
    "duration": 28,
    "start_time": "2023-04-28T22:42:37.499Z"
   },
   {
    "duration": 7,
    "start_time": "2023-04-28T22:42:37.529Z"
   },
   {
    "duration": 10,
    "start_time": "2023-04-28T22:42:37.537Z"
   },
   {
    "duration": 14,
    "start_time": "2023-04-28T22:42:37.548Z"
   },
   {
    "duration": 8,
    "start_time": "2023-04-28T22:42:37.564Z"
   },
   {
    "duration": 28,
    "start_time": "2023-04-28T22:42:37.573Z"
   },
   {
    "duration": 23,
    "start_time": "2023-04-28T22:42:37.602Z"
   },
   {
    "duration": 22,
    "start_time": "2023-04-28T22:42:37.627Z"
   },
   {
    "duration": 9,
    "start_time": "2023-04-28T22:42:37.651Z"
   },
   {
    "duration": 12,
    "start_time": "2023-04-28T22:42:37.661Z"
   },
   {
    "duration": 15,
    "start_time": "2023-04-28T22:42:37.674Z"
   },
   {
    "duration": 30,
    "start_time": "2023-04-28T22:42:37.690Z"
   },
   {
    "duration": 28,
    "start_time": "2023-04-28T22:42:37.721Z"
   },
   {
    "duration": 43,
    "start_time": "2023-04-28T22:42:37.750Z"
   },
   {
    "duration": 15,
    "start_time": "2023-04-28T22:42:37.794Z"
   },
   {
    "duration": 36,
    "start_time": "2023-04-28T22:42:37.810Z"
   },
   {
    "duration": 12,
    "start_time": "2023-04-28T22:42:37.847Z"
   },
   {
    "duration": 31,
    "start_time": "2023-04-28T22:42:37.860Z"
   },
   {
    "duration": 20,
    "start_time": "2023-04-28T22:42:37.892Z"
   },
   {
    "duration": 7,
    "start_time": "2023-04-28T22:42:37.914Z"
   },
   {
    "duration": 15,
    "start_time": "2023-04-28T22:42:37.923Z"
   },
   {
    "duration": 29,
    "start_time": "2023-04-28T22:42:37.940Z"
   },
   {
    "duration": 14,
    "start_time": "2023-04-28T22:42:37.971Z"
   },
   {
    "duration": 33,
    "start_time": "2023-04-28T22:42:37.986Z"
   },
   {
    "duration": 6,
    "start_time": "2023-04-28T22:42:38.020Z"
   },
   {
    "duration": 5,
    "start_time": "2023-04-28T22:42:38.027Z"
   },
   {
    "duration": 5,
    "start_time": "2023-04-28T22:42:38.036Z"
   },
   {
    "duration": 13,
    "start_time": "2023-04-28T22:42:38.042Z"
   },
   {
    "duration": 24,
    "start_time": "2023-04-28T22:42:38.056Z"
   },
   {
    "duration": 9,
    "start_time": "2023-04-28T22:42:38.082Z"
   },
   {
    "duration": 8,
    "start_time": "2023-04-28T22:42:38.093Z"
   },
   {
    "duration": 8,
    "start_time": "2023-04-28T22:42:38.102Z"
   },
   {
    "duration": 10,
    "start_time": "2023-04-28T22:42:38.111Z"
   },
   {
    "duration": 4,
    "start_time": "2023-04-28T22:42:38.123Z"
   },
   {
    "duration": 17,
    "start_time": "2023-04-28T22:42:38.129Z"
   },
   {
    "duration": 4,
    "start_time": "2023-04-28T22:42:38.147Z"
   },
   {
    "duration": 10,
    "start_time": "2023-04-28T22:42:38.152Z"
   },
   {
    "duration": 145,
    "start_time": "2023-04-28T22:42:38.164Z"
   },
   {
    "duration": 11,
    "start_time": "2023-04-28T22:42:38.311Z"
   },
   {
    "duration": 367,
    "start_time": "2023-04-28T22:42:38.324Z"
   },
   {
    "duration": 12,
    "start_time": "2023-04-28T22:42:38.693Z"
   },
   {
    "duration": 11,
    "start_time": "2023-04-28T22:42:38.707Z"
   },
   {
    "duration": 14,
    "start_time": "2023-04-28T22:42:38.720Z"
   },
   {
    "duration": 10,
    "start_time": "2023-04-28T22:42:38.736Z"
   },
   {
    "duration": 15,
    "start_time": "2023-04-28T22:42:38.747Z"
   },
   {
    "duration": 36,
    "start_time": "2023-04-28T22:42:38.763Z"
   },
   {
    "duration": 21,
    "start_time": "2023-04-28T22:42:38.800Z"
   },
   {
    "duration": 110,
    "start_time": "2023-04-28T22:42:38.823Z"
   },
   {
    "duration": 10,
    "start_time": "2023-04-28T22:42:38.935Z"
   },
   {
    "duration": 14,
    "start_time": "2023-04-28T22:42:38.946Z"
   },
   {
    "duration": 28,
    "start_time": "2023-04-28T22:42:38.961Z"
   },
   {
    "duration": 30,
    "start_time": "2023-04-28T22:42:38.990Z"
   },
   {
    "duration": 16,
    "start_time": "2023-04-28T22:42:39.021Z"
   },
   {
    "duration": 5,
    "start_time": "2023-04-28T22:42:39.039Z"
   },
   {
    "duration": 16,
    "start_time": "2023-04-28T22:42:39.045Z"
   },
   {
    "duration": 35,
    "start_time": "2023-04-28T22:42:39.062Z"
   },
   {
    "duration": 463,
    "start_time": "2023-04-28T22:42:39.098Z"
   },
   {
    "duration": 184,
    "start_time": "2023-04-28T22:42:39.563Z"
   },
   {
    "duration": 141,
    "start_time": "2023-04-28T22:42:39.748Z"
   },
   {
    "duration": 9,
    "start_time": "2023-04-28T22:42:39.893Z"
   },
   {
    "duration": 141,
    "start_time": "2023-04-28T22:42:39.903Z"
   },
   {
    "duration": 25,
    "start_time": "2023-04-28T22:42:40.045Z"
   },
   {
    "duration": 39,
    "start_time": "2023-04-28T22:42:40.071Z"
   },
   {
    "duration": 190,
    "start_time": "2023-04-28T22:42:40.112Z"
   },
   {
    "duration": 20,
    "start_time": "2023-04-28T22:42:40.303Z"
   },
   {
    "duration": 209,
    "start_time": "2023-04-28T22:42:40.324Z"
   },
   {
    "duration": 234,
    "start_time": "2023-04-28T22:42:40.534Z"
   },
   {
    "duration": 136,
    "start_time": "2023-04-28T22:42:40.769Z"
   },
   {
    "duration": 133,
    "start_time": "2023-04-28T22:42:40.906Z"
   },
   {
    "duration": 132,
    "start_time": "2023-04-28T22:42:41.041Z"
   },
   {
    "duration": 138,
    "start_time": "2023-04-28T22:42:41.174Z"
   },
   {
    "duration": 166,
    "start_time": "2023-04-28T22:43:35.705Z"
   },
   {
    "duration": 174,
    "start_time": "2023-04-28T22:44:15.076Z"
   },
   {
    "duration": 122,
    "start_time": "2023-04-28T22:44:18.637Z"
   },
   {
    "duration": 14,
    "start_time": "2023-04-28T22:45:59.372Z"
   },
   {
    "duration": 511,
    "start_time": "2023-04-28T22:46:26.172Z"
   },
   {
    "duration": 19,
    "start_time": "2023-04-28T22:46:26.685Z"
   },
   {
    "duration": 17,
    "start_time": "2023-04-28T22:46:26.705Z"
   },
   {
    "duration": 15,
    "start_time": "2023-04-28T22:46:26.724Z"
   },
   {
    "duration": 4,
    "start_time": "2023-04-28T22:46:26.740Z"
   },
   {
    "duration": 14,
    "start_time": "2023-04-28T22:46:26.745Z"
   },
   {
    "duration": 7,
    "start_time": "2023-04-28T22:46:26.760Z"
   },
   {
    "duration": 26,
    "start_time": "2023-04-28T22:46:26.768Z"
   },
   {
    "duration": 15,
    "start_time": "2023-04-28T22:46:26.796Z"
   },
   {
    "duration": 3,
    "start_time": "2023-04-28T22:46:26.813Z"
   },
   {
    "duration": 20,
    "start_time": "2023-04-28T22:46:26.818Z"
   },
   {
    "duration": 10,
    "start_time": "2023-04-28T22:46:26.840Z"
   },
   {
    "duration": 18,
    "start_time": "2023-04-28T22:46:26.851Z"
   },
   {
    "duration": 4,
    "start_time": "2023-04-28T22:46:26.870Z"
   },
   {
    "duration": 26,
    "start_time": "2023-04-28T22:46:26.875Z"
   },
   {
    "duration": 6,
    "start_time": "2023-04-28T22:46:26.903Z"
   },
   {
    "duration": 5,
    "start_time": "2023-04-28T22:46:26.910Z"
   },
   {
    "duration": 13,
    "start_time": "2023-04-28T22:46:26.916Z"
   },
   {
    "duration": 4,
    "start_time": "2023-04-28T22:46:26.930Z"
   },
   {
    "duration": 9,
    "start_time": "2023-04-28T22:46:26.936Z"
   },
   {
    "duration": 25,
    "start_time": "2023-04-28T22:46:26.946Z"
   },
   {
    "duration": 14,
    "start_time": "2023-04-28T22:46:26.973Z"
   },
   {
    "duration": 13,
    "start_time": "2023-04-28T22:46:26.989Z"
   },
   {
    "duration": 6,
    "start_time": "2023-04-28T22:46:27.003Z"
   },
   {
    "duration": 7,
    "start_time": "2023-04-28T22:46:27.011Z"
   },
   {
    "duration": 13,
    "start_time": "2023-04-28T22:46:27.019Z"
   },
   {
    "duration": 20,
    "start_time": "2023-04-28T22:46:27.034Z"
   },
   {
    "duration": 60,
    "start_time": "2023-04-28T22:46:27.058Z"
   },
   {
    "duration": 17,
    "start_time": "2023-04-28T22:46:27.119Z"
   },
   {
    "duration": 26,
    "start_time": "2023-04-28T22:46:27.138Z"
   },
   {
    "duration": 41,
    "start_time": "2023-04-28T22:46:27.166Z"
   },
   {
    "duration": 26,
    "start_time": "2023-04-28T22:46:27.209Z"
   },
   {
    "duration": 17,
    "start_time": "2023-04-28T22:46:27.237Z"
   },
   {
    "duration": 11,
    "start_time": "2023-04-28T22:46:27.255Z"
   },
   {
    "duration": 10,
    "start_time": "2023-04-28T22:46:27.268Z"
   },
   {
    "duration": 28,
    "start_time": "2023-04-28T22:46:27.280Z"
   },
   {
    "duration": 6,
    "start_time": "2023-04-28T22:46:27.310Z"
   },
   {
    "duration": 6,
    "start_time": "2023-04-28T22:46:27.317Z"
   },
   {
    "duration": 7,
    "start_time": "2023-04-28T22:46:27.324Z"
   },
   {
    "duration": 6,
    "start_time": "2023-04-28T22:46:27.333Z"
   },
   {
    "duration": 7,
    "start_time": "2023-04-28T22:46:27.340Z"
   },
   {
    "duration": 10,
    "start_time": "2023-04-28T22:46:27.349Z"
   },
   {
    "duration": 41,
    "start_time": "2023-04-28T22:46:27.361Z"
   },
   {
    "duration": 5,
    "start_time": "2023-04-28T22:46:27.404Z"
   },
   {
    "duration": 9,
    "start_time": "2023-04-28T22:46:27.411Z"
   },
   {
    "duration": 11,
    "start_time": "2023-04-28T22:46:27.422Z"
   },
   {
    "duration": 39,
    "start_time": "2023-04-28T22:46:27.436Z"
   },
   {
    "duration": 10,
    "start_time": "2023-04-28T22:46:27.477Z"
   },
   {
    "duration": 23,
    "start_time": "2023-04-28T22:46:27.488Z"
   },
   {
    "duration": 8,
    "start_time": "2023-04-28T22:46:27.513Z"
   },
   {
    "duration": 14,
    "start_time": "2023-04-28T22:46:27.523Z"
   },
   {
    "duration": 138,
    "start_time": "2023-04-28T22:46:27.539Z"
   },
   {
    "duration": 19,
    "start_time": "2023-04-28T22:46:27.678Z"
   },
   {
    "duration": 377,
    "start_time": "2023-04-28T22:46:27.698Z"
   },
   {
    "duration": 12,
    "start_time": "2023-04-28T22:46:28.077Z"
   },
   {
    "duration": 9,
    "start_time": "2023-04-28T22:46:28.091Z"
   },
   {
    "duration": 10,
    "start_time": "2023-04-28T22:46:28.102Z"
   },
   {
    "duration": 17,
    "start_time": "2023-04-28T22:46:28.114Z"
   },
   {
    "duration": 8,
    "start_time": "2023-04-28T22:46:28.132Z"
   },
   {
    "duration": 25,
    "start_time": "2023-04-28T22:46:28.141Z"
   },
   {
    "duration": 27,
    "start_time": "2023-04-28T22:46:28.168Z"
   },
   {
    "duration": 113,
    "start_time": "2023-04-28T22:46:28.196Z"
   },
   {
    "duration": 12,
    "start_time": "2023-04-28T22:46:28.310Z"
   },
   {
    "duration": 5,
    "start_time": "2023-04-28T22:46:28.323Z"
   },
   {
    "duration": 16,
    "start_time": "2023-04-28T22:46:28.329Z"
   },
   {
    "duration": 13,
    "start_time": "2023-04-28T22:46:28.347Z"
   },
   {
    "duration": 10,
    "start_time": "2023-04-28T22:46:28.362Z"
   },
   {
    "duration": 4,
    "start_time": "2023-04-28T22:46:28.394Z"
   },
   {
    "duration": 6,
    "start_time": "2023-04-28T22:46:28.399Z"
   },
   {
    "duration": 13,
    "start_time": "2023-04-28T22:46:28.406Z"
   },
   {
    "duration": 376,
    "start_time": "2023-04-28T22:46:28.420Z"
   },
   {
    "duration": 0,
    "start_time": "2023-04-28T22:46:28.798Z"
   },
   {
    "duration": 0,
    "start_time": "2023-04-28T22:46:28.799Z"
   },
   {
    "duration": 0,
    "start_time": "2023-04-28T22:46:28.800Z"
   },
   {
    "duration": 0,
    "start_time": "2023-04-28T22:46:28.801Z"
   },
   {
    "duration": 0,
    "start_time": "2023-04-28T22:46:28.802Z"
   },
   {
    "duration": 0,
    "start_time": "2023-04-28T22:46:28.803Z"
   },
   {
    "duration": 0,
    "start_time": "2023-04-28T22:46:28.804Z"
   },
   {
    "duration": 0,
    "start_time": "2023-04-28T22:46:28.805Z"
   },
   {
    "duration": 0,
    "start_time": "2023-04-28T22:46:28.806Z"
   },
   {
    "duration": 0,
    "start_time": "2023-04-28T22:46:28.807Z"
   },
   {
    "duration": 0,
    "start_time": "2023-04-28T22:46:28.808Z"
   },
   {
    "duration": 0,
    "start_time": "2023-04-28T22:46:28.809Z"
   },
   {
    "duration": 0,
    "start_time": "2023-04-28T22:46:28.810Z"
   },
   {
    "duration": 0,
    "start_time": "2023-04-28T22:46:28.811Z"
   },
   {
    "duration": 13,
    "start_time": "2023-04-28T22:56:18.509Z"
   },
   {
    "duration": 13,
    "start_time": "2023-04-28T22:56:20.546Z"
   },
   {
    "duration": 474,
    "start_time": "2023-04-28T22:57:12.611Z"
   },
   {
    "duration": 15,
    "start_time": "2023-04-28T22:57:13.086Z"
   },
   {
    "duration": 17,
    "start_time": "2023-04-28T22:57:13.102Z"
   },
   {
    "duration": 13,
    "start_time": "2023-04-28T22:57:13.120Z"
   },
   {
    "duration": 11,
    "start_time": "2023-04-28T22:57:13.135Z"
   },
   {
    "duration": 9,
    "start_time": "2023-04-28T22:57:13.147Z"
   },
   {
    "duration": 4,
    "start_time": "2023-04-28T22:57:13.158Z"
   },
   {
    "duration": 32,
    "start_time": "2023-04-28T22:57:13.163Z"
   },
   {
    "duration": 6,
    "start_time": "2023-04-28T22:57:13.196Z"
   },
   {
    "duration": 20,
    "start_time": "2023-04-28T22:57:13.204Z"
   },
   {
    "duration": 31,
    "start_time": "2023-04-28T22:57:13.226Z"
   },
   {
    "duration": 7,
    "start_time": "2023-04-28T22:57:13.259Z"
   },
   {
    "duration": 19,
    "start_time": "2023-04-28T22:57:13.267Z"
   },
   {
    "duration": 18,
    "start_time": "2023-04-28T22:57:13.287Z"
   },
   {
    "duration": 17,
    "start_time": "2023-04-28T22:57:13.306Z"
   },
   {
    "duration": 4,
    "start_time": "2023-04-28T22:57:13.324Z"
   },
   {
    "duration": 23,
    "start_time": "2023-04-28T22:57:13.329Z"
   },
   {
    "duration": 30,
    "start_time": "2023-04-28T22:57:13.354Z"
   },
   {
    "duration": 14,
    "start_time": "2023-04-28T22:57:13.386Z"
   },
   {
    "duration": 22,
    "start_time": "2023-04-28T22:57:13.401Z"
   },
   {
    "duration": 29,
    "start_time": "2023-04-28T22:57:13.424Z"
   },
   {
    "duration": 47,
    "start_time": "2023-04-28T22:57:13.455Z"
   },
   {
    "duration": 19,
    "start_time": "2023-04-28T22:57:13.504Z"
   },
   {
    "duration": 19,
    "start_time": "2023-04-28T22:57:13.525Z"
   },
   {
    "duration": 13,
    "start_time": "2023-04-28T22:57:13.545Z"
   },
   {
    "duration": 6,
    "start_time": "2023-04-28T22:57:13.559Z"
   },
   {
    "duration": 7,
    "start_time": "2023-04-28T22:57:13.567Z"
   },
   {
    "duration": 10,
    "start_time": "2023-04-28T22:57:13.578Z"
   },
   {
    "duration": 28,
    "start_time": "2023-04-28T22:57:13.589Z"
   },
   {
    "duration": 46,
    "start_time": "2023-04-28T22:57:13.618Z"
   },
   {
    "duration": 16,
    "start_time": "2023-04-28T22:57:13.666Z"
   },
   {
    "duration": 22,
    "start_time": "2023-04-28T22:57:13.694Z"
   },
   {
    "duration": 12,
    "start_time": "2023-04-28T22:57:13.717Z"
   },
   {
    "duration": 17,
    "start_time": "2023-04-28T22:57:13.730Z"
   },
   {
    "duration": 13,
    "start_time": "2023-04-28T22:57:13.749Z"
   },
   {
    "duration": 31,
    "start_time": "2023-04-28T22:57:13.764Z"
   },
   {
    "duration": 6,
    "start_time": "2023-04-28T22:57:13.796Z"
   },
   {
    "duration": 21,
    "start_time": "2023-04-28T22:57:13.803Z"
   },
   {
    "duration": 14,
    "start_time": "2023-04-28T22:57:13.825Z"
   },
   {
    "duration": 14,
    "start_time": "2023-04-28T22:57:13.841Z"
   },
   {
    "duration": 6,
    "start_time": "2023-04-28T22:57:13.857Z"
   },
   {
    "duration": 18,
    "start_time": "2023-04-28T22:57:13.865Z"
   },
   {
    "duration": 20,
    "start_time": "2023-04-28T22:57:13.884Z"
   },
   {
    "duration": 9,
    "start_time": "2023-04-28T22:57:13.906Z"
   },
   {
    "duration": 13,
    "start_time": "2023-04-28T22:57:13.916Z"
   },
   {
    "duration": 5,
    "start_time": "2023-04-28T22:57:13.931Z"
   },
   {
    "duration": 10,
    "start_time": "2023-04-28T22:57:13.937Z"
   },
   {
    "duration": 7,
    "start_time": "2023-04-28T22:57:13.949Z"
   },
   {
    "duration": 24,
    "start_time": "2023-04-28T22:57:13.958Z"
   },
   {
    "duration": 10,
    "start_time": "2023-04-28T22:57:13.984Z"
   },
   {
    "duration": 26,
    "start_time": "2023-04-28T22:57:13.996Z"
   },
   {
    "duration": 5,
    "start_time": "2023-04-28T22:57:14.024Z"
   },
   {
    "duration": 13,
    "start_time": "2023-04-28T22:57:14.031Z"
   },
   {
    "duration": 148,
    "start_time": "2023-04-28T22:57:14.046Z"
   },
   {
    "duration": 13,
    "start_time": "2023-04-28T22:57:14.196Z"
   },
   {
    "duration": 448,
    "start_time": "2023-04-28T22:57:14.211Z"
   },
   {
    "duration": 15,
    "start_time": "2023-04-28T22:57:14.661Z"
   },
   {
    "duration": 10,
    "start_time": "2023-04-28T22:57:14.677Z"
   },
   {
    "duration": 7,
    "start_time": "2023-04-28T22:57:14.689Z"
   },
   {
    "duration": 10,
    "start_time": "2023-04-28T22:57:14.698Z"
   },
   {
    "duration": 8,
    "start_time": "2023-04-28T22:57:14.709Z"
   },
   {
    "duration": 18,
    "start_time": "2023-04-28T22:57:14.719Z"
   },
   {
    "duration": 9,
    "start_time": "2023-04-28T22:57:14.738Z"
   },
   {
    "duration": 130,
    "start_time": "2023-04-28T22:57:14.749Z"
   },
   {
    "duration": 9,
    "start_time": "2023-04-28T22:57:14.881Z"
   },
   {
    "duration": 4,
    "start_time": "2023-04-28T22:57:14.894Z"
   },
   {
    "duration": 16,
    "start_time": "2023-04-28T22:57:14.899Z"
   },
   {
    "duration": 13,
    "start_time": "2023-04-28T22:57:14.916Z"
   },
   {
    "duration": 6,
    "start_time": "2023-04-28T22:57:14.930Z"
   },
   {
    "duration": 6,
    "start_time": "2023-04-28T22:57:14.937Z"
   },
   {
    "duration": 6,
    "start_time": "2023-04-28T22:57:14.944Z"
   },
   {
    "duration": 14,
    "start_time": "2023-04-28T22:57:14.951Z"
   },
   {
    "duration": 356,
    "start_time": "2023-04-28T22:57:14.993Z"
   },
   {
    "duration": 0,
    "start_time": "2023-04-28T22:57:15.351Z"
   },
   {
    "duration": 0,
    "start_time": "2023-04-28T22:57:15.351Z"
   },
   {
    "duration": 0,
    "start_time": "2023-04-28T22:57:15.352Z"
   },
   {
    "duration": 0,
    "start_time": "2023-04-28T22:57:15.353Z"
   },
   {
    "duration": 0,
    "start_time": "2023-04-28T22:57:15.354Z"
   },
   {
    "duration": 0,
    "start_time": "2023-04-28T22:57:15.355Z"
   },
   {
    "duration": 0,
    "start_time": "2023-04-28T22:57:15.356Z"
   },
   {
    "duration": 0,
    "start_time": "2023-04-28T22:57:15.357Z"
   },
   {
    "duration": 0,
    "start_time": "2023-04-28T22:57:15.358Z"
   },
   {
    "duration": 0,
    "start_time": "2023-04-28T22:57:15.358Z"
   },
   {
    "duration": 0,
    "start_time": "2023-04-28T22:57:15.360Z"
   },
   {
    "duration": 0,
    "start_time": "2023-04-28T22:57:15.361Z"
   },
   {
    "duration": 0,
    "start_time": "2023-04-28T22:57:15.361Z"
   },
   {
    "duration": 0,
    "start_time": "2023-04-28T22:57:15.362Z"
   },
   {
    "duration": 22,
    "start_time": "2023-04-28T23:01:09.646Z"
   },
   {
    "duration": 53,
    "start_time": "2023-04-29T09:17:45.669Z"
   },
   {
    "duration": 1082,
    "start_time": "2023-04-29T09:17:52.528Z"
   },
   {
    "duration": 20,
    "start_time": "2023-04-29T09:17:53.613Z"
   },
   {
    "duration": 23,
    "start_time": "2023-04-29T09:17:53.635Z"
   },
   {
    "duration": 34,
    "start_time": "2023-04-29T09:17:53.661Z"
   },
   {
    "duration": 13,
    "start_time": "2023-04-29T09:17:53.697Z"
   },
   {
    "duration": 8,
    "start_time": "2023-04-29T09:17:53.713Z"
   },
   {
    "duration": 2,
    "start_time": "2023-04-29T09:17:53.723Z"
   },
   {
    "duration": 18,
    "start_time": "2023-04-29T09:17:53.727Z"
   },
   {
    "duration": 7,
    "start_time": "2023-04-29T09:17:53.747Z"
   },
   {
    "duration": 38,
    "start_time": "2023-04-29T09:17:53.756Z"
   },
   {
    "duration": 13,
    "start_time": "2023-04-29T09:17:53.797Z"
   },
   {
    "duration": 6,
    "start_time": "2023-04-29T09:17:53.811Z"
   },
   {
    "duration": 19,
    "start_time": "2023-04-29T09:17:53.818Z"
   },
   {
    "duration": 11,
    "start_time": "2023-04-29T09:17:53.839Z"
   },
   {
    "duration": 51,
    "start_time": "2023-04-29T09:17:53.851Z"
   },
   {
    "duration": 5,
    "start_time": "2023-04-29T09:17:53.905Z"
   },
   {
    "duration": 11,
    "start_time": "2023-04-29T09:17:53.912Z"
   },
   {
    "duration": 6,
    "start_time": "2023-04-29T09:17:53.924Z"
   },
   {
    "duration": 4,
    "start_time": "2023-04-29T09:17:53.932Z"
   },
   {
    "duration": 6,
    "start_time": "2023-04-29T09:17:53.938Z"
   },
   {
    "duration": 5,
    "start_time": "2023-04-29T09:17:53.946Z"
   },
   {
    "duration": 2,
    "start_time": "2023-04-29T09:17:53.952Z"
   },
   {
    "duration": 6,
    "start_time": "2023-04-29T09:17:53.992Z"
   },
   {
    "duration": 9,
    "start_time": "2023-04-29T09:17:54.000Z"
   },
   {
    "duration": 10,
    "start_time": "2023-04-29T09:17:54.011Z"
   },
   {
    "duration": 7,
    "start_time": "2023-04-29T09:17:54.022Z"
   },
   {
    "duration": 4,
    "start_time": "2023-04-29T09:17:54.030Z"
   },
   {
    "duration": 3,
    "start_time": "2023-04-29T09:17:54.039Z"
   },
   {
    "duration": 61,
    "start_time": "2023-04-29T09:17:54.044Z"
   },
   {
    "duration": 53,
    "start_time": "2023-04-29T09:17:54.108Z"
   },
   {
    "duration": 43,
    "start_time": "2023-04-29T09:17:54.163Z"
   },
   {
    "duration": 26,
    "start_time": "2023-04-29T09:17:54.208Z"
   },
   {
    "duration": 15,
    "start_time": "2023-04-29T09:17:54.235Z"
   },
   {
    "duration": 40,
    "start_time": "2023-04-29T09:17:54.252Z"
   },
   {
    "duration": 16,
    "start_time": "2023-04-29T09:17:54.294Z"
   },
   {
    "duration": 6,
    "start_time": "2023-04-29T09:17:54.312Z"
   },
   {
    "duration": 7,
    "start_time": "2023-04-29T09:17:54.319Z"
   },
   {
    "duration": 22,
    "start_time": "2023-04-29T09:17:54.328Z"
   },
   {
    "duration": 41,
    "start_time": "2023-04-29T09:17:54.351Z"
   },
   {
    "duration": 5,
    "start_time": "2023-04-29T09:17:54.394Z"
   },
   {
    "duration": 8,
    "start_time": "2023-04-29T09:17:54.401Z"
   },
   {
    "duration": 5,
    "start_time": "2023-04-29T09:17:54.411Z"
   },
   {
    "duration": 6,
    "start_time": "2023-04-29T09:17:54.419Z"
   },
   {
    "duration": 8,
    "start_time": "2023-04-29T09:17:54.427Z"
   },
   {
    "duration": 11,
    "start_time": "2023-04-29T09:17:54.436Z"
   },
   {
    "duration": 48,
    "start_time": "2023-04-29T09:17:54.449Z"
   },
   {
    "duration": 7,
    "start_time": "2023-04-29T09:17:54.499Z"
   },
   {
    "duration": 6,
    "start_time": "2023-04-29T09:17:54.508Z"
   },
   {
    "duration": 6,
    "start_time": "2023-04-29T09:17:54.516Z"
   },
   {
    "duration": 5,
    "start_time": "2023-04-29T09:17:54.524Z"
   },
   {
    "duration": 19,
    "start_time": "2023-04-29T09:17:54.530Z"
   },
   {
    "duration": 44,
    "start_time": "2023-04-29T09:17:54.551Z"
   },
   {
    "duration": 21,
    "start_time": "2023-04-29T09:17:54.597Z"
   },
   {
    "duration": 177,
    "start_time": "2023-04-29T09:17:54.620Z"
   },
   {
    "duration": 23,
    "start_time": "2023-04-29T09:17:54.800Z"
   },
   {
    "duration": 504,
    "start_time": "2023-04-29T09:17:54.824Z"
   },
   {
    "duration": 14,
    "start_time": "2023-04-29T09:17:55.330Z"
   },
   {
    "duration": 28,
    "start_time": "2023-04-29T09:17:55.345Z"
   },
   {
    "duration": 9,
    "start_time": "2023-04-29T09:17:55.374Z"
   },
   {
    "duration": 10,
    "start_time": "2023-04-29T09:17:55.384Z"
   },
   {
    "duration": 16,
    "start_time": "2023-04-29T09:17:55.396Z"
   },
   {
    "duration": 9,
    "start_time": "2023-04-29T09:17:55.414Z"
   },
   {
    "duration": 20,
    "start_time": "2023-04-29T09:17:55.425Z"
   },
   {
    "duration": 10,
    "start_time": "2023-04-29T09:17:55.446Z"
   },
   {
    "duration": 159,
    "start_time": "2023-04-29T09:17:55.457Z"
   },
   {
    "duration": 11,
    "start_time": "2023-04-29T09:17:55.618Z"
   },
   {
    "duration": 4,
    "start_time": "2023-04-29T09:17:55.630Z"
   },
   {
    "duration": 17,
    "start_time": "2023-04-29T09:17:55.636Z"
   },
   {
    "duration": 9,
    "start_time": "2023-04-29T09:17:55.654Z"
   },
   {
    "duration": 40,
    "start_time": "2023-04-29T09:17:55.665Z"
   },
   {
    "duration": 5,
    "start_time": "2023-04-29T09:17:55.707Z"
   },
   {
    "duration": 5,
    "start_time": "2023-04-29T09:17:55.714Z"
   },
   {
    "duration": 14,
    "start_time": "2023-04-29T09:17:55.720Z"
   },
   {
    "duration": 597,
    "start_time": "2023-04-29T09:17:55.735Z"
   },
   {
    "duration": 0,
    "start_time": "2023-04-29T09:17:56.334Z"
   },
   {
    "duration": 0,
    "start_time": "2023-04-29T09:17:56.336Z"
   },
   {
    "duration": 0,
    "start_time": "2023-04-29T09:17:56.337Z"
   },
   {
    "duration": 0,
    "start_time": "2023-04-29T09:17:56.337Z"
   },
   {
    "duration": 0,
    "start_time": "2023-04-29T09:17:56.338Z"
   },
   {
    "duration": 0,
    "start_time": "2023-04-29T09:17:56.340Z"
   },
   {
    "duration": 0,
    "start_time": "2023-04-29T09:17:56.341Z"
   },
   {
    "duration": 0,
    "start_time": "2023-04-29T09:17:56.341Z"
   },
   {
    "duration": 0,
    "start_time": "2023-04-29T09:17:56.342Z"
   },
   {
    "duration": 0,
    "start_time": "2023-04-29T09:17:56.344Z"
   },
   {
    "duration": 0,
    "start_time": "2023-04-29T09:17:56.345Z"
   },
   {
    "duration": 0,
    "start_time": "2023-04-29T09:17:56.346Z"
   },
   {
    "duration": 0,
    "start_time": "2023-04-29T09:17:56.347Z"
   },
   {
    "duration": 0,
    "start_time": "2023-04-29T09:17:56.348Z"
   },
   {
    "duration": 41,
    "start_time": "2023-04-29T09:19:31.086Z"
   },
   {
    "duration": 30,
    "start_time": "2023-04-29T09:19:40.269Z"
   },
   {
    "duration": 20,
    "start_time": "2023-04-29T09:20:04.786Z"
   },
   {
    "duration": 16,
    "start_time": "2023-04-29T09:21:49.954Z"
   },
   {
    "duration": 15,
    "start_time": "2023-04-29T09:37:19.606Z"
   },
   {
    "duration": 10,
    "start_time": "2023-04-29T09:39:33.529Z"
   },
   {
    "duration": 556,
    "start_time": "2023-04-29T09:39:45.732Z"
   },
   {
    "duration": 16,
    "start_time": "2023-04-29T09:39:46.290Z"
   },
   {
    "duration": 22,
    "start_time": "2023-04-29T09:39:46.307Z"
   },
   {
    "duration": 14,
    "start_time": "2023-04-29T09:39:46.331Z"
   },
   {
    "duration": 18,
    "start_time": "2023-04-29T09:39:46.347Z"
   },
   {
    "duration": 28,
    "start_time": "2023-04-29T09:39:46.367Z"
   },
   {
    "duration": 5,
    "start_time": "2023-04-29T09:39:46.397Z"
   },
   {
    "duration": 20,
    "start_time": "2023-04-29T09:39:46.404Z"
   },
   {
    "duration": 13,
    "start_time": "2023-04-29T09:39:46.426Z"
   },
   {
    "duration": 11,
    "start_time": "2023-04-29T09:39:46.442Z"
   },
   {
    "duration": 12,
    "start_time": "2023-04-29T09:39:46.455Z"
   },
   {
    "duration": 6,
    "start_time": "2023-04-29T09:39:46.493Z"
   },
   {
    "duration": 16,
    "start_time": "2023-04-29T09:39:46.501Z"
   },
   {
    "duration": 11,
    "start_time": "2023-04-29T09:39:46.519Z"
   },
   {
    "duration": 23,
    "start_time": "2023-04-29T09:39:46.532Z"
   },
   {
    "duration": 36,
    "start_time": "2023-04-29T09:39:46.556Z"
   },
   {
    "duration": 11,
    "start_time": "2023-04-29T09:39:46.594Z"
   },
   {
    "duration": 16,
    "start_time": "2023-04-29T09:39:46.607Z"
   },
   {
    "duration": 8,
    "start_time": "2023-04-29T09:39:46.625Z"
   },
   {
    "duration": 8,
    "start_time": "2023-04-29T09:39:46.635Z"
   },
   {
    "duration": 7,
    "start_time": "2023-04-29T09:39:46.645Z"
   },
   {
    "duration": 3,
    "start_time": "2023-04-29T09:39:46.654Z"
   },
   {
    "duration": 39,
    "start_time": "2023-04-29T09:39:46.658Z"
   },
   {
    "duration": 14,
    "start_time": "2023-04-29T09:39:46.700Z"
   },
   {
    "duration": 18,
    "start_time": "2023-04-29T09:39:46.716Z"
   },
   {
    "duration": 8,
    "start_time": "2023-04-29T09:39:46.736Z"
   },
   {
    "duration": 10,
    "start_time": "2023-04-29T09:39:46.746Z"
   },
   {
    "duration": 31,
    "start_time": "2023-04-29T09:39:46.761Z"
   },
   {
    "duration": 10,
    "start_time": "2023-04-29T09:39:46.794Z"
   },
   {
    "duration": 4,
    "start_time": "2023-04-29T09:39:46.805Z"
   },
   {
    "duration": 28,
    "start_time": "2023-04-29T09:39:46.811Z"
   },
   {
    "duration": 84,
    "start_time": "2023-04-29T09:39:46.841Z"
   },
   {
    "duration": 18,
    "start_time": "2023-04-29T09:39:46.926Z"
   },
   {
    "duration": 48,
    "start_time": "2023-04-29T09:39:46.945Z"
   },
   {
    "duration": 15,
    "start_time": "2023-04-29T09:39:46.995Z"
   },
   {
    "duration": 16,
    "start_time": "2023-04-29T09:39:47.011Z"
   },
   {
    "duration": 15,
    "start_time": "2023-04-29T09:39:47.028Z"
   },
   {
    "duration": 6,
    "start_time": "2023-04-29T09:39:47.044Z"
   },
   {
    "duration": 18,
    "start_time": "2023-04-29T09:39:47.051Z"
   },
   {
    "duration": 42,
    "start_time": "2023-04-29T09:39:47.070Z"
   },
   {
    "duration": 15,
    "start_time": "2023-04-29T09:39:47.113Z"
   },
   {
    "duration": 7,
    "start_time": "2023-04-29T09:39:47.129Z"
   },
   {
    "duration": 6,
    "start_time": "2023-04-29T09:39:47.138Z"
   },
   {
    "duration": 4,
    "start_time": "2023-04-29T09:39:47.146Z"
   },
   {
    "duration": 7,
    "start_time": "2023-04-29T09:39:47.151Z"
   },
   {
    "duration": 37,
    "start_time": "2023-04-29T09:39:47.159Z"
   },
   {
    "duration": 11,
    "start_time": "2023-04-29T09:39:47.198Z"
   },
   {
    "duration": 6,
    "start_time": "2023-04-29T09:39:47.210Z"
   },
   {
    "duration": 6,
    "start_time": "2023-04-29T09:39:47.218Z"
   },
   {
    "duration": 4,
    "start_time": "2023-04-29T09:39:47.225Z"
   },
   {
    "duration": 7,
    "start_time": "2023-04-29T09:39:47.231Z"
   },
   {
    "duration": 6,
    "start_time": "2023-04-29T09:39:47.239Z"
   },
   {
    "duration": 63,
    "start_time": "2023-04-29T09:39:47.246Z"
   },
   {
    "duration": 5,
    "start_time": "2023-04-29T09:39:47.310Z"
   },
   {
    "duration": 12,
    "start_time": "2023-04-29T09:39:47.316Z"
   },
   {
    "duration": 175,
    "start_time": "2023-04-29T09:39:47.332Z"
   },
   {
    "duration": 13,
    "start_time": "2023-04-29T09:39:47.509Z"
   },
   {
    "duration": 523,
    "start_time": "2023-04-29T09:39:47.525Z"
   },
   {
    "duration": 14,
    "start_time": "2023-04-29T09:39:48.050Z"
   },
   {
    "duration": 27,
    "start_time": "2023-04-29T09:39:48.065Z"
   },
   {
    "duration": 8,
    "start_time": "2023-04-29T09:39:48.094Z"
   },
   {
    "duration": 8,
    "start_time": "2023-04-29T09:39:48.103Z"
   },
   {
    "duration": 8,
    "start_time": "2023-04-29T09:39:48.113Z"
   },
   {
    "duration": 9,
    "start_time": "2023-04-29T09:39:48.123Z"
   },
   {
    "duration": 24,
    "start_time": "2023-04-29T09:39:48.133Z"
   },
   {
    "duration": 39,
    "start_time": "2023-04-29T09:39:48.159Z"
   },
   {
    "duration": 124,
    "start_time": "2023-04-29T09:39:48.200Z"
   },
   {
    "duration": 12,
    "start_time": "2023-04-29T09:39:48.326Z"
   },
   {
    "duration": 17,
    "start_time": "2023-04-29T09:39:48.340Z"
   },
   {
    "duration": 13,
    "start_time": "2023-04-29T09:39:48.359Z"
   },
   {
    "duration": 21,
    "start_time": "2023-04-29T09:39:48.374Z"
   },
   {
    "duration": 20,
    "start_time": "2023-04-29T09:39:48.397Z"
   },
   {
    "duration": 12,
    "start_time": "2023-04-29T09:39:48.420Z"
   },
   {
    "duration": 22,
    "start_time": "2023-04-29T09:39:48.434Z"
   },
   {
    "duration": 10,
    "start_time": "2023-04-29T09:39:48.458Z"
   },
   {
    "duration": 21,
    "start_time": "2023-04-29T09:39:48.471Z"
   },
   {
    "duration": 22,
    "start_time": "2023-04-29T09:39:48.494Z"
   },
   {
    "duration": 415,
    "start_time": "2023-04-29T09:39:48.518Z"
   },
   {
    "duration": 0,
    "start_time": "2023-04-29T09:39:48.936Z"
   },
   {
    "duration": 0,
    "start_time": "2023-04-29T09:39:48.936Z"
   },
   {
    "duration": 0,
    "start_time": "2023-04-29T09:39:48.938Z"
   },
   {
    "duration": 0,
    "start_time": "2023-04-29T09:39:48.939Z"
   },
   {
    "duration": 0,
    "start_time": "2023-04-29T09:39:48.940Z"
   },
   {
    "duration": 0,
    "start_time": "2023-04-29T09:39:48.941Z"
   },
   {
    "duration": 0,
    "start_time": "2023-04-29T09:39:48.942Z"
   },
   {
    "duration": 0,
    "start_time": "2023-04-29T09:39:48.943Z"
   },
   {
    "duration": 0,
    "start_time": "2023-04-29T09:39:48.944Z"
   },
   {
    "duration": 0,
    "start_time": "2023-04-29T09:39:48.946Z"
   },
   {
    "duration": 0,
    "start_time": "2023-04-29T09:39:48.947Z"
   },
   {
    "duration": 0,
    "start_time": "2023-04-29T09:39:48.948Z"
   },
   {
    "duration": 0,
    "start_time": "2023-04-29T09:39:48.950Z"
   },
   {
    "duration": 0,
    "start_time": "2023-04-29T09:39:48.951Z"
   },
   {
    "duration": 6,
    "start_time": "2023-04-29T09:42:22.164Z"
   },
   {
    "duration": 6,
    "start_time": "2023-04-29T09:43:06.200Z"
   },
   {
    "duration": 23,
    "start_time": "2023-04-29T09:43:36.593Z"
   },
   {
    "duration": 30,
    "start_time": "2023-04-29T09:44:29.088Z"
   },
   {
    "duration": 69,
    "start_time": "2023-04-29T09:45:03.575Z"
   },
   {
    "duration": 43,
    "start_time": "2023-04-29T09:45:40.269Z"
   },
   {
    "duration": 59,
    "start_time": "2023-04-29T09:45:58.405Z"
   },
   {
    "duration": 41,
    "start_time": "2023-04-29T09:47:16.939Z"
   },
   {
    "duration": 3,
    "start_time": "2023-04-29T09:55:09.223Z"
   },
   {
    "duration": 134,
    "start_time": "2023-04-29T09:58:13.810Z"
   },
   {
    "duration": 145,
    "start_time": "2023-04-29T09:58:20.082Z"
   },
   {
    "duration": 138,
    "start_time": "2023-04-29T09:59:09.643Z"
   },
   {
    "duration": 73,
    "start_time": "2023-04-29T10:00:58.133Z"
   },
   {
    "duration": 11,
    "start_time": "2023-04-29T10:01:08.109Z"
   },
   {
    "duration": 10,
    "start_time": "2023-04-29T10:01:29.270Z"
   },
   {
    "duration": 154,
    "start_time": "2023-04-29T10:02:45.725Z"
   },
   {
    "duration": 159,
    "start_time": "2023-04-29T10:02:56.481Z"
   },
   {
    "duration": 143,
    "start_time": "2023-04-29T10:04:00.357Z"
   },
   {
    "duration": 182,
    "start_time": "2023-04-29T10:04:17.894Z"
   },
   {
    "duration": 176,
    "start_time": "2023-04-29T10:04:23.763Z"
   },
   {
    "duration": 170,
    "start_time": "2023-04-29T10:04:30.691Z"
   },
   {
    "duration": 118,
    "start_time": "2023-04-29T10:05:25.309Z"
   },
   {
    "duration": 587,
    "start_time": "2023-04-29T10:05:32.696Z"
   },
   {
    "duration": 21,
    "start_time": "2023-04-29T10:05:33.285Z"
   },
   {
    "duration": 21,
    "start_time": "2023-04-29T10:05:33.308Z"
   },
   {
    "duration": 14,
    "start_time": "2023-04-29T10:05:33.331Z"
   },
   {
    "duration": 12,
    "start_time": "2023-04-29T10:05:33.347Z"
   },
   {
    "duration": 32,
    "start_time": "2023-04-29T10:05:33.361Z"
   },
   {
    "duration": 10,
    "start_time": "2023-04-29T10:05:33.396Z"
   },
   {
    "duration": 51,
    "start_time": "2023-04-29T10:05:33.408Z"
   },
   {
    "duration": 7,
    "start_time": "2023-04-29T10:05:33.461Z"
   },
   {
    "duration": 25,
    "start_time": "2023-04-29T10:05:33.469Z"
   },
   {
    "duration": 13,
    "start_time": "2023-04-29T10:05:33.496Z"
   },
   {
    "duration": 5,
    "start_time": "2023-04-29T10:05:33.511Z"
   },
   {
    "duration": 18,
    "start_time": "2023-04-29T10:05:33.517Z"
   },
   {
    "duration": 10,
    "start_time": "2023-04-29T10:05:33.538Z"
   },
   {
    "duration": 53,
    "start_time": "2023-04-29T10:05:33.550Z"
   },
   {
    "duration": 4,
    "start_time": "2023-04-29T10:05:33.605Z"
   },
   {
    "duration": 10,
    "start_time": "2023-04-29T10:05:33.611Z"
   },
   {
    "duration": 6,
    "start_time": "2023-04-29T10:05:33.623Z"
   },
   {
    "duration": 9,
    "start_time": "2023-04-29T10:05:33.631Z"
   },
   {
    "duration": 50,
    "start_time": "2023-04-29T10:05:33.642Z"
   },
   {
    "duration": 9,
    "start_time": "2023-04-29T10:05:33.694Z"
   },
   {
    "duration": 4,
    "start_time": "2023-04-29T10:05:33.705Z"
   },
   {
    "duration": 10,
    "start_time": "2023-04-29T10:05:33.711Z"
   },
   {
    "duration": 19,
    "start_time": "2023-04-29T10:05:33.722Z"
   },
   {
    "duration": 32,
    "start_time": "2023-04-29T10:05:33.743Z"
   },
   {
    "duration": 8,
    "start_time": "2023-04-29T10:05:33.777Z"
   },
   {
    "duration": 11,
    "start_time": "2023-04-29T10:05:33.787Z"
   },
   {
    "duration": 4,
    "start_time": "2023-04-29T10:05:33.800Z"
   },
   {
    "duration": 16,
    "start_time": "2023-04-29T10:05:33.805Z"
   },
   {
    "duration": 4,
    "start_time": "2023-04-29T10:05:33.822Z"
   },
   {
    "duration": 22,
    "start_time": "2023-04-29T10:05:33.827Z"
   },
   {
    "duration": 75,
    "start_time": "2023-04-29T10:05:33.851Z"
   },
   {
    "duration": 17,
    "start_time": "2023-04-29T10:05:33.928Z"
   },
   {
    "duration": 23,
    "start_time": "2023-04-29T10:05:33.947Z"
   },
   {
    "duration": 25,
    "start_time": "2023-04-29T10:05:33.993Z"
   },
   {
    "duration": 17,
    "start_time": "2023-04-29T10:05:34.019Z"
   },
   {
    "duration": 14,
    "start_time": "2023-04-29T10:05:34.037Z"
   },
   {
    "duration": 5,
    "start_time": "2023-04-29T10:05:34.052Z"
   },
   {
    "duration": 33,
    "start_time": "2023-04-29T10:05:34.059Z"
   },
   {
    "duration": 30,
    "start_time": "2023-04-29T10:05:34.095Z"
   },
   {
    "duration": 6,
    "start_time": "2023-04-29T10:05:34.130Z"
   },
   {
    "duration": 10,
    "start_time": "2023-04-29T10:05:34.138Z"
   },
   {
    "duration": 6,
    "start_time": "2023-04-29T10:05:34.150Z"
   },
   {
    "duration": 4,
    "start_time": "2023-04-29T10:05:34.158Z"
   },
   {
    "duration": 36,
    "start_time": "2023-04-29T10:05:34.164Z"
   },
   {
    "duration": 6,
    "start_time": "2023-04-29T10:05:34.202Z"
   },
   {
    "duration": 11,
    "start_time": "2023-04-29T10:05:34.210Z"
   },
   {
    "duration": 6,
    "start_time": "2023-04-29T10:05:34.222Z"
   },
   {
    "duration": 7,
    "start_time": "2023-04-29T10:05:34.230Z"
   },
   {
    "duration": 4,
    "start_time": "2023-04-29T10:05:34.239Z"
   },
   {
    "duration": 10,
    "start_time": "2023-04-29T10:05:34.244Z"
   },
   {
    "duration": 39,
    "start_time": "2023-04-29T10:05:34.255Z"
   },
   {
    "duration": 19,
    "start_time": "2023-04-29T10:05:34.296Z"
   },
   {
    "duration": 17,
    "start_time": "2023-04-29T10:05:34.317Z"
   },
   {
    "duration": 19,
    "start_time": "2023-04-29T10:05:34.336Z"
   },
   {
    "duration": 199,
    "start_time": "2023-04-29T10:05:34.357Z"
   },
   {
    "duration": 32,
    "start_time": "2023-04-29T10:05:34.559Z"
   },
   {
    "duration": 491,
    "start_time": "2023-04-29T10:05:34.593Z"
   },
   {
    "duration": 15,
    "start_time": "2023-04-29T10:05:35.085Z"
   },
   {
    "duration": 30,
    "start_time": "2023-04-29T10:05:35.102Z"
   },
   {
    "duration": 8,
    "start_time": "2023-04-29T10:05:35.134Z"
   },
   {
    "duration": 8,
    "start_time": "2023-04-29T10:05:35.144Z"
   },
   {
    "duration": 10,
    "start_time": "2023-04-29T10:05:35.153Z"
   },
   {
    "duration": 11,
    "start_time": "2023-04-29T10:05:35.192Z"
   },
   {
    "duration": 24,
    "start_time": "2023-04-29T10:05:35.205Z"
   },
   {
    "duration": 17,
    "start_time": "2023-04-29T10:05:35.231Z"
   },
   {
    "duration": 104,
    "start_time": "2023-04-29T10:05:35.250Z"
   },
   {
    "duration": 12,
    "start_time": "2023-04-29T10:05:35.356Z"
   },
   {
    "duration": 27,
    "start_time": "2023-04-29T10:05:35.369Z"
   },
   {
    "duration": 11,
    "start_time": "2023-04-29T10:05:35.398Z"
   },
   {
    "duration": 7,
    "start_time": "2023-04-29T10:05:35.410Z"
   },
   {
    "duration": 25,
    "start_time": "2023-04-29T10:05:35.419Z"
   },
   {
    "duration": 47,
    "start_time": "2023-04-29T10:05:35.445Z"
   },
   {
    "duration": 4,
    "start_time": "2023-04-29T10:05:35.494Z"
   },
   {
    "duration": 24,
    "start_time": "2023-04-29T10:05:35.499Z"
   },
   {
    "duration": 4,
    "start_time": "2023-04-29T10:05:35.525Z"
   },
   {
    "duration": 17,
    "start_time": "2023-04-29T10:05:35.530Z"
   },
   {
    "duration": 4,
    "start_time": "2023-04-29T10:05:35.548Z"
   },
   {
    "duration": 6,
    "start_time": "2023-04-29T10:05:35.554Z"
   },
   {
    "duration": 41,
    "start_time": "2023-04-29T10:05:35.562Z"
   },
   {
    "duration": 361,
    "start_time": "2023-04-29T10:05:35.605Z"
   },
   {
    "duration": 0,
    "start_time": "2023-04-29T10:05:35.968Z"
   },
   {
    "duration": 0,
    "start_time": "2023-04-29T10:05:35.969Z"
   },
   {
    "duration": 0,
    "start_time": "2023-04-29T10:05:35.971Z"
   },
   {
    "duration": 0,
    "start_time": "2023-04-29T10:05:35.972Z"
   },
   {
    "duration": 0,
    "start_time": "2023-04-29T10:05:35.974Z"
   },
   {
    "duration": 0,
    "start_time": "2023-04-29T10:05:35.975Z"
   },
   {
    "duration": 0,
    "start_time": "2023-04-29T10:05:35.976Z"
   },
   {
    "duration": 0,
    "start_time": "2023-04-29T10:05:35.993Z"
   },
   {
    "duration": 0,
    "start_time": "2023-04-29T10:05:35.994Z"
   },
   {
    "duration": 0,
    "start_time": "2023-04-29T10:05:35.995Z"
   },
   {
    "duration": 0,
    "start_time": "2023-04-29T10:05:35.996Z"
   },
   {
    "duration": 0,
    "start_time": "2023-04-29T10:05:35.999Z"
   },
   {
    "duration": 0,
    "start_time": "2023-04-29T10:05:36.000Z"
   },
   {
    "duration": 0,
    "start_time": "2023-04-29T10:05:36.002Z"
   },
   {
    "duration": 119,
    "start_time": "2023-04-29T10:06:25.188Z"
   },
   {
    "duration": 216,
    "start_time": "2023-04-29T10:06:34.397Z"
   },
   {
    "duration": 142,
    "start_time": "2023-04-29T10:06:57.807Z"
   },
   {
    "duration": 158,
    "start_time": "2023-04-29T10:07:39.274Z"
   },
   {
    "duration": 169,
    "start_time": "2023-04-29T10:09:43.069Z"
   },
   {
    "duration": 9,
    "start_time": "2023-04-29T10:10:19.833Z"
   },
   {
    "duration": 9,
    "start_time": "2023-04-29T10:10:23.753Z"
   },
   {
    "duration": 154,
    "start_time": "2023-04-29T10:10:25.948Z"
   },
   {
    "duration": 180,
    "start_time": "2023-04-29T10:11:53.804Z"
   },
   {
    "duration": 233,
    "start_time": "2023-04-29T10:12:07.862Z"
   },
   {
    "duration": 24,
    "start_time": "2023-04-29T10:12:42.273Z"
   },
   {
    "duration": 24,
    "start_time": "2023-04-29T10:12:52.532Z"
   },
   {
    "duration": 11,
    "start_time": "2023-04-29T10:13:28.222Z"
   },
   {
    "duration": 30,
    "start_time": "2023-04-29T10:14:08.260Z"
   },
   {
    "duration": 6,
    "start_time": "2023-04-29T10:15:38.138Z"
   },
   {
    "duration": 10,
    "start_time": "2023-04-29T10:15:57.188Z"
   },
   {
    "duration": 183,
    "start_time": "2023-04-29T10:19:42.238Z"
   },
   {
    "duration": 1170,
    "start_time": "2023-04-29T10:21:13.661Z"
   },
   {
    "duration": 236,
    "start_time": "2023-04-29T10:21:23.480Z"
   },
   {
    "duration": 19,
    "start_time": "2023-04-29T10:23:54.724Z"
   },
   {
    "duration": 241,
    "start_time": "2023-04-29T10:24:12.571Z"
   },
   {
    "duration": 212,
    "start_time": "2023-04-29T10:25:07.575Z"
   },
   {
    "duration": 355,
    "start_time": "2023-04-29T10:25:24.218Z"
   },
   {
    "duration": 255,
    "start_time": "2023-04-29T10:26:24.478Z"
   },
   {
    "duration": 247,
    "start_time": "2023-04-29T10:26:47.009Z"
   },
   {
    "duration": 228,
    "start_time": "2023-04-29T10:27:56.753Z"
   },
   {
    "duration": 257,
    "start_time": "2023-04-29T10:29:13.802Z"
   },
   {
    "duration": 269,
    "start_time": "2023-04-29T10:30:11.663Z"
   },
   {
    "duration": 317,
    "start_time": "2023-04-29T10:30:27.420Z"
   },
   {
    "duration": 145,
    "start_time": "2023-04-29T10:31:06.929Z"
   },
   {
    "duration": 168,
    "start_time": "2023-04-29T10:32:06.567Z"
   },
   {
    "duration": 188,
    "start_time": "2023-04-29T10:32:37.211Z"
   },
   {
    "duration": 139,
    "start_time": "2023-04-29T10:32:59.357Z"
   },
   {
    "duration": 249,
    "start_time": "2023-04-29T10:34:00.111Z"
   },
   {
    "duration": 149,
    "start_time": "2023-04-29T10:34:16.122Z"
   },
   {
    "duration": 148,
    "start_time": "2023-04-29T10:35:30.434Z"
   },
   {
    "duration": 180,
    "start_time": "2023-04-29T10:35:55.230Z"
   },
   {
    "duration": 151,
    "start_time": "2023-04-29T10:36:11.426Z"
   },
   {
    "duration": 1441,
    "start_time": "2023-04-29T11:26:25.107Z"
   },
   {
    "duration": 16,
    "start_time": "2023-04-29T11:26:26.550Z"
   },
   {
    "duration": 19,
    "start_time": "2023-04-29T11:26:26.568Z"
   },
   {
    "duration": 15,
    "start_time": "2023-04-29T11:26:26.589Z"
   },
   {
    "duration": 11,
    "start_time": "2023-04-29T11:26:26.607Z"
   },
   {
    "duration": 15,
    "start_time": "2023-04-29T11:26:26.620Z"
   },
   {
    "duration": 4,
    "start_time": "2023-04-29T11:26:26.636Z"
   },
   {
    "duration": 17,
    "start_time": "2023-04-29T11:26:26.641Z"
   },
   {
    "duration": 34,
    "start_time": "2023-04-29T11:26:26.660Z"
   },
   {
    "duration": 9,
    "start_time": "2023-04-29T11:26:26.696Z"
   },
   {
    "duration": 11,
    "start_time": "2023-04-29T11:26:26.707Z"
   },
   {
    "duration": 4,
    "start_time": "2023-04-29T11:26:26.720Z"
   },
   {
    "duration": 19,
    "start_time": "2023-04-29T11:26:26.726Z"
   },
   {
    "duration": 31,
    "start_time": "2023-04-29T11:26:26.748Z"
   },
   {
    "duration": 31,
    "start_time": "2023-04-29T11:26:26.780Z"
   },
   {
    "duration": 6,
    "start_time": "2023-04-29T11:26:26.813Z"
   },
   {
    "duration": 11,
    "start_time": "2023-04-29T11:26:26.821Z"
   },
   {
    "duration": 6,
    "start_time": "2023-04-29T11:26:26.833Z"
   },
   {
    "duration": 6,
    "start_time": "2023-04-29T11:26:26.840Z"
   },
   {
    "duration": 6,
    "start_time": "2023-04-29T11:26:26.848Z"
   },
   {
    "duration": 36,
    "start_time": "2023-04-29T11:26:26.855Z"
   },
   {
    "duration": 10,
    "start_time": "2023-04-29T11:26:26.893Z"
   },
   {
    "duration": 7,
    "start_time": "2023-04-29T11:26:26.905Z"
   },
   {
    "duration": 9,
    "start_time": "2023-04-29T11:26:26.914Z"
   },
   {
    "duration": 9,
    "start_time": "2023-04-29T11:26:26.925Z"
   },
   {
    "duration": 6,
    "start_time": "2023-04-29T11:26:26.936Z"
   },
   {
    "duration": 10,
    "start_time": "2023-04-29T11:26:26.944Z"
   },
   {
    "duration": 3,
    "start_time": "2023-04-29T11:26:26.955Z"
   },
   {
    "duration": 40,
    "start_time": "2023-04-29T11:26:26.959Z"
   },
   {
    "duration": 4,
    "start_time": "2023-04-29T11:26:27.000Z"
   },
   {
    "duration": 23,
    "start_time": "2023-04-29T11:26:27.006Z"
   },
   {
    "duration": 77,
    "start_time": "2023-04-29T11:26:27.031Z"
   },
   {
    "duration": 20,
    "start_time": "2023-04-29T11:26:27.111Z"
   },
   {
    "duration": 24,
    "start_time": "2023-04-29T11:26:27.133Z"
   },
   {
    "duration": 38,
    "start_time": "2023-04-29T11:26:27.159Z"
   },
   {
    "duration": 19,
    "start_time": "2023-04-29T11:26:27.198Z"
   },
   {
    "duration": 14,
    "start_time": "2023-04-29T11:26:27.219Z"
   },
   {
    "duration": 6,
    "start_time": "2023-04-29T11:26:27.235Z"
   },
   {
    "duration": 7,
    "start_time": "2023-04-29T11:26:27.242Z"
   },
   {
    "duration": 48,
    "start_time": "2023-04-29T11:26:27.250Z"
   },
   {
    "duration": 6,
    "start_time": "2023-04-29T11:26:27.303Z"
   },
   {
    "duration": 7,
    "start_time": "2023-04-29T11:26:27.310Z"
   },
   {
    "duration": 8,
    "start_time": "2023-04-29T11:26:27.318Z"
   },
   {
    "duration": 4,
    "start_time": "2023-04-29T11:26:27.328Z"
   },
   {
    "duration": 11,
    "start_time": "2023-04-29T11:26:27.334Z"
   },
   {
    "duration": 10,
    "start_time": "2023-04-29T11:26:27.347Z"
   },
   {
    "duration": 47,
    "start_time": "2023-04-29T11:26:27.359Z"
   },
   {
    "duration": 7,
    "start_time": "2023-04-29T11:26:27.407Z"
   },
   {
    "duration": 9,
    "start_time": "2023-04-29T11:26:27.416Z"
   },
   {
    "duration": 5,
    "start_time": "2023-04-29T11:26:27.427Z"
   },
   {
    "duration": 8,
    "start_time": "2023-04-29T11:26:27.435Z"
   },
   {
    "duration": 10,
    "start_time": "2023-04-29T11:26:27.444Z"
   },
   {
    "duration": 60,
    "start_time": "2023-04-29T11:26:27.457Z"
   },
   {
    "duration": 6,
    "start_time": "2023-04-29T11:26:27.519Z"
   },
   {
    "duration": 17,
    "start_time": "2023-04-29T11:26:27.527Z"
   },
   {
    "duration": 205,
    "start_time": "2023-04-29T11:26:27.546Z"
   },
   {
    "duration": 12,
    "start_time": "2023-04-29T11:26:27.752Z"
   },
   {
    "duration": 385,
    "start_time": "2023-04-29T11:26:27.766Z"
   },
   {
    "duration": 14,
    "start_time": "2023-04-29T11:26:28.154Z"
   },
   {
    "duration": 45,
    "start_time": "2023-04-29T11:26:28.169Z"
   },
   {
    "duration": 8,
    "start_time": "2023-04-29T11:26:28.216Z"
   },
   {
    "duration": 21,
    "start_time": "2023-04-29T11:26:28.226Z"
   },
   {
    "duration": 27,
    "start_time": "2023-04-29T11:26:28.248Z"
   },
   {
    "duration": 17,
    "start_time": "2023-04-29T11:26:28.277Z"
   },
   {
    "duration": 23,
    "start_time": "2023-04-29T11:26:28.296Z"
   },
   {
    "duration": 11,
    "start_time": "2023-04-29T11:26:28.321Z"
   },
   {
    "duration": 103,
    "start_time": "2023-04-29T11:26:28.333Z"
   },
   {
    "duration": 13,
    "start_time": "2023-04-29T11:26:28.438Z"
   },
   {
    "duration": 17,
    "start_time": "2023-04-29T11:26:28.453Z"
   },
   {
    "duration": 53,
    "start_time": "2023-04-29T11:26:28.472Z"
   },
   {
    "duration": 5,
    "start_time": "2023-04-29T11:26:28.526Z"
   },
   {
    "duration": 42,
    "start_time": "2023-04-29T11:26:28.532Z"
   },
   {
    "duration": 22,
    "start_time": "2023-04-29T11:26:28.576Z"
   },
   {
    "duration": 3,
    "start_time": "2023-04-29T11:26:28.600Z"
   },
   {
    "duration": 18,
    "start_time": "2023-04-29T11:26:28.605Z"
   },
   {
    "duration": 5,
    "start_time": "2023-04-29T11:26:28.625Z"
   },
   {
    "duration": 19,
    "start_time": "2023-04-29T11:26:28.631Z"
   },
   {
    "duration": 4,
    "start_time": "2023-04-29T11:26:28.652Z"
   },
   {
    "duration": 39,
    "start_time": "2023-04-29T11:26:28.658Z"
   },
   {
    "duration": 17,
    "start_time": "2023-04-29T11:26:28.700Z"
   },
   {
    "duration": 170,
    "start_time": "2023-04-29T11:26:28.718Z"
   },
   {
    "duration": 222,
    "start_time": "2023-04-29T11:26:28.891Z"
   },
   {
    "duration": 175,
    "start_time": "2023-04-29T11:26:29.114Z"
   },
   {
    "duration": 8,
    "start_time": "2023-04-29T11:26:29.291Z"
   },
   {
    "duration": 164,
    "start_time": "2023-04-29T11:26:29.301Z"
   },
   {
    "duration": 10,
    "start_time": "2023-04-29T11:26:29.467Z"
   },
   {
    "duration": 16,
    "start_time": "2023-04-29T11:26:29.478Z"
   },
   {
    "duration": 203,
    "start_time": "2023-04-29T11:26:29.495Z"
   },
   {
    "duration": 21,
    "start_time": "2023-04-29T11:26:29.699Z"
   },
   {
    "duration": 246,
    "start_time": "2023-04-29T11:26:29.722Z"
   },
   {
    "duration": 281,
    "start_time": "2023-04-29T11:26:29.969Z"
   },
   {
    "duration": 192,
    "start_time": "2023-04-29T11:26:30.252Z"
   },
   {
    "duration": 186,
    "start_time": "2023-04-29T11:26:30.446Z"
   },
   {
    "duration": 200,
    "start_time": "2023-04-29T11:26:30.634Z"
   },
   {
    "duration": 667,
    "start_time": "2023-04-29T11:45:50.029Z"
   }
  ],
  "colab": {
   "name": "DA+. Сборный проект 1. Шаблон (1).ipynb",
   "provenance": []
  },
  "kernelspec": {
   "display_name": "Python 3 (ipykernel)",
   "language": "python",
   "name": "python3"
  },
  "language_info": {
   "codemirror_mode": {
    "name": "ipython",
    "version": 3
   },
   "file_extension": ".py",
   "mimetype": "text/x-python",
   "name": "python",
   "nbconvert_exporter": "python",
   "pygments_lexer": "ipython3",
   "version": "3.11.3"
  },
  "toc": {
   "base_numbering": 1,
   "nav_menu": {},
   "number_sections": true,
   "sideBar": true,
   "skip_h1_title": true,
   "title_cell": "Table of Contents",
   "title_sidebar": "Contents",
   "toc_cell": false,
   "toc_position": {
    "height": "calc(100% - 180px)",
    "left": "10px",
    "top": "150px",
    "width": "178.92px"
   },
   "toc_section_display": true,
   "toc_window_display": true
  }
 },
 "nbformat": 4,
 "nbformat_minor": 4
}
